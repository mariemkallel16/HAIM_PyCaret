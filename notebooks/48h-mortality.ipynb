{
 "cells": [
  {
   "cell_type": "markdown",
   "id": "c4139f23",
   "metadata": {},
   "source": [
    "# Mortality Prediction\n",
    "\n",
    "\n",
    "@References : Soenksen, L.R., Ma, Y., Zeng, C. et al. Integrated multimodal artificial intelligence framework for healthcare applications. npj Digit. Med. 5, 149 (2022). https://doi.org/10.1038/s41746-022-00689-4\n",
    "\n",
    "In this notebook, the task is to predict 48 hour mortality using the CSV embeddings file\n",
    "\n"
   ]
  },
  {
   "cell_type": "markdown",
   "id": "8e9e247e",
   "metadata": {},
   "source": [
    "## Introduction\n"
   ]
  },
  {
   "attachments": {},
   "cell_type": "markdown",
   "id": "321d5924",
   "metadata": {},
   "source": [
    "The goal of this part of the study is to build models to predict the probability that a patient will expire during the next 48 h as a binary classification problem: expired ≤48 h (1) or otherwise (0). In the case of a patient whose hospital exit status is not expiration, the class label is set to 0. A patient can acquire different target class labels at different time points during their stay due to changes in status and proximity to the discharge or time of death. Similar to the length-of-stay modeling, each sample in this predictive task corresponds to a single patient-admission EHR time point where an X-ray image was obtained (N = 45,050).\n"
   ]
  },
  {
   "cell_type": "markdown",
   "id": "59600fd4",
   "metadata": {},
   "source": [
    "#### Imports"
   ]
  },
  {
   "cell_type": "code",
   "execution_count": 1,
   "id": "2d0990d5",
   "metadata": {},
   "outputs": [],
   "source": [
    "import os\n",
    "os.chdir('../')\n",
    "\n",
    "from pandas import read_csv\n",
    "\n",
    "from src.data import constants\n",
    "from src.data.dataset import HAIMDataset\n",
    "from src.evaluation.pycaret_evaluator import PyCaretEvaluator\n",
    "from src.utils.metric_scores import *"
   ]
  },
  {
   "cell_type": "markdown",
   "id": "645a1fe8",
   "metadata": {},
   "source": [
    "#### Read data from local source\n",
    "\n"
   ]
  },
  {
   "cell_type": "code",
   "execution_count": 2,
   "id": "a948c18c",
   "metadata": {},
   "outputs": [],
   "source": [
    "df = read_csv(constants.FILE_DF, nrows=constants.N_DATA)"
   ]
  },
  {
   "cell_type": "markdown",
   "id": "90a95053",
   "metadata": {},
   "source": [
    "#### Create a custom dataset for the HAIM experiment\n"
   ]
  },
  {
   "cell_type": "markdown",
   "id": "c2ff78fb",
   "metadata": {},
   "source": [
    "Build the target column for the task at hand, set the dataset specificities:  the ``haim_id`` as a ``global_id``, use all sources for prediction"
   ]
  },
  {
   "cell_type": "code",
   "execution_count": 3,
   "id": "239db8a3",
   "metadata": {},
   "outputs": [],
   "source": [
    "dataset = HAIMDataset(df,  \n",
    "                      constants.ALL_PREDICTORS, \n",
    "                      constants.ALL_MODALITIES, \n",
    "                      constants.MORTALITY, \n",
    "                      constants.IMG_ID, \n",
    "                      constants.GLOBAL_ID)"
   ]
  },
  {
   "cell_type": "markdown",
   "id": "114f173f",
   "metadata": {},
   "source": [
    "#### Set hyper-parameters"
   ]
  },
  {
   "cell_type": "code",
   "execution_count": 4,
   "id": "8d6cb174",
   "metadata": {},
   "outputs": [],
   "source": [
    "# Define the grid oh hyper-parameters for the tuning\n",
    "grid_hps = {'max_depth': [5, 6, 7, 8],\n",
    "            'n_estimators': [200, 300],\n",
    "            'learning_rate': [0.3, 0.1, 0.05],\n",
    "            }"
   ]
  },
  {
   "cell_type": "markdown",
   "id": "75fd10ab",
   "metadata": {},
   "source": [
    "### Model training and predictions using an XGBClassifier model with GridSearchCV and Hyperparameters optimization\n"
   ]
  },
  {
   "cell_type": "markdown",
   "id": "d04a4c63",
   "metadata": {},
   "source": [
    "The goal of this section of the notebook is to compute the following metrics:\n",
    "\n",
    "``ACCURACY_SCORE, BALANCED_ACCURACY_SCORE, SENSITIVITY, SPECIFICITY, AUC, BRIER SCORE, BINARY CROSS-ENTROPY``\n",
    "\n",
    "\n",
    "The\n",
    "hyperparameter combinations of individual XGBoost models were\n",
    "selected within each training loop using a ``fivefold cross-validated\n",
    "grid search`` on the training set (80%). This XGBoost ``tuning process``\n",
    "selected the ``maximum depth of the trees (5–8)``, the number of\n",
    "``estimators (200 or 300)``, and the ``learning rate (0.05, 0.1, 0.3)``\n",
    "according to the parameter value combination leading to the\n",
    "highest observed AUROC within the training loop \n",
    "\n",
    "\n",
    "As mentioned previously, all XGBoost models were trained ``five times with five different data splits`` to repeat the\n",
    "experiments and compute average metrics \n",
    "\n",
    "\n",
    "```Refer to page 8 of study``` : https://doi.org/10.1038/s41746-022-00689-4"
   ]
  },
  {
   "cell_type": "code",
   "execution_count": 5,
   "id": "726c2332",
   "metadata": {},
   "outputs": [
    {
     "name": "stderr",
     "output_type": "stream",
     "text": [
      "2024-10-04 13:54:33,961\tINFO worker.py:1777 -- Started a local Ray instance. View the dashboard at \u001b[1m\u001b[32mhttp://127.0.0.1:8265 \u001b[39m\u001b[22m\n"
     ]
    },
    {
     "name": "stdout",
     "output_type": "stream",
     "text": [
      "\u001b[36m(run_fold pid=631326)\u001b[0m Outer fold 1\n"
     ]
    },
    {
     "name": "stderr",
     "output_type": "stream",
     "text": [
      "\u001b[36m(raylet)\u001b[0m Spilled 3869 MiB, 2 objects, write throughput 589 MiB/s. Set RAY_verbose_spill_logs=0 to disable this message.\n",
      "\u001b[36m(raylet)\u001b[0m Spilled 7738 MiB, 4 objects, write throughput 583 MiB/s.\n",
      "\u001b[36m(raylet)\u001b[0m Spilled 11607 MiB, 5 objects, write throughput 579 MiB/s.\n",
      "Processing:   0%|          | 0/4 [00:00<?, ?it/s]\n"
     ]
    },
    {
     "name": "stdout",
     "output_type": "stream",
     "text": [
      "\u001b[36m(run_fold pid=631326)\u001b[0m Configuring PyCaret for outer fold 1\n"
     ]
    },
    {
     "name": "stderr",
     "output_type": "stream",
     "text": [
      "Processing:  25%|██▌       | 1/4 [00:02<00:08,  2.84s/it]\n",
      "Processing:  75%|███████▌  | 3/4 [13:23<04:57, 297.24s/it]\n",
      "                                                          \n"
     ]
    },
    {
     "name": "stdout",
     "output_type": "stream",
     "text": [
      "\u001b[36m(run_fold pid=631326)\u001b[0m       Accuracy     AUC  Recall   Prec.      F1   Kappa     MCC\n",
      "\u001b[36m(run_fold pid=631326)\u001b[0m Fold                                                          \n",
      "\u001b[36m(run_fold pid=631326)\u001b[0m 0       0.9806  0.9568  0.3675  0.8971  0.5214  0.5132  0.5673\n",
      "\u001b[36m(run_fold pid=631326)\u001b[0m 1       0.9846  0.9536  0.3897  0.8983  0.5436  0.5370  0.5861\n",
      "\u001b[36m(run_fold pid=631326)\u001b[0m 2       0.9844  0.9631  0.4082  0.9524  0.5714  0.5648  0.6181\n",
      "\u001b[36m(run_fold pid=631326)\u001b[0m 3       0.9813  0.9470  0.3772  0.9403  0.5385  0.5307  0.5892\n",
      "\u001b[36m(run_fold pid=631326)\u001b[0m 4       0.9832  0.9540  0.4177  0.9296  0.5764  0.5691  0.6170\n",
      "\u001b[36m(run_fold pid=631326)\u001b[0m Mean    0.9828  0.9549  0.3921  0.9235  0.5503  0.5430  0.5955\n",
      "\u001b[36m(run_fold pid=631326)\u001b[0m Std     0.0016  0.0052  0.0187  0.0223  0.0207  0.0211  0.0195\n",
      "\u001b[36m(run_fold pid=631326)\u001b[0m Tuning hyperparameters for model xgboost with custom grid using grid search\n",
      "\u001b[36m(run_fold pid=631326)\u001b[0m Transformation Pipeline and Model Successfully Saved\n",
      "\u001b[36m(run_fold pid=631326)\u001b[0m                        Model  Accuracy    AUC  ...      F1   Kappa     MCC\n",
      "\u001b[36m(run_fold pid=631326)\u001b[0m 0  Extreme Gradient Boosting    0.9819  0.971  ...  0.5699  0.5621  0.6103\n",
      "\u001b[36m(run_fold pid=631326)\u001b[0m \n",
      "\u001b[36m(run_fold pid=631326)\u001b[0m [1 rows x 8 columns]\n",
      "\u001b[36m(run_fold pid=631326)\u001b[0m Outer fold 2\n"
     ]
    },
    {
     "name": "stderr",
     "output_type": "stream",
     "text": [
      "\u001b[36m(raylet)\u001b[0m Spilled 19844 MiB, 11 objects, write throughput 498 MiB/s.\n",
      "Processing:   0%|          | 0/4 [00:00<?, ?it/s]\n"
     ]
    },
    {
     "name": "stdout",
     "output_type": "stream",
     "text": [
      "\u001b[36m(run_fold pid=631326)\u001b[0m Configuring PyCaret for outer fold 2\n"
     ]
    },
    {
     "name": "stderr",
     "output_type": "stream",
     "text": [
      "Processing:  25%|██▌       | 1/4 [00:02<00:08,  2.78s/it]\n",
      "Processing:  75%|███████▌  | 3/4 [13:04<04:50, 290.25s/it]\n",
      "                                                          \n"
     ]
    },
    {
     "name": "stdout",
     "output_type": "stream",
     "text": [
      "\u001b[36m(run_fold pid=631326)\u001b[0m       Accuracy     AUC  Recall   Prec.      F1   Kappa     MCC\n",
      "\u001b[36m(run_fold pid=631326)\u001b[0m Fold                                                          \n",
      "\u001b[36m(run_fold pid=631326)\u001b[0m 0       0.9801  0.9662  0.3846  0.9589  0.5490  0.5407  0.6006\n",
      "\u001b[36m(run_fold pid=631326)\u001b[0m 1       0.9854  0.9470  0.4046  0.8983  0.5579  0.5516  0.5975\n",
      "\u001b[36m(run_fold pid=631326)\u001b[0m 2       0.9820  0.9571  0.3469  0.8644  0.4951  0.4877  0.5412\n",
      "\u001b[36m(run_fold pid=631326)\u001b[0m 3       0.9825  0.9588  0.4438  0.9146  0.5976  0.5898  0.6304\n",
      "\u001b[36m(run_fold pid=631326)\u001b[0m 4       0.9846  0.9611  0.4333  0.9420  0.5936  0.5868  0.6333\n",
      "\u001b[36m(run_fold pid=631326)\u001b[0m Mean    0.9829  0.9580  0.4027  0.9157  0.5587  0.5513  0.6006\n",
      "\u001b[36m(run_fold pid=631326)\u001b[0m Std     0.0019  0.0063  0.0348  0.0331  0.0371  0.0372  0.0332\n",
      "\u001b[36m(run_fold pid=631326)\u001b[0m Tuning hyperparameters for model xgboost with custom grid using grid search\n",
      "\u001b[36m(run_fold pid=631326)\u001b[0m Transformation Pipeline and Model Successfully Saved\n",
      "\u001b[36m(run_fold pid=631326)\u001b[0m                        Model  Accuracy     AUC  ...      F1   Kappa     MCC\n",
      "\u001b[36m(run_fold pid=631326)\u001b[0m 0  Extreme Gradient Boosting    0.9824  0.9648  ...  0.5644  0.5568  0.6088\n",
      "\u001b[36m(run_fold pid=631326)\u001b[0m \n",
      "\u001b[36m(run_fold pid=631326)\u001b[0m [1 rows x 8 columns]\n",
      "\u001b[36m(run_fold pid=631326)\u001b[0m Outer fold 3\n"
     ]
    },
    {
     "name": "stderr",
     "output_type": "stream",
     "text": [
      "Processing:   0%|          | 0/4 [00:00<?, ?it/s]\n"
     ]
    },
    {
     "name": "stdout",
     "output_type": "stream",
     "text": [
      "\u001b[36m(run_fold pid=631326)\u001b[0m Configuring PyCaret for outer fold 3\n"
     ]
    },
    {
     "name": "stderr",
     "output_type": "stream",
     "text": [
      "Processing:  25%|██▌       | 1/4 [00:02<00:08,  2.87s/it]\n",
      "Processing:  75%|███████▌  | 3/4 [12:36<04:39, 279.82s/it]\n",
      "                                                          \n"
     ]
    },
    {
     "name": "stdout",
     "output_type": "stream",
     "text": [
      "\u001b[36m(run_fold pid=631326)\u001b[0m       Accuracy     AUC  Recall   Prec.      F1   Kappa     MCC\n",
      "\u001b[36m(run_fold pid=631326)\u001b[0m Fold                                                          \n",
      "\u001b[36m(run_fold pid=631326)\u001b[0m 0       0.9792  0.9500  0.3062  0.8448  0.4495  0.4413  0.5014\n",
      "\u001b[36m(run_fold pid=631326)\u001b[0m 1       0.9863  0.9555  0.4730  0.9859  0.6393  0.6332  0.6780\n",
      "\u001b[36m(run_fold pid=631326)\u001b[0m 2       0.9844  0.9686  0.4615  0.9231  0.6154  0.6083  0.6467\n",
      "\u001b[36m(run_fold pid=631326)\u001b[0m 3       0.9814  0.9443  0.4057  0.9595  0.5703  0.5624  0.6175\n",
      "\u001b[36m(run_fold pid=631326)\u001b[0m 4       0.9814  0.9446  0.3113  0.9400  0.4677  0.4606  0.5352\n",
      "\u001b[36m(run_fold pid=631326)\u001b[0m Mean    0.9826  0.9526  0.3915  0.9307  0.5484  0.5412  0.5958\n",
      "\u001b[36m(run_fold pid=631326)\u001b[0m Std     0.0025  0.0090  0.0713  0.0477  0.0768  0.0773  0.0669\n",
      "\u001b[36m(run_fold pid=631326)\u001b[0m Tuning hyperparameters for model xgboost with custom grid using grid search\n",
      "\u001b[36m(run_fold pid=631326)\u001b[0m Transformation Pipeline and Model Successfully Saved\n",
      "\u001b[36m(run_fold pid=631326)\u001b[0m                        Model  Accuracy    AUC  ...     F1   Kappa     MCC\n",
      "\u001b[36m(run_fold pid=631326)\u001b[0m 0  Extreme Gradient Boosting     0.985  0.974  ...  0.624  0.6173  0.6601\n",
      "\u001b[36m(run_fold pid=631326)\u001b[0m \n",
      "\u001b[36m(run_fold pid=631326)\u001b[0m [1 rows x 8 columns]\n",
      "\u001b[36m(run_fold pid=631326)\u001b[0m Outer fold 4\n"
     ]
    },
    {
     "name": "stderr",
     "output_type": "stream",
     "text": [
      "Processing:   0%|          | 0/4 [00:00<?, ?it/s]\n"
     ]
    },
    {
     "name": "stdout",
     "output_type": "stream",
     "text": [
      "\u001b[36m(run_fold pid=631326)\u001b[0m Configuring PyCaret for outer fold 4\n"
     ]
    },
    {
     "name": "stderr",
     "output_type": "stream",
     "text": [
      "Processing:  25%|██▌       | 1/4 [00:02<00:08,  2.90s/it]\n",
      "Processing:  75%|███████▌  | 3/4 [12:37<04:40, 280.19s/it]\n",
      "                                                          \n"
     ]
    },
    {
     "name": "stdout",
     "output_type": "stream",
     "text": [
      "\u001b[36m(run_fold pid=631326)\u001b[0m       Accuracy     AUC  Recall   Prec.      F1   Kappa     MCC\n",
      "\u001b[36m(run_fold pid=631326)\u001b[0m Fold                                                          \n",
      "\u001b[36m(run_fold pid=631326)\u001b[0m 0       0.9825  0.9562  0.3812  0.9683  0.5471  0.5399  0.6018\n",
      "\u001b[36m(run_fold pid=631326)\u001b[0m 1       0.9849  0.9665  0.4286  0.9545  0.5915  0.5850  0.6343\n",
      "\u001b[36m(run_fold pid=631326)\u001b[0m 2       0.9806  0.9432  0.3013  0.9400  0.4563  0.4491  0.5263\n",
      "\u001b[36m(run_fold pid=631326)\u001b[0m 3       0.9811  0.9359  0.3943  0.9583  0.5587  0.5508  0.6083\n",
      "\u001b[36m(run_fold pid=631326)\u001b[0m 4       0.9828  0.9433  0.3733  0.9180  0.5308  0.5236  0.5795\n",
      "\u001b[36m(run_fold pid=631326)\u001b[0m Mean    0.9824  0.9490  0.3757  0.9478  0.5369  0.5297  0.5900\n",
      "\u001b[36m(run_fold pid=631326)\u001b[0m Std     0.0015  0.0109  0.0417  0.0174  0.0449  0.0450  0.0363\n",
      "\u001b[36m(run_fold pid=631326)\u001b[0m Tuning hyperparameters for model xgboost with custom grid using grid search\n",
      "\u001b[36m(run_fold pid=631326)\u001b[0m Transformation Pipeline and Model Successfully Saved\n",
      "\u001b[36m(run_fold pid=631326)\u001b[0m                        Model  Accuracy     AUC  ...      F1   Kappa     MCC\n",
      "\u001b[36m(run_fold pid=631326)\u001b[0m 0  Extreme Gradient Boosting    0.9837  0.9785  ...  0.5905  0.5833  0.6267\n",
      "\u001b[36m(run_fold pid=631326)\u001b[0m \n",
      "\u001b[36m(run_fold pid=631326)\u001b[0m [1 rows x 8 columns]\n",
      "\u001b[36m(run_fold pid=631326)\u001b[0m Outer fold 5\n"
     ]
    },
    {
     "name": "stderr",
     "output_type": "stream",
     "text": [
      "Processing:   0%|          | 0/4 [00:00<?, ?it/s]\n"
     ]
    },
    {
     "name": "stdout",
     "output_type": "stream",
     "text": [
      "\u001b[36m(run_fold pid=631326)\u001b[0m Configuring PyCaret for outer fold 5\n"
     ]
    },
    {
     "name": "stderr",
     "output_type": "stream",
     "text": [
      "Processing:  25%|██▌       | 1/4 [00:02<00:08,  2.89s/it]\n",
      "Processing:  75%|███████▌  | 3/4 [12:36<04:39, 279.90s/it]\n",
      "                                                          \n"
     ]
    },
    {
     "name": "stdout",
     "output_type": "stream",
     "text": [
      "\u001b[36m(run_fold pid=631326)\u001b[0m       Accuracy     AUC  Recall   Prec.      F1   Kappa     MCC\n",
      "\u001b[36m(run_fold pid=631326)\u001b[0m Fold                                                          \n",
      "\u001b[36m(run_fold pid=631326)\u001b[0m 0       0.9811  0.9537  0.3636  0.9375  0.5240  0.5163  0.5775\n",
      "\u001b[36m(run_fold pid=631326)\u001b[0m 1       0.9849  0.9607  0.4345  0.9265  0.5915  0.5849  0.6289\n",
      "\u001b[36m(run_fold pid=631326)\u001b[0m 2       0.9807  0.9553  0.3765  0.9275  0.5356  0.5275  0.5843\n",
      "\u001b[36m(run_fold pid=631326)\u001b[0m 3       0.9811  0.9491  0.3681  0.9091  0.5240  0.5161  0.5719\n",
      "\u001b[36m(run_fold pid=631326)\u001b[0m 4       0.9837  0.9530  0.4214  0.9710  0.5877  0.5807  0.6341\n",
      "\u001b[36m(run_fold pid=631326)\u001b[0m Mean    0.9823  0.9544  0.3928  0.9343  0.5526  0.5451  0.5993\n",
      "\u001b[36m(run_fold pid=631326)\u001b[0m Std     0.0017  0.0038  0.0293  0.0205  0.0306  0.0311  0.0266\n",
      "\u001b[36m(run_fold pid=631326)\u001b[0m Tuning hyperparameters for model xgboost with custom grid using grid search\n",
      "\u001b[36m(run_fold pid=631326)\u001b[0m Transformation Pipeline and Model Successfully Saved\n",
      "\u001b[36m(run_fold pid=631326)\u001b[0m                        Model  Accuracy     AUC  ...      F1   Kappa     MCC\n",
      "\u001b[36m(run_fold pid=631326)\u001b[0m 0  Extreme Gradient Boosting    0.9853  0.9745  ...  0.6024  0.5959  0.6407\n",
      "\u001b[36m(run_fold pid=631326)\u001b[0m \n",
      "\u001b[36m(run_fold pid=631326)\u001b[0m [1 rows x 8 columns]\n"
     ]
    },
    {
     "name": "stderr",
     "output_type": "stream",
     "text": [
      "\u001b[33m(raylet)\u001b[0m [2024-10-07 08:24:39,646 E 631211 631211] (raylet) node_manager.cc:3065: 1 Workers (tasks / actors) killed due to memory pressure (OOM), 0 Workers crashed due to other reasons at node (ID: 4a76051cba771f3e77cb11a71acab1dc5b4773f9ce3f3946b8921878, IP: 10.44.86.85) over the last time period. To see more information about the Workers killed on this node, use `ray logs raylet.out -ip 10.44.86.85`\n",
      "\u001b[33m(raylet)\u001b[0m \n",
      "\u001b[33m(raylet)\u001b[0m Refer to the documentation on how to address the out of memory issue: https://docs.ray.io/en/latest/ray-core/scheduling/ray-oom-prevention.html. Consider provisioning more memory on this node or reducing task parallelism by requesting more CPUs per task. To adjust the kill threshold, set the environment variable `RAY_memory_usage_threshold` when starting Ray. To disable worker killing, set the environment variable `RAY_memory_monitor_refresh_ms` to zero.\n"
     ]
    },
    {
     "name": "stdout",
     "output_type": "stream",
     "text": [
      "Final metrics table:\n",
      "     Metric     Mean   Std Dev\n",
      "0  Accuracy  0.98066  0.001385\n",
      "1       AUC  0.96012  0.004346\n",
      "2    Recall  0.35174  0.034586\n",
      "3     Prec.  0.94114  0.021459\n",
      "4        F1  0.51146  0.038680\n",
      "5     Kappa  0.50372  0.038772\n",
      "6       MCC  0.56860  0.032578\n"
     ]
    }
   ],
   "source": [
    "# Initialize the PyCaret Evaluator\n",
    "evaluator = PyCaretEvaluator(dataset=dataset, target=\"Mortality\", experiment_name=\"CP_Mortality\", filepath=\"./results/mortality\")\n",
    "\n",
    "# Model training\n",
    "evaluator.run_experiment(\n",
    "    train_size=0.8,\n",
    "    fold=5,\n",
    "    fold_strategy='kfold',\n",
    "    outer_fold=5,\n",
    "    outer_strategy='kfold',\n",
    "    session_id=42,\n",
    "    model='xgboost',\n",
    "    optimize='AUC',\n",
    "    custom_grid=grid_hps\n",
    ")"
   ]
  }
 ],
 "metadata": {
  "kernelspec": {
   "display_name": "Python (pycaret_env)",
   "language": "python",
   "name": "pycaret_env"
  },
  "language_info": {
   "codemirror_mode": {
    "name": "ipython",
    "version": 3
   },
   "file_extension": ".py",
   "mimetype": "text/x-python",
   "name": "python",
   "nbconvert_exporter": "python",
   "pygments_lexer": "ipython3",
   "version": "3.11.9"
  }
 },
 "nbformat": 4,
 "nbformat_minor": 5
}
