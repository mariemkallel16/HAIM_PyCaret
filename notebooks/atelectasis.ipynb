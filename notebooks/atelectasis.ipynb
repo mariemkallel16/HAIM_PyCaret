{
 "cells": [
  {
   "cell_type": "markdown",
   "id": "c4139f23",
   "metadata": {},
   "source": [
    "# Pathology prediction (fracture)\n",
    "\n",
    "@References : Soenksen, L.R., Ma, Y., Zeng, C. et al. Integrated multimodal artificial intelligence framework for healthcare applications. npj Digit. Med. 5, 149 (2022). https://doi.org/10.1038/s41746-022-00689-4\n",
    "\n",
    "In this notebook, the task is to predict the Atelectasis pathology using the CSV embeddings file\n",
    "\n"
   ]
  },
  {
   "cell_type": "markdown",
   "id": "8e9e247e",
   "metadata": {},
   "source": [
    "## Introduction\n"
   ]
  },
  {
   "attachments": {},
   "cell_type": "markdown",
   "id": "321d5924",
   "metadata": {},
   "source": [
    "Radiology notes were processed to determine if each of the pathologies was explicitly confirmed as present (value = 1), explicitly confirmed as absent (value = 0), inconclusive in the study (value = −1), or not explored (no value).\n",
    "\n",
    "Selected samples : 0 or 1 values (removing the rest from the training and testing data).\n",
    "\n",
    "Excluded variables : the unstructured radiology notes component (E_rad ) from the allowable input to avoid potential overfitting or misrepresentations of real predictive value.\n",
    "\n",
    "The model is based on binary classification for each target chest pathology.\n",
    "\n",
    "Final sample size for the Atelectasis pathology is : (N = 15,213)"
   ]
  },
  {
   "cell_type": "markdown",
   "id": "59600fd4",
   "metadata": {},
   "source": [
    "#### Imports"
   ]
  },
  {
   "cell_type": "code",
   "execution_count": 1,
   "id": "2d0990d5",
   "metadata": {},
   "outputs": [],
   "source": [
    "import os\n",
    "os.chdir('../')\n",
    "\n",
    "from pandas import read_csv\n",
    "\n",
    "from src.data import constants\n",
    "from src.data.dataset import HAIMDataset\n",
    "from src.evaluation.pycaret_evaluator import PyCaretEvaluator\n",
    "from src.utils.metric_scores import *"
   ]
  },
  {
   "cell_type": "markdown",
   "id": "645a1fe8",
   "metadata": {},
   "source": [
    "#### Read data from local source\n",
    "\n"
   ]
  },
  {
   "cell_type": "code",
   "execution_count": 2,
   "id": "a948c18c",
   "metadata": {},
   "outputs": [],
   "source": [
    "df = read_csv(constants.FILE_DF, nrows=constants.N_DATA)"
   ]
  },
  {
   "cell_type": "markdown",
   "id": "90a95053",
   "metadata": {},
   "source": [
    "#### Create a custom dataset for the HAIM experiment\n"
   ]
  },
  {
   "cell_type": "markdown",
   "id": "ae705071",
   "metadata": {},
   "source": [
    "Build the target column for the task at hand, set the dataset specificities:  the ``haim_id`` as a ``global_id``, use all sources except ``radiology notes`` "
   ]
  },
  {
   "cell_type": "code",
   "execution_count": 3,
   "id": "239db8a3",
   "metadata": {},
   "outputs": [],
   "source": [
    "dataset = HAIMDataset(df,  \n",
    "                      constants.CHEST_PREDICTORS, \n",
    "                      constants.ALL_MODALITIES, \n",
    "                      constants.ATELECTASIS, \n",
    "                      constants.IMG_ID, \n",
    "                      constants.GLOBAL_ID)"
   ]
  },
  {
   "cell_type": "markdown",
   "id": "8a507d0a",
   "metadata": {},
   "source": [
    "#### Set hyper-parameters"
   ]
  },
  {
   "cell_type": "code",
   "execution_count": 4,
   "id": "b45ae204",
   "metadata": {},
   "outputs": [],
   "source": [
    "# Define the grid oh hyper-parameters for the tuning\n",
    "grid_hps = {'max_depth': [5, 6, 7, 8],\n",
    "            'n_estimators': [200, 300],\n",
    "            'learning_rate': [0.3, 0.1, 0.05],\n",
    "            }"
   ]
  },
  {
   "cell_type": "markdown",
   "id": "75fd10ab",
   "metadata": {},
   "source": [
    "### Model training and predictions using an XGBClassifier model with GridSearchCV and Hyperparameters optimization\n"
   ]
  },
  {
   "cell_type": "markdown",
   "id": "d04a4c63",
   "metadata": {},
   "source": [
    "The goal of this section of the notebook is to compute the following metrics:\n",
    "\n",
    "``ACCURACY_SCORE, BALANCED_ACCURACY_SCORE, SENSITIVITY, SPECIFICITY, AUC, BRIER SCORE, BINARY CROSS-ENTROPY``\n",
    "\n",
    "\n",
    "The\n",
    "hyperparameter combinations of individual XGBoost models were\n",
    "selected within each training loop using a ``fivefold cross-validated\n",
    "grid search`` on the training set (80%). This XGBoost ``tuning process``\n",
    "selected the ``maximum depth of the trees (5–8)``, the number of\n",
    "``estimators (200 or 300)``, and the ``learning rate (0.05, 0.1, 0.3)``\n",
    "according to the parameter value combination leading to the\n",
    "highest observed AUROC within the training loop \n",
    "\n",
    "\n",
    "As mentioned previously, all XGBoost models were trained ``five times with five different data splits`` to repeat the\n",
    "experiments and compute average metrics \n",
    "\n",
    "\n",
    "```Refer to page 8 of study``` : https://doi.org/10.1038/s41746-022-00689-4"
   ]
  },
  {
   "cell_type": "code",
   "execution_count": 5,
   "id": "726c2332",
   "metadata": {},
   "outputs": [
    {
     "name": "stderr",
     "output_type": "stream",
     "text": [
      "2024-09-30 11:46:44,093\tINFO worker.py:1777 -- Started a local Ray instance. View the dashboard at \u001b[1m\u001b[32mhttp://127.0.0.1:8265 \u001b[39m\u001b[22m\n"
     ]
    },
    {
     "name": "stdout",
     "output_type": "stream",
     "text": [
      "\u001b[36m(run_fold pid=18548)\u001b[0m Outer fold 1\n",
      "\u001b[36m(run_fold pid=18548)\u001b[0m Configuring PyCaret for outer fold 1\n",
      "\u001b[36m(run_fold pid=18529)\u001b[0m Outer fold 4\u001b[32m [repeated 3x across cluster] (Ray deduplicates logs by default. Set RAY_DEDUP_LOGS=0 to disable log deduplication, or see https://docs.ray.io/en/master/ray-observability/user-guides/configure-logging.html#log-deduplication for more options.)\u001b[0m\n"
     ]
    },
    {
     "name": "stderr",
     "output_type": "stream",
     "text": [
      "Processing:   0%|          | 0/4 [00:00<?, ?it/s]\n",
      "Processing:  25%|██▌       | 1/4 [00:01<00:04,  1.46s/it]\n",
      "Processing:   0%|          | 0/4 [00:00<?, ?it/s]\u001b[32m [repeated 3x across cluster]\u001b[0m\n",
      "Processing:  75%|███████▌  | 3/4 [04:43<01:44, 104.74s/it]\u001b[32m [repeated 4x across cluster]\u001b[0m\n",
      "Processing:  75%|███████▌  | 3/4 [04:48<01:46, 106.82s/it]\u001b[32m [repeated 3x across cluster]\u001b[0m\n",
      "                                                          \n"
     ]
    },
    {
     "name": "stdout",
     "output_type": "stream",
     "text": [
      "\u001b[36m(run_fold pid=18529)\u001b[0m       Accuracy     AUC  Recall   Prec.      F1   Kappa     MCC\n",
      "\u001b[36m(run_fold pid=18529)\u001b[0m Fold                                                          \n",
      "\u001b[36m(run_fold pid=18529)\u001b[0m 0       0.9810  0.8703  0.9995  0.9814  0.9904  0.3216  0.4193\n",
      "\u001b[36m(run_fold pid=18529)\u001b[0m 1       0.9748  0.7487  1.0000  0.9747  0.9872  0.2407  0.3699\n",
      "\u001b[36m(run_fold pid=18529)\u001b[0m 2       0.9789  0.7530  0.9995  0.9793  0.9893  0.3426  0.4391\n",
      "\u001b[36m(run_fold pid=18529)\u001b[0m 3       0.9810  0.7679  1.0000  0.9809  0.9904  0.3671  0.4741\n",
      "\u001b[36m(run_fold pid=18529)\u001b[0m 4       0.9810  0.8105  1.0000  0.9809  0.9904  0.2970  0.4176\n",
      "\u001b[36m(run_fold pid=18529)\u001b[0m Mean    0.9794  0.7901  0.9998  0.9795  0.9895  0.3138  0.4240\n",
      "\u001b[36m(run_fold pid=18529)\u001b[0m Std     0.0024  0.0457  0.0003  0.0025  0.0012  0.0433  0.0339\n",
      "\u001b[36m(run_fold pid=18529)\u001b[0m Configuring PyCaret for outer fold 4\u001b[32m [repeated 3x across cluster]\u001b[0m\n",
      "\u001b[36m(run_fold pid=18529)\u001b[0m Tuning hyperparameters for model xgboost with custom grid using grid search\n",
      "\u001b[36m(run_fold pid=18542)\u001b[0m 0       0.9784  0.8330  1.0000  0.9784  0.9891  0.2179  0.3497\n",
      "\u001b[36m(run_fold pid=18542)\u001b[0m 1       0.9779  0.8118  1.0000  0.9778  0.9888  0.3115  0.4295\n",
      "\u001b[36m(run_fold pid=18542)\u001b[0m 2       0.9774  0.7388  1.0000  0.9773  0.9885  0.2366  0.3663\n",
      "\u001b[36m(run_fold pid=18542)\u001b[0m 3       0.9836  0.8016  1.0000  0.9834  0.9916  0.4938  0.5725\n",
      "\u001b[36m(run_fold pid=18542)\u001b[0m 4       0.9810  0.8489  0.9995  0.9814  0.9904  0.2694  0.3728\n",
      "\u001b[36m(run_fold pid=18548)\u001b[0m 0       0.9790  0.7508     1.0  0.9789  0.9893  0.2498  0.3778\n",
      "\u001b[36m(run_fold pid=18548)\u001b[0m 1       0.9784  0.8391     1.0  0.9783  0.9890  0.3167  0.4337\n",
      "\u001b[36m(run_fold pid=18548)\u001b[0m 2       0.9805  0.7592     1.0  0.9804  0.9901  0.3999  0.4999\n",
      "\u001b[36m(run_fold pid=18548)\u001b[0m 3       0.9815  0.7752     1.0  0.9814  0.9906  0.3940  0.4953\n",
      "\u001b[36m(run_fold pid=18548)\u001b[0m 4       0.9841  0.7690     1.0  0.9840  0.9919  0.4309  0.5240\n",
      "\u001b[36m(run_fold pid=18533)\u001b[0m 0       0.9815  0.7683  0.9995  0.9819  0.9906  0.3937  0.4802\n",
      "\u001b[36m(run_fold pid=18533)\u001b[0m 1       0.9800  0.7871  1.0000  0.9799  0.9898  0.3333  0.4472\n",
      "\u001b[36m(run_fold pid=18533)\u001b[0m 2       0.9795  0.7991  0.9995  0.9798  0.9896  0.3484  0.4436\n",
      "\u001b[36m(run_fold pid=18533)\u001b[0m 3       0.9825  0.8296  1.0000  0.9824  0.9911  0.3651  0.4725\n",
      "\u001b[36m(run_fold pid=18533)\u001b[0m 4       0.9831  0.7460  1.0000  0.9830  0.9914  0.3480  0.4590\n",
      "\u001b[36m(run_fold pid=18533)\u001b[0m Transformation Pipeline and Model Successfully Saved\n",
      "\u001b[36m(run_fold pid=18533)\u001b[0m       Accuracy     AUC  Recall   Prec.      F1   Kappa     MCC\u001b[32m [repeated 3x across cluster]\u001b[0m\n",
      "\u001b[36m(run_fold pid=18533)\u001b[0m Fold                                                          \u001b[32m [repeated 3x across cluster]\u001b[0m\n",
      "\u001b[36m(run_fold pid=18533)\u001b[0m Mean    0.9813  0.7860  0.9998  0.9814  0.9905  0.3577  0.4605\u001b[32m [repeated 3x across cluster]\u001b[0m\n",
      "\u001b[36m(run_fold pid=18533)\u001b[0m Std     0.0014  0.0282  0.0003  0.0013  0.0007  0.0206  0.0141\u001b[32m [repeated 3x across cluster]\u001b[0m\n",
      "\u001b[36m(run_fold pid=18533)\u001b[0m Tuning hyperparameters for model xgboost with custom grid using grid search\u001b[32m [repeated 3x across cluster]\u001b[0m\n",
      "\u001b[36m(run_fold pid=18533)\u001b[0m                        Model  Accuracy     AUC  ...      F1   Kappa     MCC\n",
      "\u001b[36m(run_fold pid=18533)\u001b[0m 0  Extreme Gradient Boosting    0.9767  0.8117  ...  0.9881  0.3174  0.4343\n",
      "\u001b[36m(run_fold pid=18533)\u001b[0m \n",
      "\u001b[36m(run_fold pid=18533)\u001b[0m [1 rows x 8 columns]\n",
      "\u001b[36m(run_fold pid=18533)\u001b[0m Outer fold 5\n"
     ]
    },
    {
     "name": "stderr",
     "output_type": "stream",
     "text": [
      "Processing:   0%|          | 0/4 [00:00<?, ?it/s]\n",
      "                                                         \u001b[32m [repeated 3x across cluster]\u001b[0m\n"
     ]
    },
    {
     "name": "stdout",
     "output_type": "stream",
     "text": [
      "\u001b[36m(run_fold pid=18533)\u001b[0m Configuring PyCaret for outer fold 5\n"
     ]
    },
    {
     "name": "stderr",
     "output_type": "stream",
     "text": [
      "Processing:  25%|██▌       | 1/4 [00:01<00:03,  1.27s/it]\n"
     ]
    },
    {
     "name": "stdout",
     "output_type": "stream",
     "text": [
      "\u001b[36m(run_fold pid=18529)\u001b[0m Transformation Pipeline and Model Successfully Saved\n",
      "\u001b[36m(run_fold pid=18529)\u001b[0m                        Model  Accuracy     AUC  ...     F1   Kappa     MCC\n",
      "\u001b[36m(run_fold pid=18529)\u001b[0m 0  Extreme Gradient Boosting    0.9822  0.8288  ...  0.991  0.3805  0.4741\n",
      "\u001b[36m(run_fold pid=18529)\u001b[0m \n",
      "\u001b[36m(run_fold pid=18529)\u001b[0m [1 rows x 8 columns]\n"
     ]
    },
    {
     "name": "stderr",
     "output_type": "stream",
     "text": [
      "Processing:  75%|███████▌  | 3/4 [04:33<01:40, 100.99s/it]\n",
      "                                                          \n"
     ]
    },
    {
     "name": "stdout",
     "output_type": "stream",
     "text": [
      "\u001b[36m(run_fold pid=18533)\u001b[0m       Accuracy     AUC  Recall   Prec.      F1   Kappa     MCC\n",
      "\u001b[36m(run_fold pid=18533)\u001b[0m Fold                                                          \n",
      "\u001b[36m(run_fold pid=18533)\u001b[0m 0       0.9815  0.8252  1.0000  0.9814  0.9906  0.3940  0.4953\n",
      "\u001b[36m(run_fold pid=18533)\u001b[0m 1       0.9789  0.7933  1.0000  0.9788  0.9893  0.3814  0.4854\n",
      "\u001b[36m(run_fold pid=18533)\u001b[0m 2       0.9759  0.7660  1.0000  0.9758  0.9878  0.1422  0.2766\n",
      "\u001b[36m(run_fold pid=18533)\u001b[0m 3       0.9805  0.7736  1.0000  0.9804  0.9901  0.3608  0.4691\n",
      "\u001b[36m(run_fold pid=18533)\u001b[0m 4       0.9810  0.8219  0.9989  0.9819  0.9904  0.3211  0.4035\n",
      "\u001b[36m(run_fold pid=18533)\u001b[0m Mean    0.9796  0.7960  0.9998  0.9797  0.9896  0.3199  0.4260\n",
      "\u001b[36m(run_fold pid=18533)\u001b[0m Std     0.0020  0.0242  0.0004  0.0022  0.0010  0.0922  0.0813\n",
      "\u001b[36m(run_fold pid=18533)\u001b[0m Tuning hyperparameters for model xgboost with custom grid using grid search\n",
      "\u001b[36m(run_fold pid=18542)\u001b[0m Transformation Pipeline and Model Successfully Saved\n",
      "\u001b[36m(run_fold pid=18542)\u001b[0m                        Model  Accuracy     AUC  ...      F1   Kappa     MCC\n",
      "\u001b[36m(run_fold pid=18542)\u001b[0m 0  Extreme Gradient Boosting    0.9832  0.8217  ...  0.9915  0.4681  0.5528\n",
      "\u001b[36m(run_fold pid=18542)\u001b[0m \n",
      "\u001b[36m(run_fold pid=18542)\u001b[0m [1 rows x 8 columns]\n",
      "\u001b[36m(run_fold pid=18548)\u001b[0m Transformation Pipeline and Model Successfully Saved\n",
      "\u001b[36m(run_fold pid=18548)\u001b[0m                        Model  Accuracy     AUC  ...     F1   Kappa     MCC\n",
      "\u001b[36m(run_fold pid=18548)\u001b[0m 0  Extreme Gradient Boosting    0.9823  0.8552  ...  0.991  0.4314  0.5244\n",
      "\u001b[36m(run_fold pid=18548)\u001b[0m \n",
      "\u001b[36m(run_fold pid=18548)\u001b[0m [1 rows x 8 columns]\n",
      "\u001b[36m(run_fold pid=18533)\u001b[0m Transformation Pipeline and Model Successfully Saved\n",
      "\u001b[36m(run_fold pid=18533)\u001b[0m                        Model  Accuracy     AUC  ...      F1   Kappa     MCC\n",
      "\u001b[36m(run_fold pid=18533)\u001b[0m 0  Extreme Gradient Boosting    0.9836  0.8051  ...  0.9917  0.4619  0.5395\n",
      "\u001b[36m(run_fold pid=18533)\u001b[0m \n",
      "\u001b[36m(run_fold pid=18533)\u001b[0m [1 rows x 8 columns]\n",
      "Final metrics table:\n",
      "     Metric     Mean   Std Dev\n",
      "0  Accuracy  0.97988  0.001322\n",
      "1       AUC  0.82350  0.041820\n",
      "2    Recall  0.99978  0.000492\n",
      "3     Prec.  0.98000  0.001294\n",
      "4        F1  0.98980  0.000667\n",
      "5     Kappa  0.29238  0.072546\n",
      "6       MCC  0.40464  0.067127\n"
     ]
    }
   ],
   "source": [
    "# Initialize the PyCaret Evaluator\n",
    "evaluator = PyCaretEvaluator(dataset=dataset, target=\"Atelectasis\", experiment_name=\"CP_Atelectasis\", filepath=\"./results/atelectasis\")\n",
    "\n",
    "# Model training\n",
    "evaluator.run_experiment(\n",
    "    train_size=0.8,\n",
    "    fold=5,\n",
    "    fold_strategy='kfold',\n",
    "    outer_fold=5,\n",
    "    outer_strategy='kfold',\n",
    "    session_id=42,\n",
    "    model='xgboost',\n",
    "    optimize='AUC',\n",
    "    custom_grid=grid_hps\n",
    ")"
   ]
  }
 ],
 "metadata": {
  "kernelspec": {
   "display_name": "Python (pycaret_env)",
   "language": "python",
   "name": "pycaret_env"
  },
  "language_info": {
   "codemirror_mode": {
    "name": "ipython",
    "version": 3
   },
   "file_extension": ".py",
   "mimetype": "text/x-python",
   "name": "python",
   "nbconvert_exporter": "python",
   "pygments_lexer": "ipython3",
   "version": "3.11.9"
  }
 },
 "nbformat": 4,
 "nbformat_minor": 5
}
