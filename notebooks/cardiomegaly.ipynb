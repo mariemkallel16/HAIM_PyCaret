{
 "cells": [
  {
   "cell_type": "markdown",
   "id": "c4139f23",
   "metadata": {},
   "source": [
    "# Pathology prediction (Cardiomegaly)\n",
    "\n",
    "\n",
    "\n",
    "@References : Soenksen, L.R., Ma, Y., Zeng, C. et al. Integrated multimodal artificial intelligence framework for healthcare applications. npj Digit. Med. 5, 149 (2022). https://doi.org/10.1038/s41746-022-00689-4\n",
    "\n",
    "In this notebook, the task is to predict the Cardiomegaly pathology using the CSV embeddings file"
   ]
  },
  {
   "cell_type": "markdown",
   "id": "8e9e247e",
   "metadata": {},
   "source": [
    "## Introduction\n"
   ]
  },
  {
   "attachments": {},
   "cell_type": "markdown",
   "id": "321d5924",
   "metadata": {},
   "source": [
    "Radiology notes were processed to determine if each of the pathologies was explicitly confirmed as present (value = 1), explicitly confirmed as absent (value = 0), inconclusive in the study (value = −1), or not explored (no value).\n",
    "\n",
    "Selected samples : 0 or 1 values (removing the rest from the training and testing data).\n",
    "\n",
    "Excluded variables : the unstructured radiology notes component (E_rad ) from the allowable input to avoid potential overfitting or misrepresentations of real predictive value.\n",
    "\n",
    "The model is based on binary classification for each target chest pathology.\n",
    "\n",
    "Final sample size for the Cardiomegaly pathology is : (N = 18,571)"
   ]
  },
  {
   "cell_type": "markdown",
   "id": "59600fd4",
   "metadata": {},
   "source": [
    "#### Imports"
   ]
  },
  {
   "cell_type": "code",
   "execution_count": 1,
   "id": "2d0990d5",
   "metadata": {},
   "outputs": [],
   "source": [
    "import os\n",
    "os.chdir('../')\n",
    "\n",
    "from pandas import read_csv\n",
    "\n",
    "from src.data import constants\n",
    "from src.data.dataset import HAIMDataset\n",
    "from src.evaluation.pycaret_evaluator import PyCaretEvaluator\n",
    "from src.utils.metric_scores import *"
   ]
  },
  {
   "cell_type": "markdown",
   "id": "645a1fe8",
   "metadata": {},
   "source": [
    "#### Read data from local source\n",
    "\n"
   ]
  },
  {
   "cell_type": "code",
   "execution_count": 2,
   "id": "a948c18c",
   "metadata": {},
   "outputs": [],
   "source": [
    "df = read_csv(constants.FILE_DF, nrows=constants.N_DATA)"
   ]
  },
  {
   "cell_type": "markdown",
   "id": "90a95053",
   "metadata": {},
   "source": [
    "#### Create a custom dataset for the HAIM experiment\n"
   ]
  },
  {
   "cell_type": "markdown",
   "id": "671d6e76",
   "metadata": {},
   "source": [
    "Build the target column for the task at hand, set the dataset specificities:  the ``haim_id`` as a ``global_id``, use all sources except ``radiology notes`` "
   ]
  },
  {
   "cell_type": "code",
   "execution_count": 3,
   "id": "239db8a3",
   "metadata": {},
   "outputs": [],
   "source": [
    "dataset = HAIMDataset(df,  \n",
    "                      constants.CHEST_PREDICTORS, \n",
    "                      constants.ALL_MODALITIES, \n",
    "                      constants.CARDIOMEGALY, \n",
    "                      constants.IMG_ID, \n",
    "                      constants.GLOBAL_ID)"
   ]
  },
  {
   "cell_type": "markdown",
   "id": "ad7c9d6d",
   "metadata": {},
   "source": [
    "#### Set hyper-parameters"
   ]
  },
  {
   "cell_type": "code",
   "execution_count": 4,
   "id": "9ba42585",
   "metadata": {},
   "outputs": [],
   "source": [
    "# Define the grid oh hyper-parameters for the tuning\n",
    "grid_hps = {'max_depth': [5, 6, 7, 8],\n",
    "            'n_estimators': [200, 300],\n",
    "            'learning_rate': [0.3, 0.1, 0.05],\n",
    "            }"
   ]
  },
  {
   "cell_type": "markdown",
   "id": "75fd10ab",
   "metadata": {},
   "source": [
    "### Model training and predictions using an XGBClassifier model with GridSearchCV and Hyperparameters optimization\n"
   ]
  },
  {
   "cell_type": "markdown",
   "id": "d04a4c63",
   "metadata": {},
   "source": [
    "The goal of this section of the notebook is to compute the following metrics:\n",
    "\n",
    "``ACCURACY_SCORE, BALANCED_ACCURACY_SCORE, SENSITIVITY, SPECIFICITY, AUC, BRIER SCORE, BINARY CROSS-ENTROPY``\n",
    "\n",
    "\n",
    "The\n",
    "hyperparameter combinations of individual XGBoost models were\n",
    "selected within each training loop using a ``fivefold cross-validated\n",
    "grid search`` on the training set (80%). This XGBoost ``tuning process``\n",
    "selected the ``maximum depth of the trees (5–8)``, the number of\n",
    "``estimators (200 or 300)``, and the ``learning rate (0.05, 0.1, 0.3)``\n",
    "according to the parameter value combination leading to the\n",
    "highest observed AUROC within the training loop \n",
    "\n",
    "\n",
    "As mentioned previously, all XGBoost models were trained ``five times with five different data splits`` to repeat the\n",
    "experiments and compute average metrics \n",
    "\n",
    "\n",
    "```Refer to page 8 of study``` : https://doi.org/10.1038/s41746-022-00689-4"
   ]
  },
  {
   "cell_type": "code",
   "execution_count": 5,
   "id": "726c2332",
   "metadata": {},
   "outputs": [
    {
     "name": "stderr",
     "output_type": "stream",
     "text": [
      "2024-10-07 11:30:51,125\tINFO worker.py:1777 -- Started a local Ray instance. View the dashboard at \u001b[1m\u001b[32mhttp://127.0.0.1:8265 \u001b[39m\u001b[22m\n"
     ]
    },
    {
     "name": "stdout",
     "output_type": "stream",
     "text": [
      "\u001b[36m(run_fold pid=1153833)\u001b[0m Outer fold 1\n",
      "\u001b[36m(run_fold pid=1153847)\u001b[0m Configuring PyCaret for outer fold 2\n",
      "\u001b[36m(run_fold pid=1153841)\u001b[0m Outer fold 3\u001b[32m [repeated 2x across cluster] (Ray deduplicates logs by default. Set RAY_DEDUP_LOGS=0 to disable log deduplication, or see https://docs.ray.io/en/master/ray-observability/user-guides/configure-logging.html#log-deduplication for more options.)\u001b[0m\n"
     ]
    },
    {
     "name": "stderr",
     "output_type": "stream",
     "text": [
      "Processing:   0%|          | 0/4 [00:00<?, ?it/s]\n",
      "Processing:  25%|██▌       | 1/4 [00:01<00:04,  1.42s/it]\n",
      "Processing:   0%|          | 0/4 [00:00<?, ?it/s]\u001b[32m [repeated 2x across cluster]\u001b[0m\n",
      "Processing:  75%|███████▌  | 3/4 [07:42<02:51, 171.01s/it]\u001b[32m [repeated 3x across cluster]\u001b[0m\n",
      "Processing:  75%|███████▌  | 3/4 [07:48<02:53, 173.45s/it]\u001b[32m [repeated 2x across cluster]\u001b[0m\n"
     ]
    },
    {
     "name": "stdout",
     "output_type": "stream",
     "text": [
      "\u001b[36m(run_fold pid=1153841)\u001b[0m       Accuracy     AUC  Recall   Prec.      F1   Kappa     MCC\n",
      "\u001b[36m(run_fold pid=1153841)\u001b[0m Fold                                                          \n",
      "\u001b[36m(run_fold pid=1153841)\u001b[0m 0       0.9053  0.8972  0.9783  0.9166  0.9464  0.5433  0.5656\n",
      "\u001b[36m(run_fold pid=1153841)\u001b[0m 1       0.9146  0.9262  0.9812  0.9232  0.9513  0.6057  0.6251\n",
      "\u001b[36m(run_fold pid=1153841)\u001b[0m 2       0.9037  0.9075  0.9770  0.9145  0.9448  0.5719  0.5916\n",
      "\u001b[36m(run_fold pid=1153841)\u001b[0m 3       0.9028  0.9023  0.9736  0.9166  0.9442  0.5688  0.5850\n",
      "\u001b[36m(run_fold pid=1153841)\u001b[0m 4       0.9087  0.9167  0.9749  0.9225  0.9480  0.5781  0.5931\n",
      "\u001b[36m(run_fold pid=1153841)\u001b[0m Mean    0.9070  0.9100  0.9770  0.9187  0.9469  0.5736  0.5921\n",
      "\u001b[36m(run_fold pid=1153841)\u001b[0m Std     0.0043  0.0104  0.0027  0.0035  0.0026  0.0200  0.0192\n",
      "\u001b[36m(run_fold pid=1153841)\u001b[0m Configuring PyCaret for outer fold 3\u001b[32m [repeated 2x across cluster]\u001b[0m\n",
      "\u001b[36m(run_fold pid=1153841)\u001b[0m Tuning hyperparameters for model xgboost with custom grid using grid search\n"
     ]
    },
    {
     "name": "stderr",
     "output_type": "stream",
     "text": [
      "                                                          \n",
      "                                                          \n"
     ]
    },
    {
     "name": "stdout",
     "output_type": "stream",
     "text": [
      "\u001b[36m(run_fold pid=1153833)\u001b[0m 0       0.9121  0.9071  0.9783  0.9233  0.9500  0.5878  0.6053\n",
      "\u001b[36m(run_fold pid=1153833)\u001b[0m 1       0.9083  0.9125  0.9768  0.9203  0.9477  0.5783  0.5957\n",
      "\u001b[36m(run_fold pid=1153833)\u001b[0m 2       0.9095  0.9247  0.9820  0.9166  0.9482  0.5950  0.6178\n",
      "\u001b[36m(run_fold pid=1153833)\u001b[0m 3       0.8990  0.9204  0.9701  0.9154  0.9419  0.5573  0.5715\n",
      "\u001b[36m(run_fold pid=1153833)\u001b[0m 4       0.9082  0.8986  0.9773  0.9200  0.9478  0.5721  0.5905\n",
      "\u001b[36m(run_fold pid=1153833)\u001b[0m       Accuracy     AUC  Recall   Prec.      F1   Kappa     MCC\n",
      "\u001b[36m(run_fold pid=1153833)\u001b[0m Fold                                                          \n",
      "\u001b[36m(run_fold pid=1153833)\u001b[0m Mean    0.9074  0.9127  0.9769  0.9191  0.9471  0.5781  0.5962\n",
      "\u001b[36m(run_fold pid=1153833)\u001b[0m Std     0.0044  0.0093  0.0039  0.0028  0.0027  0.0130  0.0154\n",
      "\u001b[36m(run_fold pid=1153833)\u001b[0m Tuning hyperparameters for model xgboost with custom grid using grid search\n",
      "\u001b[36m(run_fold pid=1153847)\u001b[0m       Accuracy     AUC  Recall   Prec.      F1   Kappa     MCC\n",
      "\u001b[36m(run_fold pid=1153847)\u001b[0m Fold                                                          \n",
      "\u001b[36m(run_fold pid=1153847)\u001b[0m 0       0.9095  0.9119  0.9792  0.9195  0.9484  0.5838  0.6036\n",
      "\u001b[36m(run_fold pid=1153847)\u001b[0m 1       0.9142  0.9111  0.9797  0.9237  0.9509  0.6143  0.6313\n",
      "\u001b[36m(run_fold pid=1153847)\u001b[0m 2       0.9133  0.9232  0.9744  0.9261  0.9496  0.6408  0.6516\n",
      "\u001b[36m(run_fold pid=1153847)\u001b[0m 3       0.8936  0.9016  0.9695  0.9098  0.9387  0.5395  0.5555\n",
      "\u001b[36m(run_fold pid=1153847)\u001b[0m 4       0.9175  0.9251  0.9837  0.9242  0.9530  0.6189  0.6397\n",
      "\u001b[36m(run_fold pid=1153847)\u001b[0m Mean    0.9096  0.9146  0.9773  0.9207  0.9481  0.5995  0.6163\n",
      "\u001b[36m(run_fold pid=1153847)\u001b[0m Std     0.0084  0.0086  0.0049  0.0059  0.0050  0.0351  0.0343\n"
     ]
    },
    {
     "name": "stderr",
     "output_type": "stream",
     "text": [
      "                                                          \n"
     ]
    },
    {
     "name": "stdout",
     "output_type": "stream",
     "text": [
      "\u001b[36m(run_fold pid=1153841)\u001b[0m Transformation Pipeline and Model Successfully Saved\n",
      "\u001b[36m(run_fold pid=1153847)\u001b[0m Tuning hyperparameters for model xgboost with custom grid using grid search\n",
      "\u001b[36m(run_fold pid=1153841)\u001b[0m                        Model  Accuracy    AUC  ...     F1   Kappa     MCC\n",
      "\u001b[36m(run_fold pid=1153841)\u001b[0m 0  Extreme Gradient Boosting    0.9098  0.924  ...  0.948  0.6106  0.6294\n",
      "\u001b[36m(run_fold pid=1153841)\u001b[0m \n",
      "\u001b[36m(run_fold pid=1153841)\u001b[0m [1 rows x 8 columns]\n",
      "\u001b[36m(run_fold pid=1153841)\u001b[0m Outer fold 4\n",
      "\u001b[36m(run_fold pid=1153841)\u001b[0m Configuring PyCaret for outer fold 4\n"
     ]
    },
    {
     "name": "stderr",
     "output_type": "stream",
     "text": [
      "Processing:   0%|          | 0/4 [00:00<?, ?it/s]\n",
      "Processing:  25%|██▌       | 1/4 [00:01<00:04,  1.36s/it]\n"
     ]
    },
    {
     "name": "stdout",
     "output_type": "stream",
     "text": [
      "\u001b[36m(run_fold pid=1153847)\u001b[0m Transformation Pipeline and Model Successfully Saved\n",
      "\u001b[36m(run_fold pid=1153847)\u001b[0m                        Model  Accuracy    AUC  ...      F1   Kappa     MCC\n",
      "\u001b[36m(run_fold pid=1153847)\u001b[0m 0  Extreme Gradient Boosting      0.92  0.928  ...  0.9545  0.6253  0.6408\n",
      "\u001b[36m(run_fold pid=1153847)\u001b[0m \n",
      "\u001b[36m(run_fold pid=1153847)\u001b[0m [1 rows x 8 columns]\n",
      "\u001b[36m(run_fold pid=1153847)\u001b[0m Outer fold 5\n",
      "\u001b[36m(run_fold pid=1153847)\u001b[0m Configuring PyCaret for outer fold 5\n"
     ]
    },
    {
     "name": "stderr",
     "output_type": "stream",
     "text": [
      "Processing:   0%|          | 0/4 [00:00<?, ?it/s]\n",
      "Processing:  25%|██▌       | 1/4 [00:01<00:04,  1.36s/it]\n",
      "Processing:  75%|███████▌  | 3/4 [07:34<02:48, 168.21s/it]\n"
     ]
    },
    {
     "name": "stdout",
     "output_type": "stream",
     "text": [
      "\u001b[36m(run_fold pid=1153833)\u001b[0m Transformation Pipeline and Model Successfully Saved\n",
      "\u001b[36m(run_fold pid=1153833)\u001b[0m                        Model  Accuracy     AUC  ...      F1   Kappa     MCC\n",
      "\u001b[36m(run_fold pid=1153833)\u001b[0m 0  Extreme Gradient Boosting    0.9133  0.9293  ...  0.9501  0.6221  0.6411\n",
      "\u001b[36m(run_fold pid=1153833)\u001b[0m \n",
      "\u001b[36m(run_fold pid=1153833)\u001b[0m [1 rows x 8 columns]\n"
     ]
    },
    {
     "name": "stderr",
     "output_type": "stream",
     "text": [
      "Processing:  75%|███████▌  | 3/4 [07:26<02:45, 165.17s/it]\n"
     ]
    },
    {
     "name": "stdout",
     "output_type": "stream",
     "text": [
      "\u001b[36m(run_fold pid=1153841)\u001b[0m       Accuracy     AUC  Recall   Prec.      F1   Kappa     MCC\n",
      "\u001b[36m(run_fold pid=1153841)\u001b[0m Fold                                                          \n",
      "\u001b[36m(run_fold pid=1153841)\u001b[0m 0       0.9095  0.9161  0.9762  0.9220  0.9483  0.5881  0.6040\n",
      "\u001b[36m(run_fold pid=1153841)\u001b[0m 1       0.8986  0.9058  0.9688  0.9165  0.9419  0.5460  0.5592\n",
      "\u001b[36m(run_fold pid=1153841)\u001b[0m 2       0.9032  0.9066  0.9794  0.9115  0.9442  0.5838  0.6059\n",
      "\u001b[36m(run_fold pid=1153841)\u001b[0m 3       0.9045  0.9082  0.9736  0.9181  0.9450  0.5842  0.5991\n",
      "\u001b[36m(run_fold pid=1153841)\u001b[0m 4       0.9074  0.9088  0.9792  0.9175  0.9474  0.5674  0.5889\n",
      "\u001b[36m(run_fold pid=1153841)\u001b[0m Mean    0.9047  0.9091  0.9754  0.9171  0.9454  0.5739  0.5914\n",
      "\u001b[36m(run_fold pid=1153841)\u001b[0m Std     0.0037  0.0037  0.0040  0.0034  0.0023  0.0157  0.0171\n",
      "\u001b[36m(run_fold pid=1153841)\u001b[0m Tuning hyperparameters for model xgboost with custom grid using grid search\n"
     ]
    },
    {
     "name": "stderr",
     "output_type": "stream",
     "text": [
      "                                                          \n"
     ]
    },
    {
     "name": "stdout",
     "output_type": "stream",
     "text": [
      "\u001b[36m(run_fold pid=1153847)\u001b[0m 0       0.9184  0.9212  0.9783  0.9297  0.9534  0.6285  0.6418\n",
      "\u001b[36m(run_fold pid=1153847)\u001b[0m 1       0.9074  0.9139  0.9787  0.9178  0.9472  0.5737  0.5941\n",
      "\u001b[36m(run_fold pid=1153847)\u001b[0m 2       0.9049  0.9130  0.9775  0.9153  0.9454  0.5827  0.6020\n",
      "\u001b[36m(run_fold pid=1153847)\u001b[0m 3       0.9003  0.9176  0.9751  0.9127  0.9429  0.5557  0.5750\n",
      "\u001b[36m(run_fold pid=1153847)\u001b[0m 4       0.9045  0.9124  0.9783  0.9154  0.9458  0.5505  0.5726\n",
      "\u001b[36m(run_fold pid=1153847)\u001b[0m       Accuracy     AUC  Recall   Prec.      F1   Kappa     MCC\n",
      "\u001b[36m(run_fold pid=1153847)\u001b[0m Fold                                                          \n",
      "\u001b[36m(run_fold pid=1153847)\u001b[0m Mean    0.9071  0.9156  0.9776  0.9181  0.9469  0.5782  0.5971\n",
      "\u001b[36m(run_fold pid=1153847)\u001b[0m Std     0.0061  0.0033  0.0013  0.0060  0.0035  0.0277  0.0250\n",
      "\u001b[36m(run_fold pid=1153847)\u001b[0m Tuning hyperparameters for model xgboost with custom grid using grid search\n"
     ]
    },
    {
     "name": "stderr",
     "output_type": "stream",
     "text": [
      "                                                          \n"
     ]
    },
    {
     "name": "stdout",
     "output_type": "stream",
     "text": [
      "\u001b[36m(run_fold pid=1153841)\u001b[0m Transformation Pipeline and Model Successfully Saved\n",
      "\u001b[36m(run_fold pid=1153841)\u001b[0m                        Model  Accuracy    AUC  ...      F1  Kappa     MCC\n",
      "\u001b[36m(run_fold pid=1153841)\u001b[0m 0  Extreme Gradient Boosting    0.9179  0.938  ...  0.9532  0.619  0.6351\n",
      "\u001b[36m(run_fold pid=1153841)\u001b[0m \n",
      "\u001b[36m(run_fold pid=1153841)\u001b[0m [1 rows x 8 columns]\n",
      "\u001b[36m(run_fold pid=1153847)\u001b[0m Transformation Pipeline and Model Successfully Saved\n",
      "\u001b[36m(run_fold pid=1153847)\u001b[0m                        Model  Accuracy    AUC  ...      F1   Kappa     MCC\n",
      "\u001b[36m(run_fold pid=1153847)\u001b[0m 0  Extreme Gradient Boosting    0.9122  0.924  ...  0.9499  0.5981  0.6219\n",
      "\u001b[36m(run_fold pid=1153847)\u001b[0m \n",
      "\u001b[36m(run_fold pid=1153847)\u001b[0m [1 rows x 8 columns]\n",
      "Final metrics table:\n",
      "     Metric     Mean   Std Dev\n",
      "0  Accuracy  0.91284  0.003278\n",
      "1       AUC  0.92190  0.006277\n",
      "2    Recall  0.98116  0.002048\n",
      "3     Prec.  0.92166  0.004258\n",
      "4        F1  0.95044  0.001777\n",
      "5     Kappa  0.59052  0.021848\n",
      "6       MCC  0.61154  0.017740\n"
     ]
    }
   ],
   "source": [
    "# Initialize the PyCaret Evaluator\n",
    "evaluator = PyCaretEvaluator(dataset=dataset, target=\"Cardiomegaly\", experiment_name=\"CP_Cardiomegaly\", filepath=\"./results/cardiomegaly\")\n",
    "\n",
    "# Model training\n",
    "evaluator.run_experiment(\n",
    "    train_size=0.8,\n",
    "    fold=5,\n",
    "    fold_strategy='kfold',\n",
    "    outer_fold=5,\n",
    "    outer_strategy='kfold',\n",
    "    session_id=42,\n",
    "    model='xgboost',\n",
    "    optimize='AUC',\n",
    "    custom_grid=grid_hps\n",
    ")"
   ]
  }
 ],
 "metadata": {
  "kernelspec": {
   "display_name": "Python (pycaret_env)",
   "language": "python",
   "name": "pycaret_env"
  },
  "language_info": {
   "codemirror_mode": {
    "name": "ipython",
    "version": 3
   },
   "file_extension": ".py",
   "mimetype": "text/x-python",
   "name": "python",
   "nbconvert_exporter": "python",
   "pygments_lexer": "ipython3",
   "version": "3.11.9"
  }
 },
 "nbformat": 4,
 "nbformat_minor": 5
}
