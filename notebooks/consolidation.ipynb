{
 "cells": [
  {
   "cell_type": "markdown",
   "id": "c4139f23",
   "metadata": {},
   "source": [
    "# Pathology prediction (Consolidation)\n",
    "\n",
    "\n",
    "@References : Soenksen, L.R., Ma, Y., Zeng, C. et al. Integrated multimodal artificial intelligence framework for healthcare applications. npj Digit. Med. 5, 149 (2022). https://doi.org/10.1038/s41746-022-00689-4\n",
    "\n",
    "In this notebook, the task is to predict the Consolidation pathology using the CSV embeddings file"
   ]
  },
  {
   "cell_type": "markdown",
   "id": "8e9e247e",
   "metadata": {},
   "source": [
    "## Introduction\n"
   ]
  },
  {
   "attachments": {},
   "cell_type": "markdown",
   "id": "321d5924",
   "metadata": {},
   "source": [
    "Radiology notes were processed to determine if each of the pathologies was explicitly confirmed as present (value = 1), explicitly confirmed as absent (value = 0), inconclusive in the study (value = −1), or not explored (no value).\n",
    "\n",
    "Selected samples : 0 or 1 values (removing the rest from the training and testing data).\n",
    "\n",
    "Excluded variables : the unstructured radiology notes component (E_rad ) from the allowable input to avoid potential overfitting or misrepresentations of real predictive value.\n",
    "\n",
    "The model is based on binary classification for each target chest pathology.\n",
    "\n",
    "Final sample size for the Consolidation pathology is : (N =  4465)\n"
   ]
  },
  {
   "cell_type": "markdown",
   "id": "59600fd4",
   "metadata": {},
   "source": [
    "#### Imports"
   ]
  },
  {
   "cell_type": "code",
   "execution_count": 1,
   "id": "2d0990d5",
   "metadata": {},
   "outputs": [],
   "source": [
    "import os\n",
    "os.chdir('../')\n",
    "\n",
    "from pandas import read_csv\n",
    "\n",
    "from src.data import constants\n",
    "from src.data.dataset import HAIMDataset\n",
    "from src.evaluation.pycaret_evaluator import PyCaretEvaluator\n",
    "from src.utils.metric_scores import *"
   ]
  },
  {
   "cell_type": "markdown",
   "id": "645a1fe8",
   "metadata": {},
   "source": [
    "#### Read data from local source\n",
    "\n"
   ]
  },
  {
   "cell_type": "code",
   "execution_count": 2,
   "id": "a948c18c",
   "metadata": {},
   "outputs": [],
   "source": [
    "df = read_csv(constants.FILE_DF, nrows=constants.N_DATA)"
   ]
  },
  {
   "cell_type": "markdown",
   "id": "90a95053",
   "metadata": {},
   "source": [
    "#### Create a custom dataset for the HAIM experiment\n"
   ]
  },
  {
   "cell_type": "markdown",
   "id": "671d6e76",
   "metadata": {},
   "source": [
    "Build the target column for the task at hand, set the dataset specificities:  the ``haim_id`` as a ``global_id``, use all sources except ``radiology notes`` "
   ]
  },
  {
   "cell_type": "code",
   "execution_count": 3,
   "id": "239db8a3",
   "metadata": {},
   "outputs": [],
   "source": [
    "dataset = HAIMDataset(df,  \n",
    "                      constants.CHEST_PREDICTORS, \n",
    "                      constants.ALL_MODALITIES, \n",
    "                      constants.CONSOLIDATION,\n",
    "                      constants.IMG_ID, \n",
    "                      constants.GLOBAL_ID)"
   ]
  },
  {
   "cell_type": "markdown",
   "id": "ad7c9d6d",
   "metadata": {},
   "source": [
    "#### Set hyper-parameters"
   ]
  },
  {
   "cell_type": "code",
   "execution_count": 4,
   "id": "9ba42585",
   "metadata": {},
   "outputs": [],
   "source": [
    "# Define the grid oh hyper-parameters for the tuning\n",
    "grid_hps = {'max_depth': [5, 6, 7, 8],\n",
    "            'n_estimators': [200, 300],\n",
    "            'learning_rate': [0.3, 0.1, 0.05],\n",
    "            }"
   ]
  },
  {
   "cell_type": "markdown",
   "id": "75fd10ab",
   "metadata": {},
   "source": [
    "### Model training and predictions using an XGBClassifier model with GridSearchCV and Hyperparameters optimization\n"
   ]
  },
  {
   "cell_type": "markdown",
   "id": "d04a4c63",
   "metadata": {},
   "source": [
    "The goal of this section of the notebook is to compute the following metrics:\n",
    "\n",
    "``ACCURACY_SCORE, BALANCED_ACCURACY_SCORE, SENSITIVITY, SPECIFICITY, AUC, BRIER SCORE, BINARY CROSS-ENTROPY``\n",
    "\n",
    "\n",
    "The\n",
    "hyperparameter combinations of individual XGBoost models were\n",
    "selected within each training loop using a ``fivefold cross-validated\n",
    "grid search`` on the training set (80%). This XGBoost ``tuning process``\n",
    "selected the ``maximum depth of the trees (5–8)``, the number of\n",
    "``estimators (200 or 300)``, and the ``learning rate (0.05, 0.1, 0.3)``\n",
    "according to the parameter value combination leading to the\n",
    "highest observed AUROC within the training loop \n",
    "\n",
    "\n",
    "As mentioned previously, all XGBoost models were trained ``five times with five different data splits`` to repeat the\n",
    "experiments and compute average metrics \n",
    "\n",
    "\n",
    "```Refer to page 8 of study``` : https://doi.org/10.1038/s41746-022-00689-4"
   ]
  },
  {
   "cell_type": "code",
   "execution_count": 5,
   "id": "726c2332",
   "metadata": {},
   "outputs": [
    {
     "name": "stderr",
     "output_type": "stream",
     "text": [
      "2024-09-26 15:25:14,862\tINFO worker.py:1777 -- Started a local Ray instance. View the dashboard at \u001b[1m\u001b[32mhttp://127.0.0.1:8266 \u001b[39m\u001b[22m\n"
     ]
    },
    {
     "name": "stdout",
     "output_type": "stream",
     "text": [
      "\u001b[36m(run_fold pid=469104)\u001b[0m Outer fold 2\n",
      "\u001b[36m(run_fold pid=469104)\u001b[0m Configuring PyCaret for outer fold 2\n",
      "\u001b[36m(run_fold pid=469091)\u001b[0m Outer fold 1\n"
     ]
    },
    {
     "name": "stderr",
     "output_type": "stream",
     "text": [
      "Processing:   0%|          | 0/4 [00:00<?, ?it/s]\n",
      "Processing:  25%|██▌       | 1/4 [00:00<00:02,  1.28it/s]\n",
      "Processing:   0%|          | 0/4 [00:00<?, ?it/s]\n",
      "Processing:  75%|███████▌  | 3/4 [02:47<01:02, 62.04s/it]\u001b[32m [repeated 2x across cluster] (Ray deduplicates logs by default. Set RAY_DEDUP_LOGS=0 to disable log deduplication, or see https://docs.ray.io/en/master/ray-observability/user-guides/configure-logging.html#log-deduplication for more options.)\u001b[0m\n"
     ]
    },
    {
     "name": "stdout",
     "output_type": "stream",
     "text": [
      "\u001b[36m(run_fold pid=469104)\u001b[0m       Accuracy     AUC  Recall   Prec.      F1   Kappa     MCC\n",
      "\u001b[36m(run_fold pid=469104)\u001b[0m Fold                                                          \n",
      "\u001b[36m(run_fold pid=469104)\u001b[0m 0       0.8986  0.8979  0.9699  0.9111  0.9396  0.6263  0.6383\n",
      "\u001b[36m(run_fold pid=469104)\u001b[0m 1       0.8899  0.9118  0.9720  0.9004  0.9349  0.5823  0.6006\n",
      "\u001b[36m(run_fold pid=469104)\u001b[0m 2       0.9335  0.9586  0.9763  0.9439  0.9598  0.7663  0.7700\n",
      "\u001b[36m(run_fold pid=469104)\u001b[0m 3       0.9037  0.9242  0.9763  0.9116  0.9429  0.6379  0.6535\n",
      "\u001b[36m(run_fold pid=469104)\u001b[0m 4       0.8914  0.8882  0.9591  0.9119  0.9349  0.6098  0.6169\n",
      "\u001b[36m(run_fold pid=469104)\u001b[0m Mean    0.9034  0.9161  0.9707  0.9158  0.9424  0.6445  0.6559\n",
      "\u001b[36m(run_fold pid=469104)\u001b[0m Std     0.0158  0.0245  0.0064  0.0147  0.0092  0.0637  0.0599\n",
      "\u001b[36m(run_fold pid=469091)\u001b[0m Configuring PyCaret for outer fold 1\n",
      "\u001b[36m(run_fold pid=469104)\u001b[0m Tuning hyperparameters for model xgboost with custom grid using grid search\n"
     ]
    },
    {
     "name": "stderr",
     "output_type": "stream",
     "text": [
      "                                                         \n",
      "Processing:  75%|███████▌  | 3/4 [02:48<01:02, 62.39s/it]\n"
     ]
    },
    {
     "name": "stdout",
     "output_type": "stream",
     "text": [
      "\u001b[36m(run_fold pid=469091)\u001b[0m 0       0.8794  0.8812  0.9548  0.9024  0.9279  0.5607  0.5692\n",
      "\u001b[36m(run_fold pid=469091)\u001b[0m 1       0.8934  0.9233  0.9720  0.9040  0.9368  0.5989  0.6154\n",
      "\u001b[36m(run_fold pid=469091)\u001b[0m 2       0.8967  0.9169  0.9656  0.9126  0.9383  0.6210  0.6305\n",
      "\u001b[36m(run_fold pid=469091)\u001b[0m 3       0.9124  0.9516  0.9741  0.9224  0.9476  0.6828  0.6923\n",
      "\u001b[36m(run_fold pid=469091)\u001b[0m 4       0.9019  0.9289  0.9720  0.9130  0.9415  0.6390  0.6513\n",
      "\u001b[36m(run_fold pid=469104)\u001b[0m Transformation Pipeline and Model Successfully Saved\n",
      "\u001b[36m(run_fold pid=469091)\u001b[0m       Accuracy     AUC  Recall   Prec.      F1   Kappa     MCC\n",
      "\u001b[36m(run_fold pid=469091)\u001b[0m Fold                                                          \n",
      "\u001b[36m(run_fold pid=469091)\u001b[0m Mean    0.8968  0.9204  0.9677  0.9109  0.9384  0.6205  0.6317\n",
      "\u001b[36m(run_fold pid=469091)\u001b[0m Std     0.0108  0.0228  0.0070  0.0072  0.0064  0.0407  0.0406\n",
      "\u001b[36m(run_fold pid=469091)\u001b[0m Tuning hyperparameters for model xgboost with custom grid using grid search\n",
      "\u001b[36m(run_fold pid=469104)\u001b[0m                        Model  Accuracy     AUC  ...      F1   Kappa    MCC\n",
      "\u001b[36m(run_fold pid=469104)\u001b[0m 0  Extreme Gradient Boosting    0.8914  0.9072  ...  0.9353  0.5994  0.611\n",
      "\u001b[36m(run_fold pid=469104)\u001b[0m \n",
      "\u001b[36m(run_fold pid=469104)\u001b[0m [1 rows x 8 columns]\n",
      "\u001b[36m(run_fold pid=469104)\u001b[0m Outer fold 3\n",
      "\u001b[36m(run_fold pid=469104)\u001b[0m Configuring PyCaret for outer fold 3\n"
     ]
    },
    {
     "name": "stderr",
     "output_type": "stream",
     "text": [
      "Processing:   0%|          | 0/4 [00:00<?, ?it/s]\n",
      "                                                         \n",
      "Processing:  25%|██▌       | 1/4 [00:00<00:01,  1.56it/s]\n"
     ]
    },
    {
     "name": "stdout",
     "output_type": "stream",
     "text": [
      "\u001b[36m(run_fold pid=469091)\u001b[0m Transformation Pipeline and Model Successfully Saved\n",
      "\u001b[36m(run_fold pid=469091)\u001b[0m                        Model  Accuracy     AUC  ...     F1   Kappa     MCC\n",
      "\u001b[36m(run_fold pid=469091)\u001b[0m 0  Extreme Gradient Boosting     0.888  0.9128  ...  0.933  0.5942  0.6014\n",
      "\u001b[36m(run_fold pid=469091)\u001b[0m \n",
      "\u001b[36m(run_fold pid=469091)\u001b[0m [1 rows x 8 columns]\n",
      "\u001b[36m(run_fold pid=469091)\u001b[0m Outer fold 4\n",
      "\u001b[36m(run_fold pid=469091)\u001b[0m Configuring PyCaret for outer fold 4\n"
     ]
    },
    {
     "name": "stderr",
     "output_type": "stream",
     "text": [
      "Processing:   0%|          | 0/4 [00:00<?, ?it/s]\n",
      "Processing:  25%|██▌       | 1/4 [00:00<00:01,  1.55it/s]\n",
      "Processing:  75%|███████▌  | 3/4 [02:29<00:55, 55.35s/it]\n"
     ]
    },
    {
     "name": "stdout",
     "output_type": "stream",
     "text": [
      "\u001b[36m(run_fold pid=469104)\u001b[0m       Accuracy     AUC  Recall   Prec.      F1   Kappa     MCC\n",
      "\u001b[36m(run_fold pid=469104)\u001b[0m Fold                                                          \n",
      "\u001b[36m(run_fold pid=469104)\u001b[0m 0       0.8864  0.9067  0.9613  0.9049  0.9322  0.5828  0.5932\n",
      "\u001b[36m(run_fold pid=469104)\u001b[0m 1       0.9126  0.9244  0.9699  0.9261  0.9475  0.6879  0.6945\n",
      "\u001b[36m(run_fold pid=469104)\u001b[0m 2       0.8809  0.9005  0.9699  0.8931  0.9299  0.5390  0.5600\n",
      "\u001b[36m(run_fold pid=469104)\u001b[0m 3       0.9177  0.9438  0.9828  0.9214  0.9511  0.6931  0.7078\n",
      "\u001b[36m(run_fold pid=469104)\u001b[0m 4       0.9054  0.9221  0.9806  0.9100  0.9440  0.6433  0.6623\n",
      "\u001b[36m(run_fold pid=469104)\u001b[0m Mean    0.9006  0.9195  0.9729  0.9111  0.9409  0.6292  0.6435\n",
      "\u001b[36m(run_fold pid=469104)\u001b[0m Std     0.0145  0.0151  0.0079  0.0118  0.0084  0.0600  0.0576\n",
      "\u001b[36m(run_fold pid=469104)\u001b[0m Tuning hyperparameters for model xgboost with custom grid using grid search\n"
     ]
    },
    {
     "name": "stderr",
     "output_type": "stream",
     "text": [
      "                                                         \n",
      "Processing:  75%|███████▌  | 3/4 [02:28<00:54, 54.91s/it]\n"
     ]
    },
    {
     "name": "stdout",
     "output_type": "stream",
     "text": [
      "\u001b[36m(run_fold pid=469091)\u001b[0m 0       0.9038  0.9265  0.9720  0.9150  0.9426  0.6470  0.6585\n",
      "\u001b[36m(run_fold pid=469091)\u001b[0m 1       0.8899  0.9060  0.9763  0.8972  0.9351  0.5752  0.5985\n",
      "\u001b[36m(run_fold pid=469091)\u001b[0m 2       0.8967  0.9256  0.9720  0.9076  0.9387  0.6116  0.6265\n",
      "\u001b[36m(run_fold pid=469091)\u001b[0m 3       0.9194  0.9282  0.9785  0.9267  0.9519  0.7057  0.7157\n",
      "\u001b[36m(run_fold pid=469091)\u001b[0m 4       0.8879  0.8897  0.9591  0.9082  0.9329  0.5940  0.6023\n",
      "\u001b[36m(run_fold pid=469091)\u001b[0m       Accuracy     AUC  Recall   Prec.      F1   Kappa     MCC\n",
      "\u001b[36m(run_fold pid=469091)\u001b[0m Fold                                                          \n",
      "\u001b[36m(run_fold pid=469091)\u001b[0m Mean    0.8995  0.9152  0.9716  0.9109  0.9403  0.6267  0.6403\n",
      "\u001b[36m(run_fold pid=469091)\u001b[0m Std     0.0114  0.0151  0.0068  0.0097  0.0067  0.0460  0.0433\n",
      "\u001b[36m(run_fold pid=469091)\u001b[0m Tuning hyperparameters for model xgboost with custom grid using grid search\n"
     ]
    },
    {
     "name": "stderr",
     "output_type": "stream",
     "text": [
      "                                                         \n"
     ]
    },
    {
     "name": "stdout",
     "output_type": "stream",
     "text": [
      "\u001b[36m(run_fold pid=469104)\u001b[0m Transformation Pipeline and Model Successfully Saved\n",
      "\u001b[36m(run_fold pid=469104)\u001b[0m                        Model  Accuracy     AUC  ...     F1   Kappa     MCC\n",
      "\u001b[36m(run_fold pid=469104)\u001b[0m 0  Extreme Gradient Boosting    0.9104  0.9406  ...  0.946  0.6835  0.6884\n",
      "\u001b[36m(run_fold pid=469104)\u001b[0m \n",
      "\u001b[36m(run_fold pid=469104)\u001b[0m [1 rows x 8 columns]\n",
      "\u001b[36m(run_fold pid=469104)\u001b[0m Outer fold 5\n",
      "\u001b[36m(run_fold pid=469104)\u001b[0m Configuring PyCaret for outer fold 5\n"
     ]
    },
    {
     "name": "stderr",
     "output_type": "stream",
     "text": [
      "Processing:   0%|          | 0/4 [00:00<?, ?it/s]\n",
      "Processing:  25%|██▌       | 1/4 [00:00<00:02,  1.41it/s]\n",
      "Processing:  75%|███████▌  | 3/4 [02:29<00:55, 55.17s/it]\n"
     ]
    },
    {
     "name": "stdout",
     "output_type": "stream",
     "text": [
      "\u001b[36m(run_fold pid=469104)\u001b[0m       Accuracy     AUC  Recall   Prec.      F1   Kappa     MCC\n",
      "\u001b[36m(run_fold pid=469104)\u001b[0m Fold                                                          \n",
      "\u001b[36m(run_fold pid=469104)\u001b[0m 0       0.8934  0.8945  0.9656  0.9089  0.9364  0.6085  0.6193\n",
      "\u001b[36m(run_fold pid=469104)\u001b[0m 1       0.9091  0.9206  0.9742  0.9189  0.9457  0.6676  0.6786\n",
      "\u001b[36m(run_fold pid=469104)\u001b[0m 2       0.9054  0.9067  0.9720  0.9168  0.9436  0.6517  0.6626\n",
      "\u001b[36m(run_fold pid=469104)\u001b[0m 3       0.9107  0.9308  0.9806  0.9157  0.9470  0.6642  0.6805\n",
      "\u001b[36m(run_fold pid=469104)\u001b[0m 4       0.8914  0.8867  0.9720  0.9020  0.9357  0.5905  0.6079\n",
      "\u001b[36m(run_fold pid=469104)\u001b[0m Mean    0.9020  0.9079  0.9729  0.9125  0.9417  0.6365  0.6498\n",
      "\u001b[36m(run_fold pid=469104)\u001b[0m Std     0.0081  0.0162  0.0048  0.0062  0.0047  0.0312  0.0304\n",
      "\u001b[36m(run_fold pid=469104)\u001b[0m Tuning hyperparameters for model xgboost with custom grid using grid search\n"
     ]
    },
    {
     "name": "stderr",
     "output_type": "stream",
     "text": [
      "                                                         \n"
     ]
    },
    {
     "name": "stdout",
     "output_type": "stream",
     "text": [
      "\u001b[36m(run_fold pid=469091)\u001b[0m Transformation Pipeline and Model Successfully Saved\n",
      "\u001b[36m(run_fold pid=469091)\u001b[0m                        Model  Accuracy     AUC  ...     F1   Kappa     MCC\n",
      "\u001b[36m(run_fold pid=469091)\u001b[0m 0  Extreme Gradient Boosting    0.9071  0.9376  ...  0.945  0.6481  0.6679\n",
      "\u001b[36m(run_fold pid=469091)\u001b[0m \n",
      "\u001b[36m(run_fold pid=469091)\u001b[0m [1 rows x 8 columns]\n",
      "\u001b[36m(run_fold pid=469104)\u001b[0m Transformation Pipeline and Model Successfully Saved\n",
      "\u001b[36m(run_fold pid=469104)\u001b[0m                        Model  Accuracy     AUC  ...      F1   Kappa     MCC\n",
      "\u001b[36m(run_fold pid=469104)\u001b[0m 0  Extreme Gradient Boosting    0.9093  0.9518  ...  0.9462  0.6602  0.6771\n",
      "\u001b[36m(run_fold pid=469104)\u001b[0m \n",
      "\u001b[36m(run_fold pid=469104)\u001b[0m [1 rows x 8 columns]\n",
      "Final metrics table:\n",
      "     Metric     Mean   Std Dev\n",
      "0  Accuracy  0.89718  0.006071\n",
      "1       AUC  0.91178  0.015454\n",
      "2    Recall  0.97072  0.009087\n",
      "3     Prec.  0.90902  0.004655\n",
      "4        F1  0.93884  0.003827\n",
      "5     Kappa  0.61870  0.019738\n",
      "6       MCC  0.63286  0.021338\n"
     ]
    }
   ],
   "source": [
    "# Initialize the PyCaret Evaluator\n",
    "evaluator = PyCaretEvaluator(dataset=dataset, target=\"Consolidation\", experiment_name=\"CP_Consolidation\", filepath=\"./results/consolidation\")\n",
    "\n",
    "# Model training\n",
    "evaluator.run_experiment(\n",
    "    train_size=0.8,\n",
    "    fold=5,\n",
    "    fold_strategy='stratifiedkfold',\n",
    "    outer_fold=5,\n",
    "    outer_strategy='stratifiedkfold',\n",
    "    session_id=42,\n",
    "    model='xgboost',\n",
    "    optimize='AUC',\n",
    "    custom_grid=grid_hps\n",
    ")"
   ]
  }
 ],
 "metadata": {
  "kernelspec": {
   "display_name": "Python (pycaret_env)",
   "language": "python",
   "name": "pycaret_env"
  },
  "language_info": {
   "codemirror_mode": {
    "name": "ipython",
    "version": 3
   },
   "file_extension": ".py",
   "mimetype": "text/x-python",
   "name": "python",
   "nbconvert_exporter": "python",
   "pygments_lexer": "ipython3",
   "version": "3.11.9"
  }
 },
 "nbformat": 4,
 "nbformat_minor": 5
}
