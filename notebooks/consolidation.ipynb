{
 "cells": [
  {
   "cell_type": "markdown",
   "id": "c4139f23",
   "metadata": {},
   "source": [
    "# Pathology prediction (Consolidation)\n",
    "\n",
    "\n",
    "@References : Soenksen, L.R., Ma, Y., Zeng, C. et al. Integrated multimodal artificial intelligence framework for healthcare applications. npj Digit. Med. 5, 149 (2022). https://doi.org/10.1038/s41746-022-00689-4\n",
    "\n",
    "In this notebook, the task is to predict the Consolidation pathology using the CSV embeddings file"
   ]
  },
  {
   "cell_type": "markdown",
   "id": "8e9e247e",
   "metadata": {},
   "source": [
    "## Introduction\n"
   ]
  },
  {
   "attachments": {},
   "cell_type": "markdown",
   "id": "321d5924",
   "metadata": {},
   "source": [
    "Radiology notes were processed to determine if each of the pathologies was explicitly confirmed as present (value = 1), explicitly confirmed as absent (value = 0), inconclusive in the study (value = −1), or not explored (no value).\n",
    "\n",
    "Selected samples : 0 or 1 values (removing the rest from the training and testing data).\n",
    "\n",
    "Excluded variables : the unstructured radiology notes component (E_rad ) from the allowable input to avoid potential overfitting or misrepresentations of real predictive value.\n",
    "\n",
    "The model is based on binary classification for each target chest pathology.\n",
    "\n",
    "Final sample size for the Consolidation pathology is : (N =  4465)\n"
   ]
  },
  {
   "cell_type": "markdown",
   "id": "59600fd4",
   "metadata": {},
   "source": [
    "#### Imports"
   ]
  },
  {
   "cell_type": "code",
   "execution_count": 1,
   "id": "2d0990d5",
   "metadata": {},
   "outputs": [],
   "source": [
    "import os\n",
    "os.chdir('../')\n",
    "\n",
    "from pandas import read_csv\n",
    "\n",
    "from src.data import constants\n",
    "from src.data.dataset import HAIMDataset\n",
    "from src.evaluation.pycaret_evaluator import PyCaretEvaluator\n",
    "from src.utils.metric_scores import *"
   ]
  },
  {
   "cell_type": "markdown",
   "id": "645a1fe8",
   "metadata": {},
   "source": [
    "#### Read data from local source\n",
    "\n"
   ]
  },
  {
   "cell_type": "code",
   "execution_count": 2,
   "id": "a948c18c",
   "metadata": {},
   "outputs": [],
   "source": [
    "df = read_csv(constants.FILE_DF, nrows=constants.N_DATA)"
   ]
  },
  {
   "cell_type": "markdown",
   "id": "90a95053",
   "metadata": {},
   "source": [
    "#### Create a custom dataset for the HAIM experiment\n"
   ]
  },
  {
   "cell_type": "markdown",
   "id": "671d6e76",
   "metadata": {},
   "source": [
    "Build the target column for the task at hand, set the dataset specificities:  the ``haim_id`` as a ``global_id``, use all sources except ``radiology notes`` "
   ]
  },
  {
   "cell_type": "code",
   "execution_count": 3,
   "id": "239db8a3",
   "metadata": {},
   "outputs": [],
   "source": [
    "dataset = HAIMDataset(df,  \n",
    "                      constants.CHEST_PREDICTORS, \n",
    "                      constants.ALL_MODALITIES, \n",
    "                      constants.CONSOLIDATION,\n",
    "                      constants.IMG_ID, \n",
    "                      constants.GLOBAL_ID)"
   ]
  },
  {
   "cell_type": "markdown",
   "id": "ad7c9d6d",
   "metadata": {},
   "source": [
    "#### Set hyper-parameters"
   ]
  },
  {
   "cell_type": "code",
   "execution_count": 4,
   "id": "9ba42585",
   "metadata": {},
   "outputs": [],
   "source": [
    "# Define the grid oh hyper-parameters for the tuning\n",
    "grid_hps = {'max_depth': [5, 6, 7, 8],\n",
    "            'n_estimators': [200, 300],\n",
    "            'learning_rate': [0.3, 0.1, 0.05],\n",
    "            }"
   ]
  },
  {
   "cell_type": "markdown",
   "id": "75fd10ab",
   "metadata": {},
   "source": [
    "### Model training and predictions using an XGBClassifier model with GridSearchCV and Hyperparameters optimization\n"
   ]
  },
  {
   "cell_type": "markdown",
   "id": "d04a4c63",
   "metadata": {},
   "source": [
    "The goal of this section of the notebook is to compute the following metrics:\n",
    "\n",
    "``ACCURACY_SCORE, BALANCED_ACCURACY_SCORE, SENSITIVITY, SPECIFICITY, AUC, BRIER SCORE, BINARY CROSS-ENTROPY``\n",
    "\n",
    "\n",
    "The\n",
    "hyperparameter combinations of individual XGBoost models were\n",
    "selected within each training loop using a ``fivefold cross-validated\n",
    "grid search`` on the training set (80%). This XGBoost ``tuning process``\n",
    "selected the ``maximum depth of the trees (5–8)``, the number of\n",
    "``estimators (200 or 300)``, and the ``learning rate (0.05, 0.1, 0.3)``\n",
    "according to the parameter value combination leading to the\n",
    "highest observed AUROC within the training loop \n",
    "\n",
    "\n",
    "As mentioned previously, all XGBoost models were trained ``five times with five different data splits`` to repeat the\n",
    "experiments and compute average metrics \n",
    "\n",
    "\n",
    "```Refer to page 8 of study``` : https://doi.org/10.1038/s41746-022-00689-4"
   ]
  },
  {
   "cell_type": "code",
   "execution_count": 5,
   "id": "726c2332",
   "metadata": {},
   "outputs": [
    {
     "name": "stdout",
     "output_type": "stream",
     "text": [
      "Outer fold 1/5\n",
      "Configuring PyCaret for outer fold 1\n",
      "Creating model xgboost for outer fold 1\n"
     ]
    },
    {
     "data": {
      "text/html": [],
      "text/plain": [
       "<IPython.core.display.HTML object>"
      ]
     },
     "metadata": {},
     "output_type": "display_data"
    },
    {
     "data": {
      "text/html": [
       "<style type=\"text/css\">\n",
       "#T_5c17a_row5_col0, #T_5c17a_row5_col1, #T_5c17a_row5_col2, #T_5c17a_row5_col3, #T_5c17a_row5_col4, #T_5c17a_row5_col5, #T_5c17a_row5_col6 {\n",
       "  background: yellow;\n",
       "}\n",
       "</style>\n",
       "<table id=\"T_5c17a\">\n",
       "  <thead>\n",
       "    <tr>\n",
       "      <th class=\"blank level0\" >&nbsp;</th>\n",
       "      <th id=\"T_5c17a_level0_col0\" class=\"col_heading level0 col0\" >Accuracy</th>\n",
       "      <th id=\"T_5c17a_level0_col1\" class=\"col_heading level0 col1\" >AUC</th>\n",
       "      <th id=\"T_5c17a_level0_col2\" class=\"col_heading level0 col2\" >Recall</th>\n",
       "      <th id=\"T_5c17a_level0_col3\" class=\"col_heading level0 col3\" >Prec.</th>\n",
       "      <th id=\"T_5c17a_level0_col4\" class=\"col_heading level0 col4\" >F1</th>\n",
       "      <th id=\"T_5c17a_level0_col5\" class=\"col_heading level0 col5\" >Kappa</th>\n",
       "      <th id=\"T_5c17a_level0_col6\" class=\"col_heading level0 col6\" >MCC</th>\n",
       "    </tr>\n",
       "    <tr>\n",
       "      <th class=\"index_name level0\" >Fold</th>\n",
       "      <th class=\"blank col0\" >&nbsp;</th>\n",
       "      <th class=\"blank col1\" >&nbsp;</th>\n",
       "      <th class=\"blank col2\" >&nbsp;</th>\n",
       "      <th class=\"blank col3\" >&nbsp;</th>\n",
       "      <th class=\"blank col4\" >&nbsp;</th>\n",
       "      <th class=\"blank col5\" >&nbsp;</th>\n",
       "      <th class=\"blank col6\" >&nbsp;</th>\n",
       "    </tr>\n",
       "  </thead>\n",
       "  <tbody>\n",
       "    <tr>\n",
       "      <th id=\"T_5c17a_level0_row0\" class=\"row_heading level0 row0\" >0</th>\n",
       "      <td id=\"T_5c17a_row0_col0\" class=\"data row0 col0\" >0.8794</td>\n",
       "      <td id=\"T_5c17a_row0_col1\" class=\"data row0 col1\" >0.8812</td>\n",
       "      <td id=\"T_5c17a_row0_col2\" class=\"data row0 col2\" >0.9548</td>\n",
       "      <td id=\"T_5c17a_row0_col3\" class=\"data row0 col3\" >0.9024</td>\n",
       "      <td id=\"T_5c17a_row0_col4\" class=\"data row0 col4\" >0.9279</td>\n",
       "      <td id=\"T_5c17a_row0_col5\" class=\"data row0 col5\" >0.5607</td>\n",
       "      <td id=\"T_5c17a_row0_col6\" class=\"data row0 col6\" >0.5692</td>\n",
       "    </tr>\n",
       "    <tr>\n",
       "      <th id=\"T_5c17a_level0_row1\" class=\"row_heading level0 row1\" >1</th>\n",
       "      <td id=\"T_5c17a_row1_col0\" class=\"data row1 col0\" >0.8934</td>\n",
       "      <td id=\"T_5c17a_row1_col1\" class=\"data row1 col1\" >0.9233</td>\n",
       "      <td id=\"T_5c17a_row1_col2\" class=\"data row1 col2\" >0.9720</td>\n",
       "      <td id=\"T_5c17a_row1_col3\" class=\"data row1 col3\" >0.9040</td>\n",
       "      <td id=\"T_5c17a_row1_col4\" class=\"data row1 col4\" >0.9368</td>\n",
       "      <td id=\"T_5c17a_row1_col5\" class=\"data row1 col5\" >0.5989</td>\n",
       "      <td id=\"T_5c17a_row1_col6\" class=\"data row1 col6\" >0.6154</td>\n",
       "    </tr>\n",
       "    <tr>\n",
       "      <th id=\"T_5c17a_level0_row2\" class=\"row_heading level0 row2\" >2</th>\n",
       "      <td id=\"T_5c17a_row2_col0\" class=\"data row2 col0\" >0.8967</td>\n",
       "      <td id=\"T_5c17a_row2_col1\" class=\"data row2 col1\" >0.9169</td>\n",
       "      <td id=\"T_5c17a_row2_col2\" class=\"data row2 col2\" >0.9656</td>\n",
       "      <td id=\"T_5c17a_row2_col3\" class=\"data row2 col3\" >0.9126</td>\n",
       "      <td id=\"T_5c17a_row2_col4\" class=\"data row2 col4\" >0.9383</td>\n",
       "      <td id=\"T_5c17a_row2_col5\" class=\"data row2 col5\" >0.6210</td>\n",
       "      <td id=\"T_5c17a_row2_col6\" class=\"data row2 col6\" >0.6305</td>\n",
       "    </tr>\n",
       "    <tr>\n",
       "      <th id=\"T_5c17a_level0_row3\" class=\"row_heading level0 row3\" >3</th>\n",
       "      <td id=\"T_5c17a_row3_col0\" class=\"data row3 col0\" >0.9124</td>\n",
       "      <td id=\"T_5c17a_row3_col1\" class=\"data row3 col1\" >0.9516</td>\n",
       "      <td id=\"T_5c17a_row3_col2\" class=\"data row3 col2\" >0.9741</td>\n",
       "      <td id=\"T_5c17a_row3_col3\" class=\"data row3 col3\" >0.9224</td>\n",
       "      <td id=\"T_5c17a_row3_col4\" class=\"data row3 col4\" >0.9476</td>\n",
       "      <td id=\"T_5c17a_row3_col5\" class=\"data row3 col5\" >0.6828</td>\n",
       "      <td id=\"T_5c17a_row3_col6\" class=\"data row3 col6\" >0.6923</td>\n",
       "    </tr>\n",
       "    <tr>\n",
       "      <th id=\"T_5c17a_level0_row4\" class=\"row_heading level0 row4\" >4</th>\n",
       "      <td id=\"T_5c17a_row4_col0\" class=\"data row4 col0\" >0.9019</td>\n",
       "      <td id=\"T_5c17a_row4_col1\" class=\"data row4 col1\" >0.9289</td>\n",
       "      <td id=\"T_5c17a_row4_col2\" class=\"data row4 col2\" >0.9720</td>\n",
       "      <td id=\"T_5c17a_row4_col3\" class=\"data row4 col3\" >0.9130</td>\n",
       "      <td id=\"T_5c17a_row4_col4\" class=\"data row4 col4\" >0.9415</td>\n",
       "      <td id=\"T_5c17a_row4_col5\" class=\"data row4 col5\" >0.6390</td>\n",
       "      <td id=\"T_5c17a_row4_col6\" class=\"data row4 col6\" >0.6513</td>\n",
       "    </tr>\n",
       "    <tr>\n",
       "      <th id=\"T_5c17a_level0_row5\" class=\"row_heading level0 row5\" >Mean</th>\n",
       "      <td id=\"T_5c17a_row5_col0\" class=\"data row5 col0\" >0.8968</td>\n",
       "      <td id=\"T_5c17a_row5_col1\" class=\"data row5 col1\" >0.9204</td>\n",
       "      <td id=\"T_5c17a_row5_col2\" class=\"data row5 col2\" >0.9677</td>\n",
       "      <td id=\"T_5c17a_row5_col3\" class=\"data row5 col3\" >0.9109</td>\n",
       "      <td id=\"T_5c17a_row5_col4\" class=\"data row5 col4\" >0.9384</td>\n",
       "      <td id=\"T_5c17a_row5_col5\" class=\"data row5 col5\" >0.6205</td>\n",
       "      <td id=\"T_5c17a_row5_col6\" class=\"data row5 col6\" >0.6317</td>\n",
       "    </tr>\n",
       "    <tr>\n",
       "      <th id=\"T_5c17a_level0_row6\" class=\"row_heading level0 row6\" >Std</th>\n",
       "      <td id=\"T_5c17a_row6_col0\" class=\"data row6 col0\" >0.0108</td>\n",
       "      <td id=\"T_5c17a_row6_col1\" class=\"data row6 col1\" >0.0228</td>\n",
       "      <td id=\"T_5c17a_row6_col2\" class=\"data row6 col2\" >0.0070</td>\n",
       "      <td id=\"T_5c17a_row6_col3\" class=\"data row6 col3\" >0.0072</td>\n",
       "      <td id=\"T_5c17a_row6_col4\" class=\"data row6 col4\" >0.0064</td>\n",
       "      <td id=\"T_5c17a_row6_col5\" class=\"data row6 col5\" >0.0407</td>\n",
       "      <td id=\"T_5c17a_row6_col6\" class=\"data row6 col6\" >0.0406</td>\n",
       "    </tr>\n",
       "  </tbody>\n",
       "</table>\n"
      ],
      "text/plain": [
       "<pandas.io.formats.style.Styler at 0x7f7ee7f66550>"
      ]
     },
     "metadata": {},
     "output_type": "display_data"
    },
    {
     "data": {
      "text/html": [],
      "text/plain": [
       "<IPython.core.display.HTML object>"
      ]
     },
     "metadata": {},
     "output_type": "display_data"
    },
    {
     "name": "stdout",
     "output_type": "stream",
     "text": [
      "Tuning hyperparameters for model xgboost with custom grid\n"
     ]
    },
    {
     "data": {
      "text/html": [],
      "text/plain": [
       "<IPython.core.display.HTML object>"
      ]
     },
     "metadata": {},
     "output_type": "display_data"
    },
    {
     "data": {
      "text/html": [
       "<style type=\"text/css\">\n",
       "#T_b6607_row5_col0, #T_b6607_row5_col1, #T_b6607_row5_col2, #T_b6607_row5_col3, #T_b6607_row5_col4, #T_b6607_row5_col5, #T_b6607_row5_col6 {\n",
       "  background: yellow;\n",
       "}\n",
       "</style>\n",
       "<table id=\"T_b6607\">\n",
       "  <thead>\n",
       "    <tr>\n",
       "      <th class=\"blank level0\" >&nbsp;</th>\n",
       "      <th id=\"T_b6607_level0_col0\" class=\"col_heading level0 col0\" >Accuracy</th>\n",
       "      <th id=\"T_b6607_level0_col1\" class=\"col_heading level0 col1\" >AUC</th>\n",
       "      <th id=\"T_b6607_level0_col2\" class=\"col_heading level0 col2\" >Recall</th>\n",
       "      <th id=\"T_b6607_level0_col3\" class=\"col_heading level0 col3\" >Prec.</th>\n",
       "      <th id=\"T_b6607_level0_col4\" class=\"col_heading level0 col4\" >F1</th>\n",
       "      <th id=\"T_b6607_level0_col5\" class=\"col_heading level0 col5\" >Kappa</th>\n",
       "      <th id=\"T_b6607_level0_col6\" class=\"col_heading level0 col6\" >MCC</th>\n",
       "    </tr>\n",
       "    <tr>\n",
       "      <th class=\"index_name level0\" >Fold</th>\n",
       "      <th class=\"blank col0\" >&nbsp;</th>\n",
       "      <th class=\"blank col1\" >&nbsp;</th>\n",
       "      <th class=\"blank col2\" >&nbsp;</th>\n",
       "      <th class=\"blank col3\" >&nbsp;</th>\n",
       "      <th class=\"blank col4\" >&nbsp;</th>\n",
       "      <th class=\"blank col5\" >&nbsp;</th>\n",
       "      <th class=\"blank col6\" >&nbsp;</th>\n",
       "    </tr>\n",
       "  </thead>\n",
       "  <tbody>\n",
       "    <tr>\n",
       "      <th id=\"T_b6607_level0_row0\" class=\"row_heading level0 row0\" >0</th>\n",
       "      <td id=\"T_b6607_row0_col0\" class=\"data row0 col0\" >0.8846</td>\n",
       "      <td id=\"T_b6607_row0_col1\" class=\"data row0 col1\" >0.8883</td>\n",
       "      <td id=\"T_b6607_row0_col2\" class=\"data row0 col2\" >0.9613</td>\n",
       "      <td id=\"T_b6607_row0_col3\" class=\"data row0 col3\" >0.9030</td>\n",
       "      <td id=\"T_b6607_row0_col4\" class=\"data row0 col4\" >0.9312</td>\n",
       "      <td id=\"T_b6607_row0_col5\" class=\"data row0 col5\" >0.5747</td>\n",
       "      <td id=\"T_b6607_row0_col6\" class=\"data row0 col6\" >0.5858</td>\n",
       "    </tr>\n",
       "    <tr>\n",
       "      <th id=\"T_b6607_level0_row1\" class=\"row_heading level0 row1\" >1</th>\n",
       "      <td id=\"T_b6607_row1_col0\" class=\"data row1 col0\" >0.9021</td>\n",
       "      <td id=\"T_b6607_row1_col1\" class=\"data row1 col1\" >0.9240</td>\n",
       "      <td id=\"T_b6607_row1_col2\" class=\"data row1 col2\" >0.9742</td>\n",
       "      <td id=\"T_b6607_row1_col3\" class=\"data row1 col3\" >0.9115</td>\n",
       "      <td id=\"T_b6607_row1_col4\" class=\"data row1 col4\" >0.9418</td>\n",
       "      <td id=\"T_b6607_row1_col5\" class=\"data row1 col5\" >0.6362</td>\n",
       "      <td id=\"T_b6607_row1_col6\" class=\"data row1 col6\" >0.6504</td>\n",
       "    </tr>\n",
       "    <tr>\n",
       "      <th id=\"T_b6607_level0_row2\" class=\"row_heading level0 row2\" >2</th>\n",
       "      <td id=\"T_b6607_row2_col0\" class=\"data row2 col0\" >0.9072</td>\n",
       "      <td id=\"T_b6607_row2_col1\" class=\"data row2 col1\" >0.9307</td>\n",
       "      <td id=\"T_b6607_row2_col2\" class=\"data row2 col2\" >0.9742</td>\n",
       "      <td id=\"T_b6607_row2_col3\" class=\"data row2 col3\" >0.9170</td>\n",
       "      <td id=\"T_b6607_row2_col4\" class=\"data row2 col4\" >0.9447</td>\n",
       "      <td id=\"T_b6607_row2_col5\" class=\"data row2 col5\" >0.6568</td>\n",
       "      <td id=\"T_b6607_row2_col6\" class=\"data row2 col6\" >0.6687</td>\n",
       "    </tr>\n",
       "    <tr>\n",
       "      <th id=\"T_b6607_level0_row3\" class=\"row_heading level0 row3\" >3</th>\n",
       "      <td id=\"T_b6607_row3_col0\" class=\"data row3 col0\" >0.9159</td>\n",
       "      <td id=\"T_b6607_row3_col1\" class=\"data row3 col1\" >0.9562</td>\n",
       "      <td id=\"T_b6607_row3_col2\" class=\"data row3 col2\" >0.9741</td>\n",
       "      <td id=\"T_b6607_row3_col3\" class=\"data row3 col3\" >0.9262</td>\n",
       "      <td id=\"T_b6607_row3_col4\" class=\"data row3 col4\" >0.9496</td>\n",
       "      <td id=\"T_b6607_row3_col5\" class=\"data row3 col5\" >0.6979</td>\n",
       "      <td id=\"T_b6607_row3_col6\" class=\"data row3 col6\" >0.7060</td>\n",
       "    </tr>\n",
       "    <tr>\n",
       "      <th id=\"T_b6607_level0_row4\" class=\"row_heading level0 row4\" >4</th>\n",
       "      <td id=\"T_b6607_row4_col0\" class=\"data row4 col0\" >0.9089</td>\n",
       "      <td id=\"T_b6607_row4_col1\" class=\"data row4 col1\" >0.9374</td>\n",
       "      <td id=\"T_b6607_row4_col2\" class=\"data row4 col2\" >0.9784</td>\n",
       "      <td id=\"T_b6607_row4_col3\" class=\"data row4 col3\" >0.9153</td>\n",
       "      <td id=\"T_b6607_row4_col4\" class=\"data row4 col4\" >0.9458</td>\n",
       "      <td id=\"T_b6607_row4_col5\" class=\"data row4 col5\" >0.6621</td>\n",
       "      <td id=\"T_b6607_row4_col6\" class=\"data row4 col6\" >0.6769</td>\n",
       "    </tr>\n",
       "    <tr>\n",
       "      <th id=\"T_b6607_level0_row5\" class=\"row_heading level0 row5\" >Mean</th>\n",
       "      <td id=\"T_b6607_row5_col0\" class=\"data row5 col0\" >0.9038</td>\n",
       "      <td id=\"T_b6607_row5_col1\" class=\"data row5 col1\" >0.9273</td>\n",
       "      <td id=\"T_b6607_row5_col2\" class=\"data row5 col2\" >0.9725</td>\n",
       "      <td id=\"T_b6607_row5_col3\" class=\"data row5 col3\" >0.9146</td>\n",
       "      <td id=\"T_b6607_row5_col4\" class=\"data row5 col4\" >0.9426</td>\n",
       "      <td id=\"T_b6607_row5_col5\" class=\"data row5 col5\" >0.6455</td>\n",
       "      <td id=\"T_b6607_row5_col6\" class=\"data row5 col6\" >0.6576</td>\n",
       "    </tr>\n",
       "    <tr>\n",
       "      <th id=\"T_b6607_level0_row6\" class=\"row_heading level0 row6\" >Std</th>\n",
       "      <td id=\"T_b6607_row6_col0\" class=\"data row6 col0\" >0.0105</td>\n",
       "      <td id=\"T_b6607_row6_col1\" class=\"data row6 col1\" >0.0223</td>\n",
       "      <td id=\"T_b6607_row6_col2\" class=\"data row6 col2\" >0.0058</td>\n",
       "      <td id=\"T_b6607_row6_col3\" class=\"data row6 col3\" >0.0076</td>\n",
       "      <td id=\"T_b6607_row6_col4\" class=\"data row6 col4\" >0.0062</td>\n",
       "      <td id=\"T_b6607_row6_col5\" class=\"data row6 col5\" >0.0406</td>\n",
       "      <td id=\"T_b6607_row6_col6\" class=\"data row6 col6\" >0.0401</td>\n",
       "    </tr>\n",
       "  </tbody>\n",
       "</table>\n"
      ],
      "text/plain": [
       "<pandas.io.formats.style.Styler at 0x7f7eec3630d0>"
      ]
     },
     "metadata": {},
     "output_type": "display_data"
    },
    {
     "data": {
      "text/html": [],
      "text/plain": [
       "<IPython.core.display.HTML object>"
      ]
     },
     "metadata": {},
     "output_type": "display_data"
    },
    {
     "name": "stdout",
     "output_type": "stream",
     "text": [
      "Fitting 5 folds for each of 10 candidates, totalling 50 fits\n",
      "Transformation Pipeline and Model Successfully Saved\n"
     ]
    },
    {
     "data": {
      "text/html": [
       "<style type=\"text/css\">\n",
       "</style>\n",
       "<table id=\"T_0bb36\">\n",
       "  <thead>\n",
       "    <tr>\n",
       "      <th class=\"blank level0\" >&nbsp;</th>\n",
       "      <th id=\"T_0bb36_level0_col0\" class=\"col_heading level0 col0\" >Model</th>\n",
       "      <th id=\"T_0bb36_level0_col1\" class=\"col_heading level0 col1\" >Accuracy</th>\n",
       "      <th id=\"T_0bb36_level0_col2\" class=\"col_heading level0 col2\" >AUC</th>\n",
       "      <th id=\"T_0bb36_level0_col3\" class=\"col_heading level0 col3\" >Recall</th>\n",
       "      <th id=\"T_0bb36_level0_col4\" class=\"col_heading level0 col4\" >Prec.</th>\n",
       "      <th id=\"T_0bb36_level0_col5\" class=\"col_heading level0 col5\" >F1</th>\n",
       "      <th id=\"T_0bb36_level0_col6\" class=\"col_heading level0 col6\" >Kappa</th>\n",
       "      <th id=\"T_0bb36_level0_col7\" class=\"col_heading level0 col7\" >MCC</th>\n",
       "    </tr>\n",
       "  </thead>\n",
       "  <tbody>\n",
       "    <tr>\n",
       "      <th id=\"T_0bb36_level0_row0\" class=\"row_heading level0 row0\" >0</th>\n",
       "      <td id=\"T_0bb36_row0_col0\" class=\"data row0 col0\" >Extreme Gradient Boosting</td>\n",
       "      <td id=\"T_0bb36_row0_col1\" class=\"data row0 col1\" >0.8858</td>\n",
       "      <td id=\"T_0bb36_row0_col2\" class=\"data row0 col2\" >0.9166</td>\n",
       "      <td id=\"T_0bb36_row0_col3\" class=\"data row0 col3\" >0.9574</td>\n",
       "      <td id=\"T_0bb36_row0_col4\" class=\"data row0 col4\" >0.9074</td>\n",
       "      <td id=\"T_0bb36_row0_col5\" class=\"data row0 col5\" >0.9317</td>\n",
       "      <td id=\"T_0bb36_row0_col6\" class=\"data row0 col6\" >0.5839</td>\n",
       "      <td id=\"T_0bb36_row0_col7\" class=\"data row0 col7\" >0.5919</td>\n",
       "    </tr>\n",
       "  </tbody>\n",
       "</table>\n"
      ],
      "text/plain": [
       "<pandas.io.formats.style.Styler at 0x7f7eeecdbd10>"
      ]
     },
     "metadata": {},
     "output_type": "display_data"
    },
    {
     "name": "stdout",
     "output_type": "stream",
     "text": [
      "Outer fold 2/5\n",
      "Configuring PyCaret for outer fold 2\n",
      "Creating model xgboost for outer fold 2\n"
     ]
    },
    {
     "data": {
      "text/html": [],
      "text/plain": [
       "<IPython.core.display.HTML object>"
      ]
     },
     "metadata": {},
     "output_type": "display_data"
    },
    {
     "data": {
      "text/html": [
       "<style type=\"text/css\">\n",
       "#T_b1cf4_row5_col0, #T_b1cf4_row5_col1, #T_b1cf4_row5_col2, #T_b1cf4_row5_col3, #T_b1cf4_row5_col4, #T_b1cf4_row5_col5, #T_b1cf4_row5_col6 {\n",
       "  background: yellow;\n",
       "}\n",
       "</style>\n",
       "<table id=\"T_b1cf4\">\n",
       "  <thead>\n",
       "    <tr>\n",
       "      <th class=\"blank level0\" >&nbsp;</th>\n",
       "      <th id=\"T_b1cf4_level0_col0\" class=\"col_heading level0 col0\" >Accuracy</th>\n",
       "      <th id=\"T_b1cf4_level0_col1\" class=\"col_heading level0 col1\" >AUC</th>\n",
       "      <th id=\"T_b1cf4_level0_col2\" class=\"col_heading level0 col2\" >Recall</th>\n",
       "      <th id=\"T_b1cf4_level0_col3\" class=\"col_heading level0 col3\" >Prec.</th>\n",
       "      <th id=\"T_b1cf4_level0_col4\" class=\"col_heading level0 col4\" >F1</th>\n",
       "      <th id=\"T_b1cf4_level0_col5\" class=\"col_heading level0 col5\" >Kappa</th>\n",
       "      <th id=\"T_b1cf4_level0_col6\" class=\"col_heading level0 col6\" >MCC</th>\n",
       "    </tr>\n",
       "    <tr>\n",
       "      <th class=\"index_name level0\" >Fold</th>\n",
       "      <th class=\"blank col0\" >&nbsp;</th>\n",
       "      <th class=\"blank col1\" >&nbsp;</th>\n",
       "      <th class=\"blank col2\" >&nbsp;</th>\n",
       "      <th class=\"blank col3\" >&nbsp;</th>\n",
       "      <th class=\"blank col4\" >&nbsp;</th>\n",
       "      <th class=\"blank col5\" >&nbsp;</th>\n",
       "      <th class=\"blank col6\" >&nbsp;</th>\n",
       "    </tr>\n",
       "  </thead>\n",
       "  <tbody>\n",
       "    <tr>\n",
       "      <th id=\"T_b1cf4_level0_row0\" class=\"row_heading level0 row0\" >0</th>\n",
       "      <td id=\"T_b1cf4_row0_col0\" class=\"data row0 col0\" >0.8986</td>\n",
       "      <td id=\"T_b1cf4_row0_col1\" class=\"data row0 col1\" >0.8979</td>\n",
       "      <td id=\"T_b1cf4_row0_col2\" class=\"data row0 col2\" >0.9699</td>\n",
       "      <td id=\"T_b1cf4_row0_col3\" class=\"data row0 col3\" >0.9111</td>\n",
       "      <td id=\"T_b1cf4_row0_col4\" class=\"data row0 col4\" >0.9396</td>\n",
       "      <td id=\"T_b1cf4_row0_col5\" class=\"data row0 col5\" >0.6263</td>\n",
       "      <td id=\"T_b1cf4_row0_col6\" class=\"data row0 col6\" >0.6383</td>\n",
       "    </tr>\n",
       "    <tr>\n",
       "      <th id=\"T_b1cf4_level0_row1\" class=\"row_heading level0 row1\" >1</th>\n",
       "      <td id=\"T_b1cf4_row1_col0\" class=\"data row1 col0\" >0.8899</td>\n",
       "      <td id=\"T_b1cf4_row1_col1\" class=\"data row1 col1\" >0.9118</td>\n",
       "      <td id=\"T_b1cf4_row1_col2\" class=\"data row1 col2\" >0.9720</td>\n",
       "      <td id=\"T_b1cf4_row1_col3\" class=\"data row1 col3\" >0.9004</td>\n",
       "      <td id=\"T_b1cf4_row1_col4\" class=\"data row1 col4\" >0.9349</td>\n",
       "      <td id=\"T_b1cf4_row1_col5\" class=\"data row1 col5\" >0.5823</td>\n",
       "      <td id=\"T_b1cf4_row1_col6\" class=\"data row1 col6\" >0.6006</td>\n",
       "    </tr>\n",
       "    <tr>\n",
       "      <th id=\"T_b1cf4_level0_row2\" class=\"row_heading level0 row2\" >2</th>\n",
       "      <td id=\"T_b1cf4_row2_col0\" class=\"data row2 col0\" >0.9335</td>\n",
       "      <td id=\"T_b1cf4_row2_col1\" class=\"data row2 col1\" >0.9586</td>\n",
       "      <td id=\"T_b1cf4_row2_col2\" class=\"data row2 col2\" >0.9763</td>\n",
       "      <td id=\"T_b1cf4_row2_col3\" class=\"data row2 col3\" >0.9439</td>\n",
       "      <td id=\"T_b1cf4_row2_col4\" class=\"data row2 col4\" >0.9598</td>\n",
       "      <td id=\"T_b1cf4_row2_col5\" class=\"data row2 col5\" >0.7663</td>\n",
       "      <td id=\"T_b1cf4_row2_col6\" class=\"data row2 col6\" >0.7700</td>\n",
       "    </tr>\n",
       "    <tr>\n",
       "      <th id=\"T_b1cf4_level0_row3\" class=\"row_heading level0 row3\" >3</th>\n",
       "      <td id=\"T_b1cf4_row3_col0\" class=\"data row3 col0\" >0.9037</td>\n",
       "      <td id=\"T_b1cf4_row3_col1\" class=\"data row3 col1\" >0.9242</td>\n",
       "      <td id=\"T_b1cf4_row3_col2\" class=\"data row3 col2\" >0.9763</td>\n",
       "      <td id=\"T_b1cf4_row3_col3\" class=\"data row3 col3\" >0.9116</td>\n",
       "      <td id=\"T_b1cf4_row3_col4\" class=\"data row3 col4\" >0.9429</td>\n",
       "      <td id=\"T_b1cf4_row3_col5\" class=\"data row3 col5\" >0.6379</td>\n",
       "      <td id=\"T_b1cf4_row3_col6\" class=\"data row3 col6\" >0.6535</td>\n",
       "    </tr>\n",
       "    <tr>\n",
       "      <th id=\"T_b1cf4_level0_row4\" class=\"row_heading level0 row4\" >4</th>\n",
       "      <td id=\"T_b1cf4_row4_col0\" class=\"data row4 col0\" >0.8914</td>\n",
       "      <td id=\"T_b1cf4_row4_col1\" class=\"data row4 col1\" >0.8882</td>\n",
       "      <td id=\"T_b1cf4_row4_col2\" class=\"data row4 col2\" >0.9591</td>\n",
       "      <td id=\"T_b1cf4_row4_col3\" class=\"data row4 col3\" >0.9119</td>\n",
       "      <td id=\"T_b1cf4_row4_col4\" class=\"data row4 col4\" >0.9349</td>\n",
       "      <td id=\"T_b1cf4_row4_col5\" class=\"data row4 col5\" >0.6098</td>\n",
       "      <td id=\"T_b1cf4_row4_col6\" class=\"data row4 col6\" >0.6169</td>\n",
       "    </tr>\n",
       "    <tr>\n",
       "      <th id=\"T_b1cf4_level0_row5\" class=\"row_heading level0 row5\" >Mean</th>\n",
       "      <td id=\"T_b1cf4_row5_col0\" class=\"data row5 col0\" >0.9034</td>\n",
       "      <td id=\"T_b1cf4_row5_col1\" class=\"data row5 col1\" >0.9161</td>\n",
       "      <td id=\"T_b1cf4_row5_col2\" class=\"data row5 col2\" >0.9707</td>\n",
       "      <td id=\"T_b1cf4_row5_col3\" class=\"data row5 col3\" >0.9158</td>\n",
       "      <td id=\"T_b1cf4_row5_col4\" class=\"data row5 col4\" >0.9424</td>\n",
       "      <td id=\"T_b1cf4_row5_col5\" class=\"data row5 col5\" >0.6445</td>\n",
       "      <td id=\"T_b1cf4_row5_col6\" class=\"data row5 col6\" >0.6559</td>\n",
       "    </tr>\n",
       "    <tr>\n",
       "      <th id=\"T_b1cf4_level0_row6\" class=\"row_heading level0 row6\" >Std</th>\n",
       "      <td id=\"T_b1cf4_row6_col0\" class=\"data row6 col0\" >0.0158</td>\n",
       "      <td id=\"T_b1cf4_row6_col1\" class=\"data row6 col1\" >0.0245</td>\n",
       "      <td id=\"T_b1cf4_row6_col2\" class=\"data row6 col2\" >0.0064</td>\n",
       "      <td id=\"T_b1cf4_row6_col3\" class=\"data row6 col3\" >0.0147</td>\n",
       "      <td id=\"T_b1cf4_row6_col4\" class=\"data row6 col4\" >0.0092</td>\n",
       "      <td id=\"T_b1cf4_row6_col5\" class=\"data row6 col5\" >0.0637</td>\n",
       "      <td id=\"T_b1cf4_row6_col6\" class=\"data row6 col6\" >0.0599</td>\n",
       "    </tr>\n",
       "  </tbody>\n",
       "</table>\n"
      ],
      "text/plain": [
       "<pandas.io.formats.style.Styler at 0x7f7f20e98c50>"
      ]
     },
     "metadata": {},
     "output_type": "display_data"
    },
    {
     "data": {
      "text/html": [],
      "text/plain": [
       "<IPython.core.display.HTML object>"
      ]
     },
     "metadata": {},
     "output_type": "display_data"
    },
    {
     "name": "stdout",
     "output_type": "stream",
     "text": [
      "Tuning hyperparameters for model xgboost with custom grid\n"
     ]
    },
    {
     "data": {
      "text/html": [],
      "text/plain": [
       "<IPython.core.display.HTML object>"
      ]
     },
     "metadata": {},
     "output_type": "display_data"
    },
    {
     "data": {
      "text/html": [
       "<style type=\"text/css\">\n",
       "#T_e1a34_row5_col0, #T_e1a34_row5_col1, #T_e1a34_row5_col2, #T_e1a34_row5_col3, #T_e1a34_row5_col4, #T_e1a34_row5_col5, #T_e1a34_row5_col6 {\n",
       "  background: yellow;\n",
       "}\n",
       "</style>\n",
       "<table id=\"T_e1a34\">\n",
       "  <thead>\n",
       "    <tr>\n",
       "      <th class=\"blank level0\" >&nbsp;</th>\n",
       "      <th id=\"T_e1a34_level0_col0\" class=\"col_heading level0 col0\" >Accuracy</th>\n",
       "      <th id=\"T_e1a34_level0_col1\" class=\"col_heading level0 col1\" >AUC</th>\n",
       "      <th id=\"T_e1a34_level0_col2\" class=\"col_heading level0 col2\" >Recall</th>\n",
       "      <th id=\"T_e1a34_level0_col3\" class=\"col_heading level0 col3\" >Prec.</th>\n",
       "      <th id=\"T_e1a34_level0_col4\" class=\"col_heading level0 col4\" >F1</th>\n",
       "      <th id=\"T_e1a34_level0_col5\" class=\"col_heading level0 col5\" >Kappa</th>\n",
       "      <th id=\"T_e1a34_level0_col6\" class=\"col_heading level0 col6\" >MCC</th>\n",
       "    </tr>\n",
       "    <tr>\n",
       "      <th class=\"index_name level0\" >Fold</th>\n",
       "      <th class=\"blank col0\" >&nbsp;</th>\n",
       "      <th class=\"blank col1\" >&nbsp;</th>\n",
       "      <th class=\"blank col2\" >&nbsp;</th>\n",
       "      <th class=\"blank col3\" >&nbsp;</th>\n",
       "      <th class=\"blank col4\" >&nbsp;</th>\n",
       "      <th class=\"blank col5\" >&nbsp;</th>\n",
       "      <th class=\"blank col6\" >&nbsp;</th>\n",
       "    </tr>\n",
       "  </thead>\n",
       "  <tbody>\n",
       "    <tr>\n",
       "      <th id=\"T_e1a34_level0_row0\" class=\"row_heading level0 row0\" >0</th>\n",
       "      <td id=\"T_e1a34_row0_col0\" class=\"data row0 col0\" >0.9038</td>\n",
       "      <td id=\"T_e1a34_row0_col1\" class=\"data row0 col1\" >0.8993</td>\n",
       "      <td id=\"T_e1a34_row0_col2\" class=\"data row0 col2\" >0.9720</td>\n",
       "      <td id=\"T_e1a34_row0_col3\" class=\"data row0 col3\" >0.9150</td>\n",
       "      <td id=\"T_e1a34_row0_col4\" class=\"data row0 col4\" >0.9426</td>\n",
       "      <td id=\"T_e1a34_row0_col5\" class=\"data row0 col5\" >0.6470</td>\n",
       "      <td id=\"T_e1a34_row0_col6\" class=\"data row0 col6\" >0.6585</td>\n",
       "    </tr>\n",
       "    <tr>\n",
       "      <th id=\"T_e1a34_level0_row1\" class=\"row_heading level0 row1\" >1</th>\n",
       "      <td id=\"T_e1a34_row1_col0\" class=\"data row1 col0\" >0.8881</td>\n",
       "      <td id=\"T_e1a34_row1_col1\" class=\"data row1 col1\" >0.9093</td>\n",
       "      <td id=\"T_e1a34_row1_col2\" class=\"data row1 col2\" >0.9634</td>\n",
       "      <td id=\"T_e1a34_row1_col3\" class=\"data row1 col3\" >0.9051</td>\n",
       "      <td id=\"T_e1a34_row1_col4\" class=\"data row1 col4\" >0.9333</td>\n",
       "      <td id=\"T_e1a34_row1_col5\" class=\"data row1 col5\" >0.5876</td>\n",
       "      <td id=\"T_e1a34_row1_col6\" class=\"data row1 col6\" >0.5989</td>\n",
       "    </tr>\n",
       "    <tr>\n",
       "      <th id=\"T_e1a34_level0_row2\" class=\"row_heading level0 row2\" >2</th>\n",
       "      <td id=\"T_e1a34_row2_col0\" class=\"data row2 col0\" >0.9387</td>\n",
       "      <td id=\"T_e1a34_row2_col1\" class=\"data row2 col1\" >0.9637</td>\n",
       "      <td id=\"T_e1a34_row2_col2\" class=\"data row2 col2\" >0.9742</td>\n",
       "      <td id=\"T_e1a34_row2_col3\" class=\"data row2 col3\" >0.9517</td>\n",
       "      <td id=\"T_e1a34_row2_col4\" class=\"data row2 col4\" >0.9628</td>\n",
       "      <td id=\"T_e1a34_row2_col5\" class=\"data row2 col5\" >0.7888</td>\n",
       "      <td id=\"T_e1a34_row2_col6\" class=\"data row2 col6\" >0.7906</td>\n",
       "    </tr>\n",
       "    <tr>\n",
       "      <th id=\"T_e1a34_level0_row3\" class=\"row_heading level0 row3\" >3</th>\n",
       "      <td id=\"T_e1a34_row3_col0\" class=\"data row3 col0\" >0.9177</td>\n",
       "      <td id=\"T_e1a34_row3_col1\" class=\"data row3 col1\" >0.9261</td>\n",
       "      <td id=\"T_e1a34_row3_col2\" class=\"data row3 col2\" >0.9871</td>\n",
       "      <td id=\"T_e1a34_row3_col3\" class=\"data row3 col3\" >0.9180</td>\n",
       "      <td id=\"T_e1a34_row3_col4\" class=\"data row3 col4\" >0.9513</td>\n",
       "      <td id=\"T_e1a34_row3_col5\" class=\"data row3 col5\" >0.6880</td>\n",
       "      <td id=\"T_e1a34_row3_col6\" class=\"data row3 col6\" >0.7074</td>\n",
       "    </tr>\n",
       "    <tr>\n",
       "      <th id=\"T_e1a34_level0_row4\" class=\"row_heading level0 row4\" >4</th>\n",
       "      <td id=\"T_e1a34_row4_col0\" class=\"data row4 col0\" >0.9037</td>\n",
       "      <td id=\"T_e1a34_row4_col1\" class=\"data row4 col1\" >0.8910</td>\n",
       "      <td id=\"T_e1a34_row4_col2\" class=\"data row4 col2\" >0.9784</td>\n",
       "      <td id=\"T_e1a34_row4_col3\" class=\"data row4 col3\" >0.9098</td>\n",
       "      <td id=\"T_e1a34_row4_col4\" class=\"data row4 col4\" >0.9429</td>\n",
       "      <td id=\"T_e1a34_row4_col5\" class=\"data row4 col5\" >0.6382</td>\n",
       "      <td id=\"T_e1a34_row4_col6\" class=\"data row4 col6\" >0.6558</td>\n",
       "    </tr>\n",
       "    <tr>\n",
       "      <th id=\"T_e1a34_level0_row5\" class=\"row_heading level0 row5\" >Mean</th>\n",
       "      <td id=\"T_e1a34_row5_col0\" class=\"data row5 col0\" >0.9104</td>\n",
       "      <td id=\"T_e1a34_row5_col1\" class=\"data row5 col1\" >0.9179</td>\n",
       "      <td id=\"T_e1a34_row5_col2\" class=\"data row5 col2\" >0.9750</td>\n",
       "      <td id=\"T_e1a34_row5_col3\" class=\"data row5 col3\" >0.9199</td>\n",
       "      <td id=\"T_e1a34_row5_col4\" class=\"data row5 col4\" >0.9466</td>\n",
       "      <td id=\"T_e1a34_row5_col5\" class=\"data row5 col5\" >0.6699</td>\n",
       "      <td id=\"T_e1a34_row5_col6\" class=\"data row5 col6\" >0.6822</td>\n",
       "    </tr>\n",
       "    <tr>\n",
       "      <th id=\"T_e1a34_level0_row6\" class=\"row_heading level0 row6\" >Std</th>\n",
       "      <td id=\"T_e1a34_row6_col0\" class=\"data row6 col0\" >0.0170</td>\n",
       "      <td id=\"T_e1a34_row6_col1\" class=\"data row6 col1\" >0.0257</td>\n",
       "      <td id=\"T_e1a34_row6_col2\" class=\"data row6 col2\" >0.0078</td>\n",
       "      <td id=\"T_e1a34_row6_col3\" class=\"data row6 col3\" >0.0165</td>\n",
       "      <td id=\"T_e1a34_row6_col4\" class=\"data row6 col4\" >0.0099</td>\n",
       "      <td id=\"T_e1a34_row6_col5\" class=\"data row6 col5\" >0.0675</td>\n",
       "      <td id=\"T_e1a34_row6_col6\" class=\"data row6 col6\" >0.0641</td>\n",
       "    </tr>\n",
       "  </tbody>\n",
       "</table>\n"
      ],
      "text/plain": [
       "<pandas.io.formats.style.Styler at 0x7f7ef9720e50>"
      ]
     },
     "metadata": {},
     "output_type": "display_data"
    },
    {
     "data": {
      "text/html": [],
      "text/plain": [
       "<IPython.core.display.HTML object>"
      ]
     },
     "metadata": {},
     "output_type": "display_data"
    },
    {
     "name": "stdout",
     "output_type": "stream",
     "text": [
      "Fitting 5 folds for each of 10 candidates, totalling 50 fits\n",
      "Transformation Pipeline and Model Successfully Saved\n"
     ]
    },
    {
     "data": {
      "text/html": [
       "<style type=\"text/css\">\n",
       "</style>\n",
       "<table id=\"T_aca7c\">\n",
       "  <thead>\n",
       "    <tr>\n",
       "      <th class=\"blank level0\" >&nbsp;</th>\n",
       "      <th id=\"T_aca7c_level0_col0\" class=\"col_heading level0 col0\" >Model</th>\n",
       "      <th id=\"T_aca7c_level0_col1\" class=\"col_heading level0 col1\" >Accuracy</th>\n",
       "      <th id=\"T_aca7c_level0_col2\" class=\"col_heading level0 col2\" >AUC</th>\n",
       "      <th id=\"T_aca7c_level0_col3\" class=\"col_heading level0 col3\" >Recall</th>\n",
       "      <th id=\"T_aca7c_level0_col4\" class=\"col_heading level0 col4\" >Prec.</th>\n",
       "      <th id=\"T_aca7c_level0_col5\" class=\"col_heading level0 col5\" >F1</th>\n",
       "      <th id=\"T_aca7c_level0_col6\" class=\"col_heading level0 col6\" >Kappa</th>\n",
       "      <th id=\"T_aca7c_level0_col7\" class=\"col_heading level0 col7\" >MCC</th>\n",
       "    </tr>\n",
       "  </thead>\n",
       "  <tbody>\n",
       "    <tr>\n",
       "      <th id=\"T_aca7c_level0_row0\" class=\"row_heading level0 row0\" >0</th>\n",
       "      <td id=\"T_aca7c_row0_col0\" class=\"data row0 col0\" >Extreme Gradient Boosting</td>\n",
       "      <td id=\"T_aca7c_row0_col1\" class=\"data row0 col1\" >0.8779</td>\n",
       "      <td id=\"T_aca7c_row0_col2\" class=\"data row0 col2\" >0.9013</td>\n",
       "      <td id=\"T_aca7c_row0_col3\" class=\"data row0 col3\" >0.9614</td>\n",
       "      <td id=\"T_aca7c_row0_col4\" class=\"data row0 col4\" >0.8960</td>\n",
       "      <td id=\"T_aca7c_row0_col5\" class=\"data row0 col5\" >0.9276</td>\n",
       "      <td id=\"T_aca7c_row0_col6\" class=\"data row0 col6\" >0.5427</td>\n",
       "      <td id=\"T_aca7c_row0_col7\" class=\"data row0 col7\" >0.5566</td>\n",
       "    </tr>\n",
       "  </tbody>\n",
       "</table>\n"
      ],
      "text/plain": [
       "<pandas.io.formats.style.Styler at 0x7f7ee7562f90>"
      ]
     },
     "metadata": {},
     "output_type": "display_data"
    },
    {
     "name": "stdout",
     "output_type": "stream",
     "text": [
      "Outer fold 3/5\n",
      "Configuring PyCaret for outer fold 3\n",
      "Creating model xgboost for outer fold 3\n"
     ]
    },
    {
     "data": {
      "text/html": [],
      "text/plain": [
       "<IPython.core.display.HTML object>"
      ]
     },
     "metadata": {},
     "output_type": "display_data"
    },
    {
     "data": {
      "text/html": [
       "<style type=\"text/css\">\n",
       "#T_fc06e_row5_col0, #T_fc06e_row5_col1, #T_fc06e_row5_col2, #T_fc06e_row5_col3, #T_fc06e_row5_col4, #T_fc06e_row5_col5, #T_fc06e_row5_col6 {\n",
       "  background: yellow;\n",
       "}\n",
       "</style>\n",
       "<table id=\"T_fc06e\">\n",
       "  <thead>\n",
       "    <tr>\n",
       "      <th class=\"blank level0\" >&nbsp;</th>\n",
       "      <th id=\"T_fc06e_level0_col0\" class=\"col_heading level0 col0\" >Accuracy</th>\n",
       "      <th id=\"T_fc06e_level0_col1\" class=\"col_heading level0 col1\" >AUC</th>\n",
       "      <th id=\"T_fc06e_level0_col2\" class=\"col_heading level0 col2\" >Recall</th>\n",
       "      <th id=\"T_fc06e_level0_col3\" class=\"col_heading level0 col3\" >Prec.</th>\n",
       "      <th id=\"T_fc06e_level0_col4\" class=\"col_heading level0 col4\" >F1</th>\n",
       "      <th id=\"T_fc06e_level0_col5\" class=\"col_heading level0 col5\" >Kappa</th>\n",
       "      <th id=\"T_fc06e_level0_col6\" class=\"col_heading level0 col6\" >MCC</th>\n",
       "    </tr>\n",
       "    <tr>\n",
       "      <th class=\"index_name level0\" >Fold</th>\n",
       "      <th class=\"blank col0\" >&nbsp;</th>\n",
       "      <th class=\"blank col1\" >&nbsp;</th>\n",
       "      <th class=\"blank col2\" >&nbsp;</th>\n",
       "      <th class=\"blank col3\" >&nbsp;</th>\n",
       "      <th class=\"blank col4\" >&nbsp;</th>\n",
       "      <th class=\"blank col5\" >&nbsp;</th>\n",
       "      <th class=\"blank col6\" >&nbsp;</th>\n",
       "    </tr>\n",
       "  </thead>\n",
       "  <tbody>\n",
       "    <tr>\n",
       "      <th id=\"T_fc06e_level0_row0\" class=\"row_heading level0 row0\" >0</th>\n",
       "      <td id=\"T_fc06e_row0_col0\" class=\"data row0 col0\" >0.8864</td>\n",
       "      <td id=\"T_fc06e_row0_col1\" class=\"data row0 col1\" >0.9067</td>\n",
       "      <td id=\"T_fc06e_row0_col2\" class=\"data row0 col2\" >0.9613</td>\n",
       "      <td id=\"T_fc06e_row0_col3\" class=\"data row0 col3\" >0.9049</td>\n",
       "      <td id=\"T_fc06e_row0_col4\" class=\"data row0 col4\" >0.9322</td>\n",
       "      <td id=\"T_fc06e_row0_col5\" class=\"data row0 col5\" >0.5828</td>\n",
       "      <td id=\"T_fc06e_row0_col6\" class=\"data row0 col6\" >0.5932</td>\n",
       "    </tr>\n",
       "    <tr>\n",
       "      <th id=\"T_fc06e_level0_row1\" class=\"row_heading level0 row1\" >1</th>\n",
       "      <td id=\"T_fc06e_row1_col0\" class=\"data row1 col0\" >0.9126</td>\n",
       "      <td id=\"T_fc06e_row1_col1\" class=\"data row1 col1\" >0.9244</td>\n",
       "      <td id=\"T_fc06e_row1_col2\" class=\"data row1 col2\" >0.9699</td>\n",
       "      <td id=\"T_fc06e_row1_col3\" class=\"data row1 col3\" >0.9261</td>\n",
       "      <td id=\"T_fc06e_row1_col4\" class=\"data row1 col4\" >0.9475</td>\n",
       "      <td id=\"T_fc06e_row1_col5\" class=\"data row1 col5\" >0.6879</td>\n",
       "      <td id=\"T_fc06e_row1_col6\" class=\"data row1 col6\" >0.6945</td>\n",
       "    </tr>\n",
       "    <tr>\n",
       "      <th id=\"T_fc06e_level0_row2\" class=\"row_heading level0 row2\" >2</th>\n",
       "      <td id=\"T_fc06e_row2_col0\" class=\"data row2 col0\" >0.8809</td>\n",
       "      <td id=\"T_fc06e_row2_col1\" class=\"data row2 col1\" >0.9005</td>\n",
       "      <td id=\"T_fc06e_row2_col2\" class=\"data row2 col2\" >0.9699</td>\n",
       "      <td id=\"T_fc06e_row2_col3\" class=\"data row2 col3\" >0.8931</td>\n",
       "      <td id=\"T_fc06e_row2_col4\" class=\"data row2 col4\" >0.9299</td>\n",
       "      <td id=\"T_fc06e_row2_col5\" class=\"data row2 col5\" >0.5390</td>\n",
       "      <td id=\"T_fc06e_row2_col6\" class=\"data row2 col6\" >0.5600</td>\n",
       "    </tr>\n",
       "    <tr>\n",
       "      <th id=\"T_fc06e_level0_row3\" class=\"row_heading level0 row3\" >3</th>\n",
       "      <td id=\"T_fc06e_row3_col0\" class=\"data row3 col0\" >0.9177</td>\n",
       "      <td id=\"T_fc06e_row3_col1\" class=\"data row3 col1\" >0.9438</td>\n",
       "      <td id=\"T_fc06e_row3_col2\" class=\"data row3 col2\" >0.9828</td>\n",
       "      <td id=\"T_fc06e_row3_col3\" class=\"data row3 col3\" >0.9214</td>\n",
       "      <td id=\"T_fc06e_row3_col4\" class=\"data row3 col4\" >0.9511</td>\n",
       "      <td id=\"T_fc06e_row3_col5\" class=\"data row3 col5\" >0.6931</td>\n",
       "      <td id=\"T_fc06e_row3_col6\" class=\"data row3 col6\" >0.7078</td>\n",
       "    </tr>\n",
       "    <tr>\n",
       "      <th id=\"T_fc06e_level0_row4\" class=\"row_heading level0 row4\" >4</th>\n",
       "      <td id=\"T_fc06e_row4_col0\" class=\"data row4 col0\" >0.9054</td>\n",
       "      <td id=\"T_fc06e_row4_col1\" class=\"data row4 col1\" >0.9221</td>\n",
       "      <td id=\"T_fc06e_row4_col2\" class=\"data row4 col2\" >0.9806</td>\n",
       "      <td id=\"T_fc06e_row4_col3\" class=\"data row4 col3\" >0.9100</td>\n",
       "      <td id=\"T_fc06e_row4_col4\" class=\"data row4 col4\" >0.9440</td>\n",
       "      <td id=\"T_fc06e_row4_col5\" class=\"data row4 col5\" >0.6433</td>\n",
       "      <td id=\"T_fc06e_row4_col6\" class=\"data row4 col6\" >0.6623</td>\n",
       "    </tr>\n",
       "    <tr>\n",
       "      <th id=\"T_fc06e_level0_row5\" class=\"row_heading level0 row5\" >Mean</th>\n",
       "      <td id=\"T_fc06e_row5_col0\" class=\"data row5 col0\" >0.9006</td>\n",
       "      <td id=\"T_fc06e_row5_col1\" class=\"data row5 col1\" >0.9195</td>\n",
       "      <td id=\"T_fc06e_row5_col2\" class=\"data row5 col2\" >0.9729</td>\n",
       "      <td id=\"T_fc06e_row5_col3\" class=\"data row5 col3\" >0.9111</td>\n",
       "      <td id=\"T_fc06e_row5_col4\" class=\"data row5 col4\" >0.9409</td>\n",
       "      <td id=\"T_fc06e_row5_col5\" class=\"data row5 col5\" >0.6292</td>\n",
       "      <td id=\"T_fc06e_row5_col6\" class=\"data row5 col6\" >0.6435</td>\n",
       "    </tr>\n",
       "    <tr>\n",
       "      <th id=\"T_fc06e_level0_row6\" class=\"row_heading level0 row6\" >Std</th>\n",
       "      <td id=\"T_fc06e_row6_col0\" class=\"data row6 col0\" >0.0145</td>\n",
       "      <td id=\"T_fc06e_row6_col1\" class=\"data row6 col1\" >0.0151</td>\n",
       "      <td id=\"T_fc06e_row6_col2\" class=\"data row6 col2\" >0.0079</td>\n",
       "      <td id=\"T_fc06e_row6_col3\" class=\"data row6 col3\" >0.0118</td>\n",
       "      <td id=\"T_fc06e_row6_col4\" class=\"data row6 col4\" >0.0084</td>\n",
       "      <td id=\"T_fc06e_row6_col5\" class=\"data row6 col5\" >0.0600</td>\n",
       "      <td id=\"T_fc06e_row6_col6\" class=\"data row6 col6\" >0.0576</td>\n",
       "    </tr>\n",
       "  </tbody>\n",
       "</table>\n"
      ],
      "text/plain": [
       "<pandas.io.formats.style.Styler at 0x7f7ef0359d10>"
      ]
     },
     "metadata": {},
     "output_type": "display_data"
    },
    {
     "data": {
      "text/html": [],
      "text/plain": [
       "<IPython.core.display.HTML object>"
      ]
     },
     "metadata": {},
     "output_type": "display_data"
    },
    {
     "name": "stdout",
     "output_type": "stream",
     "text": [
      "Tuning hyperparameters for model xgboost with custom grid\n"
     ]
    },
    {
     "data": {
      "text/html": [],
      "text/plain": [
       "<IPython.core.display.HTML object>"
      ]
     },
     "metadata": {},
     "output_type": "display_data"
    },
    {
     "data": {
      "text/html": [
       "<style type=\"text/css\">\n",
       "#T_f93f5_row5_col0, #T_f93f5_row5_col1, #T_f93f5_row5_col2, #T_f93f5_row5_col3, #T_f93f5_row5_col4, #T_f93f5_row5_col5, #T_f93f5_row5_col6 {\n",
       "  background: yellow;\n",
       "}\n",
       "</style>\n",
       "<table id=\"T_f93f5\">\n",
       "  <thead>\n",
       "    <tr>\n",
       "      <th class=\"blank level0\" >&nbsp;</th>\n",
       "      <th id=\"T_f93f5_level0_col0\" class=\"col_heading level0 col0\" >Accuracy</th>\n",
       "      <th id=\"T_f93f5_level0_col1\" class=\"col_heading level0 col1\" >AUC</th>\n",
       "      <th id=\"T_f93f5_level0_col2\" class=\"col_heading level0 col2\" >Recall</th>\n",
       "      <th id=\"T_f93f5_level0_col3\" class=\"col_heading level0 col3\" >Prec.</th>\n",
       "      <th id=\"T_f93f5_level0_col4\" class=\"col_heading level0 col4\" >F1</th>\n",
       "      <th id=\"T_f93f5_level0_col5\" class=\"col_heading level0 col5\" >Kappa</th>\n",
       "      <th id=\"T_f93f5_level0_col6\" class=\"col_heading level0 col6\" >MCC</th>\n",
       "    </tr>\n",
       "    <tr>\n",
       "      <th class=\"index_name level0\" >Fold</th>\n",
       "      <th class=\"blank col0\" >&nbsp;</th>\n",
       "      <th class=\"blank col1\" >&nbsp;</th>\n",
       "      <th class=\"blank col2\" >&nbsp;</th>\n",
       "      <th class=\"blank col3\" >&nbsp;</th>\n",
       "      <th class=\"blank col4\" >&nbsp;</th>\n",
       "      <th class=\"blank col5\" >&nbsp;</th>\n",
       "      <th class=\"blank col6\" >&nbsp;</th>\n",
       "    </tr>\n",
       "  </thead>\n",
       "  <tbody>\n",
       "    <tr>\n",
       "      <th id=\"T_f93f5_level0_row0\" class=\"row_heading level0 row0\" >0</th>\n",
       "      <td id=\"T_f93f5_row0_col0\" class=\"data row0 col0\" >0.8969</td>\n",
       "      <td id=\"T_f93f5_row0_col1\" class=\"data row0 col1\" >0.9158</td>\n",
       "      <td id=\"T_f93f5_row0_col2\" class=\"data row0 col2\" >0.9742</td>\n",
       "      <td id=\"T_f93f5_row0_col3\" class=\"data row0 col3\" >0.9060</td>\n",
       "      <td id=\"T_f93f5_row0_col4\" class=\"data row0 col4\" >0.9389</td>\n",
       "      <td id=\"T_f93f5_row0_col5\" class=\"data row0 col5\" >0.6120</td>\n",
       "      <td id=\"T_f93f5_row0_col6\" class=\"data row0 col6\" >0.6289</td>\n",
       "    </tr>\n",
       "    <tr>\n",
       "      <th id=\"T_f93f5_level0_row1\" class=\"row_heading level0 row1\" >1</th>\n",
       "      <td id=\"T_f93f5_row1_col0\" class=\"data row1 col0\" >0.9108</td>\n",
       "      <td id=\"T_f93f5_row1_col1\" class=\"data row1 col1\" >0.9225</td>\n",
       "      <td id=\"T_f93f5_row1_col2\" class=\"data row1 col2\" >0.9785</td>\n",
       "      <td id=\"T_f93f5_row1_col3\" class=\"data row1 col3\" >0.9173</td>\n",
       "      <td id=\"T_f93f5_row1_col4\" class=\"data row1 col4\" >0.9469</td>\n",
       "      <td id=\"T_f93f5_row1_col5\" class=\"data row1 col5\" >0.6700</td>\n",
       "      <td id=\"T_f93f5_row1_col6\" class=\"data row1 col6\" >0.6839</td>\n",
       "    </tr>\n",
       "    <tr>\n",
       "      <th id=\"T_f93f5_level0_row2\" class=\"row_heading level0 row2\" >2</th>\n",
       "      <td id=\"T_f93f5_row2_col0\" class=\"data row2 col0\" >0.8844</td>\n",
       "      <td id=\"T_f93f5_row2_col1\" class=\"data row2 col1\" >0.9086</td>\n",
       "      <td id=\"T_f93f5_row2_col2\" class=\"data row2 col2\" >0.9699</td>\n",
       "      <td id=\"T_f93f5_row2_col3\" class=\"data row2 col3\" >0.8966</td>\n",
       "      <td id=\"T_f93f5_row2_col4\" class=\"data row2 col4\" >0.9318</td>\n",
       "      <td id=\"T_f93f5_row2_col5\" class=\"data row2 col5\" >0.5563</td>\n",
       "      <td id=\"T_f93f5_row2_col6\" class=\"data row2 col6\" >0.5754</td>\n",
       "    </tr>\n",
       "    <tr>\n",
       "      <th id=\"T_f93f5_level0_row3\" class=\"row_heading level0 row3\" >3</th>\n",
       "      <td id=\"T_f93f5_row3_col0\" class=\"data row3 col0\" >0.9212</td>\n",
       "      <td id=\"T_f93f5_row3_col1\" class=\"data row3 col1\" >0.9539</td>\n",
       "      <td id=\"T_f93f5_row3_col2\" class=\"data row3 col2\" >0.9828</td>\n",
       "      <td id=\"T_f93f5_row3_col3\" class=\"data row3 col3\" >0.9251</td>\n",
       "      <td id=\"T_f93f5_row3_col4\" class=\"data row3 col4\" >0.9531</td>\n",
       "      <td id=\"T_f93f5_row3_col5\" class=\"data row3 col5\" >0.7086</td>\n",
       "      <td id=\"T_f93f5_row3_col6\" class=\"data row3 col6\" >0.7214</td>\n",
       "    </tr>\n",
       "    <tr>\n",
       "      <th id=\"T_f93f5_level0_row4\" class=\"row_heading level0 row4\" >4</th>\n",
       "      <td id=\"T_f93f5_row4_col0\" class=\"data row4 col0\" >0.9124</td>\n",
       "      <td id=\"T_f93f5_row4_col1\" class=\"data row4 col1\" >0.9172</td>\n",
       "      <td id=\"T_f93f5_row4_col2\" class=\"data row4 col2\" >0.9806</td>\n",
       "      <td id=\"T_f93f5_row4_col3\" class=\"data row4 col3\" >0.9173</td>\n",
       "      <td id=\"T_f93f5_row4_col4\" class=\"data row4 col4\" >0.9479</td>\n",
       "      <td id=\"T_f93f5_row4_col5\" class=\"data row4 col5\" >0.6751</td>\n",
       "      <td id=\"T_f93f5_row4_col6\" class=\"data row4 col6\" >0.6902</td>\n",
       "    </tr>\n",
       "    <tr>\n",
       "      <th id=\"T_f93f5_level0_row5\" class=\"row_heading level0 row5\" >Mean</th>\n",
       "      <td id=\"T_f93f5_row5_col0\" class=\"data row5 col0\" >0.9051</td>\n",
       "      <td id=\"T_f93f5_row5_col1\" class=\"data row5 col1\" >0.9236</td>\n",
       "      <td id=\"T_f93f5_row5_col2\" class=\"data row5 col2\" >0.9772</td>\n",
       "      <td id=\"T_f93f5_row5_col3\" class=\"data row5 col3\" >0.9125</td>\n",
       "      <td id=\"T_f93f5_row5_col4\" class=\"data row5 col4\" >0.9437</td>\n",
       "      <td id=\"T_f93f5_row5_col5\" class=\"data row5 col5\" >0.6444</td>\n",
       "      <td id=\"T_f93f5_row5_col6\" class=\"data row5 col6\" >0.6600</td>\n",
       "    </tr>\n",
       "    <tr>\n",
       "      <th id=\"T_f93f5_level0_row6\" class=\"row_heading level0 row6\" >Std</th>\n",
       "      <td id=\"T_f93f5_row6_col0\" class=\"data row6 col0\" >0.0130</td>\n",
       "      <td id=\"T_f93f5_row6_col1\" class=\"data row6 col1\" >0.0158</td>\n",
       "      <td id=\"T_f93f5_row6_col2\" class=\"data row6 col2\" >0.0046</td>\n",
       "      <td id=\"T_f93f5_row6_col3\" class=\"data row6 col3\" >0.0100</td>\n",
       "      <td id=\"T_f93f5_row6_col4\" class=\"data row6 col4\" >0.0075</td>\n",
       "      <td id=\"T_f93f5_row6_col5\" class=\"data row6 col5\" >0.0539</td>\n",
       "      <td id=\"T_f93f5_row6_col6\" class=\"data row6 col6\" >0.0517</td>\n",
       "    </tr>\n",
       "  </tbody>\n",
       "</table>\n"
      ],
      "text/plain": [
       "<pandas.io.formats.style.Styler at 0x7f7edd164d50>"
      ]
     },
     "metadata": {},
     "output_type": "display_data"
    },
    {
     "data": {
      "text/html": [],
      "text/plain": [
       "<IPython.core.display.HTML object>"
      ]
     },
     "metadata": {},
     "output_type": "display_data"
    },
    {
     "name": "stdout",
     "output_type": "stream",
     "text": [
      "Fitting 5 folds for each of 10 candidates, totalling 50 fits\n",
      "Transformation Pipeline and Model Successfully Saved\n"
     ]
    },
    {
     "data": {
      "text/html": [
       "<style type=\"text/css\">\n",
       "</style>\n",
       "<table id=\"T_f395f\">\n",
       "  <thead>\n",
       "    <tr>\n",
       "      <th class=\"blank level0\" >&nbsp;</th>\n",
       "      <th id=\"T_f395f_level0_col0\" class=\"col_heading level0 col0\" >Model</th>\n",
       "      <th id=\"T_f395f_level0_col1\" class=\"col_heading level0 col1\" >Accuracy</th>\n",
       "      <th id=\"T_f395f_level0_col2\" class=\"col_heading level0 col2\" >AUC</th>\n",
       "      <th id=\"T_f395f_level0_col3\" class=\"col_heading level0 col3\" >Recall</th>\n",
       "      <th id=\"T_f395f_level0_col4\" class=\"col_heading level0 col4\" >Prec.</th>\n",
       "      <th id=\"T_f395f_level0_col5\" class=\"col_heading level0 col5\" >F1</th>\n",
       "      <th id=\"T_f395f_level0_col6\" class=\"col_heading level0 col6\" >Kappa</th>\n",
       "      <th id=\"T_f395f_level0_col7\" class=\"col_heading level0 col7\" >MCC</th>\n",
       "    </tr>\n",
       "  </thead>\n",
       "  <tbody>\n",
       "    <tr>\n",
       "      <th id=\"T_f395f_level0_row0\" class=\"row_heading level0 row0\" >0</th>\n",
       "      <td id=\"T_f395f_row0_col0\" class=\"data row0 col0\" >Extreme Gradient Boosting</td>\n",
       "      <td id=\"T_f395f_row0_col1\" class=\"data row0 col1\" >0.9171</td>\n",
       "      <td id=\"T_f395f_row0_col2\" class=\"data row0 col2\" >0.9437</td>\n",
       "      <td id=\"T_f395f_row0_col3\" class=\"data row0 col3\" >0.9766</td>\n",
       "      <td id=\"T_f395f_row0_col4\" class=\"data row0 col4\" >0.9256</td>\n",
       "      <td id=\"T_f395f_row0_col5\" class=\"data row0 col5\" >0.9504</td>\n",
       "      <td id=\"T_f395f_row0_col6\" class=\"data row0 col6\" >0.6998</td>\n",
       "      <td id=\"T_f395f_row0_col7\" class=\"data row0 col7\" >0.7092</td>\n",
       "    </tr>\n",
       "  </tbody>\n",
       "</table>\n"
      ],
      "text/plain": [
       "<pandas.io.formats.style.Styler at 0x7f7ee7ec8990>"
      ]
     },
     "metadata": {},
     "output_type": "display_data"
    },
    {
     "name": "stdout",
     "output_type": "stream",
     "text": [
      "Outer fold 4/5\n",
      "Configuring PyCaret for outer fold 4\n",
      "Creating model xgboost for outer fold 4\n"
     ]
    },
    {
     "data": {
      "text/html": [],
      "text/plain": [
       "<IPython.core.display.HTML object>"
      ]
     },
     "metadata": {},
     "output_type": "display_data"
    },
    {
     "data": {
      "text/html": [
       "<style type=\"text/css\">\n",
       "#T_c05d3_row5_col0, #T_c05d3_row5_col1, #T_c05d3_row5_col2, #T_c05d3_row5_col3, #T_c05d3_row5_col4, #T_c05d3_row5_col5, #T_c05d3_row5_col6 {\n",
       "  background: yellow;\n",
       "}\n",
       "</style>\n",
       "<table id=\"T_c05d3\">\n",
       "  <thead>\n",
       "    <tr>\n",
       "      <th class=\"blank level0\" >&nbsp;</th>\n",
       "      <th id=\"T_c05d3_level0_col0\" class=\"col_heading level0 col0\" >Accuracy</th>\n",
       "      <th id=\"T_c05d3_level0_col1\" class=\"col_heading level0 col1\" >AUC</th>\n",
       "      <th id=\"T_c05d3_level0_col2\" class=\"col_heading level0 col2\" >Recall</th>\n",
       "      <th id=\"T_c05d3_level0_col3\" class=\"col_heading level0 col3\" >Prec.</th>\n",
       "      <th id=\"T_c05d3_level0_col4\" class=\"col_heading level0 col4\" >F1</th>\n",
       "      <th id=\"T_c05d3_level0_col5\" class=\"col_heading level0 col5\" >Kappa</th>\n",
       "      <th id=\"T_c05d3_level0_col6\" class=\"col_heading level0 col6\" >MCC</th>\n",
       "    </tr>\n",
       "    <tr>\n",
       "      <th class=\"index_name level0\" >Fold</th>\n",
       "      <th class=\"blank col0\" >&nbsp;</th>\n",
       "      <th class=\"blank col1\" >&nbsp;</th>\n",
       "      <th class=\"blank col2\" >&nbsp;</th>\n",
       "      <th class=\"blank col3\" >&nbsp;</th>\n",
       "      <th class=\"blank col4\" >&nbsp;</th>\n",
       "      <th class=\"blank col5\" >&nbsp;</th>\n",
       "      <th class=\"blank col6\" >&nbsp;</th>\n",
       "    </tr>\n",
       "  </thead>\n",
       "  <tbody>\n",
       "    <tr>\n",
       "      <th id=\"T_c05d3_level0_row0\" class=\"row_heading level0 row0\" >0</th>\n",
       "      <td id=\"T_c05d3_row0_col0\" class=\"data row0 col0\" >0.9038</td>\n",
       "      <td id=\"T_c05d3_row0_col1\" class=\"data row0 col1\" >0.9265</td>\n",
       "      <td id=\"T_c05d3_row0_col2\" class=\"data row0 col2\" >0.9720</td>\n",
       "      <td id=\"T_c05d3_row0_col3\" class=\"data row0 col3\" >0.9150</td>\n",
       "      <td id=\"T_c05d3_row0_col4\" class=\"data row0 col4\" >0.9426</td>\n",
       "      <td id=\"T_c05d3_row0_col5\" class=\"data row0 col5\" >0.6470</td>\n",
       "      <td id=\"T_c05d3_row0_col6\" class=\"data row0 col6\" >0.6585</td>\n",
       "    </tr>\n",
       "    <tr>\n",
       "      <th id=\"T_c05d3_level0_row1\" class=\"row_heading level0 row1\" >1</th>\n",
       "      <td id=\"T_c05d3_row1_col0\" class=\"data row1 col0\" >0.8899</td>\n",
       "      <td id=\"T_c05d3_row1_col1\" class=\"data row1 col1\" >0.9060</td>\n",
       "      <td id=\"T_c05d3_row1_col2\" class=\"data row1 col2\" >0.9763</td>\n",
       "      <td id=\"T_c05d3_row1_col3\" class=\"data row1 col3\" >0.8972</td>\n",
       "      <td id=\"T_c05d3_row1_col4\" class=\"data row1 col4\" >0.9351</td>\n",
       "      <td id=\"T_c05d3_row1_col5\" class=\"data row1 col5\" >0.5752</td>\n",
       "      <td id=\"T_c05d3_row1_col6\" class=\"data row1 col6\" >0.5985</td>\n",
       "    </tr>\n",
       "    <tr>\n",
       "      <th id=\"T_c05d3_level0_row2\" class=\"row_heading level0 row2\" >2</th>\n",
       "      <td id=\"T_c05d3_row2_col0\" class=\"data row2 col0\" >0.8967</td>\n",
       "      <td id=\"T_c05d3_row2_col1\" class=\"data row2 col1\" >0.9256</td>\n",
       "      <td id=\"T_c05d3_row2_col2\" class=\"data row2 col2\" >0.9720</td>\n",
       "      <td id=\"T_c05d3_row2_col3\" class=\"data row2 col3\" >0.9076</td>\n",
       "      <td id=\"T_c05d3_row2_col4\" class=\"data row2 col4\" >0.9387</td>\n",
       "      <td id=\"T_c05d3_row2_col5\" class=\"data row2 col5\" >0.6116</td>\n",
       "      <td id=\"T_c05d3_row2_col6\" class=\"data row2 col6\" >0.6265</td>\n",
       "    </tr>\n",
       "    <tr>\n",
       "      <th id=\"T_c05d3_level0_row3\" class=\"row_heading level0 row3\" >3</th>\n",
       "      <td id=\"T_c05d3_row3_col0\" class=\"data row3 col0\" >0.9194</td>\n",
       "      <td id=\"T_c05d3_row3_col1\" class=\"data row3 col1\" >0.9282</td>\n",
       "      <td id=\"T_c05d3_row3_col2\" class=\"data row3 col2\" >0.9785</td>\n",
       "      <td id=\"T_c05d3_row3_col3\" class=\"data row3 col3\" >0.9267</td>\n",
       "      <td id=\"T_c05d3_row3_col4\" class=\"data row3 col4\" >0.9519</td>\n",
       "      <td id=\"T_c05d3_row3_col5\" class=\"data row3 col5\" >0.7057</td>\n",
       "      <td id=\"T_c05d3_row3_col6\" class=\"data row3 col6\" >0.7157</td>\n",
       "    </tr>\n",
       "    <tr>\n",
       "      <th id=\"T_c05d3_level0_row4\" class=\"row_heading level0 row4\" >4</th>\n",
       "      <td id=\"T_c05d3_row4_col0\" class=\"data row4 col0\" >0.8879</td>\n",
       "      <td id=\"T_c05d3_row4_col1\" class=\"data row4 col1\" >0.8897</td>\n",
       "      <td id=\"T_c05d3_row4_col2\" class=\"data row4 col2\" >0.9591</td>\n",
       "      <td id=\"T_c05d3_row4_col3\" class=\"data row4 col3\" >0.9082</td>\n",
       "      <td id=\"T_c05d3_row4_col4\" class=\"data row4 col4\" >0.9329</td>\n",
       "      <td id=\"T_c05d3_row4_col5\" class=\"data row4 col5\" >0.5940</td>\n",
       "      <td id=\"T_c05d3_row4_col6\" class=\"data row4 col6\" >0.6023</td>\n",
       "    </tr>\n",
       "    <tr>\n",
       "      <th id=\"T_c05d3_level0_row5\" class=\"row_heading level0 row5\" >Mean</th>\n",
       "      <td id=\"T_c05d3_row5_col0\" class=\"data row5 col0\" >0.8995</td>\n",
       "      <td id=\"T_c05d3_row5_col1\" class=\"data row5 col1\" >0.9152</td>\n",
       "      <td id=\"T_c05d3_row5_col2\" class=\"data row5 col2\" >0.9716</td>\n",
       "      <td id=\"T_c05d3_row5_col3\" class=\"data row5 col3\" >0.9109</td>\n",
       "      <td id=\"T_c05d3_row5_col4\" class=\"data row5 col4\" >0.9403</td>\n",
       "      <td id=\"T_c05d3_row5_col5\" class=\"data row5 col5\" >0.6267</td>\n",
       "      <td id=\"T_c05d3_row5_col6\" class=\"data row5 col6\" >0.6403</td>\n",
       "    </tr>\n",
       "    <tr>\n",
       "      <th id=\"T_c05d3_level0_row6\" class=\"row_heading level0 row6\" >Std</th>\n",
       "      <td id=\"T_c05d3_row6_col0\" class=\"data row6 col0\" >0.0114</td>\n",
       "      <td id=\"T_c05d3_row6_col1\" class=\"data row6 col1\" >0.0151</td>\n",
       "      <td id=\"T_c05d3_row6_col2\" class=\"data row6 col2\" >0.0068</td>\n",
       "      <td id=\"T_c05d3_row6_col3\" class=\"data row6 col3\" >0.0097</td>\n",
       "      <td id=\"T_c05d3_row6_col4\" class=\"data row6 col4\" >0.0067</td>\n",
       "      <td id=\"T_c05d3_row6_col5\" class=\"data row6 col5\" >0.0460</td>\n",
       "      <td id=\"T_c05d3_row6_col6\" class=\"data row6 col6\" >0.0433</td>\n",
       "    </tr>\n",
       "  </tbody>\n",
       "</table>\n"
      ],
      "text/plain": [
       "<pandas.io.formats.style.Styler at 0x7f7ef0b7fbd0>"
      ]
     },
     "metadata": {},
     "output_type": "display_data"
    },
    {
     "data": {
      "text/html": [],
      "text/plain": [
       "<IPython.core.display.HTML object>"
      ]
     },
     "metadata": {},
     "output_type": "display_data"
    },
    {
     "name": "stdout",
     "output_type": "stream",
     "text": [
      "Tuning hyperparameters for model xgboost with custom grid\n"
     ]
    },
    {
     "data": {
      "text/html": [],
      "text/plain": [
       "<IPython.core.display.HTML object>"
      ]
     },
     "metadata": {},
     "output_type": "display_data"
    },
    {
     "data": {
      "text/html": [
       "<style type=\"text/css\">\n",
       "#T_ee150_row5_col0, #T_ee150_row5_col1, #T_ee150_row5_col2, #T_ee150_row5_col3, #T_ee150_row5_col4, #T_ee150_row5_col5, #T_ee150_row5_col6 {\n",
       "  background: yellow;\n",
       "}\n",
       "</style>\n",
       "<table id=\"T_ee150\">\n",
       "  <thead>\n",
       "    <tr>\n",
       "      <th class=\"blank level0\" >&nbsp;</th>\n",
       "      <th id=\"T_ee150_level0_col0\" class=\"col_heading level0 col0\" >Accuracy</th>\n",
       "      <th id=\"T_ee150_level0_col1\" class=\"col_heading level0 col1\" >AUC</th>\n",
       "      <th id=\"T_ee150_level0_col2\" class=\"col_heading level0 col2\" >Recall</th>\n",
       "      <th id=\"T_ee150_level0_col3\" class=\"col_heading level0 col3\" >Prec.</th>\n",
       "      <th id=\"T_ee150_level0_col4\" class=\"col_heading level0 col4\" >F1</th>\n",
       "      <th id=\"T_ee150_level0_col5\" class=\"col_heading level0 col5\" >Kappa</th>\n",
       "      <th id=\"T_ee150_level0_col6\" class=\"col_heading level0 col6\" >MCC</th>\n",
       "    </tr>\n",
       "    <tr>\n",
       "      <th class=\"index_name level0\" >Fold</th>\n",
       "      <th class=\"blank col0\" >&nbsp;</th>\n",
       "      <th class=\"blank col1\" >&nbsp;</th>\n",
       "      <th class=\"blank col2\" >&nbsp;</th>\n",
       "      <th class=\"blank col3\" >&nbsp;</th>\n",
       "      <th class=\"blank col4\" >&nbsp;</th>\n",
       "      <th class=\"blank col5\" >&nbsp;</th>\n",
       "      <th class=\"blank col6\" >&nbsp;</th>\n",
       "    </tr>\n",
       "  </thead>\n",
       "  <tbody>\n",
       "    <tr>\n",
       "      <th id=\"T_ee150_level0_row0\" class=\"row_heading level0 row0\" >0</th>\n",
       "      <td id=\"T_ee150_row0_col0\" class=\"data row0 col0\" >0.9073</td>\n",
       "      <td id=\"T_ee150_row0_col1\" class=\"data row0 col1\" >0.9297</td>\n",
       "      <td id=\"T_ee150_row0_col2\" class=\"data row0 col2\" >0.9699</td>\n",
       "      <td id=\"T_ee150_row0_col3\" class=\"data row0 col3\" >0.9204</td>\n",
       "      <td id=\"T_ee150_row0_col4\" class=\"data row0 col4\" >0.9445</td>\n",
       "      <td id=\"T_ee150_row0_col5\" class=\"data row0 col5\" >0.6652</td>\n",
       "      <td id=\"T_ee150_row0_col6\" class=\"data row0 col6\" >0.6737</td>\n",
       "    </tr>\n",
       "    <tr>\n",
       "      <th id=\"T_ee150_level0_row1\" class=\"row_heading level0 row1\" >1</th>\n",
       "      <td id=\"T_ee150_row1_col0\" class=\"data row1 col0\" >0.8899</td>\n",
       "      <td id=\"T_ee150_row1_col1\" class=\"data row1 col1\" >0.9053</td>\n",
       "      <td id=\"T_ee150_row1_col2\" class=\"data row1 col2\" >0.9828</td>\n",
       "      <td id=\"T_ee150_row1_col3\" class=\"data row1 col3\" >0.8926</td>\n",
       "      <td id=\"T_ee150_row1_col4\" class=\"data row1 col4\" >0.9355</td>\n",
       "      <td id=\"T_ee150_row1_col5\" class=\"data row1 col5\" >0.5642</td>\n",
       "      <td id=\"T_ee150_row1_col6\" class=\"data row1 col6\" >0.5966</td>\n",
       "    </tr>\n",
       "    <tr>\n",
       "      <th id=\"T_ee150_level0_row2\" class=\"row_heading level0 row2\" >2</th>\n",
       "      <td id=\"T_ee150_row2_col0\" class=\"data row2 col0\" >0.9159</td>\n",
       "      <td id=\"T_ee150_row2_col1\" class=\"data row2 col1\" >0.9316</td>\n",
       "      <td id=\"T_ee150_row2_col2\" class=\"data row2 col2\" >0.9849</td>\n",
       "      <td id=\"T_ee150_row2_col3\" class=\"data row2 col3\" >0.9178</td>\n",
       "      <td id=\"T_ee150_row2_col4\" class=\"data row2 col4\" >0.9502</td>\n",
       "      <td id=\"T_ee150_row2_col5\" class=\"data row2 col5\" >0.6827</td>\n",
       "      <td id=\"T_ee150_row2_col6\" class=\"data row2 col6\" >0.7006</td>\n",
       "    </tr>\n",
       "    <tr>\n",
       "      <th id=\"T_ee150_level0_row3\" class=\"row_heading level0 row3\" >3</th>\n",
       "      <td id=\"T_ee150_row3_col0\" class=\"data row3 col0\" >0.9177</td>\n",
       "      <td id=\"T_ee150_row3_col1\" class=\"data row3 col1\" >0.9313</td>\n",
       "      <td id=\"T_ee150_row3_col2\" class=\"data row3 col2\" >0.9806</td>\n",
       "      <td id=\"T_ee150_row3_col3\" class=\"data row3 col3\" >0.9231</td>\n",
       "      <td id=\"T_ee150_row3_col4\" class=\"data row3 col4\" >0.9510</td>\n",
       "      <td id=\"T_ee150_row3_col5\" class=\"data row3 col5\" >0.6956</td>\n",
       "      <td id=\"T_ee150_row3_col6\" class=\"data row3 col6\" >0.7082</td>\n",
       "    </tr>\n",
       "    <tr>\n",
       "      <th id=\"T_ee150_level0_row4\" class=\"row_heading level0 row4\" >4</th>\n",
       "      <td id=\"T_ee150_row4_col0\" class=\"data row4 col0\" >0.8932</td>\n",
       "      <td id=\"T_ee150_row4_col1\" class=\"data row4 col1\" >0.9063</td>\n",
       "      <td id=\"T_ee150_row4_col2\" class=\"data row4 col2\" >0.9612</td>\n",
       "      <td id=\"T_ee150_row4_col3\" class=\"data row4 col3\" >0.9121</td>\n",
       "      <td id=\"T_ee150_row4_col4\" class=\"data row4 col4\" >0.9360</td>\n",
       "      <td id=\"T_ee150_row4_col5\" class=\"data row4 col5\" >0.6146</td>\n",
       "      <td id=\"T_ee150_row4_col6\" class=\"data row4 col6\" >0.6224</td>\n",
       "    </tr>\n",
       "    <tr>\n",
       "      <th id=\"T_ee150_level0_row5\" class=\"row_heading level0 row5\" >Mean</th>\n",
       "      <td id=\"T_ee150_row5_col0\" class=\"data row5 col0\" >0.9048</td>\n",
       "      <td id=\"T_ee150_row5_col1\" class=\"data row5 col1\" >0.9208</td>\n",
       "      <td id=\"T_ee150_row5_col2\" class=\"data row5 col2\" >0.9759</td>\n",
       "      <td id=\"T_ee150_row5_col3\" class=\"data row5 col3\" >0.9132</td>\n",
       "      <td id=\"T_ee150_row5_col4\" class=\"data row5 col4\" >0.9434</td>\n",
       "      <td id=\"T_ee150_row5_col5\" class=\"data row5 col5\" >0.6445</td>\n",
       "      <td id=\"T_ee150_row5_col6\" class=\"data row5 col6\" >0.6603</td>\n",
       "    </tr>\n",
       "    <tr>\n",
       "      <th id=\"T_ee150_level0_row6\" class=\"row_heading level0 row6\" >Std</th>\n",
       "      <td id=\"T_ee150_row6_col0\" class=\"data row6 col0\" >0.0114</td>\n",
       "      <td id=\"T_ee150_row6_col1\" class=\"data row6 col1\" >0.0123</td>\n",
       "      <td id=\"T_ee150_row6_col2\" class=\"data row6 col2\" >0.0090</td>\n",
       "      <td id=\"T_ee150_row6_col3\" class=\"data row6 col3\" >0.0109</td>\n",
       "      <td id=\"T_ee150_row6_col4\" class=\"data row6 col4\" >0.0067</td>\n",
       "      <td id=\"T_ee150_row6_col5\" class=\"data row6 col5\" >0.0487</td>\n",
       "      <td id=\"T_ee150_row6_col6\" class=\"data row6 col6\" >0.0438</td>\n",
       "    </tr>\n",
       "  </tbody>\n",
       "</table>\n"
      ],
      "text/plain": [
       "<pandas.io.formats.style.Styler at 0x7f7ede55d290>"
      ]
     },
     "metadata": {},
     "output_type": "display_data"
    },
    {
     "data": {
      "text/html": [],
      "text/plain": [
       "<IPython.core.display.HTML object>"
      ]
     },
     "metadata": {},
     "output_type": "display_data"
    },
    {
     "name": "stdout",
     "output_type": "stream",
     "text": [
      "Fitting 5 folds for each of 10 candidates, totalling 50 fits\n",
      "Transformation Pipeline and Model Successfully Saved\n"
     ]
    },
    {
     "data": {
      "text/html": [
       "<style type=\"text/css\">\n",
       "</style>\n",
       "<table id=\"T_17b61\">\n",
       "  <thead>\n",
       "    <tr>\n",
       "      <th class=\"blank level0\" >&nbsp;</th>\n",
       "      <th id=\"T_17b61_level0_col0\" class=\"col_heading level0 col0\" >Model</th>\n",
       "      <th id=\"T_17b61_level0_col1\" class=\"col_heading level0 col1\" >Accuracy</th>\n",
       "      <th id=\"T_17b61_level0_col2\" class=\"col_heading level0 col2\" >AUC</th>\n",
       "      <th id=\"T_17b61_level0_col3\" class=\"col_heading level0 col3\" >Recall</th>\n",
       "      <th id=\"T_17b61_level0_col4\" class=\"col_heading level0 col4\" >Prec.</th>\n",
       "      <th id=\"T_17b61_level0_col5\" class=\"col_heading level0 col5\" >F1</th>\n",
       "      <th id=\"T_17b61_level0_col6\" class=\"col_heading level0 col6\" >Kappa</th>\n",
       "      <th id=\"T_17b61_level0_col7\" class=\"col_heading level0 col7\" >MCC</th>\n",
       "    </tr>\n",
       "  </thead>\n",
       "  <tbody>\n",
       "    <tr>\n",
       "      <th id=\"T_17b61_level0_row0\" class=\"row_heading level0 row0\" >0</th>\n",
       "      <td id=\"T_17b61_row0_col0\" class=\"data row0 col0\" >Extreme Gradient Boosting</td>\n",
       "      <td id=\"T_17b61_row0_col1\" class=\"data row0 col1\" >0.9115</td>\n",
       "      <td id=\"T_17b61_row0_col2\" class=\"data row0 col2\" >0.9354</td>\n",
       "      <td id=\"T_17b61_row0_col3\" class=\"data row0 col3\" >0.9821</td>\n",
       "      <td id=\"T_17b61_row0_col4\" class=\"data row0 col4\" >0.9153</td>\n",
       "      <td id=\"T_17b61_row0_col5\" class=\"data row0 col5\" >0.9475</td>\n",
       "      <td id=\"T_17b61_row0_col6\" class=\"data row0 col6\" >0.6686</td>\n",
       "      <td id=\"T_17b61_row0_col7\" class=\"data row0 col7\" >0.6857</td>\n",
       "    </tr>\n",
       "  </tbody>\n",
       "</table>\n"
      ],
      "text/plain": [
       "<pandas.io.formats.style.Styler at 0x7f7ee6950090>"
      ]
     },
     "metadata": {},
     "output_type": "display_data"
    },
    {
     "name": "stdout",
     "output_type": "stream",
     "text": [
      "Outer fold 5/5\n",
      "Configuring PyCaret for outer fold 5\n",
      "Creating model xgboost for outer fold 5\n"
     ]
    },
    {
     "data": {
      "text/html": [],
      "text/plain": [
       "<IPython.core.display.HTML object>"
      ]
     },
     "metadata": {},
     "output_type": "display_data"
    },
    {
     "data": {
      "text/html": [
       "<style type=\"text/css\">\n",
       "#T_70346_row5_col0, #T_70346_row5_col1, #T_70346_row5_col2, #T_70346_row5_col3, #T_70346_row5_col4, #T_70346_row5_col5, #T_70346_row5_col6 {\n",
       "  background: yellow;\n",
       "}\n",
       "</style>\n",
       "<table id=\"T_70346\">\n",
       "  <thead>\n",
       "    <tr>\n",
       "      <th class=\"blank level0\" >&nbsp;</th>\n",
       "      <th id=\"T_70346_level0_col0\" class=\"col_heading level0 col0\" >Accuracy</th>\n",
       "      <th id=\"T_70346_level0_col1\" class=\"col_heading level0 col1\" >AUC</th>\n",
       "      <th id=\"T_70346_level0_col2\" class=\"col_heading level0 col2\" >Recall</th>\n",
       "      <th id=\"T_70346_level0_col3\" class=\"col_heading level0 col3\" >Prec.</th>\n",
       "      <th id=\"T_70346_level0_col4\" class=\"col_heading level0 col4\" >F1</th>\n",
       "      <th id=\"T_70346_level0_col5\" class=\"col_heading level0 col5\" >Kappa</th>\n",
       "      <th id=\"T_70346_level0_col6\" class=\"col_heading level0 col6\" >MCC</th>\n",
       "    </tr>\n",
       "    <tr>\n",
       "      <th class=\"index_name level0\" >Fold</th>\n",
       "      <th class=\"blank col0\" >&nbsp;</th>\n",
       "      <th class=\"blank col1\" >&nbsp;</th>\n",
       "      <th class=\"blank col2\" >&nbsp;</th>\n",
       "      <th class=\"blank col3\" >&nbsp;</th>\n",
       "      <th class=\"blank col4\" >&nbsp;</th>\n",
       "      <th class=\"blank col5\" >&nbsp;</th>\n",
       "      <th class=\"blank col6\" >&nbsp;</th>\n",
       "    </tr>\n",
       "  </thead>\n",
       "  <tbody>\n",
       "    <tr>\n",
       "      <th id=\"T_70346_level0_row0\" class=\"row_heading level0 row0\" >0</th>\n",
       "      <td id=\"T_70346_row0_col0\" class=\"data row0 col0\" >0.8934</td>\n",
       "      <td id=\"T_70346_row0_col1\" class=\"data row0 col1\" >0.8945</td>\n",
       "      <td id=\"T_70346_row0_col2\" class=\"data row0 col2\" >0.9656</td>\n",
       "      <td id=\"T_70346_row0_col3\" class=\"data row0 col3\" >0.9089</td>\n",
       "      <td id=\"T_70346_row0_col4\" class=\"data row0 col4\" >0.9364</td>\n",
       "      <td id=\"T_70346_row0_col5\" class=\"data row0 col5\" >0.6085</td>\n",
       "      <td id=\"T_70346_row0_col6\" class=\"data row0 col6\" >0.6193</td>\n",
       "    </tr>\n",
       "    <tr>\n",
       "      <th id=\"T_70346_level0_row1\" class=\"row_heading level0 row1\" >1</th>\n",
       "      <td id=\"T_70346_row1_col0\" class=\"data row1 col0\" >0.9091</td>\n",
       "      <td id=\"T_70346_row1_col1\" class=\"data row1 col1\" >0.9206</td>\n",
       "      <td id=\"T_70346_row1_col2\" class=\"data row1 col2\" >0.9742</td>\n",
       "      <td id=\"T_70346_row1_col3\" class=\"data row1 col3\" >0.9189</td>\n",
       "      <td id=\"T_70346_row1_col4\" class=\"data row1 col4\" >0.9457</td>\n",
       "      <td id=\"T_70346_row1_col5\" class=\"data row1 col5\" >0.6676</td>\n",
       "      <td id=\"T_70346_row1_col6\" class=\"data row1 col6\" >0.6786</td>\n",
       "    </tr>\n",
       "    <tr>\n",
       "      <th id=\"T_70346_level0_row2\" class=\"row_heading level0 row2\" >2</th>\n",
       "      <td id=\"T_70346_row2_col0\" class=\"data row2 col0\" >0.9054</td>\n",
       "      <td id=\"T_70346_row2_col1\" class=\"data row2 col1\" >0.9067</td>\n",
       "      <td id=\"T_70346_row2_col2\" class=\"data row2 col2\" >0.9720</td>\n",
       "      <td id=\"T_70346_row2_col3\" class=\"data row2 col3\" >0.9168</td>\n",
       "      <td id=\"T_70346_row2_col4\" class=\"data row2 col4\" >0.9436</td>\n",
       "      <td id=\"T_70346_row2_col5\" class=\"data row2 col5\" >0.6517</td>\n",
       "      <td id=\"T_70346_row2_col6\" class=\"data row2 col6\" >0.6626</td>\n",
       "    </tr>\n",
       "    <tr>\n",
       "      <th id=\"T_70346_level0_row3\" class=\"row_heading level0 row3\" >3</th>\n",
       "      <td id=\"T_70346_row3_col0\" class=\"data row3 col0\" >0.9107</td>\n",
       "      <td id=\"T_70346_row3_col1\" class=\"data row3 col1\" >0.9308</td>\n",
       "      <td id=\"T_70346_row3_col2\" class=\"data row3 col2\" >0.9806</td>\n",
       "      <td id=\"T_70346_row3_col3\" class=\"data row3 col3\" >0.9157</td>\n",
       "      <td id=\"T_70346_row3_col4\" class=\"data row3 col4\" >0.9470</td>\n",
       "      <td id=\"T_70346_row3_col5\" class=\"data row3 col5\" >0.6642</td>\n",
       "      <td id=\"T_70346_row3_col6\" class=\"data row3 col6\" >0.6805</td>\n",
       "    </tr>\n",
       "    <tr>\n",
       "      <th id=\"T_70346_level0_row4\" class=\"row_heading level0 row4\" >4</th>\n",
       "      <td id=\"T_70346_row4_col0\" class=\"data row4 col0\" >0.8914</td>\n",
       "      <td id=\"T_70346_row4_col1\" class=\"data row4 col1\" >0.8867</td>\n",
       "      <td id=\"T_70346_row4_col2\" class=\"data row4 col2\" >0.9720</td>\n",
       "      <td id=\"T_70346_row4_col3\" class=\"data row4 col3\" >0.9020</td>\n",
       "      <td id=\"T_70346_row4_col4\" class=\"data row4 col4\" >0.9357</td>\n",
       "      <td id=\"T_70346_row4_col5\" class=\"data row4 col5\" >0.5905</td>\n",
       "      <td id=\"T_70346_row4_col6\" class=\"data row4 col6\" >0.6079</td>\n",
       "    </tr>\n",
       "    <tr>\n",
       "      <th id=\"T_70346_level0_row5\" class=\"row_heading level0 row5\" >Mean</th>\n",
       "      <td id=\"T_70346_row5_col0\" class=\"data row5 col0\" >0.9020</td>\n",
       "      <td id=\"T_70346_row5_col1\" class=\"data row5 col1\" >0.9079</td>\n",
       "      <td id=\"T_70346_row5_col2\" class=\"data row5 col2\" >0.9729</td>\n",
       "      <td id=\"T_70346_row5_col3\" class=\"data row5 col3\" >0.9125</td>\n",
       "      <td id=\"T_70346_row5_col4\" class=\"data row5 col4\" >0.9417</td>\n",
       "      <td id=\"T_70346_row5_col5\" class=\"data row5 col5\" >0.6365</td>\n",
       "      <td id=\"T_70346_row5_col6\" class=\"data row5 col6\" >0.6498</td>\n",
       "    </tr>\n",
       "    <tr>\n",
       "      <th id=\"T_70346_level0_row6\" class=\"row_heading level0 row6\" >Std</th>\n",
       "      <td id=\"T_70346_row6_col0\" class=\"data row6 col0\" >0.0081</td>\n",
       "      <td id=\"T_70346_row6_col1\" class=\"data row6 col1\" >0.0162</td>\n",
       "      <td id=\"T_70346_row6_col2\" class=\"data row6 col2\" >0.0048</td>\n",
       "      <td id=\"T_70346_row6_col3\" class=\"data row6 col3\" >0.0062</td>\n",
       "      <td id=\"T_70346_row6_col4\" class=\"data row6 col4\" >0.0047</td>\n",
       "      <td id=\"T_70346_row6_col5\" class=\"data row6 col5\" >0.0312</td>\n",
       "      <td id=\"T_70346_row6_col6\" class=\"data row6 col6\" >0.0304</td>\n",
       "    </tr>\n",
       "  </tbody>\n",
       "</table>\n"
      ],
      "text/plain": [
       "<pandas.io.formats.style.Styler at 0x7f7ee87e1810>"
      ]
     },
     "metadata": {},
     "output_type": "display_data"
    },
    {
     "data": {
      "text/html": [],
      "text/plain": [
       "<IPython.core.display.HTML object>"
      ]
     },
     "metadata": {},
     "output_type": "display_data"
    },
    {
     "name": "stdout",
     "output_type": "stream",
     "text": [
      "Tuning hyperparameters for model xgboost with custom grid\n"
     ]
    },
    {
     "data": {
      "text/html": [],
      "text/plain": [
       "<IPython.core.display.HTML object>"
      ]
     },
     "metadata": {},
     "output_type": "display_data"
    },
    {
     "data": {
      "text/html": [
       "<style type=\"text/css\">\n",
       "#T_421da_row5_col0, #T_421da_row5_col1, #T_421da_row5_col2, #T_421da_row5_col3, #T_421da_row5_col4, #T_421da_row5_col5, #T_421da_row5_col6 {\n",
       "  background: yellow;\n",
       "}\n",
       "</style>\n",
       "<table id=\"T_421da\">\n",
       "  <thead>\n",
       "    <tr>\n",
       "      <th class=\"blank level0\" >&nbsp;</th>\n",
       "      <th id=\"T_421da_level0_col0\" class=\"col_heading level0 col0\" >Accuracy</th>\n",
       "      <th id=\"T_421da_level0_col1\" class=\"col_heading level0 col1\" >AUC</th>\n",
       "      <th id=\"T_421da_level0_col2\" class=\"col_heading level0 col2\" >Recall</th>\n",
       "      <th id=\"T_421da_level0_col3\" class=\"col_heading level0 col3\" >Prec.</th>\n",
       "      <th id=\"T_421da_level0_col4\" class=\"col_heading level0 col4\" >F1</th>\n",
       "      <th id=\"T_421da_level0_col5\" class=\"col_heading level0 col5\" >Kappa</th>\n",
       "      <th id=\"T_421da_level0_col6\" class=\"col_heading level0 col6\" >MCC</th>\n",
       "    </tr>\n",
       "    <tr>\n",
       "      <th class=\"index_name level0\" >Fold</th>\n",
       "      <th class=\"blank col0\" >&nbsp;</th>\n",
       "      <th class=\"blank col1\" >&nbsp;</th>\n",
       "      <th class=\"blank col2\" >&nbsp;</th>\n",
       "      <th class=\"blank col3\" >&nbsp;</th>\n",
       "      <th class=\"blank col4\" >&nbsp;</th>\n",
       "      <th class=\"blank col5\" >&nbsp;</th>\n",
       "      <th class=\"blank col6\" >&nbsp;</th>\n",
       "    </tr>\n",
       "  </thead>\n",
       "  <tbody>\n",
       "    <tr>\n",
       "      <th id=\"T_421da_level0_row0\" class=\"row_heading level0 row0\" >0</th>\n",
       "      <td id=\"T_421da_row0_col0\" class=\"data row0 col0\" >0.9073</td>\n",
       "      <td id=\"T_421da_row0_col1\" class=\"data row0 col1\" >0.9028</td>\n",
       "      <td id=\"T_421da_row0_col2\" class=\"data row0 col2\" >0.9828</td>\n",
       "      <td id=\"T_421da_row0_col3\" class=\"data row0 col3\" >0.9104</td>\n",
       "      <td id=\"T_421da_row0_col4\" class=\"data row0 col4\" >0.9452</td>\n",
       "      <td id=\"T_421da_row0_col5\" class=\"data row0 col5\" >0.6486</td>\n",
       "      <td id=\"T_421da_row0_col6\" class=\"data row0 col6\" >0.6690</td>\n",
       "    </tr>\n",
       "    <tr>\n",
       "      <th id=\"T_421da_level0_row1\" class=\"row_heading level0 row1\" >1</th>\n",
       "      <td id=\"T_421da_row1_col0\" class=\"data row1 col0\" >0.9126</td>\n",
       "      <td id=\"T_421da_row1_col1\" class=\"data row1 col1\" >0.9209</td>\n",
       "      <td id=\"T_421da_row1_col2\" class=\"data row1 col2\" >0.9785</td>\n",
       "      <td id=\"T_421da_row1_col3\" class=\"data row1 col3\" >0.9192</td>\n",
       "      <td id=\"T_421da_row1_col4\" class=\"data row1 col4\" >0.9479</td>\n",
       "      <td id=\"T_421da_row1_col5\" class=\"data row1 col5\" >0.6778</td>\n",
       "      <td id=\"T_421da_row1_col6\" class=\"data row1 col6\" >0.6908</td>\n",
       "    </tr>\n",
       "    <tr>\n",
       "      <th id=\"T_421da_level0_row2\" class=\"row_heading level0 row2\" >2</th>\n",
       "      <td id=\"T_421da_row2_col0\" class=\"data row2 col0\" >0.9002</td>\n",
       "      <td id=\"T_421da_row2_col1\" class=\"data row2 col1\" >0.9142</td>\n",
       "      <td id=\"T_421da_row2_col2\" class=\"data row2 col2\" >0.9763</td>\n",
       "      <td id=\"T_421da_row2_col3\" class=\"data row2 col3\" >0.9080</td>\n",
       "      <td id=\"T_421da_row2_col4\" class=\"data row2 col4\" >0.9409</td>\n",
       "      <td id=\"T_421da_row2_col5\" class=\"data row2 col5\" >0.6216</td>\n",
       "      <td id=\"T_421da_row2_col6\" class=\"data row2 col6\" >0.6391</td>\n",
       "    </tr>\n",
       "    <tr>\n",
       "      <th id=\"T_421da_level0_row3\" class=\"row_heading level0 row3\" >3</th>\n",
       "      <td id=\"T_421da_row3_col0\" class=\"data row3 col0\" >0.9089</td>\n",
       "      <td id=\"T_421da_row3_col1\" class=\"data row3 col1\" >0.9373</td>\n",
       "      <td id=\"T_421da_row3_col2\" class=\"data row3 col2\" >0.9763</td>\n",
       "      <td id=\"T_421da_row3_col3\" class=\"data row3 col3\" >0.9172</td>\n",
       "      <td id=\"T_421da_row3_col4\" class=\"data row3 col4\" >0.9458</td>\n",
       "      <td id=\"T_421da_row3_col5\" class=\"data row3 col5\" >0.6619</td>\n",
       "      <td id=\"T_421da_row3_col6\" class=\"data row3 col6\" >0.6748</td>\n",
       "    </tr>\n",
       "    <tr>\n",
       "      <th id=\"T_421da_level0_row4\" class=\"row_heading level0 row4\" >4</th>\n",
       "      <td id=\"T_421da_row4_col0\" class=\"data row4 col0\" >0.9002</td>\n",
       "      <td id=\"T_421da_row4_col1\" class=\"data row4 col1\" >0.8885</td>\n",
       "      <td id=\"T_421da_row4_col2\" class=\"data row4 col2\" >0.9763</td>\n",
       "      <td id=\"T_421da_row4_col3\" class=\"data row4 col3\" >0.9078</td>\n",
       "      <td id=\"T_421da_row4_col4\" class=\"data row4 col4\" >0.9408</td>\n",
       "      <td id=\"T_421da_row4_col5\" class=\"data row4 col5\" >0.6250</td>\n",
       "      <td id=\"T_421da_row4_col6\" class=\"data row4 col6\" >0.6423</td>\n",
       "    </tr>\n",
       "    <tr>\n",
       "      <th id=\"T_421da_level0_row5\" class=\"row_heading level0 row5\" >Mean</th>\n",
       "      <td id=\"T_421da_row5_col0\" class=\"data row5 col0\" >0.9058</td>\n",
       "      <td id=\"T_421da_row5_col1\" class=\"data row5 col1\" >0.9127</td>\n",
       "      <td id=\"T_421da_row5_col2\" class=\"data row5 col2\" >0.9781</td>\n",
       "      <td id=\"T_421da_row5_col3\" class=\"data row5 col3\" >0.9125</td>\n",
       "      <td id=\"T_421da_row5_col4\" class=\"data row5 col4\" >0.9441</td>\n",
       "      <td id=\"T_421da_row5_col5\" class=\"data row5 col5\" >0.6470</td>\n",
       "      <td id=\"T_421da_row5_col6\" class=\"data row5 col6\" >0.6632</td>\n",
       "    </tr>\n",
       "    <tr>\n",
       "      <th id=\"T_421da_level0_row6\" class=\"row_heading level0 row6\" >Std</th>\n",
       "      <td id=\"T_421da_row6_col0\" class=\"data row6 col0\" >0.0049</td>\n",
       "      <td id=\"T_421da_row6_col1\" class=\"data row6 col1\" >0.0165</td>\n",
       "      <td id=\"T_421da_row6_col2\" class=\"data row6 col2\" >0.0025</td>\n",
       "      <td id=\"T_421da_row6_col3\" class=\"data row6 col3\" >0.0048</td>\n",
       "      <td id=\"T_421da_row6_col4\" class=\"data row6 col4\" >0.0028</td>\n",
       "      <td id=\"T_421da_row6_col5\" class=\"data row6 col5\" >0.0214</td>\n",
       "      <td id=\"T_421da_row6_col6\" class=\"data row6 col6\" >0.0198</td>\n",
       "    </tr>\n",
       "  </tbody>\n",
       "</table>\n"
      ],
      "text/plain": [
       "<pandas.io.formats.style.Styler at 0x7f7edad14810>"
      ]
     },
     "metadata": {},
     "output_type": "display_data"
    },
    {
     "data": {
      "text/html": [],
      "text/plain": [
       "<IPython.core.display.HTML object>"
      ]
     },
     "metadata": {},
     "output_type": "display_data"
    },
    {
     "name": "stdout",
     "output_type": "stream",
     "text": [
      "Fitting 5 folds for each of 10 candidates, totalling 50 fits\n",
      "Transformation Pipeline and Model Successfully Saved\n"
     ]
    },
    {
     "data": {
      "text/html": [
       "<style type=\"text/css\">\n",
       "</style>\n",
       "<table id=\"T_0eb4c\">\n",
       "  <thead>\n",
       "    <tr>\n",
       "      <th class=\"blank level0\" >&nbsp;</th>\n",
       "      <th id=\"T_0eb4c_level0_col0\" class=\"col_heading level0 col0\" >Model</th>\n",
       "      <th id=\"T_0eb4c_level0_col1\" class=\"col_heading level0 col1\" >Accuracy</th>\n",
       "      <th id=\"T_0eb4c_level0_col2\" class=\"col_heading level0 col2\" >AUC</th>\n",
       "      <th id=\"T_0eb4c_level0_col3\" class=\"col_heading level0 col3\" >Recall</th>\n",
       "      <th id=\"T_0eb4c_level0_col4\" class=\"col_heading level0 col4\" >Prec.</th>\n",
       "      <th id=\"T_0eb4c_level0_col5\" class=\"col_heading level0 col5\" >F1</th>\n",
       "      <th id=\"T_0eb4c_level0_col6\" class=\"col_heading level0 col6\" >Kappa</th>\n",
       "      <th id=\"T_0eb4c_level0_col7\" class=\"col_heading level0 col7\" >MCC</th>\n",
       "    </tr>\n",
       "  </thead>\n",
       "  <tbody>\n",
       "    <tr>\n",
       "      <th id=\"T_0eb4c_level0_row0\" class=\"row_heading level0 row0\" >0</th>\n",
       "      <td id=\"T_0eb4c_row0_col0\" class=\"data row0 col0\" >Extreme Gradient Boosting</td>\n",
       "      <td id=\"T_0eb4c_row0_col1\" class=\"data row0 col1\" >0.9082</td>\n",
       "      <td id=\"T_0eb4c_row0_col2\" class=\"data row0 col2\" >0.9480</td>\n",
       "      <td id=\"T_0eb4c_row0_col3\" class=\"data row0 col3\" >0.9780</td>\n",
       "      <td id=\"T_0eb4c_row0_col4\" class=\"data row0 col4\" >0.9149</td>\n",
       "      <td id=\"T_0eb4c_row0_col5\" class=\"data row0 col5\" >0.9454</td>\n",
       "      <td id=\"T_0eb4c_row0_col6\" class=\"data row0 col6\" >0.6587</td>\n",
       "      <td id=\"T_0eb4c_row0_col7\" class=\"data row0 col7\" >0.6734</td>\n",
       "    </tr>\n",
       "  </tbody>\n",
       "</table>\n"
      ],
      "text/plain": [
       "<pandas.io.formats.style.Styler at 0x7f7ee2ceb190>"
      ]
     },
     "metadata": {},
     "output_type": "display_data"
    },
    {
     "name": "stdout",
     "output_type": "stream",
     "text": [
      "Final metrics table:\n",
      "     Metric     Mean   Std Dev\n",
      "0  Accuracy  0.89998  0.009589\n",
      "1       AUC  0.90718  0.015962\n",
      "2    Recall  0.97204  0.007752\n",
      "3     Prec.  0.91096  0.006959\n",
      "4        F1  0.94048  0.005735\n",
      "5     Kappa  0.62950  0.036245\n",
      "6       MCC  0.64318  0.036501\n"
     ]
    }
   ],
   "source": [
    "# Initialize the PyCaret Evaluator\n",
    "evaluator = PyCaretEvaluator(dataset=dataset, target=\"Consolidation\", experiment_name=\"CP_Consolidation\", filepath=\"./results/consolidation\")\n",
    "\n",
    "# Model training\n",
    "evaluator.run_experiment(\n",
    "    train_size=0.8,\n",
    "    fold=5,\n",
    "    fold_strategy='stratifiedkfold',\n",
    "    outer_fold=5,\n",
    "    outer_strategy='stratifiedkfold',\n",
    "    session_id=42,\n",
    "    model='xgboost',\n",
    "    optimize='AUC',\n",
    "    custom_grid=grid_hps\n",
    ")"
   ]
  }
 ],
 "metadata": {
  "kernelspec": {
   "display_name": "Python (pycaret_env)",
   "language": "python",
   "name": "pycaret_env"
  },
  "language_info": {
   "codemirror_mode": {
    "name": "ipython",
    "version": 3
   },
   "file_extension": ".py",
   "mimetype": "text/x-python",
   "name": "python",
   "nbconvert_exporter": "python",
   "pygments_lexer": "ipython3",
   "version": "3.11.9"
  }
 },
 "nbformat": 4,
 "nbformat_minor": 5
}
