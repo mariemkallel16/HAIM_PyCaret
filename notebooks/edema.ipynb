{
 "cells": [
  {
   "cell_type": "markdown",
   "id": "c4139f23",
   "metadata": {},
   "source": [
    "# Pathology prediction (EDEMA)\n",
    "\n",
    "\n",
    "@References : Soenksen, L.R., Ma, Y., Zeng, C. et al. Integrated multimodal artificial intelligence framework for healthcare applications. npj Digit. Med. 5, 149 (2022). https://doi.org/10.1038/s41746-022-00689-4\n",
    "\n",
    "In this notebook, the task is to predict the EDEMA pathology using the CSV embeddings file\n"
   ]
  },
  {
   "cell_type": "markdown",
   "id": "8e9e247e",
   "metadata": {},
   "source": [
    "## Introduction\n"
   ]
  },
  {
   "attachments": {},
   "cell_type": "markdown",
   "id": "321d5924",
   "metadata": {},
   "source": [
    "Radiology notes were processed to determine if each of the pathologies was explicitly confirmed as present (value = 1), explicitly confirmed as absent (value = 0), inconclusive in the study (value = −1), or not explored (no value).\n",
    "\n",
    "Selected samples : 0 or 1 values (removing the rest from the training and testing data).\n",
    "\n",
    "Excluded variables : the unstructured radiology notes component (E_rad ) from the allowable input to avoid potential overfitting or misrepresentations of real predictive value.\n",
    "\n",
    "The model is based on binary classification for each target chest pathology.\n",
    "\n",
    "Final sample size for the EDEMA pathology is : (N = 17,182)"
   ]
  },
  {
   "cell_type": "markdown",
   "id": "59600fd4",
   "metadata": {},
   "source": [
    "#### Imports"
   ]
  },
  {
   "cell_type": "code",
   "execution_count": 1,
   "id": "2d0990d5",
   "metadata": {},
   "outputs": [],
   "source": [
    "import os\n",
    "os.chdir('../')\n",
    "\n",
    "from pandas import read_csv\n",
    "\n",
    "from src.data import constants\n",
    "from src.data.dataset import HAIMDataset\n",
    "from src.evaluation.pycaret_evaluator import PyCaretEvaluator\n",
    "from src.utils.metric_scores import *"
   ]
  },
  {
   "cell_type": "markdown",
   "id": "645a1fe8",
   "metadata": {},
   "source": [
    "#### Read data from local source\n",
    "\n"
   ]
  },
  {
   "cell_type": "code",
   "execution_count": 2,
   "id": "a948c18c",
   "metadata": {},
   "outputs": [],
   "source": [
    "df = read_csv(constants.FILE_DF, nrows=constants.N_DATA)"
   ]
  },
  {
   "cell_type": "markdown",
   "id": "90a95053",
   "metadata": {},
   "source": [
    "#### Create a custom dataset for the HAIM experiment\n"
   ]
  },
  {
   "cell_type": "markdown",
   "id": "a47ba159",
   "metadata": {},
   "source": [
    "Build the target column for the task at hand, set the dataset specificities:  the ``haim_id`` as a ``global_id``, use all sources except ``radiology notes`` "
   ]
  },
  {
   "cell_type": "code",
   "execution_count": 3,
   "id": "239db8a3",
   "metadata": {},
   "outputs": [],
   "source": [
    "dataset = HAIMDataset(df,  \n",
    "                      constants.CHEST_PREDICTORS, \n",
    "                      constants.ALL_MODALITIES, \n",
    "                      constants.EDEMA,\n",
    "                      constants.IMG_ID, \n",
    "                      constants.GLOBAL_ID)"
   ]
  },
  {
   "cell_type": "markdown",
   "id": "e280f91d",
   "metadata": {},
   "source": [
    "#### Set hyper-parameters"
   ]
  },
  {
   "cell_type": "code",
   "execution_count": 4,
   "id": "8d254fef",
   "metadata": {},
   "outputs": [],
   "source": [
    "# Define the grid oh hyper-parameters for the tuning\n",
    "grid_hps = {'max_depth': [5, 6, 7, 8],\n",
    "            'n_estimators': [200, 300],\n",
    "            'learning_rate': [0.3, 0.1, 0.05],\n",
    "            }"
   ]
  },
  {
   "cell_type": "markdown",
   "id": "75fd10ab",
   "metadata": {},
   "source": [
    "### Model training and predictions using an XGBClassifier model with GridSearchCV and Hyperparameters optimization\n"
   ]
  },
  {
   "cell_type": "markdown",
   "id": "d04a4c63",
   "metadata": {},
   "source": [
    "The goal of this section of the notebook is to compute the following metrics:\n",
    "\n",
    "``ACCURACY_SCORE, BALANCED_ACCURACY_SCORE, SENSITIVITY, SPECIFICITY, AUC, BRIER SCORE, BINARY CROSS-ENTROPY``\n",
    "\n",
    "\n",
    "The\n",
    "hyperparameter combinations of individual XGBoost models were\n",
    "selected within each training loop using a ``fivefold cross-validated\n",
    "grid search`` on the training set (80%). This XGBoost ``tuning process``\n",
    "selected the ``maximum depth of the trees (5–8)``, the number of\n",
    "``estimators (200 or 300)``, and the ``learning rate (0.05, 0.1, 0.3)``\n",
    "according to the parameter value combination leading to the\n",
    "highest observed AUROC within the training loop \n",
    "\n",
    "\n",
    "As mentioned previously, all XGBoost models were trained ``five times with five different data splits`` to repeat the\n",
    "experiments and compute average metrics \n",
    "\n",
    "\n",
    "```Refer to page 8 of study``` : https://doi.org/10.1038/s41746-022-00689-4"
   ]
  },
  {
   "cell_type": "code",
   "execution_count": 5,
   "id": "726c2332",
   "metadata": {},
   "outputs": [
    {
     "name": "stderr",
     "output_type": "stream",
     "text": [
      "2024-09-24 16:07:16,490\tINFO worker.py:1777 -- Started a local Ray instance. View the dashboard at \u001b[1m\u001b[32mhttp://127.0.0.1:8265 \u001b[39m\u001b[22m\n"
     ]
    },
    {
     "name": "stdout",
     "output_type": "stream",
     "text": [
      "\u001b[36m(run_fold pid=121391)\u001b[0m Outer fold 1\n"
     ]
    },
    {
     "name": "stderr",
     "output_type": "stream",
     "text": [
      "\u001b[36m(raylet)\u001b[0m Spilled 2750 MiB, 3 objects, write throughput 586 MiB/s. Set RAY_verbose_spill_logs=0 to disable this message.\n",
      "Processing:   0%|          | 0/4 [00:00<?, ?it/s]\n"
     ]
    },
    {
     "name": "stdout",
     "output_type": "stream",
     "text": [
      "\u001b[36m(run_fold pid=121391)\u001b[0m Configuring PyCaret for outer fold 1\n",
      "\u001b[36m(run_fold pid=121386)\u001b[0m Outer fold 2\n"
     ]
    },
    {
     "name": "stderr",
     "output_type": "stream",
     "text": [
      "Processing:  25%|██▌       | 1/4 [00:01<00:04,  1.38s/it]\n",
      "Processing:   0%|          | 0/4 [00:00<?, ?it/s]\n",
      "Processing:  75%|███████▌  | 3/4 [07:56<02:56, 176.16s/it]\u001b[32m [repeated 2x across cluster] (Ray deduplicates logs by default. Set RAY_DEDUP_LOGS=0 to disable log deduplication, or see https://docs.ray.io/en/master/ray-observability/user-guides/configure-logging.html#log-deduplication for more options.)\u001b[0m\n",
      "                                                          \n",
      "Processing:  75%|███████▌  | 3/4 [07:55<02:56, 176.09s/it]\n"
     ]
    },
    {
     "name": "stdout",
     "output_type": "stream",
     "text": [
      "\u001b[36m(run_fold pid=121386)\u001b[0m       Accuracy     AUC  Recall   Prec.      F1   Kappa     MCC\n",
      "\u001b[36m(run_fold pid=121386)\u001b[0m Fold                                                          \n",
      "\u001b[36m(run_fold pid=121386)\u001b[0m 0       0.8214  0.8954  0.8796  0.8409  0.8598  0.6140  0.6152\n",
      "\u001b[36m(run_fold pid=121386)\u001b[0m 1       0.8372  0.9096  0.9021  0.8465  0.8734  0.6460  0.6486\n",
      "\u001b[36m(run_fold pid=121386)\u001b[0m 2       0.8404  0.9054  0.8926  0.8569  0.8744  0.6557  0.6567\n",
      "\u001b[36m(run_fold pid=121386)\u001b[0m 3       0.8486  0.9204  0.9080  0.8573  0.8820  0.6713  0.6734\n",
      "\u001b[36m(run_fold pid=121386)\u001b[0m 4       0.8399  0.9034  0.8942  0.8554  0.8744  0.6541  0.6553\n",
      "\u001b[36m(run_fold pid=121386)\u001b[0m Mean    0.8375  0.9068  0.8953  0.8514  0.8728  0.6482  0.6499\n",
      "\u001b[36m(run_fold pid=121386)\u001b[0m Std     0.0089  0.0082  0.0096  0.0066  0.0072  0.0189  0.0192\n",
      "\u001b[36m(run_fold pid=121386)\u001b[0m Configuring PyCaret for outer fold 2\n",
      "\u001b[36m(run_fold pid=121386)\u001b[0m Tuning hyperparameters for model xgboost with custom grid using grid search\n",
      "\u001b[36m(run_fold pid=121391)\u001b[0m 0       0.8355  0.9064  0.8934  0.8500  0.8712  0.6439  0.6454\n",
      "\u001b[36m(run_fold pid=121391)\u001b[0m 1       0.8381  0.9115  0.9072  0.8443  0.8746  0.6470  0.6503\n",
      "\u001b[36m(run_fold pid=121391)\u001b[0m 2       0.8445  0.9094  0.8963  0.8598  0.8777  0.6645  0.6655\n",
      "\u001b[36m(run_fold pid=121391)\u001b[0m 3       0.8463  0.9163  0.8971  0.8619  0.8791  0.6684  0.6694\n",
      "\u001b[36m(run_fold pid=121391)\u001b[0m 4       0.8408  0.9026  0.8927  0.8576  0.8748  0.6566  0.6576\n",
      "\u001b[36m(run_fold pid=121386)\u001b[0m Transformation Pipeline and Model Successfully Saved\n",
      "\u001b[36m(run_fold pid=121391)\u001b[0m       Accuracy     AUC  Recall   Prec.      F1   Kappa     MCC\n",
      "\u001b[36m(run_fold pid=121391)\u001b[0m Fold                                                          \n",
      "\u001b[36m(run_fold pid=121391)\u001b[0m Mean    0.8410  0.9092  0.8973  0.8547  0.8755  0.6561  0.6576\n",
      "\u001b[36m(run_fold pid=121391)\u001b[0m Std     0.0040  0.0046  0.0052  0.0066  0.0027  0.0095  0.0090\n",
      "\u001b[36m(run_fold pid=121391)\u001b[0m Tuning hyperparameters for model xgboost with custom grid using grid search\n",
      "\u001b[36m(run_fold pid=121386)\u001b[0m                        Model  Accuracy     AUC  ...      F1   Kappa     MCC\n",
      "\u001b[36m(run_fold pid=121386)\u001b[0m 0  Extreme Gradient Boosting    0.8539  0.9211  ...  0.8858  0.6836  0.6854\n",
      "\u001b[36m(run_fold pid=121386)\u001b[0m \n",
      "\u001b[36m(run_fold pid=121386)\u001b[0m [1 rows x 8 columns]\n",
      "\u001b[36m(run_fold pid=121386)\u001b[0m Outer fold 3\n"
     ]
    },
    {
     "name": "stderr",
     "output_type": "stream",
     "text": [
      "Processing:   0%|          | 0/4 [00:00<?, ?it/s]\n",
      "                                                          \n"
     ]
    },
    {
     "name": "stdout",
     "output_type": "stream",
     "text": [
      "\u001b[36m(run_fold pid=121386)\u001b[0m Configuring PyCaret for outer fold 3\n"
     ]
    },
    {
     "name": "stderr",
     "output_type": "stream",
     "text": [
      "Processing:  25%|██▌       | 1/4 [00:01<00:03,  1.19s/it]\n"
     ]
    },
    {
     "name": "stdout",
     "output_type": "stream",
     "text": [
      "\u001b[36m(run_fold pid=121391)\u001b[0m Transformation Pipeline and Model Successfully Saved\n",
      "\u001b[36m(run_fold pid=121391)\u001b[0m                        Model  Accuracy     AUC  ...      F1   Kappa     MCC\n",
      "\u001b[36m(run_fold pid=121391)\u001b[0m 0  Extreme Gradient Boosting    0.8496  0.9244  ...  0.8829  0.6732  0.6757\n",
      "\u001b[36m(run_fold pid=121391)\u001b[0m \n",
      "\u001b[36m(run_fold pid=121391)\u001b[0m [1 rows x 8 columns]\n",
      "\u001b[36m(run_fold pid=121391)\u001b[0m Outer fold 4\n"
     ]
    },
    {
     "name": "stderr",
     "output_type": "stream",
     "text": [
      "Processing:   0%|          | 0/4 [00:00<?, ?it/s]\n"
     ]
    },
    {
     "name": "stdout",
     "output_type": "stream",
     "text": [
      "\u001b[36m(run_fold pid=121391)\u001b[0m Configuring PyCaret for outer fold 4\n"
     ]
    },
    {
     "name": "stderr",
     "output_type": "stream",
     "text": [
      "Processing:  25%|██▌       | 1/4 [00:01<00:03,  1.25s/it]\n",
      "Processing:  75%|███████▌  | 3/4 [07:39<02:50, 170.01s/it]\n",
      "                                                          \n"
     ]
    },
    {
     "name": "stdout",
     "output_type": "stream",
     "text": [
      "\u001b[36m(run_fold pid=121386)\u001b[0m       Accuracy     AUC  Recall   Prec.      F1   Kappa     MCC\n",
      "\u001b[36m(run_fold pid=121386)\u001b[0m Fold                                                          \n",
      "\u001b[36m(run_fold pid=121386)\u001b[0m 0       0.8377  0.9101  0.8861  0.8580  0.8718  0.6509  0.6515\n",
      "\u001b[36m(run_fold pid=121386)\u001b[0m 1       0.8445  0.9121  0.9065  0.8529  0.8789  0.6622  0.6646\n",
      "\u001b[36m(run_fold pid=121386)\u001b[0m 2       0.8276  0.8968  0.8890  0.8428  0.8653  0.6266  0.6283\n",
      "\u001b[36m(run_fold pid=121386)\u001b[0m 3       0.8213  0.8997  0.8942  0.8316  0.8618  0.6100  0.6132\n",
      "\u001b[36m(run_fold pid=121386)\u001b[0m 4       0.8427  0.9118  0.8964  0.8575  0.8765  0.6600  0.6612\n",
      "\u001b[36m(run_fold pid=121386)\u001b[0m Mean    0.8348  0.9061  0.8944  0.8486  0.8709  0.6419  0.6438\n",
      "\u001b[36m(run_fold pid=121386)\u001b[0m Std     0.0089  0.0065  0.0070  0.0101  0.0065  0.0204  0.0199\n",
      "\u001b[36m(run_fold pid=121386)\u001b[0m Tuning hyperparameters for model xgboost with custom grid using grid search\n"
     ]
    },
    {
     "name": "stderr",
     "output_type": "stream",
     "text": [
      "Processing:  75%|███████▌  | 3/4 [07:49<02:53, 173.78s/it]\n",
      "                                                          \n"
     ]
    },
    {
     "name": "stdout",
     "output_type": "stream",
     "text": [
      "\u001b[36m(run_fold pid=121391)\u001b[0m 0       0.8336  0.9135  0.8971  0.8453  0.8704  0.6387  0.6409\n",
      "\u001b[36m(run_fold pid=121391)\u001b[0m 1       0.8272  0.8985  0.8860  0.8441  0.8646  0.6263  0.6277\n",
      "\u001b[36m(run_fold pid=121391)\u001b[0m 2       0.8345  0.9081  0.8853  0.8541  0.8694  0.6436  0.6443\n",
      "\u001b[36m(run_fold pid=121391)\u001b[0m 3       0.8449  0.9213  0.9036  0.8556  0.8789  0.6637  0.6656\n",
      "\u001b[36m(run_fold pid=121391)\u001b[0m 4       0.8422  0.9144  0.8949  0.8579  0.8760  0.6593  0.6604\n",
      "\u001b[36m(run_fold pid=121391)\u001b[0m       Accuracy     AUC  Recall   Prec.      F1   Kappa     MCC\n",
      "\u001b[36m(run_fold pid=121391)\u001b[0m Fold                                                          \n",
      "\u001b[36m(run_fold pid=121391)\u001b[0m Mean    0.8365  0.9112  0.8934  0.8514  0.8719  0.6463  0.6478\n",
      "\u001b[36m(run_fold pid=121391)\u001b[0m Std     0.0064  0.0076  0.0069  0.0056  0.0051  0.0137  0.0137\n",
      "\u001b[36m(run_fold pid=121391)\u001b[0m Tuning hyperparameters for model xgboost with custom grid using grid search\n",
      "\u001b[36m(run_fold pid=121386)\u001b[0m Transformation Pipeline and Model Successfully Saved\n",
      "\u001b[36m(run_fold pid=121386)\u001b[0m                        Model  Accuracy     AUC  ...      F1   Kappa     MCC\n",
      "\u001b[36m(run_fold pid=121386)\u001b[0m 0  Extreme Gradient Boosting    0.8609  0.9302  ...  0.8909  0.6992  0.7007\n",
      "\u001b[36m(run_fold pid=121386)\u001b[0m \n",
      "\u001b[36m(run_fold pid=121386)\u001b[0m [1 rows x 8 columns]\n",
      "\u001b[36m(run_fold pid=121386)\u001b[0m Outer fold 5\n"
     ]
    },
    {
     "name": "stderr",
     "output_type": "stream",
     "text": [
      "Processing:   0%|          | 0/4 [00:00<?, ?it/s]\n"
     ]
    },
    {
     "name": "stdout",
     "output_type": "stream",
     "text": [
      "\u001b[36m(run_fold pid=121386)\u001b[0m Configuring PyCaret for outer fold 5\n"
     ]
    },
    {
     "name": "stderr",
     "output_type": "stream",
     "text": [
      "Processing:  25%|██▌       | 1/4 [00:01<00:03,  1.29s/it]\n"
     ]
    },
    {
     "name": "stdout",
     "output_type": "stream",
     "text": [
      "\u001b[36m(run_fold pid=121391)\u001b[0m Transformation Pipeline and Model Successfully Saved\n",
      "\u001b[36m(run_fold pid=121391)\u001b[0m                        Model  Accuracy     AUC  ...      F1   Kappa     MCC\n",
      "\u001b[36m(run_fold pid=121391)\u001b[0m 0  Extreme Gradient Boosting    0.8577  0.9257  ...  0.8894  0.6904  0.6932\n",
      "\u001b[36m(run_fold pid=121391)\u001b[0m \n",
      "\u001b[36m(run_fold pid=121391)\u001b[0m [1 rows x 8 columns]\n"
     ]
    },
    {
     "name": "stderr",
     "output_type": "stream",
     "text": [
      "Processing:  75%|███████▌  | 3/4 [07:34<02:48, 168.37s/it]\n",
      "                                                          \n"
     ]
    },
    {
     "name": "stdout",
     "output_type": "stream",
     "text": [
      "\u001b[36m(run_fold pid=121386)\u001b[0m       Accuracy     AUC  Recall   Prec.      F1   Kappa     MCC\n",
      "\u001b[36m(run_fold pid=121386)\u001b[0m Fold                                                          \n",
      "\u001b[36m(run_fold pid=121386)\u001b[0m 0       0.8350  0.9053  0.8854  0.8548  0.8698  0.6447  0.6455\n",
      "\u001b[36m(run_fold pid=121386)\u001b[0m 1       0.8386  0.9076  0.9028  0.8477  0.8744  0.6491  0.6516\n",
      "\u001b[36m(run_fold pid=121386)\u001b[0m 2       0.8477  0.9090  0.9014  0.8605  0.8805  0.6708  0.6721\n",
      "\u001b[36m(run_fold pid=121386)\u001b[0m 3       0.8427  0.9037  0.9000  0.8551  0.8770  0.6592  0.6609\n",
      "\u001b[36m(run_fold pid=121386)\u001b[0m 4       0.8404  0.9038  0.9066  0.8478  0.8762  0.6523  0.6552\n",
      "\u001b[36m(run_fold pid=121386)\u001b[0m Mean    0.8409  0.9059  0.8992  0.8532  0.8756  0.6552  0.6571\n",
      "\u001b[36m(run_fold pid=121386)\u001b[0m Std     0.0042  0.0021  0.0073  0.0049  0.0035  0.0091  0.0091\n",
      "\u001b[36m(run_fold pid=121386)\u001b[0m Tuning hyperparameters for model xgboost with custom grid using grid search\n",
      "\u001b[36m(run_fold pid=121386)\u001b[0m Transformation Pipeline and Model Successfully Saved\n",
      "\u001b[36m(run_fold pid=121386)\u001b[0m                        Model  Accuracy     AUC  ...      F1   Kappa    MCC\n",
      "\u001b[36m(run_fold pid=121386)\u001b[0m 0  Extreme Gradient Boosting    0.8641  0.9311  ...  0.8929  0.7071  0.708\n",
      "\u001b[36m(run_fold pid=121386)\u001b[0m \n",
      "\u001b[36m(run_fold pid=121386)\u001b[0m [1 rows x 8 columns]\n",
      "Final metrics table:\n",
      "     Metric     Mean   Std Dev\n",
      "0  Accuracy  0.84274  0.006124\n",
      "1       AUC  0.91526  0.005277\n",
      "2    Recall  0.90320  0.009301\n",
      "3     Prec.  0.85300  0.007575\n",
      "4        F1  0.87734  0.004765\n",
      "5     Kappa  0.65872  0.013536\n",
      "6       MCC  0.66098  0.013425\n"
     ]
    }
   ],
   "source": [
    "# Initialize the PyCaret Evaluator\n",
    "evaluator = PyCaretEvaluator(dataset=dataset, target=\"Edema\", experiment_name=\"CP_Edema\", filepath=\"./results/edema\")\n",
    "\n",
    "# Model training and results evaluation\n",
    "evaluator.run_experiment(\n",
    "    train_size=0.8,\n",
    "    fold=5,\n",
    "    fold_strategy='stratifiedkfold',\n",
    "    outer_fold=5,\n",
    "    outer_strategy='stratifiedkfold',\n",
    "    session_id=42,\n",
    "    model='xgboost',\n",
    "    optimize='AUC',\n",
    "    custom_grid=grid_hps\n",
    ")"
   ]
  }
 ],
 "metadata": {
  "kernelspec": {
   "display_name": "Python (pycaret_env)",
   "language": "python",
   "name": "pycaret_env"
  },
  "language_info": {
   "codemirror_mode": {
    "name": "ipython",
    "version": 3
   },
   "file_extension": ".py",
   "mimetype": "text/x-python",
   "name": "python",
   "nbconvert_exporter": "python",
   "pygments_lexer": "ipython3",
   "version": "3.11.9"
  }
 },
 "nbformat": 4,
 "nbformat_minor": 5
}
