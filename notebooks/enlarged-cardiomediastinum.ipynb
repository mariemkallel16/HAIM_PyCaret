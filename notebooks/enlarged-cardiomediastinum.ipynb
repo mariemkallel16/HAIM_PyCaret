{
 "cells": [
  {
   "cell_type": "markdown",
   "id": "c4139f23",
   "metadata": {},
   "source": [
    "# Pathology prediction (Enlarged_CM)\n",
    "\n",
    "\n",
    "@References : Soenksen, L.R., Ma, Y., Zeng, C. et al. Integrated multimodal artificial intelligence framework for healthcare applications. npj Digit. Med. 5, 149 (2022). https://doi.org/10.1038/s41746-022-00689-4\n",
    "\n",
    "In this notebook, the task is to predict the Enlarged Cardiomediastinum pathology using the CSV embeddings file\n",
    "\n"
   ]
  },
  {
   "cell_type": "markdown",
   "id": "8e9e247e",
   "metadata": {},
   "source": [
    "## Introduction\n"
   ]
  },
  {
   "attachments": {},
   "cell_type": "markdown",
   "id": "321d5924",
   "metadata": {},
   "source": [
    "Radiology notes were processed to determine if each of the pathologies was explicitly confirmed as present (value = 1), explicitly confirmed as absent (value = 0), inconclusive in the study (value = −1), or not explored (no value).\n",
    "\n",
    "Selected samples : 0 or 1 values (removing the rest from the training and testing data).\n",
    "\n",
    "Excluded variables : the unstructured radiology notes component (E_rad ) from the allowable input to avoid potential overfitting or misrepresentations of real predictive value.\n",
    "\n",
    "The model is based on binary classification for each target chest pathology.\n",
    "\n",
    "Final sample size for the Enlarged Cardiomediastinum pathology is : (N =  3206)"
   ]
  },
  {
   "cell_type": "markdown",
   "id": "59600fd4",
   "metadata": {},
   "source": [
    "#### Imports"
   ]
  },
  {
   "cell_type": "code",
   "execution_count": 1,
   "id": "2d0990d5",
   "metadata": {},
   "outputs": [],
   "source": [
    "import os\n",
    "os.chdir('../')\n",
    "\n",
    "from pandas import read_csv\n",
    "\n",
    "from src.data import constants\n",
    "from src.data.dataset import HAIMDataset\n",
    "from src.evaluation.pycaret_evaluator import PyCaretEvaluator\n",
    "from src.utils.metric_scores import *"
   ]
  },
  {
   "cell_type": "markdown",
   "id": "645a1fe8",
   "metadata": {},
   "source": [
    "#### Read data from local source\n",
    "\n"
   ]
  },
  {
   "cell_type": "code",
   "execution_count": 2,
   "id": "a948c18c",
   "metadata": {},
   "outputs": [],
   "source": [
    "df = read_csv(constants.FILE_DF, nrows=constants.N_DATA)"
   ]
  },
  {
   "cell_type": "markdown",
   "id": "90a95053",
   "metadata": {},
   "source": [
    "#### Create a custom dataset for the HAIM experiment\n"
   ]
  },
  {
   "cell_type": "markdown",
   "id": "a47ba159",
   "metadata": {},
   "source": [
    "Build the target column for the task at hand, set the dataset specificities:  the ``haim_id`` as a ``global_id``, use all sources except ``radiology notes`` "
   ]
  },
  {
   "cell_type": "code",
   "execution_count": 3,
   "id": "239db8a3",
   "metadata": {},
   "outputs": [],
   "source": [
    "dataset = HAIMDataset(df,  \n",
    "                      constants.CHEST_PREDICTORS, \n",
    "                      constants.ALL_MODALITIES, \n",
    "                      constants.ENLARGED_CARDIOMEDIASTINUM,\n",
    "                      constants.IMG_ID, \n",
    "                      constants.GLOBAL_ID)"
   ]
  },
  {
   "cell_type": "markdown",
   "id": "e280f91d",
   "metadata": {},
   "source": [
    "#### Set hyper-parameters"
   ]
  },
  {
   "cell_type": "code",
   "execution_count": 4,
   "id": "8d254fef",
   "metadata": {},
   "outputs": [],
   "source": [
    "# Define the grid oh hyper-parameters for the tuning\n",
    "grid_hps = {'max_depth': [5, 6, 7, 8],\n",
    "            'n_estimators': [200, 300],\n",
    "            'learning_rate': [0.3, 0.1, 0.05],\n",
    "            }"
   ]
  },
  {
   "cell_type": "markdown",
   "id": "75fd10ab",
   "metadata": {},
   "source": [
    "### Model training and predictions using an XGBClassifier model with GridSearchCV and Hyperparameters optimization\n"
   ]
  },
  {
   "cell_type": "markdown",
   "id": "d04a4c63",
   "metadata": {},
   "source": [
    "The goal of this section of the notebook is to compute the following metrics:\n",
    "\n",
    "``ACCURACY_SCORE, BALANCED_ACCURACY_SCORE, SENSITIVITY, SPECIFICITY, AUC, BRIER SCORE, BINARY CROSS-ENTROPY``\n",
    "\n",
    "\n",
    "The\n",
    "hyperparameter combinations of individual XGBoost models were\n",
    "selected within each training loop using a ``fivefold cross-validated\n",
    "grid search`` on the training set (80%). This XGBoost ``tuning process``\n",
    "selected the ``maximum depth of the trees (5–8)``, the number of\n",
    "``estimators (200 or 300)``, and the ``learning rate (0.05, 0.1, 0.3)``\n",
    "according to the parameter value combination leading to the\n",
    "highest observed AUROC within the training loop \n",
    "\n",
    "\n",
    "As mentioned previously, all XGBoost models were trained ``five times with five different data splits`` to repeat the\n",
    "experiments and compute average metrics \n",
    "\n",
    "\n",
    "```Refer to page 8 of study``` : https://doi.org/10.1038/s41746-022-00689-4"
   ]
  },
  {
   "cell_type": "code",
   "execution_count": 5,
   "id": "726c2332",
   "metadata": {},
   "outputs": [
    {
     "name": "stdout",
     "output_type": "stream",
     "text": [
      "Outer fold 1/5\n",
      "Configuring PyCaret for outer fold 1\n",
      "Creating model xgboost for outer fold 1\n"
     ]
    },
    {
     "data": {
      "text/html": [],
      "text/plain": [
       "<IPython.core.display.HTML object>"
      ]
     },
     "metadata": {},
     "output_type": "display_data"
    },
    {
     "data": {
      "text/html": [
       "<style type=\"text/css\">\n",
       "#T_f493b_row5_col0, #T_f493b_row5_col1, #T_f493b_row5_col2, #T_f493b_row5_col3, #T_f493b_row5_col4, #T_f493b_row5_col5, #T_f493b_row5_col6 {\n",
       "  background: yellow;\n",
       "}\n",
       "</style>\n",
       "<table id=\"T_f493b\">\n",
       "  <thead>\n",
       "    <tr>\n",
       "      <th class=\"blank level0\" >&nbsp;</th>\n",
       "      <th id=\"T_f493b_level0_col0\" class=\"col_heading level0 col0\" >Accuracy</th>\n",
       "      <th id=\"T_f493b_level0_col1\" class=\"col_heading level0 col1\" >AUC</th>\n",
       "      <th id=\"T_f493b_level0_col2\" class=\"col_heading level0 col2\" >Recall</th>\n",
       "      <th id=\"T_f493b_level0_col3\" class=\"col_heading level0 col3\" >Prec.</th>\n",
       "      <th id=\"T_f493b_level0_col4\" class=\"col_heading level0 col4\" >F1</th>\n",
       "      <th id=\"T_f493b_level0_col5\" class=\"col_heading level0 col5\" >Kappa</th>\n",
       "      <th id=\"T_f493b_level0_col6\" class=\"col_heading level0 col6\" >MCC</th>\n",
       "    </tr>\n",
       "    <tr>\n",
       "      <th class=\"index_name level0\" >Fold</th>\n",
       "      <th class=\"blank col0\" >&nbsp;</th>\n",
       "      <th class=\"blank col1\" >&nbsp;</th>\n",
       "      <th class=\"blank col2\" >&nbsp;</th>\n",
       "      <th class=\"blank col3\" >&nbsp;</th>\n",
       "      <th class=\"blank col4\" >&nbsp;</th>\n",
       "      <th class=\"blank col5\" >&nbsp;</th>\n",
       "      <th class=\"blank col6\" >&nbsp;</th>\n",
       "    </tr>\n",
       "  </thead>\n",
       "  <tbody>\n",
       "    <tr>\n",
       "      <th id=\"T_f493b_level0_row0\" class=\"row_heading level0 row0\" >0</th>\n",
       "      <td id=\"T_f493b_row0_col0\" class=\"data row0 col0\" >0.8637</td>\n",
       "      <td id=\"T_f493b_row0_col1\" class=\"data row0 col1\" >0.8928</td>\n",
       "      <td id=\"T_f493b_row0_col2\" class=\"data row0 col2\" >0.9608</td>\n",
       "      <td id=\"T_f493b_row0_col3\" class=\"data row0 col3\" >0.8698</td>\n",
       "      <td id=\"T_f493b_row0_col4\" class=\"data row0 col4\" >0.9130</td>\n",
       "      <td id=\"T_f493b_row0_col5\" class=\"data row0 col5\" >0.6020</td>\n",
       "      <td id=\"T_f493b_row0_col6\" class=\"data row0 col6\" >0.6182</td>\n",
       "    </tr>\n",
       "    <tr>\n",
       "      <th id=\"T_f493b_level0_row1\" class=\"row_heading level0 row1\" >1</th>\n",
       "      <td id=\"T_f493b_row1_col0\" class=\"data row1 col0\" >0.8293</td>\n",
       "      <td id=\"T_f493b_row1_col1\" class=\"data row1 col1\" >0.8623</td>\n",
       "      <td id=\"T_f493b_row1_col2\" class=\"data row1 col2\" >0.9279</td>\n",
       "      <td id=\"T_f493b_row1_col3\" class=\"data row1 col3\" >0.8550</td>\n",
       "      <td id=\"T_f493b_row1_col4\" class=\"data row1 col4\" >0.8899</td>\n",
       "      <td id=\"T_f493b_row1_col5\" class=\"data row1 col5\" >0.5123</td>\n",
       "      <td id=\"T_f493b_row1_col6\" class=\"data row1 col6\" >0.5209</td>\n",
       "    </tr>\n",
       "    <tr>\n",
       "      <th id=\"T_f493b_level0_row2\" class=\"row_heading level0 row2\" >2</th>\n",
       "      <td id=\"T_f493b_row2_col0\" class=\"data row2 col0\" >0.8634</td>\n",
       "      <td id=\"T_f493b_row2_col1\" class=\"data row2 col1\" >0.8887</td>\n",
       "      <td id=\"T_f493b_row2_col2\" class=\"data row2 col2\" >0.9410</td>\n",
       "      <td id=\"T_f493b_row2_col3\" class=\"data row2 col3\" >0.8831</td>\n",
       "      <td id=\"T_f493b_row2_col4\" class=\"data row2 col4\" >0.9111</td>\n",
       "      <td id=\"T_f493b_row2_col5\" class=\"data row2 col5\" >0.6177</td>\n",
       "      <td id=\"T_f493b_row2_col6\" class=\"data row2 col6\" >0.6235</td>\n",
       "    </tr>\n",
       "    <tr>\n",
       "      <th id=\"T_f493b_level0_row3\" class=\"row_heading level0 row3\" >3</th>\n",
       "      <td id=\"T_f493b_row3_col0\" class=\"data row3 col0\" >0.8707</td>\n",
       "      <td id=\"T_f493b_row3_col1\" class=\"data row3 col1\" >0.8723</td>\n",
       "      <td id=\"T_f493b_row3_col2\" class=\"data row3 col2\" >0.9706</td>\n",
       "      <td id=\"T_f493b_row3_col3\" class=\"data row3 col3\" >0.8710</td>\n",
       "      <td id=\"T_f493b_row3_col4\" class=\"data row3 col4\" >0.9181</td>\n",
       "      <td id=\"T_f493b_row3_col5\" class=\"data row3 col5\" >0.6159</td>\n",
       "      <td id=\"T_f493b_row3_col6\" class=\"data row3 col6\" >0.6367</td>\n",
       "    </tr>\n",
       "    <tr>\n",
       "      <th id=\"T_f493b_level0_row4\" class=\"row_heading level0 row4\" >4</th>\n",
       "      <td id=\"T_f493b_row4_col0\" class=\"data row4 col0\" >0.8634</td>\n",
       "      <td id=\"T_f493b_row4_col1\" class=\"data row4 col1\" >0.8802</td>\n",
       "      <td id=\"T_f493b_row4_col2\" class=\"data row4 col2\" >0.9771</td>\n",
       "      <td id=\"T_f493b_row4_col3\" class=\"data row4 col3\" >0.8592</td>\n",
       "      <td id=\"T_f493b_row4_col4\" class=\"data row4 col4\" >0.9144</td>\n",
       "      <td id=\"T_f493b_row4_col5\" class=\"data row4 col5\" >0.5838</td>\n",
       "      <td id=\"T_f493b_row4_col6\" class=\"data row4 col6\" >0.6145</td>\n",
       "    </tr>\n",
       "    <tr>\n",
       "      <th id=\"T_f493b_level0_row5\" class=\"row_heading level0 row5\" >Mean</th>\n",
       "      <td id=\"T_f493b_row5_col0\" class=\"data row5 col0\" >0.8581</td>\n",
       "      <td id=\"T_f493b_row5_col1\" class=\"data row5 col1\" >0.8793</td>\n",
       "      <td id=\"T_f493b_row5_col2\" class=\"data row5 col2\" >0.9555</td>\n",
       "      <td id=\"T_f493b_row5_col3\" class=\"data row5 col3\" >0.8676</td>\n",
       "      <td id=\"T_f493b_row5_col4\" class=\"data row5 col4\" >0.9093</td>\n",
       "      <td id=\"T_f493b_row5_col5\" class=\"data row5 col5\" >0.5863</td>\n",
       "      <td id=\"T_f493b_row5_col6\" class=\"data row5 col6\" >0.6028</td>\n",
       "    </tr>\n",
       "    <tr>\n",
       "      <th id=\"T_f493b_level0_row6\" class=\"row_heading level0 row6\" >Std</th>\n",
       "      <td id=\"T_f493b_row6_col0\" class=\"data row6 col0\" >0.0147</td>\n",
       "      <td id=\"T_f493b_row6_col1\" class=\"data row6 col1\" >0.0111</td>\n",
       "      <td id=\"T_f493b_row6_col2\" class=\"data row6 col2\" >0.0184</td>\n",
       "      <td id=\"T_f493b_row6_col3\" class=\"data row6 col3\" >0.0099</td>\n",
       "      <td id=\"T_f493b_row6_col4\" class=\"data row6 col4\" >0.0100</td>\n",
       "      <td id=\"T_f493b_row6_col5\" class=\"data row6 col5\" >0.0390</td>\n",
       "      <td id=\"T_f493b_row6_col6\" class=\"data row6 col6\" >0.0416</td>\n",
       "    </tr>\n",
       "  </tbody>\n",
       "</table>\n"
      ],
      "text/plain": [
       "<pandas.io.formats.style.Styler at 0x7fba7be0bf10>"
      ]
     },
     "metadata": {},
     "output_type": "display_data"
    },
    {
     "data": {
      "text/html": [],
      "text/plain": [
       "<IPython.core.display.HTML object>"
      ]
     },
     "metadata": {},
     "output_type": "display_data"
    },
    {
     "name": "stdout",
     "output_type": "stream",
     "text": [
      "Tuning hyperparameters for model xgboost with custom grid\n"
     ]
    },
    {
     "data": {
      "text/html": [],
      "text/plain": [
       "<IPython.core.display.HTML object>"
      ]
     },
     "metadata": {},
     "output_type": "display_data"
    },
    {
     "data": {
      "text/html": [
       "<style type=\"text/css\">\n",
       "#T_db368_row5_col0, #T_db368_row5_col1, #T_db368_row5_col2, #T_db368_row5_col3, #T_db368_row5_col4, #T_db368_row5_col5, #T_db368_row5_col6 {\n",
       "  background: yellow;\n",
       "}\n",
       "</style>\n",
       "<table id=\"T_db368\">\n",
       "  <thead>\n",
       "    <tr>\n",
       "      <th class=\"blank level0\" >&nbsp;</th>\n",
       "      <th id=\"T_db368_level0_col0\" class=\"col_heading level0 col0\" >Accuracy</th>\n",
       "      <th id=\"T_db368_level0_col1\" class=\"col_heading level0 col1\" >AUC</th>\n",
       "      <th id=\"T_db368_level0_col2\" class=\"col_heading level0 col2\" >Recall</th>\n",
       "      <th id=\"T_db368_level0_col3\" class=\"col_heading level0 col3\" >Prec.</th>\n",
       "      <th id=\"T_db368_level0_col4\" class=\"col_heading level0 col4\" >F1</th>\n",
       "      <th id=\"T_db368_level0_col5\" class=\"col_heading level0 col5\" >Kappa</th>\n",
       "      <th id=\"T_db368_level0_col6\" class=\"col_heading level0 col6\" >MCC</th>\n",
       "    </tr>\n",
       "    <tr>\n",
       "      <th class=\"index_name level0\" >Fold</th>\n",
       "      <th class=\"blank col0\" >&nbsp;</th>\n",
       "      <th class=\"blank col1\" >&nbsp;</th>\n",
       "      <th class=\"blank col2\" >&nbsp;</th>\n",
       "      <th class=\"blank col3\" >&nbsp;</th>\n",
       "      <th class=\"blank col4\" >&nbsp;</th>\n",
       "      <th class=\"blank col5\" >&nbsp;</th>\n",
       "      <th class=\"blank col6\" >&nbsp;</th>\n",
       "    </tr>\n",
       "  </thead>\n",
       "  <tbody>\n",
       "    <tr>\n",
       "      <th id=\"T_db368_level0_row0\" class=\"row_heading level0 row0\" >0</th>\n",
       "      <td id=\"T_db368_row0_col0\" class=\"data row0 col0\" >0.8589</td>\n",
       "      <td id=\"T_db368_row0_col1\" class=\"data row0 col1\" >0.8958</td>\n",
       "      <td id=\"T_db368_row0_col2\" class=\"data row0 col2\" >0.9542</td>\n",
       "      <td id=\"T_db368_row0_col3\" class=\"data row0 col3\" >0.8690</td>\n",
       "      <td id=\"T_db368_row0_col4\" class=\"data row0 col4\" >0.9097</td>\n",
       "      <td id=\"T_db368_row0_col5\" class=\"data row0 col5\" >0.5906</td>\n",
       "      <td id=\"T_db368_row0_col6\" class=\"data row0 col6\" >0.6043</td>\n",
       "    </tr>\n",
       "    <tr>\n",
       "      <th id=\"T_db368_level0_row1\" class=\"row_heading level0 row1\" >1</th>\n",
       "      <td id=\"T_db368_row1_col0\" class=\"data row1 col0\" >0.8293</td>\n",
       "      <td id=\"T_db368_row1_col1\" class=\"data row1 col1\" >0.8666</td>\n",
       "      <td id=\"T_db368_row1_col2\" class=\"data row1 col2\" >0.9213</td>\n",
       "      <td id=\"T_db368_row1_col3\" class=\"data row1 col3\" >0.8593</td>\n",
       "      <td id=\"T_db368_row1_col4\" class=\"data row1 col4\" >0.8892</td>\n",
       "      <td id=\"T_db368_row1_col5\" class=\"data row1 col5\" >0.5189</td>\n",
       "      <td id=\"T_db368_row1_col6\" class=\"data row1 col6\" >0.5249</td>\n",
       "    </tr>\n",
       "    <tr>\n",
       "      <th id=\"T_db368_level0_row2\" class=\"row_heading level0 row2\" >2</th>\n",
       "      <td id=\"T_db368_row2_col0\" class=\"data row2 col0\" >0.8610</td>\n",
       "      <td id=\"T_db368_row2_col1\" class=\"data row2 col1\" >0.8886</td>\n",
       "      <td id=\"T_db368_row2_col2\" class=\"data row2 col2\" >0.9344</td>\n",
       "      <td id=\"T_db368_row2_col3\" class=\"data row2 col3\" >0.8851</td>\n",
       "      <td id=\"T_db368_row2_col4\" class=\"data row2 col4\" >0.9091</td>\n",
       "      <td id=\"T_db368_row2_col5\" class=\"data row2 col5\" >0.6147</td>\n",
       "      <td id=\"T_db368_row2_col6\" class=\"data row2 col6\" >0.6188</td>\n",
       "    </tr>\n",
       "    <tr>\n",
       "      <th id=\"T_db368_level0_row3\" class=\"row_heading level0 row3\" >3</th>\n",
       "      <td id=\"T_db368_row3_col0\" class=\"data row3 col0\" >0.8780</td>\n",
       "      <td id=\"T_db368_row3_col1\" class=\"data row3 col1\" >0.8746</td>\n",
       "      <td id=\"T_db368_row3_col2\" class=\"data row3 col2\" >0.9739</td>\n",
       "      <td id=\"T_db368_row3_col3\" class=\"data row3 col3\" >0.8765</td>\n",
       "      <td id=\"T_db368_row3_col4\" class=\"data row3 col4\" >0.9226</td>\n",
       "      <td id=\"T_db368_row3_col5\" class=\"data row3 col5\" >0.6390</td>\n",
       "      <td id=\"T_db368_row3_col6\" class=\"data row3 col6\" >0.6591</td>\n",
       "    </tr>\n",
       "    <tr>\n",
       "      <th id=\"T_db368_level0_row4\" class=\"row_heading level0 row4\" >4</th>\n",
       "      <td id=\"T_db368_row4_col0\" class=\"data row4 col0\" >0.8683</td>\n",
       "      <td id=\"T_db368_row4_col1\" class=\"data row4 col1\" >0.8854</td>\n",
       "      <td id=\"T_db368_row4_col2\" class=\"data row4 col2\" >0.9804</td>\n",
       "      <td id=\"T_db368_row4_col3\" class=\"data row4 col3\" >0.8621</td>\n",
       "      <td id=\"T_db368_row4_col4\" class=\"data row4 col4\" >0.9174</td>\n",
       "      <td id=\"T_db368_row4_col5\" class=\"data row4 col5\" >0.5987</td>\n",
       "      <td id=\"T_db368_row4_col6\" class=\"data row4 col6\" >0.6301</td>\n",
       "    </tr>\n",
       "    <tr>\n",
       "      <th id=\"T_db368_level0_row5\" class=\"row_heading level0 row5\" >Mean</th>\n",
       "      <td id=\"T_db368_row5_col0\" class=\"data row5 col0\" >0.8591</td>\n",
       "      <td id=\"T_db368_row5_col1\" class=\"data row5 col1\" >0.8822</td>\n",
       "      <td id=\"T_db368_row5_col2\" class=\"data row5 col2\" >0.9528</td>\n",
       "      <td id=\"T_db368_row5_col3\" class=\"data row5 col3\" >0.8704</td>\n",
       "      <td id=\"T_db368_row5_col4\" class=\"data row5 col4\" >0.9096</td>\n",
       "      <td id=\"T_db368_row5_col5\" class=\"data row5 col5\" >0.5924</td>\n",
       "      <td id=\"T_db368_row5_col6\" class=\"data row5 col6\" >0.6075</td>\n",
       "    </tr>\n",
       "    <tr>\n",
       "      <th id=\"T_db368_level0_row6\" class=\"row_heading level0 row6\" >Std</th>\n",
       "      <td id=\"T_db368_row6_col0\" class=\"data row6 col0\" >0.0164</td>\n",
       "      <td id=\"T_db368_row6_col1\" class=\"data row6 col1\" >0.0104</td>\n",
       "      <td id=\"T_db368_row6_col2\" class=\"data row6 col2\" >0.0225</td>\n",
       "      <td id=\"T_db368_row6_col3\" class=\"data row6 col3\" >0.0095</td>\n",
       "      <td id=\"T_db368_row6_col4\" class=\"data row6 col4\" >0.0114</td>\n",
       "      <td id=\"T_db368_row6_col5\" class=\"data row6 col5\" >0.0403</td>\n",
       "      <td id=\"T_db368_row6_col6\" class=\"data row6 col6\" >0.0450</td>\n",
       "    </tr>\n",
       "  </tbody>\n",
       "</table>\n"
      ],
      "text/plain": [
       "<pandas.io.formats.style.Styler at 0x7fba6b0bdf50>"
      ]
     },
     "metadata": {},
     "output_type": "display_data"
    },
    {
     "data": {
      "text/html": [],
      "text/plain": [
       "<IPython.core.display.HTML object>"
      ]
     },
     "metadata": {},
     "output_type": "display_data"
    },
    {
     "name": "stdout",
     "output_type": "stream",
     "text": [
      "Fitting 5 folds for each of 10 candidates, totalling 50 fits\n",
      "Transformation Pipeline and Model Successfully Saved\n"
     ]
    },
    {
     "data": {
      "text/html": [
       "<style type=\"text/css\">\n",
       "</style>\n",
       "<table id=\"T_dc701\">\n",
       "  <thead>\n",
       "    <tr>\n",
       "      <th class=\"blank level0\" >&nbsp;</th>\n",
       "      <th id=\"T_dc701_level0_col0\" class=\"col_heading level0 col0\" >Model</th>\n",
       "      <th id=\"T_dc701_level0_col1\" class=\"col_heading level0 col1\" >Accuracy</th>\n",
       "      <th id=\"T_dc701_level0_col2\" class=\"col_heading level0 col2\" >AUC</th>\n",
       "      <th id=\"T_dc701_level0_col3\" class=\"col_heading level0 col3\" >Recall</th>\n",
       "      <th id=\"T_dc701_level0_col4\" class=\"col_heading level0 col4\" >Prec.</th>\n",
       "      <th id=\"T_dc701_level0_col5\" class=\"col_heading level0 col5\" >F1</th>\n",
       "      <th id=\"T_dc701_level0_col6\" class=\"col_heading level0 col6\" >Kappa</th>\n",
       "      <th id=\"T_dc701_level0_col7\" class=\"col_heading level0 col7\" >MCC</th>\n",
       "    </tr>\n",
       "  </thead>\n",
       "  <tbody>\n",
       "    <tr>\n",
       "      <th id=\"T_dc701_level0_row0\" class=\"row_heading level0 row0\" >0</th>\n",
       "      <td id=\"T_dc701_row0_col0\" class=\"data row0 col0\" >Extreme Gradient Boosting</td>\n",
       "      <td id=\"T_dc701_row0_col1\" class=\"data row0 col1\" >0.8551</td>\n",
       "      <td id=\"T_dc701_row0_col2\" class=\"data row0 col2\" >0.9039</td>\n",
       "      <td id=\"T_dc701_row0_col3\" class=\"data row0 col3\" >0.9540</td>\n",
       "      <td id=\"T_dc701_row0_col4\" class=\"data row0 col4\" >0.8653</td>\n",
       "      <td id=\"T_dc701_row0_col5\" class=\"data row0 col5\" >0.9075</td>\n",
       "      <td id=\"T_dc701_row0_col6\" class=\"data row0 col6\" >0.5777</td>\n",
       "      <td id=\"T_dc701_row0_col7\" class=\"data row0 col7\" >0.5926</td>\n",
       "    </tr>\n",
       "  </tbody>\n",
       "</table>\n"
      ],
      "text/plain": [
       "<pandas.io.formats.style.Styler at 0x7fba64b1ab90>"
      ]
     },
     "metadata": {},
     "output_type": "display_data"
    },
    {
     "name": "stdout",
     "output_type": "stream",
     "text": [
      "Outer fold 2/5\n",
      "Configuring PyCaret for outer fold 2\n",
      "Creating model xgboost for outer fold 2\n"
     ]
    },
    {
     "data": {
      "text/html": [],
      "text/plain": [
       "<IPython.core.display.HTML object>"
      ]
     },
     "metadata": {},
     "output_type": "display_data"
    },
    {
     "data": {
      "text/html": [
       "<style type=\"text/css\">\n",
       "#T_37095_row5_col0, #T_37095_row5_col1, #T_37095_row5_col2, #T_37095_row5_col3, #T_37095_row5_col4, #T_37095_row5_col5, #T_37095_row5_col6 {\n",
       "  background: yellow;\n",
       "}\n",
       "</style>\n",
       "<table id=\"T_37095\">\n",
       "  <thead>\n",
       "    <tr>\n",
       "      <th class=\"blank level0\" >&nbsp;</th>\n",
       "      <th id=\"T_37095_level0_col0\" class=\"col_heading level0 col0\" >Accuracy</th>\n",
       "      <th id=\"T_37095_level0_col1\" class=\"col_heading level0 col1\" >AUC</th>\n",
       "      <th id=\"T_37095_level0_col2\" class=\"col_heading level0 col2\" >Recall</th>\n",
       "      <th id=\"T_37095_level0_col3\" class=\"col_heading level0 col3\" >Prec.</th>\n",
       "      <th id=\"T_37095_level0_col4\" class=\"col_heading level0 col4\" >F1</th>\n",
       "      <th id=\"T_37095_level0_col5\" class=\"col_heading level0 col5\" >Kappa</th>\n",
       "      <th id=\"T_37095_level0_col6\" class=\"col_heading level0 col6\" >MCC</th>\n",
       "    </tr>\n",
       "    <tr>\n",
       "      <th class=\"index_name level0\" >Fold</th>\n",
       "      <th class=\"blank col0\" >&nbsp;</th>\n",
       "      <th class=\"blank col1\" >&nbsp;</th>\n",
       "      <th class=\"blank col2\" >&nbsp;</th>\n",
       "      <th class=\"blank col3\" >&nbsp;</th>\n",
       "      <th class=\"blank col4\" >&nbsp;</th>\n",
       "      <th class=\"blank col5\" >&nbsp;</th>\n",
       "      <th class=\"blank col6\" >&nbsp;</th>\n",
       "    </tr>\n",
       "  </thead>\n",
       "  <tbody>\n",
       "    <tr>\n",
       "      <th id=\"T_37095_level0_row0\" class=\"row_heading level0 row0\" >0</th>\n",
       "      <td id=\"T_37095_row0_col0\" class=\"data row0 col0\" >0.8297</td>\n",
       "      <td id=\"T_37095_row0_col1\" class=\"data row0 col1\" >0.8504</td>\n",
       "      <td id=\"T_37095_row0_col2\" class=\"data row0 col2\" >0.9346</td>\n",
       "      <td id=\"T_37095_row0_col3\" class=\"data row0 col3\" >0.8512</td>\n",
       "      <td id=\"T_37095_row0_col4\" class=\"data row0 col4\" >0.8910</td>\n",
       "      <td id=\"T_37095_row0_col5\" class=\"data row0 col5\" >0.5059</td>\n",
       "      <td id=\"T_37095_row0_col6\" class=\"data row0 col6\" >0.5177</td>\n",
       "    </tr>\n",
       "    <tr>\n",
       "      <th id=\"T_37095_level0_row1\" class=\"row_heading level0 row1\" >1</th>\n",
       "      <td id=\"T_37095_row1_col0\" class=\"data row1 col0\" >0.8662</td>\n",
       "      <td id=\"T_37095_row1_col1\" class=\"data row1 col1\" >0.9081</td>\n",
       "      <td id=\"T_37095_row1_col2\" class=\"data row1 col2\" >0.9706</td>\n",
       "      <td id=\"T_37095_row1_col3\" class=\"data row1 col3\" >0.8659</td>\n",
       "      <td id=\"T_37095_row1_col4\" class=\"data row1 col4\" >0.9153</td>\n",
       "      <td id=\"T_37095_row1_col5\" class=\"data row1 col5\" >0.6022</td>\n",
       "      <td id=\"T_37095_row1_col6\" class=\"data row1 col6\" >0.6250</td>\n",
       "    </tr>\n",
       "    <tr>\n",
       "      <th id=\"T_37095_level0_row2\" class=\"row_heading level0 row2\" >2</th>\n",
       "      <td id=\"T_37095_row2_col0\" class=\"data row2 col0\" >0.8390</td>\n",
       "      <td id=\"T_37095_row2_col1\" class=\"data row2 col1\" >0.8627</td>\n",
       "      <td id=\"T_37095_row2_col2\" class=\"data row2 col2\" >0.9377</td>\n",
       "      <td id=\"T_37095_row2_col3\" class=\"data row2 col3\" >0.8589</td>\n",
       "      <td id=\"T_37095_row2_col4\" class=\"data row2 col4\" >0.8966</td>\n",
       "      <td id=\"T_37095_row2_col5\" class=\"data row2 col5\" >0.5370</td>\n",
       "      <td id=\"T_37095_row2_col6\" class=\"data row2 col6\" >0.5477</td>\n",
       "    </tr>\n",
       "    <tr>\n",
       "      <th id=\"T_37095_level0_row3\" class=\"row_heading level0 row3\" >3</th>\n",
       "      <td id=\"T_37095_row3_col0\" class=\"data row3 col0\" >0.8415</td>\n",
       "      <td id=\"T_37095_row3_col1\" class=\"data row3 col1\" >0.8996</td>\n",
       "      <td id=\"T_37095_row3_col2\" class=\"data row3 col2\" >0.9377</td>\n",
       "      <td id=\"T_37095_row3_col3\" class=\"data row3 col3\" >0.8614</td>\n",
       "      <td id=\"T_37095_row3_col4\" class=\"data row3 col4\" >0.8980</td>\n",
       "      <td id=\"T_37095_row3_col5\" class=\"data row3 col5\" >0.5456</td>\n",
       "      <td id=\"T_37095_row3_col6\" class=\"data row3 col6\" >0.5556</td>\n",
       "    </tr>\n",
       "    <tr>\n",
       "      <th id=\"T_37095_level0_row4\" class=\"row_heading level0 row4\" >4</th>\n",
       "      <td id=\"T_37095_row4_col0\" class=\"data row4 col0\" >0.8463</td>\n",
       "      <td id=\"T_37095_row4_col1\" class=\"data row4 col1\" >0.8605</td>\n",
       "      <td id=\"T_37095_row4_col2\" class=\"data row4 col2\" >0.9837</td>\n",
       "      <td id=\"T_37095_row4_col3\" class=\"data row4 col3\" >0.8384</td>\n",
       "      <td id=\"T_37095_row4_col4\" class=\"data row4 col4\" >0.9053</td>\n",
       "      <td id=\"T_37095_row4_col5\" class=\"data row4 col5\" >0.5121</td>\n",
       "      <td id=\"T_37095_row4_col6\" class=\"data row4 col6\" >0.5616</td>\n",
       "    </tr>\n",
       "    <tr>\n",
       "      <th id=\"T_37095_level0_row5\" class=\"row_heading level0 row5\" >Mean</th>\n",
       "      <td id=\"T_37095_row5_col0\" class=\"data row5 col0\" >0.8445</td>\n",
       "      <td id=\"T_37095_row5_col1\" class=\"data row5 col1\" >0.8762</td>\n",
       "      <td id=\"T_37095_row5_col2\" class=\"data row5 col2\" >0.9529</td>\n",
       "      <td id=\"T_37095_row5_col3\" class=\"data row5 col3\" >0.8552</td>\n",
       "      <td id=\"T_37095_row5_col4\" class=\"data row5 col4\" >0.9012</td>\n",
       "      <td id=\"T_37095_row5_col5\" class=\"data row5 col5\" >0.5406</td>\n",
       "      <td id=\"T_37095_row5_col6\" class=\"data row5 col6\" >0.5615</td>\n",
       "    </tr>\n",
       "    <tr>\n",
       "      <th id=\"T_37095_level0_row6\" class=\"row_heading level0 row6\" >Std</th>\n",
       "      <td id=\"T_37095_row6_col0\" class=\"data row6 col0\" >0.0121</td>\n",
       "      <td id=\"T_37095_row6_col1\" class=\"data row6 col1\" >0.0231</td>\n",
       "      <td id=\"T_37095_row6_col2\" class=\"data row6 col2\" >0.0203</td>\n",
       "      <td id=\"T_37095_row6_col3\" class=\"data row6 col3\" >0.0096</td>\n",
       "      <td id=\"T_37095_row6_col4\" class=\"data row6 col4\" >0.0084</td>\n",
       "      <td id=\"T_37095_row6_col5\" class=\"data row6 col5\" >0.0342</td>\n",
       "      <td id=\"T_37095_row6_col6\" class=\"data row6 col6\" >0.0351</td>\n",
       "    </tr>\n",
       "  </tbody>\n",
       "</table>\n"
      ],
      "text/plain": [
       "<pandas.io.formats.style.Styler at 0x7fba6435b250>"
      ]
     },
     "metadata": {},
     "output_type": "display_data"
    },
    {
     "data": {
      "text/html": [],
      "text/plain": [
       "<IPython.core.display.HTML object>"
      ]
     },
     "metadata": {},
     "output_type": "display_data"
    },
    {
     "name": "stdout",
     "output_type": "stream",
     "text": [
      "Tuning hyperparameters for model xgboost with custom grid\n"
     ]
    },
    {
     "data": {
      "text/html": [],
      "text/plain": [
       "<IPython.core.display.HTML object>"
      ]
     },
     "metadata": {},
     "output_type": "display_data"
    },
    {
     "data": {
      "text/html": [
       "<style type=\"text/css\">\n",
       "#T_f5ad5_row5_col0, #T_f5ad5_row5_col1, #T_f5ad5_row5_col2, #T_f5ad5_row5_col3, #T_f5ad5_row5_col4, #T_f5ad5_row5_col5, #T_f5ad5_row5_col6 {\n",
       "  background: yellow;\n",
       "}\n",
       "</style>\n",
       "<table id=\"T_f5ad5\">\n",
       "  <thead>\n",
       "    <tr>\n",
       "      <th class=\"blank level0\" >&nbsp;</th>\n",
       "      <th id=\"T_f5ad5_level0_col0\" class=\"col_heading level0 col0\" >Accuracy</th>\n",
       "      <th id=\"T_f5ad5_level0_col1\" class=\"col_heading level0 col1\" >AUC</th>\n",
       "      <th id=\"T_f5ad5_level0_col2\" class=\"col_heading level0 col2\" >Recall</th>\n",
       "      <th id=\"T_f5ad5_level0_col3\" class=\"col_heading level0 col3\" >Prec.</th>\n",
       "      <th id=\"T_f5ad5_level0_col4\" class=\"col_heading level0 col4\" >F1</th>\n",
       "      <th id=\"T_f5ad5_level0_col5\" class=\"col_heading level0 col5\" >Kappa</th>\n",
       "      <th id=\"T_f5ad5_level0_col6\" class=\"col_heading level0 col6\" >MCC</th>\n",
       "    </tr>\n",
       "    <tr>\n",
       "      <th class=\"index_name level0\" >Fold</th>\n",
       "      <th class=\"blank col0\" >&nbsp;</th>\n",
       "      <th class=\"blank col1\" >&nbsp;</th>\n",
       "      <th class=\"blank col2\" >&nbsp;</th>\n",
       "      <th class=\"blank col3\" >&nbsp;</th>\n",
       "      <th class=\"blank col4\" >&nbsp;</th>\n",
       "      <th class=\"blank col5\" >&nbsp;</th>\n",
       "      <th class=\"blank col6\" >&nbsp;</th>\n",
       "    </tr>\n",
       "  </thead>\n",
       "  <tbody>\n",
       "    <tr>\n",
       "      <th id=\"T_f5ad5_level0_row0\" class=\"row_heading level0 row0\" >0</th>\n",
       "      <td id=\"T_f5ad5_row0_col0\" class=\"data row0 col0\" >0.8321</td>\n",
       "      <td id=\"T_f5ad5_row0_col1\" class=\"data row0 col1\" >0.8489</td>\n",
       "      <td id=\"T_f5ad5_row0_col2\" class=\"data row0 col2\" >0.9379</td>\n",
       "      <td id=\"T_f5ad5_row0_col3\" class=\"data row0 col3\" >0.8516</td>\n",
       "      <td id=\"T_f5ad5_row0_col4\" class=\"data row0 col4\" >0.8927</td>\n",
       "      <td id=\"T_f5ad5_row0_col5\" class=\"data row0 col5\" >0.5113</td>\n",
       "      <td id=\"T_f5ad5_row0_col6\" class=\"data row0 col6\" >0.5241</td>\n",
       "    </tr>\n",
       "    <tr>\n",
       "      <th id=\"T_f5ad5_level0_row1\" class=\"row_heading level0 row1\" >1</th>\n",
       "      <td id=\"T_f5ad5_row1_col0\" class=\"data row1 col0\" >0.8686</td>\n",
       "      <td id=\"T_f5ad5_row1_col1\" class=\"data row1 col1\" >0.9175</td>\n",
       "      <td id=\"T_f5ad5_row1_col2\" class=\"data row1 col2\" >0.9739</td>\n",
       "      <td id=\"T_f5ad5_row1_col3\" class=\"data row1 col3\" >0.8663</td>\n",
       "      <td id=\"T_f5ad5_row1_col4\" class=\"data row1 col4\" >0.9169</td>\n",
       "      <td id=\"T_f5ad5_row1_col5\" class=\"data row1 col5\" >0.6080</td>\n",
       "      <td id=\"T_f5ad5_row1_col6\" class=\"data row1 col6\" >0.6326</td>\n",
       "    </tr>\n",
       "    <tr>\n",
       "      <th id=\"T_f5ad5_level0_row2\" class=\"row_heading level0 row2\" >2</th>\n",
       "      <td id=\"T_f5ad5_row2_col0\" class=\"data row2 col0\" >0.8537</td>\n",
       "      <td id=\"T_f5ad5_row2_col1\" class=\"data row2 col1\" >0.8562</td>\n",
       "      <td id=\"T_f5ad5_row2_col2\" class=\"data row2 col2\" >0.9508</td>\n",
       "      <td id=\"T_f5ad5_row2_col3\" class=\"data row2 col3\" >0.8657</td>\n",
       "      <td id=\"T_f5ad5_row2_col4\" class=\"data row2 col4\" >0.9062</td>\n",
       "      <td id=\"T_f5ad5_row2_col5\" class=\"data row2 col5\" >0.5762</td>\n",
       "      <td id=\"T_f5ad5_row2_col6\" class=\"data row2 col6\" >0.5896</td>\n",
       "    </tr>\n",
       "    <tr>\n",
       "      <th id=\"T_f5ad5_level0_row3\" class=\"row_heading level0 row3\" >3</th>\n",
       "      <td id=\"T_f5ad5_row3_col0\" class=\"data row3 col0\" >0.8512</td>\n",
       "      <td id=\"T_f5ad5_row3_col1\" class=\"data row3 col1\" >0.9037</td>\n",
       "      <td id=\"T_f5ad5_row3_col2\" class=\"data row3 col2\" >0.9475</td>\n",
       "      <td id=\"T_f5ad5_row3_col3\" class=\"data row3 col3\" >0.8653</td>\n",
       "      <td id=\"T_f5ad5_row3_col4\" class=\"data row3 col4\" >0.9045</td>\n",
       "      <td id=\"T_f5ad5_row3_col5\" class=\"data row3 col5\" >0.5706</td>\n",
       "      <td id=\"T_f5ad5_row3_col6\" class=\"data row3 col6\" >0.5829</td>\n",
       "    </tr>\n",
       "    <tr>\n",
       "      <th id=\"T_f5ad5_level0_row4\" class=\"row_heading level0 row4\" >4</th>\n",
       "      <td id=\"T_f5ad5_row4_col0\" class=\"data row4 col0\" >0.8610</td>\n",
       "      <td id=\"T_f5ad5_row4_col1\" class=\"data row4 col1\" >0.8746</td>\n",
       "      <td id=\"T_f5ad5_row4_col2\" class=\"data row4 col2\" >0.9869</td>\n",
       "      <td id=\"T_f5ad5_row4_col3\" class=\"data row4 col3\" >0.8507</td>\n",
       "      <td id=\"T_f5ad5_row4_col4\" class=\"data row4 col4\" >0.9138</td>\n",
       "      <td id=\"T_f5ad5_row4_col5\" class=\"data row4 col5\" >0.5652</td>\n",
       "      <td id=\"T_f5ad5_row4_col6\" class=\"data row4 col6\" >0.6094</td>\n",
       "    </tr>\n",
       "    <tr>\n",
       "      <th id=\"T_f5ad5_level0_row5\" class=\"row_heading level0 row5\" >Mean</th>\n",
       "      <td id=\"T_f5ad5_row5_col0\" class=\"data row5 col0\" >0.8533</td>\n",
       "      <td id=\"T_f5ad5_row5_col1\" class=\"data row5 col1\" >0.8802</td>\n",
       "      <td id=\"T_f5ad5_row5_col2\" class=\"data row5 col2\" >0.9594</td>\n",
       "      <td id=\"T_f5ad5_row5_col3\" class=\"data row5 col3\" >0.8599</td>\n",
       "      <td id=\"T_f5ad5_row5_col4\" class=\"data row5 col4\" >0.9068</td>\n",
       "      <td id=\"T_f5ad5_row5_col5\" class=\"data row5 col5\" >0.5663</td>\n",
       "      <td id=\"T_f5ad5_row5_col6\" class=\"data row5 col6\" >0.5877</td>\n",
       "    </tr>\n",
       "    <tr>\n",
       "      <th id=\"T_f5ad5_level0_row6\" class=\"row_heading level0 row6\" >Std</th>\n",
       "      <td id=\"T_f5ad5_row6_col0\" class=\"data row6 col0\" >0.0122</td>\n",
       "      <td id=\"T_f5ad5_row6_col1\" class=\"data row6 col1\" >0.0266</td>\n",
       "      <td id=\"T_f5ad5_row6_col2\" class=\"data row6 col2\" >0.0181</td>\n",
       "      <td id=\"T_f5ad5_row6_col3\" class=\"data row6 col3\" >0.0072</td>\n",
       "      <td id=\"T_f5ad5_row6_col4\" class=\"data row6 col4\" >0.0084</td>\n",
       "      <td id=\"T_f5ad5_row6_col5\" class=\"data row6 col5\" >0.0313</td>\n",
       "      <td id=\"T_f5ad5_row6_col6\" class=\"data row6 col6\" >0.0362</td>\n",
       "    </tr>\n",
       "  </tbody>\n",
       "</table>\n"
      ],
      "text/plain": [
       "<pandas.io.formats.style.Styler at 0x7fba7be08ad0>"
      ]
     },
     "metadata": {},
     "output_type": "display_data"
    },
    {
     "data": {
      "text/html": [],
      "text/plain": [
       "<IPython.core.display.HTML object>"
      ]
     },
     "metadata": {},
     "output_type": "display_data"
    },
    {
     "name": "stdout",
     "output_type": "stream",
     "text": [
      "Fitting 5 folds for each of 10 candidates, totalling 50 fits\n",
      "Transformation Pipeline and Model Successfully Saved\n"
     ]
    },
    {
     "data": {
      "text/html": [
       "<style type=\"text/css\">\n",
       "</style>\n",
       "<table id=\"T_2cbd6\">\n",
       "  <thead>\n",
       "    <tr>\n",
       "      <th class=\"blank level0\" >&nbsp;</th>\n",
       "      <th id=\"T_2cbd6_level0_col0\" class=\"col_heading level0 col0\" >Model</th>\n",
       "      <th id=\"T_2cbd6_level0_col1\" class=\"col_heading level0 col1\" >Accuracy</th>\n",
       "      <th id=\"T_2cbd6_level0_col2\" class=\"col_heading level0 col2\" >AUC</th>\n",
       "      <th id=\"T_2cbd6_level0_col3\" class=\"col_heading level0 col3\" >Recall</th>\n",
       "      <th id=\"T_2cbd6_level0_col4\" class=\"col_heading level0 col4\" >Prec.</th>\n",
       "      <th id=\"T_2cbd6_level0_col5\" class=\"col_heading level0 col5\" >F1</th>\n",
       "      <th id=\"T_2cbd6_level0_col6\" class=\"col_heading level0 col6\" >Kappa</th>\n",
       "      <th id=\"T_2cbd6_level0_col7\" class=\"col_heading level0 col7\" >MCC</th>\n",
       "    </tr>\n",
       "  </thead>\n",
       "  <tbody>\n",
       "    <tr>\n",
       "      <th id=\"T_2cbd6_level0_row0\" class=\"row_heading level0 row0\" >0</th>\n",
       "      <td id=\"T_2cbd6_row0_col0\" class=\"data row0 col0\" >Extreme Gradient Boosting</td>\n",
       "      <td id=\"T_2cbd6_row0_col1\" class=\"data row0 col1\" >0.8705</td>\n",
       "      <td id=\"T_2cbd6_row0_col2\" class=\"data row0 col2\" >0.9148</td>\n",
       "      <td id=\"T_2cbd6_row0_col3\" class=\"data row0 col3\" >0.9561</td>\n",
       "      <td id=\"T_2cbd6_row0_col4\" class=\"data row0 col4\" >0.8805</td>\n",
       "      <td id=\"T_2cbd6_row0_col5\" class=\"data row0 col5\" >0.9168</td>\n",
       "      <td id=\"T_2cbd6_row0_col6\" class=\"data row0 col6\" >0.6277</td>\n",
       "      <td id=\"T_2cbd6_row0_col7\" class=\"data row0 col7\" >0.6386</td>\n",
       "    </tr>\n",
       "  </tbody>\n",
       "</table>\n"
      ],
      "text/plain": [
       "<pandas.io.formats.style.Styler at 0x7fba7dfbe290>"
      ]
     },
     "metadata": {},
     "output_type": "display_data"
    },
    {
     "name": "stdout",
     "output_type": "stream",
     "text": [
      "Outer fold 3/5\n",
      "Configuring PyCaret for outer fold 3\n",
      "Creating model xgboost for outer fold 3\n"
     ]
    },
    {
     "data": {
      "text/html": [],
      "text/plain": [
       "<IPython.core.display.HTML object>"
      ]
     },
     "metadata": {},
     "output_type": "display_data"
    },
    {
     "data": {
      "text/html": [
       "<style type=\"text/css\">\n",
       "#T_8ce6d_row5_col0, #T_8ce6d_row5_col1, #T_8ce6d_row5_col2, #T_8ce6d_row5_col3, #T_8ce6d_row5_col4, #T_8ce6d_row5_col5, #T_8ce6d_row5_col6 {\n",
       "  background: yellow;\n",
       "}\n",
       "</style>\n",
       "<table id=\"T_8ce6d\">\n",
       "  <thead>\n",
       "    <tr>\n",
       "      <th class=\"blank level0\" >&nbsp;</th>\n",
       "      <th id=\"T_8ce6d_level0_col0\" class=\"col_heading level0 col0\" >Accuracy</th>\n",
       "      <th id=\"T_8ce6d_level0_col1\" class=\"col_heading level0 col1\" >AUC</th>\n",
       "      <th id=\"T_8ce6d_level0_col2\" class=\"col_heading level0 col2\" >Recall</th>\n",
       "      <th id=\"T_8ce6d_level0_col3\" class=\"col_heading level0 col3\" >Prec.</th>\n",
       "      <th id=\"T_8ce6d_level0_col4\" class=\"col_heading level0 col4\" >F1</th>\n",
       "      <th id=\"T_8ce6d_level0_col5\" class=\"col_heading level0 col5\" >Kappa</th>\n",
       "      <th id=\"T_8ce6d_level0_col6\" class=\"col_heading level0 col6\" >MCC</th>\n",
       "    </tr>\n",
       "    <tr>\n",
       "      <th class=\"index_name level0\" >Fold</th>\n",
       "      <th class=\"blank col0\" >&nbsp;</th>\n",
       "      <th class=\"blank col1\" >&nbsp;</th>\n",
       "      <th class=\"blank col2\" >&nbsp;</th>\n",
       "      <th class=\"blank col3\" >&nbsp;</th>\n",
       "      <th class=\"blank col4\" >&nbsp;</th>\n",
       "      <th class=\"blank col5\" >&nbsp;</th>\n",
       "      <th class=\"blank col6\" >&nbsp;</th>\n",
       "    </tr>\n",
       "  </thead>\n",
       "  <tbody>\n",
       "    <tr>\n",
       "      <th id=\"T_8ce6d_level0_row0\" class=\"row_heading level0 row0\" >0</th>\n",
       "      <td id=\"T_8ce6d_row0_col0\" class=\"data row0 col0\" >0.8491</td>\n",
       "      <td id=\"T_8ce6d_row0_col1\" class=\"data row0 col1\" >0.8723</td>\n",
       "      <td id=\"T_8ce6d_row0_col2\" class=\"data row0 col2\" >0.9608</td>\n",
       "      <td id=\"T_8ce6d_row0_col3\" class=\"data row0 col3\" >0.8547</td>\n",
       "      <td id=\"T_8ce6d_row0_col4\" class=\"data row0 col4\" >0.9046</td>\n",
       "      <td id=\"T_8ce6d_row0_col5\" class=\"data row0 col5\" >0.5500</td>\n",
       "      <td id=\"T_8ce6d_row0_col6\" class=\"data row0 col6\" >0.5722</td>\n",
       "    </tr>\n",
       "    <tr>\n",
       "      <th id=\"T_8ce6d_level0_row1\" class=\"row_heading level0 row1\" >1</th>\n",
       "      <td id=\"T_8ce6d_row1_col0\" class=\"data row1 col0\" >0.8394</td>\n",
       "      <td id=\"T_8ce6d_row1_col1\" class=\"data row1 col1\" >0.8769</td>\n",
       "      <td id=\"T_8ce6d_row1_col2\" class=\"data row1 col2\" >0.9444</td>\n",
       "      <td id=\"T_8ce6d_row1_col3\" class=\"data row1 col3\" >0.8550</td>\n",
       "      <td id=\"T_8ce6d_row1_col4\" class=\"data row1 col4\" >0.8975</td>\n",
       "      <td id=\"T_8ce6d_row1_col5\" class=\"data row1 col5\" >0.5309</td>\n",
       "      <td id=\"T_8ce6d_row1_col6\" class=\"data row1 col6\" >0.5452</td>\n",
       "    </tr>\n",
       "    <tr>\n",
       "      <th id=\"T_8ce6d_level0_row2\" class=\"row_heading level0 row2\" >2</th>\n",
       "      <td id=\"T_8ce6d_row2_col0\" class=\"data row2 col0\" >0.8341</td>\n",
       "      <td id=\"T_8ce6d_row2_col1\" class=\"data row2 col1\" >0.8788</td>\n",
       "      <td id=\"T_8ce6d_row2_col2\" class=\"data row2 col2\" >0.9410</td>\n",
       "      <td id=\"T_8ce6d_row2_col3\" class=\"data row2 col3\" >0.8516</td>\n",
       "      <td id=\"T_8ce6d_row2_col4\" class=\"data row2 col4\" >0.8941</td>\n",
       "      <td id=\"T_8ce6d_row2_col5\" class=\"data row2 col5\" >0.5164</td>\n",
       "      <td id=\"T_8ce6d_row2_col6\" class=\"data row2 col6\" >0.5303</td>\n",
       "    </tr>\n",
       "    <tr>\n",
       "      <th id=\"T_8ce6d_level0_row3\" class=\"row_heading level0 row3\" >3</th>\n",
       "      <td id=\"T_8ce6d_row3_col0\" class=\"data row3 col0\" >0.8366</td>\n",
       "      <td id=\"T_8ce6d_row3_col1\" class=\"data row3 col1\" >0.8694</td>\n",
       "      <td id=\"T_8ce6d_row3_col2\" class=\"data row3 col2\" >0.9443</td>\n",
       "      <td id=\"T_8ce6d_row3_col3\" class=\"data row3 col3\" >0.8521</td>\n",
       "      <td id=\"T_8ce6d_row3_col4\" class=\"data row3 col4\" >0.8958</td>\n",
       "      <td id=\"T_8ce6d_row3_col5\" class=\"data row3 col5\" >0.5218</td>\n",
       "      <td id=\"T_8ce6d_row3_col6\" class=\"data row3 col6\" >0.5369</td>\n",
       "    </tr>\n",
       "    <tr>\n",
       "      <th id=\"T_8ce6d_level0_row4\" class=\"row_heading level0 row4\" >4</th>\n",
       "      <td id=\"T_8ce6d_row4_col0\" class=\"data row4 col0\" >0.8341</td>\n",
       "      <td id=\"T_8ce6d_row4_col1\" class=\"data row4 col1\" >0.8473</td>\n",
       "      <td id=\"T_8ce6d_row4_col2\" class=\"data row4 col2\" >0.9346</td>\n",
       "      <td id=\"T_8ce6d_row4_col3\" class=\"data row4 col3\" >0.8563</td>\n",
       "      <td id=\"T_8ce6d_row4_col4\" class=\"data row4 col4\" >0.8938</td>\n",
       "      <td id=\"T_8ce6d_row4_col5\" class=\"data row4 col5\" >0.5192</td>\n",
       "      <td id=\"T_8ce6d_row4_col6\" class=\"data row4 col6\" >0.5297</td>\n",
       "    </tr>\n",
       "    <tr>\n",
       "      <th id=\"T_8ce6d_level0_row5\" class=\"row_heading level0 row5\" >Mean</th>\n",
       "      <td id=\"T_8ce6d_row5_col0\" class=\"data row5 col0\" >0.8387</td>\n",
       "      <td id=\"T_8ce6d_row5_col1\" class=\"data row5 col1\" >0.8689</td>\n",
       "      <td id=\"T_8ce6d_row5_col2\" class=\"data row5 col2\" >0.9450</td>\n",
       "      <td id=\"T_8ce6d_row5_col3\" class=\"data row5 col3\" >0.8539</td>\n",
       "      <td id=\"T_8ce6d_row5_col4\" class=\"data row5 col4\" >0.8972</td>\n",
       "      <td id=\"T_8ce6d_row5_col5\" class=\"data row5 col5\" >0.5277</td>\n",
       "      <td id=\"T_8ce6d_row5_col6\" class=\"data row5 col6\" >0.5429</td>\n",
       "    </tr>\n",
       "    <tr>\n",
       "      <th id=\"T_8ce6d_level0_row6\" class=\"row_heading level0 row6\" >Std</th>\n",
       "      <td id=\"T_8ce6d_row6_col0\" class=\"data row6 col0\" >0.0056</td>\n",
       "      <td id=\"T_8ce6d_row6_col1\" class=\"data row6 col1\" >0.0113</td>\n",
       "      <td id=\"T_8ce6d_row6_col2\" class=\"data row6 col2\" >0.0086</td>\n",
       "      <td id=\"T_8ce6d_row6_col3\" class=\"data row6 col3\" >0.0018</td>\n",
       "      <td id=\"T_8ce6d_row6_col4\" class=\"data row6 col4\" >0.0040</td>\n",
       "      <td id=\"T_8ce6d_row6_col5\" class=\"data row6 col5\" >0.0122</td>\n",
       "      <td id=\"T_8ce6d_row6_col6\" class=\"data row6 col6\" >0.0157</td>\n",
       "    </tr>\n",
       "  </tbody>\n",
       "</table>\n"
      ],
      "text/plain": [
       "<pandas.io.formats.style.Styler at 0x7fba7df92b90>"
      ]
     },
     "metadata": {},
     "output_type": "display_data"
    },
    {
     "data": {
      "text/html": [],
      "text/plain": [
       "<IPython.core.display.HTML object>"
      ]
     },
     "metadata": {},
     "output_type": "display_data"
    },
    {
     "name": "stdout",
     "output_type": "stream",
     "text": [
      "Tuning hyperparameters for model xgboost with custom grid\n"
     ]
    },
    {
     "data": {
      "text/html": [],
      "text/plain": [
       "<IPython.core.display.HTML object>"
      ]
     },
     "metadata": {},
     "output_type": "display_data"
    },
    {
     "data": {
      "text/html": [
       "<style type=\"text/css\">\n",
       "#T_72eed_row5_col0, #T_72eed_row5_col1, #T_72eed_row5_col2, #T_72eed_row5_col3, #T_72eed_row5_col4, #T_72eed_row5_col5, #T_72eed_row5_col6 {\n",
       "  background: yellow;\n",
       "}\n",
       "</style>\n",
       "<table id=\"T_72eed\">\n",
       "  <thead>\n",
       "    <tr>\n",
       "      <th class=\"blank level0\" >&nbsp;</th>\n",
       "      <th id=\"T_72eed_level0_col0\" class=\"col_heading level0 col0\" >Accuracy</th>\n",
       "      <th id=\"T_72eed_level0_col1\" class=\"col_heading level0 col1\" >AUC</th>\n",
       "      <th id=\"T_72eed_level0_col2\" class=\"col_heading level0 col2\" >Recall</th>\n",
       "      <th id=\"T_72eed_level0_col3\" class=\"col_heading level0 col3\" >Prec.</th>\n",
       "      <th id=\"T_72eed_level0_col4\" class=\"col_heading level0 col4\" >F1</th>\n",
       "      <th id=\"T_72eed_level0_col5\" class=\"col_heading level0 col5\" >Kappa</th>\n",
       "      <th id=\"T_72eed_level0_col6\" class=\"col_heading level0 col6\" >MCC</th>\n",
       "    </tr>\n",
       "    <tr>\n",
       "      <th class=\"index_name level0\" >Fold</th>\n",
       "      <th class=\"blank col0\" >&nbsp;</th>\n",
       "      <th class=\"blank col1\" >&nbsp;</th>\n",
       "      <th class=\"blank col2\" >&nbsp;</th>\n",
       "      <th class=\"blank col3\" >&nbsp;</th>\n",
       "      <th class=\"blank col4\" >&nbsp;</th>\n",
       "      <th class=\"blank col5\" >&nbsp;</th>\n",
       "      <th class=\"blank col6\" >&nbsp;</th>\n",
       "    </tr>\n",
       "  </thead>\n",
       "  <tbody>\n",
       "    <tr>\n",
       "      <th id=\"T_72eed_level0_row0\" class=\"row_heading level0 row0\" >0</th>\n",
       "      <td id=\"T_72eed_row0_col0\" class=\"data row0 col0\" >0.8589</td>\n",
       "      <td id=\"T_72eed_row0_col1\" class=\"data row0 col1\" >0.8830</td>\n",
       "      <td id=\"T_72eed_row0_col2\" class=\"data row0 col2\" >0.9608</td>\n",
       "      <td id=\"T_72eed_row0_col3\" class=\"data row0 col3\" >0.8647</td>\n",
       "      <td id=\"T_72eed_row0_col4\" class=\"data row0 col4\" >0.9102</td>\n",
       "      <td id=\"T_72eed_row0_col5\" class=\"data row0 col5\" >0.5849</td>\n",
       "      <td id=\"T_72eed_row0_col6\" class=\"data row0 col6\" >0.6030</td>\n",
       "    </tr>\n",
       "    <tr>\n",
       "      <th id=\"T_72eed_level0_row1\" class=\"row_heading level0 row1\" >1</th>\n",
       "      <td id=\"T_72eed_row1_col0\" class=\"data row1 col0\" >0.8297</td>\n",
       "      <td id=\"T_72eed_row1_col1\" class=\"data row1 col1\" >0.8682</td>\n",
       "      <td id=\"T_72eed_row1_col2\" class=\"data row1 col2\" >0.9575</td>\n",
       "      <td id=\"T_72eed_row1_col3\" class=\"data row1 col3\" >0.8371</td>\n",
       "      <td id=\"T_72eed_row1_col4\" class=\"data row1 col4\" >0.8933</td>\n",
       "      <td id=\"T_72eed_row1_col5\" class=\"data row1 col5\" >0.4808</td>\n",
       "      <td id=\"T_72eed_row1_col6\" class=\"data row1 col6\" >0.5087</td>\n",
       "    </tr>\n",
       "    <tr>\n",
       "      <th id=\"T_72eed_level0_row2\" class=\"row_heading level0 row2\" >2</th>\n",
       "      <td id=\"T_72eed_row2_col0\" class=\"data row2 col0\" >0.8463</td>\n",
       "      <td id=\"T_72eed_row2_col1\" class=\"data row2 col1\" >0.8956</td>\n",
       "      <td id=\"T_72eed_row2_col2\" class=\"data row2 col2\" >0.9508</td>\n",
       "      <td id=\"T_72eed_row2_col3\" class=\"data row2 col3\" >0.8580</td>\n",
       "      <td id=\"T_72eed_row2_col4\" class=\"data row2 col4\" >0.9020</td>\n",
       "      <td id=\"T_72eed_row2_col5\" class=\"data row2 col5\" >0.5504</td>\n",
       "      <td id=\"T_72eed_row2_col6\" class=\"data row2 col6\" >0.5663</td>\n",
       "    </tr>\n",
       "    <tr>\n",
       "      <th id=\"T_72eed_level0_row3\" class=\"row_heading level0 row3\" >3</th>\n",
       "      <td id=\"T_72eed_row3_col0\" class=\"data row3 col0\" >0.8415</td>\n",
       "      <td id=\"T_72eed_row3_col1\" class=\"data row3 col1\" >0.8673</td>\n",
       "      <td id=\"T_72eed_row3_col2\" class=\"data row3 col2\" >0.9574</td>\n",
       "      <td id=\"T_72eed_row3_col3\" class=\"data row3 col3\" >0.8488</td>\n",
       "      <td id=\"T_72eed_row3_col4\" class=\"data row3 col4\" >0.8998</td>\n",
       "      <td id=\"T_72eed_row3_col5\" class=\"data row3 col5\" >0.5262</td>\n",
       "      <td id=\"T_72eed_row3_col6\" class=\"data row3 col6\" >0.5489</td>\n",
       "    </tr>\n",
       "    <tr>\n",
       "      <th id=\"T_72eed_level0_row4\" class=\"row_heading level0 row4\" >4</th>\n",
       "      <td id=\"T_72eed_row4_col0\" class=\"data row4 col0\" >0.8341</td>\n",
       "      <td id=\"T_72eed_row4_col1\" class=\"data row4 col1\" >0.8647</td>\n",
       "      <td id=\"T_72eed_row4_col2\" class=\"data row4 col2\" >0.9346</td>\n",
       "      <td id=\"T_72eed_row4_col3\" class=\"data row4 col3\" >0.8563</td>\n",
       "      <td id=\"T_72eed_row4_col4\" class=\"data row4 col4\" >0.8938</td>\n",
       "      <td id=\"T_72eed_row4_col5\" class=\"data row4 col5\" >0.5192</td>\n",
       "      <td id=\"T_72eed_row4_col6\" class=\"data row4 col6\" >0.5297</td>\n",
       "    </tr>\n",
       "    <tr>\n",
       "      <th id=\"T_72eed_level0_row5\" class=\"row_heading level0 row5\" >Mean</th>\n",
       "      <td id=\"T_72eed_row5_col0\" class=\"data row5 col0\" >0.8421</td>\n",
       "      <td id=\"T_72eed_row5_col1\" class=\"data row5 col1\" >0.8758</td>\n",
       "      <td id=\"T_72eed_row5_col2\" class=\"data row5 col2\" >0.9522</td>\n",
       "      <td id=\"T_72eed_row5_col3\" class=\"data row5 col3\" >0.8530</td>\n",
       "      <td id=\"T_72eed_row5_col4\" class=\"data row5 col4\" >0.8998</td>\n",
       "      <td id=\"T_72eed_row5_col5\" class=\"data row5 col5\" >0.5323</td>\n",
       "      <td id=\"T_72eed_row5_col6\" class=\"data row5 col6\" >0.5513</td>\n",
       "    </tr>\n",
       "    <tr>\n",
       "      <th id=\"T_72eed_level0_row6\" class=\"row_heading level0 row6\" >Std</th>\n",
       "      <td id=\"T_72eed_row6_col0\" class=\"data row6 col0\" >0.0102</td>\n",
       "      <td id=\"T_72eed_row6_col1\" class=\"data row6 col1\" >0.0118</td>\n",
       "      <td id=\"T_72eed_row6_col2\" class=\"data row6 col2\" >0.0094</td>\n",
       "      <td id=\"T_72eed_row6_col3\" class=\"data row6 col3\" >0.0094</td>\n",
       "      <td id=\"T_72eed_row6_col4\" class=\"data row6 col4\" >0.0062</td>\n",
       "      <td id=\"T_72eed_row6_col5\" class=\"data row6 col5\" >0.0345</td>\n",
       "      <td id=\"T_72eed_row6_col6\" class=\"data row6 col6\" >0.0322</td>\n",
       "    </tr>\n",
       "  </tbody>\n",
       "</table>\n"
      ],
      "text/plain": [
       "<pandas.io.formats.style.Styler at 0x7fba87503850>"
      ]
     },
     "metadata": {},
     "output_type": "display_data"
    },
    {
     "data": {
      "text/html": [],
      "text/plain": [
       "<IPython.core.display.HTML object>"
      ]
     },
     "metadata": {},
     "output_type": "display_data"
    },
    {
     "name": "stdout",
     "output_type": "stream",
     "text": [
      "Fitting 5 folds for each of 10 candidates, totalling 50 fits\n",
      "Transformation Pipeline and Model Successfully Saved\n"
     ]
    },
    {
     "data": {
      "text/html": [
       "<style type=\"text/css\">\n",
       "</style>\n",
       "<table id=\"T_a1091\">\n",
       "  <thead>\n",
       "    <tr>\n",
       "      <th class=\"blank level0\" >&nbsp;</th>\n",
       "      <th id=\"T_a1091_level0_col0\" class=\"col_heading level0 col0\" >Model</th>\n",
       "      <th id=\"T_a1091_level0_col1\" class=\"col_heading level0 col1\" >Accuracy</th>\n",
       "      <th id=\"T_a1091_level0_col2\" class=\"col_heading level0 col2\" >AUC</th>\n",
       "      <th id=\"T_a1091_level0_col3\" class=\"col_heading level0 col3\" >Recall</th>\n",
       "      <th id=\"T_a1091_level0_col4\" class=\"col_heading level0 col4\" >Prec.</th>\n",
       "      <th id=\"T_a1091_level0_col5\" class=\"col_heading level0 col5\" >F1</th>\n",
       "      <th id=\"T_a1091_level0_col6\" class=\"col_heading level0 col6\" >Kappa</th>\n",
       "      <th id=\"T_a1091_level0_col7\" class=\"col_heading level0 col7\" >MCC</th>\n",
       "    </tr>\n",
       "  </thead>\n",
       "  <tbody>\n",
       "    <tr>\n",
       "      <th id=\"T_a1091_level0_row0\" class=\"row_heading level0 row0\" >0</th>\n",
       "      <td id=\"T_a1091_row0_col0\" class=\"data row0 col0\" >Extreme Gradient Boosting</td>\n",
       "      <td id=\"T_a1091_row0_col1\" class=\"data row0 col1\" >0.8799</td>\n",
       "      <td id=\"T_a1091_row0_col2\" class=\"data row0 col2\" >0.9038</td>\n",
       "      <td id=\"T_a1091_row0_col3\" class=\"data row0 col3\" >0.9644</td>\n",
       "      <td id=\"T_a1091_row0_col4\" class=\"data row0 col4\" >0.8848</td>\n",
       "      <td id=\"T_a1091_row0_col5\" class=\"data row0 col5\" >0.9229</td>\n",
       "      <td id=\"T_a1091_row0_col6\" class=\"data row0 col6\" >0.6531</td>\n",
       "      <td id=\"T_a1091_row0_col7\" class=\"data row0 col7\" >0.6657</td>\n",
       "    </tr>\n",
       "  </tbody>\n",
       "</table>\n"
      ],
      "text/plain": [
       "<pandas.io.formats.style.Styler at 0x7fba6fce4ad0>"
      ]
     },
     "metadata": {},
     "output_type": "display_data"
    },
    {
     "name": "stdout",
     "output_type": "stream",
     "text": [
      "Outer fold 4/5\n",
      "Configuring PyCaret for outer fold 4\n",
      "Creating model xgboost for outer fold 4\n"
     ]
    },
    {
     "data": {
      "text/html": [],
      "text/plain": [
       "<IPython.core.display.HTML object>"
      ]
     },
     "metadata": {},
     "output_type": "display_data"
    },
    {
     "data": {
      "text/html": [
       "<style type=\"text/css\">\n",
       "#T_538c2_row5_col0, #T_538c2_row5_col1, #T_538c2_row5_col2, #T_538c2_row5_col3, #T_538c2_row5_col4, #T_538c2_row5_col5, #T_538c2_row5_col6 {\n",
       "  background: yellow;\n",
       "}\n",
       "</style>\n",
       "<table id=\"T_538c2\">\n",
       "  <thead>\n",
       "    <tr>\n",
       "      <th class=\"blank level0\" >&nbsp;</th>\n",
       "      <th id=\"T_538c2_level0_col0\" class=\"col_heading level0 col0\" >Accuracy</th>\n",
       "      <th id=\"T_538c2_level0_col1\" class=\"col_heading level0 col1\" >AUC</th>\n",
       "      <th id=\"T_538c2_level0_col2\" class=\"col_heading level0 col2\" >Recall</th>\n",
       "      <th id=\"T_538c2_level0_col3\" class=\"col_heading level0 col3\" >Prec.</th>\n",
       "      <th id=\"T_538c2_level0_col4\" class=\"col_heading level0 col4\" >F1</th>\n",
       "      <th id=\"T_538c2_level0_col5\" class=\"col_heading level0 col5\" >Kappa</th>\n",
       "      <th id=\"T_538c2_level0_col6\" class=\"col_heading level0 col6\" >MCC</th>\n",
       "    </tr>\n",
       "    <tr>\n",
       "      <th class=\"index_name level0\" >Fold</th>\n",
       "      <th class=\"blank col0\" >&nbsp;</th>\n",
       "      <th class=\"blank col1\" >&nbsp;</th>\n",
       "      <th class=\"blank col2\" >&nbsp;</th>\n",
       "      <th class=\"blank col3\" >&nbsp;</th>\n",
       "      <th class=\"blank col4\" >&nbsp;</th>\n",
       "      <th class=\"blank col5\" >&nbsp;</th>\n",
       "      <th class=\"blank col6\" >&nbsp;</th>\n",
       "    </tr>\n",
       "  </thead>\n",
       "  <tbody>\n",
       "    <tr>\n",
       "      <th id=\"T_538c2_level0_row0\" class=\"row_heading level0 row0\" >0</th>\n",
       "      <td id=\"T_538c2_row0_col0\" class=\"data row0 col0\" >0.8370</td>\n",
       "      <td id=\"T_538c2_row0_col1\" class=\"data row0 col1\" >0.8827</td>\n",
       "      <td id=\"T_538c2_row0_col2\" class=\"data row0 col2\" >0.9379</td>\n",
       "      <td id=\"T_538c2_row0_col3\" class=\"data row0 col3\" >0.8567</td>\n",
       "      <td id=\"T_538c2_row0_col4\" class=\"data row0 col4\" >0.8955</td>\n",
       "      <td id=\"T_538c2_row0_col5\" class=\"data row0 col5\" >0.5287</td>\n",
       "      <td id=\"T_538c2_row0_col6\" class=\"data row0 col6\" >0.5401</td>\n",
       "    </tr>\n",
       "    <tr>\n",
       "      <th id=\"T_538c2_level0_row1\" class=\"row_heading level0 row1\" >1</th>\n",
       "      <td id=\"T_538c2_row1_col0\" class=\"data row1 col0\" >0.8394</td>\n",
       "      <td id=\"T_538c2_row1_col1\" class=\"data row1 col1\" >0.8575</td>\n",
       "      <td id=\"T_538c2_row1_col2\" class=\"data row1 col2\" >0.9608</td>\n",
       "      <td id=\"T_538c2_row1_col3\" class=\"data row1 col3\" >0.8448</td>\n",
       "      <td id=\"T_538c2_row1_col4\" class=\"data row1 col4\" >0.8991</td>\n",
       "      <td id=\"T_538c2_row1_col5\" class=\"data row1 col5\" >0.5140</td>\n",
       "      <td id=\"T_538c2_row1_col6\" class=\"data row1 col6\" >0.5405</td>\n",
       "    </tr>\n",
       "    <tr>\n",
       "      <th id=\"T_538c2_level0_row2\" class=\"row_heading level0 row2\" >2</th>\n",
       "      <td id=\"T_538c2_row2_col0\" class=\"data row2 col0\" >0.8537</td>\n",
       "      <td id=\"T_538c2_row2_col1\" class=\"data row2 col1\" >0.8810</td>\n",
       "      <td id=\"T_538c2_row2_col2\" class=\"data row2 col2\" >0.9443</td>\n",
       "      <td id=\"T_538c2_row2_col3\" class=\"data row2 col3\" >0.8701</td>\n",
       "      <td id=\"T_538c2_row2_col4\" class=\"data row2 col4\" >0.9057</td>\n",
       "      <td id=\"T_538c2_row2_col5\" class=\"data row2 col5\" >0.5820</td>\n",
       "      <td id=\"T_538c2_row2_col6\" class=\"data row2 col6\" >0.5918</td>\n",
       "    </tr>\n",
       "    <tr>\n",
       "      <th id=\"T_538c2_level0_row3\" class=\"row_heading level0 row3\" >3</th>\n",
       "      <td id=\"T_538c2_row3_col0\" class=\"data row3 col0\" >0.8415</td>\n",
       "      <td id=\"T_538c2_row3_col1\" class=\"data row3 col1\" >0.8587</td>\n",
       "      <td id=\"T_538c2_row3_col2\" class=\"data row3 col2\" >0.9216</td>\n",
       "      <td id=\"T_538c2_row3_col3\" class=\"data row3 col3\" >0.8731</td>\n",
       "      <td id=\"T_538c2_row3_col4\" class=\"data row3 col4\" >0.8967</td>\n",
       "      <td id=\"T_538c2_row3_col5\" class=\"data row3 col5\" >0.5574</td>\n",
       "      <td id=\"T_538c2_row3_col6\" class=\"data row3 col6\" >0.5612</td>\n",
       "    </tr>\n",
       "    <tr>\n",
       "      <th id=\"T_538c2_level0_row4\" class=\"row_heading level0 row4\" >4</th>\n",
       "      <td id=\"T_538c2_row4_col0\" class=\"data row4 col0\" >0.8366</td>\n",
       "      <td id=\"T_538c2_row4_col1\" class=\"data row4 col1\" >0.8807</td>\n",
       "      <td id=\"T_538c2_row4_col2\" class=\"data row4 col2\" >0.9379</td>\n",
       "      <td id=\"T_538c2_row4_col3\" class=\"data row4 col3\" >0.8567</td>\n",
       "      <td id=\"T_538c2_row4_col4\" class=\"data row4 col4\" >0.8955</td>\n",
       "      <td id=\"T_538c2_row4_col5\" class=\"data row4 col5\" >0.5247</td>\n",
       "      <td id=\"T_538c2_row4_col6\" class=\"data row4 col6\" >0.5361</td>\n",
       "    </tr>\n",
       "    <tr>\n",
       "      <th id=\"T_538c2_level0_row5\" class=\"row_heading level0 row5\" >Mean</th>\n",
       "      <td id=\"T_538c2_row5_col0\" class=\"data row5 col0\" >0.8416</td>\n",
       "      <td id=\"T_538c2_row5_col1\" class=\"data row5 col1\" >0.8721</td>\n",
       "      <td id=\"T_538c2_row5_col2\" class=\"data row5 col2\" >0.9405</td>\n",
       "      <td id=\"T_538c2_row5_col3\" class=\"data row5 col3\" >0.8603</td>\n",
       "      <td id=\"T_538c2_row5_col4\" class=\"data row5 col4\" >0.8985</td>\n",
       "      <td id=\"T_538c2_row5_col5\" class=\"data row5 col5\" >0.5414</td>\n",
       "      <td id=\"T_538c2_row5_col6\" class=\"data row5 col6\" >0.5539</td>\n",
       "    </tr>\n",
       "    <tr>\n",
       "      <th id=\"T_538c2_level0_row6\" class=\"row_heading level0 row6\" >Std</th>\n",
       "      <td id=\"T_538c2_row6_col0\" class=\"data row6 col0\" >0.0063</td>\n",
       "      <td id=\"T_538c2_row6_col1\" class=\"data row6 col1\" >0.0115</td>\n",
       "      <td id=\"T_538c2_row6_col2\" class=\"data row6 col2\" >0.0126</td>\n",
       "      <td id=\"T_538c2_row6_col3\" class=\"data row6 col3\" >0.0102</td>\n",
       "      <td id=\"T_538c2_row6_col4\" class=\"data row6 col4\" >0.0038</td>\n",
       "      <td id=\"T_538c2_row6_col5\" class=\"data row6 col5\" >0.0249</td>\n",
       "      <td id=\"T_538c2_row6_col6\" class=\"data row6 col6\" >0.0208</td>\n",
       "    </tr>\n",
       "  </tbody>\n",
       "</table>\n"
      ],
      "text/plain": [
       "<pandas.io.formats.style.Styler at 0x7fba62ede550>"
      ]
     },
     "metadata": {},
     "output_type": "display_data"
    },
    {
     "data": {
      "text/html": [],
      "text/plain": [
       "<IPython.core.display.HTML object>"
      ]
     },
     "metadata": {},
     "output_type": "display_data"
    },
    {
     "name": "stdout",
     "output_type": "stream",
     "text": [
      "Tuning hyperparameters for model xgboost with custom grid\n"
     ]
    },
    {
     "data": {
      "text/html": [],
      "text/plain": [
       "<IPython.core.display.HTML object>"
      ]
     },
     "metadata": {},
     "output_type": "display_data"
    },
    {
     "data": {
      "text/html": [
       "<style type=\"text/css\">\n",
       "#T_d1d3e_row5_col0, #T_d1d3e_row5_col1, #T_d1d3e_row5_col2, #T_d1d3e_row5_col3, #T_d1d3e_row5_col4, #T_d1d3e_row5_col5, #T_d1d3e_row5_col6 {\n",
       "  background: yellow;\n",
       "}\n",
       "</style>\n",
       "<table id=\"T_d1d3e\">\n",
       "  <thead>\n",
       "    <tr>\n",
       "      <th class=\"blank level0\" >&nbsp;</th>\n",
       "      <th id=\"T_d1d3e_level0_col0\" class=\"col_heading level0 col0\" >Accuracy</th>\n",
       "      <th id=\"T_d1d3e_level0_col1\" class=\"col_heading level0 col1\" >AUC</th>\n",
       "      <th id=\"T_d1d3e_level0_col2\" class=\"col_heading level0 col2\" >Recall</th>\n",
       "      <th id=\"T_d1d3e_level0_col3\" class=\"col_heading level0 col3\" >Prec.</th>\n",
       "      <th id=\"T_d1d3e_level0_col4\" class=\"col_heading level0 col4\" >F1</th>\n",
       "      <th id=\"T_d1d3e_level0_col5\" class=\"col_heading level0 col5\" >Kappa</th>\n",
       "      <th id=\"T_d1d3e_level0_col6\" class=\"col_heading level0 col6\" >MCC</th>\n",
       "    </tr>\n",
       "    <tr>\n",
       "      <th class=\"index_name level0\" >Fold</th>\n",
       "      <th class=\"blank col0\" >&nbsp;</th>\n",
       "      <th class=\"blank col1\" >&nbsp;</th>\n",
       "      <th class=\"blank col2\" >&nbsp;</th>\n",
       "      <th class=\"blank col3\" >&nbsp;</th>\n",
       "      <th class=\"blank col4\" >&nbsp;</th>\n",
       "      <th class=\"blank col5\" >&nbsp;</th>\n",
       "      <th class=\"blank col6\" >&nbsp;</th>\n",
       "    </tr>\n",
       "  </thead>\n",
       "  <tbody>\n",
       "    <tr>\n",
       "      <th id=\"T_d1d3e_level0_row0\" class=\"row_heading level0 row0\" >0</th>\n",
       "      <td id=\"T_d1d3e_row0_col0\" class=\"data row0 col0\" >0.8589</td>\n",
       "      <td id=\"T_d1d3e_row0_col1\" class=\"data row0 col1\" >0.8888</td>\n",
       "      <td id=\"T_d1d3e_row0_col2\" class=\"data row0 col2\" >0.9510</td>\n",
       "      <td id=\"T_d1d3e_row0_col3\" class=\"data row0 col3\" >0.8713</td>\n",
       "      <td id=\"T_d1d3e_row0_col4\" class=\"data row0 col4\" >0.9094</td>\n",
       "      <td id=\"T_d1d3e_row0_col5\" class=\"data row0 col5\" >0.5934</td>\n",
       "      <td id=\"T_d1d3e_row0_col6\" class=\"data row0 col6\" >0.6052</td>\n",
       "    </tr>\n",
       "    <tr>\n",
       "      <th id=\"T_d1d3e_level0_row1\" class=\"row_heading level0 row1\" >1</th>\n",
       "      <td id=\"T_d1d3e_row1_col0\" class=\"data row1 col0\" >0.8418</td>\n",
       "      <td id=\"T_d1d3e_row1_col1\" class=\"data row1 col1\" >0.8678</td>\n",
       "      <td id=\"T_d1d3e_row1_col2\" class=\"data row1 col2\" >0.9641</td>\n",
       "      <td id=\"T_d1d3e_row1_col3\" class=\"data row1 col3\" >0.8453</td>\n",
       "      <td id=\"T_d1d3e_row1_col4\" class=\"data row1 col4\" >0.9008</td>\n",
       "      <td id=\"T_d1d3e_row1_col5\" class=\"data row1 col5\" >0.5197</td>\n",
       "      <td id=\"T_d1d3e_row1_col6\" class=\"data row1 col6\" >0.5481</td>\n",
       "    </tr>\n",
       "    <tr>\n",
       "      <th id=\"T_d1d3e_level0_row2\" class=\"row_heading level0 row2\" >2</th>\n",
       "      <td id=\"T_d1d3e_row2_col0\" class=\"data row2 col0\" >0.8439</td>\n",
       "      <td id=\"T_d1d3e_row2_col1\" class=\"data row2 col1\" >0.8686</td>\n",
       "      <td id=\"T_d1d3e_row2_col2\" class=\"data row2 col2\" >0.9443</td>\n",
       "      <td id=\"T_d1d3e_row2_col3\" class=\"data row2 col3\" >0.8597</td>\n",
       "      <td id=\"T_d1d3e_row2_col4\" class=\"data row2 col4\" >0.9000</td>\n",
       "      <td id=\"T_d1d3e_row2_col5\" class=\"data row2 col5\" >0.5480</td>\n",
       "      <td id=\"T_d1d3e_row2_col6\" class=\"data row2 col6\" >0.5607</td>\n",
       "    </tr>\n",
       "    <tr>\n",
       "      <th id=\"T_d1d3e_level0_row3\" class=\"row_heading level0 row3\" >3</th>\n",
       "      <td id=\"T_d1d3e_row3_col0\" class=\"data row3 col0\" >0.8610</td>\n",
       "      <td id=\"T_d1d3e_row3_col1\" class=\"data row3 col1\" >0.8616</td>\n",
       "      <td id=\"T_d1d3e_row3_col2\" class=\"data row3 col2\" >0.9510</td>\n",
       "      <td id=\"T_d1d3e_row3_col3\" class=\"data row3 col3\" >0.8739</td>\n",
       "      <td id=\"T_d1d3e_row3_col4\" class=\"data row3 col4\" >0.9108</td>\n",
       "      <td id=\"T_d1d3e_row3_col5\" class=\"data row3 col5\" >0.5984</td>\n",
       "      <td id=\"T_d1d3e_row3_col6\" class=\"data row3 col6\" >0.6095</td>\n",
       "    </tr>\n",
       "    <tr>\n",
       "      <th id=\"T_d1d3e_level0_row4\" class=\"row_heading level0 row4\" >4</th>\n",
       "      <td id=\"T_d1d3e_row4_col0\" class=\"data row4 col0\" >0.8244</td>\n",
       "      <td id=\"T_d1d3e_row4_col1\" class=\"data row4 col1\" >0.9004</td>\n",
       "      <td id=\"T_d1d3e_row4_col2\" class=\"data row4 col2\" >0.9444</td>\n",
       "      <td id=\"T_d1d3e_row4_col3\" class=\"data row4 col3\" >0.8401</td>\n",
       "      <td id=\"T_d1d3e_row4_col4\" class=\"data row4 col4\" >0.8892</td>\n",
       "      <td id=\"T_d1d3e_row4_col5\" class=\"data row4 col5\" >0.4726</td>\n",
       "      <td id=\"T_d1d3e_row4_col6\" class=\"data row4 col6\" >0.4920</td>\n",
       "    </tr>\n",
       "    <tr>\n",
       "      <th id=\"T_d1d3e_level0_row5\" class=\"row_heading level0 row5\" >Mean</th>\n",
       "      <td id=\"T_d1d3e_row5_col0\" class=\"data row5 col0\" >0.8460</td>\n",
       "      <td id=\"T_d1d3e_row5_col1\" class=\"data row5 col1\" >0.8775</td>\n",
       "      <td id=\"T_d1d3e_row5_col2\" class=\"data row5 col2\" >0.9509</td>\n",
       "      <td id=\"T_d1d3e_row5_col3\" class=\"data row5 col3\" >0.8580</td>\n",
       "      <td id=\"T_d1d3e_row5_col4\" class=\"data row5 col4\" >0.9020</td>\n",
       "      <td id=\"T_d1d3e_row5_col5\" class=\"data row5 col5\" >0.5464</td>\n",
       "      <td id=\"T_d1d3e_row5_col6\" class=\"data row5 col6\" >0.5631</td>\n",
       "    </tr>\n",
       "    <tr>\n",
       "      <th id=\"T_d1d3e_level0_row6\" class=\"row_heading level0 row6\" >Std</th>\n",
       "      <td id=\"T_d1d3e_row6_col0\" class=\"data row6 col0\" >0.0133</td>\n",
       "      <td id=\"T_d1d3e_row6_col1\" class=\"data row6 col1\" >0.0147</td>\n",
       "      <td id=\"T_d1d3e_row6_col2\" class=\"data row6 col2\" >0.0072</td>\n",
       "      <td id=\"T_d1d3e_row6_col3\" class=\"data row6 col3\" >0.0135</td>\n",
       "      <td id=\"T_d1d3e_row6_col4\" class=\"data row6 col4\" >0.0078</td>\n",
       "      <td id=\"T_d1d3e_row6_col5\" class=\"data row6 col5\" >0.0471</td>\n",
       "      <td id=\"T_d1d3e_row6_col6\" class=\"data row6 col6\" >0.0429</td>\n",
       "    </tr>\n",
       "  </tbody>\n",
       "</table>\n"
      ],
      "text/plain": [
       "<pandas.io.formats.style.Styler at 0x7fba85548a90>"
      ]
     },
     "metadata": {},
     "output_type": "display_data"
    },
    {
     "data": {
      "text/html": [],
      "text/plain": [
       "<IPython.core.display.HTML object>"
      ]
     },
     "metadata": {},
     "output_type": "display_data"
    },
    {
     "name": "stdout",
     "output_type": "stream",
     "text": [
      "Fitting 5 folds for each of 10 candidates, totalling 50 fits\n",
      "Transformation Pipeline and Model Successfully Saved\n"
     ]
    },
    {
     "data": {
      "text/html": [
       "<style type=\"text/css\">\n",
       "</style>\n",
       "<table id=\"T_08a43\">\n",
       "  <thead>\n",
       "    <tr>\n",
       "      <th class=\"blank level0\" >&nbsp;</th>\n",
       "      <th id=\"T_08a43_level0_col0\" class=\"col_heading level0 col0\" >Model</th>\n",
       "      <th id=\"T_08a43_level0_col1\" class=\"col_heading level0 col1\" >Accuracy</th>\n",
       "      <th id=\"T_08a43_level0_col2\" class=\"col_heading level0 col2\" >AUC</th>\n",
       "      <th id=\"T_08a43_level0_col3\" class=\"col_heading level0 col3\" >Recall</th>\n",
       "      <th id=\"T_08a43_level0_col4\" class=\"col_heading level0 col4\" >Prec.</th>\n",
       "      <th id=\"T_08a43_level0_col5\" class=\"col_heading level0 col5\" >F1</th>\n",
       "      <th id=\"T_08a43_level0_col6\" class=\"col_heading level0 col6\" >Kappa</th>\n",
       "      <th id=\"T_08a43_level0_col7\" class=\"col_heading level0 col7\" >MCC</th>\n",
       "    </tr>\n",
       "  </thead>\n",
       "  <tbody>\n",
       "    <tr>\n",
       "      <th id=\"T_08a43_level0_row0\" class=\"row_heading level0 row0\" >0</th>\n",
       "      <td id=\"T_08a43_row0_col0\" class=\"data row0 col0\" >Extreme Gradient Boosting</td>\n",
       "      <td id=\"T_08a43_row0_col1\" class=\"data row0 col1\" >0.8409</td>\n",
       "      <td id=\"T_08a43_row0_col2\" class=\"data row0 col2\" >0.8876</td>\n",
       "      <td id=\"T_08a43_row0_col3\" class=\"data row0 col3\" >0.9434</td>\n",
       "      <td id=\"T_08a43_row0_col4\" class=\"data row0 col4\" >0.8571</td>\n",
       "      <td id=\"T_08a43_row0_col5\" class=\"data row0 col5\" >0.8982</td>\n",
       "      <td id=\"T_08a43_row0_col6\" class=\"data row0 col6\" >0.5377</td>\n",
       "      <td id=\"T_08a43_row0_col7\" class=\"data row0 col7\" >0.5509</td>\n",
       "    </tr>\n",
       "  </tbody>\n",
       "</table>\n"
      ],
      "text/plain": [
       "<pandas.io.formats.style.Styler at 0x7fba692cdf10>"
      ]
     },
     "metadata": {},
     "output_type": "display_data"
    },
    {
     "name": "stdout",
     "output_type": "stream",
     "text": [
      "Outer fold 5/5\n",
      "Configuring PyCaret for outer fold 5\n",
      "Creating model xgboost for outer fold 5\n"
     ]
    },
    {
     "data": {
      "text/html": [],
      "text/plain": [
       "<IPython.core.display.HTML object>"
      ]
     },
     "metadata": {},
     "output_type": "display_data"
    },
    {
     "data": {
      "text/html": [
       "<style type=\"text/css\">\n",
       "#T_6412e_row5_col0, #T_6412e_row5_col1, #T_6412e_row5_col2, #T_6412e_row5_col3, #T_6412e_row5_col4, #T_6412e_row5_col5, #T_6412e_row5_col6 {\n",
       "  background: yellow;\n",
       "}\n",
       "</style>\n",
       "<table id=\"T_6412e\">\n",
       "  <thead>\n",
       "    <tr>\n",
       "      <th class=\"blank level0\" >&nbsp;</th>\n",
       "      <th id=\"T_6412e_level0_col0\" class=\"col_heading level0 col0\" >Accuracy</th>\n",
       "      <th id=\"T_6412e_level0_col1\" class=\"col_heading level0 col1\" >AUC</th>\n",
       "      <th id=\"T_6412e_level0_col2\" class=\"col_heading level0 col2\" >Recall</th>\n",
       "      <th id=\"T_6412e_level0_col3\" class=\"col_heading level0 col3\" >Prec.</th>\n",
       "      <th id=\"T_6412e_level0_col4\" class=\"col_heading level0 col4\" >F1</th>\n",
       "      <th id=\"T_6412e_level0_col5\" class=\"col_heading level0 col5\" >Kappa</th>\n",
       "      <th id=\"T_6412e_level0_col6\" class=\"col_heading level0 col6\" >MCC</th>\n",
       "    </tr>\n",
       "    <tr>\n",
       "      <th class=\"index_name level0\" >Fold</th>\n",
       "      <th class=\"blank col0\" >&nbsp;</th>\n",
       "      <th class=\"blank col1\" >&nbsp;</th>\n",
       "      <th class=\"blank col2\" >&nbsp;</th>\n",
       "      <th class=\"blank col3\" >&nbsp;</th>\n",
       "      <th class=\"blank col4\" >&nbsp;</th>\n",
       "      <th class=\"blank col5\" >&nbsp;</th>\n",
       "      <th class=\"blank col6\" >&nbsp;</th>\n",
       "    </tr>\n",
       "  </thead>\n",
       "  <tbody>\n",
       "    <tr>\n",
       "      <th id=\"T_6412e_level0_row0\" class=\"row_heading level0 row0\" >0</th>\n",
       "      <td id=\"T_6412e_row0_col0\" class=\"data row0 col0\" >0.8540</td>\n",
       "      <td id=\"T_6412e_row0_col1\" class=\"data row0 col1\" >0.8860</td>\n",
       "      <td id=\"T_6412e_row0_col2\" class=\"data row0 col2\" >0.9444</td>\n",
       "      <td id=\"T_6412e_row0_col3\" class=\"data row0 col3\" >0.8705</td>\n",
       "      <td id=\"T_6412e_row0_col4\" class=\"data row0 col4\" >0.9060</td>\n",
       "      <td id=\"T_6412e_row0_col5\" class=\"data row0 col5\" >0.5823</td>\n",
       "      <td id=\"T_6412e_row0_col6\" class=\"data row0 col6\" >0.5921</td>\n",
       "    </tr>\n",
       "    <tr>\n",
       "      <th id=\"T_6412e_level0_row1\" class=\"row_heading level0 row1\" >1</th>\n",
       "      <td id=\"T_6412e_row1_col0\" class=\"data row1 col0\" >0.8516</td>\n",
       "      <td id=\"T_6412e_row1_col1\" class=\"data row1 col1\" >0.8758</td>\n",
       "      <td id=\"T_6412e_row1_col2\" class=\"data row1 col2\" >0.9346</td>\n",
       "      <td id=\"T_6412e_row1_col3\" class=\"data row1 col3\" >0.8746</td>\n",
       "      <td id=\"T_6412e_row1_col4\" class=\"data row1 col4\" >0.9036</td>\n",
       "      <td id=\"T_6412e_row1_col5\" class=\"data row1 col5\" >0.5824</td>\n",
       "      <td id=\"T_6412e_row1_col6\" class=\"data row1 col6\" >0.5885</td>\n",
       "    </tr>\n",
       "    <tr>\n",
       "      <th id=\"T_6412e_level0_row2\" class=\"row_heading level0 row2\" >2</th>\n",
       "      <td id=\"T_6412e_row2_col0\" class=\"data row2 col0\" >0.8561</td>\n",
       "      <td id=\"T_6412e_row2_col1\" class=\"data row2 col1\" >0.8756</td>\n",
       "      <td id=\"T_6412e_row2_col2\" class=\"data row2 col2\" >0.9377</td>\n",
       "      <td id=\"T_6412e_row2_col3\" class=\"data row2 col3\" >0.8773</td>\n",
       "      <td id=\"T_6412e_row2_col4\" class=\"data row2 col4\" >0.9065</td>\n",
       "      <td id=\"T_6412e_row2_col5\" class=\"data row2 col5\" >0.5958</td>\n",
       "      <td id=\"T_6412e_row2_col6\" class=\"data row2 col6\" >0.6021</td>\n",
       "    </tr>\n",
       "    <tr>\n",
       "      <th id=\"T_6412e_level0_row3\" class=\"row_heading level0 row3\" >3</th>\n",
       "      <td id=\"T_6412e_row3_col0\" class=\"data row3 col0\" >0.8537</td>\n",
       "      <td id=\"T_6412e_row3_col1\" class=\"data row3 col1\" >0.8907</td>\n",
       "      <td id=\"T_6412e_row3_col2\" class=\"data row3 col2\" >0.9314</td>\n",
       "      <td id=\"T_6412e_row3_col3\" class=\"data row3 col3\" >0.8796</td>\n",
       "      <td id=\"T_6412e_row3_col4\" class=\"data row3 col4\" >0.9048</td>\n",
       "      <td id=\"T_6412e_row3_col5\" class=\"data row3 col5\" >0.5901</td>\n",
       "      <td id=\"T_6412e_row3_col6\" class=\"data row3 col6\" >0.5946</td>\n",
       "    </tr>\n",
       "    <tr>\n",
       "      <th id=\"T_6412e_level0_row4\" class=\"row_heading level0 row4\" >4</th>\n",
       "      <td id=\"T_6412e_row4_col0\" class=\"data row4 col0\" >0.8390</td>\n",
       "      <td id=\"T_6412e_row4_col1\" class=\"data row4 col1\" >0.8829</td>\n",
       "      <td id=\"T_6412e_row4_col2\" class=\"data row4 col2\" >0.9346</td>\n",
       "      <td id=\"T_6412e_row4_col3\" class=\"data row4 col3\" >0.8614</td>\n",
       "      <td id=\"T_6412e_row4_col4\" class=\"data row4 col4\" >0.8966</td>\n",
       "      <td id=\"T_6412e_row4_col5\" class=\"data row4 col5\" >0.5366</td>\n",
       "      <td id=\"T_6412e_row4_col6\" class=\"data row4 col6\" >0.5458</td>\n",
       "    </tr>\n",
       "    <tr>\n",
       "      <th id=\"T_6412e_level0_row5\" class=\"row_heading level0 row5\" >Mean</th>\n",
       "      <td id=\"T_6412e_row5_col0\" class=\"data row5 col0\" >0.8509</td>\n",
       "      <td id=\"T_6412e_row5_col1\" class=\"data row5 col1\" >0.8822</td>\n",
       "      <td id=\"T_6412e_row5_col2\" class=\"data row5 col2\" >0.9366</td>\n",
       "      <td id=\"T_6412e_row5_col3\" class=\"data row5 col3\" >0.8727</td>\n",
       "      <td id=\"T_6412e_row5_col4\" class=\"data row5 col4\" >0.9035</td>\n",
       "      <td id=\"T_6412e_row5_col5\" class=\"data row5 col5\" >0.5774</td>\n",
       "      <td id=\"T_6412e_row5_col6\" class=\"data row5 col6\" >0.5846</td>\n",
       "    </tr>\n",
       "    <tr>\n",
       "      <th id=\"T_6412e_level0_row6\" class=\"row_heading level0 row6\" >Std</th>\n",
       "      <td id=\"T_6412e_row6_col0\" class=\"data row6 col0\" >0.0061</td>\n",
       "      <td id=\"T_6412e_row6_col1\" class=\"data row6 col1\" >0.0058</td>\n",
       "      <td id=\"T_6412e_row6_col2\" class=\"data row6 col2\" >0.0044</td>\n",
       "      <td id=\"T_6412e_row6_col3\" class=\"data row6 col3\" >0.0064</td>\n",
       "      <td id=\"T_6412e_row6_col4\" class=\"data row6 col4\" >0.0036</td>\n",
       "      <td id=\"T_6412e_row6_col5\" class=\"data row6 col5\" >0.0210</td>\n",
       "      <td id=\"T_6412e_row6_col6\" class=\"data row6 col6\" >0.0199</td>\n",
       "    </tr>\n",
       "  </tbody>\n",
       "</table>\n"
      ],
      "text/plain": [
       "<pandas.io.formats.style.Styler at 0x7fba71c358d0>"
      ]
     },
     "metadata": {},
     "output_type": "display_data"
    },
    {
     "data": {
      "text/html": [],
      "text/plain": [
       "<IPython.core.display.HTML object>"
      ]
     },
     "metadata": {},
     "output_type": "display_data"
    },
    {
     "name": "stdout",
     "output_type": "stream",
     "text": [
      "Tuning hyperparameters for model xgboost with custom grid\n"
     ]
    },
    {
     "data": {
      "text/html": [],
      "text/plain": [
       "<IPython.core.display.HTML object>"
      ]
     },
     "metadata": {},
     "output_type": "display_data"
    },
    {
     "data": {
      "text/html": [
       "<style type=\"text/css\">\n",
       "#T_3c31b_row5_col0, #T_3c31b_row5_col1, #T_3c31b_row5_col2, #T_3c31b_row5_col3, #T_3c31b_row5_col4, #T_3c31b_row5_col5, #T_3c31b_row5_col6 {\n",
       "  background: yellow;\n",
       "}\n",
       "</style>\n",
       "<table id=\"T_3c31b\">\n",
       "  <thead>\n",
       "    <tr>\n",
       "      <th class=\"blank level0\" >&nbsp;</th>\n",
       "      <th id=\"T_3c31b_level0_col0\" class=\"col_heading level0 col0\" >Accuracy</th>\n",
       "      <th id=\"T_3c31b_level0_col1\" class=\"col_heading level0 col1\" >AUC</th>\n",
       "      <th id=\"T_3c31b_level0_col2\" class=\"col_heading level0 col2\" >Recall</th>\n",
       "      <th id=\"T_3c31b_level0_col3\" class=\"col_heading level0 col3\" >Prec.</th>\n",
       "      <th id=\"T_3c31b_level0_col4\" class=\"col_heading level0 col4\" >F1</th>\n",
       "      <th id=\"T_3c31b_level0_col5\" class=\"col_heading level0 col5\" >Kappa</th>\n",
       "      <th id=\"T_3c31b_level0_col6\" class=\"col_heading level0 col6\" >MCC</th>\n",
       "    </tr>\n",
       "    <tr>\n",
       "      <th class=\"index_name level0\" >Fold</th>\n",
       "      <th class=\"blank col0\" >&nbsp;</th>\n",
       "      <th class=\"blank col1\" >&nbsp;</th>\n",
       "      <th class=\"blank col2\" >&nbsp;</th>\n",
       "      <th class=\"blank col3\" >&nbsp;</th>\n",
       "      <th class=\"blank col4\" >&nbsp;</th>\n",
       "      <th class=\"blank col5\" >&nbsp;</th>\n",
       "      <th class=\"blank col6\" >&nbsp;</th>\n",
       "    </tr>\n",
       "  </thead>\n",
       "  <tbody>\n",
       "    <tr>\n",
       "      <th id=\"T_3c31b_level0_row0\" class=\"row_heading level0 row0\" >0</th>\n",
       "      <td id=\"T_3c31b_row0_col0\" class=\"data row0 col0\" >0.8735</td>\n",
       "      <td id=\"T_3c31b_row0_col1\" class=\"data row0 col1\" >0.8960</td>\n",
       "      <td id=\"T_3c31b_row0_col2\" class=\"data row0 col2\" >0.9641</td>\n",
       "      <td id=\"T_3c31b_row0_col3\" class=\"data row0 col3\" >0.8780</td>\n",
       "      <td id=\"T_3c31b_row0_col4\" class=\"data row0 col4\" >0.9190</td>\n",
       "      <td id=\"T_3c31b_row0_col5\" class=\"data row0 col5\" >0.6330</td>\n",
       "      <td id=\"T_3c31b_row0_col6\" class=\"data row0 col6\" >0.6477</td>\n",
       "    </tr>\n",
       "    <tr>\n",
       "      <th id=\"T_3c31b_level0_row1\" class=\"row_heading level0 row1\" >1</th>\n",
       "      <td id=\"T_3c31b_row1_col0\" class=\"data row1 col0\" >0.8662</td>\n",
       "      <td id=\"T_3c31b_row1_col1\" class=\"data row1 col1\" >0.8953</td>\n",
       "      <td id=\"T_3c31b_row1_col2\" class=\"data row1 col2\" >0.9510</td>\n",
       "      <td id=\"T_3c31b_row1_col3\" class=\"data row1 col3\" >0.8792</td>\n",
       "      <td id=\"T_3c31b_row1_col4\" class=\"data row1 col4\" >0.9137</td>\n",
       "      <td id=\"T_3c31b_row1_col5\" class=\"data row1 col5\" >0.6184</td>\n",
       "      <td id=\"T_3c31b_row1_col6\" class=\"data row1 col6\" >0.6279</td>\n",
       "    </tr>\n",
       "    <tr>\n",
       "      <th id=\"T_3c31b_level0_row2\" class=\"row_heading level0 row2\" >2</th>\n",
       "      <td id=\"T_3c31b_row2_col0\" class=\"data row2 col0\" >0.8439</td>\n",
       "      <td id=\"T_3c31b_row2_col1\" class=\"data row2 col1\" >0.8652</td>\n",
       "      <td id=\"T_3c31b_row2_col2\" class=\"data row2 col2\" >0.9311</td>\n",
       "      <td id=\"T_3c31b_row2_col3\" class=\"data row2 col3\" >0.8685</td>\n",
       "      <td id=\"T_3c31b_row2_col4\" class=\"data row2 col4\" >0.8987</td>\n",
       "      <td id=\"T_3c31b_row2_col5\" class=\"data row2 col5\" >0.5601</td>\n",
       "      <td id=\"T_3c31b_row2_col6\" class=\"data row2 col6\" >0.5666</td>\n",
       "    </tr>\n",
       "    <tr>\n",
       "      <th id=\"T_3c31b_level0_row3\" class=\"row_heading level0 row3\" >3</th>\n",
       "      <td id=\"T_3c31b_row3_col0\" class=\"data row3 col0\" >0.8634</td>\n",
       "      <td id=\"T_3c31b_row3_col1\" class=\"data row3 col1\" >0.8911</td>\n",
       "      <td id=\"T_3c31b_row3_col2\" class=\"data row3 col2\" >0.9444</td>\n",
       "      <td id=\"T_3c31b_row3_col3\" class=\"data row3 col3\" >0.8811</td>\n",
       "      <td id=\"T_3c31b_row3_col4\" class=\"data row3 col4\" >0.9117</td>\n",
       "      <td id=\"T_3c31b_row3_col5\" class=\"data row3 col5\" >0.6122</td>\n",
       "      <td id=\"T_3c31b_row3_col6\" class=\"data row3 col6\" >0.6194</td>\n",
       "    </tr>\n",
       "    <tr>\n",
       "      <th id=\"T_3c31b_level0_row4\" class=\"row_heading level0 row4\" >4</th>\n",
       "      <td id=\"T_3c31b_row4_col0\" class=\"data row4 col0\" >0.8415</td>\n",
       "      <td id=\"T_3c31b_row4_col1\" class=\"data row4 col1\" >0.8925</td>\n",
       "      <td id=\"T_3c31b_row4_col2\" class=\"data row4 col2\" >0.9346</td>\n",
       "      <td id=\"T_3c31b_row4_col3\" class=\"data row4 col3\" >0.8640</td>\n",
       "      <td id=\"T_3c31b_row4_col4\" class=\"data row4 col4\" >0.8980</td>\n",
       "      <td id=\"T_3c31b_row4_col5\" class=\"data row4 col5\" >0.5452</td>\n",
       "      <td id=\"T_3c31b_row4_col6\" class=\"data row4 col6\" >0.5537</td>\n",
       "    </tr>\n",
       "    <tr>\n",
       "      <th id=\"T_3c31b_level0_row5\" class=\"row_heading level0 row5\" >Mean</th>\n",
       "      <td id=\"T_3c31b_row5_col0\" class=\"data row5 col0\" >0.8577</td>\n",
       "      <td id=\"T_3c31b_row5_col1\" class=\"data row5 col1\" >0.8880</td>\n",
       "      <td id=\"T_3c31b_row5_col2\" class=\"data row5 col2\" >0.9451</td>\n",
       "      <td id=\"T_3c31b_row5_col3\" class=\"data row5 col3\" >0.8742</td>\n",
       "      <td id=\"T_3c31b_row5_col4\" class=\"data row5 col4\" >0.9082</td>\n",
       "      <td id=\"T_3c31b_row5_col5\" class=\"data row5 col5\" >0.5938</td>\n",
       "      <td id=\"T_3c31b_row5_col6\" class=\"data row5 col6\" >0.6031</td>\n",
       "    </tr>\n",
       "    <tr>\n",
       "      <th id=\"T_3c31b_level0_row6\" class=\"row_heading level0 row6\" >Std</th>\n",
       "      <td id=\"T_3c31b_row6_col0\" class=\"data row6 col0\" >0.0127</td>\n",
       "      <td id=\"T_3c31b_row6_col1\" class=\"data row6 col1\" >0.0116</td>\n",
       "      <td id=\"T_3c31b_row6_col2\" class=\"data row6 col2\" >0.0118</td>\n",
       "      <td id=\"T_3c31b_row6_col3\" class=\"data row6 col3\" >0.0067</td>\n",
       "      <td id=\"T_3c31b_row6_col4\" class=\"data row6 col4\" >0.0084</td>\n",
       "      <td id=\"T_3c31b_row6_col5\" class=\"data row6 col5\" >0.0346</td>\n",
       "      <td id=\"T_3c31b_row6_col6\" class=\"data row6 col6\" >0.0364</td>\n",
       "    </tr>\n",
       "  </tbody>\n",
       "</table>\n"
      ],
      "text/plain": [
       "<pandas.io.formats.style.Styler at 0x7fba6b173890>"
      ]
     },
     "metadata": {},
     "output_type": "display_data"
    },
    {
     "data": {
      "text/html": [],
      "text/plain": [
       "<IPython.core.display.HTML object>"
      ]
     },
     "metadata": {},
     "output_type": "display_data"
    },
    {
     "name": "stdout",
     "output_type": "stream",
     "text": [
      "Fitting 5 folds for each of 10 candidates, totalling 50 fits\n",
      "Transformation Pipeline and Model Successfully Saved\n"
     ]
    },
    {
     "data": {
      "text/html": [
       "<style type=\"text/css\">\n",
       "</style>\n",
       "<table id=\"T_2abee\">\n",
       "  <thead>\n",
       "    <tr>\n",
       "      <th class=\"blank level0\" >&nbsp;</th>\n",
       "      <th id=\"T_2abee_level0_col0\" class=\"col_heading level0 col0\" >Model</th>\n",
       "      <th id=\"T_2abee_level0_col1\" class=\"col_heading level0 col1\" >Accuracy</th>\n",
       "      <th id=\"T_2abee_level0_col2\" class=\"col_heading level0 col2\" >AUC</th>\n",
       "      <th id=\"T_2abee_level0_col3\" class=\"col_heading level0 col3\" >Recall</th>\n",
       "      <th id=\"T_2abee_level0_col4\" class=\"col_heading level0 col4\" >Prec.</th>\n",
       "      <th id=\"T_2abee_level0_col5\" class=\"col_heading level0 col5\" >F1</th>\n",
       "      <th id=\"T_2abee_level0_col6\" class=\"col_heading level0 col6\" >Kappa</th>\n",
       "      <th id=\"T_2abee_level0_col7\" class=\"col_heading level0 col7\" >MCC</th>\n",
       "    </tr>\n",
       "  </thead>\n",
       "  <tbody>\n",
       "    <tr>\n",
       "      <th id=\"T_2abee_level0_row0\" class=\"row_heading level0 row0\" >0</th>\n",
       "      <td id=\"T_2abee_row0_col0\" class=\"data row0 col0\" >Extreme Gradient Boosting</td>\n",
       "      <td id=\"T_2abee_row0_col1\" class=\"data row0 col1\" >0.8440</td>\n",
       "      <td id=\"T_2abee_row0_col2\" class=\"data row0 col2\" >0.8545</td>\n",
       "      <td id=\"T_2abee_row0_col3\" class=\"data row0 col3\" >0.9518</td>\n",
       "      <td id=\"T_2abee_row0_col4\" class=\"data row0 col4\" >0.8550</td>\n",
       "      <td id=\"T_2abee_row0_col5\" class=\"data row0 col5\" >0.9008</td>\n",
       "      <td id=\"T_2abee_row0_col6\" class=\"data row0 col6\" >0.5407</td>\n",
       "      <td id=\"T_2abee_row0_col7\" class=\"data row0 col7\" >0.5581</td>\n",
       "    </tr>\n",
       "  </tbody>\n",
       "</table>\n"
      ],
      "text/plain": [
       "<pandas.io.formats.style.Styler at 0x7fb9c2e0a590>"
      ]
     },
     "metadata": {},
     "output_type": "display_data"
    },
    {
     "name": "stdout",
     "output_type": "stream",
     "text": [
      "Final metrics table:\n",
      "     Metric     Mean   Std Dev\n",
      "0  Accuracy  0.85646  0.015014\n",
      "1       AUC  0.88250  0.019545\n",
      "2    Recall  0.95360  0.010194\n",
      "3     Prec.  0.86692  0.009822\n",
      "4        F1  0.90820  0.009547\n",
      "5     Kappa  0.58264  0.044186\n",
      "6       MCC  0.59686  0.044837\n"
     ]
    }
   ],
   "source": [
    "# Initialize the PyCaret Evaluator\n",
    "evaluator = PyCaretEvaluator(dataset=dataset, target=\"EnlargedCardiomediastinum\", experiment_name=\"CP_EnlargedCardiomediastinum\", filepath=\"./results/enlargedcardiomediastinum\")\n",
    "\n",
    "# Model training and results evaluation\n",
    "evaluator.run_experiment(\n",
    "    train_size=0.8,\n",
    "    fold=5,\n",
    "    fold_strategy='stratifiedkfold',\n",
    "    outer_fold=5,\n",
    "    outer_strategy='stratifiedkfold',\n",
    "    session_id=42,\n",
    "    model='xgboost',\n",
    "    optimize='AUC',\n",
    "    custom_grid=grid_hps\n",
    ")"
   ]
  }
 ],
 "metadata": {
  "kernelspec": {
   "display_name": "Python (pycaret_env)",
   "language": "python",
   "name": "pycaret_env"
  },
  "language_info": {
   "codemirror_mode": {
    "name": "ipython",
    "version": 3
   },
   "file_extension": ".py",
   "mimetype": "text/x-python",
   "name": "python",
   "nbconvert_exporter": "python",
   "pygments_lexer": "ipython3",
   "version": "3.11.9"
  }
 },
 "nbformat": 4,
 "nbformat_minor": 5
}
