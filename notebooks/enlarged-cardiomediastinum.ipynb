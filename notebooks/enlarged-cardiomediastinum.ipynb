{
 "cells": [
  {
   "cell_type": "markdown",
   "id": "c4139f23",
   "metadata": {},
   "source": [
    "# Pathology prediction (Enlarged_CM)\n",
    "\n",
    "\n",
    "@References : Soenksen, L.R., Ma, Y., Zeng, C. et al. Integrated multimodal artificial intelligence framework for healthcare applications. npj Digit. Med. 5, 149 (2022). https://doi.org/10.1038/s41746-022-00689-4\n",
    "\n",
    "In this notebook, the task is to predict the Enlarged Cardiomediastinum pathology using the CSV embeddings file\n",
    "\n"
   ]
  },
  {
   "cell_type": "markdown",
   "id": "8e9e247e",
   "metadata": {},
   "source": [
    "## Introduction\n"
   ]
  },
  {
   "attachments": {},
   "cell_type": "markdown",
   "id": "321d5924",
   "metadata": {},
   "source": [
    "Radiology notes were processed to determine if each of the pathologies was explicitly confirmed as present (value = 1), explicitly confirmed as absent (value = 0), inconclusive in the study (value = −1), or not explored (no value).\n",
    "\n",
    "Selected samples : 0 or 1 values (removing the rest from the training and testing data).\n",
    "\n",
    "Excluded variables : the unstructured radiology notes component (E_rad ) from the allowable input to avoid potential overfitting or misrepresentations of real predictive value.\n",
    "\n",
    "The model is based on binary classification for each target chest pathology.\n",
    "\n",
    "Final sample size for the Enlarged Cardiomediastinum pathology is : (N =  3206)"
   ]
  },
  {
   "cell_type": "markdown",
   "id": "59600fd4",
   "metadata": {},
   "source": [
    "#### Imports"
   ]
  },
  {
   "cell_type": "code",
   "execution_count": 1,
   "id": "2d0990d5",
   "metadata": {},
   "outputs": [],
   "source": [
    "import os\n",
    "os.chdir('../')\n",
    "\n",
    "from pandas import read_csv\n",
    "\n",
    "from src.data import constants\n",
    "from src.data.dataset import HAIMDataset\n",
    "from src.evaluation.pycaret_evaluator import PyCaretEvaluator\n",
    "from src.utils.metric_scores import *"
   ]
  },
  {
   "cell_type": "markdown",
   "id": "645a1fe8",
   "metadata": {},
   "source": [
    "#### Read data from local source\n",
    "\n"
   ]
  },
  {
   "cell_type": "code",
   "execution_count": 2,
   "id": "a948c18c",
   "metadata": {},
   "outputs": [],
   "source": [
    "df = read_csv(constants.FILE_DF, nrows=constants.N_DATA)"
   ]
  },
  {
   "cell_type": "markdown",
   "id": "90a95053",
   "metadata": {},
   "source": [
    "#### Create a custom dataset for the HAIM experiment\n"
   ]
  },
  {
   "cell_type": "markdown",
   "id": "a47ba159",
   "metadata": {},
   "source": [
    "Build the target column for the task at hand, set the dataset specificities:  the ``haim_id`` as a ``global_id``, use all sources except ``radiology notes`` "
   ]
  },
  {
   "cell_type": "code",
   "execution_count": 3,
   "id": "239db8a3",
   "metadata": {},
   "outputs": [],
   "source": [
    "dataset = HAIMDataset(df,  \n",
    "                      constants.CHEST_PREDICTORS, \n",
    "                      constants.ALL_MODALITIES, \n",
    "                      constants.ENLARGED_CARDIOMEDIASTINUM,\n",
    "                      constants.IMG_ID, \n",
    "                      constants.GLOBAL_ID)"
   ]
  },
  {
   "cell_type": "markdown",
   "id": "e280f91d",
   "metadata": {},
   "source": [
    "#### Set hyper-parameters"
   ]
  },
  {
   "cell_type": "code",
   "execution_count": 4,
   "id": "8d254fef",
   "metadata": {},
   "outputs": [],
   "source": [
    "# Define the grid oh hyper-parameters for the tuning\n",
    "grid_hps = {'max_depth': [5, 6, 7, 8],\n",
    "            'n_estimators': [200, 300],\n",
    "            'learning_rate': [0.3, 0.1, 0.05],\n",
    "            }"
   ]
  },
  {
   "cell_type": "markdown",
   "id": "75fd10ab",
   "metadata": {},
   "source": [
    "### Model training and predictions using an XGBClassifier model with GridSearchCV and Hyperparameters optimization\n"
   ]
  },
  {
   "cell_type": "markdown",
   "id": "d04a4c63",
   "metadata": {},
   "source": [
    "The goal of this section of the notebook is to compute the following metrics:\n",
    "\n",
    "``ACCURACY_SCORE, BALANCED_ACCURACY_SCORE, SENSITIVITY, SPECIFICITY, AUC, BRIER SCORE, BINARY CROSS-ENTROPY``\n",
    "\n",
    "\n",
    "The\n",
    "hyperparameter combinations of individual XGBoost models were\n",
    "selected within each training loop using a ``fivefold cross-validated\n",
    "grid search`` on the training set (80%). This XGBoost ``tuning process``\n",
    "selected the ``maximum depth of the trees (5–8)``, the number of\n",
    "``estimators (200 or 300)``, and the ``learning rate (0.05, 0.1, 0.3)``\n",
    "according to the parameter value combination leading to the\n",
    "highest observed AUROC within the training loop \n",
    "\n",
    "\n",
    "As mentioned previously, all XGBoost models were trained ``five times with five different data splits`` to repeat the\n",
    "experiments and compute average metrics \n",
    "\n",
    "\n",
    "```Refer to page 8 of study``` : https://doi.org/10.1038/s41746-022-00689-4"
   ]
  },
  {
   "cell_type": "code",
   "execution_count": 5,
   "id": "726c2332",
   "metadata": {},
   "outputs": [
    {
     "name": "stderr",
     "output_type": "stream",
     "text": [
      "2024-09-26 11:11:21,998\tINFO worker.py:1777 -- Started a local Ray instance. View the dashboard at \u001b[1m\u001b[32mhttp://127.0.0.1:8265 \u001b[39m\u001b[22m\n"
     ]
    },
    {
     "name": "stdout",
     "output_type": "stream",
     "text": [
      "\u001b[36m(run_fold pid=409777)\u001b[0m Outer fold 2\n",
      "\u001b[36m(run_fold pid=409777)\u001b[0m Configuring PyCaret for outer fold 2\n",
      "\u001b[36m(run_fold pid=409766)\u001b[0m Outer fold 4\u001b[32m [repeated 3x across cluster] (Ray deduplicates logs by default. Set RAY_DEDUP_LOGS=0 to disable log deduplication, or see https://docs.ray.io/en/master/ray-observability/user-guides/configure-logging.html#log-deduplication for more options.)\u001b[0m\n"
     ]
    },
    {
     "name": "stderr",
     "output_type": "stream",
     "text": [
      "Processing:   0%|          | 0/4 [00:00<?, ?it/s]\n",
      "Processing:  25%|██▌       | 1/4 [00:00<00:02,  1.43it/s]\n",
      "Processing:   0%|          | 0/4 [00:00<?, ?it/s]\u001b[32m [repeated 3x across cluster]\u001b[0m\n",
      "Processing:  75%|███████▌  | 3/4 [02:45<01:01, 61.29s/it]\u001b[32m [repeated 4x across cluster]\u001b[0m\n"
     ]
    },
    {
     "name": "stdout",
     "output_type": "stream",
     "text": [
      "\u001b[36m(run_fold pid=409766)\u001b[0m       Accuracy     AUC  Recall   Prec.      F1   Kappa     MCC\n",
      "\u001b[36m(run_fold pid=409766)\u001b[0m Fold                                                          \n",
      "\u001b[36m(run_fold pid=409766)\u001b[0m 0       0.8370  0.8827  0.9379  0.8567  0.8955  0.5287  0.5401\n",
      "\u001b[36m(run_fold pid=409766)\u001b[0m 1       0.8394  0.8575  0.9608  0.8448  0.8991  0.5140  0.5405\n",
      "\u001b[36m(run_fold pid=409766)\u001b[0m 2       0.8537  0.8810  0.9443  0.8701  0.9057  0.5820  0.5918\n",
      "\u001b[36m(run_fold pid=409766)\u001b[0m 3       0.8415  0.8587  0.9216  0.8731  0.8967  0.5574  0.5612\n",
      "\u001b[36m(run_fold pid=409766)\u001b[0m 4       0.8366  0.8807  0.9379  0.8567  0.8955  0.5247  0.5361\n",
      "\u001b[36m(run_fold pid=409766)\u001b[0m Mean    0.8416  0.8721  0.9405  0.8603  0.8985  0.5414  0.5539\n",
      "\u001b[36m(run_fold pid=409766)\u001b[0m Std     0.0063  0.0115  0.0126  0.0102  0.0038  0.0249  0.0208\n",
      "\u001b[36m(run_fold pid=409778)\u001b[0m Configuring PyCaret for outer fold 1\u001b[32m [repeated 3x across cluster]\u001b[0m\n",
      "\u001b[36m(run_fold pid=409766)\u001b[0m Tuning hyperparameters for model xgboost with custom grid using grid search\n"
     ]
    },
    {
     "name": "stderr",
     "output_type": "stream",
     "text": [
      "                                                         \n",
      "Processing:  75%|███████▌  | 3/4 [02:46<01:01, 61.57s/it]\u001b[32m [repeated 3x across cluster]\u001b[0m\n"
     ]
    },
    {
     "name": "stdout",
     "output_type": "stream",
     "text": [
      "\u001b[36m(run_fold pid=409770)\u001b[0m 0       0.8491  0.8723  0.9608  0.8547  0.9046  0.5500  0.5722\n",
      "\u001b[36m(run_fold pid=409770)\u001b[0m 1       0.8394  0.8769  0.9444  0.8550  0.8975  0.5309  0.5452\n",
      "\u001b[36m(run_fold pid=409770)\u001b[0m 2       0.8341  0.8788  0.9410  0.8516  0.8941  0.5164  0.5303\n",
      "\u001b[36m(run_fold pid=409770)\u001b[0m 3       0.8366  0.8694  0.9443  0.8521  0.8958  0.5218  0.5369\n",
      "\u001b[36m(run_fold pid=409770)\u001b[0m 4       0.8341  0.8473  0.9346  0.8563  0.8938  0.5192  0.5297\n",
      "\u001b[36m(run_fold pid=409777)\u001b[0m 0       0.8297  0.8504  0.9346  0.8512  0.8910  0.5059  0.5177\n",
      "\u001b[36m(run_fold pid=409777)\u001b[0m 1       0.8662  0.9081  0.9706  0.8659  0.9153  0.6022  0.6250\n",
      "\u001b[36m(run_fold pid=409777)\u001b[0m 2       0.8390  0.8627  0.9377  0.8589  0.8966  0.5370  0.5477\n",
      "\u001b[36m(run_fold pid=409777)\u001b[0m 3       0.8415  0.8996  0.9377  0.8614  0.8980  0.5456  0.5556\n",
      "\u001b[36m(run_fold pid=409777)\u001b[0m 4       0.8463  0.8605  0.9837  0.8384  0.9053  0.5121  0.5616\n",
      "\u001b[36m(run_fold pid=409778)\u001b[0m 0       0.8637  0.8928  0.9608  0.8698  0.9130  0.6020  0.6182\n",
      "\u001b[36m(run_fold pid=409778)\u001b[0m 1       0.8293  0.8623  0.9279  0.8550  0.8899  0.5123  0.5209\n",
      "\u001b[36m(run_fold pid=409778)\u001b[0m 2       0.8634  0.8887  0.9410  0.8831  0.9111  0.6177  0.6235\n",
      "\u001b[36m(run_fold pid=409778)\u001b[0m 3       0.8707  0.8723  0.9706  0.8710  0.9181  0.6159  0.6367\n",
      "\u001b[36m(run_fold pid=409778)\u001b[0m 4       0.8634  0.8802  0.9771  0.8592  0.9144  0.5838  0.6145\n",
      "\u001b[36m(run_fold pid=409778)\u001b[0m Transformation Pipeline and Model Successfully Saved\n",
      "\u001b[36m(run_fold pid=409778)\u001b[0m       Accuracy     AUC  Recall   Prec.      F1   Kappa     MCC\u001b[32m [repeated 3x across cluster]\u001b[0m\n",
      "\u001b[36m(run_fold pid=409778)\u001b[0m Fold                                                          \u001b[32m [repeated 3x across cluster]\u001b[0m\n",
      "\u001b[36m(run_fold pid=409778)\u001b[0m Mean    0.8581  0.8793  0.9555  0.8676  0.9093  0.5863  0.6028\u001b[32m [repeated 3x across cluster]\u001b[0m\n",
      "\u001b[36m(run_fold pid=409778)\u001b[0m Std     0.0147  0.0111  0.0184  0.0099  0.0100  0.0390  0.0416\u001b[32m [repeated 3x across cluster]\u001b[0m\n",
      "\u001b[36m(run_fold pid=409778)\u001b[0m Tuning hyperparameters for model xgboost with custom grid using grid search\u001b[32m [repeated 3x across cluster]\u001b[0m\n",
      "\u001b[36m(run_fold pid=409778)\u001b[0m                        Model  Accuracy     AUC  ...      F1  Kappa     MCC\n",
      "\u001b[36m(run_fold pid=409778)\u001b[0m 0  Extreme Gradient Boosting    0.8551  0.9127  ...  0.9078  0.574  0.5917\n",
      "\u001b[36m(run_fold pid=409778)\u001b[0m \n",
      "\u001b[36m(run_fold pid=409778)\u001b[0m [1 rows x 8 columns]\n",
      "\u001b[36m(run_fold pid=409778)\u001b[0m Outer fold 5\n",
      "\u001b[36m(run_fold pid=409778)\u001b[0m Configuring PyCaret for outer fold 5\n"
     ]
    },
    {
     "name": "stderr",
     "output_type": "stream",
     "text": [
      "Processing:   0%|          | 0/4 [00:00<?, ?it/s]\n",
      "                                                         \u001b[32m [repeated 3x across cluster]\u001b[0m\n",
      "Processing:  25%|██▌       | 1/4 [00:00<00:02,  1.40it/s]\n"
     ]
    },
    {
     "name": "stdout",
     "output_type": "stream",
     "text": [
      "\u001b[36m(run_fold pid=409777)\u001b[0m Transformation Pipeline and Model Successfully Saved\n",
      "\u001b[36m(run_fold pid=409777)\u001b[0m                        Model  Accuracy     AUC  ...      F1   Kappa     MCC\n",
      "\u001b[36m(run_fold pid=409777)\u001b[0m 0  Extreme Gradient Boosting    0.8658  0.9142  ...  0.9143  0.6082  0.6233\n",
      "\u001b[36m(run_fold pid=409777)\u001b[0m \n",
      "\u001b[36m(run_fold pid=409777)\u001b[0m [1 rows x 8 columns]\n",
      "\u001b[36m(run_fold pid=409766)\u001b[0m Transformation Pipeline and Model Successfully Saved\n",
      "\u001b[36m(run_fold pid=409766)\u001b[0m                        Model  Accuracy     AUC  ...      F1   Kappa     MCC\n",
      "\u001b[36m(run_fold pid=409766)\u001b[0m 0  Extreme Gradient Boosting    0.8471  0.8904  ...  0.9016  0.5617  0.5718\n",
      "\u001b[36m(run_fold pid=409766)\u001b[0m \n",
      "\u001b[36m(run_fold pid=409766)\u001b[0m [1 rows x 8 columns]\n"
     ]
    },
    {
     "name": "stderr",
     "output_type": "stream",
     "text": [
      "Processing:  75%|███████▌  | 3/4 [02:33<00:56, 56.59s/it]\n",
      "                                                         \n"
     ]
    },
    {
     "name": "stdout",
     "output_type": "stream",
     "text": [
      "\u001b[36m(run_fold pid=409778)\u001b[0m       Accuracy     AUC  Recall   Prec.      F1   Kappa     MCC\n",
      "\u001b[36m(run_fold pid=409778)\u001b[0m Fold                                                          \n",
      "\u001b[36m(run_fold pid=409778)\u001b[0m 0       0.8540  0.8860  0.9444  0.8705  0.9060  0.5823  0.5921\n",
      "\u001b[36m(run_fold pid=409778)\u001b[0m 1       0.8516  0.8758  0.9346  0.8746  0.9036  0.5824  0.5885\n",
      "\u001b[36m(run_fold pid=409778)\u001b[0m 2       0.8561  0.8756  0.9377  0.8773  0.9065  0.5958  0.6021\n",
      "\u001b[36m(run_fold pid=409778)\u001b[0m 3       0.8537  0.8907  0.9314  0.8796  0.9048  0.5901  0.5946\n",
      "\u001b[36m(run_fold pid=409778)\u001b[0m 4       0.8390  0.8829  0.9346  0.8614  0.8966  0.5366  0.5458\n",
      "\u001b[36m(run_fold pid=409778)\u001b[0m Mean    0.8509  0.8822  0.9366  0.8727  0.9035  0.5774  0.5846\n",
      "\u001b[36m(run_fold pid=409778)\u001b[0m Std     0.0061  0.0058  0.0044  0.0064  0.0036  0.0210  0.0199\n",
      "\u001b[36m(run_fold pid=409778)\u001b[0m Tuning hyperparameters for model xgboost with custom grid using grid search\n",
      "\u001b[36m(run_fold pid=409770)\u001b[0m Transformation Pipeline and Model Successfully Saved\n",
      "\u001b[36m(run_fold pid=409770)\u001b[0m                        Model  Accuracy     AUC  ...      F1   Kappa     MCC\n",
      "\u001b[36m(run_fold pid=409770)\u001b[0m 0  Extreme Gradient Boosting    0.8768  0.9039  ...  0.9212  0.6409  0.6561\n",
      "\u001b[36m(run_fold pid=409770)\u001b[0m \n",
      "\u001b[36m(run_fold pid=409770)\u001b[0m [1 rows x 8 columns]\n",
      "\u001b[36m(run_fold pid=409778)\u001b[0m Transformation Pipeline and Model Successfully Saved\n",
      "\u001b[36m(run_fold pid=409778)\u001b[0m                        Model  Accuracy     AUC  ...     F1   Kappa     MCC\n",
      "\u001b[36m(run_fold pid=409778)\u001b[0m 0  Extreme Gradient Boosting     0.844  0.8559  ...  0.901  0.5386  0.5575\n",
      "\u001b[36m(run_fold pid=409778)\u001b[0m \n",
      "\u001b[36m(run_fold pid=409778)\u001b[0m [1 rows x 8 columns]\n",
      "Final metrics table:\n",
      "     Metric     Mean   Std Dev\n",
      "0  Accuracy  0.84914  0.014792\n",
      "1       AUC  0.88818  0.019344\n",
      "2    Recall  0.95358  0.007442\n",
      "3     Prec.  0.85932  0.011658\n",
      "4        F1  0.90398  0.009124\n",
      "5     Kappa  0.55656  0.046711\n",
      "6       MCC  0.57342  0.045301\n"
     ]
    }
   ],
   "source": [
    "# Initialize the PyCaret Evaluator\n",
    "evaluator = PyCaretEvaluator(dataset=dataset, target=\"EnlargedCardiomediastinum\", experiment_name=\"CP_EnlargedCardiomediastinum\", filepath=\"./results/enlargedcardiomediastinum\")\n",
    "\n",
    "# Model training and results evaluation\n",
    "evaluator.run_experiment(\n",
    "    train_size=0.8,\n",
    "    fold=5,\n",
    "    fold_strategy='stratifiedkfold',\n",
    "    outer_fold=5,\n",
    "    outer_strategy='stratifiedkfold',\n",
    "    session_id=42,\n",
    "    model='xgboost',\n",
    "    optimize='AUC',\n",
    "    custom_grid=grid_hps\n",
    ")"
   ]
  }
 ],
 "metadata": {
  "kernelspec": {
   "display_name": "Python (pycaret_env)",
   "language": "python",
   "name": "pycaret_env"
  },
  "language_info": {
   "codemirror_mode": {
    "name": "ipython",
    "version": 3
   },
   "file_extension": ".py",
   "mimetype": "text/x-python",
   "name": "python",
   "nbconvert_exporter": "python",
   "pygments_lexer": "ipython3",
   "version": "3.11.9"
  }
 },
 "nbformat": 4,
 "nbformat_minor": 5
}
