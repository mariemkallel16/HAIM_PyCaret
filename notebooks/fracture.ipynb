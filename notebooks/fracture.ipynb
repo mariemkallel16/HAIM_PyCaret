{
 "cells": [
  {
   "cell_type": "markdown",
   "id": "c4139f23",
   "metadata": {},
   "source": [
    "# Pathology prediction (fracture)\n",
    "\n",
    "@References : Soenksen, L.R., Ma, Y., Zeng, C. et al. Integrated multimodal artificial intelligence framework for healthcare applications. npj Digit. Med. 5, 149 (2022). https://doi.org/10.1038/s41746-022-00689-4\n",
    "\n",
    "In this notebook, the task is to predict the fracture pathology using the CSV embeddings file"
   ]
  },
  {
   "cell_type": "markdown",
   "id": "8e9e247e",
   "metadata": {},
   "source": [
    "## Introduction\n"
   ]
  },
  {
   "attachments": {},
   "cell_type": "markdown",
   "id": "321d5924",
   "metadata": {},
   "source": [
    "Radiology notes were processed to determine if each of the pathologies was explicitly confirmed as present (value = 1), explicitly confirmed as absent (value = 0), inconclusive in the study (value = −1), or not explored (no value).\n",
    "\n",
    "Selected samples :  0 or 1 values (removing the rest from the training and testing data).\n",
    "\n",
    "Excluded variables : the unstructured radiology notes component (E_rad ) from the allowable input to avoid potential overfitting or misrepresentations of real predictive value. \n",
    "\n",
    "The model is based on binary classification for each target chest pathology.\n",
    "\n",
    "Final sample size for the fracture pathology is : (N = 557)"
   ]
  },
  {
   "cell_type": "markdown",
   "id": "59600fd4",
   "metadata": {},
   "source": [
    "#### Imports"
   ]
  },
  {
   "cell_type": "code",
   "execution_count": 1,
   "id": "2d0990d5",
   "metadata": {},
   "outputs": [],
   "source": [
    "import os\n",
    "os.chdir('../')\n",
    "\n",
    "from pandas import read_csv\n",
    "\n",
    "from src.data import constants\n",
    "from src.data.dataset import HAIMDataset\n",
    "from src.evaluation.pycaret_evaluator import PyCaretEvaluator\n",
    "from src.utils.metric_scores import *"
   ]
  },
  {
   "cell_type": "markdown",
   "id": "645a1fe8",
   "metadata": {},
   "source": [
    "#### Read data from local source\n",
    "\n"
   ]
  },
  {
   "cell_type": "code",
   "execution_count": 2,
   "id": "a948c18c",
   "metadata": {},
   "outputs": [],
   "source": [
    "df = read_csv(constants.FILE_DF, nrows=constants.N_DATA)"
   ]
  },
  {
   "cell_type": "markdown",
   "id": "90a95053",
   "metadata": {},
   "source": [
    "#### Create a custom dataset for the HAIM experiment\n"
   ]
  },
  {
   "cell_type": "markdown",
   "id": "a47ba159",
   "metadata": {},
   "source": [
    "Build the target column for the task at hand, set the dataset specificities:  the ``haim_id`` as a ``global_id``, use all sources except ``radiology notes`` "
   ]
  },
  {
   "cell_type": "code",
   "execution_count": 3,
   "id": "239db8a3",
   "metadata": {},
   "outputs": [],
   "source": [
    "dataset = HAIMDataset(df,  \n",
    "                      constants.CHEST_PREDICTORS, \n",
    "                      constants.ALL_MODALITIES, \n",
    "                      constants.FRACTURE, \n",
    "                      constants.IMG_ID, \n",
    "                      constants.GLOBAL_ID)"
   ]
  },
  {
   "cell_type": "markdown",
   "id": "e280f91d",
   "metadata": {},
   "source": [
    "#### Set hyper-parameters"
   ]
  },
  {
   "cell_type": "code",
   "execution_count": 4,
   "id": "8d254fef",
   "metadata": {},
   "outputs": [],
   "source": [
    "# Define the grid oh hyper-parameters for the tuning\n",
    "grid_hps = {'max_depth': [5, 6, 7, 8],\n",
    "            'n_estimators': [200, 300],\n",
    "            'learning_rate': [0.3, 0.1, 0.05],\n",
    "            }\n",
    "# Fixed parameters to pass\n",
    "fixed_params = {\n",
    "    'seed': 42,\n",
    "    'eval_metric': 'logloss',\n",
    "    'verbosity': 0\n",
    "}"
   ]
  },
  {
   "cell_type": "markdown",
   "id": "75fd10ab",
   "metadata": {},
   "source": [
    "### Model training and predictions using an XGBClassifier model with GridSearchCV and Hyperparameters optimization\n"
   ]
  },
  {
   "cell_type": "markdown",
   "id": "d04a4c63",
   "metadata": {},
   "source": [
    "The goal of this section of the notebook is to compute the following metrics:\n",
    "\n",
    "``ACCURACY_SCORE, BALANCED_ACCURACY_SCORE, SENSITIVITY, SPECIFICITY, AUC, BRIER SCORE, BINARY CROSS-ENTROPY``\n",
    "\n",
    "\n",
    "The\n",
    "hyperparameter combinations of individual XGBoost models were\n",
    "selected within each training loop using a ``fivefold cross-validated\n",
    "grid search`` on the training set (80%). This XGBoost ``tuning process``\n",
    "selected the ``maximum depth of the trees (5–8)``, the number of\n",
    "``estimators (200 or 300)``, and the ``learning rate (0.05, 0.1, 0.3)``\n",
    "according to the parameter value combination leading to the\n",
    "highest observed AUROC within the training loop \n",
    "\n",
    "\n",
    "As mentioned previously, all XGBoost models were trained ``five times with five different data splits`` to repeat the\n",
    "experiments and compute average metrics \n",
    "\n",
    "\n",
    "```Refer to page 8 of study``` : https://doi.org/10.1038/s41746-022-00689-4"
   ]
  },
  {
   "cell_type": "code",
   "execution_count": 5,
   "id": "726c2332",
   "metadata": {},
   "outputs": [
    {
     "name": "stderr",
     "output_type": "stream",
     "text": [
      "2024-10-20 17:14:14,195\tINFO worker.py:1777 -- Started a local Ray instance. View the dashboard at \u001b[1m\u001b[32mhttp://127.0.0.1:8265 \u001b[39m\u001b[22m\n"
     ]
    },
    {
     "name": "stdout",
     "output_type": "stream",
     "text": [
      "\u001b[36m(run_fold pid=189451)\u001b[0m Outer fold 1\n",
      "\u001b[36m(run_fold pid=189455)\u001b[0m Train indices: [  0   1   2   3   4   6   8   9  10  11  12  13  14  15  17  18  19  20\n",
      "\u001b[36m(run_fold pid=189455)\u001b[0m   23  24  25  26  27  28  29  32  33  34  36  37  38  39  40  42  43  44\n",
      "\u001b[36m(run_fold pid=189455)\u001b[0m   45  46  47  48  49  50  51  53  54  55  56  57  59  60  61  62  65  66\n",
      "\u001b[36m(run_fold pid=189455)\u001b[0m   67  68  69  70  71  72  73  74  75  76  77  78  80  81  82  83  85  86\n",
      "\u001b[36m(run_fold pid=189455)\u001b[0m   87  88  89  90  91  92  93  94  96  97  98  99 100 102 104 105 106 107\n",
      "\u001b[36m(run_fold pid=189455)\u001b[0m  108 109 110 111 114 115 116 117 119 120 122 123 125 126 127 128 129 130\n",
      "\u001b[36m(run_fold pid=189455)\u001b[0m  131 132 133 135 136 137 138 139 141 142 143 144 145 147 150 151 153 154\n",
      "\u001b[36m(run_fold pid=189455)\u001b[0m  155 156 158 159 160 161 162 163 164 166 167 168 169 170 172 173 174 175\n",
      "\u001b[36m(run_fold pid=189455)\u001b[0m  176 178 179 181 182 183 184 185 186 187 188 189 190 191 193 194 195 197\n",
      "\u001b[36m(run_fold pid=189455)\u001b[0m  198 199 200 201 202 203 204 205 206 207 208 210 211 212 216 218 219 221\n",
      "\u001b[36m(run_fold pid=189455)\u001b[0m  222 223 224 225 227 228 229 230 231 232 233 234 235 238 239 240 241 242\n",
      "\u001b[36m(run_fold pid=189455)\u001b[0m  243 244 247 248 249 251 252 254 255 256 257 258 259 261 262 263 264 266\n",
      "\u001b[36m(run_fold pid=189455)\u001b[0m  267 268 269 270 272 273 274 275 276 277 278 279 280 282 284 285 286 288\n",
      "\u001b[36m(run_fold pid=189455)\u001b[0m  289 291 292 294 296 297 299 300 301 303 304 306 307 308 309 311 313 314\n",
      "\u001b[36m(run_fold pid=189455)\u001b[0m  315 316 318 319 320 321 322 323 326 328 329 332 333 334 337 339 340 342\n",
      "\u001b[36m(run_fold pid=189455)\u001b[0m  343 344 345 346 347 348 350 351 353 354 355 356 357 359 360 361 362 363\n",
      "\u001b[36m(run_fold pid=189455)\u001b[0m  364 365 366 367 369 370 371 372 373 374 377 378 379 380 381 384 385 386\n",
      "\u001b[36m(run_fold pid=189455)\u001b[0m  388 389 391 392 393 394 395 396 397 398 399 400 401 402 403 404 405 406\n",
      "\u001b[36m(run_fold pid=189455)\u001b[0m  407 408 409 411 412 413 414 416 417 419 420 422 423 424 425 426 427 428\n",
      "\u001b[36m(run_fold pid=189455)\u001b[0m  430 431 432 433 434 435 437 438 439 441 442 443 445 446 447 448 449 450\n",
      "\u001b[36m(run_fold pid=189455)\u001b[0m  451 452 453 454 456 457 458 459 460 462 463 464 465 466 468 469 470 471\n",
      "\u001b[36m(run_fold pid=189455)\u001b[0m  472 473 474 475 476 477 478 479 481 483 484 486 487 488 490 492 493 495\n",
      "\u001b[36m(run_fold pid=189455)\u001b[0m  496 497 498 499 501 502 504 505 506 507 508 509 511 512 513 514 515 516\n",
      "\u001b[36m(run_fold pid=189455)\u001b[0m  517 518 519 521 522 523 525 526 527 528 529 531 532 533 535 537 538 539\n",
      "\u001b[36m(run_fold pid=189455)\u001b[0m  540 541 543 545 546 548 549 550 551 552 553 554 555 556]\n",
      "\u001b[36m(run_fold pid=189455)\u001b[0m Test indices: [  5   7  16  21  22  30  31  35  41  52  58  63  64  79  84  95 101 103\n",
      "\u001b[36m(run_fold pid=189455)\u001b[0m  112 113 118 121 124 134 140 146 148 149 152 157 165 171 177 180 192 196\n",
      "\u001b[36m(run_fold pid=189455)\u001b[0m  209 213 214 215 217 220 226 236 237 245 246 250 253 260 265 271 281 283\n",
      "\u001b[36m(run_fold pid=189455)\u001b[0m  287 290 293 295 298 302 305 310 312 317 324 325 327 330 331 335 336 338\n",
      "\u001b[36m(run_fold pid=189455)\u001b[0m  341 349 352 358 368 375 376 382 383 387 390 410 415 418 421 429 436 440\n",
      "\u001b[36m(run_fold pid=189455)\u001b[0m  444 455 461 467 480 482 485 489 491 494 500 503 510 520 524 530 534 536\n",
      "\u001b[36m(run_fold pid=189455)\u001b[0m  542 544 547]\n",
      "\u001b[36m(run_fold pid=189456)\u001b[0m   22  23  24  25  28  29  30  31  33  34  35  36  37  38  39  40  41  42\n",
      "\u001b[36m(run_fold pid=189456)\u001b[0m   43  44  45  46  47  48  50  51  52  53  54  55  58  59  60  61  62  63\n",
      "\u001b[36m(run_fold pid=189456)\u001b[0m   64  65  67  68  69  70  71  72  73  74  75  76  78  79  80  81  82  83\n",
      "\u001b[36m(run_fold pid=189456)\u001b[0m   84  85  86  89  90  91  92  93  95  96  98 100 101 103 104 105 109 110\n",
      "\u001b[36m(run_fold pid=189456)\u001b[0m  111 112 113 115 116 118 119 120 121 123 124 125 126 127 128 129 131 133\n",
      "\u001b[36m(run_fold pid=189456)\u001b[0m  134 135 136 137 138 140 141 142 143 145 146 147 148 149 150 151 152 153\n",
      "\u001b[36m(run_fold pid=189456)\u001b[0m  154 155 157 158 159 160 161 163 165 166 167 169 170 171 173 174 175 176\n",
      "\u001b[36m(run_fold pid=189456)\u001b[0m  177 178 179 180 181 182 183 184 185 186 187 188 189 192 193 194 195 196\n",
      "\u001b[36m(run_fold pid=189456)\u001b[0m  197 198 199 200 201 202 203 204 206 207 208 209 210 211 212 213 214 215\n",
      "\u001b[36m(run_fold pid=189456)\u001b[0m  217 218 219 220 221 223 224 226 227 228 229 230 231 232 233 234 235 236\n",
      "\u001b[36m(run_fold pid=189456)\u001b[0m  237 238 239 240 241 242 243 244 245 246 247 248 249 250 253 254 257 260\n",
      "\u001b[36m(run_fold pid=189456)\u001b[0m  262 263 264 265 267 268 269 270 271 272 274 275 277 278 280 281 282 283\n",
      "\u001b[36m(run_fold pid=189456)\u001b[0m  284 286 287 288 290 291 292 293 294 295 297 298 299 300 302 303 305 306\n",
      "\u001b[36m(run_fold pid=189456)\u001b[0m  307 308 310 311 312 314 316 317 319 321 322 324 325 327 330 331 332 333\n",
      "\u001b[36m(run_fold pid=189456)\u001b[0m  334 335 336 337 338 340 341 342 343 344 347 348 349 351 352 353 355 356\n",
      "\u001b[36m(run_fold pid=189456)\u001b[0m  357 358 359 360 361 362 363 365 367 368 369 370 371 372 373 374 375 376\n",
      "\u001b[36m(run_fold pid=189456)\u001b[0m  378 379 381 382 383 384 385 386 387 388 390 392 393 395 396 398 401 402\n",
      "\u001b[36m(run_fold pid=189456)\u001b[0m  403 406 407 408 410 411 412 413 414 415 418 420 421 422 423 424 425 426\n",
      "\u001b[36m(run_fold pid=189456)\u001b[0m  427 428 429 430 431 433 434 435 436 437 438 440 442 443 444 446 449 450\n",
      "\u001b[36m(run_fold pid=189456)\u001b[0m  452 453 455 457 458 459 461 462 465 466 467 468 469 470 471 472 473 474\n",
      "\u001b[36m(run_fold pid=189456)\u001b[0m  475 476 478 479 480 481 482 483 484 485 488 489 490 491 493 494 495 496\n",
      "\u001b[36m(run_fold pid=189456)\u001b[0m  497 499 500 502 503 504 505 506 507 508 509 510 511 512 513 514 515 516\n",
      "\u001b[36m(run_fold pid=189456)\u001b[0m  517 518 519 520 523 524 525 526 528 529 530 531 533 534 535 536 539 540\n",
      "\u001b[36m(run_fold pid=189456)\u001b[0m  541 542 543 544 545 546 547 549 550 551 552 553 555 556]\n",
      "\u001b[36m(run_fold pid=189456)\u001b[0m  106 107 108 114 117 122 130 132 139 144 156 162 164 168 172 190 191 205\n",
      "\u001b[36m(run_fold pid=189456)\u001b[0m  216 222 225 251 252 255 256 258 259 261 266 273 276 279 285 289 296 301\n",
      "\u001b[36m(run_fold pid=189456)\u001b[0m  304 309 313 315 318 320 323 326 328 329 339 345 346 350 354 364 366 377\n",
      "\u001b[36m(run_fold pid=189456)\u001b[0m  380 389 391 394 397 399 400 404 405 409 416 417 419 432 439 441 445 447\n",
      "\u001b[36m(run_fold pid=189456)\u001b[0m  448 451 454 456 460 463 464 477 486 487 492 498 501 521 522 527 532 537\n",
      "\u001b[36m(run_fold pid=189456)\u001b[0m  538 548 554]\n",
      "\u001b[36m(run_fold pid=189447)\u001b[0m   23  24  25  26  27  28  29  30  31  32  34  35  36  38  39  40  41  42\n",
      "\u001b[36m(run_fold pid=189447)\u001b[0m   43  44  45  48  49  50  52  53  54  55  56  57  58  59  60  61  62  63\n",
      "\u001b[36m(run_fold pid=189447)\u001b[0m   64  66  67  68  69  70  72  73  74  75  76  77  78  79  82  84  85  86\n",
      "\u001b[36m(run_fold pid=189447)\u001b[0m   87  88  90  92  94  95  97  99 101 102 103 104 106 107 108 110 112 113\n",
      "\u001b[36m(run_fold pid=189447)\u001b[0m  114 115 117 118 121 122 124 125 126 127 129 130 131 132 133 134 135 136\n",
      "\u001b[36m(run_fold pid=189447)\u001b[0m  138 139 140 142 143 144 145 146 148 149 151 152 153 154 156 157 158 160\n",
      "\u001b[36m(run_fold pid=189447)\u001b[0m  161 162 163 164 165 166 167 168 170 171 172 174 175 176 177 178 180 181\n",
      "\u001b[36m(run_fold pid=189447)\u001b[0m  183 184 185 188 189 190 191 192 193 194 195 196 197 200 201 202 204 205\n",
      "\u001b[36m(run_fold pid=189447)\u001b[0m  206 208 209 211 212 213 214 215 216 217 219 220 221 222 223 224 225 226\n",
      "\u001b[36m(run_fold pid=189447)\u001b[0m  228 229 230 232 233 234 236 237 238 239 240 241 242 244 245 246 248 249\n",
      "\u001b[36m(run_fold pid=189447)\u001b[0m  250 251 252 253 255 256 258 259 260 261 262 263 264 265 266 267 269 270\n",
      "\u001b[36m(run_fold pid=189447)\u001b[0m  271 273 274 276 278 279 281 282 283 284 285 286 287 288 289 290 291 292\n",
      "\u001b[36m(run_fold pid=189447)\u001b[0m  293 294 295 296 297 298 299 300 301 302 303 304 305 306 307 308 309 310\n",
      "\u001b[36m(run_fold pid=189447)\u001b[0m  312 313 315 316 317 318 320 321 323 324 325 326 327 328 329 330 331 332\n",
      "\u001b[36m(run_fold pid=189447)\u001b[0m  333 335 336 338 339 341 342 343 344 345 346 347 348 349 350 352 353 354\n",
      "\u001b[36m(run_fold pid=189447)\u001b[0m  356 358 359 361 363 364 365 366 367 368 369 370 371 372 373 374 375 376\n",
      "\u001b[36m(run_fold pid=189447)\u001b[0m  377 378 379 380 382 383 384 385 387 388 389 390 391 393 394 396 397 399\n",
      "\u001b[36m(run_fold pid=189447)\u001b[0m  400 402 403 404 405 406 407 408 409 410 411 412 414 415 416 417 418 419\n",
      "\u001b[36m(run_fold pid=189447)\u001b[0m  420 421 423 424 425 426 428 429 431 432 433 434 435 436 439 440 441 444\n",
      "\u001b[36m(run_fold pid=189447)\u001b[0m  445 446 447 448 449 451 454 455 456 457 458 459 460 461 462 463 464 465\n",
      "\u001b[36m(run_fold pid=189447)\u001b[0m  466 467 468 471 473 474 475 477 480 481 482 484 485 486 487 488 489 490\n",
      "\u001b[36m(run_fold pid=189447)\u001b[0m  491 492 493 494 497 498 500 501 502 503 504 506 508 509 510 511 514 516\n",
      "\u001b[36m(run_fold pid=189447)\u001b[0m  517 519 520 521 522 523 524 526 527 529 530 531 532 534 536 537 538 539\n",
      "\u001b[36m(run_fold pid=189447)\u001b[0m  540 541 542 543 544 545 547 548 550 551 552 553 554 556]\n",
      "\u001b[36m(run_fold pid=189447)\u001b[0m   96  98 100 105 109 111 116 119 120 123 128 137 141 147 150 155 159 169\n",
      "\u001b[36m(run_fold pid=189447)\u001b[0m  173 179 182 186 187 198 199 203 207 210 218 227 231 235 243 247 254 257\n",
      "\u001b[36m(run_fold pid=189447)\u001b[0m  268 272 275 277 280 311 314 319 322 334 337 340 351 355 357 360 362 381\n",
      "\u001b[36m(run_fold pid=189447)\u001b[0m  386 392 395 398 401 413 422 427 430 437 438 442 443 450 452 453 469 470\n",
      "\u001b[36m(run_fold pid=189447)\u001b[0m  472 476 478 479 483 495 496 499 505 507 512 513 515 518 525 528 533 535\n",
      "\u001b[36m(run_fold pid=189447)\u001b[0m  546 549 555]\n",
      "\u001b[36m(run_fold pid=189437)\u001b[0m   22  23  26  27  28  29  30  31  32  33  35  36  37  38  41  43  45  46\n",
      "\u001b[36m(run_fold pid=189437)\u001b[0m   47  49  50  51  52  55  56  57  58  60  61  62  63  64  65  66  67  69\n",
      "\u001b[36m(run_fold pid=189437)\u001b[0m   70  71  72  73  74  75  76  77  78  79  80  81  82  83  84  85  87  88\n",
      "\u001b[36m(run_fold pid=189437)\u001b[0m   89  90  91  92  93  94  95  96  97  98  99 100 101 102 103 104 105 106\n",
      "\u001b[36m(run_fold pid=189437)\u001b[0m  107 108 109 111 112 113 114 116 117 118 119 120 121 122 123 124 125 127\n",
      "\u001b[36m(run_fold pid=189437)\u001b[0m  128 129 130 132 134 135 136 137 138 139 140 141 143 144 145 146 147 148\n",
      "\u001b[36m(run_fold pid=189437)\u001b[0m  149 150 152 153 155 156 157 158 159 160 161 162 163 164 165 167 168 169\n",
      "\u001b[36m(run_fold pid=189437)\u001b[0m  170 171 172 173 174 176 177 178 179 180 181 182 184 186 187 188 190 191\n",
      "\u001b[36m(run_fold pid=189437)\u001b[0m  192 193 194 196 198 199 201 203 205 207 209 210 213 214 215 216 217 218\n",
      "\u001b[36m(run_fold pid=189437)\u001b[0m  220 221 222 225 226 227 229 231 233 235 236 237 238 239 243 244 245 246\n",
      "\u001b[36m(run_fold pid=189437)\u001b[0m  247 249 250 251 252 253 254 255 256 257 258 259 260 261 262 265 266 267\n",
      "\u001b[36m(run_fold pid=189437)\u001b[0m  268 269 271 272 273 274 275 276 277 279 280 281 283 285 286 287 289 290\n",
      "\u001b[36m(run_fold pid=189437)\u001b[0m  292 293 295 296 298 299 301 302 303 304 305 309 310 311 312 313 314 315\n",
      "\u001b[36m(run_fold pid=189437)\u001b[0m  317 318 319 320 322 323 324 325 326 327 328 329 330 331 334 335 336 337\n",
      "\u001b[36m(run_fold pid=189437)\u001b[0m  338 339 340 341 345 346 349 350 351 352 354 355 357 358 360 361 362 363\n",
      "\u001b[36m(run_fold pid=189437)\u001b[0m  364 365 366 368 370 371 372 375 376 377 378 379 380 381 382 383 385 386\n",
      "\u001b[36m(run_fold pid=189437)\u001b[0m  387 389 390 391 392 393 394 395 396 397 398 399 400 401 403 404 405 406\n",
      "\u001b[36m(run_fold pid=189437)\u001b[0m  407 408 409 410 412 413 414 415 416 417 418 419 421 422 424 427 428 429\n",
      "\u001b[36m(run_fold pid=189437)\u001b[0m  430 431 432 433 435 436 437 438 439 440 441 442 443 444 445 447 448 450\n",
      "\u001b[36m(run_fold pid=189437)\u001b[0m  451 452 453 454 455 456 459 460 461 463 464 466 467 468 469 470 471 472\n",
      "\u001b[36m(run_fold pid=189437)\u001b[0m  473 475 476 477 478 479 480 481 482 483 484 485 486 487 488 489 490 491\n",
      "\u001b[36m(run_fold pid=189437)\u001b[0m  492 494 495 496 498 499 500 501 502 503 504 505 507 510 512 513 515 517\n",
      "\u001b[36m(run_fold pid=189437)\u001b[0m  518 519 520 521 522 523 524 525 527 528 530 532 533 534 535 536 537 538\n",
      "\u001b[36m(run_fold pid=189437)\u001b[0m  542 543 544 545 546 547 548 549 551 552 554 555 556]\n",
      "\u001b[36m(run_fold pid=189437)\u001b[0m  115 126 131 133 142 151 154 166 175 183 185 189 195 197 200 202 204 206\n",
      "\u001b[36m(run_fold pid=189437)\u001b[0m  208 211 212 219 223 224 228 230 232 234 240 241 242 248 263 264 270 278\n",
      "\u001b[36m(run_fold pid=189437)\u001b[0m  282 284 288 291 294 297 300 306 307 308 316 321 332 333 342 343 344 347\n",
      "\u001b[36m(run_fold pid=189437)\u001b[0m  348 353 356 359 367 369 373 374 384 388 402 411 420 423 425 426 434 446\n",
      "\u001b[36m(run_fold pid=189437)\u001b[0m  449 457 458 462 465 474 493 497 506 508 509 511 514 516 526 529 531 539\n",
      "\u001b[36m(run_fold pid=189437)\u001b[0m  540 541 550 553]\n",
      "\u001b[36m(run_fold pid=189451)\u001b[0m   24  25  26  27  30  31  32  33  34  35  37  39  40  41  42  44  46  47\n",
      "\u001b[36m(run_fold pid=189451)\u001b[0m   48  49  51  52  53  54  56  57  58  59  63  64  65  66  68  71  77  79\n",
      "\u001b[36m(run_fold pid=189451)\u001b[0m   80  81  83  84  86  87  88  89  91  93  94  95  96  97  98  99 100 101\n",
      "\u001b[36m(run_fold pid=189451)\u001b[0m  102 103 105 106 107 108 109 110 111 112 113 114 115 116 117 118 119 120\n",
      "\u001b[36m(run_fold pid=189451)\u001b[0m  121 122 123 124 126 128 130 131 132 133 134 137 139 140 141 142 144 146\n",
      "\u001b[36m(run_fold pid=189451)\u001b[0m  147 148 149 150 151 152 154 155 156 157 159 162 164 165 166 168 169 171\n",
      "\u001b[36m(run_fold pid=189451)\u001b[0m  172 173 175 177 179 180 182 183 185 186 187 189 190 191 192 195 196 197\n",
      "\u001b[36m(run_fold pid=189451)\u001b[0m  198 199 200 202 203 204 205 206 207 208 209 210 211 212 213 214 215 216\n",
      "\u001b[36m(run_fold pid=189451)\u001b[0m  217 218 219 220 222 223 224 225 226 227 228 230 231 232 234 235 236 237\n",
      "\u001b[36m(run_fold pid=189451)\u001b[0m  240 241 242 243 245 246 247 248 250 251 252 253 254 255 256 257 258 259\n",
      "\u001b[36m(run_fold pid=189451)\u001b[0m  260 261 263 264 265 266 268 270 271 272 273 275 276 277 278 279 280 281\n",
      "\u001b[36m(run_fold pid=189451)\u001b[0m  282 283 284 285 287 288 289 290 291 293 294 295 296 297 298 300 301 302\n",
      "\u001b[36m(run_fold pid=189451)\u001b[0m  304 305 306 307 308 309 310 311 312 313 314 315 316 317 318 319 320 321\n",
      "\u001b[36m(run_fold pid=189451)\u001b[0m  322 323 324 325 326 327 328 329 330 331 332 333 334 335 336 337 338 339\n",
      "\u001b[36m(run_fold pid=189451)\u001b[0m  340 341 342 343 344 345 346 347 348 349 350 351 352 353 354 355 356 357\n",
      "\u001b[36m(run_fold pid=189451)\u001b[0m  358 359 360 362 364 366 367 368 369 373 374 375 376 377 380 381 382 383\n",
      "\u001b[36m(run_fold pid=189451)\u001b[0m  384 386 387 388 389 390 391 392 394 395 397 398 399 400 401 402 404 405\n",
      "\u001b[36m(run_fold pid=189451)\u001b[0m  409 410 411 413 415 416 417 418 419 420 421 422 423 425 426 427 429 430\n",
      "\u001b[36m(run_fold pid=189451)\u001b[0m  432 434 436 437 438 439 440 441 442 443 444 445 446 447 448 449 450 451\n",
      "\u001b[36m(run_fold pid=189451)\u001b[0m  452 453 454 455 456 457 458 460 461 462 463 464 465 467 469 470 472 474\n",
      "\u001b[36m(run_fold pid=189451)\u001b[0m  476 477 478 479 480 482 483 485 486 487 489 491 492 493 494 495 496 497\n",
      "\u001b[36m(run_fold pid=189451)\u001b[0m  498 499 500 501 503 505 506 507 508 509 510 511 512 513 514 515 516 518\n",
      "\u001b[36m(run_fold pid=189451)\u001b[0m  520 521 522 524 525 526 527 528 529 530 531 532 533 534 535 536 537 538\n",
      "\u001b[36m(run_fold pid=189451)\u001b[0m  539 540 541 542 544 546 547 548 549 550 553 554 555]\n",
      "\u001b[36m(run_fold pid=189451)\u001b[0m   69  70  72  73  74  75  76  78  82  85  90  92 104 125 127 129 135 136\n",
      "\u001b[36m(run_fold pid=189451)\u001b[0m  138 143 145 153 158 160 161 163 167 170 174 176 178 181 184 188 193 194\n",
      "\u001b[36m(run_fold pid=189451)\u001b[0m  201 221 229 233 238 239 244 249 262 267 269 274 286 292 299 303 361 363\n",
      "\u001b[36m(run_fold pid=189451)\u001b[0m  365 370 371 372 378 379 385 393 396 403 406 407 408 412 414 424 428 431\n",
      "\u001b[36m(run_fold pid=189451)\u001b[0m  433 435 459 466 468 471 473 475 481 484 488 490 502 504 517 519 523 543\n",
      "\u001b[36m(run_fold pid=189451)\u001b[0m  545 551 552 556]\n"
     ]
    },
    {
     "name": "stderr",
     "output_type": "stream",
     "text": [
      "Processing:   0%|          | 0/4 [00:00<?, ?it/s]\n"
     ]
    },
    {
     "name": "stdout",
     "output_type": "stream",
     "text": [
      "\u001b[36m(run_fold pid=189456)\u001b[0m Configuring PyCaret for outer fold 3\n",
      "\u001b[36m(run_fold pid=189437)\u001b[0m Outer fold 2\u001b[32m [repeated 4x across cluster] (Ray deduplicates logs by default. Set RAY_DEDUP_LOGS=0 to disable log deduplication, or see https://docs.ray.io/en/master/ray-observability/user-guides/configure-logging.html#log-deduplication for more options.)\u001b[0m\n",
      "\u001b[36m(run_fold pid=189451)\u001b[0m Train indices: [  0   3   5   6   7   8   9  10  11  12  13  15  16  18  19  20  21  22\u001b[32m [repeated 4x across cluster]\u001b[0m\n",
      "\u001b[36m(run_fold pid=189451)\u001b[0m Test indices: [  1   2   4  14  17  23  28  29  36  38  43  45  50  55  60  61  62  67\u001b[32m [repeated 4x across cluster]\u001b[0m\n"
     ]
    },
    {
     "name": "stderr",
     "output_type": "stream",
     "text": [
      "Processing:  25%|██▌       | 1/4 [00:00<00:01,  1.87it/s]\n",
      "Processing:   0%|          | 0/4 [00:00<?, ?it/s]\u001b[32m [repeated 4x across cluster]\u001b[0m\n",
      "Processing:  75%|███████▌  | 3/4 [00:23<00:08,  8.47s/it]\u001b[32m [repeated 5x across cluster]\u001b[0m\n"
     ]
    },
    {
     "name": "stdout",
     "output_type": "stream",
     "text": [
      "\u001b[36m(run_fold pid=189447)\u001b[0m       Accuracy     AUC  Recall   Prec.      F1   Kappa     MCC\n",
      "\u001b[36m(run_fold pid=189447)\u001b[0m Fold                                                          \n",
      "\u001b[36m(run_fold pid=189447)\u001b[0m 0       0.9722  0.8744     1.0  0.9718  0.9857  0.4894  0.5692\n",
      "\u001b[36m(run_fold pid=189447)\u001b[0m 1       0.9437  0.8909     1.0  0.9429  0.9706  0.3173  0.4342\n",
      "\u001b[36m(run_fold pid=189447)\u001b[0m 2       0.9296  0.7212     1.0  0.9296  0.9635  0.0000  0.0000\n",
      "\u001b[36m(run_fold pid=189447)\u001b[0m 3       0.9577  0.7091     1.0  0.9565  0.9778  0.5535  0.6186\n",
      "\u001b[36m(run_fold pid=189447)\u001b[0m 4       0.9437  0.7424     1.0  0.9429  0.9706  0.3173  0.4342\n",
      "\u001b[36m(run_fold pid=189447)\u001b[0m Mean    0.9494  0.7876     1.0  0.9487  0.9736  0.3355  0.4112\n",
      "\u001b[36m(run_fold pid=189447)\u001b[0m Std     0.0145  0.0785     0.0  0.0144  0.0075  0.1920  0.2182\n",
      "\u001b[36m(run_fold pid=189455)\u001b[0m Configuring PyCaret for outer fold 4\u001b[32m [repeated 4x across cluster]\u001b[0m\n"
     ]
    },
    {
     "name": "stderr",
     "output_type": "stream",
     "text": [
      "                                                         \n"
     ]
    },
    {
     "name": "stdout",
     "output_type": "stream",
     "text": [
      "\u001b[36m(run_fold pid=189456)\u001b[0m 0       0.9583  0.7391     1.0  0.9583  0.9787  0.0000  0.0000\n",
      "\u001b[36m(run_fold pid=189456)\u001b[0m 1       0.9577  0.6667     1.0  0.9565  0.9778  0.5535  0.6186\n",
      "\u001b[36m(run_fold pid=189456)\u001b[0m 2       0.9437  0.7909     1.0  0.9429  0.9706  0.3173  0.4342\n",
      "\u001b[36m(run_fold pid=189456)\u001b[0m 3       0.9437  0.6424     1.0  0.9429  0.9706  0.3173  0.4342\n",
      "\u001b[36m(run_fold pid=189456)\u001b[0m 4       0.9577  0.7788     1.0  0.9565  0.9778  0.5535  0.6186\n",
      "\u001b[36m(run_fold pid=189447)\u001b[0m Tuning hyperparameters for model xgboost with custom grid using grid search\n",
      "\u001b[36m(run_fold pid=189455)\u001b[0m 0       0.9722  0.8164     1.0  0.9718  0.9857  0.4894  0.5692\n",
      "\u001b[36m(run_fold pid=189455)\u001b[0m 1       0.9437  0.7333     1.0  0.9429  0.9706  0.3173  0.4342\n",
      "\u001b[36m(run_fold pid=189455)\u001b[0m 2       0.9577  0.8030     1.0  0.9565  0.9778  0.5535  0.6186\n",
      "\u001b[36m(run_fold pid=189455)\u001b[0m 3       0.9296  0.8000     1.0  0.9296  0.9635  0.0000  0.0000\n",
      "\u001b[36m(run_fold pid=189455)\u001b[0m 4       0.9437  0.9818     1.0  0.9429  0.9706  0.3173  0.4342\n",
      "\u001b[36m(run_fold pid=189437)\u001b[0m 0       0.9583  0.8599     1.0  0.9583  0.9787  0.0000  0.0000\n",
      "\u001b[36m(run_fold pid=189437)\u001b[0m 1       0.9296  0.6872     1.0  0.9286  0.9630  0.2680  0.3934\n",
      "\u001b[36m(run_fold pid=189437)\u001b[0m 2       0.9296  0.5091     1.0  0.9296  0.9635  0.0000  0.0000\n",
      "\u001b[36m(run_fold pid=189437)\u001b[0m 3       0.9437  0.6194     1.0  0.9437  0.9710  0.0000  0.0000\n",
      "\u001b[36m(run_fold pid=189437)\u001b[0m 4       0.9577  0.8545     1.0  0.9571  0.9781  0.3862  0.4892\n",
      "\u001b[36m(run_fold pid=189451)\u001b[0m 0       0.9722  0.8551     1.0  0.9718  0.9857  0.4894  0.5692\n",
      "\u001b[36m(run_fold pid=189451)\u001b[0m 1       0.9437  0.7030     1.0  0.9429  0.9706  0.3173  0.4342\n",
      "\u001b[36m(run_fold pid=189451)\u001b[0m 2       0.9437  0.9242     1.0  0.9429  0.9706  0.3173  0.4342\n",
      "\u001b[36m(run_fold pid=189451)\u001b[0m 3       0.9577  0.8394     1.0  0.9565  0.9778  0.5535  0.6186\n",
      "\u001b[36m(run_fold pid=189451)\u001b[0m 4       0.9437  0.5455     1.0  0.9429  0.9706  0.3173  0.4342\n"
     ]
    },
    {
     "name": "stderr",
     "output_type": "stream",
     "text": [
      "Processing:  75%|███████▌  | 3/4 [00:24<00:08,  8.84s/it]\u001b[32m [repeated 4x across cluster]\u001b[0m\n"
     ]
    },
    {
     "name": "stdout",
     "output_type": "stream",
     "text": [
      "\u001b[36m(run_fold pid=189456)\u001b[0m Transformation Pipeline and Model Successfully Saved\n",
      "\u001b[36m(run_fold pid=189451)\u001b[0m       Accuracy     AUC  Recall   Prec.      F1   Kappa     MCC\u001b[32m [repeated 4x across cluster]\u001b[0m\n",
      "\u001b[36m(run_fold pid=189451)\u001b[0m Fold                                                          \u001b[32m [repeated 4x across cluster]\u001b[0m\n",
      "\u001b[36m(run_fold pid=189451)\u001b[0m Mean    0.9522  0.7734     1.0  0.9514  0.9751  0.3989  0.4981\u001b[32m [repeated 4x across cluster]\u001b[0m\n",
      "\u001b[36m(run_fold pid=189451)\u001b[0m Std     0.0114  0.1347     0.0  0.0115  0.0060  0.1020  0.0797\u001b[32m [repeated 4x across cluster]\u001b[0m\n",
      "\u001b[36m(run_fold pid=189451)\u001b[0m Tuning hyperparameters for model xgboost with custom grid using grid search\u001b[32m [repeated 4x across cluster]\u001b[0m\n",
      "\u001b[36m(run_fold pid=189456)\u001b[0m                        Model  Accuracy     AUC  ...      F1   Kappa     MCC\n",
      "\u001b[36m(run_fold pid=189456)\u001b[0m 0  Extreme Gradient Boosting     0.955  0.7788  ...  0.9765  0.4284  0.5221\n",
      "\u001b[36m(run_fold pid=189456)\u001b[0m \n",
      "\u001b[36m(run_fold pid=189456)\u001b[0m [1 rows x 8 columns]\n",
      "\u001b[36m(run_fold pid=189455)\u001b[0m Transformation Pipeline and Model Successfully Saved\n",
      "\u001b[36m(run_fold pid=189455)\u001b[0m                        Model  Accuracy     AUC  ...     F1  Kappa     MCC\n",
      "\u001b[36m(run_fold pid=189455)\u001b[0m 0  Extreme Gradient Boosting    0.9459  0.8104  ...  0.972  0.238  0.3675\n",
      "\u001b[36m(run_fold pid=189455)\u001b[0m \n",
      "\u001b[36m(run_fold pid=189455)\u001b[0m [1 rows x 8 columns]\n",
      "\u001b[36m(run_fold pid=189451)\u001b[0m Transformation Pipeline and Model Successfully Saved\n",
      "\u001b[36m(run_fold pid=189451)\u001b[0m                        Model  Accuracy     AUC  ...      F1  Kappa  MCC\n",
      "\u001b[36m(run_fold pid=189451)\u001b[0m 0  Extreme Gradient Boosting    0.9375  0.6721  ...  0.9677    0.0  0.0\n",
      "\u001b[36m(run_fold pid=189451)\u001b[0m \n",
      "\u001b[36m(run_fold pid=189451)\u001b[0m [1 rows x 8 columns]\n",
      "\u001b[36m(run_fold pid=189447)\u001b[0m Transformation Pipeline and Model Successfully Saved\n",
      "\u001b[36m(run_fold pid=189447)\u001b[0m \n",
      "\u001b[36m(run_fold pid=189447)\u001b[0m                        Model  Accuracy     AUC  ...      F1   Kappa     MCC\n",
      "\u001b[36m(run_fold pid=189447)\u001b[0m 0  Extreme Gradient Boosting     0.955  0.6745  ...  0.9765  0.4284  0.5221\n",
      "\u001b[36m(run_fold pid=189447)\u001b[0m [1 rows x 8 columns]\n",
      "\u001b[36m(run_fold pid=189437)\u001b[0m Transformation Pipeline and Model Successfully Saved\n",
      "\u001b[36m(run_fold pid=189437)\u001b[0m                        Model  Accuracy     AUC  ...      F1  Kappa     MCC\n",
      "\u001b[36m(run_fold pid=189437)\u001b[0m 0  Extreme Gradient Boosting    0.9554  0.7728  ...  0.9765  0.527  0.5982\n",
      "\u001b[36m(run_fold pid=189437)\u001b[0m \n",
      "\u001b[36m(run_fold pid=189437)\u001b[0m [1 rows x 8 columns]\n",
      "Final metrics table:\n",
      "     Metric     Mean   Std Dev\n",
      "0  Accuracy  0.96386  0.007613\n",
      "1       AUC  0.83672  0.100158\n",
      "2    Recall  0.99710  0.006485\n",
      "3     Prec.  0.96632  0.007323\n",
      "4        F1  0.98144  0.003891\n",
      "5     Kappa  0.27162  0.251995\n",
      "6       MCC  0.30522  0.288311\n",
      "Best hyperparameters across all folds: objective                  binary:logistic\n",
      "base_score                             NaN\n",
      "booster                             gbtree\n",
      "callbacks                              NaN\n",
      "colsample_bylevel                      NaN\n",
      "colsample_bynode                       NaN\n",
      "colsample_bytree                       NaN\n",
      "device                                 cpu\n",
      "early_stopping_rounds                  NaN\n",
      "enable_categorical                   False\n",
      "eval_metric                            NaN\n",
      "feature_types                          NaN\n",
      "gamma                                  NaN\n",
      "grow_policy                            NaN\n",
      "importance_type                        NaN\n",
      "interaction_constraints                NaN\n",
      "learning_rate                         0.05\n",
      "max_bin                                NaN\n",
      "max_cat_threshold                      NaN\n",
      "max_cat_to_onehot                      NaN\n",
      "max_delta_step                         NaN\n",
      "max_depth                                5\n",
      "max_leaves                             NaN\n",
      "min_child_weight                       NaN\n",
      "missing                                NaN\n",
      "monotone_constraints                   NaN\n",
      "multi_strategy                         NaN\n",
      "n_estimators                           200\n",
      "n_jobs                                   1\n",
      "num_parallel_tree                      NaN\n",
      "random_state                            42\n",
      "reg_alpha                              NaN\n",
      "reg_lambda                             NaN\n",
      "sampling_method                        NaN\n",
      "scale_pos_weight                       NaN\n",
      "subsample                              NaN\n",
      "tree_method                           auto\n",
      "validate_parameters                    NaN\n",
      "verbosity                                0\n",
      "Name: 0, dtype: object\n"
     ]
    },
    {
     "name": "stderr",
     "output_type": "stream",
     "text": [
      "                                                         \u001b[32m [repeated 4x across cluster]\u001b[0m\n"
     ]
    }
   ],
   "source": [
    "# Initialize the PyCaret Evaluator\n",
    "evaluator = PyCaretEvaluator(dataset=dataset, target=\"Fracture\", experiment_name=\"CP_Fracture\", filepath=\"./results/fracture\")\n",
    "\n",
    "evaluator.run_experiment(\n",
    "    train_size=0.8,\n",
    "    fold=5,\n",
    "    fold_strategy='kfold',\n",
    "    outer_fold=5,\n",
    "    outer_strategy='stratifiedkfold',\n",
    "    session_id=42,\n",
    "    model='xgboost',\n",
    "    optimize='AUC',\n",
    "    custom_grid=grid_hps,  # Grid d'hyperparamètres\n",
    "    fixed_params=fixed_params # Paramètres fixes\n",
    ")"
   ]
  }
 ],
 "metadata": {
  "kernelspec": {
   "display_name": "Python (pycaret_env)",
   "language": "python",
   "name": "pycaret_env"
  },
  "language_info": {
   "codemirror_mode": {
    "name": "ipython",
    "version": 3
   },
   "file_extension": ".py",
   "mimetype": "text/x-python",
   "name": "python",
   "nbconvert_exporter": "python",
   "pygments_lexer": "ipython3",
   "version": "3.11.9"
  }
 },
 "nbformat": 4,
 "nbformat_minor": 5
}
