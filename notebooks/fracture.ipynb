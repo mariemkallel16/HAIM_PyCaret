{
 "cells": [
  {
   "cell_type": "markdown",
   "id": "c4139f23",
   "metadata": {},
   "source": [
    "# Pathology prediction (fracture)\n",
    "\n",
    "@References : Soenksen, L.R., Ma, Y., Zeng, C. et al. Integrated multimodal artificial intelligence framework for healthcare applications. npj Digit. Med. 5, 149 (2022). https://doi.org/10.1038/s41746-022-00689-4\n",
    "\n",
    "In this notebook, the task is to predict the fracture pathology using the CSV embeddings file"
   ]
  },
  {
   "cell_type": "markdown",
   "id": "8e9e247e",
   "metadata": {},
   "source": [
    "## Introduction\n"
   ]
  },
  {
   "attachments": {},
   "cell_type": "markdown",
   "id": "321d5924",
   "metadata": {},
   "source": [
    "Radiology notes were processed to determine if each of the pathologies was explicitly confirmed as present (value = 1), explicitly confirmed as absent (value = 0), inconclusive in the study (value = −1), or not explored (no value).\n",
    "\n",
    "Selected samples :  0 or 1 values (removing the rest from the training and testing data).\n",
    "\n",
    "Excluded variables : the unstructured radiology notes component (E_rad ) from the allowable input to avoid potential overfitting or misrepresentations of real predictive value. \n",
    "\n",
    "The model is based on binary classification for each target chest pathology.\n",
    "\n",
    "Final sample size for the fracture pathology is : (N = 557)"
   ]
  },
  {
   "cell_type": "markdown",
   "id": "59600fd4",
   "metadata": {},
   "source": [
    "#### Imports"
   ]
  },
  {
   "cell_type": "code",
   "execution_count": 1,
   "id": "2d0990d5",
   "metadata": {},
   "outputs": [],
   "source": [
    "import os\n",
    "os.chdir('../')\n",
    "\n",
    "from pandas import read_csv\n",
    "\n",
    "from src.data import constants\n",
    "from src.data.dataset import HAIMDataset\n",
    "from src.evaluation.pycaret_evaluator import PyCaretEvaluator\n",
    "from src.utils.metric_scores import *"
   ]
  },
  {
   "cell_type": "markdown",
   "id": "645a1fe8",
   "metadata": {},
   "source": [
    "#### Read data from local source\n",
    "\n"
   ]
  },
  {
   "cell_type": "code",
   "execution_count": 2,
   "id": "a948c18c",
   "metadata": {},
   "outputs": [],
   "source": [
    "df = read_csv(constants.FILE_DF, nrows=constants.N_DATA)"
   ]
  },
  {
   "cell_type": "markdown",
   "id": "90a95053",
   "metadata": {},
   "source": [
    "#### Create a custom dataset for the HAIM experiment\n"
   ]
  },
  {
   "cell_type": "markdown",
   "id": "a47ba159",
   "metadata": {},
   "source": [
    "Build the target column for the task at hand, set the dataset specificities:  the ``haim_id`` as a ``global_id``, use all sources except ``radiology notes`` "
   ]
  },
  {
   "cell_type": "code",
   "execution_count": 3,
   "id": "239db8a3",
   "metadata": {},
   "outputs": [],
   "source": [
    "dataset = HAIMDataset(df,  \n",
    "                      constants.CHEST_PREDICTORS, \n",
    "                      constants.ALL_MODALITIES, \n",
    "                      constants.FRACTURE, \n",
    "                      constants.IMG_ID, \n",
    "                      constants.GLOBAL_ID)"
   ]
  },
  {
   "cell_type": "markdown",
   "id": "e280f91d",
   "metadata": {},
   "source": [
    "#### Set hyper-parameters"
   ]
  },
  {
   "cell_type": "code",
   "execution_count": 4,
   "id": "8d254fef",
   "metadata": {},
   "outputs": [],
   "source": [
    "# Define the grid oh hyper-parameters for the tuning\n",
    "grid_hps = {'max_depth': [5, 6, 7, 8],\n",
    "            'n_estimators': [200, 300],\n",
    "            'learning_rate': [0.3, 0.1, 0.05],\n",
    "            }\n",
    "# Fixed parameters to pass\n",
    "fixed_params = {\n",
    "    'seed': 42,\n",
    "    'eval_metric': 'logloss',\n",
    "    'verbosity': 0\n",
    "}"
   ]
  },
  {
   "cell_type": "markdown",
   "id": "75fd10ab",
   "metadata": {},
   "source": [
    "### Model training and predictions using an XGBClassifier model with GridSearchCV and Hyperparameters optimization\n"
   ]
  },
  {
   "cell_type": "markdown",
   "id": "d04a4c63",
   "metadata": {},
   "source": [
    "The goal of this section of the notebook is to compute the following metrics:\n",
    "\n",
    "``ACCURACY_SCORE, BALANCED_ACCURACY_SCORE, SENSITIVITY, SPECIFICITY, AUC, BRIER SCORE, BINARY CROSS-ENTROPY``\n",
    "\n",
    "\n",
    "The\n",
    "hyperparameter combinations of individual XGBoost models were\n",
    "selected within each training loop using a ``fivefold cross-validated\n",
    "grid search`` on the training set (80%). This XGBoost ``tuning process``\n",
    "selected the ``maximum depth of the trees (5–8)``, the number of\n",
    "``estimators (200 or 300)``, and the ``learning rate (0.05, 0.1, 0.3)``\n",
    "according to the parameter value combination leading to the\n",
    "highest observed AUROC within the training loop \n",
    "\n",
    "\n",
    "As mentioned previously, all XGBoost models were trained ``five times with five different data splits`` to repeat the\n",
    "experiments and compute average metrics \n",
    "\n",
    "\n",
    "```Refer to page 8 of study``` : https://doi.org/10.1038/s41746-022-00689-4"
   ]
  },
  {
   "cell_type": "code",
   "execution_count": 6,
   "id": "726c2332",
   "metadata": {},
   "outputs": [
    {
     "name": "stdout",
     "output_type": "stream",
     "text": [
      "Outer fold 1/5\n",
      "Configuring PyCaret for outer fold 1\n"
     ]
    },
    {
     "data": {
      "text/html": [],
      "text/plain": [
       "<IPython.core.display.HTML object>"
      ]
     },
     "metadata": {},
     "output_type": "display_data"
    },
    {
     "data": {
      "text/html": [
       "<style type=\"text/css\">\n",
       "#T_9dc40_row5_col0, #T_9dc40_row5_col1, #T_9dc40_row5_col2, #T_9dc40_row5_col3, #T_9dc40_row5_col4, #T_9dc40_row5_col5, #T_9dc40_row5_col6 {\n",
       "  background: yellow;\n",
       "}\n",
       "</style>\n",
       "<table id=\"T_9dc40\">\n",
       "  <thead>\n",
       "    <tr>\n",
       "      <th class=\"blank level0\" >&nbsp;</th>\n",
       "      <th id=\"T_9dc40_level0_col0\" class=\"col_heading level0 col0\" >Accuracy</th>\n",
       "      <th id=\"T_9dc40_level0_col1\" class=\"col_heading level0 col1\" >AUC</th>\n",
       "      <th id=\"T_9dc40_level0_col2\" class=\"col_heading level0 col2\" >Recall</th>\n",
       "      <th id=\"T_9dc40_level0_col3\" class=\"col_heading level0 col3\" >Prec.</th>\n",
       "      <th id=\"T_9dc40_level0_col4\" class=\"col_heading level0 col4\" >F1</th>\n",
       "      <th id=\"T_9dc40_level0_col5\" class=\"col_heading level0 col5\" >Kappa</th>\n",
       "      <th id=\"T_9dc40_level0_col6\" class=\"col_heading level0 col6\" >MCC</th>\n",
       "    </tr>\n",
       "    <tr>\n",
       "      <th class=\"index_name level0\" >Fold</th>\n",
       "      <th class=\"blank col0\" >&nbsp;</th>\n",
       "      <th class=\"blank col1\" >&nbsp;</th>\n",
       "      <th class=\"blank col2\" >&nbsp;</th>\n",
       "      <th class=\"blank col3\" >&nbsp;</th>\n",
       "      <th class=\"blank col4\" >&nbsp;</th>\n",
       "      <th class=\"blank col5\" >&nbsp;</th>\n",
       "      <th class=\"blank col6\" >&nbsp;</th>\n",
       "    </tr>\n",
       "  </thead>\n",
       "  <tbody>\n",
       "    <tr>\n",
       "      <th id=\"T_9dc40_level0_row0\" class=\"row_heading level0 row0\" >0</th>\n",
       "      <td id=\"T_9dc40_row0_col0\" class=\"data row0 col0\" >0.9722</td>\n",
       "      <td id=\"T_9dc40_row0_col1\" class=\"data row0 col1\" >0.7101</td>\n",
       "      <td id=\"T_9dc40_row0_col2\" class=\"data row0 col2\" >1.0000</td>\n",
       "      <td id=\"T_9dc40_row0_col3\" class=\"data row0 col3\" >0.9718</td>\n",
       "      <td id=\"T_9dc40_row0_col4\" class=\"data row0 col4\" >0.9857</td>\n",
       "      <td id=\"T_9dc40_row0_col5\" class=\"data row0 col5\" >0.4894</td>\n",
       "      <td id=\"T_9dc40_row0_col6\" class=\"data row0 col6\" >0.5692</td>\n",
       "    </tr>\n",
       "    <tr>\n",
       "      <th id=\"T_9dc40_level0_row1\" class=\"row_heading level0 row1\" >1</th>\n",
       "      <td id=\"T_9dc40_row1_col0\" class=\"data row1 col0\" >0.9437</td>\n",
       "      <td id=\"T_9dc40_row1_col1\" class=\"data row1 col1\" >0.7212</td>\n",
       "      <td id=\"T_9dc40_row1_col2\" class=\"data row1 col2\" >1.0000</td>\n",
       "      <td id=\"T_9dc40_row1_col3\" class=\"data row1 col3\" >0.9429</td>\n",
       "      <td id=\"T_9dc40_row1_col4\" class=\"data row1 col4\" >0.9706</td>\n",
       "      <td id=\"T_9dc40_row1_col5\" class=\"data row1 col5\" >0.3173</td>\n",
       "      <td id=\"T_9dc40_row1_col6\" class=\"data row1 col6\" >0.4342</td>\n",
       "    </tr>\n",
       "    <tr>\n",
       "      <th id=\"T_9dc40_level0_row2\" class=\"row_heading level0 row2\" >2</th>\n",
       "      <td id=\"T_9dc40_row2_col0\" class=\"data row2 col0\" >0.9437</td>\n",
       "      <td id=\"T_9dc40_row2_col1\" class=\"data row2 col1\" >0.8394</td>\n",
       "      <td id=\"T_9dc40_row2_col2\" class=\"data row2 col2\" >1.0000</td>\n",
       "      <td id=\"T_9dc40_row2_col3\" class=\"data row2 col3\" >0.9429</td>\n",
       "      <td id=\"T_9dc40_row2_col4\" class=\"data row2 col4\" >0.9706</td>\n",
       "      <td id=\"T_9dc40_row2_col5\" class=\"data row2 col5\" >0.3173</td>\n",
       "      <td id=\"T_9dc40_row2_col6\" class=\"data row2 col6\" >0.4342</td>\n",
       "    </tr>\n",
       "    <tr>\n",
       "      <th id=\"T_9dc40_level0_row3\" class=\"row_heading level0 row3\" >3</th>\n",
       "      <td id=\"T_9dc40_row3_col0\" class=\"data row3 col0\" >0.9577</td>\n",
       "      <td id=\"T_9dc40_row3_col1\" class=\"data row3 col1\" >0.9182</td>\n",
       "      <td id=\"T_9dc40_row3_col2\" class=\"data row3 col2\" >1.0000</td>\n",
       "      <td id=\"T_9dc40_row3_col3\" class=\"data row3 col3\" >0.9565</td>\n",
       "      <td id=\"T_9dc40_row3_col4\" class=\"data row3 col4\" >0.9778</td>\n",
       "      <td id=\"T_9dc40_row3_col5\" class=\"data row3 col5\" >0.5535</td>\n",
       "      <td id=\"T_9dc40_row3_col6\" class=\"data row3 col6\" >0.6186</td>\n",
       "    </tr>\n",
       "    <tr>\n",
       "      <th id=\"T_9dc40_level0_row4\" class=\"row_heading level0 row4\" >4</th>\n",
       "      <td id=\"T_9dc40_row4_col0\" class=\"data row4 col0\" >0.9437</td>\n",
       "      <td id=\"T_9dc40_row4_col1\" class=\"data row4 col1\" >0.6091</td>\n",
       "      <td id=\"T_9dc40_row4_col2\" class=\"data row4 col2\" >1.0000</td>\n",
       "      <td id=\"T_9dc40_row4_col3\" class=\"data row4 col3\" >0.9429</td>\n",
       "      <td id=\"T_9dc40_row4_col4\" class=\"data row4 col4\" >0.9706</td>\n",
       "      <td id=\"T_9dc40_row4_col5\" class=\"data row4 col5\" >0.3173</td>\n",
       "      <td id=\"T_9dc40_row4_col6\" class=\"data row4 col6\" >0.4342</td>\n",
       "    </tr>\n",
       "    <tr>\n",
       "      <th id=\"T_9dc40_level0_row5\" class=\"row_heading level0 row5\" >Mean</th>\n",
       "      <td id=\"T_9dc40_row5_col0\" class=\"data row5 col0\" >0.9522</td>\n",
       "      <td id=\"T_9dc40_row5_col1\" class=\"data row5 col1\" >0.7596</td>\n",
       "      <td id=\"T_9dc40_row5_col2\" class=\"data row5 col2\" >1.0000</td>\n",
       "      <td id=\"T_9dc40_row5_col3\" class=\"data row5 col3\" >0.9514</td>\n",
       "      <td id=\"T_9dc40_row5_col4\" class=\"data row5 col4\" >0.9751</td>\n",
       "      <td id=\"T_9dc40_row5_col5\" class=\"data row5 col5\" >0.3989</td>\n",
       "      <td id=\"T_9dc40_row5_col6\" class=\"data row5 col6\" >0.4981</td>\n",
       "    </tr>\n",
       "    <tr>\n",
       "      <th id=\"T_9dc40_level0_row6\" class=\"row_heading level0 row6\" >Std</th>\n",
       "      <td id=\"T_9dc40_row6_col0\" class=\"data row6 col0\" >0.0114</td>\n",
       "      <td id=\"T_9dc40_row6_col1\" class=\"data row6 col1\" >0.1078</td>\n",
       "      <td id=\"T_9dc40_row6_col2\" class=\"data row6 col2\" >0.0000</td>\n",
       "      <td id=\"T_9dc40_row6_col3\" class=\"data row6 col3\" >0.0115</td>\n",
       "      <td id=\"T_9dc40_row6_col4\" class=\"data row6 col4\" >0.0060</td>\n",
       "      <td id=\"T_9dc40_row6_col5\" class=\"data row6 col5\" >0.1020</td>\n",
       "      <td id=\"T_9dc40_row6_col6\" class=\"data row6 col6\" >0.0797</td>\n",
       "    </tr>\n",
       "  </tbody>\n",
       "</table>\n"
      ],
      "text/plain": [
       "<pandas.io.formats.style.Styler at 0x215c1544040>"
      ]
     },
     "metadata": {},
     "output_type": "display_data"
    },
    {
     "data": {
      "text/html": [],
      "text/plain": [
       "<IPython.core.display.HTML object>"
      ]
     },
     "metadata": {},
     "output_type": "display_data"
    },
    {
     "name": "stdout",
     "output_type": "stream",
     "text": [
      "Tuning hyperparameters for model xgboost with custom grid\n"
     ]
    },
    {
     "data": {
      "text/html": [],
      "text/plain": [
       "<IPython.core.display.HTML object>"
      ]
     },
     "metadata": {},
     "output_type": "display_data"
    },
    {
     "data": {
      "text/html": [
       "<style type=\"text/css\">\n",
       "#T_6184c_row5_col0, #T_6184c_row5_col1, #T_6184c_row5_col2, #T_6184c_row5_col3, #T_6184c_row5_col4, #T_6184c_row5_col5, #T_6184c_row5_col6 {\n",
       "  background: yellow;\n",
       "}\n",
       "</style>\n",
       "<table id=\"T_6184c\">\n",
       "  <thead>\n",
       "    <tr>\n",
       "      <th class=\"blank level0\" >&nbsp;</th>\n",
       "      <th id=\"T_6184c_level0_col0\" class=\"col_heading level0 col0\" >Accuracy</th>\n",
       "      <th id=\"T_6184c_level0_col1\" class=\"col_heading level0 col1\" >AUC</th>\n",
       "      <th id=\"T_6184c_level0_col2\" class=\"col_heading level0 col2\" >Recall</th>\n",
       "      <th id=\"T_6184c_level0_col3\" class=\"col_heading level0 col3\" >Prec.</th>\n",
       "      <th id=\"T_6184c_level0_col4\" class=\"col_heading level0 col4\" >F1</th>\n",
       "      <th id=\"T_6184c_level0_col5\" class=\"col_heading level0 col5\" >Kappa</th>\n",
       "      <th id=\"T_6184c_level0_col6\" class=\"col_heading level0 col6\" >MCC</th>\n",
       "    </tr>\n",
       "    <tr>\n",
       "      <th class=\"index_name level0\" >Fold</th>\n",
       "      <th class=\"blank col0\" >&nbsp;</th>\n",
       "      <th class=\"blank col1\" >&nbsp;</th>\n",
       "      <th class=\"blank col2\" >&nbsp;</th>\n",
       "      <th class=\"blank col3\" >&nbsp;</th>\n",
       "      <th class=\"blank col4\" >&nbsp;</th>\n",
       "      <th class=\"blank col5\" >&nbsp;</th>\n",
       "      <th class=\"blank col6\" >&nbsp;</th>\n",
       "    </tr>\n",
       "  </thead>\n",
       "  <tbody>\n",
       "    <tr>\n",
       "      <th id=\"T_6184c_level0_row0\" class=\"row_heading level0 row0\" >0</th>\n",
       "      <td id=\"T_6184c_row0_col0\" class=\"data row0 col0\" >0.9861</td>\n",
       "      <td id=\"T_6184c_row0_col1\" class=\"data row0 col1\" >0.8164</td>\n",
       "      <td id=\"T_6184c_row0_col2\" class=\"data row0 col2\" >1.0000</td>\n",
       "      <td id=\"T_6184c_row0_col3\" class=\"data row0 col3\" >0.9857</td>\n",
       "      <td id=\"T_6184c_row0_col4\" class=\"data row0 col4\" >0.9928</td>\n",
       "      <td id=\"T_6184c_row0_col5\" class=\"data row0 col5\" >0.7931</td>\n",
       "      <td id=\"T_6184c_row0_col6\" class=\"data row0 col6\" >0.8106</td>\n",
       "    </tr>\n",
       "    <tr>\n",
       "      <th id=\"T_6184c_level0_row1\" class=\"row_heading level0 row1\" >1</th>\n",
       "      <td id=\"T_6184c_row1_col0\" class=\"data row1 col0\" >0.9437</td>\n",
       "      <td id=\"T_6184c_row1_col1\" class=\"data row1 col1\" >0.7545</td>\n",
       "      <td id=\"T_6184c_row1_col2\" class=\"data row1 col2\" >1.0000</td>\n",
       "      <td id=\"T_6184c_row1_col3\" class=\"data row1 col3\" >0.9429</td>\n",
       "      <td id=\"T_6184c_row1_col4\" class=\"data row1 col4\" >0.9706</td>\n",
       "      <td id=\"T_6184c_row1_col5\" class=\"data row1 col5\" >0.3173</td>\n",
       "      <td id=\"T_6184c_row1_col6\" class=\"data row1 col6\" >0.4342</td>\n",
       "    </tr>\n",
       "    <tr>\n",
       "      <th id=\"T_6184c_level0_row2\" class=\"row_heading level0 row2\" >2</th>\n",
       "      <td id=\"T_6184c_row2_col0\" class=\"data row2 col0\" >0.9437</td>\n",
       "      <td id=\"T_6184c_row2_col1\" class=\"data row2 col1\" >0.9364</td>\n",
       "      <td id=\"T_6184c_row2_col2\" class=\"data row2 col2\" >1.0000</td>\n",
       "      <td id=\"T_6184c_row2_col3\" class=\"data row2 col3\" >0.9429</td>\n",
       "      <td id=\"T_6184c_row2_col4\" class=\"data row2 col4\" >0.9706</td>\n",
       "      <td id=\"T_6184c_row2_col5\" class=\"data row2 col5\" >0.3173</td>\n",
       "      <td id=\"T_6184c_row2_col6\" class=\"data row2 col6\" >0.4342</td>\n",
       "    </tr>\n",
       "    <tr>\n",
       "      <th id=\"T_6184c_level0_row3\" class=\"row_heading level0 row3\" >3</th>\n",
       "      <td id=\"T_6184c_row3_col0\" class=\"data row3 col0\" >0.9577</td>\n",
       "      <td id=\"T_6184c_row3_col1\" class=\"data row3 col1\" >0.9182</td>\n",
       "      <td id=\"T_6184c_row3_col2\" class=\"data row3 col2\" >1.0000</td>\n",
       "      <td id=\"T_6184c_row3_col3\" class=\"data row3 col3\" >0.9565</td>\n",
       "      <td id=\"T_6184c_row3_col4\" class=\"data row3 col4\" >0.9778</td>\n",
       "      <td id=\"T_6184c_row3_col5\" class=\"data row3 col5\" >0.5535</td>\n",
       "      <td id=\"T_6184c_row3_col6\" class=\"data row3 col6\" >0.6186</td>\n",
       "    </tr>\n",
       "    <tr>\n",
       "      <th id=\"T_6184c_level0_row4\" class=\"row_heading level0 row4\" >4</th>\n",
       "      <td id=\"T_6184c_row4_col0\" class=\"data row4 col0\" >0.9437</td>\n",
       "      <td id=\"T_6184c_row4_col1\" class=\"data row4 col1\" >0.6030</td>\n",
       "      <td id=\"T_6184c_row4_col2\" class=\"data row4 col2\" >1.0000</td>\n",
       "      <td id=\"T_6184c_row4_col3\" class=\"data row4 col3\" >0.9429</td>\n",
       "      <td id=\"T_6184c_row4_col4\" class=\"data row4 col4\" >0.9706</td>\n",
       "      <td id=\"T_6184c_row4_col5\" class=\"data row4 col5\" >0.3173</td>\n",
       "      <td id=\"T_6184c_row4_col6\" class=\"data row4 col6\" >0.4342</td>\n",
       "    </tr>\n",
       "    <tr>\n",
       "      <th id=\"T_6184c_level0_row5\" class=\"row_heading level0 row5\" >Mean</th>\n",
       "      <td id=\"T_6184c_row5_col0\" class=\"data row5 col0\" >0.9550</td>\n",
       "      <td id=\"T_6184c_row5_col1\" class=\"data row5 col1\" >0.8057</td>\n",
       "      <td id=\"T_6184c_row5_col2\" class=\"data row5 col2\" >1.0000</td>\n",
       "      <td id=\"T_6184c_row5_col3\" class=\"data row5 col3\" >0.9542</td>\n",
       "      <td id=\"T_6184c_row5_col4\" class=\"data row5 col4\" >0.9765</td>\n",
       "      <td id=\"T_6184c_row5_col5\" class=\"data row5 col5\" >0.4597</td>\n",
       "      <td id=\"T_6184c_row5_col6\" class=\"data row5 col6\" >0.5464</td>\n",
       "    </tr>\n",
       "    <tr>\n",
       "      <th id=\"T_6184c_level0_row6\" class=\"row_heading level0 row6\" >Std</th>\n",
       "      <td id=\"T_6184c_row6_col0\" class=\"data row6 col0\" >0.0165</td>\n",
       "      <td id=\"T_6184c_row6_col1\" class=\"data row6 col1\" >0.1213</td>\n",
       "      <td id=\"T_6184c_row6_col2\" class=\"data row6 col2\" >0.0000</td>\n",
       "      <td id=\"T_6184c_row6_col3\" class=\"data row6 col3\" >0.0166</td>\n",
       "      <td id=\"T_6184c_row6_col4\" class=\"data row6 col4\" >0.0086</td>\n",
       "      <td id=\"T_6184c_row6_col5\" class=\"data row6 col5\" >0.1901</td>\n",
       "      <td id=\"T_6184c_row6_col6\" class=\"data row6 col6\" >0.1502</td>\n",
       "    </tr>\n",
       "  </tbody>\n",
       "</table>\n"
      ],
      "text/plain": [
       "<pandas.io.formats.style.Styler at 0x215439b7dc0>"
      ]
     },
     "metadata": {},
     "output_type": "display_data"
    },
    {
     "data": {
      "text/html": [],
      "text/plain": [
       "<IPython.core.display.HTML object>"
      ]
     },
     "metadata": {},
     "output_type": "display_data"
    },
    {
     "name": "stdout",
     "output_type": "stream",
     "text": [
      "Fitting 5 folds for each of 24 candidates, totalling 120 fits\n",
      "Transformation Pipeline and Model Successfully Saved\n"
     ]
    },
    {
     "data": {
      "text/html": [
       "<style type=\"text/css\">\n",
       "</style>\n",
       "<table id=\"T_36540\">\n",
       "  <thead>\n",
       "    <tr>\n",
       "      <th class=\"blank level0\" >&nbsp;</th>\n",
       "      <th id=\"T_36540_level0_col0\" class=\"col_heading level0 col0\" >Model</th>\n",
       "      <th id=\"T_36540_level0_col1\" class=\"col_heading level0 col1\" >Accuracy</th>\n",
       "      <th id=\"T_36540_level0_col2\" class=\"col_heading level0 col2\" >AUC</th>\n",
       "      <th id=\"T_36540_level0_col3\" class=\"col_heading level0 col3\" >Recall</th>\n",
       "      <th id=\"T_36540_level0_col4\" class=\"col_heading level0 col4\" >Prec.</th>\n",
       "      <th id=\"T_36540_level0_col5\" class=\"col_heading level0 col5\" >F1</th>\n",
       "      <th id=\"T_36540_level0_col6\" class=\"col_heading level0 col6\" >Kappa</th>\n",
       "      <th id=\"T_36540_level0_col7\" class=\"col_heading level0 col7\" >MCC</th>\n",
       "    </tr>\n",
       "  </thead>\n",
       "  <tbody>\n",
       "    <tr>\n",
       "      <th id=\"T_36540_level0_row0\" class=\"row_heading level0 row0\" >0</th>\n",
       "      <td id=\"T_36540_row0_col0\" class=\"data row0 col0\" >Extreme Gradient Boosting</td>\n",
       "      <td id=\"T_36540_row0_col1\" class=\"data row0 col1\" >0.9375</td>\n",
       "      <td id=\"T_36540_row0_col2\" class=\"data row0 col2\" >0.6190</td>\n",
       "      <td id=\"T_36540_row0_col3\" class=\"data row0 col3\" >1.0000</td>\n",
       "      <td id=\"T_36540_row0_col4\" class=\"data row0 col4\" >0.9375</td>\n",
       "      <td id=\"T_36540_row0_col5\" class=\"data row0 col5\" >0.9677</td>\n",
       "      <td id=\"T_36540_row0_col6\" class=\"data row0 col6\" >0.0000</td>\n",
       "      <td id=\"T_36540_row0_col7\" class=\"data row0 col7\" >0.0000</td>\n",
       "    </tr>\n",
       "  </tbody>\n",
       "</table>\n"
      ],
      "text/plain": [
       "<pandas.io.formats.style.Styler at 0x215533cff70>"
      ]
     },
     "metadata": {},
     "output_type": "display_data"
    },
    {
     "name": "stdout",
     "output_type": "stream",
     "text": [
      "Outer fold 2/5\n",
      "Configuring PyCaret for outer fold 2\n"
     ]
    },
    {
     "data": {
      "text/html": [],
      "text/plain": [
       "<IPython.core.display.HTML object>"
      ]
     },
     "metadata": {},
     "output_type": "display_data"
    },
    {
     "data": {
      "text/html": [
       "<style type=\"text/css\">\n",
       "#T_9e477_row5_col0, #T_9e477_row5_col1, #T_9e477_row5_col2, #T_9e477_row5_col3, #T_9e477_row5_col4, #T_9e477_row5_col5, #T_9e477_row5_col6 {\n",
       "  background: yellow;\n",
       "}\n",
       "</style>\n",
       "<table id=\"T_9e477\">\n",
       "  <thead>\n",
       "    <tr>\n",
       "      <th class=\"blank level0\" >&nbsp;</th>\n",
       "      <th id=\"T_9e477_level0_col0\" class=\"col_heading level0 col0\" >Accuracy</th>\n",
       "      <th id=\"T_9e477_level0_col1\" class=\"col_heading level0 col1\" >AUC</th>\n",
       "      <th id=\"T_9e477_level0_col2\" class=\"col_heading level0 col2\" >Recall</th>\n",
       "      <th id=\"T_9e477_level0_col3\" class=\"col_heading level0 col3\" >Prec.</th>\n",
       "      <th id=\"T_9e477_level0_col4\" class=\"col_heading level0 col4\" >F1</th>\n",
       "      <th id=\"T_9e477_level0_col5\" class=\"col_heading level0 col5\" >Kappa</th>\n",
       "      <th id=\"T_9e477_level0_col6\" class=\"col_heading level0 col6\" >MCC</th>\n",
       "    </tr>\n",
       "    <tr>\n",
       "      <th class=\"index_name level0\" >Fold</th>\n",
       "      <th class=\"blank col0\" >&nbsp;</th>\n",
       "      <th class=\"blank col1\" >&nbsp;</th>\n",
       "      <th class=\"blank col2\" >&nbsp;</th>\n",
       "      <th class=\"blank col3\" >&nbsp;</th>\n",
       "      <th class=\"blank col4\" >&nbsp;</th>\n",
       "      <th class=\"blank col5\" >&nbsp;</th>\n",
       "      <th class=\"blank col6\" >&nbsp;</th>\n",
       "    </tr>\n",
       "  </thead>\n",
       "  <tbody>\n",
       "    <tr>\n",
       "      <th id=\"T_9e477_level0_row0\" class=\"row_heading level0 row0\" >0</th>\n",
       "      <td id=\"T_9e477_row0_col0\" class=\"data row0 col0\" >0.9583</td>\n",
       "      <td id=\"T_9e477_row0_col1\" class=\"data row0 col1\" >0.7488</td>\n",
       "      <td id=\"T_9e477_row0_col2\" class=\"data row0 col2\" >1.0000</td>\n",
       "      <td id=\"T_9e477_row0_col3\" class=\"data row0 col3\" >0.9583</td>\n",
       "      <td id=\"T_9e477_row0_col4\" class=\"data row0 col4\" >0.9787</td>\n",
       "      <td id=\"T_9e477_row0_col5\" class=\"data row0 col5\" >0.0000</td>\n",
       "      <td id=\"T_9e477_row0_col6\" class=\"data row0 col6\" >0.0000</td>\n",
       "    </tr>\n",
       "    <tr>\n",
       "      <th id=\"T_9e477_level0_row1\" class=\"row_heading level0 row1\" >1</th>\n",
       "      <td id=\"T_9e477_row1_col0\" class=\"data row1 col0\" >0.9155</td>\n",
       "      <td id=\"T_9e477_row1_col1\" class=\"data row1 col1\" >0.7436</td>\n",
       "      <td id=\"T_9e477_row1_col2\" class=\"data row1 col2\" >1.0000</td>\n",
       "      <td id=\"T_9e477_row1_col3\" class=\"data row1 col3\" >0.9155</td>\n",
       "      <td id=\"T_9e477_row1_col4\" class=\"data row1 col4\" >0.9559</td>\n",
       "      <td id=\"T_9e477_row1_col5\" class=\"data row1 col5\" >0.0000</td>\n",
       "      <td id=\"T_9e477_row1_col6\" class=\"data row1 col6\" >0.0000</td>\n",
       "    </tr>\n",
       "    <tr>\n",
       "      <th id=\"T_9e477_level0_row2\" class=\"row_heading level0 row2\" >2</th>\n",
       "      <td id=\"T_9e477_row2_col0\" class=\"data row2 col0\" >0.9296</td>\n",
       "      <td id=\"T_9e477_row2_col1\" class=\"data row2 col1\" >0.6606</td>\n",
       "      <td id=\"T_9e477_row2_col2\" class=\"data row2 col2\" >1.0000</td>\n",
       "      <td id=\"T_9e477_row2_col3\" class=\"data row2 col3\" >0.9296</td>\n",
       "      <td id=\"T_9e477_row2_col4\" class=\"data row2 col4\" >0.9635</td>\n",
       "      <td id=\"T_9e477_row2_col5\" class=\"data row2 col5\" >0.0000</td>\n",
       "      <td id=\"T_9e477_row2_col6\" class=\"data row2 col6\" >0.0000</td>\n",
       "    </tr>\n",
       "    <tr>\n",
       "      <th id=\"T_9e477_level0_row3\" class=\"row_heading level0 row3\" >3</th>\n",
       "      <td id=\"T_9e477_row3_col0\" class=\"data row3 col0\" >0.9437</td>\n",
       "      <td id=\"T_9e477_row3_col1\" class=\"data row3 col1\" >0.5336</td>\n",
       "      <td id=\"T_9e477_row3_col2\" class=\"data row3 col2\" >1.0000</td>\n",
       "      <td id=\"T_9e477_row3_col3\" class=\"data row3 col3\" >0.9437</td>\n",
       "      <td id=\"T_9e477_row3_col4\" class=\"data row3 col4\" >0.9710</td>\n",
       "      <td id=\"T_9e477_row3_col5\" class=\"data row3 col5\" >0.0000</td>\n",
       "      <td id=\"T_9e477_row3_col6\" class=\"data row3 col6\" >0.0000</td>\n",
       "    </tr>\n",
       "    <tr>\n",
       "      <th id=\"T_9e477_level0_row4\" class=\"row_heading level0 row4\" >4</th>\n",
       "      <td id=\"T_9e477_row4_col0\" class=\"data row4 col0\" >0.9577</td>\n",
       "      <td id=\"T_9e477_row4_col1\" class=\"data row4 col1\" >0.8843</td>\n",
       "      <td id=\"T_9e477_row4_col2\" class=\"data row4 col2\" >1.0000</td>\n",
       "      <td id=\"T_9e477_row4_col3\" class=\"data row4 col3\" >0.9571</td>\n",
       "      <td id=\"T_9e477_row4_col4\" class=\"data row4 col4\" >0.9781</td>\n",
       "      <td id=\"T_9e477_row4_col5\" class=\"data row4 col5\" >0.3862</td>\n",
       "      <td id=\"T_9e477_row4_col6\" class=\"data row4 col6\" >0.4892</td>\n",
       "    </tr>\n",
       "    <tr>\n",
       "      <th id=\"T_9e477_level0_row5\" class=\"row_heading level0 row5\" >Mean</th>\n",
       "      <td id=\"T_9e477_row5_col0\" class=\"data row5 col0\" >0.9410</td>\n",
       "      <td id=\"T_9e477_row5_col1\" class=\"data row5 col1\" >0.7142</td>\n",
       "      <td id=\"T_9e477_row5_col2\" class=\"data row5 col2\" >1.0000</td>\n",
       "      <td id=\"T_9e477_row5_col3\" class=\"data row5 col3\" >0.9408</td>\n",
       "      <td id=\"T_9e477_row5_col4\" class=\"data row5 col4\" >0.9694</td>\n",
       "      <td id=\"T_9e477_row5_col5\" class=\"data row5 col5\" >0.0772</td>\n",
       "      <td id=\"T_9e477_row5_col6\" class=\"data row5 col6\" >0.0978</td>\n",
       "    </tr>\n",
       "    <tr>\n",
       "      <th id=\"T_9e477_level0_row6\" class=\"row_heading level0 row6\" >Std</th>\n",
       "      <td id=\"T_9e477_row6_col0\" class=\"data row6 col0\" >0.0165</td>\n",
       "      <td id=\"T_9e477_row6_col1\" class=\"data row6 col1\" >0.1153</td>\n",
       "      <td id=\"T_9e477_row6_col2\" class=\"data row6 col2\" >0.0000</td>\n",
       "      <td id=\"T_9e477_row6_col3\" class=\"data row6 col3\" >0.0164</td>\n",
       "      <td id=\"T_9e477_row6_col4\" class=\"data row6 col4\" >0.0087</td>\n",
       "      <td id=\"T_9e477_row6_col5\" class=\"data row6 col5\" >0.1545</td>\n",
       "      <td id=\"T_9e477_row6_col6\" class=\"data row6 col6\" >0.1957</td>\n",
       "    </tr>\n",
       "  </tbody>\n",
       "</table>\n"
      ],
      "text/plain": [
       "<pandas.io.formats.style.Styler at 0x215533a2830>"
      ]
     },
     "metadata": {},
     "output_type": "display_data"
    },
    {
     "data": {
      "text/html": [],
      "text/plain": [
       "<IPython.core.display.HTML object>"
      ]
     },
     "metadata": {},
     "output_type": "display_data"
    },
    {
     "name": "stdout",
     "output_type": "stream",
     "text": [
      "Tuning hyperparameters for model xgboost with custom grid\n"
     ]
    },
    {
     "data": {
      "text/html": [],
      "text/plain": [
       "<IPython.core.display.HTML object>"
      ]
     },
     "metadata": {},
     "output_type": "display_data"
    },
    {
     "data": {
      "text/html": [
       "<style type=\"text/css\">\n",
       "#T_79312_row5_col0, #T_79312_row5_col1, #T_79312_row5_col2, #T_79312_row5_col3, #T_79312_row5_col4, #T_79312_row5_col5, #T_79312_row5_col6 {\n",
       "  background: yellow;\n",
       "}\n",
       "</style>\n",
       "<table id=\"T_79312\">\n",
       "  <thead>\n",
       "    <tr>\n",
       "      <th class=\"blank level0\" >&nbsp;</th>\n",
       "      <th id=\"T_79312_level0_col0\" class=\"col_heading level0 col0\" >Accuracy</th>\n",
       "      <th id=\"T_79312_level0_col1\" class=\"col_heading level0 col1\" >AUC</th>\n",
       "      <th id=\"T_79312_level0_col2\" class=\"col_heading level0 col2\" >Recall</th>\n",
       "      <th id=\"T_79312_level0_col3\" class=\"col_heading level0 col3\" >Prec.</th>\n",
       "      <th id=\"T_79312_level0_col4\" class=\"col_heading level0 col4\" >F1</th>\n",
       "      <th id=\"T_79312_level0_col5\" class=\"col_heading level0 col5\" >Kappa</th>\n",
       "      <th id=\"T_79312_level0_col6\" class=\"col_heading level0 col6\" >MCC</th>\n",
       "    </tr>\n",
       "    <tr>\n",
       "      <th class=\"index_name level0\" >Fold</th>\n",
       "      <th class=\"blank col0\" >&nbsp;</th>\n",
       "      <th class=\"blank col1\" >&nbsp;</th>\n",
       "      <th class=\"blank col2\" >&nbsp;</th>\n",
       "      <th class=\"blank col3\" >&nbsp;</th>\n",
       "      <th class=\"blank col4\" >&nbsp;</th>\n",
       "      <th class=\"blank col5\" >&nbsp;</th>\n",
       "      <th class=\"blank col6\" >&nbsp;</th>\n",
       "    </tr>\n",
       "  </thead>\n",
       "  <tbody>\n",
       "    <tr>\n",
       "      <th id=\"T_79312_level0_row0\" class=\"row_heading level0 row0\" >0</th>\n",
       "      <td id=\"T_79312_row0_col0\" class=\"data row0 col0\" >0.9583</td>\n",
       "      <td id=\"T_79312_row0_col1\" class=\"data row0 col1\" >0.7198</td>\n",
       "      <td id=\"T_79312_row0_col2\" class=\"data row0 col2\" >1.0000</td>\n",
       "      <td id=\"T_79312_row0_col3\" class=\"data row0 col3\" >0.9583</td>\n",
       "      <td id=\"T_79312_row0_col4\" class=\"data row0 col4\" >0.9787</td>\n",
       "      <td id=\"T_79312_row0_col5\" class=\"data row0 col5\" >0.0000</td>\n",
       "      <td id=\"T_79312_row0_col6\" class=\"data row0 col6\" >0.0000</td>\n",
       "    </tr>\n",
       "    <tr>\n",
       "      <th id=\"T_79312_level0_row1\" class=\"row_heading level0 row1\" >1</th>\n",
       "      <td id=\"T_79312_row1_col0\" class=\"data row1 col0\" >0.9155</td>\n",
       "      <td id=\"T_79312_row1_col1\" class=\"data row1 col1\" >0.7333</td>\n",
       "      <td id=\"T_79312_row1_col2\" class=\"data row1 col2\" >1.0000</td>\n",
       "      <td id=\"T_79312_row1_col3\" class=\"data row1 col3\" >0.9155</td>\n",
       "      <td id=\"T_79312_row1_col4\" class=\"data row1 col4\" >0.9559</td>\n",
       "      <td id=\"T_79312_row1_col5\" class=\"data row1 col5\" >0.0000</td>\n",
       "      <td id=\"T_79312_row1_col6\" class=\"data row1 col6\" >0.0000</td>\n",
       "    </tr>\n",
       "    <tr>\n",
       "      <th id=\"T_79312_level0_row2\" class=\"row_heading level0 row2\" >2</th>\n",
       "      <td id=\"T_79312_row2_col0\" class=\"data row2 col0\" >0.9296</td>\n",
       "      <td id=\"T_79312_row2_col1\" class=\"data row2 col1\" >0.7303</td>\n",
       "      <td id=\"T_79312_row2_col2\" class=\"data row2 col2\" >1.0000</td>\n",
       "      <td id=\"T_79312_row2_col3\" class=\"data row2 col3\" >0.9296</td>\n",
       "      <td id=\"T_79312_row2_col4\" class=\"data row2 col4\" >0.9635</td>\n",
       "      <td id=\"T_79312_row2_col5\" class=\"data row2 col5\" >0.0000</td>\n",
       "      <td id=\"T_79312_row2_col6\" class=\"data row2 col6\" >0.0000</td>\n",
       "    </tr>\n",
       "    <tr>\n",
       "      <th id=\"T_79312_level0_row3\" class=\"row_heading level0 row3\" >3</th>\n",
       "      <td id=\"T_79312_row3_col0\" class=\"data row3 col0\" >0.9437</td>\n",
       "      <td id=\"T_79312_row3_col1\" class=\"data row3 col1\" >0.6194</td>\n",
       "      <td id=\"T_79312_row3_col2\" class=\"data row3 col2\" >1.0000</td>\n",
       "      <td id=\"T_79312_row3_col3\" class=\"data row3 col3\" >0.9437</td>\n",
       "      <td id=\"T_79312_row3_col4\" class=\"data row3 col4\" >0.9710</td>\n",
       "      <td id=\"T_79312_row3_col5\" class=\"data row3 col5\" >0.0000</td>\n",
       "      <td id=\"T_79312_row3_col6\" class=\"data row3 col6\" >0.0000</td>\n",
       "    </tr>\n",
       "    <tr>\n",
       "      <th id=\"T_79312_level0_row4\" class=\"row_heading level0 row4\" >4</th>\n",
       "      <td id=\"T_79312_row4_col0\" class=\"data row4 col0\" >0.9577</td>\n",
       "      <td id=\"T_79312_row4_col1\" class=\"data row4 col1\" >0.8881</td>\n",
       "      <td id=\"T_79312_row4_col2\" class=\"data row4 col2\" >1.0000</td>\n",
       "      <td id=\"T_79312_row4_col3\" class=\"data row4 col3\" >0.9571</td>\n",
       "      <td id=\"T_79312_row4_col4\" class=\"data row4 col4\" >0.9781</td>\n",
       "      <td id=\"T_79312_row4_col5\" class=\"data row4 col5\" >0.3862</td>\n",
       "      <td id=\"T_79312_row4_col6\" class=\"data row4 col6\" >0.4892</td>\n",
       "    </tr>\n",
       "    <tr>\n",
       "      <th id=\"T_79312_level0_row5\" class=\"row_heading level0 row5\" >Mean</th>\n",
       "      <td id=\"T_79312_row5_col0\" class=\"data row5 col0\" >0.9410</td>\n",
       "      <td id=\"T_79312_row5_col1\" class=\"data row5 col1\" >0.7382</td>\n",
       "      <td id=\"T_79312_row5_col2\" class=\"data row5 col2\" >1.0000</td>\n",
       "      <td id=\"T_79312_row5_col3\" class=\"data row5 col3\" >0.9408</td>\n",
       "      <td id=\"T_79312_row5_col4\" class=\"data row5 col4\" >0.9694</td>\n",
       "      <td id=\"T_79312_row5_col5\" class=\"data row5 col5\" >0.0772</td>\n",
       "      <td id=\"T_79312_row5_col6\" class=\"data row5 col6\" >0.0978</td>\n",
       "    </tr>\n",
       "    <tr>\n",
       "      <th id=\"T_79312_level0_row6\" class=\"row_heading level0 row6\" >Std</th>\n",
       "      <td id=\"T_79312_row6_col0\" class=\"data row6 col0\" >0.0165</td>\n",
       "      <td id=\"T_79312_row6_col1\" class=\"data row6 col1\" >0.0860</td>\n",
       "      <td id=\"T_79312_row6_col2\" class=\"data row6 col2\" >0.0000</td>\n",
       "      <td id=\"T_79312_row6_col3\" class=\"data row6 col3\" >0.0164</td>\n",
       "      <td id=\"T_79312_row6_col4\" class=\"data row6 col4\" >0.0087</td>\n",
       "      <td id=\"T_79312_row6_col5\" class=\"data row6 col5\" >0.1545</td>\n",
       "      <td id=\"T_79312_row6_col6\" class=\"data row6 col6\" >0.1957</td>\n",
       "    </tr>\n",
       "  </tbody>\n",
       "</table>\n"
      ],
      "text/plain": [
       "<pandas.io.formats.style.Styler at 0x21571967bb0>"
      ]
     },
     "metadata": {},
     "output_type": "display_data"
    },
    {
     "data": {
      "text/html": [],
      "text/plain": [
       "<IPython.core.display.HTML object>"
      ]
     },
     "metadata": {},
     "output_type": "display_data"
    },
    {
     "name": "stdout",
     "output_type": "stream",
     "text": [
      "Fitting 5 folds for each of 24 candidates, totalling 120 fits\n",
      "Original model was better than the tuned model, hence it will be returned. NOTE: The display metrics are for the tuned model (not the original one).\n",
      "Transformation Pipeline and Model Successfully Saved\n"
     ]
    },
    {
     "data": {
      "text/html": [
       "<style type=\"text/css\">\n",
       "</style>\n",
       "<table id=\"T_e61cc\">\n",
       "  <thead>\n",
       "    <tr>\n",
       "      <th class=\"blank level0\" >&nbsp;</th>\n",
       "      <th id=\"T_e61cc_level0_col0\" class=\"col_heading level0 col0\" >Model</th>\n",
       "      <th id=\"T_e61cc_level0_col1\" class=\"col_heading level0 col1\" >Accuracy</th>\n",
       "      <th id=\"T_e61cc_level0_col2\" class=\"col_heading level0 col2\" >AUC</th>\n",
       "      <th id=\"T_e61cc_level0_col3\" class=\"col_heading level0 col3\" >Recall</th>\n",
       "      <th id=\"T_e61cc_level0_col4\" class=\"col_heading level0 col4\" >Prec.</th>\n",
       "      <th id=\"T_e61cc_level0_col5\" class=\"col_heading level0 col5\" >F1</th>\n",
       "      <th id=\"T_e61cc_level0_col6\" class=\"col_heading level0 col6\" >Kappa</th>\n",
       "      <th id=\"T_e61cc_level0_col7\" class=\"col_heading level0 col7\" >MCC</th>\n",
       "    </tr>\n",
       "  </thead>\n",
       "  <tbody>\n",
       "    <tr>\n",
       "      <th id=\"T_e61cc_level0_row0\" class=\"row_heading level0 row0\" >0</th>\n",
       "      <td id=\"T_e61cc_row0_col0\" class=\"data row0 col0\" >Extreme Gradient Boosting</td>\n",
       "      <td id=\"T_e61cc_row0_col1\" class=\"data row0 col1\" >0.9554</td>\n",
       "      <td id=\"T_e61cc_row0_col2\" class=\"data row0 col2\" >0.7043</td>\n",
       "      <td id=\"T_e61cc_row0_col3\" class=\"data row0 col3\" >1.0000</td>\n",
       "      <td id=\"T_e61cc_row0_col4\" class=\"data row0 col4\" >0.9541</td>\n",
       "      <td id=\"T_e61cc_row0_col5\" class=\"data row0 col5\" >0.9765</td>\n",
       "      <td id=\"T_e61cc_row0_col6\" class=\"data row0 col6\" >0.5270</td>\n",
       "      <td id=\"T_e61cc_row0_col7\" class=\"data row0 col7\" >0.5982</td>\n",
       "    </tr>\n",
       "  </tbody>\n",
       "</table>\n"
      ],
      "text/plain": [
       "<pandas.io.formats.style.Styler at 0x215439b6500>"
      ]
     },
     "metadata": {},
     "output_type": "display_data"
    },
    {
     "name": "stdout",
     "output_type": "stream",
     "text": [
      "Outer fold 3/5\n",
      "Configuring PyCaret for outer fold 3\n"
     ]
    },
    {
     "data": {
      "text/html": [],
      "text/plain": [
       "<IPython.core.display.HTML object>"
      ]
     },
     "metadata": {},
     "output_type": "display_data"
    },
    {
     "data": {
      "text/html": [
       "<style type=\"text/css\">\n",
       "#T_6f1bd_row5_col0, #T_6f1bd_row5_col1, #T_6f1bd_row5_col2, #T_6f1bd_row5_col3, #T_6f1bd_row5_col4, #T_6f1bd_row5_col5, #T_6f1bd_row5_col6 {\n",
       "  background: yellow;\n",
       "}\n",
       "</style>\n",
       "<table id=\"T_6f1bd\">\n",
       "  <thead>\n",
       "    <tr>\n",
       "      <th class=\"blank level0\" >&nbsp;</th>\n",
       "      <th id=\"T_6f1bd_level0_col0\" class=\"col_heading level0 col0\" >Accuracy</th>\n",
       "      <th id=\"T_6f1bd_level0_col1\" class=\"col_heading level0 col1\" >AUC</th>\n",
       "      <th id=\"T_6f1bd_level0_col2\" class=\"col_heading level0 col2\" >Recall</th>\n",
       "      <th id=\"T_6f1bd_level0_col3\" class=\"col_heading level0 col3\" >Prec.</th>\n",
       "      <th id=\"T_6f1bd_level0_col4\" class=\"col_heading level0 col4\" >F1</th>\n",
       "      <th id=\"T_6f1bd_level0_col5\" class=\"col_heading level0 col5\" >Kappa</th>\n",
       "      <th id=\"T_6f1bd_level0_col6\" class=\"col_heading level0 col6\" >MCC</th>\n",
       "    </tr>\n",
       "    <tr>\n",
       "      <th class=\"index_name level0\" >Fold</th>\n",
       "      <th class=\"blank col0\" >&nbsp;</th>\n",
       "      <th class=\"blank col1\" >&nbsp;</th>\n",
       "      <th class=\"blank col2\" >&nbsp;</th>\n",
       "      <th class=\"blank col3\" >&nbsp;</th>\n",
       "      <th class=\"blank col4\" >&nbsp;</th>\n",
       "      <th class=\"blank col5\" >&nbsp;</th>\n",
       "      <th class=\"blank col6\" >&nbsp;</th>\n",
       "    </tr>\n",
       "  </thead>\n",
       "  <tbody>\n",
       "    <tr>\n",
       "      <th id=\"T_6f1bd_level0_row0\" class=\"row_heading level0 row0\" >0</th>\n",
       "      <td id=\"T_6f1bd_row0_col0\" class=\"data row0 col0\" >0.9583</td>\n",
       "      <td id=\"T_6f1bd_row0_col1\" class=\"data row0 col1\" >0.6957</td>\n",
       "      <td id=\"T_6f1bd_row0_col2\" class=\"data row0 col2\" >1.0000</td>\n",
       "      <td id=\"T_6f1bd_row0_col3\" class=\"data row0 col3\" >0.9583</td>\n",
       "      <td id=\"T_6f1bd_row0_col4\" class=\"data row0 col4\" >0.9787</td>\n",
       "      <td id=\"T_6f1bd_row0_col5\" class=\"data row0 col5\" >0.0000</td>\n",
       "      <td id=\"T_6f1bd_row0_col6\" class=\"data row0 col6\" >0.0000</td>\n",
       "    </tr>\n",
       "    <tr>\n",
       "      <th id=\"T_6f1bd_level0_row1\" class=\"row_heading level0 row1\" >1</th>\n",
       "      <td id=\"T_6f1bd_row1_col0\" class=\"data row1 col0\" >0.9577</td>\n",
       "      <td id=\"T_6f1bd_row1_col1\" class=\"data row1 col1\" >0.7697</td>\n",
       "      <td id=\"T_6f1bd_row1_col2\" class=\"data row1 col2\" >1.0000</td>\n",
       "      <td id=\"T_6f1bd_row1_col3\" class=\"data row1 col3\" >0.9565</td>\n",
       "      <td id=\"T_6f1bd_row1_col4\" class=\"data row1 col4\" >0.9778</td>\n",
       "      <td id=\"T_6f1bd_row1_col5\" class=\"data row1 col5\" >0.5535</td>\n",
       "      <td id=\"T_6f1bd_row1_col6\" class=\"data row1 col6\" >0.6186</td>\n",
       "    </tr>\n",
       "    <tr>\n",
       "      <th id=\"T_6f1bd_level0_row2\" class=\"row_heading level0 row2\" >2</th>\n",
       "      <td id=\"T_6f1bd_row2_col0\" class=\"data row2 col0\" >0.9577</td>\n",
       "      <td id=\"T_6f1bd_row2_col1\" class=\"data row2 col1\" >0.9061</td>\n",
       "      <td id=\"T_6f1bd_row2_col2\" class=\"data row2 col2\" >1.0000</td>\n",
       "      <td id=\"T_6f1bd_row2_col3\" class=\"data row2 col3\" >0.9565</td>\n",
       "      <td id=\"T_6f1bd_row2_col4\" class=\"data row2 col4\" >0.9778</td>\n",
       "      <td id=\"T_6f1bd_row2_col5\" class=\"data row2 col5\" >0.5535</td>\n",
       "      <td id=\"T_6f1bd_row2_col6\" class=\"data row2 col6\" >0.6186</td>\n",
       "    </tr>\n",
       "    <tr>\n",
       "      <th id=\"T_6f1bd_level0_row3\" class=\"row_heading level0 row3\" >3</th>\n",
       "      <td id=\"T_6f1bd_row3_col0\" class=\"data row3 col0\" >0.9296</td>\n",
       "      <td id=\"T_6f1bd_row3_col1\" class=\"data row3 col1\" >0.5848</td>\n",
       "      <td id=\"T_6f1bd_row3_col2\" class=\"data row3 col2\" >0.9848</td>\n",
       "      <td id=\"T_6f1bd_row3_col3\" class=\"data row3 col3\" >0.9420</td>\n",
       "      <td id=\"T_6f1bd_row3_col4\" class=\"data row3 col4\" >0.9630</td>\n",
       "      <td id=\"T_6f1bd_row3_col5\" class=\"data row3 col5\" >0.2558</td>\n",
       "      <td id=\"T_6f1bd_row3_col6\" class=\"data row3 col6\" >0.2858</td>\n",
       "    </tr>\n",
       "    <tr>\n",
       "      <th id=\"T_6f1bd_level0_row4\" class=\"row_heading level0 row4\" >4</th>\n",
       "      <td id=\"T_6f1bd_row4_col0\" class=\"data row4 col0\" >0.9577</td>\n",
       "      <td id=\"T_6f1bd_row4_col1\" class=\"data row4 col1\" >0.7758</td>\n",
       "      <td id=\"T_6f1bd_row4_col2\" class=\"data row4 col2\" >1.0000</td>\n",
       "      <td id=\"T_6f1bd_row4_col3\" class=\"data row4 col3\" >0.9565</td>\n",
       "      <td id=\"T_6f1bd_row4_col4\" class=\"data row4 col4\" >0.9778</td>\n",
       "      <td id=\"T_6f1bd_row4_col5\" class=\"data row4 col5\" >0.5535</td>\n",
       "      <td id=\"T_6f1bd_row4_col6\" class=\"data row4 col6\" >0.6186</td>\n",
       "    </tr>\n",
       "    <tr>\n",
       "      <th id=\"T_6f1bd_level0_row5\" class=\"row_heading level0 row5\" >Mean</th>\n",
       "      <td id=\"T_6f1bd_row5_col0\" class=\"data row5 col0\" >0.9522</td>\n",
       "      <td id=\"T_6f1bd_row5_col1\" class=\"data row5 col1\" >0.7464</td>\n",
       "      <td id=\"T_6f1bd_row5_col2\" class=\"data row5 col2\" >0.9970</td>\n",
       "      <td id=\"T_6f1bd_row5_col3\" class=\"data row5 col3\" >0.9540</td>\n",
       "      <td id=\"T_6f1bd_row5_col4\" class=\"data row5 col4\" >0.9750</td>\n",
       "      <td id=\"T_6f1bd_row5_col5\" class=\"data row5 col5\" >0.3832</td>\n",
       "      <td id=\"T_6f1bd_row5_col6\" class=\"data row5 col6\" >0.4283</td>\n",
       "    </tr>\n",
       "    <tr>\n",
       "      <th id=\"T_6f1bd_level0_row6\" class=\"row_heading level0 row6\" >Std</th>\n",
       "      <td id=\"T_6f1bd_row6_col0\" class=\"data row6 col0\" >0.0113</td>\n",
       "      <td id=\"T_6f1bd_row6_col1\" class=\"data row6 col1\" >0.1054</td>\n",
       "      <td id=\"T_6f1bd_row6_col2\" class=\"data row6 col2\" >0.0061</td>\n",
       "      <td id=\"T_6f1bd_row6_col3\" class=\"data row6 col3\" >0.0060</td>\n",
       "      <td id=\"T_6f1bd_row6_col4\" class=\"data row6 col4\" >0.0060</td>\n",
       "      <td id=\"T_6f1bd_row6_col5\" class=\"data row6 col5\" >0.2236</td>\n",
       "      <td id=\"T_6f1bd_row6_col6\" class=\"data row6 col6\" >0.2499</td>\n",
       "    </tr>\n",
       "  </tbody>\n",
       "</table>\n"
      ],
      "text/plain": [
       "<pandas.io.formats.style.Styler at 0x215546b5240>"
      ]
     },
     "metadata": {},
     "output_type": "display_data"
    },
    {
     "data": {
      "text/html": [],
      "text/plain": [
       "<IPython.core.display.HTML object>"
      ]
     },
     "metadata": {},
     "output_type": "display_data"
    },
    {
     "name": "stdout",
     "output_type": "stream",
     "text": [
      "Tuning hyperparameters for model xgboost with custom grid\n"
     ]
    },
    {
     "data": {
      "text/html": [],
      "text/plain": [
       "<IPython.core.display.HTML object>"
      ]
     },
     "metadata": {},
     "output_type": "display_data"
    },
    {
     "data": {
      "text/html": [
       "<style type=\"text/css\">\n",
       "#T_5d083_row5_col0, #T_5d083_row5_col1, #T_5d083_row5_col2, #T_5d083_row5_col3, #T_5d083_row5_col4, #T_5d083_row5_col5, #T_5d083_row5_col6 {\n",
       "  background: yellow;\n",
       "}\n",
       "</style>\n",
       "<table id=\"T_5d083\">\n",
       "  <thead>\n",
       "    <tr>\n",
       "      <th class=\"blank level0\" >&nbsp;</th>\n",
       "      <th id=\"T_5d083_level0_col0\" class=\"col_heading level0 col0\" >Accuracy</th>\n",
       "      <th id=\"T_5d083_level0_col1\" class=\"col_heading level0 col1\" >AUC</th>\n",
       "      <th id=\"T_5d083_level0_col2\" class=\"col_heading level0 col2\" >Recall</th>\n",
       "      <th id=\"T_5d083_level0_col3\" class=\"col_heading level0 col3\" >Prec.</th>\n",
       "      <th id=\"T_5d083_level0_col4\" class=\"col_heading level0 col4\" >F1</th>\n",
       "      <th id=\"T_5d083_level0_col5\" class=\"col_heading level0 col5\" >Kappa</th>\n",
       "      <th id=\"T_5d083_level0_col6\" class=\"col_heading level0 col6\" >MCC</th>\n",
       "    </tr>\n",
       "    <tr>\n",
       "      <th class=\"index_name level0\" >Fold</th>\n",
       "      <th class=\"blank col0\" >&nbsp;</th>\n",
       "      <th class=\"blank col1\" >&nbsp;</th>\n",
       "      <th class=\"blank col2\" >&nbsp;</th>\n",
       "      <th class=\"blank col3\" >&nbsp;</th>\n",
       "      <th class=\"blank col4\" >&nbsp;</th>\n",
       "      <th class=\"blank col5\" >&nbsp;</th>\n",
       "      <th class=\"blank col6\" >&nbsp;</th>\n",
       "    </tr>\n",
       "  </thead>\n",
       "  <tbody>\n",
       "    <tr>\n",
       "      <th id=\"T_5d083_level0_row0\" class=\"row_heading level0 row0\" >0</th>\n",
       "      <td id=\"T_5d083_row0_col0\" class=\"data row0 col0\" >0.9583</td>\n",
       "      <td id=\"T_5d083_row0_col1\" class=\"data row0 col1\" >0.6908</td>\n",
       "      <td id=\"T_5d083_row0_col2\" class=\"data row0 col2\" >1.0000</td>\n",
       "      <td id=\"T_5d083_row0_col3\" class=\"data row0 col3\" >0.9583</td>\n",
       "      <td id=\"T_5d083_row0_col4\" class=\"data row0 col4\" >0.9787</td>\n",
       "      <td id=\"T_5d083_row0_col5\" class=\"data row0 col5\" >0.0000</td>\n",
       "      <td id=\"T_5d083_row0_col6\" class=\"data row0 col6\" >0.0000</td>\n",
       "    </tr>\n",
       "    <tr>\n",
       "      <th id=\"T_5d083_level0_row1\" class=\"row_heading level0 row1\" >1</th>\n",
       "      <td id=\"T_5d083_row1_col0\" class=\"data row1 col0\" >0.9577</td>\n",
       "      <td id=\"T_5d083_row1_col1\" class=\"data row1 col1\" >0.7818</td>\n",
       "      <td id=\"T_5d083_row1_col2\" class=\"data row1 col2\" >1.0000</td>\n",
       "      <td id=\"T_5d083_row1_col3\" class=\"data row1 col3\" >0.9565</td>\n",
       "      <td id=\"T_5d083_row1_col4\" class=\"data row1 col4\" >0.9778</td>\n",
       "      <td id=\"T_5d083_row1_col5\" class=\"data row1 col5\" >0.5535</td>\n",
       "      <td id=\"T_5d083_row1_col6\" class=\"data row1 col6\" >0.6186</td>\n",
       "    </tr>\n",
       "    <tr>\n",
       "      <th id=\"T_5d083_level0_row2\" class=\"row_heading level0 row2\" >2</th>\n",
       "      <td id=\"T_5d083_row2_col0\" class=\"data row2 col0\" >0.9577</td>\n",
       "      <td id=\"T_5d083_row2_col1\" class=\"data row2 col1\" >0.8667</td>\n",
       "      <td id=\"T_5d083_row2_col2\" class=\"data row2 col2\" >1.0000</td>\n",
       "      <td id=\"T_5d083_row2_col3\" class=\"data row2 col3\" >0.9565</td>\n",
       "      <td id=\"T_5d083_row2_col4\" class=\"data row2 col4\" >0.9778</td>\n",
       "      <td id=\"T_5d083_row2_col5\" class=\"data row2 col5\" >0.5535</td>\n",
       "      <td id=\"T_5d083_row2_col6\" class=\"data row2 col6\" >0.6186</td>\n",
       "    </tr>\n",
       "    <tr>\n",
       "      <th id=\"T_5d083_level0_row3\" class=\"row_heading level0 row3\" >3</th>\n",
       "      <td id=\"T_5d083_row3_col0\" class=\"data row3 col0\" >0.9437</td>\n",
       "      <td id=\"T_5d083_row3_col1\" class=\"data row3 col1\" >0.5727</td>\n",
       "      <td id=\"T_5d083_row3_col2\" class=\"data row3 col2\" >1.0000</td>\n",
       "      <td id=\"T_5d083_row3_col3\" class=\"data row3 col3\" >0.9429</td>\n",
       "      <td id=\"T_5d083_row3_col4\" class=\"data row3 col4\" >0.9706</td>\n",
       "      <td id=\"T_5d083_row3_col5\" class=\"data row3 col5\" >0.3173</td>\n",
       "      <td id=\"T_5d083_row3_col6\" class=\"data row3 col6\" >0.4342</td>\n",
       "    </tr>\n",
       "    <tr>\n",
       "      <th id=\"T_5d083_level0_row4\" class=\"row_heading level0 row4\" >4</th>\n",
       "      <td id=\"T_5d083_row4_col0\" class=\"data row4 col0\" >0.9577</td>\n",
       "      <td id=\"T_5d083_row4_col1\" class=\"data row4 col1\" >0.8242</td>\n",
       "      <td id=\"T_5d083_row4_col2\" class=\"data row4 col2\" >1.0000</td>\n",
       "      <td id=\"T_5d083_row4_col3\" class=\"data row4 col3\" >0.9565</td>\n",
       "      <td id=\"T_5d083_row4_col4\" class=\"data row4 col4\" >0.9778</td>\n",
       "      <td id=\"T_5d083_row4_col5\" class=\"data row4 col5\" >0.5535</td>\n",
       "      <td id=\"T_5d083_row4_col6\" class=\"data row4 col6\" >0.6186</td>\n",
       "    </tr>\n",
       "    <tr>\n",
       "      <th id=\"T_5d083_level0_row5\" class=\"row_heading level0 row5\" >Mean</th>\n",
       "      <td id=\"T_5d083_row5_col0\" class=\"data row5 col0\" >0.9550</td>\n",
       "      <td id=\"T_5d083_row5_col1\" class=\"data row5 col1\" >0.7473</td>\n",
       "      <td id=\"T_5d083_row5_col2\" class=\"data row5 col2\" >1.0000</td>\n",
       "      <td id=\"T_5d083_row5_col3\" class=\"data row5 col3\" >0.9542</td>\n",
       "      <td id=\"T_5d083_row5_col4\" class=\"data row5 col4\" >0.9765</td>\n",
       "      <td id=\"T_5d083_row5_col5\" class=\"data row5 col5\" >0.3955</td>\n",
       "      <td id=\"T_5d083_row5_col6\" class=\"data row5 col6\" >0.4580</td>\n",
       "    </tr>\n",
       "    <tr>\n",
       "      <th id=\"T_5d083_level0_row6\" class=\"row_heading level0 row6\" >Std</th>\n",
       "      <td id=\"T_5d083_row6_col0\" class=\"data row6 col0\" >0.0057</td>\n",
       "      <td id=\"T_5d083_row6_col1\" class=\"data row6 col1\" >0.1049</td>\n",
       "      <td id=\"T_5d083_row6_col2\" class=\"data row6 col2\" >0.0000</td>\n",
       "      <td id=\"T_5d083_row6_col3\" class=\"data row6 col3\" >0.0057</td>\n",
       "      <td id=\"T_5d083_row6_col4\" class=\"data row6 col4\" >0.0030</td>\n",
       "      <td id=\"T_5d083_row6_col5\" class=\"data row6 col5\" >0.2179</td>\n",
       "      <td id=\"T_5d083_row6_col6\" class=\"data row6 col6\" >0.2399</td>\n",
       "    </tr>\n",
       "  </tbody>\n",
       "</table>\n"
      ],
      "text/plain": [
       "<pandas.io.formats.style.Styler at 0x2154246de10>"
      ]
     },
     "metadata": {},
     "output_type": "display_data"
    },
    {
     "data": {
      "text/html": [],
      "text/plain": [
       "<IPython.core.display.HTML object>"
      ]
     },
     "metadata": {},
     "output_type": "display_data"
    },
    {
     "name": "stdout",
     "output_type": "stream",
     "text": [
      "Fitting 5 folds for each of 24 candidates, totalling 120 fits\n",
      "Transformation Pipeline and Model Successfully Saved\n"
     ]
    },
    {
     "data": {
      "text/html": [
       "<style type=\"text/css\">\n",
       "</style>\n",
       "<table id=\"T_cd9bf\">\n",
       "  <thead>\n",
       "    <tr>\n",
       "      <th class=\"blank level0\" >&nbsp;</th>\n",
       "      <th id=\"T_cd9bf_level0_col0\" class=\"col_heading level0 col0\" >Model</th>\n",
       "      <th id=\"T_cd9bf_level0_col1\" class=\"col_heading level0 col1\" >Accuracy</th>\n",
       "      <th id=\"T_cd9bf_level0_col2\" class=\"col_heading level0 col2\" >AUC</th>\n",
       "      <th id=\"T_cd9bf_level0_col3\" class=\"col_heading level0 col3\" >Recall</th>\n",
       "      <th id=\"T_cd9bf_level0_col4\" class=\"col_heading level0 col4\" >Prec.</th>\n",
       "      <th id=\"T_cd9bf_level0_col5\" class=\"col_heading level0 col5\" >F1</th>\n",
       "      <th id=\"T_cd9bf_level0_col6\" class=\"col_heading level0 col6\" >Kappa</th>\n",
       "      <th id=\"T_cd9bf_level0_col7\" class=\"col_heading level0 col7\" >MCC</th>\n",
       "    </tr>\n",
       "  </thead>\n",
       "  <tbody>\n",
       "    <tr>\n",
       "      <th id=\"T_cd9bf_level0_row0\" class=\"row_heading level0 row0\" >0</th>\n",
       "      <td id=\"T_cd9bf_row0_col0\" class=\"data row0 col0\" >Extreme Gradient Boosting</td>\n",
       "      <td id=\"T_cd9bf_row0_col1\" class=\"data row0 col1\" >0.9550</td>\n",
       "      <td id=\"T_cd9bf_row0_col2\" class=\"data row0 col2\" >0.7926</td>\n",
       "      <td id=\"T_cd9bf_row0_col3\" class=\"data row0 col3\" >1.0000</td>\n",
       "      <td id=\"T_cd9bf_row0_col4\" class=\"data row0 col4\" >0.9541</td>\n",
       "      <td id=\"T_cd9bf_row0_col5\" class=\"data row0 col5\" >0.9765</td>\n",
       "      <td id=\"T_cd9bf_row0_col6\" class=\"data row0 col6\" >0.4284</td>\n",
       "      <td id=\"T_cd9bf_row0_col7\" class=\"data row0 col7\" >0.5221</td>\n",
       "    </tr>\n",
       "  </tbody>\n",
       "</table>\n"
      ],
      "text/plain": [
       "<pandas.io.formats.style.Styler at 0x215ce4839a0>"
      ]
     },
     "metadata": {},
     "output_type": "display_data"
    },
    {
     "name": "stdout",
     "output_type": "stream",
     "text": [
      "Outer fold 4/5\n",
      "Configuring PyCaret for outer fold 4\n"
     ]
    },
    {
     "data": {
      "text/html": [],
      "text/plain": [
       "<IPython.core.display.HTML object>"
      ]
     },
     "metadata": {},
     "output_type": "display_data"
    },
    {
     "data": {
      "text/html": [
       "<style type=\"text/css\">\n",
       "#T_ad093_row5_col0, #T_ad093_row5_col1, #T_ad093_row5_col2, #T_ad093_row5_col3, #T_ad093_row5_col4, #T_ad093_row5_col5, #T_ad093_row5_col6 {\n",
       "  background: yellow;\n",
       "}\n",
       "</style>\n",
       "<table id=\"T_ad093\">\n",
       "  <thead>\n",
       "    <tr>\n",
       "      <th class=\"blank level0\" >&nbsp;</th>\n",
       "      <th id=\"T_ad093_level0_col0\" class=\"col_heading level0 col0\" >Accuracy</th>\n",
       "      <th id=\"T_ad093_level0_col1\" class=\"col_heading level0 col1\" >AUC</th>\n",
       "      <th id=\"T_ad093_level0_col2\" class=\"col_heading level0 col2\" >Recall</th>\n",
       "      <th id=\"T_ad093_level0_col3\" class=\"col_heading level0 col3\" >Prec.</th>\n",
       "      <th id=\"T_ad093_level0_col4\" class=\"col_heading level0 col4\" >F1</th>\n",
       "      <th id=\"T_ad093_level0_col5\" class=\"col_heading level0 col5\" >Kappa</th>\n",
       "      <th id=\"T_ad093_level0_col6\" class=\"col_heading level0 col6\" >MCC</th>\n",
       "    </tr>\n",
       "    <tr>\n",
       "      <th class=\"index_name level0\" >Fold</th>\n",
       "      <th class=\"blank col0\" >&nbsp;</th>\n",
       "      <th class=\"blank col1\" >&nbsp;</th>\n",
       "      <th class=\"blank col2\" >&nbsp;</th>\n",
       "      <th class=\"blank col3\" >&nbsp;</th>\n",
       "      <th class=\"blank col4\" >&nbsp;</th>\n",
       "      <th class=\"blank col5\" >&nbsp;</th>\n",
       "      <th class=\"blank col6\" >&nbsp;</th>\n",
       "    </tr>\n",
       "  </thead>\n",
       "  <tbody>\n",
       "    <tr>\n",
       "      <th id=\"T_ad093_level0_row0\" class=\"row_heading level0 row0\" >0</th>\n",
       "      <td id=\"T_ad093_row0_col0\" class=\"data row0 col0\" >0.9722</td>\n",
       "      <td id=\"T_ad093_row0_col1\" class=\"data row0 col1\" >0.8599</td>\n",
       "      <td id=\"T_ad093_row0_col2\" class=\"data row0 col2\" >1.0000</td>\n",
       "      <td id=\"T_ad093_row0_col3\" class=\"data row0 col3\" >0.9718</td>\n",
       "      <td id=\"T_ad093_row0_col4\" class=\"data row0 col4\" >0.9857</td>\n",
       "      <td id=\"T_ad093_row0_col5\" class=\"data row0 col5\" >0.4894</td>\n",
       "      <td id=\"T_ad093_row0_col6\" class=\"data row0 col6\" >0.5692</td>\n",
       "    </tr>\n",
       "    <tr>\n",
       "      <th id=\"T_ad093_level0_row1\" class=\"row_heading level0 row1\" >1</th>\n",
       "      <td id=\"T_ad093_row1_col0\" class=\"data row1 col0\" >0.9437</td>\n",
       "      <td id=\"T_ad093_row1_col1\" class=\"data row1 col1\" >0.7485</td>\n",
       "      <td id=\"T_ad093_row1_col2\" class=\"data row1 col2\" >1.0000</td>\n",
       "      <td id=\"T_ad093_row1_col3\" class=\"data row1 col3\" >0.9429</td>\n",
       "      <td id=\"T_ad093_row1_col4\" class=\"data row1 col4\" >0.9706</td>\n",
       "      <td id=\"T_ad093_row1_col5\" class=\"data row1 col5\" >0.3173</td>\n",
       "      <td id=\"T_ad093_row1_col6\" class=\"data row1 col6\" >0.4342</td>\n",
       "    </tr>\n",
       "    <tr>\n",
       "      <th id=\"T_ad093_level0_row2\" class=\"row_heading level0 row2\" >2</th>\n",
       "      <td id=\"T_ad093_row2_col0\" class=\"data row2 col0\" >0.9577</td>\n",
       "      <td id=\"T_ad093_row2_col1\" class=\"data row2 col1\" >0.8303</td>\n",
       "      <td id=\"T_ad093_row2_col2\" class=\"data row2 col2\" >1.0000</td>\n",
       "      <td id=\"T_ad093_row2_col3\" class=\"data row2 col3\" >0.9565</td>\n",
       "      <td id=\"T_ad093_row2_col4\" class=\"data row2 col4\" >0.9778</td>\n",
       "      <td id=\"T_ad093_row2_col5\" class=\"data row2 col5\" >0.5535</td>\n",
       "      <td id=\"T_ad093_row2_col6\" class=\"data row2 col6\" >0.6186</td>\n",
       "    </tr>\n",
       "    <tr>\n",
       "      <th id=\"T_ad093_level0_row3\" class=\"row_heading level0 row3\" >3</th>\n",
       "      <td id=\"T_ad093_row3_col0\" class=\"data row3 col0\" >0.9296</td>\n",
       "      <td id=\"T_ad093_row3_col1\" class=\"data row3 col1\" >0.8606</td>\n",
       "      <td id=\"T_ad093_row3_col2\" class=\"data row3 col2\" >1.0000</td>\n",
       "      <td id=\"T_ad093_row3_col3\" class=\"data row3 col3\" >0.9296</td>\n",
       "      <td id=\"T_ad093_row3_col4\" class=\"data row3 col4\" >0.9635</td>\n",
       "      <td id=\"T_ad093_row3_col5\" class=\"data row3 col5\" >0.0000</td>\n",
       "      <td id=\"T_ad093_row3_col6\" class=\"data row3 col6\" >0.0000</td>\n",
       "    </tr>\n",
       "    <tr>\n",
       "      <th id=\"T_ad093_level0_row4\" class=\"row_heading level0 row4\" >4</th>\n",
       "      <td id=\"T_ad093_row4_col0\" class=\"data row4 col0\" >0.9437</td>\n",
       "      <td id=\"T_ad093_row4_col1\" class=\"data row4 col1\" >0.9515</td>\n",
       "      <td id=\"T_ad093_row4_col2\" class=\"data row4 col2\" >1.0000</td>\n",
       "      <td id=\"T_ad093_row4_col3\" class=\"data row4 col3\" >0.9429</td>\n",
       "      <td id=\"T_ad093_row4_col4\" class=\"data row4 col4\" >0.9706</td>\n",
       "      <td id=\"T_ad093_row4_col5\" class=\"data row4 col5\" >0.3173</td>\n",
       "      <td id=\"T_ad093_row4_col6\" class=\"data row4 col6\" >0.4342</td>\n",
       "    </tr>\n",
       "    <tr>\n",
       "      <th id=\"T_ad093_level0_row5\" class=\"row_heading level0 row5\" >Mean</th>\n",
       "      <td id=\"T_ad093_row5_col0\" class=\"data row5 col0\" >0.9494</td>\n",
       "      <td id=\"T_ad093_row5_col1\" class=\"data row5 col1\" >0.8502</td>\n",
       "      <td id=\"T_ad093_row5_col2\" class=\"data row5 col2\" >1.0000</td>\n",
       "      <td id=\"T_ad093_row5_col3\" class=\"data row5 col3\" >0.9487</td>\n",
       "      <td id=\"T_ad093_row5_col4\" class=\"data row5 col4\" >0.9736</td>\n",
       "      <td id=\"T_ad093_row5_col5\" class=\"data row5 col5\" >0.3355</td>\n",
       "      <td id=\"T_ad093_row5_col6\" class=\"data row5 col6\" >0.4112</td>\n",
       "    </tr>\n",
       "    <tr>\n",
       "      <th id=\"T_ad093_level0_row6\" class=\"row_heading level0 row6\" >Std</th>\n",
       "      <td id=\"T_ad093_row6_col0\" class=\"data row6 col0\" >0.0145</td>\n",
       "      <td id=\"T_ad093_row6_col1\" class=\"data row6 col1\" >0.0651</td>\n",
       "      <td id=\"T_ad093_row6_col2\" class=\"data row6 col2\" >0.0000</td>\n",
       "      <td id=\"T_ad093_row6_col3\" class=\"data row6 col3\" >0.0144</td>\n",
       "      <td id=\"T_ad093_row6_col4\" class=\"data row6 col4\" >0.0075</td>\n",
       "      <td id=\"T_ad093_row6_col5\" class=\"data row6 col5\" >0.1920</td>\n",
       "      <td id=\"T_ad093_row6_col6\" class=\"data row6 col6\" >0.2182</td>\n",
       "    </tr>\n",
       "  </tbody>\n",
       "</table>\n"
      ],
      "text/plain": [
       "<pandas.io.formats.style.Styler at 0x215546c1d50>"
      ]
     },
     "metadata": {},
     "output_type": "display_data"
    },
    {
     "data": {
      "text/html": [],
      "text/plain": [
       "<IPython.core.display.HTML object>"
      ]
     },
     "metadata": {},
     "output_type": "display_data"
    },
    {
     "name": "stdout",
     "output_type": "stream",
     "text": [
      "Tuning hyperparameters for model xgboost with custom grid\n"
     ]
    },
    {
     "data": {
      "text/html": [],
      "text/plain": [
       "<IPython.core.display.HTML object>"
      ]
     },
     "metadata": {},
     "output_type": "display_data"
    },
    {
     "data": {
      "text/html": [
       "<style type=\"text/css\">\n",
       "#T_fcae0_row5_col0, #T_fcae0_row5_col1, #T_fcae0_row5_col2, #T_fcae0_row5_col3, #T_fcae0_row5_col4, #T_fcae0_row5_col5, #T_fcae0_row5_col6 {\n",
       "  background: yellow;\n",
       "}\n",
       "</style>\n",
       "<table id=\"T_fcae0\">\n",
       "  <thead>\n",
       "    <tr>\n",
       "      <th class=\"blank level0\" >&nbsp;</th>\n",
       "      <th id=\"T_fcae0_level0_col0\" class=\"col_heading level0 col0\" >Accuracy</th>\n",
       "      <th id=\"T_fcae0_level0_col1\" class=\"col_heading level0 col1\" >AUC</th>\n",
       "      <th id=\"T_fcae0_level0_col2\" class=\"col_heading level0 col2\" >Recall</th>\n",
       "      <th id=\"T_fcae0_level0_col3\" class=\"col_heading level0 col3\" >Prec.</th>\n",
       "      <th id=\"T_fcae0_level0_col4\" class=\"col_heading level0 col4\" >F1</th>\n",
       "      <th id=\"T_fcae0_level0_col5\" class=\"col_heading level0 col5\" >Kappa</th>\n",
       "      <th id=\"T_fcae0_level0_col6\" class=\"col_heading level0 col6\" >MCC</th>\n",
       "    </tr>\n",
       "    <tr>\n",
       "      <th class=\"index_name level0\" >Fold</th>\n",
       "      <th class=\"blank col0\" >&nbsp;</th>\n",
       "      <th class=\"blank col1\" >&nbsp;</th>\n",
       "      <th class=\"blank col2\" >&nbsp;</th>\n",
       "      <th class=\"blank col3\" >&nbsp;</th>\n",
       "      <th class=\"blank col4\" >&nbsp;</th>\n",
       "      <th class=\"blank col5\" >&nbsp;</th>\n",
       "      <th class=\"blank col6\" >&nbsp;</th>\n",
       "    </tr>\n",
       "  </thead>\n",
       "  <tbody>\n",
       "    <tr>\n",
       "      <th id=\"T_fcae0_level0_row0\" class=\"row_heading level0 row0\" >0</th>\n",
       "      <td id=\"T_fcae0_row0_col0\" class=\"data row0 col0\" >0.9861</td>\n",
       "      <td id=\"T_fcae0_row0_col1\" class=\"data row0 col1\" >0.8551</td>\n",
       "      <td id=\"T_fcae0_row0_col2\" class=\"data row0 col2\" >1.0000</td>\n",
       "      <td id=\"T_fcae0_row0_col3\" class=\"data row0 col3\" >0.9857</td>\n",
       "      <td id=\"T_fcae0_row0_col4\" class=\"data row0 col4\" >0.9928</td>\n",
       "      <td id=\"T_fcae0_row0_col5\" class=\"data row0 col5\" >0.7931</td>\n",
       "      <td id=\"T_fcae0_row0_col6\" class=\"data row0 col6\" >0.8106</td>\n",
       "    </tr>\n",
       "    <tr>\n",
       "      <th id=\"T_fcae0_level0_row1\" class=\"row_heading level0 row1\" >1</th>\n",
       "      <td id=\"T_fcae0_row1_col0\" class=\"data row1 col0\" >0.9437</td>\n",
       "      <td id=\"T_fcae0_row1_col1\" class=\"data row1 col1\" >0.7667</td>\n",
       "      <td id=\"T_fcae0_row1_col2\" class=\"data row1 col2\" >1.0000</td>\n",
       "      <td id=\"T_fcae0_row1_col3\" class=\"data row1 col3\" >0.9429</td>\n",
       "      <td id=\"T_fcae0_row1_col4\" class=\"data row1 col4\" >0.9706</td>\n",
       "      <td id=\"T_fcae0_row1_col5\" class=\"data row1 col5\" >0.3173</td>\n",
       "      <td id=\"T_fcae0_row1_col6\" class=\"data row1 col6\" >0.4342</td>\n",
       "    </tr>\n",
       "    <tr>\n",
       "      <th id=\"T_fcae0_level0_row2\" class=\"row_heading level0 row2\" >2</th>\n",
       "      <td id=\"T_fcae0_row2_col0\" class=\"data row2 col0\" >0.9577</td>\n",
       "      <td id=\"T_fcae0_row2_col1\" class=\"data row2 col1\" >0.8303</td>\n",
       "      <td id=\"T_fcae0_row2_col2\" class=\"data row2 col2\" >1.0000</td>\n",
       "      <td id=\"T_fcae0_row2_col3\" class=\"data row2 col3\" >0.9565</td>\n",
       "      <td id=\"T_fcae0_row2_col4\" class=\"data row2 col4\" >0.9778</td>\n",
       "      <td id=\"T_fcae0_row2_col5\" class=\"data row2 col5\" >0.5535</td>\n",
       "      <td id=\"T_fcae0_row2_col6\" class=\"data row2 col6\" >0.6186</td>\n",
       "    </tr>\n",
       "    <tr>\n",
       "      <th id=\"T_fcae0_level0_row3\" class=\"row_heading level0 row3\" >3</th>\n",
       "      <td id=\"T_fcae0_row3_col0\" class=\"data row3 col0\" >0.9437</td>\n",
       "      <td id=\"T_fcae0_row3_col1\" class=\"data row3 col1\" >0.8455</td>\n",
       "      <td id=\"T_fcae0_row3_col2\" class=\"data row3 col2\" >1.0000</td>\n",
       "      <td id=\"T_fcae0_row3_col3\" class=\"data row3 col3\" >0.9429</td>\n",
       "      <td id=\"T_fcae0_row3_col4\" class=\"data row3 col4\" >0.9706</td>\n",
       "      <td id=\"T_fcae0_row3_col5\" class=\"data row3 col5\" >0.3173</td>\n",
       "      <td id=\"T_fcae0_row3_col6\" class=\"data row3 col6\" >0.4342</td>\n",
       "    </tr>\n",
       "    <tr>\n",
       "      <th id=\"T_fcae0_level0_row4\" class=\"row_heading level0 row4\" >4</th>\n",
       "      <td id=\"T_fcae0_row4_col0\" class=\"data row4 col0\" >0.9577</td>\n",
       "      <td id=\"T_fcae0_row4_col1\" class=\"data row4 col1\" >0.9576</td>\n",
       "      <td id=\"T_fcae0_row4_col2\" class=\"data row4 col2\" >1.0000</td>\n",
       "      <td id=\"T_fcae0_row4_col3\" class=\"data row4 col3\" >0.9565</td>\n",
       "      <td id=\"T_fcae0_row4_col4\" class=\"data row4 col4\" >0.9778</td>\n",
       "      <td id=\"T_fcae0_row4_col5\" class=\"data row4 col5\" >0.5535</td>\n",
       "      <td id=\"T_fcae0_row4_col6\" class=\"data row4 col6\" >0.6186</td>\n",
       "    </tr>\n",
       "    <tr>\n",
       "      <th id=\"T_fcae0_level0_row5\" class=\"row_heading level0 row5\" >Mean</th>\n",
       "      <td id=\"T_fcae0_row5_col0\" class=\"data row5 col0\" >0.9578</td>\n",
       "      <td id=\"T_fcae0_row5_col1\" class=\"data row5 col1\" >0.8510</td>\n",
       "      <td id=\"T_fcae0_row5_col2\" class=\"data row5 col2\" >1.0000</td>\n",
       "      <td id=\"T_fcae0_row5_col3\" class=\"data row5 col3\" >0.9569</td>\n",
       "      <td id=\"T_fcae0_row5_col4\" class=\"data row5 col4\" >0.9779</td>\n",
       "      <td id=\"T_fcae0_row5_col5\" class=\"data row5 col5\" >0.5069</td>\n",
       "      <td id=\"T_fcae0_row5_col6\" class=\"data row5 col6\" >0.5832</td>\n",
       "    </tr>\n",
       "    <tr>\n",
       "      <th id=\"T_fcae0_level0_row6\" class=\"row_heading level0 row6\" >Std</th>\n",
       "      <td id=\"T_fcae0_row6_col0\" class=\"data row6 col0\" >0.0155</td>\n",
       "      <td id=\"T_fcae0_row6_col1\" class=\"data row6 col1\" >0.0616</td>\n",
       "      <td id=\"T_fcae0_row6_col2\" class=\"data row6 col2\" >0.0000</td>\n",
       "      <td id=\"T_fcae0_row6_col3\" class=\"data row6 col3\" >0.0157</td>\n",
       "      <td id=\"T_fcae0_row6_col4\" class=\"data row6 col4\" >0.0081</td>\n",
       "      <td id=\"T_fcae0_row6_col5\" class=\"data row6 col5\" >0.1778</td>\n",
       "      <td id=\"T_fcae0_row6_col6\" class=\"data row6 col6\" >0.1404</td>\n",
       "    </tr>\n",
       "  </tbody>\n",
       "</table>\n"
      ],
      "text/plain": [
       "<pandas.io.formats.style.Styler at 0x215533da8f0>"
      ]
     },
     "metadata": {},
     "output_type": "display_data"
    },
    {
     "data": {
      "text/html": [],
      "text/plain": [
       "<IPython.core.display.HTML object>"
      ]
     },
     "metadata": {},
     "output_type": "display_data"
    },
    {
     "name": "stdout",
     "output_type": "stream",
     "text": [
      "Fitting 5 folds for each of 24 candidates, totalling 120 fits\n",
      "Transformation Pipeline and Model Successfully Saved\n"
     ]
    },
    {
     "data": {
      "text/html": [
       "<style type=\"text/css\">\n",
       "</style>\n",
       "<table id=\"T_1a408\">\n",
       "  <thead>\n",
       "    <tr>\n",
       "      <th class=\"blank level0\" >&nbsp;</th>\n",
       "      <th id=\"T_1a408_level0_col0\" class=\"col_heading level0 col0\" >Model</th>\n",
       "      <th id=\"T_1a408_level0_col1\" class=\"col_heading level0 col1\" >Accuracy</th>\n",
       "      <th id=\"T_1a408_level0_col2\" class=\"col_heading level0 col2\" >AUC</th>\n",
       "      <th id=\"T_1a408_level0_col3\" class=\"col_heading level0 col3\" >Recall</th>\n",
       "      <th id=\"T_1a408_level0_col4\" class=\"col_heading level0 col4\" >Prec.</th>\n",
       "      <th id=\"T_1a408_level0_col5\" class=\"col_heading level0 col5\" >F1</th>\n",
       "      <th id=\"T_1a408_level0_col6\" class=\"col_heading level0 col6\" >Kappa</th>\n",
       "      <th id=\"T_1a408_level0_col7\" class=\"col_heading level0 col7\" >MCC</th>\n",
       "    </tr>\n",
       "  </thead>\n",
       "  <tbody>\n",
       "    <tr>\n",
       "      <th id=\"T_1a408_level0_row0\" class=\"row_heading level0 row0\" >0</th>\n",
       "      <td id=\"T_1a408_row0_col0\" class=\"data row0 col0\" >Extreme Gradient Boosting</td>\n",
       "      <td id=\"T_1a408_row0_col1\" class=\"data row0 col1\" >0.9459</td>\n",
       "      <td id=\"T_1a408_row0_col2\" class=\"data row0 col2\" >0.7102</td>\n",
       "      <td id=\"T_1a408_row0_col3\" class=\"data row0 col3\" >1.0000</td>\n",
       "      <td id=\"T_1a408_row0_col4\" class=\"data row0 col4\" >0.9455</td>\n",
       "      <td id=\"T_1a408_row0_col5\" class=\"data row0 col5\" >0.9720</td>\n",
       "      <td id=\"T_1a408_row0_col6\" class=\"data row0 col6\" >0.2380</td>\n",
       "      <td id=\"T_1a408_row0_col7\" class=\"data row0 col7\" >0.3675</td>\n",
       "    </tr>\n",
       "  </tbody>\n",
       "</table>\n"
      ],
      "text/plain": [
       "<pandas.io.formats.style.Styler at 0x215b24239a0>"
      ]
     },
     "metadata": {},
     "output_type": "display_data"
    },
    {
     "name": "stdout",
     "output_type": "stream",
     "text": [
      "Outer fold 5/5\n",
      "Configuring PyCaret for outer fold 5\n"
     ]
    },
    {
     "data": {
      "text/html": [],
      "text/plain": [
       "<IPython.core.display.HTML object>"
      ]
     },
     "metadata": {},
     "output_type": "display_data"
    },
    {
     "data": {
      "text/html": [
       "<style type=\"text/css\">\n",
       "#T_d2756_row5_col0, #T_d2756_row5_col1, #T_d2756_row5_col2, #T_d2756_row5_col3, #T_d2756_row5_col4, #T_d2756_row5_col5, #T_d2756_row5_col6 {\n",
       "  background: yellow;\n",
       "}\n",
       "</style>\n",
       "<table id=\"T_d2756\">\n",
       "  <thead>\n",
       "    <tr>\n",
       "      <th class=\"blank level0\" >&nbsp;</th>\n",
       "      <th id=\"T_d2756_level0_col0\" class=\"col_heading level0 col0\" >Accuracy</th>\n",
       "      <th id=\"T_d2756_level0_col1\" class=\"col_heading level0 col1\" >AUC</th>\n",
       "      <th id=\"T_d2756_level0_col2\" class=\"col_heading level0 col2\" >Recall</th>\n",
       "      <th id=\"T_d2756_level0_col3\" class=\"col_heading level0 col3\" >Prec.</th>\n",
       "      <th id=\"T_d2756_level0_col4\" class=\"col_heading level0 col4\" >F1</th>\n",
       "      <th id=\"T_d2756_level0_col5\" class=\"col_heading level0 col5\" >Kappa</th>\n",
       "      <th id=\"T_d2756_level0_col6\" class=\"col_heading level0 col6\" >MCC</th>\n",
       "    </tr>\n",
       "    <tr>\n",
       "      <th class=\"index_name level0\" >Fold</th>\n",
       "      <th class=\"blank col0\" >&nbsp;</th>\n",
       "      <th class=\"blank col1\" >&nbsp;</th>\n",
       "      <th class=\"blank col2\" >&nbsp;</th>\n",
       "      <th class=\"blank col3\" >&nbsp;</th>\n",
       "      <th class=\"blank col4\" >&nbsp;</th>\n",
       "      <th class=\"blank col5\" >&nbsp;</th>\n",
       "      <th class=\"blank col6\" >&nbsp;</th>\n",
       "    </tr>\n",
       "  </thead>\n",
       "  <tbody>\n",
       "    <tr>\n",
       "      <th id=\"T_d2756_level0_row0\" class=\"row_heading level0 row0\" >0</th>\n",
       "      <td id=\"T_d2756_row0_col0\" class=\"data row0 col0\" >0.9722</td>\n",
       "      <td id=\"T_d2756_row0_col1\" class=\"data row0 col1\" >0.9565</td>\n",
       "      <td id=\"T_d2756_row0_col2\" class=\"data row0 col2\" >1.0000</td>\n",
       "      <td id=\"T_d2756_row0_col3\" class=\"data row0 col3\" >0.9718</td>\n",
       "      <td id=\"T_d2756_row0_col4\" class=\"data row0 col4\" >0.9857</td>\n",
       "      <td id=\"T_d2756_row0_col5\" class=\"data row0 col5\" >0.4894</td>\n",
       "      <td id=\"T_d2756_row0_col6\" class=\"data row0 col6\" >0.5692</td>\n",
       "    </tr>\n",
       "    <tr>\n",
       "      <th id=\"T_d2756_level0_row1\" class=\"row_heading level0 row1\" >1</th>\n",
       "      <td id=\"T_d2756_row1_col0\" class=\"data row1 col0\" >0.9577</td>\n",
       "      <td id=\"T_d2756_row1_col1\" class=\"data row1 col1\" >0.8545</td>\n",
       "      <td id=\"T_d2756_row1_col2\" class=\"data row1 col2\" >1.0000</td>\n",
       "      <td id=\"T_d2756_row1_col3\" class=\"data row1 col3\" >0.9565</td>\n",
       "      <td id=\"T_d2756_row1_col4\" class=\"data row1 col4\" >0.9778</td>\n",
       "      <td id=\"T_d2756_row1_col5\" class=\"data row1 col5\" >0.5535</td>\n",
       "      <td id=\"T_d2756_row1_col6\" class=\"data row1 col6\" >0.6186</td>\n",
       "    </tr>\n",
       "    <tr>\n",
       "      <th id=\"T_d2756_level0_row2\" class=\"row_heading level0 row2\" >2</th>\n",
       "      <td id=\"T_d2756_row2_col0\" class=\"data row2 col0\" >0.9296</td>\n",
       "      <td id=\"T_d2756_row2_col1\" class=\"data row2 col1\" >0.7364</td>\n",
       "      <td id=\"T_d2756_row2_col2\" class=\"data row2 col2\" >1.0000</td>\n",
       "      <td id=\"T_d2756_row2_col3\" class=\"data row2 col3\" >0.9296</td>\n",
       "      <td id=\"T_d2756_row2_col4\" class=\"data row2 col4\" >0.9635</td>\n",
       "      <td id=\"T_d2756_row2_col5\" class=\"data row2 col5\" >0.0000</td>\n",
       "      <td id=\"T_d2756_row2_col6\" class=\"data row2 col6\" >0.0000</td>\n",
       "    </tr>\n",
       "    <tr>\n",
       "      <th id=\"T_d2756_level0_row3\" class=\"row_heading level0 row3\" >3</th>\n",
       "      <td id=\"T_d2756_row3_col0\" class=\"data row3 col0\" >0.9577</td>\n",
       "      <td id=\"T_d2756_row3_col1\" class=\"data row3 col1\" >0.7030</td>\n",
       "      <td id=\"T_d2756_row3_col2\" class=\"data row3 col2\" >1.0000</td>\n",
       "      <td id=\"T_d2756_row3_col3\" class=\"data row3 col3\" >0.9565</td>\n",
       "      <td id=\"T_d2756_row3_col4\" class=\"data row3 col4\" >0.9778</td>\n",
       "      <td id=\"T_d2756_row3_col5\" class=\"data row3 col5\" >0.5535</td>\n",
       "      <td id=\"T_d2756_row3_col6\" class=\"data row3 col6\" >0.6186</td>\n",
       "    </tr>\n",
       "    <tr>\n",
       "      <th id=\"T_d2756_level0_row4\" class=\"row_heading level0 row4\" >4</th>\n",
       "      <td id=\"T_d2756_row4_col0\" class=\"data row4 col0\" >0.9437</td>\n",
       "      <td id=\"T_d2756_row4_col1\" class=\"data row4 col1\" >0.7273</td>\n",
       "      <td id=\"T_d2756_row4_col2\" class=\"data row4 col2\" >1.0000</td>\n",
       "      <td id=\"T_d2756_row4_col3\" class=\"data row4 col3\" >0.9429</td>\n",
       "      <td id=\"T_d2756_row4_col4\" class=\"data row4 col4\" >0.9706</td>\n",
       "      <td id=\"T_d2756_row4_col5\" class=\"data row4 col5\" >0.3173</td>\n",
       "      <td id=\"T_d2756_row4_col6\" class=\"data row4 col6\" >0.4342</td>\n",
       "    </tr>\n",
       "    <tr>\n",
       "      <th id=\"T_d2756_level0_row5\" class=\"row_heading level0 row5\" >Mean</th>\n",
       "      <td id=\"T_d2756_row5_col0\" class=\"data row5 col0\" >0.9522</td>\n",
       "      <td id=\"T_d2756_row5_col1\" class=\"data row5 col1\" >0.7955</td>\n",
       "      <td id=\"T_d2756_row5_col2\" class=\"data row5 col2\" >1.0000</td>\n",
       "      <td id=\"T_d2756_row5_col3\" class=\"data row5 col3\" >0.9515</td>\n",
       "      <td id=\"T_d2756_row5_col4\" class=\"data row5 col4\" >0.9751</td>\n",
       "      <td id=\"T_d2756_row5_col5\" class=\"data row5 col5\" >0.3827</td>\n",
       "      <td id=\"T_d2756_row5_col6\" class=\"data row5 col6\" >0.4481</td>\n",
       "    </tr>\n",
       "    <tr>\n",
       "      <th id=\"T_d2756_level0_row6\" class=\"row_heading level0 row6\" >Std</th>\n",
       "      <td id=\"T_d2756_row6_col0\" class=\"data row6 col0\" >0.0145</td>\n",
       "      <td id=\"T_d2756_row6_col1\" class=\"data row6 col1\" >0.0960</td>\n",
       "      <td id=\"T_d2756_row6_col2\" class=\"data row6 col2\" >0.0000</td>\n",
       "      <td id=\"T_d2756_row6_col3\" class=\"data row6 col3\" >0.0143</td>\n",
       "      <td id=\"T_d2756_row6_col4\" class=\"data row6 col4\" >0.0075</td>\n",
       "      <td id=\"T_d2756_row6_col5\" class=\"data row6 col5\" >0.2100</td>\n",
       "      <td id=\"T_d2756_row6_col6\" class=\"data row6 col6\" >0.2340</td>\n",
       "    </tr>\n",
       "  </tbody>\n",
       "</table>\n"
      ],
      "text/plain": [
       "<pandas.io.formats.style.Styler at 0x215a8f0db10>"
      ]
     },
     "metadata": {},
     "output_type": "display_data"
    },
    {
     "data": {
      "text/html": [],
      "text/plain": [
       "<IPython.core.display.HTML object>"
      ]
     },
     "metadata": {},
     "output_type": "display_data"
    },
    {
     "name": "stdout",
     "output_type": "stream",
     "text": [
      "Tuning hyperparameters for model xgboost with custom grid\n"
     ]
    },
    {
     "data": {
      "text/html": [],
      "text/plain": [
       "<IPython.core.display.HTML object>"
      ]
     },
     "metadata": {},
     "output_type": "display_data"
    },
    {
     "data": {
      "text/html": [
       "<style type=\"text/css\">\n",
       "#T_d7296_row5_col0, #T_d7296_row5_col1, #T_d7296_row5_col2, #T_d7296_row5_col3, #T_d7296_row5_col4, #T_d7296_row5_col5, #T_d7296_row5_col6 {\n",
       "  background: yellow;\n",
       "}\n",
       "</style>\n",
       "<table id=\"T_d7296\">\n",
       "  <thead>\n",
       "    <tr>\n",
       "      <th class=\"blank level0\" >&nbsp;</th>\n",
       "      <th id=\"T_d7296_level0_col0\" class=\"col_heading level0 col0\" >Accuracy</th>\n",
       "      <th id=\"T_d7296_level0_col1\" class=\"col_heading level0 col1\" >AUC</th>\n",
       "      <th id=\"T_d7296_level0_col2\" class=\"col_heading level0 col2\" >Recall</th>\n",
       "      <th id=\"T_d7296_level0_col3\" class=\"col_heading level0 col3\" >Prec.</th>\n",
       "      <th id=\"T_d7296_level0_col4\" class=\"col_heading level0 col4\" >F1</th>\n",
       "      <th id=\"T_d7296_level0_col5\" class=\"col_heading level0 col5\" >Kappa</th>\n",
       "      <th id=\"T_d7296_level0_col6\" class=\"col_heading level0 col6\" >MCC</th>\n",
       "    </tr>\n",
       "    <tr>\n",
       "      <th class=\"index_name level0\" >Fold</th>\n",
       "      <th class=\"blank col0\" >&nbsp;</th>\n",
       "      <th class=\"blank col1\" >&nbsp;</th>\n",
       "      <th class=\"blank col2\" >&nbsp;</th>\n",
       "      <th class=\"blank col3\" >&nbsp;</th>\n",
       "      <th class=\"blank col4\" >&nbsp;</th>\n",
       "      <th class=\"blank col5\" >&nbsp;</th>\n",
       "      <th class=\"blank col6\" >&nbsp;</th>\n",
       "    </tr>\n",
       "  </thead>\n",
       "  <tbody>\n",
       "    <tr>\n",
       "      <th id=\"T_d7296_level0_row0\" class=\"row_heading level0 row0\" >0</th>\n",
       "      <td id=\"T_d7296_row0_col0\" class=\"data row0 col0\" >0.9722</td>\n",
       "      <td id=\"T_d7296_row0_col1\" class=\"data row0 col1\" >0.9565</td>\n",
       "      <td id=\"T_d7296_row0_col2\" class=\"data row0 col2\" >1.0000</td>\n",
       "      <td id=\"T_d7296_row0_col3\" class=\"data row0 col3\" >0.9718</td>\n",
       "      <td id=\"T_d7296_row0_col4\" class=\"data row0 col4\" >0.9857</td>\n",
       "      <td id=\"T_d7296_row0_col5\" class=\"data row0 col5\" >0.4894</td>\n",
       "      <td id=\"T_d7296_row0_col6\" class=\"data row0 col6\" >0.5692</td>\n",
       "    </tr>\n",
       "    <tr>\n",
       "      <th id=\"T_d7296_level0_row1\" class=\"row_heading level0 row1\" >1</th>\n",
       "      <td id=\"T_d7296_row1_col0\" class=\"data row1 col0\" >0.9577</td>\n",
       "      <td id=\"T_d7296_row1_col1\" class=\"data row1 col1\" >0.8545</td>\n",
       "      <td id=\"T_d7296_row1_col2\" class=\"data row1 col2\" >1.0000</td>\n",
       "      <td id=\"T_d7296_row1_col3\" class=\"data row1 col3\" >0.9565</td>\n",
       "      <td id=\"T_d7296_row1_col4\" class=\"data row1 col4\" >0.9778</td>\n",
       "      <td id=\"T_d7296_row1_col5\" class=\"data row1 col5\" >0.5535</td>\n",
       "      <td id=\"T_d7296_row1_col6\" class=\"data row1 col6\" >0.6186</td>\n",
       "    </tr>\n",
       "    <tr>\n",
       "      <th id=\"T_d7296_level0_row2\" class=\"row_heading level0 row2\" >2</th>\n",
       "      <td id=\"T_d7296_row2_col0\" class=\"data row2 col0\" >0.9296</td>\n",
       "      <td id=\"T_d7296_row2_col1\" class=\"data row2 col1\" >0.7364</td>\n",
       "      <td id=\"T_d7296_row2_col2\" class=\"data row2 col2\" >1.0000</td>\n",
       "      <td id=\"T_d7296_row2_col3\" class=\"data row2 col3\" >0.9296</td>\n",
       "      <td id=\"T_d7296_row2_col4\" class=\"data row2 col4\" >0.9635</td>\n",
       "      <td id=\"T_d7296_row2_col5\" class=\"data row2 col5\" >0.0000</td>\n",
       "      <td id=\"T_d7296_row2_col6\" class=\"data row2 col6\" >0.0000</td>\n",
       "    </tr>\n",
       "    <tr>\n",
       "      <th id=\"T_d7296_level0_row3\" class=\"row_heading level0 row3\" >3</th>\n",
       "      <td id=\"T_d7296_row3_col0\" class=\"data row3 col0\" >0.9577</td>\n",
       "      <td id=\"T_d7296_row3_col1\" class=\"data row3 col1\" >0.7030</td>\n",
       "      <td id=\"T_d7296_row3_col2\" class=\"data row3 col2\" >1.0000</td>\n",
       "      <td id=\"T_d7296_row3_col3\" class=\"data row3 col3\" >0.9565</td>\n",
       "      <td id=\"T_d7296_row3_col4\" class=\"data row3 col4\" >0.9778</td>\n",
       "      <td id=\"T_d7296_row3_col5\" class=\"data row3 col5\" >0.5535</td>\n",
       "      <td id=\"T_d7296_row3_col6\" class=\"data row3 col6\" >0.6186</td>\n",
       "    </tr>\n",
       "    <tr>\n",
       "      <th id=\"T_d7296_level0_row4\" class=\"row_heading level0 row4\" >4</th>\n",
       "      <td id=\"T_d7296_row4_col0\" class=\"data row4 col0\" >0.9437</td>\n",
       "      <td id=\"T_d7296_row4_col1\" class=\"data row4 col1\" >0.7273</td>\n",
       "      <td id=\"T_d7296_row4_col2\" class=\"data row4 col2\" >1.0000</td>\n",
       "      <td id=\"T_d7296_row4_col3\" class=\"data row4 col3\" >0.9429</td>\n",
       "      <td id=\"T_d7296_row4_col4\" class=\"data row4 col4\" >0.9706</td>\n",
       "      <td id=\"T_d7296_row4_col5\" class=\"data row4 col5\" >0.3173</td>\n",
       "      <td id=\"T_d7296_row4_col6\" class=\"data row4 col6\" >0.4342</td>\n",
       "    </tr>\n",
       "    <tr>\n",
       "      <th id=\"T_d7296_level0_row5\" class=\"row_heading level0 row5\" >Mean</th>\n",
       "      <td id=\"T_d7296_row5_col0\" class=\"data row5 col0\" >0.9522</td>\n",
       "      <td id=\"T_d7296_row5_col1\" class=\"data row5 col1\" >0.7955</td>\n",
       "      <td id=\"T_d7296_row5_col2\" class=\"data row5 col2\" >1.0000</td>\n",
       "      <td id=\"T_d7296_row5_col3\" class=\"data row5 col3\" >0.9515</td>\n",
       "      <td id=\"T_d7296_row5_col4\" class=\"data row5 col4\" >0.9751</td>\n",
       "      <td id=\"T_d7296_row5_col5\" class=\"data row5 col5\" >0.3827</td>\n",
       "      <td id=\"T_d7296_row5_col6\" class=\"data row5 col6\" >0.4481</td>\n",
       "    </tr>\n",
       "    <tr>\n",
       "      <th id=\"T_d7296_level0_row6\" class=\"row_heading level0 row6\" >Std</th>\n",
       "      <td id=\"T_d7296_row6_col0\" class=\"data row6 col0\" >0.0145</td>\n",
       "      <td id=\"T_d7296_row6_col1\" class=\"data row6 col1\" >0.0960</td>\n",
       "      <td id=\"T_d7296_row6_col2\" class=\"data row6 col2\" >0.0000</td>\n",
       "      <td id=\"T_d7296_row6_col3\" class=\"data row6 col3\" >0.0143</td>\n",
       "      <td id=\"T_d7296_row6_col4\" class=\"data row6 col4\" >0.0075</td>\n",
       "      <td id=\"T_d7296_row6_col5\" class=\"data row6 col5\" >0.2100</td>\n",
       "      <td id=\"T_d7296_row6_col6\" class=\"data row6 col6\" >0.2340</td>\n",
       "    </tr>\n",
       "  </tbody>\n",
       "</table>\n"
      ],
      "text/plain": [
       "<pandas.io.formats.style.Styler at 0x215546b4a60>"
      ]
     },
     "metadata": {},
     "output_type": "display_data"
    },
    {
     "data": {
      "text/html": [],
      "text/plain": [
       "<IPython.core.display.HTML object>"
      ]
     },
     "metadata": {},
     "output_type": "display_data"
    },
    {
     "name": "stdout",
     "output_type": "stream",
     "text": [
      "Fitting 5 folds for each of 24 candidates, totalling 120 fits\n",
      "Original model was better than the tuned model, hence it will be returned. NOTE: The display metrics are for the tuned model (not the original one).\n",
      "Transformation Pipeline and Model Successfully Saved\n"
     ]
    },
    {
     "data": {
      "text/html": [
       "<style type=\"text/css\">\n",
       "</style>\n",
       "<table id=\"T_2b6b7\">\n",
       "  <thead>\n",
       "    <tr>\n",
       "      <th class=\"blank level0\" >&nbsp;</th>\n",
       "      <th id=\"T_2b6b7_level0_col0\" class=\"col_heading level0 col0\" >Model</th>\n",
       "      <th id=\"T_2b6b7_level0_col1\" class=\"col_heading level0 col1\" >Accuracy</th>\n",
       "      <th id=\"T_2b6b7_level0_col2\" class=\"col_heading level0 col2\" >AUC</th>\n",
       "      <th id=\"T_2b6b7_level0_col3\" class=\"col_heading level0 col3\" >Recall</th>\n",
       "      <th id=\"T_2b6b7_level0_col4\" class=\"col_heading level0 col4\" >Prec.</th>\n",
       "      <th id=\"T_2b6b7_level0_col5\" class=\"col_heading level0 col5\" >F1</th>\n",
       "      <th id=\"T_2b6b7_level0_col6\" class=\"col_heading level0 col6\" >Kappa</th>\n",
       "      <th id=\"T_2b6b7_level0_col7\" class=\"col_heading level0 col7\" >MCC</th>\n",
       "    </tr>\n",
       "  </thead>\n",
       "  <tbody>\n",
       "    <tr>\n",
       "      <th id=\"T_2b6b7_level0_row0\" class=\"row_heading level0 row0\" >0</th>\n",
       "      <td id=\"T_2b6b7_row0_col0\" class=\"data row0 col0\" >Extreme Gradient Boosting</td>\n",
       "      <td id=\"T_2b6b7_row0_col1\" class=\"data row0 col1\" >0.9550</td>\n",
       "      <td id=\"T_2b6b7_row0_col2\" class=\"data row0 col2\" >0.7995</td>\n",
       "      <td id=\"T_2b6b7_row0_col3\" class=\"data row0 col3\" >1.0000</td>\n",
       "      <td id=\"T_2b6b7_row0_col4\" class=\"data row0 col4\" >0.9541</td>\n",
       "      <td id=\"T_2b6b7_row0_col5\" class=\"data row0 col5\" >0.9765</td>\n",
       "      <td id=\"T_2b6b7_row0_col6\" class=\"data row0 col6\" >0.4284</td>\n",
       "      <td id=\"T_2b6b7_row0_col7\" class=\"data row0 col7\" >0.5221</td>\n",
       "    </tr>\n",
       "  </tbody>\n",
       "</table>\n"
      ],
      "text/plain": [
       "<pandas.io.formats.style.Styler at 0x215b9277a60>"
      ]
     },
     "metadata": {},
     "output_type": "display_data"
    },
    {
     "name": "stdout",
     "output_type": "stream",
     "text": [
      "Final metrics table:\n",
      "     Metric     Mean   Std Dev\n",
      "0  Accuracy  0.97220  0.013900\n",
      "1       AUC  0.80772  0.107070\n",
      "2    Recall  1.00000  0.000000\n",
      "3     Prec.  0.97196  0.013700\n",
      "4        F1  0.98574  0.007050\n",
      "5     Kappa  0.41512  0.398718\n",
      "6       MCC  0.43808  0.411875\n"
     ]
    }
   ],
   "source": [
    "# Initialize the PyCaret Evaluator\n",
    "evaluator = PyCaretEvaluator(dataset=dataset, target=\"Fracture\", experiment_name=\"CP_Fracture\", filepath=\"./results/fracture\")\n",
    "\n",
    "evaluator.run_experiment(\n",
    "    train_size=0.8,\n",
    "    fold=5,\n",
    "    fold_strategy='kfold',\n",
    "    outer_fold=5,\n",
    "    outer_strategy='stratifiedkfold',\n",
    "    session_id=42,\n",
    "    model='xgboost',\n",
    "    optimize='AUC',\n",
    "    custom_grid=grid_hps,  # Grid d'hyperparamètres\n",
    "     # Paramètres fixes\n",
    ")"
   ]
  }
 ],
 "metadata": {
  "kernelspec": {
   "display_name": "Python 3",
   "language": "python",
   "name": "python3"
  },
  "language_info": {
   "codemirror_mode": {
    "name": "ipython",
    "version": 3
   },
   "file_extension": ".py",
   "mimetype": "text/x-python",
   "name": "python",
   "nbconvert_exporter": "python",
   "pygments_lexer": "ipython3",
   "version": "3.10.6"
  }
 },
 "nbformat": 4,
 "nbformat_minor": 5
}
