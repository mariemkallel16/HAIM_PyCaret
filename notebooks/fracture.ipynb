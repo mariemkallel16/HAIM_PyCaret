{
 "cells": [
  {
   "cell_type": "markdown",
   "id": "c4139f23",
   "metadata": {},
   "source": [
    "# Pathology prediction (fracture)\n",
    "\n",
    "@References : Soenksen, L.R., Ma, Y., Zeng, C. et al. Integrated multimodal artificial intelligence framework for healthcare applications. npj Digit. Med. 5, 149 (2022). https://doi.org/10.1038/s41746-022-00689-4\n",
    "\n",
    "In this notebook, the task is to predict the fracture pathology using the CSV embeddings file"
   ]
  },
  {
   "cell_type": "markdown",
   "id": "8e9e247e",
   "metadata": {},
   "source": [
    "## Introduction\n"
   ]
  },
  {
   "attachments": {},
   "cell_type": "markdown",
   "id": "321d5924",
   "metadata": {},
   "source": [
    "Radiology notes were processed to determine if each of the pathologies was explicitly confirmed as present (value = 1), explicitly confirmed as absent (value = 0), inconclusive in the study (value = −1), or not explored (no value).\n",
    "\n",
    "Selected samples :  0 or 1 values (removing the rest from the training and testing data).\n",
    "\n",
    "Excluded variables : the unstructured radiology notes component (E_rad ) from the allowable input to avoid potential overfitting or misrepresentations of real predictive value. \n",
    "\n",
    "The model is based on binary classification for each target chest pathology.\n",
    "\n",
    "Final sample size for the fracture pathology is : (N = 557)"
   ]
  },
  {
   "cell_type": "markdown",
   "id": "59600fd4",
   "metadata": {},
   "source": [
    "#### Imports"
   ]
  },
  {
   "cell_type": "code",
   "execution_count": 1,
   "id": "2d0990d5",
   "metadata": {},
   "outputs": [],
   "source": [
    "import os\n",
    "os.chdir('../')\n",
    "\n",
    "from pandas import read_csv\n",
    "\n",
    "from src.data import constants\n",
    "from src.data.dataset import HAIMDataset\n",
    "from src.evaluation.pycaret_evaluator import PyCaretEvaluator\n",
    "from src.utils.metric_scores import *"
   ]
  },
  {
   "cell_type": "markdown",
   "id": "645a1fe8",
   "metadata": {},
   "source": [
    "#### Read data from local source\n",
    "\n"
   ]
  },
  {
   "cell_type": "code",
   "execution_count": 2,
   "id": "a948c18c",
   "metadata": {},
   "outputs": [],
   "source": [
    "df = read_csv(constants.FILE_DF, nrows=constants.N_DATA)"
   ]
  },
  {
   "cell_type": "markdown",
   "id": "90a95053",
   "metadata": {},
   "source": [
    "#### Create a custom dataset for the HAIM experiment\n"
   ]
  },
  {
   "cell_type": "markdown",
   "id": "a47ba159",
   "metadata": {},
   "source": [
    "Build the target column for the task at hand, set the dataset specificities:  the ``haim_id`` as a ``global_id``, use all sources except ``radiology notes`` "
   ]
  },
  {
   "cell_type": "code",
   "execution_count": 3,
   "id": "239db8a3",
   "metadata": {},
   "outputs": [],
   "source": [
    "dataset = HAIMDataset(df,  \n",
    "                      constants.CHEST_PREDICTORS, \n",
    "                      constants.ALL_MODALITIES, \n",
    "                      constants.FRACTURE, \n",
    "                      constants.IMG_ID, \n",
    "                      constants.GLOBAL_ID)"
   ]
  },
  {
   "cell_type": "markdown",
   "id": "e280f91d",
   "metadata": {},
   "source": [
    "#### Set hyper-parameters"
   ]
  },
  {
   "cell_type": "code",
   "execution_count": 4,
   "id": "8d254fef",
   "metadata": {},
   "outputs": [],
   "source": [
    "# Define the grid oh hyper-parameters for the tuning\n",
    "grid_hps = {'max_depth': [5, 6, 7, 8],\n",
    "            'n_estimators': [200, 300],\n",
    "            'learning_rate': [0.3, 0.1, 0.05],\n",
    "            }"
   ]
  },
  {
   "cell_type": "markdown",
   "id": "75fd10ab",
   "metadata": {},
   "source": [
    "### Model training and predictions using an XGBClassifier model with GridSearchCV and Hyperparameters optimization\n"
   ]
  },
  {
   "cell_type": "markdown",
   "id": "d04a4c63",
   "metadata": {},
   "source": [
    "The goal of this section of the notebook is to compute the following metrics:\n",
    "\n",
    "``ACCURACY_SCORE, BALANCED_ACCURACY_SCORE, SENSITIVITY, SPECIFICITY, AUC, BRIER SCORE, BINARY CROSS-ENTROPY``\n",
    "\n",
    "\n",
    "The\n",
    "hyperparameter combinations of individual XGBoost models were\n",
    "selected within each training loop using a ``fivefold cross-validated\n",
    "grid search`` on the training set (80%). This XGBoost ``tuning process``\n",
    "selected the ``maximum depth of the trees (5–8)``, the number of\n",
    "``estimators (200 or 300)``, and the ``learning rate (0.05, 0.1, 0.3)``\n",
    "according to the parameter value combination leading to the\n",
    "highest observed AUROC within the training loop \n",
    "\n",
    "\n",
    "As mentioned previously, all XGBoost models were trained ``five times with five different data splits`` to repeat the\n",
    "experiments and compute average metrics \n",
    "\n",
    "\n",
    "```Refer to page 8 of study``` : https://doi.org/10.1038/s41746-022-00689-4"
   ]
  },
  {
   "cell_type": "code",
   "execution_count": 5,
   "id": "726c2332",
   "metadata": {},
   "outputs": [
    {
     "name": "stdout",
     "output_type": "stream",
     "text": [
      "Outer fold 1/5\n",
      "Configuring PyCaret for outer fold 1\n",
      "Creating model xgboost for outer fold 1\n"
     ]
    },
    {
     "data": {
      "text/html": [],
      "text/plain": [
       "<IPython.core.display.HTML object>"
      ]
     },
     "metadata": {},
     "output_type": "display_data"
    },
    {
     "data": {
      "text/html": [
       "<style type=\"text/css\">\n",
       "#T_e239e_row5_col0, #T_e239e_row5_col1, #T_e239e_row5_col2, #T_e239e_row5_col3, #T_e239e_row5_col4, #T_e239e_row5_col5, #T_e239e_row5_col6 {\n",
       "  background: yellow;\n",
       "}\n",
       "</style>\n",
       "<table id=\"T_e239e\">\n",
       "  <thead>\n",
       "    <tr>\n",
       "      <th class=\"blank level0\" >&nbsp;</th>\n",
       "      <th id=\"T_e239e_level0_col0\" class=\"col_heading level0 col0\" >Accuracy</th>\n",
       "      <th id=\"T_e239e_level0_col1\" class=\"col_heading level0 col1\" >AUC</th>\n",
       "      <th id=\"T_e239e_level0_col2\" class=\"col_heading level0 col2\" >Recall</th>\n",
       "      <th id=\"T_e239e_level0_col3\" class=\"col_heading level0 col3\" >Prec.</th>\n",
       "      <th id=\"T_e239e_level0_col4\" class=\"col_heading level0 col4\" >F1</th>\n",
       "      <th id=\"T_e239e_level0_col5\" class=\"col_heading level0 col5\" >Kappa</th>\n",
       "      <th id=\"T_e239e_level0_col6\" class=\"col_heading level0 col6\" >MCC</th>\n",
       "    </tr>\n",
       "    <tr>\n",
       "      <th class=\"index_name level0\" >Fold</th>\n",
       "      <th class=\"blank col0\" >&nbsp;</th>\n",
       "      <th class=\"blank col1\" >&nbsp;</th>\n",
       "      <th class=\"blank col2\" >&nbsp;</th>\n",
       "      <th class=\"blank col3\" >&nbsp;</th>\n",
       "      <th class=\"blank col4\" >&nbsp;</th>\n",
       "      <th class=\"blank col5\" >&nbsp;</th>\n",
       "      <th class=\"blank col6\" >&nbsp;</th>\n",
       "    </tr>\n",
       "  </thead>\n",
       "  <tbody>\n",
       "    <tr>\n",
       "      <th id=\"T_e239e_level0_row0\" class=\"row_heading level0 row0\" >0</th>\n",
       "      <td id=\"T_e239e_row0_col0\" class=\"data row0 col0\" >0.9444</td>\n",
       "      <td id=\"T_e239e_row0_col1\" class=\"data row0 col1\" >0.7821</td>\n",
       "      <td id=\"T_e239e_row0_col2\" class=\"data row0 col2\" >1.0000</td>\n",
       "      <td id=\"T_e239e_row0_col3\" class=\"data row0 col3\" >0.9437</td>\n",
       "      <td id=\"T_e239e_row0_col4\" class=\"data row0 col4\" >0.9710</td>\n",
       "      <td id=\"T_e239e_row0_col5\" class=\"data row0 col5\" >0.3175</td>\n",
       "      <td id=\"T_e239e_row0_col6\" class=\"data row0 col6\" >0.4344</td>\n",
       "    </tr>\n",
       "    <tr>\n",
       "      <th id=\"T_e239e_level0_row1\" class=\"row_heading level0 row1\" >1</th>\n",
       "      <td id=\"T_e239e_row1_col0\" class=\"data row1 col0\" >0.9437</td>\n",
       "      <td id=\"T_e239e_row1_col1\" class=\"data row1 col1\" >0.6940</td>\n",
       "      <td id=\"T_e239e_row1_col2\" class=\"data row1 col2\" >1.0000</td>\n",
       "      <td id=\"T_e239e_row1_col3\" class=\"data row1 col3\" >0.9437</td>\n",
       "      <td id=\"T_e239e_row1_col4\" class=\"data row1 col4\" >0.9710</td>\n",
       "      <td id=\"T_e239e_row1_col5\" class=\"data row1 col5\" >0.0000</td>\n",
       "      <td id=\"T_e239e_row1_col6\" class=\"data row1 col6\" >0.0000</td>\n",
       "    </tr>\n",
       "    <tr>\n",
       "      <th id=\"T_e239e_level0_row2\" class=\"row_heading level0 row2\" >2</th>\n",
       "      <td id=\"T_e239e_row2_col0\" class=\"data row2 col0\" >0.9718</td>\n",
       "      <td id=\"T_e239e_row2_col1\" class=\"data row2 col1\" >0.8507</td>\n",
       "      <td id=\"T_e239e_row2_col2\" class=\"data row2 col2\" >1.0000</td>\n",
       "      <td id=\"T_e239e_row2_col3\" class=\"data row2 col3\" >0.9710</td>\n",
       "      <td id=\"T_e239e_row2_col4\" class=\"data row2 col4\" >0.9853</td>\n",
       "      <td id=\"T_e239e_row2_col5\" class=\"data row2 col5\" >0.6537</td>\n",
       "      <td id=\"T_e239e_row2_col6\" class=\"data row2 col6\" >0.6968</td>\n",
       "    </tr>\n",
       "    <tr>\n",
       "      <th id=\"T_e239e_level0_row3\" class=\"row_heading level0 row3\" >3</th>\n",
       "      <td id=\"T_e239e_row3_col0\" class=\"data row3 col0\" >0.9577</td>\n",
       "      <td id=\"T_e239e_row3_col1\" class=\"data row3 col1\" >0.8394</td>\n",
       "      <td id=\"T_e239e_row3_col2\" class=\"data row3 col2\" >1.0000</td>\n",
       "      <td id=\"T_e239e_row3_col3\" class=\"data row3 col3\" >0.9565</td>\n",
       "      <td id=\"T_e239e_row3_col4\" class=\"data row3 col4\" >0.9778</td>\n",
       "      <td id=\"T_e239e_row3_col5\" class=\"data row3 col5\" >0.5535</td>\n",
       "      <td id=\"T_e239e_row3_col6\" class=\"data row3 col6\" >0.6186</td>\n",
       "    </tr>\n",
       "    <tr>\n",
       "      <th id=\"T_e239e_level0_row4\" class=\"row_heading level0 row4\" >4</th>\n",
       "      <td id=\"T_e239e_row4_col0\" class=\"data row4 col0\" >0.9437</td>\n",
       "      <td id=\"T_e239e_row4_col1\" class=\"data row4 col1\" >0.5455</td>\n",
       "      <td id=\"T_e239e_row4_col2\" class=\"data row4 col2\" >1.0000</td>\n",
       "      <td id=\"T_e239e_row4_col3\" class=\"data row4 col3\" >0.9429</td>\n",
       "      <td id=\"T_e239e_row4_col4\" class=\"data row4 col4\" >0.9706</td>\n",
       "      <td id=\"T_e239e_row4_col5\" class=\"data row4 col5\" >0.3173</td>\n",
       "      <td id=\"T_e239e_row4_col6\" class=\"data row4 col6\" >0.4342</td>\n",
       "    </tr>\n",
       "    <tr>\n",
       "      <th id=\"T_e239e_level0_row5\" class=\"row_heading level0 row5\" >Mean</th>\n",
       "      <td id=\"T_e239e_row5_col0\" class=\"data row5 col0\" >0.9523</td>\n",
       "      <td id=\"T_e239e_row5_col1\" class=\"data row5 col1\" >0.7423</td>\n",
       "      <td id=\"T_e239e_row5_col2\" class=\"data row5 col2\" >1.0000</td>\n",
       "      <td id=\"T_e239e_row5_col3\" class=\"data row5 col3\" >0.9515</td>\n",
       "      <td id=\"T_e239e_row5_col4\" class=\"data row5 col4\" >0.9751</td>\n",
       "      <td id=\"T_e239e_row5_col5\" class=\"data row5 col5\" >0.3684</td>\n",
       "      <td id=\"T_e239e_row5_col6\" class=\"data row5 col6\" >0.4368</td>\n",
       "    </tr>\n",
       "    <tr>\n",
       "      <th id=\"T_e239e_level0_row6\" class=\"row_heading level0 row6\" >Std</th>\n",
       "      <td id=\"T_e239e_row6_col0\" class=\"data row6 col0\" >0.0112</td>\n",
       "      <td id=\"T_e239e_row6_col1\" class=\"data row6 col1\" >0.1130</td>\n",
       "      <td id=\"T_e239e_row6_col2\" class=\"data row6 col2\" >0.0000</td>\n",
       "      <td id=\"T_e239e_row6_col3\" class=\"data row6 col3\" >0.0110</td>\n",
       "      <td id=\"T_e239e_row6_col4\" class=\"data row6 col4\" >0.0057</td>\n",
       "      <td id=\"T_e239e_row6_col5\" class=\"data row6 col5\" >0.2265</td>\n",
       "      <td id=\"T_e239e_row6_col6\" class=\"data row6 col6\" >0.2414</td>\n",
       "    </tr>\n",
       "  </tbody>\n",
       "</table>\n"
      ],
      "text/plain": [
       "<pandas.io.formats.style.Styler at 0x7ff7cd93da90>"
      ]
     },
     "metadata": {},
     "output_type": "display_data"
    },
    {
     "data": {
      "text/html": [],
      "text/plain": [
       "<IPython.core.display.HTML object>"
      ]
     },
     "metadata": {},
     "output_type": "display_data"
    },
    {
     "name": "stdout",
     "output_type": "stream",
     "text": [
      "Tuning hyperparameters for model xgboost with custom grid\n"
     ]
    },
    {
     "data": {
      "text/html": [],
      "text/plain": [
       "<IPython.core.display.HTML object>"
      ]
     },
     "metadata": {},
     "output_type": "display_data"
    },
    {
     "data": {
      "text/html": [
       "<style type=\"text/css\">\n",
       "#T_3f4b9_row5_col0, #T_3f4b9_row5_col1, #T_3f4b9_row5_col2, #T_3f4b9_row5_col3, #T_3f4b9_row5_col4, #T_3f4b9_row5_col5, #T_3f4b9_row5_col6 {\n",
       "  background: yellow;\n",
       "}\n",
       "</style>\n",
       "<table id=\"T_3f4b9\">\n",
       "  <thead>\n",
       "    <tr>\n",
       "      <th class=\"blank level0\" >&nbsp;</th>\n",
       "      <th id=\"T_3f4b9_level0_col0\" class=\"col_heading level0 col0\" >Accuracy</th>\n",
       "      <th id=\"T_3f4b9_level0_col1\" class=\"col_heading level0 col1\" >AUC</th>\n",
       "      <th id=\"T_3f4b9_level0_col2\" class=\"col_heading level0 col2\" >Recall</th>\n",
       "      <th id=\"T_3f4b9_level0_col3\" class=\"col_heading level0 col3\" >Prec.</th>\n",
       "      <th id=\"T_3f4b9_level0_col4\" class=\"col_heading level0 col4\" >F1</th>\n",
       "      <th id=\"T_3f4b9_level0_col5\" class=\"col_heading level0 col5\" >Kappa</th>\n",
       "      <th id=\"T_3f4b9_level0_col6\" class=\"col_heading level0 col6\" >MCC</th>\n",
       "    </tr>\n",
       "    <tr>\n",
       "      <th class=\"index_name level0\" >Fold</th>\n",
       "      <th class=\"blank col0\" >&nbsp;</th>\n",
       "      <th class=\"blank col1\" >&nbsp;</th>\n",
       "      <th class=\"blank col2\" >&nbsp;</th>\n",
       "      <th class=\"blank col3\" >&nbsp;</th>\n",
       "      <th class=\"blank col4\" >&nbsp;</th>\n",
       "      <th class=\"blank col5\" >&nbsp;</th>\n",
       "      <th class=\"blank col6\" >&nbsp;</th>\n",
       "    </tr>\n",
       "  </thead>\n",
       "  <tbody>\n",
       "    <tr>\n",
       "      <th id=\"T_3f4b9_level0_row0\" class=\"row_heading level0 row0\" >0</th>\n",
       "      <td id=\"T_3f4b9_row0_col0\" class=\"data row0 col0\" >0.9722</td>\n",
       "      <td id=\"T_3f4b9_row0_col1\" class=\"data row0 col1\" >0.8776</td>\n",
       "      <td id=\"T_3f4b9_row0_col2\" class=\"data row0 col2\" >1.0000</td>\n",
       "      <td id=\"T_3f4b9_row0_col3\" class=\"data row0 col3\" >0.9710</td>\n",
       "      <td id=\"T_3f4b9_row0_col4\" class=\"data row0 col4\" >0.9853</td>\n",
       "      <td id=\"T_3f4b9_row0_col5\" class=\"data row0 col5\" >0.7363</td>\n",
       "      <td id=\"T_3f4b9_row0_col6\" class=\"data row0 col6\" >0.7633</td>\n",
       "    </tr>\n",
       "    <tr>\n",
       "      <th id=\"T_3f4b9_level0_row1\" class=\"row_heading level0 row1\" >1</th>\n",
       "      <td id=\"T_3f4b9_row1_col0\" class=\"data row1 col0\" >0.9577</td>\n",
       "      <td id=\"T_3f4b9_row1_col1\" class=\"data row1 col1\" >0.8470</td>\n",
       "      <td id=\"T_3f4b9_row1_col2\" class=\"data row1 col2\" >1.0000</td>\n",
       "      <td id=\"T_3f4b9_row1_col3\" class=\"data row1 col3\" >0.9571</td>\n",
       "      <td id=\"T_3f4b9_row1_col4\" class=\"data row1 col4\" >0.9781</td>\n",
       "      <td id=\"T_3f4b9_row1_col5\" class=\"data row1 col5\" >0.3862</td>\n",
       "      <td id=\"T_3f4b9_row1_col6\" class=\"data row1 col6\" >0.4892</td>\n",
       "    </tr>\n",
       "    <tr>\n",
       "      <th id=\"T_3f4b9_level0_row2\" class=\"row_heading level0 row2\" >2</th>\n",
       "      <td id=\"T_3f4b9_row2_col0\" class=\"data row2 col0\" >0.9718</td>\n",
       "      <td id=\"T_3f4b9_row2_col1\" class=\"data row2 col1\" >0.8918</td>\n",
       "      <td id=\"T_3f4b9_row2_col2\" class=\"data row2 col2\" >1.0000</td>\n",
       "      <td id=\"T_3f4b9_row2_col3\" class=\"data row2 col3\" >0.9710</td>\n",
       "      <td id=\"T_3f4b9_row2_col4\" class=\"data row2 col4\" >0.9853</td>\n",
       "      <td id=\"T_3f4b9_row2_col5\" class=\"data row2 col5\" >0.6537</td>\n",
       "      <td id=\"T_3f4b9_row2_col6\" class=\"data row2 col6\" >0.6968</td>\n",
       "    </tr>\n",
       "    <tr>\n",
       "      <th id=\"T_3f4b9_level0_row3\" class=\"row_heading level0 row3\" >3</th>\n",
       "      <td id=\"T_3f4b9_row3_col0\" class=\"data row3 col0\" >0.9577</td>\n",
       "      <td id=\"T_3f4b9_row3_col1\" class=\"data row3 col1\" >0.9394</td>\n",
       "      <td id=\"T_3f4b9_row3_col2\" class=\"data row3 col2\" >1.0000</td>\n",
       "      <td id=\"T_3f4b9_row3_col3\" class=\"data row3 col3\" >0.9565</td>\n",
       "      <td id=\"T_3f4b9_row3_col4\" class=\"data row3 col4\" >0.9778</td>\n",
       "      <td id=\"T_3f4b9_row3_col5\" class=\"data row3 col5\" >0.5535</td>\n",
       "      <td id=\"T_3f4b9_row3_col6\" class=\"data row3 col6\" >0.6186</td>\n",
       "    </tr>\n",
       "    <tr>\n",
       "      <th id=\"T_3f4b9_level0_row4\" class=\"row_heading level0 row4\" >4</th>\n",
       "      <td id=\"T_3f4b9_row4_col0\" class=\"data row4 col0\" >0.9437</td>\n",
       "      <td id=\"T_3f4b9_row4_col1\" class=\"data row4 col1\" >0.5970</td>\n",
       "      <td id=\"T_3f4b9_row4_col2\" class=\"data row4 col2\" >1.0000</td>\n",
       "      <td id=\"T_3f4b9_row4_col3\" class=\"data row4 col3\" >0.9429</td>\n",
       "      <td id=\"T_3f4b9_row4_col4\" class=\"data row4 col4\" >0.9706</td>\n",
       "      <td id=\"T_3f4b9_row4_col5\" class=\"data row4 col5\" >0.3173</td>\n",
       "      <td id=\"T_3f4b9_row4_col6\" class=\"data row4 col6\" >0.4342</td>\n",
       "    </tr>\n",
       "    <tr>\n",
       "      <th id=\"T_3f4b9_level0_row5\" class=\"row_heading level0 row5\" >Mean</th>\n",
       "      <td id=\"T_3f4b9_row5_col0\" class=\"data row5 col0\" >0.9606</td>\n",
       "      <td id=\"T_3f4b9_row5_col1\" class=\"data row5 col1\" >0.8306</td>\n",
       "      <td id=\"T_3f4b9_row5_col2\" class=\"data row5 col2\" >1.0000</td>\n",
       "      <td id=\"T_3f4b9_row5_col3\" class=\"data row5 col3\" >0.9597</td>\n",
       "      <td id=\"T_3f4b9_row5_col4\" class=\"data row5 col4\" >0.9794</td>\n",
       "      <td id=\"T_3f4b9_row5_col5\" class=\"data row5 col5\" >0.5294</td>\n",
       "      <td id=\"T_3f4b9_row5_col6\" class=\"data row5 col6\" >0.6004</td>\n",
       "    </tr>\n",
       "    <tr>\n",
       "      <th id=\"T_3f4b9_level0_row6\" class=\"row_heading level0 row6\" >Std</th>\n",
       "      <td id=\"T_3f4b9_row6_col0\" class=\"data row6 col0\" >0.0106</td>\n",
       "      <td id=\"T_3f4b9_row6_col1\" class=\"data row6 col1\" >0.1205</td>\n",
       "      <td id=\"T_3f4b9_row6_col2\" class=\"data row6 col2\" >0.0000</td>\n",
       "      <td id=\"T_3f4b9_row6_col3\" class=\"data row6 col3\" >0.0105</td>\n",
       "      <td id=\"T_3f4b9_row6_col4\" class=\"data row6 col4\" >0.0055</td>\n",
       "      <td id=\"T_3f4b9_row6_col5\" class=\"data row6 col5\" >0.1577</td>\n",
       "      <td id=\"T_3f4b9_row6_col6\" class=\"data row6 col6\" >0.1234</td>\n",
       "    </tr>\n",
       "  </tbody>\n",
       "</table>\n"
      ],
      "text/plain": [
       "<pandas.io.formats.style.Styler at 0x7ff7f67cbe90>"
      ]
     },
     "metadata": {},
     "output_type": "display_data"
    },
    {
     "data": {
      "text/html": [],
      "text/plain": [
       "<IPython.core.display.HTML object>"
      ]
     },
     "metadata": {},
     "output_type": "display_data"
    },
    {
     "name": "stdout",
     "output_type": "stream",
     "text": [
      "Fitting 5 folds for each of 10 candidates, totalling 50 fits\n",
      "Transformation Pipeline and Model Successfully Saved\n"
     ]
    },
    {
     "data": {
      "text/html": [
       "<style type=\"text/css\">\n",
       "</style>\n",
       "<table id=\"T_d6a75\">\n",
       "  <thead>\n",
       "    <tr>\n",
       "      <th class=\"blank level0\" >&nbsp;</th>\n",
       "      <th id=\"T_d6a75_level0_col0\" class=\"col_heading level0 col0\" >Model</th>\n",
       "      <th id=\"T_d6a75_level0_col1\" class=\"col_heading level0 col1\" >Accuracy</th>\n",
       "      <th id=\"T_d6a75_level0_col2\" class=\"col_heading level0 col2\" >AUC</th>\n",
       "      <th id=\"T_d6a75_level0_col3\" class=\"col_heading level0 col3\" >Recall</th>\n",
       "      <th id=\"T_d6a75_level0_col4\" class=\"col_heading level0 col4\" >Prec.</th>\n",
       "      <th id=\"T_d6a75_level0_col5\" class=\"col_heading level0 col5\" >F1</th>\n",
       "      <th id=\"T_d6a75_level0_col6\" class=\"col_heading level0 col6\" >Kappa</th>\n",
       "      <th id=\"T_d6a75_level0_col7\" class=\"col_heading level0 col7\" >MCC</th>\n",
       "    </tr>\n",
       "  </thead>\n",
       "  <tbody>\n",
       "    <tr>\n",
       "      <th id=\"T_d6a75_level0_row0\" class=\"row_heading level0 row0\" >0</th>\n",
       "      <td id=\"T_d6a75_row0_col0\" class=\"data row0 col0\" >Extreme Gradient Boosting</td>\n",
       "      <td id=\"T_d6a75_row0_col1\" class=\"data row0 col1\" >0.9375</td>\n",
       "      <td id=\"T_d6a75_row0_col2\" class=\"data row0 col2\" >0.7088</td>\n",
       "      <td id=\"T_d6a75_row0_col3\" class=\"data row0 col3\" >1.0000</td>\n",
       "      <td id=\"T_d6a75_row0_col4\" class=\"data row0 col4\" >0.9375</td>\n",
       "      <td id=\"T_d6a75_row0_col5\" class=\"data row0 col5\" >0.9677</td>\n",
       "      <td id=\"T_d6a75_row0_col6\" class=\"data row0 col6\" >0.0000</td>\n",
       "      <td id=\"T_d6a75_row0_col7\" class=\"data row0 col7\" >0.0000</td>\n",
       "    </tr>\n",
       "  </tbody>\n",
       "</table>\n"
      ],
      "text/plain": [
       "<pandas.io.formats.style.Styler at 0x7ff7e365ca50>"
      ]
     },
     "metadata": {},
     "output_type": "display_data"
    },
    {
     "name": "stdout",
     "output_type": "stream",
     "text": [
      "Outer fold 2/5\n",
      "Configuring PyCaret for outer fold 2\n",
      "Creating model xgboost for outer fold 2\n"
     ]
    },
    {
     "data": {
      "text/html": [],
      "text/plain": [
       "<IPython.core.display.HTML object>"
      ]
     },
     "metadata": {},
     "output_type": "display_data"
    },
    {
     "data": {
      "text/html": [
       "<style type=\"text/css\">\n",
       "#T_e9cc6_row5_col0, #T_e9cc6_row5_col1, #T_e9cc6_row5_col2, #T_e9cc6_row5_col3, #T_e9cc6_row5_col4, #T_e9cc6_row5_col5, #T_e9cc6_row5_col6 {\n",
       "  background: yellow;\n",
       "}\n",
       "</style>\n",
       "<table id=\"T_e9cc6\">\n",
       "  <thead>\n",
       "    <tr>\n",
       "      <th class=\"blank level0\" >&nbsp;</th>\n",
       "      <th id=\"T_e9cc6_level0_col0\" class=\"col_heading level0 col0\" >Accuracy</th>\n",
       "      <th id=\"T_e9cc6_level0_col1\" class=\"col_heading level0 col1\" >AUC</th>\n",
       "      <th id=\"T_e9cc6_level0_col2\" class=\"col_heading level0 col2\" >Recall</th>\n",
       "      <th id=\"T_e9cc6_level0_col3\" class=\"col_heading level0 col3\" >Prec.</th>\n",
       "      <th id=\"T_e9cc6_level0_col4\" class=\"col_heading level0 col4\" >F1</th>\n",
       "      <th id=\"T_e9cc6_level0_col5\" class=\"col_heading level0 col5\" >Kappa</th>\n",
       "      <th id=\"T_e9cc6_level0_col6\" class=\"col_heading level0 col6\" >MCC</th>\n",
       "    </tr>\n",
       "    <tr>\n",
       "      <th class=\"index_name level0\" >Fold</th>\n",
       "      <th class=\"blank col0\" >&nbsp;</th>\n",
       "      <th class=\"blank col1\" >&nbsp;</th>\n",
       "      <th class=\"blank col2\" >&nbsp;</th>\n",
       "      <th class=\"blank col3\" >&nbsp;</th>\n",
       "      <th class=\"blank col4\" >&nbsp;</th>\n",
       "      <th class=\"blank col5\" >&nbsp;</th>\n",
       "      <th class=\"blank col6\" >&nbsp;</th>\n",
       "    </tr>\n",
       "  </thead>\n",
       "  <tbody>\n",
       "    <tr>\n",
       "      <th id=\"T_e9cc6_level0_row0\" class=\"row_heading level0 row0\" >0</th>\n",
       "      <td id=\"T_e9cc6_row0_col0\" class=\"data row0 col0\" >0.9306</td>\n",
       "      <td id=\"T_e9cc6_row0_col1\" class=\"data row0 col1\" >0.5970</td>\n",
       "      <td id=\"T_e9cc6_row0_col2\" class=\"data row0 col2\" >1.0000</td>\n",
       "      <td id=\"T_e9cc6_row0_col3\" class=\"data row0 col3\" >0.9306</td>\n",
       "      <td id=\"T_e9cc6_row0_col4\" class=\"data row0 col4\" >0.9640</td>\n",
       "      <td id=\"T_e9cc6_row0_col5\" class=\"data row0 col5\" >0.0000</td>\n",
       "      <td id=\"T_e9cc6_row0_col6\" class=\"data row0 col6\" >0.0000</td>\n",
       "    </tr>\n",
       "    <tr>\n",
       "      <th id=\"T_e9cc6_level0_row1\" class=\"row_heading level0 row1\" >1</th>\n",
       "      <td id=\"T_e9cc6_row1_col0\" class=\"data row1 col0\" >0.9437</td>\n",
       "      <td id=\"T_e9cc6_row1_col1\" class=\"data row1 col1\" >0.9216</td>\n",
       "      <td id=\"T_e9cc6_row1_col2\" class=\"data row1 col2\" >1.0000</td>\n",
       "      <td id=\"T_e9cc6_row1_col3\" class=\"data row1 col3\" >0.9437</td>\n",
       "      <td id=\"T_e9cc6_row1_col4\" class=\"data row1 col4\" >0.9710</td>\n",
       "      <td id=\"T_e9cc6_row1_col5\" class=\"data row1 col5\" >0.0000</td>\n",
       "      <td id=\"T_e9cc6_row1_col6\" class=\"data row1 col6\" >0.0000</td>\n",
       "    </tr>\n",
       "    <tr>\n",
       "      <th id=\"T_e9cc6_level0_row2\" class=\"row_heading level0 row2\" >2</th>\n",
       "      <td id=\"T_e9cc6_row2_col0\" class=\"data row2 col0\" >0.9437</td>\n",
       "      <td id=\"T_e9cc6_row2_col1\" class=\"data row2 col1\" >0.7799</td>\n",
       "      <td id=\"T_e9cc6_row2_col2\" class=\"data row2 col2\" >1.0000</td>\n",
       "      <td id=\"T_e9cc6_row2_col3\" class=\"data row2 col3\" >0.9437</td>\n",
       "      <td id=\"T_e9cc6_row2_col4\" class=\"data row2 col4\" >0.9710</td>\n",
       "      <td id=\"T_e9cc6_row2_col5\" class=\"data row2 col5\" >0.0000</td>\n",
       "      <td id=\"T_e9cc6_row2_col6\" class=\"data row2 col6\" >0.0000</td>\n",
       "    </tr>\n",
       "    <tr>\n",
       "      <th id=\"T_e9cc6_level0_row3\" class=\"row_heading level0 row3\" >3</th>\n",
       "      <td id=\"T_e9cc6_row3_col0\" class=\"data row3 col0\" >0.9437</td>\n",
       "      <td id=\"T_e9cc6_row3_col1\" class=\"data row3 col1\" >0.6716</td>\n",
       "      <td id=\"T_e9cc6_row3_col2\" class=\"data row3 col2\" >1.0000</td>\n",
       "      <td id=\"T_e9cc6_row3_col3\" class=\"data row3 col3\" >0.9437</td>\n",
       "      <td id=\"T_e9cc6_row3_col4\" class=\"data row3 col4\" >0.9710</td>\n",
       "      <td id=\"T_e9cc6_row3_col5\" class=\"data row3 col5\" >0.0000</td>\n",
       "      <td id=\"T_e9cc6_row3_col6\" class=\"data row3 col6\" >0.0000</td>\n",
       "    </tr>\n",
       "    <tr>\n",
       "      <th id=\"T_e9cc6_level0_row4\" class=\"row_heading level0 row4\" >4</th>\n",
       "      <td id=\"T_e9cc6_row4_col0\" class=\"data row4 col0\" >0.9437</td>\n",
       "      <td id=\"T_e9cc6_row4_col1\" class=\"data row4 col1\" >0.7939</td>\n",
       "      <td id=\"T_e9cc6_row4_col2\" class=\"data row4 col2\" >1.0000</td>\n",
       "      <td id=\"T_e9cc6_row4_col3\" class=\"data row4 col3\" >0.9429</td>\n",
       "      <td id=\"T_e9cc6_row4_col4\" class=\"data row4 col4\" >0.9706</td>\n",
       "      <td id=\"T_e9cc6_row4_col5\" class=\"data row4 col5\" >0.3173</td>\n",
       "      <td id=\"T_e9cc6_row4_col6\" class=\"data row4 col6\" >0.4342</td>\n",
       "    </tr>\n",
       "    <tr>\n",
       "      <th id=\"T_e9cc6_level0_row5\" class=\"row_heading level0 row5\" >Mean</th>\n",
       "      <td id=\"T_e9cc6_row5_col0\" class=\"data row5 col0\" >0.9410</td>\n",
       "      <td id=\"T_e9cc6_row5_col1\" class=\"data row5 col1\" >0.7528</td>\n",
       "      <td id=\"T_e9cc6_row5_col2\" class=\"data row5 col2\" >1.0000</td>\n",
       "      <td id=\"T_e9cc6_row5_col3\" class=\"data row5 col3\" >0.9409</td>\n",
       "      <td id=\"T_e9cc6_row5_col4\" class=\"data row5 col4\" >0.9695</td>\n",
       "      <td id=\"T_e9cc6_row5_col5\" class=\"data row5 col5\" >0.0635</td>\n",
       "      <td id=\"T_e9cc6_row5_col6\" class=\"data row5 col6\" >0.0868</td>\n",
       "    </tr>\n",
       "    <tr>\n",
       "      <th id=\"T_e9cc6_level0_row6\" class=\"row_heading level0 row6\" >Std</th>\n",
       "      <td id=\"T_e9cc6_row6_col0\" class=\"data row6 col0\" >0.0052</td>\n",
       "      <td id=\"T_e9cc6_row6_col1\" class=\"data row6 col1\" >0.1112</td>\n",
       "      <td id=\"T_e9cc6_row6_col2\" class=\"data row6 col2\" >0.0000</td>\n",
       "      <td id=\"T_e9cc6_row6_col3\" class=\"data row6 col3\" >0.0052</td>\n",
       "      <td id=\"T_e9cc6_row6_col4\" class=\"data row6 col4\" >0.0028</td>\n",
       "      <td id=\"T_e9cc6_row6_col5\" class=\"data row6 col5\" >0.1269</td>\n",
       "      <td id=\"T_e9cc6_row6_col6\" class=\"data row6 col6\" >0.1737</td>\n",
       "    </tr>\n",
       "  </tbody>\n",
       "</table>\n"
      ],
      "text/plain": [
       "<pandas.io.formats.style.Styler at 0x7ff7ee6a2e90>"
      ]
     },
     "metadata": {},
     "output_type": "display_data"
    },
    {
     "data": {
      "text/html": [],
      "text/plain": [
       "<IPython.core.display.HTML object>"
      ]
     },
     "metadata": {},
     "output_type": "display_data"
    },
    {
     "name": "stdout",
     "output_type": "stream",
     "text": [
      "Tuning hyperparameters for model xgboost with custom grid\n"
     ]
    },
    {
     "data": {
      "text/html": [],
      "text/plain": [
       "<IPython.core.display.HTML object>"
      ]
     },
     "metadata": {},
     "output_type": "display_data"
    },
    {
     "data": {
      "text/html": [
       "<style type=\"text/css\">\n",
       "#T_13c46_row5_col0, #T_13c46_row5_col1, #T_13c46_row5_col2, #T_13c46_row5_col3, #T_13c46_row5_col4, #T_13c46_row5_col5, #T_13c46_row5_col6 {\n",
       "  background: yellow;\n",
       "}\n",
       "</style>\n",
       "<table id=\"T_13c46\">\n",
       "  <thead>\n",
       "    <tr>\n",
       "      <th class=\"blank level0\" >&nbsp;</th>\n",
       "      <th id=\"T_13c46_level0_col0\" class=\"col_heading level0 col0\" >Accuracy</th>\n",
       "      <th id=\"T_13c46_level0_col1\" class=\"col_heading level0 col1\" >AUC</th>\n",
       "      <th id=\"T_13c46_level0_col2\" class=\"col_heading level0 col2\" >Recall</th>\n",
       "      <th id=\"T_13c46_level0_col3\" class=\"col_heading level0 col3\" >Prec.</th>\n",
       "      <th id=\"T_13c46_level0_col4\" class=\"col_heading level0 col4\" >F1</th>\n",
       "      <th id=\"T_13c46_level0_col5\" class=\"col_heading level0 col5\" >Kappa</th>\n",
       "      <th id=\"T_13c46_level0_col6\" class=\"col_heading level0 col6\" >MCC</th>\n",
       "    </tr>\n",
       "    <tr>\n",
       "      <th class=\"index_name level0\" >Fold</th>\n",
       "      <th class=\"blank col0\" >&nbsp;</th>\n",
       "      <th class=\"blank col1\" >&nbsp;</th>\n",
       "      <th class=\"blank col2\" >&nbsp;</th>\n",
       "      <th class=\"blank col3\" >&nbsp;</th>\n",
       "      <th class=\"blank col4\" >&nbsp;</th>\n",
       "      <th class=\"blank col5\" >&nbsp;</th>\n",
       "      <th class=\"blank col6\" >&nbsp;</th>\n",
       "    </tr>\n",
       "  </thead>\n",
       "  <tbody>\n",
       "    <tr>\n",
       "      <th id=\"T_13c46_level0_row0\" class=\"row_heading level0 row0\" >0</th>\n",
       "      <td id=\"T_13c46_row0_col0\" class=\"data row0 col0\" >0.9306</td>\n",
       "      <td id=\"T_13c46_row0_col1\" class=\"data row0 col1\" >0.5970</td>\n",
       "      <td id=\"T_13c46_row0_col2\" class=\"data row0 col2\" >1.0000</td>\n",
       "      <td id=\"T_13c46_row0_col3\" class=\"data row0 col3\" >0.9306</td>\n",
       "      <td id=\"T_13c46_row0_col4\" class=\"data row0 col4\" >0.9640</td>\n",
       "      <td id=\"T_13c46_row0_col5\" class=\"data row0 col5\" >0.0000</td>\n",
       "      <td id=\"T_13c46_row0_col6\" class=\"data row0 col6\" >0.0000</td>\n",
       "    </tr>\n",
       "    <tr>\n",
       "      <th id=\"T_13c46_level0_row1\" class=\"row_heading level0 row1\" >1</th>\n",
       "      <td id=\"T_13c46_row1_col0\" class=\"data row1 col0\" >0.9437</td>\n",
       "      <td id=\"T_13c46_row1_col1\" class=\"data row1 col1\" >0.9216</td>\n",
       "      <td id=\"T_13c46_row1_col2\" class=\"data row1 col2\" >1.0000</td>\n",
       "      <td id=\"T_13c46_row1_col3\" class=\"data row1 col3\" >0.9437</td>\n",
       "      <td id=\"T_13c46_row1_col4\" class=\"data row1 col4\" >0.9710</td>\n",
       "      <td id=\"T_13c46_row1_col5\" class=\"data row1 col5\" >0.0000</td>\n",
       "      <td id=\"T_13c46_row1_col6\" class=\"data row1 col6\" >0.0000</td>\n",
       "    </tr>\n",
       "    <tr>\n",
       "      <th id=\"T_13c46_level0_row2\" class=\"row_heading level0 row2\" >2</th>\n",
       "      <td id=\"T_13c46_row2_col0\" class=\"data row2 col0\" >0.9437</td>\n",
       "      <td id=\"T_13c46_row2_col1\" class=\"data row2 col1\" >0.7799</td>\n",
       "      <td id=\"T_13c46_row2_col2\" class=\"data row2 col2\" >1.0000</td>\n",
       "      <td id=\"T_13c46_row2_col3\" class=\"data row2 col3\" >0.9437</td>\n",
       "      <td id=\"T_13c46_row2_col4\" class=\"data row2 col4\" >0.9710</td>\n",
       "      <td id=\"T_13c46_row2_col5\" class=\"data row2 col5\" >0.0000</td>\n",
       "      <td id=\"T_13c46_row2_col6\" class=\"data row2 col6\" >0.0000</td>\n",
       "    </tr>\n",
       "    <tr>\n",
       "      <th id=\"T_13c46_level0_row3\" class=\"row_heading level0 row3\" >3</th>\n",
       "      <td id=\"T_13c46_row3_col0\" class=\"data row3 col0\" >0.9437</td>\n",
       "      <td id=\"T_13c46_row3_col1\" class=\"data row3 col1\" >0.6716</td>\n",
       "      <td id=\"T_13c46_row3_col2\" class=\"data row3 col2\" >1.0000</td>\n",
       "      <td id=\"T_13c46_row3_col3\" class=\"data row3 col3\" >0.9437</td>\n",
       "      <td id=\"T_13c46_row3_col4\" class=\"data row3 col4\" >0.9710</td>\n",
       "      <td id=\"T_13c46_row3_col5\" class=\"data row3 col5\" >0.0000</td>\n",
       "      <td id=\"T_13c46_row3_col6\" class=\"data row3 col6\" >0.0000</td>\n",
       "    </tr>\n",
       "    <tr>\n",
       "      <th id=\"T_13c46_level0_row4\" class=\"row_heading level0 row4\" >4</th>\n",
       "      <td id=\"T_13c46_row4_col0\" class=\"data row4 col0\" >0.9437</td>\n",
       "      <td id=\"T_13c46_row4_col1\" class=\"data row4 col1\" >0.7939</td>\n",
       "      <td id=\"T_13c46_row4_col2\" class=\"data row4 col2\" >1.0000</td>\n",
       "      <td id=\"T_13c46_row4_col3\" class=\"data row4 col3\" >0.9429</td>\n",
       "      <td id=\"T_13c46_row4_col4\" class=\"data row4 col4\" >0.9706</td>\n",
       "      <td id=\"T_13c46_row4_col5\" class=\"data row4 col5\" >0.3173</td>\n",
       "      <td id=\"T_13c46_row4_col6\" class=\"data row4 col6\" >0.4342</td>\n",
       "    </tr>\n",
       "    <tr>\n",
       "      <th id=\"T_13c46_level0_row5\" class=\"row_heading level0 row5\" >Mean</th>\n",
       "      <td id=\"T_13c46_row5_col0\" class=\"data row5 col0\" >0.9410</td>\n",
       "      <td id=\"T_13c46_row5_col1\" class=\"data row5 col1\" >0.7528</td>\n",
       "      <td id=\"T_13c46_row5_col2\" class=\"data row5 col2\" >1.0000</td>\n",
       "      <td id=\"T_13c46_row5_col3\" class=\"data row5 col3\" >0.9409</td>\n",
       "      <td id=\"T_13c46_row5_col4\" class=\"data row5 col4\" >0.9695</td>\n",
       "      <td id=\"T_13c46_row5_col5\" class=\"data row5 col5\" >0.0635</td>\n",
       "      <td id=\"T_13c46_row5_col6\" class=\"data row5 col6\" >0.0868</td>\n",
       "    </tr>\n",
       "    <tr>\n",
       "      <th id=\"T_13c46_level0_row6\" class=\"row_heading level0 row6\" >Std</th>\n",
       "      <td id=\"T_13c46_row6_col0\" class=\"data row6 col0\" >0.0052</td>\n",
       "      <td id=\"T_13c46_row6_col1\" class=\"data row6 col1\" >0.1112</td>\n",
       "      <td id=\"T_13c46_row6_col2\" class=\"data row6 col2\" >0.0000</td>\n",
       "      <td id=\"T_13c46_row6_col3\" class=\"data row6 col3\" >0.0052</td>\n",
       "      <td id=\"T_13c46_row6_col4\" class=\"data row6 col4\" >0.0028</td>\n",
       "      <td id=\"T_13c46_row6_col5\" class=\"data row6 col5\" >0.1269</td>\n",
       "      <td id=\"T_13c46_row6_col6\" class=\"data row6 col6\" >0.1737</td>\n",
       "    </tr>\n",
       "  </tbody>\n",
       "</table>\n"
      ],
      "text/plain": [
       "<pandas.io.formats.style.Styler at 0x7ff7f708a650>"
      ]
     },
     "metadata": {},
     "output_type": "display_data"
    },
    {
     "data": {
      "text/html": [],
      "text/plain": [
       "<IPython.core.display.HTML object>"
      ]
     },
     "metadata": {},
     "output_type": "display_data"
    },
    {
     "name": "stdout",
     "output_type": "stream",
     "text": [
      "Fitting 5 folds for each of 10 candidates, totalling 50 fits\n",
      "Original model was better than the tuned model, hence it will be returned. NOTE: The display metrics are for the tuned model (not the original one).\n",
      "Transformation Pipeline and Model Successfully Saved\n"
     ]
    },
    {
     "data": {
      "text/html": [
       "<style type=\"text/css\">\n",
       "</style>\n",
       "<table id=\"T_dadc1\">\n",
       "  <thead>\n",
       "    <tr>\n",
       "      <th class=\"blank level0\" >&nbsp;</th>\n",
       "      <th id=\"T_dadc1_level0_col0\" class=\"col_heading level0 col0\" >Model</th>\n",
       "      <th id=\"T_dadc1_level0_col1\" class=\"col_heading level0 col1\" >Accuracy</th>\n",
       "      <th id=\"T_dadc1_level0_col2\" class=\"col_heading level0 col2\" >AUC</th>\n",
       "      <th id=\"T_dadc1_level0_col3\" class=\"col_heading level0 col3\" >Recall</th>\n",
       "      <th id=\"T_dadc1_level0_col4\" class=\"col_heading level0 col4\" >Prec.</th>\n",
       "      <th id=\"T_dadc1_level0_col5\" class=\"col_heading level0 col5\" >F1</th>\n",
       "      <th id=\"T_dadc1_level0_col6\" class=\"col_heading level0 col6\" >Kappa</th>\n",
       "      <th id=\"T_dadc1_level0_col7\" class=\"col_heading level0 col7\" >MCC</th>\n",
       "    </tr>\n",
       "  </thead>\n",
       "  <tbody>\n",
       "    <tr>\n",
       "      <th id=\"T_dadc1_level0_row0\" class=\"row_heading level0 row0\" >0</th>\n",
       "      <td id=\"T_dadc1_row0_col0\" class=\"data row0 col0\" >Extreme Gradient Boosting</td>\n",
       "      <td id=\"T_dadc1_row0_col1\" class=\"data row0 col1\" >0.9554</td>\n",
       "      <td id=\"T_dadc1_row0_col2\" class=\"data row0 col2\" >0.7512</td>\n",
       "      <td id=\"T_dadc1_row0_col3\" class=\"data row0 col3\" >1.0000</td>\n",
       "      <td id=\"T_dadc1_row0_col4\" class=\"data row0 col4\" >0.9541</td>\n",
       "      <td id=\"T_dadc1_row0_col5\" class=\"data row0 col5\" >0.9765</td>\n",
       "      <td id=\"T_dadc1_row0_col6\" class=\"data row0 col6\" >0.5270</td>\n",
       "      <td id=\"T_dadc1_row0_col7\" class=\"data row0 col7\" >0.5982</td>\n",
       "    </tr>\n",
       "  </tbody>\n",
       "</table>\n"
      ],
      "text/plain": [
       "<pandas.io.formats.style.Styler at 0x7ff7cedeef50>"
      ]
     },
     "metadata": {},
     "output_type": "display_data"
    },
    {
     "name": "stdout",
     "output_type": "stream",
     "text": [
      "Outer fold 3/5\n",
      "Configuring PyCaret for outer fold 3\n",
      "Creating model xgboost for outer fold 3\n"
     ]
    },
    {
     "data": {
      "text/html": [],
      "text/plain": [
       "<IPython.core.display.HTML object>"
      ]
     },
     "metadata": {},
     "output_type": "display_data"
    },
    {
     "data": {
      "text/html": [
       "<style type=\"text/css\">\n",
       "#T_80f61_row5_col0, #T_80f61_row5_col1, #T_80f61_row5_col2, #T_80f61_row5_col3, #T_80f61_row5_col4, #T_80f61_row5_col5, #T_80f61_row5_col6 {\n",
       "  background: yellow;\n",
       "}\n",
       "</style>\n",
       "<table id=\"T_80f61\">\n",
       "  <thead>\n",
       "    <tr>\n",
       "      <th class=\"blank level0\" >&nbsp;</th>\n",
       "      <th id=\"T_80f61_level0_col0\" class=\"col_heading level0 col0\" >Accuracy</th>\n",
       "      <th id=\"T_80f61_level0_col1\" class=\"col_heading level0 col1\" >AUC</th>\n",
       "      <th id=\"T_80f61_level0_col2\" class=\"col_heading level0 col2\" >Recall</th>\n",
       "      <th id=\"T_80f61_level0_col3\" class=\"col_heading level0 col3\" >Prec.</th>\n",
       "      <th id=\"T_80f61_level0_col4\" class=\"col_heading level0 col4\" >F1</th>\n",
       "      <th id=\"T_80f61_level0_col5\" class=\"col_heading level0 col5\" >Kappa</th>\n",
       "      <th id=\"T_80f61_level0_col6\" class=\"col_heading level0 col6\" >MCC</th>\n",
       "    </tr>\n",
       "    <tr>\n",
       "      <th class=\"index_name level0\" >Fold</th>\n",
       "      <th class=\"blank col0\" >&nbsp;</th>\n",
       "      <th class=\"blank col1\" >&nbsp;</th>\n",
       "      <th class=\"blank col2\" >&nbsp;</th>\n",
       "      <th class=\"blank col3\" >&nbsp;</th>\n",
       "      <th class=\"blank col4\" >&nbsp;</th>\n",
       "      <th class=\"blank col5\" >&nbsp;</th>\n",
       "      <th class=\"blank col6\" >&nbsp;</th>\n",
       "    </tr>\n",
       "  </thead>\n",
       "  <tbody>\n",
       "    <tr>\n",
       "      <th id=\"T_80f61_level0_row0\" class=\"row_heading level0 row0\" >0</th>\n",
       "      <td id=\"T_80f61_row0_col0\" class=\"data row0 col0\" >0.9306</td>\n",
       "      <td id=\"T_80f61_row0_col1\" class=\"data row0 col1\" >0.6090</td>\n",
       "      <td id=\"T_80f61_row0_col2\" class=\"data row0 col2\" >1.0000</td>\n",
       "      <td id=\"T_80f61_row0_col3\" class=\"data row0 col3\" >0.9306</td>\n",
       "      <td id=\"T_80f61_row0_col4\" class=\"data row0 col4\" >0.9640</td>\n",
       "      <td id=\"T_80f61_row0_col5\" class=\"data row0 col5\" >0.0000</td>\n",
       "      <td id=\"T_80f61_row0_col6\" class=\"data row0 col6\" >0.0000</td>\n",
       "    </tr>\n",
       "    <tr>\n",
       "      <th id=\"T_80f61_level0_row1\" class=\"row_heading level0 row1\" >1</th>\n",
       "      <td id=\"T_80f61_row1_col0\" class=\"data row1 col0\" >0.9718</td>\n",
       "      <td id=\"T_80f61_row1_col1\" class=\"data row1 col1\" >0.7388</td>\n",
       "      <td id=\"T_80f61_row1_col2\" class=\"data row1 col2\" >1.0000</td>\n",
       "      <td id=\"T_80f61_row1_col3\" class=\"data row1 col3\" >0.9710</td>\n",
       "      <td id=\"T_80f61_row1_col4\" class=\"data row1 col4\" >0.9853</td>\n",
       "      <td id=\"T_80f61_row1_col5\" class=\"data row1 col5\" >0.6537</td>\n",
       "      <td id=\"T_80f61_row1_col6\" class=\"data row1 col6\" >0.6968</td>\n",
       "    </tr>\n",
       "    <tr>\n",
       "      <th id=\"T_80f61_level0_row2\" class=\"row_heading level0 row2\" >2</th>\n",
       "      <td id=\"T_80f61_row2_col0\" class=\"data row2 col0\" >0.9577</td>\n",
       "      <td id=\"T_80f61_row2_col1\" class=\"data row2 col1\" >0.9739</td>\n",
       "      <td id=\"T_80f61_row2_col2\" class=\"data row2 col2\" >1.0000</td>\n",
       "      <td id=\"T_80f61_row2_col3\" class=\"data row2 col3\" >0.9571</td>\n",
       "      <td id=\"T_80f61_row2_col4\" class=\"data row2 col4\" >0.9781</td>\n",
       "      <td id=\"T_80f61_row2_col5\" class=\"data row2 col5\" >0.3862</td>\n",
       "      <td id=\"T_80f61_row2_col6\" class=\"data row2 col6\" >0.4892</td>\n",
       "    </tr>\n",
       "    <tr>\n",
       "      <th id=\"T_80f61_level0_row3\" class=\"row_heading level0 row3\" >3</th>\n",
       "      <td id=\"T_80f61_row3_col0\" class=\"data row3 col0\" >0.9437</td>\n",
       "      <td id=\"T_80f61_row3_col1\" class=\"data row3 col1\" >0.6424</td>\n",
       "      <td id=\"T_80f61_row3_col2\" class=\"data row3 col2\" >1.0000</td>\n",
       "      <td id=\"T_80f61_row3_col3\" class=\"data row3 col3\" >0.9429</td>\n",
       "      <td id=\"T_80f61_row3_col4\" class=\"data row3 col4\" >0.9706</td>\n",
       "      <td id=\"T_80f61_row3_col5\" class=\"data row3 col5\" >0.3173</td>\n",
       "      <td id=\"T_80f61_row3_col6\" class=\"data row3 col6\" >0.4342</td>\n",
       "    </tr>\n",
       "    <tr>\n",
       "      <th id=\"T_80f61_level0_row4\" class=\"row_heading level0 row4\" >4</th>\n",
       "      <td id=\"T_80f61_row4_col0\" class=\"data row4 col0\" >0.9577</td>\n",
       "      <td id=\"T_80f61_row4_col1\" class=\"data row4 col1\" >0.7788</td>\n",
       "      <td id=\"T_80f61_row4_col2\" class=\"data row4 col2\" >1.0000</td>\n",
       "      <td id=\"T_80f61_row4_col3\" class=\"data row4 col3\" >0.9565</td>\n",
       "      <td id=\"T_80f61_row4_col4\" class=\"data row4 col4\" >0.9778</td>\n",
       "      <td id=\"T_80f61_row4_col5\" class=\"data row4 col5\" >0.5535</td>\n",
       "      <td id=\"T_80f61_row4_col6\" class=\"data row4 col6\" >0.6186</td>\n",
       "    </tr>\n",
       "    <tr>\n",
       "      <th id=\"T_80f61_level0_row5\" class=\"row_heading level0 row5\" >Mean</th>\n",
       "      <td id=\"T_80f61_row5_col0\" class=\"data row5 col0\" >0.9523</td>\n",
       "      <td id=\"T_80f61_row5_col1\" class=\"data row5 col1\" >0.7486</td>\n",
       "      <td id=\"T_80f61_row5_col2\" class=\"data row5 col2\" >1.0000</td>\n",
       "      <td id=\"T_80f61_row5_col3\" class=\"data row5 col3\" >0.9516</td>\n",
       "      <td id=\"T_80f61_row5_col4\" class=\"data row5 col4\" >0.9752</td>\n",
       "      <td id=\"T_80f61_row5_col5\" class=\"data row5 col5\" >0.3821</td>\n",
       "      <td id=\"T_80f61_row5_col6\" class=\"data row5 col6\" >0.4478</td>\n",
       "    </tr>\n",
       "    <tr>\n",
       "      <th id=\"T_80f61_level0_row6\" class=\"row_heading level0 row6\" >Std</th>\n",
       "      <td id=\"T_80f61_row6_col0\" class=\"data row6 col0\" >0.0141</td>\n",
       "      <td id=\"T_80f61_row6_col1\" class=\"data row6 col1\" >0.1285</td>\n",
       "      <td id=\"T_80f61_row6_col2\" class=\"data row6 col2\" >0.0000</td>\n",
       "      <td id=\"T_80f61_row6_col3\" class=\"data row6 col3\" >0.0138</td>\n",
       "      <td id=\"T_80f61_row6_col4\" class=\"data row6 col4\" >0.0073</td>\n",
       "      <td id=\"T_80f61_row6_col5\" class=\"data row6 col5\" >0.2251</td>\n",
       "      <td id=\"T_80f61_row6_col6\" class=\"data row6 col6\" >0.2423</td>\n",
       "    </tr>\n",
       "  </tbody>\n",
       "</table>\n"
      ],
      "text/plain": [
       "<pandas.io.formats.style.Styler at 0x7ff7e23aae90>"
      ]
     },
     "metadata": {},
     "output_type": "display_data"
    },
    {
     "data": {
      "text/html": [],
      "text/plain": [
       "<IPython.core.display.HTML object>"
      ]
     },
     "metadata": {},
     "output_type": "display_data"
    },
    {
     "name": "stdout",
     "output_type": "stream",
     "text": [
      "Tuning hyperparameters for model xgboost with custom grid\n"
     ]
    },
    {
     "data": {
      "text/html": [],
      "text/plain": [
       "<IPython.core.display.HTML object>"
      ]
     },
     "metadata": {},
     "output_type": "display_data"
    },
    {
     "data": {
      "text/html": [
       "<style type=\"text/css\">\n",
       "#T_4d6d9_row5_col0, #T_4d6d9_row5_col1, #T_4d6d9_row5_col2, #T_4d6d9_row5_col3, #T_4d6d9_row5_col4, #T_4d6d9_row5_col5, #T_4d6d9_row5_col6 {\n",
       "  background: yellow;\n",
       "}\n",
       "</style>\n",
       "<table id=\"T_4d6d9\">\n",
       "  <thead>\n",
       "    <tr>\n",
       "      <th class=\"blank level0\" >&nbsp;</th>\n",
       "      <th id=\"T_4d6d9_level0_col0\" class=\"col_heading level0 col0\" >Accuracy</th>\n",
       "      <th id=\"T_4d6d9_level0_col1\" class=\"col_heading level0 col1\" >AUC</th>\n",
       "      <th id=\"T_4d6d9_level0_col2\" class=\"col_heading level0 col2\" >Recall</th>\n",
       "      <th id=\"T_4d6d9_level0_col3\" class=\"col_heading level0 col3\" >Prec.</th>\n",
       "      <th id=\"T_4d6d9_level0_col4\" class=\"col_heading level0 col4\" >F1</th>\n",
       "      <th id=\"T_4d6d9_level0_col5\" class=\"col_heading level0 col5\" >Kappa</th>\n",
       "      <th id=\"T_4d6d9_level0_col6\" class=\"col_heading level0 col6\" >MCC</th>\n",
       "    </tr>\n",
       "    <tr>\n",
       "      <th class=\"index_name level0\" >Fold</th>\n",
       "      <th class=\"blank col0\" >&nbsp;</th>\n",
       "      <th class=\"blank col1\" >&nbsp;</th>\n",
       "      <th class=\"blank col2\" >&nbsp;</th>\n",
       "      <th class=\"blank col3\" >&nbsp;</th>\n",
       "      <th class=\"blank col4\" >&nbsp;</th>\n",
       "      <th class=\"blank col5\" >&nbsp;</th>\n",
       "      <th class=\"blank col6\" >&nbsp;</th>\n",
       "    </tr>\n",
       "  </thead>\n",
       "  <tbody>\n",
       "    <tr>\n",
       "      <th id=\"T_4d6d9_level0_row0\" class=\"row_heading level0 row0\" >0</th>\n",
       "      <td id=\"T_4d6d9_row0_col0\" class=\"data row0 col0\" >0.9306</td>\n",
       "      <td id=\"T_4d6d9_row0_col1\" class=\"data row0 col1\" >0.6090</td>\n",
       "      <td id=\"T_4d6d9_row0_col2\" class=\"data row0 col2\" >1.0000</td>\n",
       "      <td id=\"T_4d6d9_row0_col3\" class=\"data row0 col3\" >0.9306</td>\n",
       "      <td id=\"T_4d6d9_row0_col4\" class=\"data row0 col4\" >0.9640</td>\n",
       "      <td id=\"T_4d6d9_row0_col5\" class=\"data row0 col5\" >0.0000</td>\n",
       "      <td id=\"T_4d6d9_row0_col6\" class=\"data row0 col6\" >0.0000</td>\n",
       "    </tr>\n",
       "    <tr>\n",
       "      <th id=\"T_4d6d9_level0_row1\" class=\"row_heading level0 row1\" >1</th>\n",
       "      <td id=\"T_4d6d9_row1_col0\" class=\"data row1 col0\" >0.9718</td>\n",
       "      <td id=\"T_4d6d9_row1_col1\" class=\"data row1 col1\" >0.7388</td>\n",
       "      <td id=\"T_4d6d9_row1_col2\" class=\"data row1 col2\" >1.0000</td>\n",
       "      <td id=\"T_4d6d9_row1_col3\" class=\"data row1 col3\" >0.9710</td>\n",
       "      <td id=\"T_4d6d9_row1_col4\" class=\"data row1 col4\" >0.9853</td>\n",
       "      <td id=\"T_4d6d9_row1_col5\" class=\"data row1 col5\" >0.6537</td>\n",
       "      <td id=\"T_4d6d9_row1_col6\" class=\"data row1 col6\" >0.6968</td>\n",
       "    </tr>\n",
       "    <tr>\n",
       "      <th id=\"T_4d6d9_level0_row2\" class=\"row_heading level0 row2\" >2</th>\n",
       "      <td id=\"T_4d6d9_row2_col0\" class=\"data row2 col0\" >0.9577</td>\n",
       "      <td id=\"T_4d6d9_row2_col1\" class=\"data row2 col1\" >0.9739</td>\n",
       "      <td id=\"T_4d6d9_row2_col2\" class=\"data row2 col2\" >1.0000</td>\n",
       "      <td id=\"T_4d6d9_row2_col3\" class=\"data row2 col3\" >0.9571</td>\n",
       "      <td id=\"T_4d6d9_row2_col4\" class=\"data row2 col4\" >0.9781</td>\n",
       "      <td id=\"T_4d6d9_row2_col5\" class=\"data row2 col5\" >0.3862</td>\n",
       "      <td id=\"T_4d6d9_row2_col6\" class=\"data row2 col6\" >0.4892</td>\n",
       "    </tr>\n",
       "    <tr>\n",
       "      <th id=\"T_4d6d9_level0_row3\" class=\"row_heading level0 row3\" >3</th>\n",
       "      <td id=\"T_4d6d9_row3_col0\" class=\"data row3 col0\" >0.9437</td>\n",
       "      <td id=\"T_4d6d9_row3_col1\" class=\"data row3 col1\" >0.6424</td>\n",
       "      <td id=\"T_4d6d9_row3_col2\" class=\"data row3 col2\" >1.0000</td>\n",
       "      <td id=\"T_4d6d9_row3_col3\" class=\"data row3 col3\" >0.9429</td>\n",
       "      <td id=\"T_4d6d9_row3_col4\" class=\"data row3 col4\" >0.9706</td>\n",
       "      <td id=\"T_4d6d9_row3_col5\" class=\"data row3 col5\" >0.3173</td>\n",
       "      <td id=\"T_4d6d9_row3_col6\" class=\"data row3 col6\" >0.4342</td>\n",
       "    </tr>\n",
       "    <tr>\n",
       "      <th id=\"T_4d6d9_level0_row4\" class=\"row_heading level0 row4\" >4</th>\n",
       "      <td id=\"T_4d6d9_row4_col0\" class=\"data row4 col0\" >0.9577</td>\n",
       "      <td id=\"T_4d6d9_row4_col1\" class=\"data row4 col1\" >0.7788</td>\n",
       "      <td id=\"T_4d6d9_row4_col2\" class=\"data row4 col2\" >1.0000</td>\n",
       "      <td id=\"T_4d6d9_row4_col3\" class=\"data row4 col3\" >0.9565</td>\n",
       "      <td id=\"T_4d6d9_row4_col4\" class=\"data row4 col4\" >0.9778</td>\n",
       "      <td id=\"T_4d6d9_row4_col5\" class=\"data row4 col5\" >0.5535</td>\n",
       "      <td id=\"T_4d6d9_row4_col6\" class=\"data row4 col6\" >0.6186</td>\n",
       "    </tr>\n",
       "    <tr>\n",
       "      <th id=\"T_4d6d9_level0_row5\" class=\"row_heading level0 row5\" >Mean</th>\n",
       "      <td id=\"T_4d6d9_row5_col0\" class=\"data row5 col0\" >0.9523</td>\n",
       "      <td id=\"T_4d6d9_row5_col1\" class=\"data row5 col1\" >0.7486</td>\n",
       "      <td id=\"T_4d6d9_row5_col2\" class=\"data row5 col2\" >1.0000</td>\n",
       "      <td id=\"T_4d6d9_row5_col3\" class=\"data row5 col3\" >0.9516</td>\n",
       "      <td id=\"T_4d6d9_row5_col4\" class=\"data row5 col4\" >0.9752</td>\n",
       "      <td id=\"T_4d6d9_row5_col5\" class=\"data row5 col5\" >0.3821</td>\n",
       "      <td id=\"T_4d6d9_row5_col6\" class=\"data row5 col6\" >0.4478</td>\n",
       "    </tr>\n",
       "    <tr>\n",
       "      <th id=\"T_4d6d9_level0_row6\" class=\"row_heading level0 row6\" >Std</th>\n",
       "      <td id=\"T_4d6d9_row6_col0\" class=\"data row6 col0\" >0.0141</td>\n",
       "      <td id=\"T_4d6d9_row6_col1\" class=\"data row6 col1\" >0.1285</td>\n",
       "      <td id=\"T_4d6d9_row6_col2\" class=\"data row6 col2\" >0.0000</td>\n",
       "      <td id=\"T_4d6d9_row6_col3\" class=\"data row6 col3\" >0.0138</td>\n",
       "      <td id=\"T_4d6d9_row6_col4\" class=\"data row6 col4\" >0.0073</td>\n",
       "      <td id=\"T_4d6d9_row6_col5\" class=\"data row6 col5\" >0.2251</td>\n",
       "      <td id=\"T_4d6d9_row6_col6\" class=\"data row6 col6\" >0.2423</td>\n",
       "    </tr>\n",
       "  </tbody>\n",
       "</table>\n"
      ],
      "text/plain": [
       "<pandas.io.formats.style.Styler at 0x7ff7de418e50>"
      ]
     },
     "metadata": {},
     "output_type": "display_data"
    },
    {
     "data": {
      "text/html": [],
      "text/plain": [
       "<IPython.core.display.HTML object>"
      ]
     },
     "metadata": {},
     "output_type": "display_data"
    },
    {
     "name": "stdout",
     "output_type": "stream",
     "text": [
      "Fitting 5 folds for each of 10 candidates, totalling 50 fits\n",
      "Original model was better than the tuned model, hence it will be returned. NOTE: The display metrics are for the tuned model (not the original one).\n",
      "Transformation Pipeline and Model Successfully Saved\n"
     ]
    },
    {
     "data": {
      "text/html": [
       "<style type=\"text/css\">\n",
       "</style>\n",
       "<table id=\"T_b2bac\">\n",
       "  <thead>\n",
       "    <tr>\n",
       "      <th class=\"blank level0\" >&nbsp;</th>\n",
       "      <th id=\"T_b2bac_level0_col0\" class=\"col_heading level0 col0\" >Model</th>\n",
       "      <th id=\"T_b2bac_level0_col1\" class=\"col_heading level0 col1\" >Accuracy</th>\n",
       "      <th id=\"T_b2bac_level0_col2\" class=\"col_heading level0 col2\" >AUC</th>\n",
       "      <th id=\"T_b2bac_level0_col3\" class=\"col_heading level0 col3\" >Recall</th>\n",
       "      <th id=\"T_b2bac_level0_col4\" class=\"col_heading level0 col4\" >Prec.</th>\n",
       "      <th id=\"T_b2bac_level0_col5\" class=\"col_heading level0 col5\" >F1</th>\n",
       "      <th id=\"T_b2bac_level0_col6\" class=\"col_heading level0 col6\" >Kappa</th>\n",
       "      <th id=\"T_b2bac_level0_col7\" class=\"col_heading level0 col7\" >MCC</th>\n",
       "    </tr>\n",
       "  </thead>\n",
       "  <tbody>\n",
       "    <tr>\n",
       "      <th id=\"T_b2bac_level0_row0\" class=\"row_heading level0 row0\" >0</th>\n",
       "      <td id=\"T_b2bac_row0_col0\" class=\"data row0 col0\" >Extreme Gradient Boosting</td>\n",
       "      <td id=\"T_b2bac_row0_col1\" class=\"data row0 col1\" >0.9550</td>\n",
       "      <td id=\"T_b2bac_row0_col2\" class=\"data row0 col2\" >0.7816</td>\n",
       "      <td id=\"T_b2bac_row0_col3\" class=\"data row0 col3\" >1.0000</td>\n",
       "      <td id=\"T_b2bac_row0_col4\" class=\"data row0 col4\" >0.9541</td>\n",
       "      <td id=\"T_b2bac_row0_col5\" class=\"data row0 col5\" >0.9765</td>\n",
       "      <td id=\"T_b2bac_row0_col6\" class=\"data row0 col6\" >0.4284</td>\n",
       "      <td id=\"T_b2bac_row0_col7\" class=\"data row0 col7\" >0.5221</td>\n",
       "    </tr>\n",
       "  </tbody>\n",
       "</table>\n"
      ],
      "text/plain": [
       "<pandas.io.formats.style.Styler at 0x7ff7ce46ae90>"
      ]
     },
     "metadata": {},
     "output_type": "display_data"
    },
    {
     "name": "stdout",
     "output_type": "stream",
     "text": [
      "Outer fold 4/5\n",
      "Configuring PyCaret for outer fold 4\n",
      "Creating model xgboost for outer fold 4\n"
     ]
    },
    {
     "data": {
      "text/html": [],
      "text/plain": [
       "<IPython.core.display.HTML object>"
      ]
     },
     "metadata": {},
     "output_type": "display_data"
    },
    {
     "data": {
      "text/html": [
       "<style type=\"text/css\">\n",
       "#T_b2666_row5_col0, #T_b2666_row5_col1, #T_b2666_row5_col2, #T_b2666_row5_col3, #T_b2666_row5_col4, #T_b2666_row5_col5, #T_b2666_row5_col6 {\n",
       "  background: yellow;\n",
       "}\n",
       "</style>\n",
       "<table id=\"T_b2666\">\n",
       "  <thead>\n",
       "    <tr>\n",
       "      <th class=\"blank level0\" >&nbsp;</th>\n",
       "      <th id=\"T_b2666_level0_col0\" class=\"col_heading level0 col0\" >Accuracy</th>\n",
       "      <th id=\"T_b2666_level0_col1\" class=\"col_heading level0 col1\" >AUC</th>\n",
       "      <th id=\"T_b2666_level0_col2\" class=\"col_heading level0 col2\" >Recall</th>\n",
       "      <th id=\"T_b2666_level0_col3\" class=\"col_heading level0 col3\" >Prec.</th>\n",
       "      <th id=\"T_b2666_level0_col4\" class=\"col_heading level0 col4\" >F1</th>\n",
       "      <th id=\"T_b2666_level0_col5\" class=\"col_heading level0 col5\" >Kappa</th>\n",
       "      <th id=\"T_b2666_level0_col6\" class=\"col_heading level0 col6\" >MCC</th>\n",
       "    </tr>\n",
       "    <tr>\n",
       "      <th class=\"index_name level0\" >Fold</th>\n",
       "      <th class=\"blank col0\" >&nbsp;</th>\n",
       "      <th class=\"blank col1\" >&nbsp;</th>\n",
       "      <th class=\"blank col2\" >&nbsp;</th>\n",
       "      <th class=\"blank col3\" >&nbsp;</th>\n",
       "      <th class=\"blank col4\" >&nbsp;</th>\n",
       "      <th class=\"blank col5\" >&nbsp;</th>\n",
       "      <th class=\"blank col6\" >&nbsp;</th>\n",
       "    </tr>\n",
       "  </thead>\n",
       "  <tbody>\n",
       "    <tr>\n",
       "      <th id=\"T_b2666_level0_row0\" class=\"row_heading level0 row0\" >0</th>\n",
       "      <td id=\"T_b2666_row0_col0\" class=\"data row0 col0\" >0.9444</td>\n",
       "      <td id=\"T_b2666_row0_col1\" class=\"data row0 col1\" >0.5642</td>\n",
       "      <td id=\"T_b2666_row0_col2\" class=\"data row0 col2\" >1.0000</td>\n",
       "      <td id=\"T_b2666_row0_col3\" class=\"data row0 col3\" >0.9437</td>\n",
       "      <td id=\"T_b2666_row0_col4\" class=\"data row0 col4\" >0.9710</td>\n",
       "      <td id=\"T_b2666_row0_col5\" class=\"data row0 col5\" >0.3175</td>\n",
       "      <td id=\"T_b2666_row0_col6\" class=\"data row0 col6\" >0.4344</td>\n",
       "    </tr>\n",
       "    <tr>\n",
       "      <th id=\"T_b2666_level0_row1\" class=\"row_heading level0 row1\" >1</th>\n",
       "      <td id=\"T_b2666_row1_col0\" class=\"data row1 col0\" >0.9437</td>\n",
       "      <td id=\"T_b2666_row1_col1\" class=\"data row1 col1\" >0.5261</td>\n",
       "      <td id=\"T_b2666_row1_col2\" class=\"data row1 col2\" >1.0000</td>\n",
       "      <td id=\"T_b2666_row1_col3\" class=\"data row1 col3\" >0.9437</td>\n",
       "      <td id=\"T_b2666_row1_col4\" class=\"data row1 col4\" >0.9710</td>\n",
       "      <td id=\"T_b2666_row1_col5\" class=\"data row1 col5\" >0.0000</td>\n",
       "      <td id=\"T_b2666_row1_col6\" class=\"data row1 col6\" >0.0000</td>\n",
       "    </tr>\n",
       "    <tr>\n",
       "      <th id=\"T_b2666_level0_row2\" class=\"row_heading level0 row2\" >2</th>\n",
       "      <td id=\"T_b2666_row2_col0\" class=\"data row2 col0\" >0.9718</td>\n",
       "      <td id=\"T_b2666_row2_col1\" class=\"data row2 col1\" >0.8022</td>\n",
       "      <td id=\"T_b2666_row2_col2\" class=\"data row2 col2\" >1.0000</td>\n",
       "      <td id=\"T_b2666_row2_col3\" class=\"data row2 col3\" >0.9710</td>\n",
       "      <td id=\"T_b2666_row2_col4\" class=\"data row2 col4\" >0.9853</td>\n",
       "      <td id=\"T_b2666_row2_col5\" class=\"data row2 col5\" >0.6537</td>\n",
       "      <td id=\"T_b2666_row2_col6\" class=\"data row2 col6\" >0.6968</td>\n",
       "    </tr>\n",
       "    <tr>\n",
       "      <th id=\"T_b2666_level0_row3\" class=\"row_heading level0 row3\" >3</th>\n",
       "      <td id=\"T_b2666_row3_col0\" class=\"data row3 col0\" >0.9296</td>\n",
       "      <td id=\"T_b2666_row3_col1\" class=\"data row3 col1\" >0.8000</td>\n",
       "      <td id=\"T_b2666_row3_col2\" class=\"data row3 col2\" >1.0000</td>\n",
       "      <td id=\"T_b2666_row3_col3\" class=\"data row3 col3\" >0.9296</td>\n",
       "      <td id=\"T_b2666_row3_col4\" class=\"data row3 col4\" >0.9635</td>\n",
       "      <td id=\"T_b2666_row3_col5\" class=\"data row3 col5\" >0.0000</td>\n",
       "      <td id=\"T_b2666_row3_col6\" class=\"data row3 col6\" >0.0000</td>\n",
       "    </tr>\n",
       "    <tr>\n",
       "      <th id=\"T_b2666_level0_row4\" class=\"row_heading level0 row4\" >4</th>\n",
       "      <td id=\"T_b2666_row4_col0\" class=\"data row4 col0\" >0.9437</td>\n",
       "      <td id=\"T_b2666_row4_col1\" class=\"data row4 col1\" >0.9818</td>\n",
       "      <td id=\"T_b2666_row4_col2\" class=\"data row4 col2\" >1.0000</td>\n",
       "      <td id=\"T_b2666_row4_col3\" class=\"data row4 col3\" >0.9429</td>\n",
       "      <td id=\"T_b2666_row4_col4\" class=\"data row4 col4\" >0.9706</td>\n",
       "      <td id=\"T_b2666_row4_col5\" class=\"data row4 col5\" >0.3173</td>\n",
       "      <td id=\"T_b2666_row4_col6\" class=\"data row4 col6\" >0.4342</td>\n",
       "    </tr>\n",
       "    <tr>\n",
       "      <th id=\"T_b2666_level0_row5\" class=\"row_heading level0 row5\" >Mean</th>\n",
       "      <td id=\"T_b2666_row5_col0\" class=\"data row5 col0\" >0.9466</td>\n",
       "      <td id=\"T_b2666_row5_col1\" class=\"data row5 col1\" >0.7349</td>\n",
       "      <td id=\"T_b2666_row5_col2\" class=\"data row5 col2\" >1.0000</td>\n",
       "      <td id=\"T_b2666_row5_col3\" class=\"data row5 col3\" >0.9462</td>\n",
       "      <td id=\"T_b2666_row5_col4\" class=\"data row5 col4\" >0.9723</td>\n",
       "      <td id=\"T_b2666_row5_col5\" class=\"data row5 col5\" >0.2577</td>\n",
       "      <td id=\"T_b2666_row5_col6\" class=\"data row5 col6\" >0.3131</td>\n",
       "    </tr>\n",
       "    <tr>\n",
       "      <th id=\"T_b2666_level0_row6\" class=\"row_heading level0 row6\" >Std</th>\n",
       "      <td id=\"T_b2666_row6_col0\" class=\"data row6 col0\" >0.0138</td>\n",
       "      <td id=\"T_b2666_row6_col1\" class=\"data row6 col1\" >0.1688</td>\n",
       "      <td id=\"T_b2666_row6_col2\" class=\"data row6 col2\" >0.0000</td>\n",
       "      <td id=\"T_b2666_row6_col3\" class=\"data row6 col3\" >0.0135</td>\n",
       "      <td id=\"T_b2666_row6_col4\" class=\"data row6 col4\" >0.0071</td>\n",
       "      <td id=\"T_b2666_row6_col5\" class=\"data row6 col5\" >0.2436</td>\n",
       "      <td id=\"T_b2666_row6_col6\" class=\"data row6 col6\" >0.2730</td>\n",
       "    </tr>\n",
       "  </tbody>\n",
       "</table>\n"
      ],
      "text/plain": [
       "<pandas.io.formats.style.Styler at 0x7ff7e304a6d0>"
      ]
     },
     "metadata": {},
     "output_type": "display_data"
    },
    {
     "data": {
      "text/html": [],
      "text/plain": [
       "<IPython.core.display.HTML object>"
      ]
     },
     "metadata": {},
     "output_type": "display_data"
    },
    {
     "name": "stdout",
     "output_type": "stream",
     "text": [
      "Tuning hyperparameters for model xgboost with custom grid\n"
     ]
    },
    {
     "data": {
      "text/html": [],
      "text/plain": [
       "<IPython.core.display.HTML object>"
      ]
     },
     "metadata": {},
     "output_type": "display_data"
    },
    {
     "data": {
      "text/html": [
       "<style type=\"text/css\">\n",
       "#T_4a691_row5_col0, #T_4a691_row5_col1, #T_4a691_row5_col2, #T_4a691_row5_col3, #T_4a691_row5_col4, #T_4a691_row5_col5, #T_4a691_row5_col6 {\n",
       "  background: yellow;\n",
       "}\n",
       "</style>\n",
       "<table id=\"T_4a691\">\n",
       "  <thead>\n",
       "    <tr>\n",
       "      <th class=\"blank level0\" >&nbsp;</th>\n",
       "      <th id=\"T_4a691_level0_col0\" class=\"col_heading level0 col0\" >Accuracy</th>\n",
       "      <th id=\"T_4a691_level0_col1\" class=\"col_heading level0 col1\" >AUC</th>\n",
       "      <th id=\"T_4a691_level0_col2\" class=\"col_heading level0 col2\" >Recall</th>\n",
       "      <th id=\"T_4a691_level0_col3\" class=\"col_heading level0 col3\" >Prec.</th>\n",
       "      <th id=\"T_4a691_level0_col4\" class=\"col_heading level0 col4\" >F1</th>\n",
       "      <th id=\"T_4a691_level0_col5\" class=\"col_heading level0 col5\" >Kappa</th>\n",
       "      <th id=\"T_4a691_level0_col6\" class=\"col_heading level0 col6\" >MCC</th>\n",
       "    </tr>\n",
       "    <tr>\n",
       "      <th class=\"index_name level0\" >Fold</th>\n",
       "      <th class=\"blank col0\" >&nbsp;</th>\n",
       "      <th class=\"blank col1\" >&nbsp;</th>\n",
       "      <th class=\"blank col2\" >&nbsp;</th>\n",
       "      <th class=\"blank col3\" >&nbsp;</th>\n",
       "      <th class=\"blank col4\" >&nbsp;</th>\n",
       "      <th class=\"blank col5\" >&nbsp;</th>\n",
       "      <th class=\"blank col6\" >&nbsp;</th>\n",
       "    </tr>\n",
       "  </thead>\n",
       "  <tbody>\n",
       "    <tr>\n",
       "      <th id=\"T_4a691_level0_row0\" class=\"row_heading level0 row0\" >0</th>\n",
       "      <td id=\"T_4a691_row0_col0\" class=\"data row0 col0\" >0.9444</td>\n",
       "      <td id=\"T_4a691_row0_col1\" class=\"data row0 col1\" >0.5642</td>\n",
       "      <td id=\"T_4a691_row0_col2\" class=\"data row0 col2\" >1.0000</td>\n",
       "      <td id=\"T_4a691_row0_col3\" class=\"data row0 col3\" >0.9437</td>\n",
       "      <td id=\"T_4a691_row0_col4\" class=\"data row0 col4\" >0.9710</td>\n",
       "      <td id=\"T_4a691_row0_col5\" class=\"data row0 col5\" >0.3175</td>\n",
       "      <td id=\"T_4a691_row0_col6\" class=\"data row0 col6\" >0.4344</td>\n",
       "    </tr>\n",
       "    <tr>\n",
       "      <th id=\"T_4a691_level0_row1\" class=\"row_heading level0 row1\" >1</th>\n",
       "      <td id=\"T_4a691_row1_col0\" class=\"data row1 col0\" >0.9437</td>\n",
       "      <td id=\"T_4a691_row1_col1\" class=\"data row1 col1\" >0.5261</td>\n",
       "      <td id=\"T_4a691_row1_col2\" class=\"data row1 col2\" >1.0000</td>\n",
       "      <td id=\"T_4a691_row1_col3\" class=\"data row1 col3\" >0.9437</td>\n",
       "      <td id=\"T_4a691_row1_col4\" class=\"data row1 col4\" >0.9710</td>\n",
       "      <td id=\"T_4a691_row1_col5\" class=\"data row1 col5\" >0.0000</td>\n",
       "      <td id=\"T_4a691_row1_col6\" class=\"data row1 col6\" >0.0000</td>\n",
       "    </tr>\n",
       "    <tr>\n",
       "      <th id=\"T_4a691_level0_row2\" class=\"row_heading level0 row2\" >2</th>\n",
       "      <td id=\"T_4a691_row2_col0\" class=\"data row2 col0\" >0.9718</td>\n",
       "      <td id=\"T_4a691_row2_col1\" class=\"data row2 col1\" >0.8022</td>\n",
       "      <td id=\"T_4a691_row2_col2\" class=\"data row2 col2\" >1.0000</td>\n",
       "      <td id=\"T_4a691_row2_col3\" class=\"data row2 col3\" >0.9710</td>\n",
       "      <td id=\"T_4a691_row2_col4\" class=\"data row2 col4\" >0.9853</td>\n",
       "      <td id=\"T_4a691_row2_col5\" class=\"data row2 col5\" >0.6537</td>\n",
       "      <td id=\"T_4a691_row2_col6\" class=\"data row2 col6\" >0.6968</td>\n",
       "    </tr>\n",
       "    <tr>\n",
       "      <th id=\"T_4a691_level0_row3\" class=\"row_heading level0 row3\" >3</th>\n",
       "      <td id=\"T_4a691_row3_col0\" class=\"data row3 col0\" >0.9296</td>\n",
       "      <td id=\"T_4a691_row3_col1\" class=\"data row3 col1\" >0.8000</td>\n",
       "      <td id=\"T_4a691_row3_col2\" class=\"data row3 col2\" >1.0000</td>\n",
       "      <td id=\"T_4a691_row3_col3\" class=\"data row3 col3\" >0.9296</td>\n",
       "      <td id=\"T_4a691_row3_col4\" class=\"data row3 col4\" >0.9635</td>\n",
       "      <td id=\"T_4a691_row3_col5\" class=\"data row3 col5\" >0.0000</td>\n",
       "      <td id=\"T_4a691_row3_col6\" class=\"data row3 col6\" >0.0000</td>\n",
       "    </tr>\n",
       "    <tr>\n",
       "      <th id=\"T_4a691_level0_row4\" class=\"row_heading level0 row4\" >4</th>\n",
       "      <td id=\"T_4a691_row4_col0\" class=\"data row4 col0\" >0.9437</td>\n",
       "      <td id=\"T_4a691_row4_col1\" class=\"data row4 col1\" >0.9818</td>\n",
       "      <td id=\"T_4a691_row4_col2\" class=\"data row4 col2\" >1.0000</td>\n",
       "      <td id=\"T_4a691_row4_col3\" class=\"data row4 col3\" >0.9429</td>\n",
       "      <td id=\"T_4a691_row4_col4\" class=\"data row4 col4\" >0.9706</td>\n",
       "      <td id=\"T_4a691_row4_col5\" class=\"data row4 col5\" >0.3173</td>\n",
       "      <td id=\"T_4a691_row4_col6\" class=\"data row4 col6\" >0.4342</td>\n",
       "    </tr>\n",
       "    <tr>\n",
       "      <th id=\"T_4a691_level0_row5\" class=\"row_heading level0 row5\" >Mean</th>\n",
       "      <td id=\"T_4a691_row5_col0\" class=\"data row5 col0\" >0.9466</td>\n",
       "      <td id=\"T_4a691_row5_col1\" class=\"data row5 col1\" >0.7349</td>\n",
       "      <td id=\"T_4a691_row5_col2\" class=\"data row5 col2\" >1.0000</td>\n",
       "      <td id=\"T_4a691_row5_col3\" class=\"data row5 col3\" >0.9462</td>\n",
       "      <td id=\"T_4a691_row5_col4\" class=\"data row5 col4\" >0.9723</td>\n",
       "      <td id=\"T_4a691_row5_col5\" class=\"data row5 col5\" >0.2577</td>\n",
       "      <td id=\"T_4a691_row5_col6\" class=\"data row5 col6\" >0.3131</td>\n",
       "    </tr>\n",
       "    <tr>\n",
       "      <th id=\"T_4a691_level0_row6\" class=\"row_heading level0 row6\" >Std</th>\n",
       "      <td id=\"T_4a691_row6_col0\" class=\"data row6 col0\" >0.0138</td>\n",
       "      <td id=\"T_4a691_row6_col1\" class=\"data row6 col1\" >0.1688</td>\n",
       "      <td id=\"T_4a691_row6_col2\" class=\"data row6 col2\" >0.0000</td>\n",
       "      <td id=\"T_4a691_row6_col3\" class=\"data row6 col3\" >0.0135</td>\n",
       "      <td id=\"T_4a691_row6_col4\" class=\"data row6 col4\" >0.0071</td>\n",
       "      <td id=\"T_4a691_row6_col5\" class=\"data row6 col5\" >0.2436</td>\n",
       "      <td id=\"T_4a691_row6_col6\" class=\"data row6 col6\" >0.2730</td>\n",
       "    </tr>\n",
       "  </tbody>\n",
       "</table>\n"
      ],
      "text/plain": [
       "<pandas.io.formats.style.Styler at 0x7ff7d7624c50>"
      ]
     },
     "metadata": {},
     "output_type": "display_data"
    },
    {
     "data": {
      "text/html": [],
      "text/plain": [
       "<IPython.core.display.HTML object>"
      ]
     },
     "metadata": {},
     "output_type": "display_data"
    },
    {
     "name": "stdout",
     "output_type": "stream",
     "text": [
      "Fitting 5 folds for each of 10 candidates, totalling 50 fits\n",
      "Original model was better than the tuned model, hence it will be returned. NOTE: The display metrics are for the tuned model (not the original one).\n",
      "Transformation Pipeline and Model Successfully Saved\n"
     ]
    },
    {
     "data": {
      "text/html": [
       "<style type=\"text/css\">\n",
       "</style>\n",
       "<table id=\"T_9eb2b\">\n",
       "  <thead>\n",
       "    <tr>\n",
       "      <th class=\"blank level0\" >&nbsp;</th>\n",
       "      <th id=\"T_9eb2b_level0_col0\" class=\"col_heading level0 col0\" >Model</th>\n",
       "      <th id=\"T_9eb2b_level0_col1\" class=\"col_heading level0 col1\" >Accuracy</th>\n",
       "      <th id=\"T_9eb2b_level0_col2\" class=\"col_heading level0 col2\" >AUC</th>\n",
       "      <th id=\"T_9eb2b_level0_col3\" class=\"col_heading level0 col3\" >Recall</th>\n",
       "      <th id=\"T_9eb2b_level0_col4\" class=\"col_heading level0 col4\" >Prec.</th>\n",
       "      <th id=\"T_9eb2b_level0_col5\" class=\"col_heading level0 col5\" >F1</th>\n",
       "      <th id=\"T_9eb2b_level0_col6\" class=\"col_heading level0 col6\" >Kappa</th>\n",
       "      <th id=\"T_9eb2b_level0_col7\" class=\"col_heading level0 col7\" >MCC</th>\n",
       "    </tr>\n",
       "  </thead>\n",
       "  <tbody>\n",
       "    <tr>\n",
       "      <th id=\"T_9eb2b_level0_row0\" class=\"row_heading level0 row0\" >0</th>\n",
       "      <td id=\"T_9eb2b_row0_col0\" class=\"data row0 col0\" >Extreme Gradient Boosting</td>\n",
       "      <td id=\"T_9eb2b_row0_col1\" class=\"data row0 col1\" >0.9459</td>\n",
       "      <td id=\"T_9eb2b_row0_col2\" class=\"data row0 col2\" >0.8530</td>\n",
       "      <td id=\"T_9eb2b_row0_col3\" class=\"data row0 col3\" >1.0000</td>\n",
       "      <td id=\"T_9eb2b_row0_col4\" class=\"data row0 col4\" >0.9455</td>\n",
       "      <td id=\"T_9eb2b_row0_col5\" class=\"data row0 col5\" >0.9720</td>\n",
       "      <td id=\"T_9eb2b_row0_col6\" class=\"data row0 col6\" >0.2380</td>\n",
       "      <td id=\"T_9eb2b_row0_col7\" class=\"data row0 col7\" >0.3675</td>\n",
       "    </tr>\n",
       "  </tbody>\n",
       "</table>\n"
      ],
      "text/plain": [
       "<pandas.io.formats.style.Styler at 0x7ff7e73ceb50>"
      ]
     },
     "metadata": {},
     "output_type": "display_data"
    },
    {
     "name": "stdout",
     "output_type": "stream",
     "text": [
      "Outer fold 5/5\n",
      "Configuring PyCaret for outer fold 5\n",
      "Creating model xgboost for outer fold 5\n"
     ]
    },
    {
     "data": {
      "text/html": [],
      "text/plain": [
       "<IPython.core.display.HTML object>"
      ]
     },
     "metadata": {},
     "output_type": "display_data"
    },
    {
     "data": {
      "text/html": [
       "<style type=\"text/css\">\n",
       "#T_ff60a_row5_col0, #T_ff60a_row5_col1, #T_ff60a_row5_col2, #T_ff60a_row5_col3, #T_ff60a_row5_col4, #T_ff60a_row5_col5, #T_ff60a_row5_col6 {\n",
       "  background: yellow;\n",
       "}\n",
       "</style>\n",
       "<table id=\"T_ff60a\">\n",
       "  <thead>\n",
       "    <tr>\n",
       "      <th class=\"blank level0\" >&nbsp;</th>\n",
       "      <th id=\"T_ff60a_level0_col0\" class=\"col_heading level0 col0\" >Accuracy</th>\n",
       "      <th id=\"T_ff60a_level0_col1\" class=\"col_heading level0 col1\" >AUC</th>\n",
       "      <th id=\"T_ff60a_level0_col2\" class=\"col_heading level0 col2\" >Recall</th>\n",
       "      <th id=\"T_ff60a_level0_col3\" class=\"col_heading level0 col3\" >Prec.</th>\n",
       "      <th id=\"T_ff60a_level0_col4\" class=\"col_heading level0 col4\" >F1</th>\n",
       "      <th id=\"T_ff60a_level0_col5\" class=\"col_heading level0 col5\" >Kappa</th>\n",
       "      <th id=\"T_ff60a_level0_col6\" class=\"col_heading level0 col6\" >MCC</th>\n",
       "    </tr>\n",
       "    <tr>\n",
       "      <th class=\"index_name level0\" >Fold</th>\n",
       "      <th class=\"blank col0\" >&nbsp;</th>\n",
       "      <th class=\"blank col1\" >&nbsp;</th>\n",
       "      <th class=\"blank col2\" >&nbsp;</th>\n",
       "      <th class=\"blank col3\" >&nbsp;</th>\n",
       "      <th class=\"blank col4\" >&nbsp;</th>\n",
       "      <th class=\"blank col5\" >&nbsp;</th>\n",
       "      <th class=\"blank col6\" >&nbsp;</th>\n",
       "    </tr>\n",
       "  </thead>\n",
       "  <tbody>\n",
       "    <tr>\n",
       "      <th id=\"T_ff60a_level0_row0\" class=\"row_heading level0 row0\" >0</th>\n",
       "      <td id=\"T_ff60a_row0_col0\" class=\"data row0 col0\" >0.9306</td>\n",
       "      <td id=\"T_ff60a_row0_col1\" class=\"data row0 col1\" >0.8687</td>\n",
       "      <td id=\"T_ff60a_row0_col2\" class=\"data row0 col2\" >0.9851</td>\n",
       "      <td id=\"T_ff60a_row0_col3\" class=\"data row0 col3\" >0.9429</td>\n",
       "      <td id=\"T_ff60a_row0_col4\" class=\"data row0 col4\" >0.9635</td>\n",
       "      <td id=\"T_ff60a_row0_col5\" class=\"data row0 col5\" >0.2562</td>\n",
       "      <td id=\"T_ff60a_row0_col6\" class=\"data row0 col6\" >0.2863</td>\n",
       "    </tr>\n",
       "    <tr>\n",
       "      <th id=\"T_ff60a_level0_row1\" class=\"row_heading level0 row1\" >1</th>\n",
       "      <td id=\"T_ff60a_row1_col0\" class=\"data row1 col0\" >0.9577</td>\n",
       "      <td id=\"T_ff60a_row1_col1\" class=\"data row1 col1\" >0.8545</td>\n",
       "      <td id=\"T_ff60a_row1_col2\" class=\"data row1 col2\" >1.0000</td>\n",
       "      <td id=\"T_ff60a_row1_col3\" class=\"data row1 col3\" >0.9571</td>\n",
       "      <td id=\"T_ff60a_row1_col4\" class=\"data row1 col4\" >0.9781</td>\n",
       "      <td id=\"T_ff60a_row1_col5\" class=\"data row1 col5\" >0.3862</td>\n",
       "      <td id=\"T_ff60a_row1_col6\" class=\"data row1 col6\" >0.4892</td>\n",
       "    </tr>\n",
       "    <tr>\n",
       "      <th id=\"T_ff60a_level0_row2\" class=\"row_heading level0 row2\" >2</th>\n",
       "      <td id=\"T_ff60a_row2_col0\" class=\"data row2 col0\" >0.9437</td>\n",
       "      <td id=\"T_ff60a_row2_col1\" class=\"data row2 col1\" >0.8470</td>\n",
       "      <td id=\"T_ff60a_row2_col2\" class=\"data row2 col2\" >1.0000</td>\n",
       "      <td id=\"T_ff60a_row2_col3\" class=\"data row2 col3\" >0.9437</td>\n",
       "      <td id=\"T_ff60a_row2_col4\" class=\"data row2 col4\" >0.9710</td>\n",
       "      <td id=\"T_ff60a_row2_col5\" class=\"data row2 col5\" >0.0000</td>\n",
       "      <td id=\"T_ff60a_row2_col6\" class=\"data row2 col6\" >0.0000</td>\n",
       "    </tr>\n",
       "    <tr>\n",
       "      <th id=\"T_ff60a_level0_row3\" class=\"row_heading level0 row3\" >3</th>\n",
       "      <td id=\"T_ff60a_row3_col0\" class=\"data row3 col0\" >0.9577</td>\n",
       "      <td id=\"T_ff60a_row3_col1\" class=\"data row3 col1\" >0.7091</td>\n",
       "      <td id=\"T_ff60a_row3_col2\" class=\"data row3 col2\" >1.0000</td>\n",
       "      <td id=\"T_ff60a_row3_col3\" class=\"data row3 col3\" >0.9565</td>\n",
       "      <td id=\"T_ff60a_row3_col4\" class=\"data row3 col4\" >0.9778</td>\n",
       "      <td id=\"T_ff60a_row3_col5\" class=\"data row3 col5\" >0.5535</td>\n",
       "      <td id=\"T_ff60a_row3_col6\" class=\"data row3 col6\" >0.6186</td>\n",
       "    </tr>\n",
       "    <tr>\n",
       "      <th id=\"T_ff60a_level0_row4\" class=\"row_heading level0 row4\" >4</th>\n",
       "      <td id=\"T_ff60a_row4_col0\" class=\"data row4 col0\" >0.9437</td>\n",
       "      <td id=\"T_ff60a_row4_col1\" class=\"data row4 col1\" >0.7424</td>\n",
       "      <td id=\"T_ff60a_row4_col2\" class=\"data row4 col2\" >1.0000</td>\n",
       "      <td id=\"T_ff60a_row4_col3\" class=\"data row4 col3\" >0.9429</td>\n",
       "      <td id=\"T_ff60a_row4_col4\" class=\"data row4 col4\" >0.9706</td>\n",
       "      <td id=\"T_ff60a_row4_col5\" class=\"data row4 col5\" >0.3173</td>\n",
       "      <td id=\"T_ff60a_row4_col6\" class=\"data row4 col6\" >0.4342</td>\n",
       "    </tr>\n",
       "    <tr>\n",
       "      <th id=\"T_ff60a_level0_row5\" class=\"row_heading level0 row5\" >Mean</th>\n",
       "      <td id=\"T_ff60a_row5_col0\" class=\"data row5 col0\" >0.9467</td>\n",
       "      <td id=\"T_ff60a_row5_col1\" class=\"data row5 col1\" >0.8043</td>\n",
       "      <td id=\"T_ff60a_row5_col2\" class=\"data row5 col2\" >0.9970</td>\n",
       "      <td id=\"T_ff60a_row5_col3\" class=\"data row5 col3\" >0.9486</td>\n",
       "      <td id=\"T_ff60a_row5_col4\" class=\"data row5 col4\" >0.9722</td>\n",
       "      <td id=\"T_ff60a_row5_col5\" class=\"data row5 col5\" >0.3026</td>\n",
       "      <td id=\"T_ff60a_row5_col6\" class=\"data row5 col6\" >0.3657</td>\n",
       "    </tr>\n",
       "    <tr>\n",
       "      <th id=\"T_ff60a_level0_row6\" class=\"row_heading level0 row6\" >Std</th>\n",
       "      <td id=\"T_ff60a_row6_col0\" class=\"data row6 col0\" >0.0102</td>\n",
       "      <td id=\"T_ff60a_row6_col1\" class=\"data row6 col1\" >0.0654</td>\n",
       "      <td id=\"T_ff60a_row6_col2\" class=\"data row6 col2\" >0.0060</td>\n",
       "      <td id=\"T_ff60a_row6_col3\" class=\"data row6 col3\" >0.0067</td>\n",
       "      <td id=\"T_ff60a_row6_col4\" class=\"data row6 col4\" >0.0054</td>\n",
       "      <td id=\"T_ff60a_row6_col5\" class=\"data row6 col5\" >0.1810</td>\n",
       "      <td id=\"T_ff60a_row6_col6\" class=\"data row6 col6\" >0.2116</td>\n",
       "    </tr>\n",
       "  </tbody>\n",
       "</table>\n"
      ],
      "text/plain": [
       "<pandas.io.formats.style.Styler at 0x7ff7e4373350>"
      ]
     },
     "metadata": {},
     "output_type": "display_data"
    },
    {
     "data": {
      "text/html": [],
      "text/plain": [
       "<IPython.core.display.HTML object>"
      ]
     },
     "metadata": {},
     "output_type": "display_data"
    },
    {
     "name": "stdout",
     "output_type": "stream",
     "text": [
      "Tuning hyperparameters for model xgboost with custom grid\n"
     ]
    },
    {
     "data": {
      "text/html": [],
      "text/plain": [
       "<IPython.core.display.HTML object>"
      ]
     },
     "metadata": {},
     "output_type": "display_data"
    },
    {
     "data": {
      "text/html": [
       "<style type=\"text/css\">\n",
       "#T_99b81_row5_col0, #T_99b81_row5_col1, #T_99b81_row5_col2, #T_99b81_row5_col3, #T_99b81_row5_col4, #T_99b81_row5_col5, #T_99b81_row5_col6 {\n",
       "  background: yellow;\n",
       "}\n",
       "</style>\n",
       "<table id=\"T_99b81\">\n",
       "  <thead>\n",
       "    <tr>\n",
       "      <th class=\"blank level0\" >&nbsp;</th>\n",
       "      <th id=\"T_99b81_level0_col0\" class=\"col_heading level0 col0\" >Accuracy</th>\n",
       "      <th id=\"T_99b81_level0_col1\" class=\"col_heading level0 col1\" >AUC</th>\n",
       "      <th id=\"T_99b81_level0_col2\" class=\"col_heading level0 col2\" >Recall</th>\n",
       "      <th id=\"T_99b81_level0_col3\" class=\"col_heading level0 col3\" >Prec.</th>\n",
       "      <th id=\"T_99b81_level0_col4\" class=\"col_heading level0 col4\" >F1</th>\n",
       "      <th id=\"T_99b81_level0_col5\" class=\"col_heading level0 col5\" >Kappa</th>\n",
       "      <th id=\"T_99b81_level0_col6\" class=\"col_heading level0 col6\" >MCC</th>\n",
       "    </tr>\n",
       "    <tr>\n",
       "      <th class=\"index_name level0\" >Fold</th>\n",
       "      <th class=\"blank col0\" >&nbsp;</th>\n",
       "      <th class=\"blank col1\" >&nbsp;</th>\n",
       "      <th class=\"blank col2\" >&nbsp;</th>\n",
       "      <th class=\"blank col3\" >&nbsp;</th>\n",
       "      <th class=\"blank col4\" >&nbsp;</th>\n",
       "      <th class=\"blank col5\" >&nbsp;</th>\n",
       "      <th class=\"blank col6\" >&nbsp;</th>\n",
       "    </tr>\n",
       "  </thead>\n",
       "  <tbody>\n",
       "    <tr>\n",
       "      <th id=\"T_99b81_level0_row0\" class=\"row_heading level0 row0\" >0</th>\n",
       "      <td id=\"T_99b81_row0_col0\" class=\"data row0 col0\" >0.9444</td>\n",
       "      <td id=\"T_99b81_row0_col1\" class=\"data row0 col1\" >0.8358</td>\n",
       "      <td id=\"T_99b81_row0_col2\" class=\"data row0 col2\" >1.0000</td>\n",
       "      <td id=\"T_99b81_row0_col3\" class=\"data row0 col3\" >0.9437</td>\n",
       "      <td id=\"T_99b81_row0_col4\" class=\"data row0 col4\" >0.9710</td>\n",
       "      <td id=\"T_99b81_row0_col5\" class=\"data row0 col5\" >0.3175</td>\n",
       "      <td id=\"T_99b81_row0_col6\" class=\"data row0 col6\" >0.4344</td>\n",
       "    </tr>\n",
       "    <tr>\n",
       "      <th id=\"T_99b81_level0_row1\" class=\"row_heading level0 row1\" >1</th>\n",
       "      <td id=\"T_99b81_row1_col0\" class=\"data row1 col0\" >0.9718</td>\n",
       "      <td id=\"T_99b81_row1_col1\" class=\"data row1 col1\" >0.7985</td>\n",
       "      <td id=\"T_99b81_row1_col2\" class=\"data row1 col2\" >1.0000</td>\n",
       "      <td id=\"T_99b81_row1_col3\" class=\"data row1 col3\" >0.9710</td>\n",
       "      <td id=\"T_99b81_row1_col4\" class=\"data row1 col4\" >0.9853</td>\n",
       "      <td id=\"T_99b81_row1_col5\" class=\"data row1 col5\" >0.6537</td>\n",
       "      <td id=\"T_99b81_row1_col6\" class=\"data row1 col6\" >0.6968</td>\n",
       "    </tr>\n",
       "    <tr>\n",
       "      <th id=\"T_99b81_level0_row2\" class=\"row_heading level0 row2\" >2</th>\n",
       "      <td id=\"T_99b81_row2_col0\" class=\"data row2 col0\" >0.9437</td>\n",
       "      <td id=\"T_99b81_row2_col1\" class=\"data row2 col1\" >0.8396</td>\n",
       "      <td id=\"T_99b81_row2_col2\" class=\"data row2 col2\" >1.0000</td>\n",
       "      <td id=\"T_99b81_row2_col3\" class=\"data row2 col3\" >0.9437</td>\n",
       "      <td id=\"T_99b81_row2_col4\" class=\"data row2 col4\" >0.9710</td>\n",
       "      <td id=\"T_99b81_row2_col5\" class=\"data row2 col5\" >0.0000</td>\n",
       "      <td id=\"T_99b81_row2_col6\" class=\"data row2 col6\" >0.0000</td>\n",
       "    </tr>\n",
       "    <tr>\n",
       "      <th id=\"T_99b81_level0_row3\" class=\"row_heading level0 row3\" >3</th>\n",
       "      <td id=\"T_99b81_row3_col0\" class=\"data row3 col0\" >0.9577</td>\n",
       "      <td id=\"T_99b81_row3_col1\" class=\"data row3 col1\" >0.6758</td>\n",
       "      <td id=\"T_99b81_row3_col2\" class=\"data row3 col2\" >1.0000</td>\n",
       "      <td id=\"T_99b81_row3_col3\" class=\"data row3 col3\" >0.9565</td>\n",
       "      <td id=\"T_99b81_row3_col4\" class=\"data row3 col4\" >0.9778</td>\n",
       "      <td id=\"T_99b81_row3_col5\" class=\"data row3 col5\" >0.5535</td>\n",
       "      <td id=\"T_99b81_row3_col6\" class=\"data row3 col6\" >0.6186</td>\n",
       "    </tr>\n",
       "    <tr>\n",
       "      <th id=\"T_99b81_level0_row4\" class=\"row_heading level0 row4\" >4</th>\n",
       "      <td id=\"T_99b81_row4_col0\" class=\"data row4 col0\" >0.9437</td>\n",
       "      <td id=\"T_99b81_row4_col1\" class=\"data row4 col1\" >0.7909</td>\n",
       "      <td id=\"T_99b81_row4_col2\" class=\"data row4 col2\" >1.0000</td>\n",
       "      <td id=\"T_99b81_row4_col3\" class=\"data row4 col3\" >0.9429</td>\n",
       "      <td id=\"T_99b81_row4_col4\" class=\"data row4 col4\" >0.9706</td>\n",
       "      <td id=\"T_99b81_row4_col5\" class=\"data row4 col5\" >0.3173</td>\n",
       "      <td id=\"T_99b81_row4_col6\" class=\"data row4 col6\" >0.4342</td>\n",
       "    </tr>\n",
       "    <tr>\n",
       "      <th id=\"T_99b81_level0_row5\" class=\"row_heading level0 row5\" >Mean</th>\n",
       "      <td id=\"T_99b81_row5_col0\" class=\"data row5 col0\" >0.9523</td>\n",
       "      <td id=\"T_99b81_row5_col1\" class=\"data row5 col1\" >0.7881</td>\n",
       "      <td id=\"T_99b81_row5_col2\" class=\"data row5 col2\" >1.0000</td>\n",
       "      <td id=\"T_99b81_row5_col3\" class=\"data row5 col3\" >0.9515</td>\n",
       "      <td id=\"T_99b81_row5_col4\" class=\"data row5 col4\" >0.9751</td>\n",
       "      <td id=\"T_99b81_row5_col5\" class=\"data row5 col5\" >0.3684</td>\n",
       "      <td id=\"T_99b81_row5_col6\" class=\"data row5 col6\" >0.4368</td>\n",
       "    </tr>\n",
       "    <tr>\n",
       "      <th id=\"T_99b81_level0_row6\" class=\"row_heading level0 row6\" >Std</th>\n",
       "      <td id=\"T_99b81_row6_col0\" class=\"data row6 col0\" >0.0112</td>\n",
       "      <td id=\"T_99b81_row6_col1\" class=\"data row6 col1\" >0.0594</td>\n",
       "      <td id=\"T_99b81_row6_col2\" class=\"data row6 col2\" >0.0000</td>\n",
       "      <td id=\"T_99b81_row6_col3\" class=\"data row6 col3\" >0.0110</td>\n",
       "      <td id=\"T_99b81_row6_col4\" class=\"data row6 col4\" >0.0057</td>\n",
       "      <td id=\"T_99b81_row6_col5\" class=\"data row6 col5\" >0.2265</td>\n",
       "      <td id=\"T_99b81_row6_col6\" class=\"data row6 col6\" >0.2414</td>\n",
       "    </tr>\n",
       "  </tbody>\n",
       "</table>\n"
      ],
      "text/plain": [
       "<pandas.io.formats.style.Styler at 0x7ff7d5a7f0d0>"
      ]
     },
     "metadata": {},
     "output_type": "display_data"
    },
    {
     "data": {
      "text/html": [],
      "text/plain": [
       "<IPython.core.display.HTML object>"
      ]
     },
     "metadata": {},
     "output_type": "display_data"
    },
    {
     "name": "stdout",
     "output_type": "stream",
     "text": [
      "Fitting 5 folds for each of 10 candidates, totalling 50 fits\n",
      "Transformation Pipeline and Model Successfully Saved\n"
     ]
    },
    {
     "data": {
      "text/html": [
       "<style type=\"text/css\">\n",
       "</style>\n",
       "<table id=\"T_57eb2\">\n",
       "  <thead>\n",
       "    <tr>\n",
       "      <th class=\"blank level0\" >&nbsp;</th>\n",
       "      <th id=\"T_57eb2_level0_col0\" class=\"col_heading level0 col0\" >Model</th>\n",
       "      <th id=\"T_57eb2_level0_col1\" class=\"col_heading level0 col1\" >Accuracy</th>\n",
       "      <th id=\"T_57eb2_level0_col2\" class=\"col_heading level0 col2\" >AUC</th>\n",
       "      <th id=\"T_57eb2_level0_col3\" class=\"col_heading level0 col3\" >Recall</th>\n",
       "      <th id=\"T_57eb2_level0_col4\" class=\"col_heading level0 col4\" >Prec.</th>\n",
       "      <th id=\"T_57eb2_level0_col5\" class=\"col_heading level0 col5\" >F1</th>\n",
       "      <th id=\"T_57eb2_level0_col6\" class=\"col_heading level0 col6\" >Kappa</th>\n",
       "      <th id=\"T_57eb2_level0_col7\" class=\"col_heading level0 col7\" >MCC</th>\n",
       "    </tr>\n",
       "  </thead>\n",
       "  <tbody>\n",
       "    <tr>\n",
       "      <th id=\"T_57eb2_level0_row0\" class=\"row_heading level0 row0\" >0</th>\n",
       "      <td id=\"T_57eb2_row0_col0\" class=\"data row0 col0\" >Extreme Gradient Boosting</td>\n",
       "      <td id=\"T_57eb2_row0_col1\" class=\"data row0 col1\" >0.9550</td>\n",
       "      <td id=\"T_57eb2_row0_col2\" class=\"data row0 col2\" >0.6552</td>\n",
       "      <td id=\"T_57eb2_row0_col3\" class=\"data row0 col3\" >1.0000</td>\n",
       "      <td id=\"T_57eb2_row0_col4\" class=\"data row0 col4\" >0.9541</td>\n",
       "      <td id=\"T_57eb2_row0_col5\" class=\"data row0 col5\" >0.9765</td>\n",
       "      <td id=\"T_57eb2_row0_col6\" class=\"data row0 col6\" >0.4284</td>\n",
       "      <td id=\"T_57eb2_row0_col7\" class=\"data row0 col7\" >0.5221</td>\n",
       "    </tr>\n",
       "  </tbody>\n",
       "</table>\n"
      ],
      "text/plain": [
       "<pandas.io.formats.style.Styler at 0x7ff7e4c6ae90>"
      ]
     },
     "metadata": {},
     "output_type": "display_data"
    },
    {
     "name": "stdout",
     "output_type": "stream",
     "text": [
      "Final metrics table:\n",
      "     Metric     Mean   Std Dev\n",
      "0  Accuracy  0.94444  0.016983\n",
      "1       AUC  0.69672  0.147700\n",
      "2    Recall  1.00000  0.000000\n",
      "3     Prec.  0.94392  0.016494\n",
      "4        F1  0.97106  0.008696\n",
      "5     Kappa  0.27426  0.303174\n",
      "6       MCC  0.32642  0.326835\n"
     ]
    }
   ],
   "source": [
    "# Initialize the PyCaret Evaluator\n",
    "evaluator = PyCaretEvaluator(dataset=dataset, target=\"Fracture\", experiment_name=\"CP_Fracture\", filepath=\"./results/fracture\")\n",
    "\n",
    "# Model training\n",
    "evaluator.run_experiment(\n",
    "    train_size=0.8,\n",
    "    fold=5,\n",
    "    fold_strategy='stratifiedkfold',\n",
    "    outer_fold=5,\n",
    "    outer_strategy='stratifiedkfold',\n",
    "    session_id=42,\n",
    "    model='xgboost',\n",
    "    optimize='AUC',\n",
    "    custom_grid=grid_hps\n",
    ")"
   ]
  }
 ],
 "metadata": {
  "kernelspec": {
   "display_name": "Python (pycaret_env)",
   "language": "python",
   "name": "pycaret_env"
  },
  "language_info": {
   "codemirror_mode": {
    "name": "ipython",
    "version": 3
   },
   "file_extension": ".py",
   "mimetype": "text/x-python",
   "name": "python",
   "nbconvert_exporter": "python",
   "pygments_lexer": "ipython3",
   "version": "3.11.9"
  }
 },
 "nbformat": 4,
 "nbformat_minor": 5
}
