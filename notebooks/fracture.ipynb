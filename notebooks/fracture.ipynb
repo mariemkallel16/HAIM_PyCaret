{
 "cells": [
  {
   "cell_type": "markdown",
   "id": "c4139f23",
   "metadata": {},
   "source": [
    "# Pathology prediction (fracture)\n",
    "\n",
    "@References : Soenksen, L.R., Ma, Y., Zeng, C. et al. Integrated multimodal artificial intelligence framework for healthcare applications. npj Digit. Med. 5, 149 (2022). https://doi.org/10.1038/s41746-022-00689-4\n",
    "\n",
    "In this notebook, the task is to predict the fracture pathology using the CSV embeddings file"
   ]
  },
  {
   "cell_type": "markdown",
   "id": "8e9e247e",
   "metadata": {},
   "source": [
    "## Introduction\n"
   ]
  },
  {
   "attachments": {},
   "cell_type": "markdown",
   "id": "321d5924",
   "metadata": {},
   "source": [
    "Radiology notes were processed to determine if each of the pathologies was explicitly confirmed as present (value = 1), explicitly confirmed as absent (value = 0), inconclusive in the study (value = −1), or not explored (no value).\n",
    "\n",
    "Selected samples :  0 or 1 values (removing the rest from the training and testing data).\n",
    "\n",
    "Excluded variables : the unstructured radiology notes component (E_rad ) from the allowable input to avoid potential overfitting or misrepresentations of real predictive value. \n",
    "\n",
    "The model is based on binary classification for each target chest pathology.\n",
    "\n",
    "Final sample size for the fracture pathology is : (N = 557)"
   ]
  },
  {
   "cell_type": "markdown",
   "id": "59600fd4",
   "metadata": {},
   "source": [
    "#### Imports"
   ]
  },
  {
   "cell_type": "code",
   "execution_count": 1,
   "id": "2d0990d5",
   "metadata": {},
   "outputs": [],
   "source": [
    "import os\n",
    "os.chdir('../')\n",
    "\n",
    "from pandas import read_csv\n",
    "\n",
    "from src.data import constants\n",
    "from src.data.dataset import HAIMDataset\n",
    "from src.evaluation.pycaret_evaluator import PyCaretEvaluator\n",
    "from src.utils.metric_scores import *"
   ]
  },
  {
   "cell_type": "markdown",
   "id": "645a1fe8",
   "metadata": {},
   "source": [
    "#### Read data from local source\n",
    "\n"
   ]
  },
  {
   "cell_type": "code",
   "execution_count": 2,
   "id": "a948c18c",
   "metadata": {},
   "outputs": [],
   "source": [
    "df = read_csv(constants.FILE_DF, nrows=constants.N_DATA)"
   ]
  },
  {
   "cell_type": "markdown",
   "id": "90a95053",
   "metadata": {},
   "source": [
    "#### Create a custom dataset for the HAIM experiment\n"
   ]
  },
  {
   "cell_type": "markdown",
   "id": "a47ba159",
   "metadata": {},
   "source": [
    "Build the target column for the task at hand, set the dataset specificities:  the ``haim_id`` as a ``global_id``, use all sources except ``radiology notes`` "
   ]
  },
  {
   "cell_type": "code",
   "execution_count": 3,
   "id": "239db8a3",
   "metadata": {},
   "outputs": [],
   "source": [
    "dataset = HAIMDataset(df,  \n",
    "                      constants.CHEST_PREDICTORS, \n",
    "                      constants.ALL_MODALITIES, \n",
    "                      constants.FRACTURE, \n",
    "                      constants.IMG_ID, \n",
    "                      constants.GLOBAL_ID)"
   ]
  },
  {
   "cell_type": "markdown",
   "id": "e280f91d",
   "metadata": {},
   "source": [
    "#### Set hyper-parameters"
   ]
  },
  {
   "cell_type": "code",
   "execution_count": 4,
   "id": "8d254fef",
   "metadata": {},
   "outputs": [],
   "source": [
    "# Define the grid oh hyper-parameters for the tuning\n",
    "grid_hps = {'max_depth': [5, 6, 7, 8],\n",
    "            'n_estimators': [200, 300],\n",
    "            'learning_rate': [0.3, 0.1, 0.05],\n",
    "            }\n",
    "# Fixed parameters to pass\n",
    "fixed_params = {\n",
    "    'seed': 42,\n",
    "    'eval_metric': 'logloss',\n",
    "    'verbosity': 0\n",
    "}"
   ]
  },
  {
   "cell_type": "markdown",
   "id": "75fd10ab",
   "metadata": {},
   "source": [
    "### Model training and predictions using an XGBClassifier model with GridSearchCV and Hyperparameters optimization\n"
   ]
  },
  {
   "cell_type": "markdown",
   "id": "d04a4c63",
   "metadata": {},
   "source": [
    "The goal of this section of the notebook is to compute the following metrics:\n",
    "\n",
    "``ACCURACY_SCORE, BALANCED_ACCURACY_SCORE, SENSITIVITY, SPECIFICITY, AUC, BRIER SCORE, BINARY CROSS-ENTROPY``\n",
    "\n",
    "\n",
    "The\n",
    "hyperparameter combinations of individual XGBoost models were\n",
    "selected within each training loop using a ``fivefold cross-validated\n",
    "grid search`` on the training set (80%). This XGBoost ``tuning process``\n",
    "selected the ``maximum depth of the trees (5–8)``, the number of\n",
    "``estimators (200 or 300)``, and the ``learning rate (0.05, 0.1, 0.3)``\n",
    "according to the parameter value combination leading to the\n",
    "highest observed AUROC within the training loop \n",
    "\n",
    "\n",
    "As mentioned previously, all XGBoost models were trained ``five times with five different data splits`` to repeat the\n",
    "experiments and compute average metrics \n",
    "\n",
    "\n",
    "```Refer to page 8 of study``` : https://doi.org/10.1038/s41746-022-00689-4"
   ]
  },
  {
   "cell_type": "code",
   "execution_count": 5,
   "id": "726c2332",
   "metadata": {},
   "outputs": [
    {
     "name": "stderr",
     "output_type": "stream",
     "text": [
      "2024-09-24 15:22:48,738\tINFO worker.py:1777 -- Started a local Ray instance. View the dashboard at \u001b[1m\u001b[32mhttp://127.0.0.1:8266 \u001b[39m\u001b[22m\n"
     ]
    },
    {
     "name": "stdout",
     "output_type": "stream",
     "text": [
      "\u001b[36m(run_fold pid=95326)\u001b[0m Outer fold 1\n",
      "\u001b[36m(run_fold pid=95324)\u001b[0m Configuring PyCaret for outer fold 4\n",
      "\u001b[36m(run_fold pid=95336)\u001b[0m Outer fold 3\u001b[32m [repeated 4x across cluster] (Ray deduplicates logs by default. Set RAY_DEDUP_LOGS=0 to disable log deduplication, or see https://docs.ray.io/en/master/ray-observability/user-guides/configure-logging.html#log-deduplication for more options.)\u001b[0m\n"
     ]
    },
    {
     "name": "stderr",
     "output_type": "stream",
     "text": [
      "Processing:   0%|          | 0/4 [00:00<?, ?it/s]\n",
      "Processing:  25%|██▌       | 1/4 [00:00<00:01,  1.78it/s]\n",
      "Processing:   0%|          | 0/4 [00:00<?, ?it/s]\u001b[32m [repeated 4x across cluster]\u001b[0m\n",
      "Processing:  75%|███████▌  | 3/4 [00:22<00:08,  8.20s/it]\u001b[32m [repeated 5x across cluster]\u001b[0m\n"
     ]
    },
    {
     "name": "stdout",
     "output_type": "stream",
     "text": [
      "\u001b[36m(run_fold pid=95324)\u001b[0m       Accuracy     AUC  Recall   Prec.      F1   Kappa     MCC\n",
      "\u001b[36m(run_fold pid=95324)\u001b[0m Fold                                                          \n",
      "\u001b[36m(run_fold pid=95324)\u001b[0m 0       0.9722  0.8164     1.0  0.9718  0.9857  0.4894  0.5692\n",
      "\u001b[36m(run_fold pid=95324)\u001b[0m 1       0.9437  0.7333     1.0  0.9429  0.9706  0.3173  0.4342\n",
      "\u001b[36m(run_fold pid=95324)\u001b[0m 2       0.9577  0.8030     1.0  0.9565  0.9778  0.5535  0.6186\n",
      "\u001b[36m(run_fold pid=95324)\u001b[0m 3       0.9296  0.8000     1.0  0.9296  0.9635  0.0000  0.0000\n",
      "\u001b[36m(run_fold pid=95324)\u001b[0m 4       0.9437  0.9818     1.0  0.9429  0.9706  0.3173  0.4342\n",
      "\u001b[36m(run_fold pid=95324)\u001b[0m Mean    0.9494  0.8269     1.0  0.9487  0.9736  0.3355  0.4112\n",
      "\u001b[36m(run_fold pid=95324)\u001b[0m Std     0.0145  0.0827     0.0  0.0144  0.0075  0.1920  0.2182\n",
      "\u001b[36m(run_fold pid=95336)\u001b[0m Configuring PyCaret for outer fold 3\u001b[32m [repeated 4x across cluster]\u001b[0m\n"
     ]
    },
    {
     "name": "stderr",
     "output_type": "stream",
     "text": [
      "                                                         \n"
     ]
    },
    {
     "name": "stdout",
     "output_type": "stream",
     "text": [
      "\u001b[36m(run_fold pid=95324)\u001b[0m Tuning hyperparameters for model xgboost with custom grid using grid search\n"
     ]
    },
    {
     "name": "stderr",
     "output_type": "stream",
     "text": [
      "Processing:  75%|███████▌  | 3/4 [00:23<00:08,  8.45s/it]\u001b[32m [repeated 4x across cluster]\u001b[0m\n"
     ]
    },
    {
     "name": "stdout",
     "output_type": "stream",
     "text": [
      "\u001b[36m(run_fold pid=95336)\u001b[0m 0       0.9583  0.7391     1.0  0.9583  0.9787  0.0000  0.0000\n",
      "\u001b[36m(run_fold pid=95336)\u001b[0m 1       0.9577  0.6667     1.0  0.9565  0.9778  0.5535  0.6186\n",
      "\u001b[36m(run_fold pid=95336)\u001b[0m 2       0.9437  0.7909     1.0  0.9429  0.9706  0.3173  0.4342\n",
      "\u001b[36m(run_fold pid=95336)\u001b[0m 3       0.9437  0.6424     1.0  0.9429  0.9706  0.3173  0.4342\n",
      "\u001b[36m(run_fold pid=95336)\u001b[0m 4       0.9577  0.7788     1.0  0.9565  0.9778  0.5535  0.6186\n",
      "\u001b[36m(run_fold pid=95329)\u001b[0m 0       0.9722  0.8744     1.0  0.9718  0.9857  0.4894  0.5692\n",
      "\u001b[36m(run_fold pid=95329)\u001b[0m 1       0.9437  0.8909     1.0  0.9429  0.9706  0.3173  0.4342\n",
      "\u001b[36m(run_fold pid=95329)\u001b[0m 2       0.9296  0.7212     1.0  0.9296  0.9635  0.0000  0.0000\n",
      "\u001b[36m(run_fold pid=95329)\u001b[0m 3       0.9577  0.7091     1.0  0.9565  0.9778  0.5535  0.6186\n",
      "\u001b[36m(run_fold pid=95329)\u001b[0m 4       0.9437  0.7424     1.0  0.9429  0.9706  0.3173  0.4342\n",
      "\u001b[36m(run_fold pid=95326)\u001b[0m 0       0.9722  0.8551     1.0  0.9718  0.9857  0.4894  0.5692\n",
      "\u001b[36m(run_fold pid=95326)\u001b[0m 1       0.9437  0.7030     1.0  0.9429  0.9706  0.3173  0.4342\n",
      "\u001b[36m(run_fold pid=95326)\u001b[0m 2       0.9437  0.9242     1.0  0.9429  0.9706  0.3173  0.4342\n",
      "\u001b[36m(run_fold pid=95326)\u001b[0m 3       0.9577  0.8394     1.0  0.9565  0.9778  0.5535  0.6186\n",
      "\u001b[36m(run_fold pid=95326)\u001b[0m 4       0.9437  0.5455     1.0  0.9429  0.9706  0.3173  0.4342\n",
      "\u001b[36m(run_fold pid=95335)\u001b[0m 0       0.9583  0.8599     1.0  0.9583  0.9787  0.0000  0.0000\n",
      "\u001b[36m(run_fold pid=95335)\u001b[0m 1       0.9296  0.6872     1.0  0.9286  0.9630  0.2680  0.3934\n",
      "\u001b[36m(run_fold pid=95335)\u001b[0m 2       0.9296  0.5091     1.0  0.9296  0.9635  0.0000  0.0000\n",
      "\u001b[36m(run_fold pid=95335)\u001b[0m 3       0.9437  0.6194     1.0  0.9437  0.9710  0.0000  0.0000\n",
      "\u001b[36m(run_fold pid=95335)\u001b[0m 4       0.9577  0.8545     1.0  0.9571  0.9781  0.3862  0.4892\n",
      "\u001b[36m(run_fold pid=95326)\u001b[0m Transformation Pipeline and Model Successfully Saved\n",
      "\u001b[36m(run_fold pid=95335)\u001b[0m       Accuracy     AUC  Recall   Prec.      F1   Kappa     MCC\u001b[32m [repeated 4x across cluster]\u001b[0m\n",
      "\u001b[36m(run_fold pid=95335)\u001b[0m Fold                                                          \u001b[32m [repeated 4x across cluster]\u001b[0m\n",
      "\u001b[36m(run_fold pid=95335)\u001b[0m Mean    0.9438  0.7060     1.0  0.9435  0.9709  0.1308  0.1765\u001b[32m [repeated 4x across cluster]\u001b[0m\n",
      "\u001b[36m(run_fold pid=95335)\u001b[0m Std     0.0127  0.1359     0.0  0.0128  0.0068  0.1645  0.2183\u001b[32m [repeated 4x across cluster]\u001b[0m\n",
      "\u001b[36m(run_fold pid=95335)\u001b[0m Tuning hyperparameters for model xgboost with custom grid using grid search\u001b[32m [repeated 4x across cluster]\u001b[0m\n",
      "\u001b[36m(run_fold pid=95326)\u001b[0m                        Model  Accuracy     AUC  ...      F1  Kappa  MCC\n",
      "\u001b[36m(run_fold pid=95326)\u001b[0m 0  Extreme Gradient Boosting    0.9375  0.6721  ...  0.9677    0.0  0.0\n",
      "\u001b[36m(run_fold pid=95326)\u001b[0m \n",
      "\u001b[36m(run_fold pid=95326)\u001b[0m [1 rows x 8 columns]\n",
      "\u001b[36m(run_fold pid=95324)\u001b[0m \n",
      "\u001b[36m(run_fold pid=95324)\u001b[0m Transformation Pipeline and Model Successfully Saved\n",
      "\u001b[36m(run_fold pid=95336)\u001b[0m Transformation Pipeline and Model Successfully Saved\n",
      "\u001b[36m(run_fold pid=95324)\u001b[0m                        Model  Accuracy     AUC  ...     F1  Kappa     MCC\n",
      "\u001b[36m(run_fold pid=95324)\u001b[0m 0  Extreme Gradient Boosting    0.9459  0.8104  ...  0.972  0.238  0.3675\n",
      "\u001b[36m(run_fold pid=95324)\u001b[0m [1 rows x 8 columns]\n",
      "\u001b[36m(run_fold pid=95336)\u001b[0m                        Model  Accuracy     AUC  ...      F1   Kappa     MCC\n",
      "\u001b[36m(run_fold pid=95336)\u001b[0m 0  Extreme Gradient Boosting     0.955  0.7788  ...  0.9765  0.4284  0.5221\n",
      "\u001b[36m(run_fold pid=95336)\u001b[0m \n",
      "\u001b[36m(run_fold pid=95336)\u001b[0m [1 rows x 8 columns]\n",
      "\u001b[36m(run_fold pid=95335)\u001b[0m \n",
      "\u001b[36m(run_fold pid=95329)\u001b[0m \n",
      "\u001b[36m(run_fold pid=95329)\u001b[0m Transformation Pipeline and Model Successfully Saved\u001b[32m [repeated 2x across cluster]\u001b[0m\n",
      "Final metrics table:\n",
      "     Metric     Mean   Std Dev\n",
      "0  Accuracy  0.96386  0.007613\n",
      "1       AUC  0.83672  0.100158\n",
      "2    Recall  0.99710  0.006485\n",
      "3     Prec.  0.96632  0.007323\n",
      "4        F1  0.98144  0.003891\n",
      "5     Kappa  0.27162  0.251995\n",
      "6       MCC  0.30522  0.288311\n",
      "\u001b[36m(run_fold pid=95329)\u001b[0m                        Model  Accuracy     AUC  ...      F1   Kappa     MCC\u001b[32m [repeated 2x across cluster]\u001b[0m\n",
      "\u001b[36m(run_fold pid=95329)\u001b[0m 0  Extreme Gradient Boosting     0.955  0.6745  ...  0.9765  0.4284  0.5221\u001b[32m [repeated 2x across cluster]\u001b[0m\n",
      "\u001b[36m(run_fold pid=95329)\u001b[0m [1 rows x 8 columns]\u001b[32m [repeated 2x across cluster]\u001b[0m\n"
     ]
    },
    {
     "name": "stderr",
     "output_type": "stream",
     "text": [
      "                                                         \u001b[32m [repeated 4x across cluster]\u001b[0m\n"
     ]
    }
   ],
   "source": [
    "# Initialize the PyCaret Evaluator\n",
    "evaluator = PyCaretEvaluator(dataset=dataset, target=\"Fracture\", experiment_name=\"CP_Fracture\", filepath=\"./results/fracture\")\n",
    "\n",
    "evaluator.run_experiment(\n",
    "    train_size=0.8,\n",
    "    fold=5,\n",
    "    fold_strategy='kfold',\n",
    "    outer_fold=5,\n",
    "    outer_strategy='stratifiedkfold',\n",
    "    session_id=42,\n",
    "    model='xgboost',\n",
    "    optimize='AUC',\n",
    "    custom_grid=grid_hps,  # Grid d'hyperparamètres\n",
    "    fixed_params=fixed_params # Paramètres fixes\n",
    ")"
   ]
  }
 ],
 "metadata": {
  "kernelspec": {
   "display_name": "Python (pycaret_env)",
   "language": "python",
   "name": "pycaret_env"
  },
  "language_info": {
   "codemirror_mode": {
    "name": "ipython",
    "version": 3
   },
   "file_extension": ".py",
   "mimetype": "text/x-python",
   "name": "python",
   "nbconvert_exporter": "python",
   "pygments_lexer": "ipython3",
   "version": "3.11.9"
  }
 },
 "nbformat": 4,
 "nbformat_minor": 5
}
