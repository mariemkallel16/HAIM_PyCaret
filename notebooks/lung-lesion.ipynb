{
 "cells": [
  {
   "cell_type": "markdown",
   "id": "c4139f23",
   "metadata": {},
   "source": [
    "# Pathology prediction (lung lesion)\n",
    "\n",
    "\n",
    "@References : Soenksen, L.R., Ma, Y., Zeng, C. et al. Integrated multimodal artificial intelligence framework for healthcare applications. npj Digit. Med. 5, 149 (2022). https://doi.org/10.1038/s41746-022-00689-4\n",
    "\n",
    "In this notebook, the task is to predict the lung lesion pathology using the CSV embeddings file"
   ]
  },
  {
   "cell_type": "markdown",
   "id": "8e9e247e",
   "metadata": {},
   "source": [
    "## Introduction\n"
   ]
  },
  {
   "attachments": {},
   "cell_type": "markdown",
   "id": "321d5924",
   "metadata": {},
   "source": [
    "Radiology notes were processed to determine if each of the pathologies was explicitly confirmed as present (value = 1), explicitly confirmed as absent (value = 0), inconclusive in the study (value = −1), or not explored (no value).\n",
    "\n",
    "Selected samples : 0 or 1 values (removing the rest from the training and testing data).\n",
    "\n",
    "Excluded variables : the unstructured radiology notes component (E_rad ) from the allowable input to avoid potential overfitting or misrepresentations of real predictive value.\n",
    "\n",
    "The model is based on binary classification for each target chest pathology.\n",
    "\n",
    "Final sample size for the Lung Lesion pathology is : (N = 930)\n"
   ]
  },
  {
   "cell_type": "markdown",
   "id": "59600fd4",
   "metadata": {},
   "source": [
    "#### Imports"
   ]
  },
  {
   "cell_type": "code",
   "execution_count": 1,
   "id": "2d0990d5",
   "metadata": {},
   "outputs": [],
   "source": [
    "import os\n",
    "os.chdir('../')\n",
    "\n",
    "from pandas import read_csv\n",
    "\n",
    "from src.data import constants\n",
    "from src.data.dataset import HAIMDataset\n",
    "from src.evaluation.pycaret_evaluator import PyCaretEvaluator\n",
    "from src.utils.metric_scores import *"
   ]
  },
  {
   "cell_type": "markdown",
   "id": "645a1fe8",
   "metadata": {},
   "source": [
    "#### Read data from local source\n",
    "\n"
   ]
  },
  {
   "cell_type": "code",
   "execution_count": 2,
   "id": "a948c18c",
   "metadata": {},
   "outputs": [],
   "source": [
    "df = read_csv(constants.FILE_DF, nrows=constants.N_DATA)"
   ]
  },
  {
   "cell_type": "markdown",
   "id": "90a95053",
   "metadata": {},
   "source": [
    "#### Create a custom dataset for the HAIM experiment\n"
   ]
  },
  {
   "cell_type": "markdown",
   "id": "a47ba159",
   "metadata": {},
   "source": [
    "Build the target column for the task at hand, set the dataset specificities:  the ``haim_id`` as a ``global_id``, use all sources except ``radiology notes`` "
   ]
  },
  {
   "cell_type": "code",
   "execution_count": 3,
   "id": "239db8a3",
   "metadata": {},
   "outputs": [],
   "source": [
    "dataset = HAIMDataset(df,  \n",
    "                      constants.CHEST_PREDICTORS, \n",
    "                      constants.ALL_MODALITIES, \n",
    "                      constants.LUNG_LESION, \n",
    "                      constants.IMG_ID, \n",
    "                      constants.GLOBAL_ID)"
   ]
  },
  {
   "cell_type": "markdown",
   "id": "e280f91d",
   "metadata": {},
   "source": [
    "#### Set hyper-parameters"
   ]
  },
  {
   "cell_type": "code",
   "execution_count": 4,
   "id": "8d254fef",
   "metadata": {},
   "outputs": [],
   "source": [
    "# Define the grid oh hyper-parameters for the tuning\n",
    "grid_hps = {'max_depth': [5, 6, 7, 8],\n",
    "            'n_estimators': [200, 300],\n",
    "            'learning_rate': [0.3, 0.1, 0.05],\n",
    "            }"
   ]
  },
  {
   "cell_type": "markdown",
   "id": "75fd10ab",
   "metadata": {},
   "source": [
    "### Model training and predictions using an XGBClassifier model with GridSearchCV and Hyperparameters optimization\n"
   ]
  },
  {
   "cell_type": "markdown",
   "id": "d04a4c63",
   "metadata": {},
   "source": [
    "The goal of this section of the notebook is to compute the following metrics:\n",
    "\n",
    "``ACCURACY_SCORE, BALANCED_ACCURACY_SCORE, SENSITIVITY, SPECIFICITY, AUC, BRIER SCORE, BINARY CROSS-ENTROPY``\n",
    "\n",
    "\n",
    "The\n",
    "hyperparameter combinations of individual XGBoost models were\n",
    "selected within each training loop using a ``fivefold cross-validated\n",
    "grid search`` on the training set (80%). This XGBoost ``tuning process``\n",
    "selected the ``maximum depth of the trees (5–8)``, the number of\n",
    "``estimators (200 or 300)``, and the ``learning rate (0.05, 0.1, 0.3)``\n",
    "according to the parameter value combination leading to the\n",
    "highest observed AUROC within the training loop \n",
    "\n",
    "\n",
    "As mentioned previously, all XGBoost models were trained ``five times with five different data splits`` to repeat the\n",
    "experiments and compute average metrics \n",
    "\n",
    "\n",
    "```Refer to page 8 of study``` : https://doi.org/10.1038/s41746-022-00689-4"
   ]
  },
  {
   "cell_type": "code",
   "execution_count": 5,
   "id": "726c2332",
   "metadata": {},
   "outputs": [
    {
     "name": "stderr",
     "output_type": "stream",
     "text": [
      "2024-09-26 10:03:33,478\tINFO worker.py:1777 -- Started a local Ray instance. View the dashboard at \u001b[1m\u001b[32mhttp://127.0.0.1:8265 \u001b[39m\u001b[22m\n"
     ]
    },
    {
     "name": "stdout",
     "output_type": "stream",
     "text": [
      "\u001b[36m(run_fold pid=396015)\u001b[0m Outer fold 1\n",
      "\u001b[36m(run_fold pid=396015)\u001b[0m Configuring PyCaret for outer fold 1\n",
      "\u001b[36m(run_fold pid=396009)\u001b[0m Outer fold 2\u001b[32m [repeated 3x across cluster] (Ray deduplicates logs by default. Set RAY_DEDUP_LOGS=0 to disable log deduplication, or see https://docs.ray.io/en/master/ray-observability/user-guides/configure-logging.html#log-deduplication for more options.)\u001b[0m\n"
     ]
    },
    {
     "name": "stderr",
     "output_type": "stream",
     "text": [
      "Processing:   0%|          | 0/4 [00:00<?, ?it/s]\n",
      "Processing:  25%|██▌       | 1/4 [00:00<00:01,  1.73it/s]\n",
      "Processing:   0%|          | 0/4 [00:00<?, ?it/s]\u001b[32m [repeated 3x across cluster]\u001b[0m\n",
      "Processing:  75%|███████▌  | 3/4 [00:27<00:10, 10.12s/it]\u001b[32m [repeated 4x across cluster]\u001b[0m\n",
      "                                                         \n",
      "Processing:  75%|███████▌  | 3/4 [00:28<00:10, 10.56s/it]\u001b[32m [repeated 3x across cluster]\u001b[0m\n"
     ]
    },
    {
     "name": "stdout",
     "output_type": "stream",
     "text": [
      "\u001b[36m(run_fold pid=396014)\u001b[0m       Accuracy     AUC  Recall   Prec.      F1   Kappa     MCC\n",
      "\u001b[36m(run_fold pid=396014)\u001b[0m Fold                                                          \n",
      "\u001b[36m(run_fold pid=396014)\u001b[0m 0       0.9748  0.9912     1.0  0.9744  0.9870  0.5609  0.6243\n",
      "\u001b[36m(run_fold pid=396014)\u001b[0m 1       0.9664  0.5982     1.0  0.9661  0.9828  0.3239  0.4396\n",
      "\u001b[36m(run_fold pid=396014)\u001b[0m 2       0.9664  0.8491     1.0  0.9661  0.9828  0.3239  0.4396\n",
      "\u001b[36m(run_fold pid=396014)\u001b[0m 3       0.9664  0.6754     1.0  0.9661  0.9828  0.3239  0.4396\n",
      "\u001b[36m(run_fold pid=396014)\u001b[0m 4       0.9664  0.8230     1.0  0.9658  0.9826  0.4871  0.5674\n",
      "\u001b[36m(run_fold pid=396014)\u001b[0m Mean    0.9681  0.7874     1.0  0.9677  0.9836  0.4039  0.5021\n",
      "\u001b[36m(run_fold pid=396014)\u001b[0m Std     0.0034  0.1378     0.0  0.0033  0.0017  0.1008  0.0786\n",
      "\u001b[36m(run_fold pid=396009)\u001b[0m Configuring PyCaret for outer fold 2\u001b[32m [repeated 3x across cluster]\u001b[0m\n",
      "\u001b[36m(run_fold pid=396014)\u001b[0m Tuning hyperparameters for model xgboost with custom grid using grid search\n",
      "\u001b[36m(run_fold pid=396015)\u001b[0m 0       0.9748  0.9140     1.0  0.9744  0.9870  0.5609  0.6243\n",
      "\u001b[36m(run_fold pid=396015)\u001b[0m 1       0.9580  0.8474     1.0  0.9580  0.9785  0.0000  0.0000\n",
      "\u001b[36m(run_fold pid=396015)\u001b[0m 2       0.9580  0.8614     1.0  0.9580  0.9785  0.0000  0.0000\n",
      "\u001b[36m(run_fold pid=396015)\u001b[0m 3       0.9580  0.7509     1.0  0.9580  0.9785  0.0000  0.0000\n",
      "\u001b[36m(run_fold pid=396015)\u001b[0m 4       0.9580  0.9248     1.0  0.9576  0.9784  0.2753  0.3995\n",
      "\u001b[36m(run_fold pid=396009)\u001b[0m 0       0.9664  0.8965     1.0  0.9661  0.9828  0.3239  0.4396\n",
      "\u001b[36m(run_fold pid=396009)\u001b[0m 1       0.9580  0.7368     1.0  0.9580  0.9785  0.0000  0.0000\n",
      "\u001b[36m(run_fold pid=396009)\u001b[0m 2       0.9664  0.7228     1.0  0.9661  0.9828  0.3239  0.4396\n",
      "\u001b[36m(run_fold pid=396009)\u001b[0m 3       0.9580  0.7789     1.0  0.9580  0.9785  0.0000  0.0000\n",
      "\u001b[36m(run_fold pid=396009)\u001b[0m 4       0.9664  0.8687     1.0  0.9658  0.9826  0.4871  0.5674\n",
      "\u001b[36m(run_fold pid=396012)\u001b[0m 0       0.9664  0.7509     1.0  0.9661  0.9828  0.3239  0.4396\n",
      "\u001b[36m(run_fold pid=396012)\u001b[0m 1       0.9748  0.6825     1.0  0.9744  0.9870  0.5609  0.6243\n",
      "\u001b[36m(run_fold pid=396012)\u001b[0m 2       0.9664  0.5632     1.0  0.9661  0.9828  0.3239  0.4396\n",
      "\u001b[36m(run_fold pid=396012)\u001b[0m 3       0.9580  0.7158     1.0  0.9580  0.9785  0.0000  0.0000\n",
      "\u001b[36m(run_fold pid=396012)\u001b[0m 4       0.9580  0.8274     1.0  0.9576  0.9784  0.2753  0.3995\n",
      "\u001b[36m(run_fold pid=396015)\u001b[0m Transformation Pipeline and Model Successfully Saved\n",
      "\u001b[36m(run_fold pid=396012)\u001b[0m       Accuracy     AUC  Recall   Prec.      F1   Kappa     MCC\u001b[32m [repeated 3x across cluster]\u001b[0m\n",
      "\u001b[36m(run_fold pid=396012)\u001b[0m Fold                                                          \u001b[32m [repeated 3x across cluster]\u001b[0m\n",
      "\u001b[36m(run_fold pid=396012)\u001b[0m Mean    0.9647  0.7079     1.0  0.9644  0.9819  0.2968  0.3806\u001b[32m [repeated 3x across cluster]\u001b[0m\n",
      "\u001b[36m(run_fold pid=396012)\u001b[0m Std     0.0063  0.0869     0.0  0.0062  0.0032  0.1788  0.2057\u001b[32m [repeated 3x across cluster]\u001b[0m\n",
      "\u001b[36m(run_fold pid=396012)\u001b[0m Tuning hyperparameters for model xgboost with custom grid using grid search\u001b[32m [repeated 3x across cluster]\u001b[0m\n",
      "\u001b[36m(run_fold pid=396015)\u001b[0m                        Model  Accuracy     AUC  ...      F1   Kappa     MCC\n",
      "\u001b[36m(run_fold pid=396015)\u001b[0m 0  Extreme Gradient Boosting    0.9677  0.7893  ...  0.9834  0.3895  0.4918\n",
      "\u001b[36m(run_fold pid=396015)\u001b[0m \n",
      "\u001b[36m(run_fold pid=396015)\u001b[0m [1 rows x 8 columns]\n",
      "\u001b[36m(run_fold pid=396015)\u001b[0m Outer fold 5\n",
      "\u001b[36m(run_fold pid=396015)\u001b[0m Configuring PyCaret for outer fold 5\n"
     ]
    },
    {
     "name": "stderr",
     "output_type": "stream",
     "text": [
      "Processing:   0%|          | 0/4 [00:00<?, ?it/s]\n",
      "                                                         \u001b[32m [repeated 3x across cluster]\u001b[0m\n",
      "Processing:  25%|██▌       | 1/4 [00:00<00:02,  1.47it/s]\n"
     ]
    },
    {
     "name": "stdout",
     "output_type": "stream",
     "text": [
      "\u001b[36m(run_fold pid=396014)\u001b[0m Transformation Pipeline and Model Successfully Saved\n",
      "\u001b[36m(run_fold pid=396014)\u001b[0m                        Model  Accuracy     AUC  ...     F1  Kappa  MCC\n",
      "\u001b[36m(run_fold pid=396014)\u001b[0m 0  Extreme Gradient Boosting     0.957  0.7781  ...  0.978    0.0  0.0\n",
      "\u001b[36m(run_fold pid=396014)\u001b[0m \n",
      "\u001b[36m(run_fold pid=396014)\u001b[0m [1 rows x 8 columns]\n",
      "\u001b[36m(run_fold pid=396009)\u001b[0m Transformation Pipeline and Model Successfully Saved\n",
      "\u001b[36m(run_fold pid=396009)\u001b[0m                        Model  Accuracy     AUC  ...      F1   Kappa     MCC\n",
      "\u001b[36m(run_fold pid=396009)\u001b[0m 0  Extreme Gradient Boosting    0.9677  0.9256  ...  0.9834  0.3895  0.4918\n",
      "\u001b[36m(run_fold pid=396009)\u001b[0m \n",
      "\u001b[36m(run_fold pid=396009)\u001b[0m [1 rows x 8 columns]\n"
     ]
    },
    {
     "name": "stderr",
     "output_type": "stream",
     "text": [
      "Processing:  75%|███████▌  | 3/4 [00:26<00:09,  9.83s/it]\n"
     ]
    },
    {
     "name": "stdout",
     "output_type": "stream",
     "text": [
      "\u001b[36m(run_fold pid=396015)\u001b[0m       Accuracy     AUC  Recall   Prec.      F1   Kappa     MCC\n",
      "\u001b[36m(run_fold pid=396015)\u001b[0m Fold                                                          \n",
      "\u001b[36m(run_fold pid=396015)\u001b[0m 0       0.9664  0.8263     1.0  0.9661  0.9828  0.3239  0.4396\n",
      "\u001b[36m(run_fold pid=396015)\u001b[0m 1       0.9664  0.7684     1.0  0.9661  0.9828  0.3239  0.4396\n",
      "\u001b[36m(run_fold pid=396015)\u001b[0m 2       0.9664  0.8368     1.0  0.9661  0.9828  0.3239  0.4396\n",
      "\u001b[36m(run_fold pid=396015)\u001b[0m 3       0.9580  0.9070     1.0  0.9580  0.9785  0.0000  0.0000\n",
      "\u001b[36m(run_fold pid=396015)\u001b[0m 4       0.9580  0.9307     1.0  0.9576  0.9784  0.2753  0.3995\n",
      "\u001b[36m(run_fold pid=396015)\u001b[0m Mean    0.9630  0.8539     1.0  0.9628  0.9810  0.2494  0.3436\n",
      "\u001b[36m(run_fold pid=396015)\u001b[0m Std     0.0041  0.0584     0.0  0.0041  0.0021  0.1261  0.1725\n",
      "\u001b[36m(run_fold pid=396015)\u001b[0m Tuning hyperparameters for model xgboost with custom grid using grid search\n"
     ]
    },
    {
     "name": "stderr",
     "output_type": "stream",
     "text": [
      "                                                         \n"
     ]
    },
    {
     "name": "stdout",
     "output_type": "stream",
     "text": [
      "\u001b[36m(run_fold pid=396012)\u001b[0m Transformation Pipeline and Model Successfully Saved\n",
      "\u001b[36m(run_fold pid=396012)\u001b[0m                        Model  Accuracy     AUC  ...      F1   Kappa     MCC\n",
      "\u001b[36m(run_fold pid=396012)\u001b[0m 0  Extreme Gradient Boosting    0.9624  0.8729  ...  0.9807  0.2147  0.3468\n",
      "\u001b[36m(run_fold pid=396012)\u001b[0m \n",
      "\u001b[36m(run_fold pid=396012)\u001b[0m [1 rows x 8 columns]\n",
      "\u001b[36m(run_fold pid=396015)\u001b[0m Transformation Pipeline and Model Successfully Saved\n",
      "\u001b[36m(run_fold pid=396015)\u001b[0m                        Model  Accuracy     AUC  ...      F1   Kappa     MCC\n",
      "\u001b[36m(run_fold pid=396015)\u001b[0m 0  Extreme Gradient Boosting    0.9624  0.7866  ...  0.9806  0.3522  0.4624\n",
      "\u001b[36m(run_fold pid=396015)\u001b[0m \n",
      "\u001b[36m(run_fold pid=396015)\u001b[0m [1 rows x 8 columns]\n",
      "Final metrics table:\n",
      "     Metric     Mean   Std Dev\n",
      "0  Accuracy  0.96976  0.004601\n",
      "1       AUC  0.88772  0.069591\n",
      "2    Recall  1.00000  0.000000\n",
      "3     Prec.  0.96942  0.004546\n",
      "4        F1  0.98448  0.002300\n",
      "5     Kappa  0.41870  0.129810\n",
      "6       MCC  0.51348  0.101164\n"
     ]
    }
   ],
   "source": [
    "# Initialize the PyCaret Evaluator\n",
    "evaluator = PyCaretEvaluator(dataset=dataset, target=\"LungLesion\", experiment_name=\"CP_LungLesion\", filepath=\"./results/lunglesion\")\n",
    "\n",
    "# Model training and results evaluation\n",
    "evaluator.run_experiment(\n",
    "    train_size=0.8,\n",
    "    fold=5,\n",
    "    fold_strategy='stratifiedkfold',\n",
    "    outer_fold=5,\n",
    "    outer_strategy='stratifiedkfold',\n",
    "    session_id=42,\n",
    "    model='xgboost',\n",
    "    optimize='AUC',\n",
    "    custom_grid=grid_hps\n",
    ")"
   ]
  }
 ],
 "metadata": {
  "kernelspec": {
   "display_name": "Python (pycaret_env)",
   "language": "python",
   "name": "pycaret_env"
  },
  "language_info": {
   "codemirror_mode": {
    "name": "ipython",
    "version": 3
   },
   "file_extension": ".py",
   "mimetype": "text/x-python",
   "name": "python",
   "nbconvert_exporter": "python",
   "pygments_lexer": "ipython3",
   "version": "3.11.9"
  }
 },
 "nbformat": 4,
 "nbformat_minor": 5
}
