{
 "cells": [
  {
   "cell_type": "markdown",
   "id": "c4139f23",
   "metadata": {},
   "source": [
    "# Pathology prediction (lung lesion)\n",
    "\n",
    "\n",
    "@References : Soenksen, L.R., Ma, Y., Zeng, C. et al. Integrated multimodal artificial intelligence framework for healthcare applications. npj Digit. Med. 5, 149 (2022). https://doi.org/10.1038/s41746-022-00689-4\n",
    "\n",
    "In this notebook, the task is to predict the lung lesion pathology using the CSV embeddings file"
   ]
  },
  {
   "cell_type": "markdown",
   "id": "8e9e247e",
   "metadata": {},
   "source": [
    "## Introduction\n"
   ]
  },
  {
   "attachments": {},
   "cell_type": "markdown",
   "id": "321d5924",
   "metadata": {},
   "source": [
    "Radiology notes were processed to determine if each of the pathologies was explicitly confirmed as present (value = 1), explicitly confirmed as absent (value = 0), inconclusive in the study (value = −1), or not explored (no value).\n",
    "\n",
    "Selected samples : 0 or 1 values (removing the rest from the training and testing data).\n",
    "\n",
    "Excluded variables : the unstructured radiology notes component (E_rad ) from the allowable input to avoid potential overfitting or misrepresentations of real predictive value.\n",
    "\n",
    "The model is based on binary classification for each target chest pathology.\n",
    "\n",
    "Final sample size for the Lung Lesion pathology is : (N = 930)\n"
   ]
  },
  {
   "cell_type": "markdown",
   "id": "59600fd4",
   "metadata": {},
   "source": [
    "#### Imports"
   ]
  },
  {
   "cell_type": "code",
   "execution_count": 1,
   "id": "2d0990d5",
   "metadata": {},
   "outputs": [],
   "source": [
    "import os\n",
    "os.chdir('../')\n",
    "\n",
    "from pandas import read_csv\n",
    "\n",
    "from src.data import constants\n",
    "from src.data.dataset import HAIMDataset\n",
    "from src.evaluation.pycaret_evaluator import PyCaretEvaluator\n",
    "from src.utils.metric_scores import *"
   ]
  },
  {
   "cell_type": "markdown",
   "id": "645a1fe8",
   "metadata": {},
   "source": [
    "#### Read data from local source\n",
    "\n"
   ]
  },
  {
   "cell_type": "code",
   "execution_count": 2,
   "id": "a948c18c",
   "metadata": {},
   "outputs": [],
   "source": [
    "df = read_csv(constants.FILE_DF, nrows=constants.N_DATA)"
   ]
  },
  {
   "cell_type": "markdown",
   "id": "90a95053",
   "metadata": {},
   "source": [
    "#### Create a custom dataset for the HAIM experiment\n"
   ]
  },
  {
   "cell_type": "markdown",
   "id": "a47ba159",
   "metadata": {},
   "source": [
    "Build the target column for the task at hand, set the dataset specificities:  the ``haim_id`` as a ``global_id``, use all sources except ``radiology notes`` "
   ]
  },
  {
   "cell_type": "code",
   "execution_count": 3,
   "id": "239db8a3",
   "metadata": {},
   "outputs": [],
   "source": [
    "dataset = HAIMDataset(df,  \n",
    "                      constants.CHEST_PREDICTORS, \n",
    "                      constants.ALL_MODALITIES, \n",
    "                      constants.LUNG_LESION, \n",
    "                      constants.IMG_ID, \n",
    "                      constants.GLOBAL_ID)"
   ]
  },
  {
   "cell_type": "markdown",
   "id": "e280f91d",
   "metadata": {},
   "source": [
    "#### Set hyper-parameters"
   ]
  },
  {
   "cell_type": "code",
   "execution_count": 4,
   "id": "8d254fef",
   "metadata": {},
   "outputs": [],
   "source": [
    "# Define the grid oh hyper-parameters for the tuning\n",
    "grid_hps = {'max_depth': [5, 6, 7, 8],\n",
    "            'n_estimators': [200, 300],\n",
    "            'learning_rate': [0.3, 0.1, 0.05],\n",
    "            }"
   ]
  },
  {
   "cell_type": "markdown",
   "id": "75fd10ab",
   "metadata": {},
   "source": [
    "### Model training and predictions using an XGBClassifier model with GridSearchCV and Hyperparameters optimization\n"
   ]
  },
  {
   "cell_type": "markdown",
   "id": "d04a4c63",
   "metadata": {},
   "source": [
    "The goal of this section of the notebook is to compute the following metrics:\n",
    "\n",
    "``ACCURACY_SCORE, BALANCED_ACCURACY_SCORE, SENSITIVITY, SPECIFICITY, AUC, BRIER SCORE, BINARY CROSS-ENTROPY``\n",
    "\n",
    "\n",
    "The\n",
    "hyperparameter combinations of individual XGBoost models were\n",
    "selected within each training loop using a ``fivefold cross-validated\n",
    "grid search`` on the training set (80%). This XGBoost ``tuning process``\n",
    "selected the ``maximum depth of the trees (5–8)``, the number of\n",
    "``estimators (200 or 300)``, and the ``learning rate (0.05, 0.1, 0.3)``\n",
    "according to the parameter value combination leading to the\n",
    "highest observed AUROC within the training loop \n",
    "\n",
    "\n",
    "As mentioned previously, all XGBoost models were trained ``five times with five different data splits`` to repeat the\n",
    "experiments and compute average metrics \n",
    "\n",
    "\n",
    "```Refer to page 8 of study``` : https://doi.org/10.1038/s41746-022-00689-4"
   ]
  },
  {
   "cell_type": "code",
   "execution_count": 5,
   "id": "726c2332",
   "metadata": {},
   "outputs": [
    {
     "name": "stdout",
     "output_type": "stream",
     "text": [
      "Outer fold 1/5\n",
      "Configuring PyCaret for outer fold 1\n"
     ]
    },
    {
     "data": {
      "text/html": [],
      "text/plain": [
       "<IPython.core.display.HTML object>"
      ]
     },
     "metadata": {},
     "output_type": "display_data"
    },
    {
     "data": {
      "text/html": [
       "<style type=\"text/css\">\n",
       "#T_2cdc1_row5_col0, #T_2cdc1_row5_col1, #T_2cdc1_row5_col2, #T_2cdc1_row5_col3, #T_2cdc1_row5_col4, #T_2cdc1_row5_col5, #T_2cdc1_row5_col6 {\n",
       "  background: yellow;\n",
       "}\n",
       "</style>\n",
       "<table id=\"T_2cdc1\">\n",
       "  <thead>\n",
       "    <tr>\n",
       "      <th class=\"blank level0\" >&nbsp;</th>\n",
       "      <th id=\"T_2cdc1_level0_col0\" class=\"col_heading level0 col0\" >Accuracy</th>\n",
       "      <th id=\"T_2cdc1_level0_col1\" class=\"col_heading level0 col1\" >AUC</th>\n",
       "      <th id=\"T_2cdc1_level0_col2\" class=\"col_heading level0 col2\" >Recall</th>\n",
       "      <th id=\"T_2cdc1_level0_col3\" class=\"col_heading level0 col3\" >Prec.</th>\n",
       "      <th id=\"T_2cdc1_level0_col4\" class=\"col_heading level0 col4\" >F1</th>\n",
       "      <th id=\"T_2cdc1_level0_col5\" class=\"col_heading level0 col5\" >Kappa</th>\n",
       "      <th id=\"T_2cdc1_level0_col6\" class=\"col_heading level0 col6\" >MCC</th>\n",
       "    </tr>\n",
       "    <tr>\n",
       "      <th class=\"index_name level0\" >Fold</th>\n",
       "      <th class=\"blank col0\" >&nbsp;</th>\n",
       "      <th class=\"blank col1\" >&nbsp;</th>\n",
       "      <th class=\"blank col2\" >&nbsp;</th>\n",
       "      <th class=\"blank col3\" >&nbsp;</th>\n",
       "      <th class=\"blank col4\" >&nbsp;</th>\n",
       "      <th class=\"blank col5\" >&nbsp;</th>\n",
       "      <th class=\"blank col6\" >&nbsp;</th>\n",
       "    </tr>\n",
       "  </thead>\n",
       "  <tbody>\n",
       "    <tr>\n",
       "      <th id=\"T_2cdc1_level0_row0\" class=\"row_heading level0 row0\" >0</th>\n",
       "      <td id=\"T_2cdc1_row0_col0\" class=\"data row0 col0\" >0.9748</td>\n",
       "      <td id=\"T_2cdc1_row0_col1\" class=\"data row0 col1\" >0.9439</td>\n",
       "      <td id=\"T_2cdc1_row0_col2\" class=\"data row0 col2\" >1.0000</td>\n",
       "      <td id=\"T_2cdc1_row0_col3\" class=\"data row0 col3\" >0.9744</td>\n",
       "      <td id=\"T_2cdc1_row0_col4\" class=\"data row0 col4\" >0.9870</td>\n",
       "      <td id=\"T_2cdc1_row0_col5\" class=\"data row0 col5\" >0.5609</td>\n",
       "      <td id=\"T_2cdc1_row0_col6\" class=\"data row0 col6\" >0.6243</td>\n",
       "    </tr>\n",
       "    <tr>\n",
       "      <th id=\"T_2cdc1_level0_row1\" class=\"row_heading level0 row1\" >1</th>\n",
       "      <td id=\"T_2cdc1_row1_col0\" class=\"data row1 col0\" >0.9580</td>\n",
       "      <td id=\"T_2cdc1_row1_col1\" class=\"data row1 col1\" >0.8526</td>\n",
       "      <td id=\"T_2cdc1_row1_col2\" class=\"data row1 col2\" >1.0000</td>\n",
       "      <td id=\"T_2cdc1_row1_col3\" class=\"data row1 col3\" >0.9580</td>\n",
       "      <td id=\"T_2cdc1_row1_col4\" class=\"data row1 col4\" >0.9785</td>\n",
       "      <td id=\"T_2cdc1_row1_col5\" class=\"data row1 col5\" >0.0000</td>\n",
       "      <td id=\"T_2cdc1_row1_col6\" class=\"data row1 col6\" >0.0000</td>\n",
       "    </tr>\n",
       "    <tr>\n",
       "      <th id=\"T_2cdc1_level0_row2\" class=\"row_heading level0 row2\" >2</th>\n",
       "      <td id=\"T_2cdc1_row2_col0\" class=\"data row2 col0\" >0.9664</td>\n",
       "      <td id=\"T_2cdc1_row2_col1\" class=\"data row2 col1\" >0.8316</td>\n",
       "      <td id=\"T_2cdc1_row2_col2\" class=\"data row2 col2\" >1.0000</td>\n",
       "      <td id=\"T_2cdc1_row2_col3\" class=\"data row2 col3\" >0.9661</td>\n",
       "      <td id=\"T_2cdc1_row2_col4\" class=\"data row2 col4\" >0.9828</td>\n",
       "      <td id=\"T_2cdc1_row2_col5\" class=\"data row2 col5\" >0.3239</td>\n",
       "      <td id=\"T_2cdc1_row2_col6\" class=\"data row2 col6\" >0.4396</td>\n",
       "    </tr>\n",
       "    <tr>\n",
       "      <th id=\"T_2cdc1_level0_row3\" class=\"row_heading level0 row3\" >3</th>\n",
       "      <td id=\"T_2cdc1_row3_col0\" class=\"data row3 col0\" >0.9580</td>\n",
       "      <td id=\"T_2cdc1_row3_col1\" class=\"data row3 col1\" >0.8211</td>\n",
       "      <td id=\"T_2cdc1_row3_col2\" class=\"data row3 col2\" >1.0000</td>\n",
       "      <td id=\"T_2cdc1_row3_col3\" class=\"data row3 col3\" >0.9580</td>\n",
       "      <td id=\"T_2cdc1_row3_col4\" class=\"data row3 col4\" >0.9785</td>\n",
       "      <td id=\"T_2cdc1_row3_col5\" class=\"data row3 col5\" >0.0000</td>\n",
       "      <td id=\"T_2cdc1_row3_col6\" class=\"data row3 col6\" >0.0000</td>\n",
       "    </tr>\n",
       "    <tr>\n",
       "      <th id=\"T_2cdc1_level0_row4\" class=\"row_heading level0 row4\" >4</th>\n",
       "      <td id=\"T_2cdc1_row4_col0\" class=\"data row4 col0\" >0.9496</td>\n",
       "      <td id=\"T_2cdc1_row4_col1\" class=\"data row4 col1\" >0.9543</td>\n",
       "      <td id=\"T_2cdc1_row4_col2\" class=\"data row4 col2\" >0.9912</td>\n",
       "      <td id=\"T_2cdc1_row4_col3\" class=\"data row4 col3\" >0.9573</td>\n",
       "      <td id=\"T_2cdc1_row4_col4\" class=\"data row4 col4\" >0.9739</td>\n",
       "      <td id=\"T_2cdc1_row4_col5\" class=\"data row4 col5\" >0.2306</td>\n",
       "      <td id=\"T_2cdc1_row4_col6\" class=\"data row4 col6\" >0.2686</td>\n",
       "    </tr>\n",
       "    <tr>\n",
       "      <th id=\"T_2cdc1_level0_row5\" class=\"row_heading level0 row5\" >Mean</th>\n",
       "      <td id=\"T_2cdc1_row5_col0\" class=\"data row5 col0\" >0.9613</td>\n",
       "      <td id=\"T_2cdc1_row5_col1\" class=\"data row5 col1\" >0.8807</td>\n",
       "      <td id=\"T_2cdc1_row5_col2\" class=\"data row5 col2\" >0.9982</td>\n",
       "      <td id=\"T_2cdc1_row5_col3\" class=\"data row5 col3\" >0.9627</td>\n",
       "      <td id=\"T_2cdc1_row5_col4\" class=\"data row5 col4\" >0.9802</td>\n",
       "      <td id=\"T_2cdc1_row5_col5\" class=\"data row5 col5\" >0.2231</td>\n",
       "      <td id=\"T_2cdc1_row5_col6\" class=\"data row5 col6\" >0.2665</td>\n",
       "    </tr>\n",
       "    <tr>\n",
       "      <th id=\"T_2cdc1_level0_row6\" class=\"row_heading level0 row6\" >Std</th>\n",
       "      <td id=\"T_2cdc1_row6_col0\" class=\"data row6 col0\" >0.0086</td>\n",
       "      <td id=\"T_2cdc1_row6_col1\" class=\"data row6 col1\" >0.0569</td>\n",
       "      <td id=\"T_2cdc1_row6_col2\" class=\"data row6 col2\" >0.0035</td>\n",
       "      <td id=\"T_2cdc1_row6_col3\" class=\"data row6 col3\" >0.0067</td>\n",
       "      <td id=\"T_2cdc1_row6_col4\" class=\"data row6 col4\" >0.0044</td>\n",
       "      <td id=\"T_2cdc1_row6_col5\" class=\"data row6 col5\" >0.2116</td>\n",
       "      <td id=\"T_2cdc1_row6_col6\" class=\"data row6 col6\" >0.2450</td>\n",
       "    </tr>\n",
       "  </tbody>\n",
       "</table>\n"
      ],
      "text/plain": [
       "<pandas.io.formats.style.Styler at 0x1ad1f6a4970>"
      ]
     },
     "metadata": {},
     "output_type": "display_data"
    },
    {
     "data": {
      "text/html": [],
      "text/plain": [
       "<IPython.core.display.HTML object>"
      ]
     },
     "metadata": {},
     "output_type": "display_data"
    },
    {
     "name": "stdout",
     "output_type": "stream",
     "text": [
      "Tuning hyperparameters for model xgboost with custom grid\n"
     ]
    },
    {
     "data": {
      "text/html": [],
      "text/plain": [
       "<IPython.core.display.HTML object>"
      ]
     },
     "metadata": {},
     "output_type": "display_data"
    },
    {
     "data": {
      "text/html": [
       "<style type=\"text/css\">\n",
       "#T_34a82_row5_col0, #T_34a82_row5_col1, #T_34a82_row5_col2, #T_34a82_row5_col3, #T_34a82_row5_col4, #T_34a82_row5_col5, #T_34a82_row5_col6 {\n",
       "  background: yellow;\n",
       "}\n",
       "</style>\n",
       "<table id=\"T_34a82\">\n",
       "  <thead>\n",
       "    <tr>\n",
       "      <th class=\"blank level0\" >&nbsp;</th>\n",
       "      <th id=\"T_34a82_level0_col0\" class=\"col_heading level0 col0\" >Accuracy</th>\n",
       "      <th id=\"T_34a82_level0_col1\" class=\"col_heading level0 col1\" >AUC</th>\n",
       "      <th id=\"T_34a82_level0_col2\" class=\"col_heading level0 col2\" >Recall</th>\n",
       "      <th id=\"T_34a82_level0_col3\" class=\"col_heading level0 col3\" >Prec.</th>\n",
       "      <th id=\"T_34a82_level0_col4\" class=\"col_heading level0 col4\" >F1</th>\n",
       "      <th id=\"T_34a82_level0_col5\" class=\"col_heading level0 col5\" >Kappa</th>\n",
       "      <th id=\"T_34a82_level0_col6\" class=\"col_heading level0 col6\" >MCC</th>\n",
       "    </tr>\n",
       "    <tr>\n",
       "      <th class=\"index_name level0\" >Fold</th>\n",
       "      <th class=\"blank col0\" >&nbsp;</th>\n",
       "      <th class=\"blank col1\" >&nbsp;</th>\n",
       "      <th class=\"blank col2\" >&nbsp;</th>\n",
       "      <th class=\"blank col3\" >&nbsp;</th>\n",
       "      <th class=\"blank col4\" >&nbsp;</th>\n",
       "      <th class=\"blank col5\" >&nbsp;</th>\n",
       "      <th class=\"blank col6\" >&nbsp;</th>\n",
       "    </tr>\n",
       "  </thead>\n",
       "  <tbody>\n",
       "    <tr>\n",
       "      <th id=\"T_34a82_level0_row0\" class=\"row_heading level0 row0\" >0</th>\n",
       "      <td id=\"T_34a82_row0_col0\" class=\"data row0 col0\" >0.9748</td>\n",
       "      <td id=\"T_34a82_row0_col1\" class=\"data row0 col1\" >0.9404</td>\n",
       "      <td id=\"T_34a82_row0_col2\" class=\"data row0 col2\" >1.0000</td>\n",
       "      <td id=\"T_34a82_row0_col3\" class=\"data row0 col3\" >0.9744</td>\n",
       "      <td id=\"T_34a82_row0_col4\" class=\"data row0 col4\" >0.9870</td>\n",
       "      <td id=\"T_34a82_row0_col5\" class=\"data row0 col5\" >0.5609</td>\n",
       "      <td id=\"T_34a82_row0_col6\" class=\"data row0 col6\" >0.6243</td>\n",
       "    </tr>\n",
       "    <tr>\n",
       "      <th id=\"T_34a82_level0_row1\" class=\"row_heading level0 row1\" >1</th>\n",
       "      <td id=\"T_34a82_row1_col0\" class=\"data row1 col0\" >0.9580</td>\n",
       "      <td id=\"T_34a82_row1_col1\" class=\"data row1 col1\" >0.8316</td>\n",
       "      <td id=\"T_34a82_row1_col2\" class=\"data row1 col2\" >1.0000</td>\n",
       "      <td id=\"T_34a82_row1_col3\" class=\"data row1 col3\" >0.9580</td>\n",
       "      <td id=\"T_34a82_row1_col4\" class=\"data row1 col4\" >0.9785</td>\n",
       "      <td id=\"T_34a82_row1_col5\" class=\"data row1 col5\" >0.0000</td>\n",
       "      <td id=\"T_34a82_row1_col6\" class=\"data row1 col6\" >0.0000</td>\n",
       "    </tr>\n",
       "    <tr>\n",
       "      <th id=\"T_34a82_level0_row2\" class=\"row_heading level0 row2\" >2</th>\n",
       "      <td id=\"T_34a82_row2_col0\" class=\"data row2 col0\" >0.9664</td>\n",
       "      <td id=\"T_34a82_row2_col1\" class=\"data row2 col1\" >0.8193</td>\n",
       "      <td id=\"T_34a82_row2_col2\" class=\"data row2 col2\" >1.0000</td>\n",
       "      <td id=\"T_34a82_row2_col3\" class=\"data row2 col3\" >0.9661</td>\n",
       "      <td id=\"T_34a82_row2_col4\" class=\"data row2 col4\" >0.9828</td>\n",
       "      <td id=\"T_34a82_row2_col5\" class=\"data row2 col5\" >0.3239</td>\n",
       "      <td id=\"T_34a82_row2_col6\" class=\"data row2 col6\" >0.4396</td>\n",
       "    </tr>\n",
       "    <tr>\n",
       "      <th id=\"T_34a82_level0_row3\" class=\"row_heading level0 row3\" >3</th>\n",
       "      <td id=\"T_34a82_row3_col0\" class=\"data row3 col0\" >0.9580</td>\n",
       "      <td id=\"T_34a82_row3_col1\" class=\"data row3 col1\" >0.7737</td>\n",
       "      <td id=\"T_34a82_row3_col2\" class=\"data row3 col2\" >1.0000</td>\n",
       "      <td id=\"T_34a82_row3_col3\" class=\"data row3 col3\" >0.9580</td>\n",
       "      <td id=\"T_34a82_row3_col4\" class=\"data row3 col4\" >0.9785</td>\n",
       "      <td id=\"T_34a82_row3_col5\" class=\"data row3 col5\" >0.0000</td>\n",
       "      <td id=\"T_34a82_row3_col6\" class=\"data row3 col6\" >0.0000</td>\n",
       "    </tr>\n",
       "    <tr>\n",
       "      <th id=\"T_34a82_level0_row4\" class=\"row_heading level0 row4\" >4</th>\n",
       "      <td id=\"T_34a82_row4_col0\" class=\"data row4 col0\" >0.9664</td>\n",
       "      <td id=\"T_34a82_row4_col1\" class=\"data row4 col1\" >0.9617</td>\n",
       "      <td id=\"T_34a82_row4_col2\" class=\"data row4 col2\" >1.0000</td>\n",
       "      <td id=\"T_34a82_row4_col3\" class=\"data row4 col3\" >0.9658</td>\n",
       "      <td id=\"T_34a82_row4_col4\" class=\"data row4 col4\" >0.9826</td>\n",
       "      <td id=\"T_34a82_row4_col5\" class=\"data row4 col5\" >0.4871</td>\n",
       "      <td id=\"T_34a82_row4_col6\" class=\"data row4 col6\" >0.5674</td>\n",
       "    </tr>\n",
       "    <tr>\n",
       "      <th id=\"T_34a82_level0_row5\" class=\"row_heading level0 row5\" >Mean</th>\n",
       "      <td id=\"T_34a82_row5_col0\" class=\"data row5 col0\" >0.9647</td>\n",
       "      <td id=\"T_34a82_row5_col1\" class=\"data row5 col1\" >0.8653</td>\n",
       "      <td id=\"T_34a82_row5_col2\" class=\"data row5 col2\" >1.0000</td>\n",
       "      <td id=\"T_34a82_row5_col3\" class=\"data row5 col3\" >0.9644</td>\n",
       "      <td id=\"T_34a82_row5_col4\" class=\"data row5 col4\" >0.9819</td>\n",
       "      <td id=\"T_34a82_row5_col5\" class=\"data row5 col5\" >0.2744</td>\n",
       "      <td id=\"T_34a82_row5_col6\" class=\"data row5 col6\" >0.3263</td>\n",
       "    </tr>\n",
       "    <tr>\n",
       "      <th id=\"T_34a82_level0_row6\" class=\"row_heading level0 row6\" >Std</th>\n",
       "      <td id=\"T_34a82_row6_col0\" class=\"data row6 col0\" >0.0063</td>\n",
       "      <td id=\"T_34a82_row6_col1\" class=\"data row6 col1\" >0.0729</td>\n",
       "      <td id=\"T_34a82_row6_col2\" class=\"data row6 col2\" >0.0000</td>\n",
       "      <td id=\"T_34a82_row6_col3\" class=\"data row6 col3\" >0.0061</td>\n",
       "      <td id=\"T_34a82_row6_col4\" class=\"data row6 col4\" >0.0032</td>\n",
       "      <td id=\"T_34a82_row6_col5\" class=\"data row6 col5\" >0.2368</td>\n",
       "      <td id=\"T_34a82_row6_col6\" class=\"data row6 col6\" >0.2730</td>\n",
       "    </tr>\n",
       "  </tbody>\n",
       "</table>\n"
      ],
      "text/plain": [
       "<pandas.io.formats.style.Styler at 0x1ad1f6a3be0>"
      ]
     },
     "metadata": {},
     "output_type": "display_data"
    },
    {
     "data": {
      "text/html": [],
      "text/plain": [
       "<IPython.core.display.HTML object>"
      ]
     },
     "metadata": {},
     "output_type": "display_data"
    },
    {
     "name": "stdout",
     "output_type": "stream",
     "text": [
      "Fitting 5 folds for each of 24 candidates, totalling 120 fits\n",
      "Transformation Pipeline and Model Successfully Saved\n"
     ]
    },
    {
     "data": {
      "text/html": [
       "<style type=\"text/css\">\n",
       "</style>\n",
       "<table id=\"T_4b94c\">\n",
       "  <thead>\n",
       "    <tr>\n",
       "      <th class=\"blank level0\" >&nbsp;</th>\n",
       "      <th id=\"T_4b94c_level0_col0\" class=\"col_heading level0 col0\" >Model</th>\n",
       "      <th id=\"T_4b94c_level0_col1\" class=\"col_heading level0 col1\" >Accuracy</th>\n",
       "      <th id=\"T_4b94c_level0_col2\" class=\"col_heading level0 col2\" >AUC</th>\n",
       "      <th id=\"T_4b94c_level0_col3\" class=\"col_heading level0 col3\" >Recall</th>\n",
       "      <th id=\"T_4b94c_level0_col4\" class=\"col_heading level0 col4\" >Prec.</th>\n",
       "      <th id=\"T_4b94c_level0_col5\" class=\"col_heading level0 col5\" >F1</th>\n",
       "      <th id=\"T_4b94c_level0_col6\" class=\"col_heading level0 col6\" >Kappa</th>\n",
       "      <th id=\"T_4b94c_level0_col7\" class=\"col_heading level0 col7\" >MCC</th>\n",
       "    </tr>\n",
       "  </thead>\n",
       "  <tbody>\n",
       "    <tr>\n",
       "      <th id=\"T_4b94c_level0_row0\" class=\"row_heading level0 row0\" >0</th>\n",
       "      <td id=\"T_4b94c_row0_col0\" class=\"data row0 col0\" >Extreme Gradient Boosting</td>\n",
       "      <td id=\"T_4b94c_row0_col1\" class=\"data row0 col1\" >0.9677</td>\n",
       "      <td id=\"T_4b94c_row0_col2\" class=\"data row0 col2\" >0.8279</td>\n",
       "      <td id=\"T_4b94c_row0_col3\" class=\"data row0 col3\" >1.0000</td>\n",
       "      <td id=\"T_4b94c_row0_col4\" class=\"data row0 col4\" >0.9674</td>\n",
       "      <td id=\"T_4b94c_row0_col5\" class=\"data row0 col5\" >0.9834</td>\n",
       "      <td id=\"T_4b94c_row0_col6\" class=\"data row0 col6\" >0.3895</td>\n",
       "      <td id=\"T_4b94c_row0_col7\" class=\"data row0 col7\" >0.4918</td>\n",
       "    </tr>\n",
       "  </tbody>\n",
       "</table>\n"
      ],
      "text/plain": [
       "<pandas.io.formats.style.Styler at 0x1ad1221dfc0>"
      ]
     },
     "metadata": {},
     "output_type": "display_data"
    },
    {
     "name": "stdout",
     "output_type": "stream",
     "text": [
      "Outer fold 2/5\n",
      "Configuring PyCaret for outer fold 2\n"
     ]
    },
    {
     "data": {
      "text/html": [],
      "text/plain": [
       "<IPython.core.display.HTML object>"
      ]
     },
     "metadata": {},
     "output_type": "display_data"
    },
    {
     "data": {
      "text/html": [
       "<style type=\"text/css\">\n",
       "#T_8b930_row5_col0, #T_8b930_row5_col1, #T_8b930_row5_col2, #T_8b930_row5_col3, #T_8b930_row5_col4, #T_8b930_row5_col5, #T_8b930_row5_col6 {\n",
       "  background: yellow;\n",
       "}\n",
       "</style>\n",
       "<table id=\"T_8b930\">\n",
       "  <thead>\n",
       "    <tr>\n",
       "      <th class=\"blank level0\" >&nbsp;</th>\n",
       "      <th id=\"T_8b930_level0_col0\" class=\"col_heading level0 col0\" >Accuracy</th>\n",
       "      <th id=\"T_8b930_level0_col1\" class=\"col_heading level0 col1\" >AUC</th>\n",
       "      <th id=\"T_8b930_level0_col2\" class=\"col_heading level0 col2\" >Recall</th>\n",
       "      <th id=\"T_8b930_level0_col3\" class=\"col_heading level0 col3\" >Prec.</th>\n",
       "      <th id=\"T_8b930_level0_col4\" class=\"col_heading level0 col4\" >F1</th>\n",
       "      <th id=\"T_8b930_level0_col5\" class=\"col_heading level0 col5\" >Kappa</th>\n",
       "      <th id=\"T_8b930_level0_col6\" class=\"col_heading level0 col6\" >MCC</th>\n",
       "    </tr>\n",
       "    <tr>\n",
       "      <th class=\"index_name level0\" >Fold</th>\n",
       "      <th class=\"blank col0\" >&nbsp;</th>\n",
       "      <th class=\"blank col1\" >&nbsp;</th>\n",
       "      <th class=\"blank col2\" >&nbsp;</th>\n",
       "      <th class=\"blank col3\" >&nbsp;</th>\n",
       "      <th class=\"blank col4\" >&nbsp;</th>\n",
       "      <th class=\"blank col5\" >&nbsp;</th>\n",
       "      <th class=\"blank col6\" >&nbsp;</th>\n",
       "    </tr>\n",
       "  </thead>\n",
       "  <tbody>\n",
       "    <tr>\n",
       "      <th id=\"T_8b930_level0_row0\" class=\"row_heading level0 row0\" >0</th>\n",
       "      <td id=\"T_8b930_row0_col0\" class=\"data row0 col0\" >0.9664</td>\n",
       "      <td id=\"T_8b930_row0_col1\" class=\"data row0 col1\" >0.9123</td>\n",
       "      <td id=\"T_8b930_row0_col2\" class=\"data row0 col2\" >1.0000</td>\n",
       "      <td id=\"T_8b930_row0_col3\" class=\"data row0 col3\" >0.9661</td>\n",
       "      <td id=\"T_8b930_row0_col4\" class=\"data row0 col4\" >0.9828</td>\n",
       "      <td id=\"T_8b930_row0_col5\" class=\"data row0 col5\" >0.3239</td>\n",
       "      <td id=\"T_8b930_row0_col6\" class=\"data row0 col6\" >0.4396</td>\n",
       "    </tr>\n",
       "    <tr>\n",
       "      <th id=\"T_8b930_level0_row1\" class=\"row_heading level0 row1\" >1</th>\n",
       "      <td id=\"T_8b930_row1_col0\" class=\"data row1 col0\" >0.9664</td>\n",
       "      <td id=\"T_8b930_row1_col1\" class=\"data row1 col1\" >0.7895</td>\n",
       "      <td id=\"T_8b930_row1_col2\" class=\"data row1 col2\" >1.0000</td>\n",
       "      <td id=\"T_8b930_row1_col3\" class=\"data row1 col3\" >0.9661</td>\n",
       "      <td id=\"T_8b930_row1_col4\" class=\"data row1 col4\" >0.9828</td>\n",
       "      <td id=\"T_8b930_row1_col5\" class=\"data row1 col5\" >0.3239</td>\n",
       "      <td id=\"T_8b930_row1_col6\" class=\"data row1 col6\" >0.4396</td>\n",
       "    </tr>\n",
       "    <tr>\n",
       "      <th id=\"T_8b930_level0_row2\" class=\"row_heading level0 row2\" >2</th>\n",
       "      <td id=\"T_8b930_row2_col0\" class=\"data row2 col0\" >0.9664</td>\n",
       "      <td id=\"T_8b930_row2_col1\" class=\"data row2 col1\" >0.8105</td>\n",
       "      <td id=\"T_8b930_row2_col2\" class=\"data row2 col2\" >1.0000</td>\n",
       "      <td id=\"T_8b930_row2_col3\" class=\"data row2 col3\" >0.9661</td>\n",
       "      <td id=\"T_8b930_row2_col4\" class=\"data row2 col4\" >0.9828</td>\n",
       "      <td id=\"T_8b930_row2_col5\" class=\"data row2 col5\" >0.3239</td>\n",
       "      <td id=\"T_8b930_row2_col6\" class=\"data row2 col6\" >0.4396</td>\n",
       "    </tr>\n",
       "    <tr>\n",
       "      <th id=\"T_8b930_level0_row3\" class=\"row_heading level0 row3\" >3</th>\n",
       "      <td id=\"T_8b930_row3_col0\" class=\"data row3 col0\" >0.9580</td>\n",
       "      <td id=\"T_8b930_row3_col1\" class=\"data row3 col1\" >0.6596</td>\n",
       "      <td id=\"T_8b930_row3_col2\" class=\"data row3 col2\" >1.0000</td>\n",
       "      <td id=\"T_8b930_row3_col3\" class=\"data row3 col3\" >0.9580</td>\n",
       "      <td id=\"T_8b930_row3_col4\" class=\"data row3 col4\" >0.9785</td>\n",
       "      <td id=\"T_8b930_row3_col5\" class=\"data row3 col5\" >0.0000</td>\n",
       "      <td id=\"T_8b930_row3_col6\" class=\"data row3 col6\" >0.0000</td>\n",
       "    </tr>\n",
       "    <tr>\n",
       "      <th id=\"T_8b930_level0_row4\" class=\"row_heading level0 row4\" >4</th>\n",
       "      <td id=\"T_8b930_row4_col0\" class=\"data row4 col0\" >0.9664</td>\n",
       "      <td id=\"T_8b930_row4_col1\" class=\"data row4 col1\" >0.8894</td>\n",
       "      <td id=\"T_8b930_row4_col2\" class=\"data row4 col2\" >1.0000</td>\n",
       "      <td id=\"T_8b930_row4_col3\" class=\"data row4 col3\" >0.9658</td>\n",
       "      <td id=\"T_8b930_row4_col4\" class=\"data row4 col4\" >0.9826</td>\n",
       "      <td id=\"T_8b930_row4_col5\" class=\"data row4 col5\" >0.4871</td>\n",
       "      <td id=\"T_8b930_row4_col6\" class=\"data row4 col6\" >0.5674</td>\n",
       "    </tr>\n",
       "    <tr>\n",
       "      <th id=\"T_8b930_level0_row5\" class=\"row_heading level0 row5\" >Mean</th>\n",
       "      <td id=\"T_8b930_row5_col0\" class=\"data row5 col0\" >0.9647</td>\n",
       "      <td id=\"T_8b930_row5_col1\" class=\"data row5 col1\" >0.8123</td>\n",
       "      <td id=\"T_8b930_row5_col2\" class=\"data row5 col2\" >1.0000</td>\n",
       "      <td id=\"T_8b930_row5_col3\" class=\"data row5 col3\" >0.9644</td>\n",
       "      <td id=\"T_8b930_row5_col4\" class=\"data row5 col4\" >0.9819</td>\n",
       "      <td id=\"T_8b930_row5_col5\" class=\"data row5 col5\" >0.2917</td>\n",
       "      <td id=\"T_8b930_row5_col6\" class=\"data row5 col6\" >0.3772</td>\n",
       "    </tr>\n",
       "    <tr>\n",
       "      <th id=\"T_8b930_level0_row6\" class=\"row_heading level0 row6\" >Std</th>\n",
       "      <td id=\"T_8b930_row6_col0\" class=\"data row6 col0\" >0.0034</td>\n",
       "      <td id=\"T_8b930_row6_col1\" class=\"data row6 col1\" >0.0892</td>\n",
       "      <td id=\"T_8b930_row6_col2\" class=\"data row6 col2\" >0.0000</td>\n",
       "      <td id=\"T_8b930_row6_col3\" class=\"data row6 col3\" >0.0032</td>\n",
       "      <td id=\"T_8b930_row6_col4\" class=\"data row6 col4\" >0.0017</td>\n",
       "      <td id=\"T_8b930_row6_col5\" class=\"data row6 col5\" >0.1590</td>\n",
       "      <td id=\"T_8b930_row6_col6\" class=\"data row6 col6\" >0.1950</td>\n",
       "    </tr>\n",
       "  </tbody>\n",
       "</table>\n"
      ],
      "text/plain": [
       "<pandas.io.formats.style.Styler at 0x1ad209c43d0>"
      ]
     },
     "metadata": {},
     "output_type": "display_data"
    },
    {
     "data": {
      "text/html": [],
      "text/plain": [
       "<IPython.core.display.HTML object>"
      ]
     },
     "metadata": {},
     "output_type": "display_data"
    },
    {
     "name": "stdout",
     "output_type": "stream",
     "text": [
      "Tuning hyperparameters for model xgboost with custom grid\n"
     ]
    },
    {
     "data": {
      "text/html": [],
      "text/plain": [
       "<IPython.core.display.HTML object>"
      ]
     },
     "metadata": {},
     "output_type": "display_data"
    },
    {
     "data": {
      "text/html": [
       "<style type=\"text/css\">\n",
       "#T_a9bfd_row5_col0, #T_a9bfd_row5_col1, #T_a9bfd_row5_col2, #T_a9bfd_row5_col3, #T_a9bfd_row5_col4, #T_a9bfd_row5_col5, #T_a9bfd_row5_col6 {\n",
       "  background: yellow;\n",
       "}\n",
       "</style>\n",
       "<table id=\"T_a9bfd\">\n",
       "  <thead>\n",
       "    <tr>\n",
       "      <th class=\"blank level0\" >&nbsp;</th>\n",
       "      <th id=\"T_a9bfd_level0_col0\" class=\"col_heading level0 col0\" >Accuracy</th>\n",
       "      <th id=\"T_a9bfd_level0_col1\" class=\"col_heading level0 col1\" >AUC</th>\n",
       "      <th id=\"T_a9bfd_level0_col2\" class=\"col_heading level0 col2\" >Recall</th>\n",
       "      <th id=\"T_a9bfd_level0_col3\" class=\"col_heading level0 col3\" >Prec.</th>\n",
       "      <th id=\"T_a9bfd_level0_col4\" class=\"col_heading level0 col4\" >F1</th>\n",
       "      <th id=\"T_a9bfd_level0_col5\" class=\"col_heading level0 col5\" >Kappa</th>\n",
       "      <th id=\"T_a9bfd_level0_col6\" class=\"col_heading level0 col6\" >MCC</th>\n",
       "    </tr>\n",
       "    <tr>\n",
       "      <th class=\"index_name level0\" >Fold</th>\n",
       "      <th class=\"blank col0\" >&nbsp;</th>\n",
       "      <th class=\"blank col1\" >&nbsp;</th>\n",
       "      <th class=\"blank col2\" >&nbsp;</th>\n",
       "      <th class=\"blank col3\" >&nbsp;</th>\n",
       "      <th class=\"blank col4\" >&nbsp;</th>\n",
       "      <th class=\"blank col5\" >&nbsp;</th>\n",
       "      <th class=\"blank col6\" >&nbsp;</th>\n",
       "    </tr>\n",
       "  </thead>\n",
       "  <tbody>\n",
       "    <tr>\n",
       "      <th id=\"T_a9bfd_level0_row0\" class=\"row_heading level0 row0\" >0</th>\n",
       "      <td id=\"T_a9bfd_row0_col0\" class=\"data row0 col0\" >0.9664</td>\n",
       "      <td id=\"T_a9bfd_row0_col1\" class=\"data row0 col1\" >0.9088</td>\n",
       "      <td id=\"T_a9bfd_row0_col2\" class=\"data row0 col2\" >1.0000</td>\n",
       "      <td id=\"T_a9bfd_row0_col3\" class=\"data row0 col3\" >0.9661</td>\n",
       "      <td id=\"T_a9bfd_row0_col4\" class=\"data row0 col4\" >0.9828</td>\n",
       "      <td id=\"T_a9bfd_row0_col5\" class=\"data row0 col5\" >0.3239</td>\n",
       "      <td id=\"T_a9bfd_row0_col6\" class=\"data row0 col6\" >0.4396</td>\n",
       "    </tr>\n",
       "    <tr>\n",
       "      <th id=\"T_a9bfd_level0_row1\" class=\"row_heading level0 row1\" >1</th>\n",
       "      <td id=\"T_a9bfd_row1_col0\" class=\"data row1 col0\" >0.9748</td>\n",
       "      <td id=\"T_a9bfd_row1_col1\" class=\"data row1 col1\" >0.7702</td>\n",
       "      <td id=\"T_a9bfd_row1_col2\" class=\"data row1 col2\" >1.0000</td>\n",
       "      <td id=\"T_a9bfd_row1_col3\" class=\"data row1 col3\" >0.9744</td>\n",
       "      <td id=\"T_a9bfd_row1_col4\" class=\"data row1 col4\" >0.9870</td>\n",
       "      <td id=\"T_a9bfd_row1_col5\" class=\"data row1 col5\" >0.5609</td>\n",
       "      <td id=\"T_a9bfd_row1_col6\" class=\"data row1 col6\" >0.6243</td>\n",
       "    </tr>\n",
       "    <tr>\n",
       "      <th id=\"T_a9bfd_level0_row2\" class=\"row_heading level0 row2\" >2</th>\n",
       "      <td id=\"T_a9bfd_row2_col0\" class=\"data row2 col0\" >0.9664</td>\n",
       "      <td id=\"T_a9bfd_row2_col1\" class=\"data row2 col1\" >0.7825</td>\n",
       "      <td id=\"T_a9bfd_row2_col2\" class=\"data row2 col2\" >1.0000</td>\n",
       "      <td id=\"T_a9bfd_row2_col3\" class=\"data row2 col3\" >0.9661</td>\n",
       "      <td id=\"T_a9bfd_row2_col4\" class=\"data row2 col4\" >0.9828</td>\n",
       "      <td id=\"T_a9bfd_row2_col5\" class=\"data row2 col5\" >0.3239</td>\n",
       "      <td id=\"T_a9bfd_row2_col6\" class=\"data row2 col6\" >0.4396</td>\n",
       "    </tr>\n",
       "    <tr>\n",
       "      <th id=\"T_a9bfd_level0_row3\" class=\"row_heading level0 row3\" >3</th>\n",
       "      <td id=\"T_a9bfd_row3_col0\" class=\"data row3 col0\" >0.9580</td>\n",
       "      <td id=\"T_a9bfd_row3_col1\" class=\"data row3 col1\" >0.7333</td>\n",
       "      <td id=\"T_a9bfd_row3_col2\" class=\"data row3 col2\" >1.0000</td>\n",
       "      <td id=\"T_a9bfd_row3_col3\" class=\"data row3 col3\" >0.9580</td>\n",
       "      <td id=\"T_a9bfd_row3_col4\" class=\"data row3 col4\" >0.9785</td>\n",
       "      <td id=\"T_a9bfd_row3_col5\" class=\"data row3 col5\" >0.0000</td>\n",
       "      <td id=\"T_a9bfd_row3_col6\" class=\"data row3 col6\" >0.0000</td>\n",
       "    </tr>\n",
       "    <tr>\n",
       "      <th id=\"T_a9bfd_level0_row4\" class=\"row_heading level0 row4\" >4</th>\n",
       "      <td id=\"T_a9bfd_row4_col0\" class=\"data row4 col0\" >0.9664</td>\n",
       "      <td id=\"T_a9bfd_row4_col1\" class=\"data row4 col1\" >0.9086</td>\n",
       "      <td id=\"T_a9bfd_row4_col2\" class=\"data row4 col2\" >1.0000</td>\n",
       "      <td id=\"T_a9bfd_row4_col3\" class=\"data row4 col3\" >0.9658</td>\n",
       "      <td id=\"T_a9bfd_row4_col4\" class=\"data row4 col4\" >0.9826</td>\n",
       "      <td id=\"T_a9bfd_row4_col5\" class=\"data row4 col5\" >0.4871</td>\n",
       "      <td id=\"T_a9bfd_row4_col6\" class=\"data row4 col6\" >0.5674</td>\n",
       "    </tr>\n",
       "    <tr>\n",
       "      <th id=\"T_a9bfd_level0_row5\" class=\"row_heading level0 row5\" >Mean</th>\n",
       "      <td id=\"T_a9bfd_row5_col0\" class=\"data row5 col0\" >0.9664</td>\n",
       "      <td id=\"T_a9bfd_row5_col1\" class=\"data row5 col1\" >0.8207</td>\n",
       "      <td id=\"T_a9bfd_row5_col2\" class=\"data row5 col2\" >1.0000</td>\n",
       "      <td id=\"T_a9bfd_row5_col3\" class=\"data row5 col3\" >0.9661</td>\n",
       "      <td id=\"T_a9bfd_row5_col4\" class=\"data row5 col4\" >0.9827</td>\n",
       "      <td id=\"T_a9bfd_row5_col5\" class=\"data row5 col5\" >0.3391</td>\n",
       "      <td id=\"T_a9bfd_row5_col6\" class=\"data row5 col6\" >0.4142</td>\n",
       "    </tr>\n",
       "    <tr>\n",
       "      <th id=\"T_a9bfd_level0_row6\" class=\"row_heading level0 row6\" >Std</th>\n",
       "      <td id=\"T_a9bfd_row6_col0\" class=\"data row6 col0\" >0.0053</td>\n",
       "      <td id=\"T_a9bfd_row6_col1\" class=\"data row6 col1\" >0.0737</td>\n",
       "      <td id=\"T_a9bfd_row6_col2\" class=\"data row6 col2\" >0.0000</td>\n",
       "      <td id=\"T_a9bfd_row6_col3\" class=\"data row6 col3\" >0.0052</td>\n",
       "      <td id=\"T_a9bfd_row6_col4\" class=\"data row6 col4\" >0.0027</td>\n",
       "      <td id=\"T_a9bfd_row6_col5\" class=\"data row6 col5\" >0.1932</td>\n",
       "      <td id=\"T_a9bfd_row6_col6\" class=\"data row6 col6\" >0.2193</td>\n",
       "    </tr>\n",
       "  </tbody>\n",
       "</table>\n"
      ],
      "text/plain": [
       "<pandas.io.formats.style.Styler at 0x1ad209b6260>"
      ]
     },
     "metadata": {},
     "output_type": "display_data"
    },
    {
     "data": {
      "text/html": [],
      "text/plain": [
       "<IPython.core.display.HTML object>"
      ]
     },
     "metadata": {},
     "output_type": "display_data"
    },
    {
     "name": "stdout",
     "output_type": "stream",
     "text": [
      "Fitting 5 folds for each of 24 candidates, totalling 120 fits\n",
      "Transformation Pipeline and Model Successfully Saved\n"
     ]
    },
    {
     "data": {
      "text/html": [
       "<style type=\"text/css\">\n",
       "</style>\n",
       "<table id=\"T_2569c\">\n",
       "  <thead>\n",
       "    <tr>\n",
       "      <th class=\"blank level0\" >&nbsp;</th>\n",
       "      <th id=\"T_2569c_level0_col0\" class=\"col_heading level0 col0\" >Model</th>\n",
       "      <th id=\"T_2569c_level0_col1\" class=\"col_heading level0 col1\" >Accuracy</th>\n",
       "      <th id=\"T_2569c_level0_col2\" class=\"col_heading level0 col2\" >AUC</th>\n",
       "      <th id=\"T_2569c_level0_col3\" class=\"col_heading level0 col3\" >Recall</th>\n",
       "      <th id=\"T_2569c_level0_col4\" class=\"col_heading level0 col4\" >Prec.</th>\n",
       "      <th id=\"T_2569c_level0_col5\" class=\"col_heading level0 col5\" >F1</th>\n",
       "      <th id=\"T_2569c_level0_col6\" class=\"col_heading level0 col6\" >Kappa</th>\n",
       "      <th id=\"T_2569c_level0_col7\" class=\"col_heading level0 col7\" >MCC</th>\n",
       "    </tr>\n",
       "  </thead>\n",
       "  <tbody>\n",
       "    <tr>\n",
       "      <th id=\"T_2569c_level0_row0\" class=\"row_heading level0 row0\" >0</th>\n",
       "      <td id=\"T_2569c_row0_col0\" class=\"data row0 col0\" >Extreme Gradient Boosting</td>\n",
       "      <td id=\"T_2569c_row0_col1\" class=\"data row0 col1\" >0.9677</td>\n",
       "      <td id=\"T_2569c_row0_col2\" class=\"data row0 col2\" >0.9263</td>\n",
       "      <td id=\"T_2569c_row0_col3\" class=\"data row0 col3\" >1.0000</td>\n",
       "      <td id=\"T_2569c_row0_col4\" class=\"data row0 col4\" >0.9674</td>\n",
       "      <td id=\"T_2569c_row0_col5\" class=\"data row0 col5\" >0.9834</td>\n",
       "      <td id=\"T_2569c_row0_col6\" class=\"data row0 col6\" >0.3895</td>\n",
       "      <td id=\"T_2569c_row0_col7\" class=\"data row0 col7\" >0.4918</td>\n",
       "    </tr>\n",
       "  </tbody>\n",
       "</table>\n"
      ],
      "text/plain": [
       "<pandas.io.formats.style.Styler at 0x1ad8a723ac0>"
      ]
     },
     "metadata": {},
     "output_type": "display_data"
    },
    {
     "name": "stdout",
     "output_type": "stream",
     "text": [
      "Outer fold 3/5\n",
      "Configuring PyCaret for outer fold 3\n"
     ]
    },
    {
     "data": {
      "text/html": [],
      "text/plain": [
       "<IPython.core.display.HTML object>"
      ]
     },
     "metadata": {},
     "output_type": "display_data"
    },
    {
     "data": {
      "text/html": [
       "<style type=\"text/css\">\n",
       "#T_7a67c_row5_col0, #T_7a67c_row5_col1, #T_7a67c_row5_col2, #T_7a67c_row5_col3, #T_7a67c_row5_col4, #T_7a67c_row5_col5, #T_7a67c_row5_col6 {\n",
       "  background: yellow;\n",
       "}\n",
       "</style>\n",
       "<table id=\"T_7a67c\">\n",
       "  <thead>\n",
       "    <tr>\n",
       "      <th class=\"blank level0\" >&nbsp;</th>\n",
       "      <th id=\"T_7a67c_level0_col0\" class=\"col_heading level0 col0\" >Accuracy</th>\n",
       "      <th id=\"T_7a67c_level0_col1\" class=\"col_heading level0 col1\" >AUC</th>\n",
       "      <th id=\"T_7a67c_level0_col2\" class=\"col_heading level0 col2\" >Recall</th>\n",
       "      <th id=\"T_7a67c_level0_col3\" class=\"col_heading level0 col3\" >Prec.</th>\n",
       "      <th id=\"T_7a67c_level0_col4\" class=\"col_heading level0 col4\" >F1</th>\n",
       "      <th id=\"T_7a67c_level0_col5\" class=\"col_heading level0 col5\" >Kappa</th>\n",
       "      <th id=\"T_7a67c_level0_col6\" class=\"col_heading level0 col6\" >MCC</th>\n",
       "    </tr>\n",
       "    <tr>\n",
       "      <th class=\"index_name level0\" >Fold</th>\n",
       "      <th class=\"blank col0\" >&nbsp;</th>\n",
       "      <th class=\"blank col1\" >&nbsp;</th>\n",
       "      <th class=\"blank col2\" >&nbsp;</th>\n",
       "      <th class=\"blank col3\" >&nbsp;</th>\n",
       "      <th class=\"blank col4\" >&nbsp;</th>\n",
       "      <th class=\"blank col5\" >&nbsp;</th>\n",
       "      <th class=\"blank col6\" >&nbsp;</th>\n",
       "    </tr>\n",
       "  </thead>\n",
       "  <tbody>\n",
       "    <tr>\n",
       "      <th id=\"T_7a67c_level0_row0\" class=\"row_heading level0 row0\" >0</th>\n",
       "      <td id=\"T_7a67c_row0_col0\" class=\"data row0 col0\" >0.9664</td>\n",
       "      <td id=\"T_7a67c_row0_col1\" class=\"data row0 col1\" >0.8474</td>\n",
       "      <td id=\"T_7a67c_row0_col2\" class=\"data row0 col2\" >1.0000</td>\n",
       "      <td id=\"T_7a67c_row0_col3\" class=\"data row0 col3\" >0.9661</td>\n",
       "      <td id=\"T_7a67c_row0_col4\" class=\"data row0 col4\" >0.9828</td>\n",
       "      <td id=\"T_7a67c_row0_col5\" class=\"data row0 col5\" >0.3239</td>\n",
       "      <td id=\"T_7a67c_row0_col6\" class=\"data row0 col6\" >0.4396</td>\n",
       "    </tr>\n",
       "    <tr>\n",
       "      <th id=\"T_7a67c_level0_row1\" class=\"row_heading level0 row1\" >1</th>\n",
       "      <td id=\"T_7a67c_row1_col0\" class=\"data row1 col0\" >0.9748</td>\n",
       "      <td id=\"T_7a67c_row1_col1\" class=\"data row1 col1\" >0.7544</td>\n",
       "      <td id=\"T_7a67c_row1_col2\" class=\"data row1 col2\" >1.0000</td>\n",
       "      <td id=\"T_7a67c_row1_col3\" class=\"data row1 col3\" >0.9744</td>\n",
       "      <td id=\"T_7a67c_row1_col4\" class=\"data row1 col4\" >0.9870</td>\n",
       "      <td id=\"T_7a67c_row1_col5\" class=\"data row1 col5\" >0.5609</td>\n",
       "      <td id=\"T_7a67c_row1_col6\" class=\"data row1 col6\" >0.6243</td>\n",
       "    </tr>\n",
       "    <tr>\n",
       "      <th id=\"T_7a67c_level0_row2\" class=\"row_heading level0 row2\" >2</th>\n",
       "      <td id=\"T_7a67c_row2_col0\" class=\"data row2 col0\" >0.9664</td>\n",
       "      <td id=\"T_7a67c_row2_col1\" class=\"data row2 col1\" >0.6000</td>\n",
       "      <td id=\"T_7a67c_row2_col2\" class=\"data row2 col2\" >1.0000</td>\n",
       "      <td id=\"T_7a67c_row2_col3\" class=\"data row2 col3\" >0.9661</td>\n",
       "      <td id=\"T_7a67c_row2_col4\" class=\"data row2 col4\" >0.9828</td>\n",
       "      <td id=\"T_7a67c_row2_col5\" class=\"data row2 col5\" >0.3239</td>\n",
       "      <td id=\"T_7a67c_row2_col6\" class=\"data row2 col6\" >0.4396</td>\n",
       "    </tr>\n",
       "    <tr>\n",
       "      <th id=\"T_7a67c_level0_row3\" class=\"row_heading level0 row3\" >3</th>\n",
       "      <td id=\"T_7a67c_row3_col0\" class=\"data row3 col0\" >0.9580</td>\n",
       "      <td id=\"T_7a67c_row3_col1\" class=\"data row3 col1\" >0.7684</td>\n",
       "      <td id=\"T_7a67c_row3_col2\" class=\"data row3 col2\" >1.0000</td>\n",
       "      <td id=\"T_7a67c_row3_col3\" class=\"data row3 col3\" >0.9580</td>\n",
       "      <td id=\"T_7a67c_row3_col4\" class=\"data row3 col4\" >0.9785</td>\n",
       "      <td id=\"T_7a67c_row3_col5\" class=\"data row3 col5\" >0.0000</td>\n",
       "      <td id=\"T_7a67c_row3_col6\" class=\"data row3 col6\" >0.0000</td>\n",
       "    </tr>\n",
       "    <tr>\n",
       "      <th id=\"T_7a67c_level0_row4\" class=\"row_heading level0 row4\" >4</th>\n",
       "      <td id=\"T_7a67c_row4_col0\" class=\"data row4 col0\" >0.9496</td>\n",
       "      <td id=\"T_7a67c_row4_col1\" class=\"data row4 col1\" >0.7965</td>\n",
       "      <td id=\"T_7a67c_row4_col2\" class=\"data row4 col2\" >1.0000</td>\n",
       "      <td id=\"T_7a67c_row4_col3\" class=\"data row4 col3\" >0.9496</td>\n",
       "      <td id=\"T_7a67c_row4_col4\" class=\"data row4 col4\" >0.9741</td>\n",
       "      <td id=\"T_7a67c_row4_col5\" class=\"data row4 col5\" >0.0000</td>\n",
       "      <td id=\"T_7a67c_row4_col6\" class=\"data row4 col6\" >0.0000</td>\n",
       "    </tr>\n",
       "    <tr>\n",
       "      <th id=\"T_7a67c_level0_row5\" class=\"row_heading level0 row5\" >Mean</th>\n",
       "      <td id=\"T_7a67c_row5_col0\" class=\"data row5 col0\" >0.9630</td>\n",
       "      <td id=\"T_7a67c_row5_col1\" class=\"data row5 col1\" >0.7533</td>\n",
       "      <td id=\"T_7a67c_row5_col2\" class=\"data row5 col2\" >1.0000</td>\n",
       "      <td id=\"T_7a67c_row5_col3\" class=\"data row5 col3\" >0.9628</td>\n",
       "      <td id=\"T_7a67c_row5_col4\" class=\"data row5 col4\" >0.9810</td>\n",
       "      <td id=\"T_7a67c_row5_col5\" class=\"data row5 col5\" >0.2417</td>\n",
       "      <td id=\"T_7a67c_row5_col6\" class=\"data row5 col6\" >0.3007</td>\n",
       "    </tr>\n",
       "    <tr>\n",
       "      <th id=\"T_7a67c_level0_row6\" class=\"row_heading level0 row6\" >Std</th>\n",
       "      <td id=\"T_7a67c_row6_col0\" class=\"data row6 col0\" >0.0086</td>\n",
       "      <td id=\"T_7a67c_row6_col1\" class=\"data row6 col1\" >0.0830</td>\n",
       "      <td id=\"T_7a67c_row6_col2\" class=\"data row6 col2\" >0.0000</td>\n",
       "      <td id=\"T_7a67c_row6_col3\" class=\"data row6 col3\" >0.0084</td>\n",
       "      <td id=\"T_7a67c_row6_col4\" class=\"data row6 col4\" >0.0044</td>\n",
       "      <td id=\"T_7a67c_row6_col5\" class=\"data row6 col5\" >0.2155</td>\n",
       "      <td id=\"T_7a67c_row6_col6\" class=\"data row6 col6\" >0.2546</td>\n",
       "    </tr>\n",
       "  </tbody>\n",
       "</table>\n"
      ],
      "text/plain": [
       "<pandas.io.formats.style.Styler at 0x1ad1f6fad10>"
      ]
     },
     "metadata": {},
     "output_type": "display_data"
    },
    {
     "data": {
      "text/html": [],
      "text/plain": [
       "<IPython.core.display.HTML object>"
      ]
     },
     "metadata": {},
     "output_type": "display_data"
    },
    {
     "name": "stdout",
     "output_type": "stream",
     "text": [
      "Tuning hyperparameters for model xgboost with custom grid\n"
     ]
    },
    {
     "data": {
      "text/html": [],
      "text/plain": [
       "<IPython.core.display.HTML object>"
      ]
     },
     "metadata": {},
     "output_type": "display_data"
    },
    {
     "data": {
      "text/html": [
       "<style type=\"text/css\">\n",
       "#T_2b81b_row5_col0, #T_2b81b_row5_col1, #T_2b81b_row5_col2, #T_2b81b_row5_col3, #T_2b81b_row5_col4, #T_2b81b_row5_col5, #T_2b81b_row5_col6 {\n",
       "  background: yellow;\n",
       "}\n",
       "</style>\n",
       "<table id=\"T_2b81b\">\n",
       "  <thead>\n",
       "    <tr>\n",
       "      <th class=\"blank level0\" >&nbsp;</th>\n",
       "      <th id=\"T_2b81b_level0_col0\" class=\"col_heading level0 col0\" >Accuracy</th>\n",
       "      <th id=\"T_2b81b_level0_col1\" class=\"col_heading level0 col1\" >AUC</th>\n",
       "      <th id=\"T_2b81b_level0_col2\" class=\"col_heading level0 col2\" >Recall</th>\n",
       "      <th id=\"T_2b81b_level0_col3\" class=\"col_heading level0 col3\" >Prec.</th>\n",
       "      <th id=\"T_2b81b_level0_col4\" class=\"col_heading level0 col4\" >F1</th>\n",
       "      <th id=\"T_2b81b_level0_col5\" class=\"col_heading level0 col5\" >Kappa</th>\n",
       "      <th id=\"T_2b81b_level0_col6\" class=\"col_heading level0 col6\" >MCC</th>\n",
       "    </tr>\n",
       "    <tr>\n",
       "      <th class=\"index_name level0\" >Fold</th>\n",
       "      <th class=\"blank col0\" >&nbsp;</th>\n",
       "      <th class=\"blank col1\" >&nbsp;</th>\n",
       "      <th class=\"blank col2\" >&nbsp;</th>\n",
       "      <th class=\"blank col3\" >&nbsp;</th>\n",
       "      <th class=\"blank col4\" >&nbsp;</th>\n",
       "      <th class=\"blank col5\" >&nbsp;</th>\n",
       "      <th class=\"blank col6\" >&nbsp;</th>\n",
       "    </tr>\n",
       "  </thead>\n",
       "  <tbody>\n",
       "    <tr>\n",
       "      <th id=\"T_2b81b_level0_row0\" class=\"row_heading level0 row0\" >0</th>\n",
       "      <td id=\"T_2b81b_row0_col0\" class=\"data row0 col0\" >0.9664</td>\n",
       "      <td id=\"T_2b81b_row0_col1\" class=\"data row0 col1\" >0.8193</td>\n",
       "      <td id=\"T_2b81b_row0_col2\" class=\"data row0 col2\" >1.0000</td>\n",
       "      <td id=\"T_2b81b_row0_col3\" class=\"data row0 col3\" >0.9661</td>\n",
       "      <td id=\"T_2b81b_row0_col4\" class=\"data row0 col4\" >0.9828</td>\n",
       "      <td id=\"T_2b81b_row0_col5\" class=\"data row0 col5\" >0.3239</td>\n",
       "      <td id=\"T_2b81b_row0_col6\" class=\"data row0 col6\" >0.4396</td>\n",
       "    </tr>\n",
       "    <tr>\n",
       "      <th id=\"T_2b81b_level0_row1\" class=\"row_heading level0 row1\" >1</th>\n",
       "      <td id=\"T_2b81b_row1_col0\" class=\"data row1 col0\" >0.9748</td>\n",
       "      <td id=\"T_2b81b_row1_col1\" class=\"data row1 col1\" >0.6000</td>\n",
       "      <td id=\"T_2b81b_row1_col2\" class=\"data row1 col2\" >1.0000</td>\n",
       "      <td id=\"T_2b81b_row1_col3\" class=\"data row1 col3\" >0.9744</td>\n",
       "      <td id=\"T_2b81b_row1_col4\" class=\"data row1 col4\" >0.9870</td>\n",
       "      <td id=\"T_2b81b_row1_col5\" class=\"data row1 col5\" >0.5609</td>\n",
       "      <td id=\"T_2b81b_row1_col6\" class=\"data row1 col6\" >0.6243</td>\n",
       "    </tr>\n",
       "    <tr>\n",
       "      <th id=\"T_2b81b_level0_row2\" class=\"row_heading level0 row2\" >2</th>\n",
       "      <td id=\"T_2b81b_row2_col0\" class=\"data row2 col0\" >0.9664</td>\n",
       "      <td id=\"T_2b81b_row2_col1\" class=\"data row2 col1\" >0.6702</td>\n",
       "      <td id=\"T_2b81b_row2_col2\" class=\"data row2 col2\" >1.0000</td>\n",
       "      <td id=\"T_2b81b_row2_col3\" class=\"data row2 col3\" >0.9661</td>\n",
       "      <td id=\"T_2b81b_row2_col4\" class=\"data row2 col4\" >0.9828</td>\n",
       "      <td id=\"T_2b81b_row2_col5\" class=\"data row2 col5\" >0.3239</td>\n",
       "      <td id=\"T_2b81b_row2_col6\" class=\"data row2 col6\" >0.4396</td>\n",
       "    </tr>\n",
       "    <tr>\n",
       "      <th id=\"T_2b81b_level0_row3\" class=\"row_heading level0 row3\" >3</th>\n",
       "      <td id=\"T_2b81b_row3_col0\" class=\"data row3 col0\" >0.9580</td>\n",
       "      <td id=\"T_2b81b_row3_col1\" class=\"data row3 col1\" >0.7754</td>\n",
       "      <td id=\"T_2b81b_row3_col2\" class=\"data row3 col2\" >1.0000</td>\n",
       "      <td id=\"T_2b81b_row3_col3\" class=\"data row3 col3\" >0.9580</td>\n",
       "      <td id=\"T_2b81b_row3_col4\" class=\"data row3 col4\" >0.9785</td>\n",
       "      <td id=\"T_2b81b_row3_col5\" class=\"data row3 col5\" >0.0000</td>\n",
       "      <td id=\"T_2b81b_row3_col6\" class=\"data row3 col6\" >0.0000</td>\n",
       "    </tr>\n",
       "    <tr>\n",
       "      <th id=\"T_2b81b_level0_row4\" class=\"row_heading level0 row4\" >4</th>\n",
       "      <td id=\"T_2b81b_row4_col0\" class=\"data row4 col0\" >0.9496</td>\n",
       "      <td id=\"T_2b81b_row4_col1\" class=\"data row4 col1\" >0.6858</td>\n",
       "      <td id=\"T_2b81b_row4_col2\" class=\"data row4 col2\" >1.0000</td>\n",
       "      <td id=\"T_2b81b_row4_col3\" class=\"data row4 col3\" >0.9496</td>\n",
       "      <td id=\"T_2b81b_row4_col4\" class=\"data row4 col4\" >0.9741</td>\n",
       "      <td id=\"T_2b81b_row4_col5\" class=\"data row4 col5\" >0.0000</td>\n",
       "      <td id=\"T_2b81b_row4_col6\" class=\"data row4 col6\" >0.0000</td>\n",
       "    </tr>\n",
       "    <tr>\n",
       "      <th id=\"T_2b81b_level0_row5\" class=\"row_heading level0 row5\" >Mean</th>\n",
       "      <td id=\"T_2b81b_row5_col0\" class=\"data row5 col0\" >0.9630</td>\n",
       "      <td id=\"T_2b81b_row5_col1\" class=\"data row5 col1\" >0.7102</td>\n",
       "      <td id=\"T_2b81b_row5_col2\" class=\"data row5 col2\" >1.0000</td>\n",
       "      <td id=\"T_2b81b_row5_col3\" class=\"data row5 col3\" >0.9628</td>\n",
       "      <td id=\"T_2b81b_row5_col4\" class=\"data row5 col4\" >0.9810</td>\n",
       "      <td id=\"T_2b81b_row5_col5\" class=\"data row5 col5\" >0.2417</td>\n",
       "      <td id=\"T_2b81b_row5_col6\" class=\"data row5 col6\" >0.3007</td>\n",
       "    </tr>\n",
       "    <tr>\n",
       "      <th id=\"T_2b81b_level0_row6\" class=\"row_heading level0 row6\" >Std</th>\n",
       "      <td id=\"T_2b81b_row6_col0\" class=\"data row6 col0\" >0.0086</td>\n",
       "      <td id=\"T_2b81b_row6_col1\" class=\"data row6 col1\" >0.0781</td>\n",
       "      <td id=\"T_2b81b_row6_col2\" class=\"data row6 col2\" >0.0000</td>\n",
       "      <td id=\"T_2b81b_row6_col3\" class=\"data row6 col3\" >0.0084</td>\n",
       "      <td id=\"T_2b81b_row6_col4\" class=\"data row6 col4\" >0.0044</td>\n",
       "      <td id=\"T_2b81b_row6_col5\" class=\"data row6 col5\" >0.2155</td>\n",
       "      <td id=\"T_2b81b_row6_col6\" class=\"data row6 col6\" >0.2546</td>\n",
       "    </tr>\n",
       "  </tbody>\n",
       "</table>\n"
      ],
      "text/plain": [
       "<pandas.io.formats.style.Styler at 0x1ad1f6b8250>"
      ]
     },
     "metadata": {},
     "output_type": "display_data"
    },
    {
     "data": {
      "text/html": [],
      "text/plain": [
       "<IPython.core.display.HTML object>"
      ]
     },
     "metadata": {},
     "output_type": "display_data"
    },
    {
     "name": "stdout",
     "output_type": "stream",
     "text": [
      "Fitting 5 folds for each of 24 candidates, totalling 120 fits\n",
      "Original model was better than the tuned model, hence it will be returned. NOTE: The display metrics are for the tuned model (not the original one).\n",
      "Transformation Pipeline and Model Successfully Saved\n"
     ]
    },
    {
     "data": {
      "text/html": [
       "<style type=\"text/css\">\n",
       "</style>\n",
       "<table id=\"T_8de39\">\n",
       "  <thead>\n",
       "    <tr>\n",
       "      <th class=\"blank level0\" >&nbsp;</th>\n",
       "      <th id=\"T_8de39_level0_col0\" class=\"col_heading level0 col0\" >Model</th>\n",
       "      <th id=\"T_8de39_level0_col1\" class=\"col_heading level0 col1\" >Accuracy</th>\n",
       "      <th id=\"T_8de39_level0_col2\" class=\"col_heading level0 col2\" >AUC</th>\n",
       "      <th id=\"T_8de39_level0_col3\" class=\"col_heading level0 col3\" >Recall</th>\n",
       "      <th id=\"T_8de39_level0_col4\" class=\"col_heading level0 col4\" >Prec.</th>\n",
       "      <th id=\"T_8de39_level0_col5\" class=\"col_heading level0 col5\" >F1</th>\n",
       "      <th id=\"T_8de39_level0_col6\" class=\"col_heading level0 col6\" >Kappa</th>\n",
       "      <th id=\"T_8de39_level0_col7\" class=\"col_heading level0 col7\" >MCC</th>\n",
       "    </tr>\n",
       "  </thead>\n",
       "  <tbody>\n",
       "    <tr>\n",
       "      <th id=\"T_8de39_level0_row0\" class=\"row_heading level0 row0\" >0</th>\n",
       "      <td id=\"T_8de39_row0_col0\" class=\"data row0 col0\" >Extreme Gradient Boosting</td>\n",
       "      <td id=\"T_8de39_row0_col1\" class=\"data row0 col1\" >0.9624</td>\n",
       "      <td id=\"T_8de39_row0_col2\" class=\"data row0 col2\" >0.8729</td>\n",
       "      <td id=\"T_8de39_row0_col3\" class=\"data row0 col3\" >1.0000</td>\n",
       "      <td id=\"T_8de39_row0_col4\" class=\"data row0 col4\" >0.9622</td>\n",
       "      <td id=\"T_8de39_row0_col5\" class=\"data row0 col5\" >0.9807</td>\n",
       "      <td id=\"T_8de39_row0_col6\" class=\"data row0 col6\" >0.2147</td>\n",
       "      <td id=\"T_8de39_row0_col7\" class=\"data row0 col7\" >0.3468</td>\n",
       "    </tr>\n",
       "  </tbody>\n",
       "</table>\n"
      ],
      "text/plain": [
       "<pandas.io.formats.style.Styler at 0x1ad2097e080>"
      ]
     },
     "metadata": {},
     "output_type": "display_data"
    },
    {
     "name": "stdout",
     "output_type": "stream",
     "text": [
      "Outer fold 4/5\n",
      "Configuring PyCaret for outer fold 4\n"
     ]
    },
    {
     "data": {
      "text/html": [],
      "text/plain": [
       "<IPython.core.display.HTML object>"
      ]
     },
     "metadata": {},
     "output_type": "display_data"
    },
    {
     "data": {
      "text/html": [
       "<style type=\"text/css\">\n",
       "#T_124bf_row5_col0, #T_124bf_row5_col1, #T_124bf_row5_col2, #T_124bf_row5_col3, #T_124bf_row5_col4, #T_124bf_row5_col5, #T_124bf_row5_col6 {\n",
       "  background: yellow;\n",
       "}\n",
       "</style>\n",
       "<table id=\"T_124bf\">\n",
       "  <thead>\n",
       "    <tr>\n",
       "      <th class=\"blank level0\" >&nbsp;</th>\n",
       "      <th id=\"T_124bf_level0_col0\" class=\"col_heading level0 col0\" >Accuracy</th>\n",
       "      <th id=\"T_124bf_level0_col1\" class=\"col_heading level0 col1\" >AUC</th>\n",
       "      <th id=\"T_124bf_level0_col2\" class=\"col_heading level0 col2\" >Recall</th>\n",
       "      <th id=\"T_124bf_level0_col3\" class=\"col_heading level0 col3\" >Prec.</th>\n",
       "      <th id=\"T_124bf_level0_col4\" class=\"col_heading level0 col4\" >F1</th>\n",
       "      <th id=\"T_124bf_level0_col5\" class=\"col_heading level0 col5\" >Kappa</th>\n",
       "      <th id=\"T_124bf_level0_col6\" class=\"col_heading level0 col6\" >MCC</th>\n",
       "    </tr>\n",
       "    <tr>\n",
       "      <th class=\"index_name level0\" >Fold</th>\n",
       "      <th class=\"blank col0\" >&nbsp;</th>\n",
       "      <th class=\"blank col1\" >&nbsp;</th>\n",
       "      <th class=\"blank col2\" >&nbsp;</th>\n",
       "      <th class=\"blank col3\" >&nbsp;</th>\n",
       "      <th class=\"blank col4\" >&nbsp;</th>\n",
       "      <th class=\"blank col5\" >&nbsp;</th>\n",
       "      <th class=\"blank col6\" >&nbsp;</th>\n",
       "    </tr>\n",
       "  </thead>\n",
       "  <tbody>\n",
       "    <tr>\n",
       "      <th id=\"T_124bf_level0_row0\" class=\"row_heading level0 row0\" >0</th>\n",
       "      <td id=\"T_124bf_row0_col0\" class=\"data row0 col0\" >0.9580</td>\n",
       "      <td id=\"T_124bf_row0_col1\" class=\"data row0 col1\" >0.9667</td>\n",
       "      <td id=\"T_124bf_row0_col2\" class=\"data row0 col2\" >1.0000</td>\n",
       "      <td id=\"T_124bf_row0_col3\" class=\"data row0 col3\" >0.9580</td>\n",
       "      <td id=\"T_124bf_row0_col4\" class=\"data row0 col4\" >0.9785</td>\n",
       "      <td id=\"T_124bf_row0_col5\" class=\"data row0 col5\" >0.0000</td>\n",
       "      <td id=\"T_124bf_row0_col6\" class=\"data row0 col6\" >0.0000</td>\n",
       "    </tr>\n",
       "    <tr>\n",
       "      <th id=\"T_124bf_level0_row1\" class=\"row_heading level0 row1\" >1</th>\n",
       "      <td id=\"T_124bf_row1_col0\" class=\"data row1 col0\" >0.9664</td>\n",
       "      <td id=\"T_124bf_row1_col1\" class=\"data row1 col1\" >0.6491</td>\n",
       "      <td id=\"T_124bf_row1_col2\" class=\"data row1 col2\" >1.0000</td>\n",
       "      <td id=\"T_124bf_row1_col3\" class=\"data row1 col3\" >0.9661</td>\n",
       "      <td id=\"T_124bf_row1_col4\" class=\"data row1 col4\" >0.9828</td>\n",
       "      <td id=\"T_124bf_row1_col5\" class=\"data row1 col5\" >0.3239</td>\n",
       "      <td id=\"T_124bf_row1_col6\" class=\"data row1 col6\" >0.4396</td>\n",
       "    </tr>\n",
       "    <tr>\n",
       "      <th id=\"T_124bf_level0_row2\" class=\"row_heading level0 row2\" >2</th>\n",
       "      <td id=\"T_124bf_row2_col0\" class=\"data row2 col0\" >0.9664</td>\n",
       "      <td id=\"T_124bf_row2_col1\" class=\"data row2 col1\" >0.6614</td>\n",
       "      <td id=\"T_124bf_row2_col2\" class=\"data row2 col2\" >1.0000</td>\n",
       "      <td id=\"T_124bf_row2_col3\" class=\"data row2 col3\" >0.9661</td>\n",
       "      <td id=\"T_124bf_row2_col4\" class=\"data row2 col4\" >0.9828</td>\n",
       "      <td id=\"T_124bf_row2_col5\" class=\"data row2 col5\" >0.3239</td>\n",
       "      <td id=\"T_124bf_row2_col6\" class=\"data row2 col6\" >0.4396</td>\n",
       "    </tr>\n",
       "    <tr>\n",
       "      <th id=\"T_124bf_level0_row3\" class=\"row_heading level0 row3\" >3</th>\n",
       "      <td id=\"T_124bf_row3_col0\" class=\"data row3 col0\" >0.9664</td>\n",
       "      <td id=\"T_124bf_row3_col1\" class=\"data row3 col1\" >0.6140</td>\n",
       "      <td id=\"T_124bf_row3_col2\" class=\"data row3 col2\" >1.0000</td>\n",
       "      <td id=\"T_124bf_row3_col3\" class=\"data row3 col3\" >0.9661</td>\n",
       "      <td id=\"T_124bf_row3_col4\" class=\"data row3 col4\" >0.9828</td>\n",
       "      <td id=\"T_124bf_row3_col5\" class=\"data row3 col5\" >0.3239</td>\n",
       "      <td id=\"T_124bf_row3_col6\" class=\"data row3 col6\" >0.4396</td>\n",
       "    </tr>\n",
       "    <tr>\n",
       "      <th id=\"T_124bf_level0_row4\" class=\"row_heading level0 row4\" >4</th>\n",
       "      <td id=\"T_124bf_row4_col0\" class=\"data row4 col0\" >0.9664</td>\n",
       "      <td id=\"T_124bf_row4_col1\" class=\"data row4 col1\" >0.8451</td>\n",
       "      <td id=\"T_124bf_row4_col2\" class=\"data row4 col2\" >1.0000</td>\n",
       "      <td id=\"T_124bf_row4_col3\" class=\"data row4 col3\" >0.9658</td>\n",
       "      <td id=\"T_124bf_row4_col4\" class=\"data row4 col4\" >0.9826</td>\n",
       "      <td id=\"T_124bf_row4_col5\" class=\"data row4 col5\" >0.4871</td>\n",
       "      <td id=\"T_124bf_row4_col6\" class=\"data row4 col6\" >0.5674</td>\n",
       "    </tr>\n",
       "    <tr>\n",
       "      <th id=\"T_124bf_level0_row5\" class=\"row_heading level0 row5\" >Mean</th>\n",
       "      <td id=\"T_124bf_row5_col0\" class=\"data row5 col0\" >0.9647</td>\n",
       "      <td id=\"T_124bf_row5_col1\" class=\"data row5 col1\" >0.7473</td>\n",
       "      <td id=\"T_124bf_row5_col2\" class=\"data row5 col2\" >1.0000</td>\n",
       "      <td id=\"T_124bf_row5_col3\" class=\"data row5 col3\" >0.9644</td>\n",
       "      <td id=\"T_124bf_row5_col4\" class=\"data row5 col4\" >0.9819</td>\n",
       "      <td id=\"T_124bf_row5_col5\" class=\"data row5 col5\" >0.2917</td>\n",
       "      <td id=\"T_124bf_row5_col6\" class=\"data row5 col6\" >0.3772</td>\n",
       "    </tr>\n",
       "    <tr>\n",
       "      <th id=\"T_124bf_level0_row6\" class=\"row_heading level0 row6\" >Std</th>\n",
       "      <td id=\"T_124bf_row6_col0\" class=\"data row6 col0\" >0.0034</td>\n",
       "      <td id=\"T_124bf_row6_col1\" class=\"data row6 col1\" >0.1360</td>\n",
       "      <td id=\"T_124bf_row6_col2\" class=\"data row6 col2\" >0.0000</td>\n",
       "      <td id=\"T_124bf_row6_col3\" class=\"data row6 col3\" >0.0032</td>\n",
       "      <td id=\"T_124bf_row6_col4\" class=\"data row6 col4\" >0.0017</td>\n",
       "      <td id=\"T_124bf_row6_col5\" class=\"data row6 col5\" >0.1590</td>\n",
       "      <td id=\"T_124bf_row6_col6\" class=\"data row6 col6\" >0.1950</td>\n",
       "    </tr>\n",
       "  </tbody>\n",
       "</table>\n"
      ],
      "text/plain": [
       "<pandas.io.formats.style.Styler at 0x1ad209c6800>"
      ]
     },
     "metadata": {},
     "output_type": "display_data"
    },
    {
     "data": {
      "text/html": [],
      "text/plain": [
       "<IPython.core.display.HTML object>"
      ]
     },
     "metadata": {},
     "output_type": "display_data"
    },
    {
     "name": "stdout",
     "output_type": "stream",
     "text": [
      "Tuning hyperparameters for model xgboost with custom grid\n"
     ]
    },
    {
     "data": {
      "text/html": [],
      "text/plain": [
       "<IPython.core.display.HTML object>"
      ]
     },
     "metadata": {},
     "output_type": "display_data"
    },
    {
     "data": {
      "text/html": [
       "<style type=\"text/css\">\n",
       "#T_55de2_row5_col0, #T_55de2_row5_col1, #T_55de2_row5_col2, #T_55de2_row5_col3, #T_55de2_row5_col4, #T_55de2_row5_col5, #T_55de2_row5_col6 {\n",
       "  background: yellow;\n",
       "}\n",
       "</style>\n",
       "<table id=\"T_55de2\">\n",
       "  <thead>\n",
       "    <tr>\n",
       "      <th class=\"blank level0\" >&nbsp;</th>\n",
       "      <th id=\"T_55de2_level0_col0\" class=\"col_heading level0 col0\" >Accuracy</th>\n",
       "      <th id=\"T_55de2_level0_col1\" class=\"col_heading level0 col1\" >AUC</th>\n",
       "      <th id=\"T_55de2_level0_col2\" class=\"col_heading level0 col2\" >Recall</th>\n",
       "      <th id=\"T_55de2_level0_col3\" class=\"col_heading level0 col3\" >Prec.</th>\n",
       "      <th id=\"T_55de2_level0_col4\" class=\"col_heading level0 col4\" >F1</th>\n",
       "      <th id=\"T_55de2_level0_col5\" class=\"col_heading level0 col5\" >Kappa</th>\n",
       "      <th id=\"T_55de2_level0_col6\" class=\"col_heading level0 col6\" >MCC</th>\n",
       "    </tr>\n",
       "    <tr>\n",
       "      <th class=\"index_name level0\" >Fold</th>\n",
       "      <th class=\"blank col0\" >&nbsp;</th>\n",
       "      <th class=\"blank col1\" >&nbsp;</th>\n",
       "      <th class=\"blank col2\" >&nbsp;</th>\n",
       "      <th class=\"blank col3\" >&nbsp;</th>\n",
       "      <th class=\"blank col4\" >&nbsp;</th>\n",
       "      <th class=\"blank col5\" >&nbsp;</th>\n",
       "      <th class=\"blank col6\" >&nbsp;</th>\n",
       "    </tr>\n",
       "  </thead>\n",
       "  <tbody>\n",
       "    <tr>\n",
       "      <th id=\"T_55de2_level0_row0\" class=\"row_heading level0 row0\" >0</th>\n",
       "      <td id=\"T_55de2_row0_col0\" class=\"data row0 col0\" >0.9580</td>\n",
       "      <td id=\"T_55de2_row0_col1\" class=\"data row0 col1\" >0.9544</td>\n",
       "      <td id=\"T_55de2_row0_col2\" class=\"data row0 col2\" >1.0000</td>\n",
       "      <td id=\"T_55de2_row0_col3\" class=\"data row0 col3\" >0.9580</td>\n",
       "      <td id=\"T_55de2_row0_col4\" class=\"data row0 col4\" >0.9785</td>\n",
       "      <td id=\"T_55de2_row0_col5\" class=\"data row0 col5\" >0.0000</td>\n",
       "      <td id=\"T_55de2_row0_col6\" class=\"data row0 col6\" >0.0000</td>\n",
       "    </tr>\n",
       "    <tr>\n",
       "      <th id=\"T_55de2_level0_row1\" class=\"row_heading level0 row1\" >1</th>\n",
       "      <td id=\"T_55de2_row1_col0\" class=\"data row1 col0\" >0.9748</td>\n",
       "      <td id=\"T_55de2_row1_col1\" class=\"data row1 col1\" >0.6877</td>\n",
       "      <td id=\"T_55de2_row1_col2\" class=\"data row1 col2\" >1.0000</td>\n",
       "      <td id=\"T_55de2_row1_col3\" class=\"data row1 col3\" >0.9744</td>\n",
       "      <td id=\"T_55de2_row1_col4\" class=\"data row1 col4\" >0.9870</td>\n",
       "      <td id=\"T_55de2_row1_col5\" class=\"data row1 col5\" >0.5609</td>\n",
       "      <td id=\"T_55de2_row1_col6\" class=\"data row1 col6\" >0.6243</td>\n",
       "    </tr>\n",
       "    <tr>\n",
       "      <th id=\"T_55de2_level0_row2\" class=\"row_heading level0 row2\" >2</th>\n",
       "      <td id=\"T_55de2_row2_col0\" class=\"data row2 col0\" >0.9664</td>\n",
       "      <td id=\"T_55de2_row2_col1\" class=\"data row2 col1\" >0.6439</td>\n",
       "      <td id=\"T_55de2_row2_col2\" class=\"data row2 col2\" >1.0000</td>\n",
       "      <td id=\"T_55de2_row2_col3\" class=\"data row2 col3\" >0.9661</td>\n",
       "      <td id=\"T_55de2_row2_col4\" class=\"data row2 col4\" >0.9828</td>\n",
       "      <td id=\"T_55de2_row2_col5\" class=\"data row2 col5\" >0.3239</td>\n",
       "      <td id=\"T_55de2_row2_col6\" class=\"data row2 col6\" >0.4396</td>\n",
       "    </tr>\n",
       "    <tr>\n",
       "      <th id=\"T_55de2_level0_row3\" class=\"row_heading level0 row3\" >3</th>\n",
       "      <td id=\"T_55de2_row3_col0\" class=\"data row3 col0\" >0.9664</td>\n",
       "      <td id=\"T_55de2_row3_col1\" class=\"data row3 col1\" >0.5228</td>\n",
       "      <td id=\"T_55de2_row3_col2\" class=\"data row3 col2\" >1.0000</td>\n",
       "      <td id=\"T_55de2_row3_col3\" class=\"data row3 col3\" >0.9661</td>\n",
       "      <td id=\"T_55de2_row3_col4\" class=\"data row3 col4\" >0.9828</td>\n",
       "      <td id=\"T_55de2_row3_col5\" class=\"data row3 col5\" >0.3239</td>\n",
       "      <td id=\"T_55de2_row3_col6\" class=\"data row3 col6\" >0.4396</td>\n",
       "    </tr>\n",
       "    <tr>\n",
       "      <th id=\"T_55de2_level0_row4\" class=\"row_heading level0 row4\" >4</th>\n",
       "      <td id=\"T_55de2_row4_col0\" class=\"data row4 col0\" >0.9664</td>\n",
       "      <td id=\"T_55de2_row4_col1\" class=\"data row4 col1\" >0.8599</td>\n",
       "      <td id=\"T_55de2_row4_col2\" class=\"data row4 col2\" >1.0000</td>\n",
       "      <td id=\"T_55de2_row4_col3\" class=\"data row4 col3\" >0.9658</td>\n",
       "      <td id=\"T_55de2_row4_col4\" class=\"data row4 col4\" >0.9826</td>\n",
       "      <td id=\"T_55de2_row4_col5\" class=\"data row4 col5\" >0.4871</td>\n",
       "      <td id=\"T_55de2_row4_col6\" class=\"data row4 col6\" >0.5674</td>\n",
       "    </tr>\n",
       "    <tr>\n",
       "      <th id=\"T_55de2_level0_row5\" class=\"row_heading level0 row5\" >Mean</th>\n",
       "      <td id=\"T_55de2_row5_col0\" class=\"data row5 col0\" >0.9664</td>\n",
       "      <td id=\"T_55de2_row5_col1\" class=\"data row5 col1\" >0.7337</td>\n",
       "      <td id=\"T_55de2_row5_col2\" class=\"data row5 col2\" >1.0000</td>\n",
       "      <td id=\"T_55de2_row5_col3\" class=\"data row5 col3\" >0.9661</td>\n",
       "      <td id=\"T_55de2_row5_col4\" class=\"data row5 col4\" >0.9827</td>\n",
       "      <td id=\"T_55de2_row5_col5\" class=\"data row5 col5\" >0.3391</td>\n",
       "      <td id=\"T_55de2_row5_col6\" class=\"data row5 col6\" >0.4142</td>\n",
       "    </tr>\n",
       "    <tr>\n",
       "      <th id=\"T_55de2_level0_row6\" class=\"row_heading level0 row6\" >Std</th>\n",
       "      <td id=\"T_55de2_row6_col0\" class=\"data row6 col0\" >0.0053</td>\n",
       "      <td id=\"T_55de2_row6_col1\" class=\"data row6 col1\" >0.1545</td>\n",
       "      <td id=\"T_55de2_row6_col2\" class=\"data row6 col2\" >0.0000</td>\n",
       "      <td id=\"T_55de2_row6_col3\" class=\"data row6 col3\" >0.0052</td>\n",
       "      <td id=\"T_55de2_row6_col4\" class=\"data row6 col4\" >0.0027</td>\n",
       "      <td id=\"T_55de2_row6_col5\" class=\"data row6 col5\" >0.1932</td>\n",
       "      <td id=\"T_55de2_row6_col6\" class=\"data row6 col6\" >0.2193</td>\n",
       "    </tr>\n",
       "  </tbody>\n",
       "</table>\n"
      ],
      "text/plain": [
       "<pandas.io.formats.style.Styler at 0x1ad6ce52080>"
      ]
     },
     "metadata": {},
     "output_type": "display_data"
    },
    {
     "data": {
      "text/html": [],
      "text/plain": [
       "<IPython.core.display.HTML object>"
      ]
     },
     "metadata": {},
     "output_type": "display_data"
    },
    {
     "name": "stdout",
     "output_type": "stream",
     "text": [
      "Fitting 5 folds for each of 24 candidates, totalling 120 fits\n",
      "Transformation Pipeline and Model Successfully Saved\n"
     ]
    },
    {
     "data": {
      "text/html": [
       "<style type=\"text/css\">\n",
       "</style>\n",
       "<table id=\"T_d65fc\">\n",
       "  <thead>\n",
       "    <tr>\n",
       "      <th class=\"blank level0\" >&nbsp;</th>\n",
       "      <th id=\"T_d65fc_level0_col0\" class=\"col_heading level0 col0\" >Model</th>\n",
       "      <th id=\"T_d65fc_level0_col1\" class=\"col_heading level0 col1\" >Accuracy</th>\n",
       "      <th id=\"T_d65fc_level0_col2\" class=\"col_heading level0 col2\" >AUC</th>\n",
       "      <th id=\"T_d65fc_level0_col3\" class=\"col_heading level0 col3\" >Recall</th>\n",
       "      <th id=\"T_d65fc_level0_col4\" class=\"col_heading level0 col4\" >Prec.</th>\n",
       "      <th id=\"T_d65fc_level0_col5\" class=\"col_heading level0 col5\" >F1</th>\n",
       "      <th id=\"T_d65fc_level0_col6\" class=\"col_heading level0 col6\" >Kappa</th>\n",
       "      <th id=\"T_d65fc_level0_col7\" class=\"col_heading level0 col7\" >MCC</th>\n",
       "    </tr>\n",
       "  </thead>\n",
       "  <tbody>\n",
       "    <tr>\n",
       "      <th id=\"T_d65fc_level0_row0\" class=\"row_heading level0 row0\" >0</th>\n",
       "      <td id=\"T_d65fc_row0_col0\" class=\"data row0 col0\" >Extreme Gradient Boosting</td>\n",
       "      <td id=\"T_d65fc_row0_col1\" class=\"data row0 col1\" >0.9570</td>\n",
       "      <td id=\"T_d65fc_row0_col2\" class=\"data row0 col2\" >0.8308</td>\n",
       "      <td id=\"T_d65fc_row0_col3\" class=\"data row0 col3\" >1.0000</td>\n",
       "      <td id=\"T_d65fc_row0_col4\" class=\"data row0 col4\" >0.9570</td>\n",
       "      <td id=\"T_d65fc_row0_col5\" class=\"data row0 col5\" >0.9780</td>\n",
       "      <td id=\"T_d65fc_row0_col6\" class=\"data row0 col6\" >0.0000</td>\n",
       "      <td id=\"T_d65fc_row0_col7\" class=\"data row0 col7\" >0.0000</td>\n",
       "    </tr>\n",
       "  </tbody>\n",
       "</table>\n"
      ],
      "text/plain": [
       "<pandas.io.formats.style.Styler at 0x1ad1f6b9510>"
      ]
     },
     "metadata": {},
     "output_type": "display_data"
    },
    {
     "name": "stdout",
     "output_type": "stream",
     "text": [
      "Outer fold 5/5\n",
      "Configuring PyCaret for outer fold 5\n"
     ]
    },
    {
     "data": {
      "text/html": [],
      "text/plain": [
       "<IPython.core.display.HTML object>"
      ]
     },
     "metadata": {},
     "output_type": "display_data"
    },
    {
     "data": {
      "text/html": [
       "<style type=\"text/css\">\n",
       "#T_9055e_row5_col0, #T_9055e_row5_col1, #T_9055e_row5_col2, #T_9055e_row5_col3, #T_9055e_row5_col4, #T_9055e_row5_col5, #T_9055e_row5_col6 {\n",
       "  background: yellow;\n",
       "}\n",
       "</style>\n",
       "<table id=\"T_9055e\">\n",
       "  <thead>\n",
       "    <tr>\n",
       "      <th class=\"blank level0\" >&nbsp;</th>\n",
       "      <th id=\"T_9055e_level0_col0\" class=\"col_heading level0 col0\" >Accuracy</th>\n",
       "      <th id=\"T_9055e_level0_col1\" class=\"col_heading level0 col1\" >AUC</th>\n",
       "      <th id=\"T_9055e_level0_col2\" class=\"col_heading level0 col2\" >Recall</th>\n",
       "      <th id=\"T_9055e_level0_col3\" class=\"col_heading level0 col3\" >Prec.</th>\n",
       "      <th id=\"T_9055e_level0_col4\" class=\"col_heading level0 col4\" >F1</th>\n",
       "      <th id=\"T_9055e_level0_col5\" class=\"col_heading level0 col5\" >Kappa</th>\n",
       "      <th id=\"T_9055e_level0_col6\" class=\"col_heading level0 col6\" >MCC</th>\n",
       "    </tr>\n",
       "    <tr>\n",
       "      <th class=\"index_name level0\" >Fold</th>\n",
       "      <th class=\"blank col0\" >&nbsp;</th>\n",
       "      <th class=\"blank col1\" >&nbsp;</th>\n",
       "      <th class=\"blank col2\" >&nbsp;</th>\n",
       "      <th class=\"blank col3\" >&nbsp;</th>\n",
       "      <th class=\"blank col4\" >&nbsp;</th>\n",
       "      <th class=\"blank col5\" >&nbsp;</th>\n",
       "      <th class=\"blank col6\" >&nbsp;</th>\n",
       "    </tr>\n",
       "  </thead>\n",
       "  <tbody>\n",
       "    <tr>\n",
       "      <th id=\"T_9055e_level0_row0\" class=\"row_heading level0 row0\" >0</th>\n",
       "      <td id=\"T_9055e_row0_col0\" class=\"data row0 col0\" >0.9664</td>\n",
       "      <td id=\"T_9055e_row0_col1\" class=\"data row0 col1\" >0.8860</td>\n",
       "      <td id=\"T_9055e_row0_col2\" class=\"data row0 col2\" >1.0000</td>\n",
       "      <td id=\"T_9055e_row0_col3\" class=\"data row0 col3\" >0.9661</td>\n",
       "      <td id=\"T_9055e_row0_col4\" class=\"data row0 col4\" >0.9828</td>\n",
       "      <td id=\"T_9055e_row0_col5\" class=\"data row0 col5\" >0.3239</td>\n",
       "      <td id=\"T_9055e_row0_col6\" class=\"data row0 col6\" >0.4396</td>\n",
       "    </tr>\n",
       "    <tr>\n",
       "      <th id=\"T_9055e_level0_row1\" class=\"row_heading level0 row1\" >1</th>\n",
       "      <td id=\"T_9055e_row1_col0\" class=\"data row1 col0\" >0.9664</td>\n",
       "      <td id=\"T_9055e_row1_col1\" class=\"data row1 col1\" >0.7211</td>\n",
       "      <td id=\"T_9055e_row1_col2\" class=\"data row1 col2\" >1.0000</td>\n",
       "      <td id=\"T_9055e_row1_col3\" class=\"data row1 col3\" >0.9661</td>\n",
       "      <td id=\"T_9055e_row1_col4\" class=\"data row1 col4\" >0.9828</td>\n",
       "      <td id=\"T_9055e_row1_col5\" class=\"data row1 col5\" >0.3239</td>\n",
       "      <td id=\"T_9055e_row1_col6\" class=\"data row1 col6\" >0.4396</td>\n",
       "    </tr>\n",
       "    <tr>\n",
       "      <th id=\"T_9055e_level0_row2\" class=\"row_heading level0 row2\" >2</th>\n",
       "      <td id=\"T_9055e_row2_col0\" class=\"data row2 col0\" >0.9664</td>\n",
       "      <td id=\"T_9055e_row2_col1\" class=\"data row2 col1\" >0.7351</td>\n",
       "      <td id=\"T_9055e_row2_col2\" class=\"data row2 col2\" >1.0000</td>\n",
       "      <td id=\"T_9055e_row2_col3\" class=\"data row2 col3\" >0.9661</td>\n",
       "      <td id=\"T_9055e_row2_col4\" class=\"data row2 col4\" >0.9828</td>\n",
       "      <td id=\"T_9055e_row2_col5\" class=\"data row2 col5\" >0.3239</td>\n",
       "      <td id=\"T_9055e_row2_col6\" class=\"data row2 col6\" >0.4396</td>\n",
       "    </tr>\n",
       "    <tr>\n",
       "      <th id=\"T_9055e_level0_row3\" class=\"row_heading level0 row3\" >3</th>\n",
       "      <td id=\"T_9055e_row3_col0\" class=\"data row3 col0\" >0.9664</td>\n",
       "      <td id=\"T_9055e_row3_col1\" class=\"data row3 col1\" >0.8912</td>\n",
       "      <td id=\"T_9055e_row3_col2\" class=\"data row3 col2\" >1.0000</td>\n",
       "      <td id=\"T_9055e_row3_col3\" class=\"data row3 col3\" >0.9661</td>\n",
       "      <td id=\"T_9055e_row3_col4\" class=\"data row3 col4\" >0.9828</td>\n",
       "      <td id=\"T_9055e_row3_col5\" class=\"data row3 col5\" >0.3239</td>\n",
       "      <td id=\"T_9055e_row3_col6\" class=\"data row3 col6\" >0.4396</td>\n",
       "    </tr>\n",
       "    <tr>\n",
       "      <th id=\"T_9055e_level0_row4\" class=\"row_heading level0 row4\" >4</th>\n",
       "      <td id=\"T_9055e_row4_col0\" class=\"data row4 col0\" >0.9664</td>\n",
       "      <td id=\"T_9055e_row4_col1\" class=\"data row4 col1\" >0.8540</td>\n",
       "      <td id=\"T_9055e_row4_col2\" class=\"data row4 col2\" >1.0000</td>\n",
       "      <td id=\"T_9055e_row4_col3\" class=\"data row4 col3\" >0.9658</td>\n",
       "      <td id=\"T_9055e_row4_col4\" class=\"data row4 col4\" >0.9826</td>\n",
       "      <td id=\"T_9055e_row4_col5\" class=\"data row4 col5\" >0.4871</td>\n",
       "      <td id=\"T_9055e_row4_col6\" class=\"data row4 col6\" >0.5674</td>\n",
       "    </tr>\n",
       "    <tr>\n",
       "      <th id=\"T_9055e_level0_row5\" class=\"row_heading level0 row5\" >Mean</th>\n",
       "      <td id=\"T_9055e_row5_col0\" class=\"data row5 col0\" >0.9664</td>\n",
       "      <td id=\"T_9055e_row5_col1\" class=\"data row5 col1\" >0.8175</td>\n",
       "      <td id=\"T_9055e_row5_col2\" class=\"data row5 col2\" >1.0000</td>\n",
       "      <td id=\"T_9055e_row5_col3\" class=\"data row5 col3\" >0.9660</td>\n",
       "      <td id=\"T_9055e_row5_col4\" class=\"data row5 col4\" >0.9827</td>\n",
       "      <td id=\"T_9055e_row5_col5\" class=\"data row5 col5\" >0.3565</td>\n",
       "      <td id=\"T_9055e_row5_col6\" class=\"data row5 col6\" >0.4651</td>\n",
       "    </tr>\n",
       "    <tr>\n",
       "      <th id=\"T_9055e_level0_row6\" class=\"row_heading level0 row6\" >Std</th>\n",
       "      <td id=\"T_9055e_row6_col0\" class=\"data row6 col0\" >0.0000</td>\n",
       "      <td id=\"T_9055e_row6_col1\" class=\"data row6 col1\" >0.0742</td>\n",
       "      <td id=\"T_9055e_row6_col2\" class=\"data row6 col2\" >0.0000</td>\n",
       "      <td id=\"T_9055e_row6_col3\" class=\"data row6 col3\" >0.0001</td>\n",
       "      <td id=\"T_9055e_row6_col4\" class=\"data row6 col4\" >0.0001</td>\n",
       "      <td id=\"T_9055e_row6_col5\" class=\"data row6 col5\" >0.0653</td>\n",
       "      <td id=\"T_9055e_row6_col6\" class=\"data row6 col6\" >0.0511</td>\n",
       "    </tr>\n",
       "  </tbody>\n",
       "</table>\n"
      ],
      "text/plain": [
       "<pandas.io.formats.style.Styler at 0x1ad2c468d60>"
      ]
     },
     "metadata": {},
     "output_type": "display_data"
    },
    {
     "data": {
      "text/html": [],
      "text/plain": [
       "<IPython.core.display.HTML object>"
      ]
     },
     "metadata": {},
     "output_type": "display_data"
    },
    {
     "name": "stdout",
     "output_type": "stream",
     "text": [
      "Tuning hyperparameters for model xgboost with custom grid\n"
     ]
    },
    {
     "data": {
      "text/html": [],
      "text/plain": [
       "<IPython.core.display.HTML object>"
      ]
     },
     "metadata": {},
     "output_type": "display_data"
    },
    {
     "data": {
      "text/html": [
       "<style type=\"text/css\">\n",
       "#T_8ac08_row5_col0, #T_8ac08_row5_col1, #T_8ac08_row5_col2, #T_8ac08_row5_col3, #T_8ac08_row5_col4, #T_8ac08_row5_col5, #T_8ac08_row5_col6 {\n",
       "  background: yellow;\n",
       "}\n",
       "</style>\n",
       "<table id=\"T_8ac08\">\n",
       "  <thead>\n",
       "    <tr>\n",
       "      <th class=\"blank level0\" >&nbsp;</th>\n",
       "      <th id=\"T_8ac08_level0_col0\" class=\"col_heading level0 col0\" >Accuracy</th>\n",
       "      <th id=\"T_8ac08_level0_col1\" class=\"col_heading level0 col1\" >AUC</th>\n",
       "      <th id=\"T_8ac08_level0_col2\" class=\"col_heading level0 col2\" >Recall</th>\n",
       "      <th id=\"T_8ac08_level0_col3\" class=\"col_heading level0 col3\" >Prec.</th>\n",
       "      <th id=\"T_8ac08_level0_col4\" class=\"col_heading level0 col4\" >F1</th>\n",
       "      <th id=\"T_8ac08_level0_col5\" class=\"col_heading level0 col5\" >Kappa</th>\n",
       "      <th id=\"T_8ac08_level0_col6\" class=\"col_heading level0 col6\" >MCC</th>\n",
       "    </tr>\n",
       "    <tr>\n",
       "      <th class=\"index_name level0\" >Fold</th>\n",
       "      <th class=\"blank col0\" >&nbsp;</th>\n",
       "      <th class=\"blank col1\" >&nbsp;</th>\n",
       "      <th class=\"blank col2\" >&nbsp;</th>\n",
       "      <th class=\"blank col3\" >&nbsp;</th>\n",
       "      <th class=\"blank col4\" >&nbsp;</th>\n",
       "      <th class=\"blank col5\" >&nbsp;</th>\n",
       "      <th class=\"blank col6\" >&nbsp;</th>\n",
       "    </tr>\n",
       "  </thead>\n",
       "  <tbody>\n",
       "    <tr>\n",
       "      <th id=\"T_8ac08_level0_row0\" class=\"row_heading level0 row0\" >0</th>\n",
       "      <td id=\"T_8ac08_row0_col0\" class=\"data row0 col0\" >0.9664</td>\n",
       "      <td id=\"T_8ac08_row0_col1\" class=\"data row0 col1\" >0.7789</td>\n",
       "      <td id=\"T_8ac08_row0_col2\" class=\"data row0 col2\" >1.0000</td>\n",
       "      <td id=\"T_8ac08_row0_col3\" class=\"data row0 col3\" >0.9661</td>\n",
       "      <td id=\"T_8ac08_row0_col4\" class=\"data row0 col4\" >0.9828</td>\n",
       "      <td id=\"T_8ac08_row0_col5\" class=\"data row0 col5\" >0.3239</td>\n",
       "      <td id=\"T_8ac08_row0_col6\" class=\"data row0 col6\" >0.4396</td>\n",
       "    </tr>\n",
       "    <tr>\n",
       "      <th id=\"T_8ac08_level0_row1\" class=\"row_heading level0 row1\" >1</th>\n",
       "      <td id=\"T_8ac08_row1_col0\" class=\"data row1 col0\" >0.9664</td>\n",
       "      <td id=\"T_8ac08_row1_col1\" class=\"data row1 col1\" >0.7018</td>\n",
       "      <td id=\"T_8ac08_row1_col2\" class=\"data row1 col2\" >1.0000</td>\n",
       "      <td id=\"T_8ac08_row1_col3\" class=\"data row1 col3\" >0.9661</td>\n",
       "      <td id=\"T_8ac08_row1_col4\" class=\"data row1 col4\" >0.9828</td>\n",
       "      <td id=\"T_8ac08_row1_col5\" class=\"data row1 col5\" >0.3239</td>\n",
       "      <td id=\"T_8ac08_row1_col6\" class=\"data row1 col6\" >0.4396</td>\n",
       "    </tr>\n",
       "    <tr>\n",
       "      <th id=\"T_8ac08_level0_row2\" class=\"row_heading level0 row2\" >2</th>\n",
       "      <td id=\"T_8ac08_row2_col0\" class=\"data row2 col0\" >0.9664</td>\n",
       "      <td id=\"T_8ac08_row2_col1\" class=\"data row2 col1\" >0.7158</td>\n",
       "      <td id=\"T_8ac08_row2_col2\" class=\"data row2 col2\" >1.0000</td>\n",
       "      <td id=\"T_8ac08_row2_col3\" class=\"data row2 col3\" >0.9661</td>\n",
       "      <td id=\"T_8ac08_row2_col4\" class=\"data row2 col4\" >0.9828</td>\n",
       "      <td id=\"T_8ac08_row2_col5\" class=\"data row2 col5\" >0.3239</td>\n",
       "      <td id=\"T_8ac08_row2_col6\" class=\"data row2 col6\" >0.4396</td>\n",
       "    </tr>\n",
       "    <tr>\n",
       "      <th id=\"T_8ac08_level0_row3\" class=\"row_heading level0 row3\" >3</th>\n",
       "      <td id=\"T_8ac08_row3_col0\" class=\"data row3 col0\" >0.9664</td>\n",
       "      <td id=\"T_8ac08_row3_col1\" class=\"data row3 col1\" >0.9070</td>\n",
       "      <td id=\"T_8ac08_row3_col2\" class=\"data row3 col2\" >1.0000</td>\n",
       "      <td id=\"T_8ac08_row3_col3\" class=\"data row3 col3\" >0.9661</td>\n",
       "      <td id=\"T_8ac08_row3_col4\" class=\"data row3 col4\" >0.9828</td>\n",
       "      <td id=\"T_8ac08_row3_col5\" class=\"data row3 col5\" >0.3239</td>\n",
       "      <td id=\"T_8ac08_row3_col6\" class=\"data row3 col6\" >0.4396</td>\n",
       "    </tr>\n",
       "    <tr>\n",
       "      <th id=\"T_8ac08_level0_row4\" class=\"row_heading level0 row4\" >4</th>\n",
       "      <td id=\"T_8ac08_row4_col0\" class=\"data row4 col0\" >0.9664</td>\n",
       "      <td id=\"T_8ac08_row4_col1\" class=\"data row4 col1\" >0.8732</td>\n",
       "      <td id=\"T_8ac08_row4_col2\" class=\"data row4 col2\" >1.0000</td>\n",
       "      <td id=\"T_8ac08_row4_col3\" class=\"data row4 col3\" >0.9658</td>\n",
       "      <td id=\"T_8ac08_row4_col4\" class=\"data row4 col4\" >0.9826</td>\n",
       "      <td id=\"T_8ac08_row4_col5\" class=\"data row4 col5\" >0.4871</td>\n",
       "      <td id=\"T_8ac08_row4_col6\" class=\"data row4 col6\" >0.5674</td>\n",
       "    </tr>\n",
       "    <tr>\n",
       "      <th id=\"T_8ac08_level0_row5\" class=\"row_heading level0 row5\" >Mean</th>\n",
       "      <td id=\"T_8ac08_row5_col0\" class=\"data row5 col0\" >0.9664</td>\n",
       "      <td id=\"T_8ac08_row5_col1\" class=\"data row5 col1\" >0.7953</td>\n",
       "      <td id=\"T_8ac08_row5_col2\" class=\"data row5 col2\" >1.0000</td>\n",
       "      <td id=\"T_8ac08_row5_col3\" class=\"data row5 col3\" >0.9660</td>\n",
       "      <td id=\"T_8ac08_row5_col4\" class=\"data row5 col4\" >0.9827</td>\n",
       "      <td id=\"T_8ac08_row5_col5\" class=\"data row5 col5\" >0.3565</td>\n",
       "      <td id=\"T_8ac08_row5_col6\" class=\"data row5 col6\" >0.4651</td>\n",
       "    </tr>\n",
       "    <tr>\n",
       "      <th id=\"T_8ac08_level0_row6\" class=\"row_heading level0 row6\" >Std</th>\n",
       "      <td id=\"T_8ac08_row6_col0\" class=\"data row6 col0\" >0.0000</td>\n",
       "      <td id=\"T_8ac08_row6_col1\" class=\"data row6 col1\" >0.0823</td>\n",
       "      <td id=\"T_8ac08_row6_col2\" class=\"data row6 col2\" >0.0000</td>\n",
       "      <td id=\"T_8ac08_row6_col3\" class=\"data row6 col3\" >0.0001</td>\n",
       "      <td id=\"T_8ac08_row6_col4\" class=\"data row6 col4\" >0.0001</td>\n",
       "      <td id=\"T_8ac08_row6_col5\" class=\"data row6 col5\" >0.0653</td>\n",
       "      <td id=\"T_8ac08_row6_col6\" class=\"data row6 col6\" >0.0511</td>\n",
       "    </tr>\n",
       "  </tbody>\n",
       "</table>\n"
      ],
      "text/plain": [
       "<pandas.io.formats.style.Styler at 0x1ad1f714e80>"
      ]
     },
     "metadata": {},
     "output_type": "display_data"
    },
    {
     "data": {
      "text/html": [],
      "text/plain": [
       "<IPython.core.display.HTML object>"
      ]
     },
     "metadata": {},
     "output_type": "display_data"
    },
    {
     "name": "stdout",
     "output_type": "stream",
     "text": [
      "Fitting 5 folds for each of 24 candidates, totalling 120 fits\n",
      "Original model was better than the tuned model, hence it will be returned. NOTE: The display metrics are for the tuned model (not the original one).\n",
      "Transformation Pipeline and Model Successfully Saved\n"
     ]
    },
    {
     "data": {
      "text/html": [
       "<style type=\"text/css\">\n",
       "</style>\n",
       "<table id=\"T_cb804\">\n",
       "  <thead>\n",
       "    <tr>\n",
       "      <th class=\"blank level0\" >&nbsp;</th>\n",
       "      <th id=\"T_cb804_level0_col0\" class=\"col_heading level0 col0\" >Model</th>\n",
       "      <th id=\"T_cb804_level0_col1\" class=\"col_heading level0 col1\" >Accuracy</th>\n",
       "      <th id=\"T_cb804_level0_col2\" class=\"col_heading level0 col2\" >AUC</th>\n",
       "      <th id=\"T_cb804_level0_col3\" class=\"col_heading level0 col3\" >Recall</th>\n",
       "      <th id=\"T_cb804_level0_col4\" class=\"col_heading level0 col4\" >Prec.</th>\n",
       "      <th id=\"T_cb804_level0_col5\" class=\"col_heading level0 col5\" >F1</th>\n",
       "      <th id=\"T_cb804_level0_col6\" class=\"col_heading level0 col6\" >Kappa</th>\n",
       "      <th id=\"T_cb804_level0_col7\" class=\"col_heading level0 col7\" >MCC</th>\n",
       "    </tr>\n",
       "  </thead>\n",
       "  <tbody>\n",
       "    <tr>\n",
       "      <th id=\"T_cb804_level0_row0\" class=\"row_heading level0 row0\" >0</th>\n",
       "      <td id=\"T_cb804_row0_col0\" class=\"data row0 col0\" >Extreme Gradient Boosting</td>\n",
       "      <td id=\"T_cb804_row0_col1\" class=\"data row0 col1\" >0.9624</td>\n",
       "      <td id=\"T_cb804_row0_col2\" class=\"data row0 col2\" >0.8286</td>\n",
       "      <td id=\"T_cb804_row0_col3\" class=\"data row0 col3\" >1.0000</td>\n",
       "      <td id=\"T_cb804_row0_col4\" class=\"data row0 col4\" >0.9620</td>\n",
       "      <td id=\"T_cb804_row0_col5\" class=\"data row0 col5\" >0.9806</td>\n",
       "      <td id=\"T_cb804_row0_col6\" class=\"data row0 col6\" >0.3522</td>\n",
       "      <td id=\"T_cb804_row0_col7\" class=\"data row0 col7\" >0.4624</td>\n",
       "    </tr>\n",
       "  </tbody>\n",
       "</table>\n"
      ],
      "text/plain": [
       "<pandas.io.formats.style.Styler at 0x1adf8637d00>"
      ]
     },
     "metadata": {},
     "output_type": "display_data"
    },
    {
     "name": "stdout",
     "output_type": "stream",
     "text": [
      "Final metrics table:\n",
      "     Metric     Mean   Std Dev\n",
      "0  Accuracy  0.96640  0.005940\n",
      "1       AUC  0.88036  0.077327\n",
      "2    Recall  1.00000  0.000000\n",
      "3     Prec.  0.96614  0.005799\n",
      "4        F1  0.98278  0.003005\n",
      "5     Kappa  0.30652  0.199731\n",
      "6       MCC  0.38862  0.231499\n"
     ]
    }
   ],
   "source": [
    "# Initialize the PyCaret Evaluator\n",
    "evaluator = PyCaretEvaluator(dataset=dataset, target=\"LungLesion\", experiment_name=\"CP_LungLesion\", filepath=\"./results/lunglesion\")\n",
    "\n",
    "# Model training and results evaluation\n",
    "evaluator.run_experiment(\n",
    "    train_size=0.8,\n",
    "    fold=5,\n",
    "    fold_strategy='stratifiedkfold',\n",
    "    outer_fold=5,\n",
    "    outer_strategy='stratifiedkfold',\n",
    "    session_id=42,\n",
    "    model='xgboost',\n",
    "    optimize='AUC',\n",
    "    custom_grid=grid_hps\n",
    ")"
   ]
  }
 ],
 "metadata": {
  "kernelspec": {
   "display_name": "Python 3",
   "language": "python",
   "name": "python3"
  },
  "language_info": {
   "codemirror_mode": {
    "name": "ipython",
    "version": 3
   },
   "file_extension": ".py",
   "mimetype": "text/x-python",
   "name": "python",
   "nbconvert_exporter": "python",
   "pygments_lexer": "ipython3",
   "version": "3.10.6"
  }
 },
 "nbformat": 4,
 "nbformat_minor": 5
}
