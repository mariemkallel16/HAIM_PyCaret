{
 "cells": [
  {
   "cell_type": "markdown",
   "id": "c4139f23",
   "metadata": {},
   "source": [
    "# Pathology prediction (lung lesion)\n",
    "\n",
    "\n",
    "@References : Soenksen, L.R., Ma, Y., Zeng, C. et al. Integrated multimodal artificial intelligence framework for healthcare applications. npj Digit. Med. 5, 149 (2022). https://doi.org/10.1038/s41746-022-00689-4\n",
    "\n",
    "In this notebook, the task is to predict the lung lesion pathology using the CSV embeddings file"
   ]
  },
  {
   "cell_type": "markdown",
   "id": "8e9e247e",
   "metadata": {},
   "source": [
    "## Introduction\n"
   ]
  },
  {
   "attachments": {},
   "cell_type": "markdown",
   "id": "321d5924",
   "metadata": {},
   "source": [
    "Radiology notes were processed to determine if each of the pathologies was explicitly confirmed as present (value = 1), explicitly confirmed as absent (value = 0), inconclusive in the study (value = −1), or not explored (no value).\n",
    "\n",
    "Selected samples : 0 or 1 values (removing the rest from the training and testing data).\n",
    "\n",
    "Excluded variables : the unstructured radiology notes component (E_rad ) from the allowable input to avoid potential overfitting or misrepresentations of real predictive value.\n",
    "\n",
    "The model is based on binary classification for each target chest pathology.\n",
    "\n",
    "Final sample size for the Lung Lesion pathology is : (N = 930)\n"
   ]
  },
  {
   "cell_type": "markdown",
   "id": "59600fd4",
   "metadata": {},
   "source": [
    "#### Imports"
   ]
  },
  {
   "cell_type": "code",
   "execution_count": 1,
   "id": "2d0990d5",
   "metadata": {},
   "outputs": [],
   "source": [
    "import os\n",
    "os.chdir('../')\n",
    "\n",
    "from pandas import read_csv\n",
    "\n",
    "from src.data import constants\n",
    "from src.data.dataset import HAIMDataset\n",
    "from src.evaluation.pycaret_evaluator import PyCaretEvaluator\n",
    "from src.utils.metric_scores import *"
   ]
  },
  {
   "cell_type": "markdown",
   "id": "645a1fe8",
   "metadata": {},
   "source": [
    "#### Read data from local source\n",
    "\n"
   ]
  },
  {
   "cell_type": "code",
   "execution_count": 2,
   "id": "a948c18c",
   "metadata": {},
   "outputs": [],
   "source": [
    "df = read_csv(constants.FILE_DF, nrows=constants.N_DATA)"
   ]
  },
  {
   "cell_type": "markdown",
   "id": "90a95053",
   "metadata": {},
   "source": [
    "#### Create a custom dataset for the HAIM experiment\n"
   ]
  },
  {
   "cell_type": "markdown",
   "id": "a47ba159",
   "metadata": {},
   "source": [
    "Build the target column for the task at hand, set the dataset specificities:  the ``haim_id`` as a ``global_id``, use all sources except ``radiology notes`` "
   ]
  },
  {
   "cell_type": "code",
   "execution_count": 3,
   "id": "239db8a3",
   "metadata": {},
   "outputs": [],
   "source": [
    "dataset = HAIMDataset(df,  \n",
    "                      constants.CHEST_PREDICTORS, \n",
    "                      constants.ALL_MODALITIES, \n",
    "                      constants.LUNG_LESION, \n",
    "                      constants.IMG_ID, \n",
    "                      constants.GLOBAL_ID)"
   ]
  },
  {
   "cell_type": "markdown",
   "id": "e280f91d",
   "metadata": {},
   "source": [
    "#### Set hyper-parameters"
   ]
  },
  {
   "cell_type": "code",
   "execution_count": 4,
   "id": "8d254fef",
   "metadata": {},
   "outputs": [],
   "source": [
    "# Define the grid oh hyper-parameters for the tuning\n",
    "grid_hps = {'max_depth': [5, 6, 7, 8],\n",
    "            'n_estimators': [200, 300],\n",
    "            'learning_rate': [0.3, 0.1, 0.05],\n",
    "            }"
   ]
  },
  {
   "cell_type": "markdown",
   "id": "75fd10ab",
   "metadata": {},
   "source": [
    "### Model training and predictions using an XGBClassifier model with GridSearchCV and Hyperparameters optimization\n"
   ]
  },
  {
   "cell_type": "markdown",
   "id": "d04a4c63",
   "metadata": {},
   "source": [
    "The goal of this section of the notebook is to compute the following metrics:\n",
    "\n",
    "``ACCURACY_SCORE, BALANCED_ACCURACY_SCORE, SENSITIVITY, SPECIFICITY, AUC, BRIER SCORE, BINARY CROSS-ENTROPY``\n",
    "\n",
    "\n",
    "The\n",
    "hyperparameter combinations of individual XGBoost models were\n",
    "selected within each training loop using a ``fivefold cross-validated\n",
    "grid search`` on the training set (80%). This XGBoost ``tuning process``\n",
    "selected the ``maximum depth of the trees (5–8)``, the number of\n",
    "``estimators (200 or 300)``, and the ``learning rate (0.05, 0.1, 0.3)``\n",
    "according to the parameter value combination leading to the\n",
    "highest observed AUROC within the training loop \n",
    "\n",
    "\n",
    "As mentioned previously, all XGBoost models were trained ``five times with five different data splits`` to repeat the\n",
    "experiments and compute average metrics \n",
    "\n",
    "\n",
    "```Refer to page 8 of study``` : https://doi.org/10.1038/s41746-022-00689-4"
   ]
  },
  {
   "cell_type": "code",
   "execution_count": 5,
   "id": "726c2332",
   "metadata": {},
   "outputs": [
    {
     "name": "stdout",
     "output_type": "stream",
     "text": [
      "Outer fold 1/5\n",
      "Configuring PyCaret for outer fold 1\n",
      "Creating model xgboost for outer fold 1\n"
     ]
    },
    {
     "data": {
      "text/html": [],
      "text/plain": [
       "<IPython.core.display.HTML object>"
      ]
     },
     "metadata": {},
     "output_type": "display_data"
    },
    {
     "data": {
      "text/html": [
       "<style type=\"text/css\">\n",
       "#T_114e9_row5_col0, #T_114e9_row5_col1, #T_114e9_row5_col2, #T_114e9_row5_col3, #T_114e9_row5_col4, #T_114e9_row5_col5, #T_114e9_row5_col6 {\n",
       "  background: yellow;\n",
       "}\n",
       "</style>\n",
       "<table id=\"T_114e9\">\n",
       "  <thead>\n",
       "    <tr>\n",
       "      <th class=\"blank level0\" >&nbsp;</th>\n",
       "      <th id=\"T_114e9_level0_col0\" class=\"col_heading level0 col0\" >Accuracy</th>\n",
       "      <th id=\"T_114e9_level0_col1\" class=\"col_heading level0 col1\" >AUC</th>\n",
       "      <th id=\"T_114e9_level0_col2\" class=\"col_heading level0 col2\" >Recall</th>\n",
       "      <th id=\"T_114e9_level0_col3\" class=\"col_heading level0 col3\" >Prec.</th>\n",
       "      <th id=\"T_114e9_level0_col4\" class=\"col_heading level0 col4\" >F1</th>\n",
       "      <th id=\"T_114e9_level0_col5\" class=\"col_heading level0 col5\" >Kappa</th>\n",
       "      <th id=\"T_114e9_level0_col6\" class=\"col_heading level0 col6\" >MCC</th>\n",
       "    </tr>\n",
       "    <tr>\n",
       "      <th class=\"index_name level0\" >Fold</th>\n",
       "      <th class=\"blank col0\" >&nbsp;</th>\n",
       "      <th class=\"blank col1\" >&nbsp;</th>\n",
       "      <th class=\"blank col2\" >&nbsp;</th>\n",
       "      <th class=\"blank col3\" >&nbsp;</th>\n",
       "      <th class=\"blank col4\" >&nbsp;</th>\n",
       "      <th class=\"blank col5\" >&nbsp;</th>\n",
       "      <th class=\"blank col6\" >&nbsp;</th>\n",
       "    </tr>\n",
       "  </thead>\n",
       "  <tbody>\n",
       "    <tr>\n",
       "      <th id=\"T_114e9_level0_row0\" class=\"row_heading level0 row0\" >0</th>\n",
       "      <td id=\"T_114e9_row0_col0\" class=\"data row0 col0\" >0.9748</td>\n",
       "      <td id=\"T_114e9_row0_col1\" class=\"data row0 col1\" >0.9140</td>\n",
       "      <td id=\"T_114e9_row0_col2\" class=\"data row0 col2\" >1.0000</td>\n",
       "      <td id=\"T_114e9_row0_col3\" class=\"data row0 col3\" >0.9744</td>\n",
       "      <td id=\"T_114e9_row0_col4\" class=\"data row0 col4\" >0.9870</td>\n",
       "      <td id=\"T_114e9_row0_col5\" class=\"data row0 col5\" >0.5609</td>\n",
       "      <td id=\"T_114e9_row0_col6\" class=\"data row0 col6\" >0.6243</td>\n",
       "    </tr>\n",
       "    <tr>\n",
       "      <th id=\"T_114e9_level0_row1\" class=\"row_heading level0 row1\" >1</th>\n",
       "      <td id=\"T_114e9_row1_col0\" class=\"data row1 col0\" >0.9580</td>\n",
       "      <td id=\"T_114e9_row1_col1\" class=\"data row1 col1\" >0.8474</td>\n",
       "      <td id=\"T_114e9_row1_col2\" class=\"data row1 col2\" >1.0000</td>\n",
       "      <td id=\"T_114e9_row1_col3\" class=\"data row1 col3\" >0.9580</td>\n",
       "      <td id=\"T_114e9_row1_col4\" class=\"data row1 col4\" >0.9785</td>\n",
       "      <td id=\"T_114e9_row1_col5\" class=\"data row1 col5\" >0.0000</td>\n",
       "      <td id=\"T_114e9_row1_col6\" class=\"data row1 col6\" >0.0000</td>\n",
       "    </tr>\n",
       "    <tr>\n",
       "      <th id=\"T_114e9_level0_row2\" class=\"row_heading level0 row2\" >2</th>\n",
       "      <td id=\"T_114e9_row2_col0\" class=\"data row2 col0\" >0.9580</td>\n",
       "      <td id=\"T_114e9_row2_col1\" class=\"data row2 col1\" >0.8614</td>\n",
       "      <td id=\"T_114e9_row2_col2\" class=\"data row2 col2\" >1.0000</td>\n",
       "      <td id=\"T_114e9_row2_col3\" class=\"data row2 col3\" >0.9580</td>\n",
       "      <td id=\"T_114e9_row2_col4\" class=\"data row2 col4\" >0.9785</td>\n",
       "      <td id=\"T_114e9_row2_col5\" class=\"data row2 col5\" >0.0000</td>\n",
       "      <td id=\"T_114e9_row2_col6\" class=\"data row2 col6\" >0.0000</td>\n",
       "    </tr>\n",
       "    <tr>\n",
       "      <th id=\"T_114e9_level0_row3\" class=\"row_heading level0 row3\" >3</th>\n",
       "      <td id=\"T_114e9_row3_col0\" class=\"data row3 col0\" >0.9580</td>\n",
       "      <td id=\"T_114e9_row3_col1\" class=\"data row3 col1\" >0.7509</td>\n",
       "      <td id=\"T_114e9_row3_col2\" class=\"data row3 col2\" >1.0000</td>\n",
       "      <td id=\"T_114e9_row3_col3\" class=\"data row3 col3\" >0.9580</td>\n",
       "      <td id=\"T_114e9_row3_col4\" class=\"data row3 col4\" >0.9785</td>\n",
       "      <td id=\"T_114e9_row3_col5\" class=\"data row3 col5\" >0.0000</td>\n",
       "      <td id=\"T_114e9_row3_col6\" class=\"data row3 col6\" >0.0000</td>\n",
       "    </tr>\n",
       "    <tr>\n",
       "      <th id=\"T_114e9_level0_row4\" class=\"row_heading level0 row4\" >4</th>\n",
       "      <td id=\"T_114e9_row4_col0\" class=\"data row4 col0\" >0.9580</td>\n",
       "      <td id=\"T_114e9_row4_col1\" class=\"data row4 col1\" >0.9248</td>\n",
       "      <td id=\"T_114e9_row4_col2\" class=\"data row4 col2\" >1.0000</td>\n",
       "      <td id=\"T_114e9_row4_col3\" class=\"data row4 col3\" >0.9576</td>\n",
       "      <td id=\"T_114e9_row4_col4\" class=\"data row4 col4\" >0.9784</td>\n",
       "      <td id=\"T_114e9_row4_col5\" class=\"data row4 col5\" >0.2753</td>\n",
       "      <td id=\"T_114e9_row4_col6\" class=\"data row4 col6\" >0.3995</td>\n",
       "    </tr>\n",
       "    <tr>\n",
       "      <th id=\"T_114e9_level0_row5\" class=\"row_heading level0 row5\" >Mean</th>\n",
       "      <td id=\"T_114e9_row5_col0\" class=\"data row5 col0\" >0.9613</td>\n",
       "      <td id=\"T_114e9_row5_col1\" class=\"data row5 col1\" >0.8597</td>\n",
       "      <td id=\"T_114e9_row5_col2\" class=\"data row5 col2\" >1.0000</td>\n",
       "      <td id=\"T_114e9_row5_col3\" class=\"data row5 col3\" >0.9612</td>\n",
       "      <td id=\"T_114e9_row5_col4\" class=\"data row5 col4\" >0.9802</td>\n",
       "      <td id=\"T_114e9_row5_col5\" class=\"data row5 col5\" >0.1672</td>\n",
       "      <td id=\"T_114e9_row5_col6\" class=\"data row5 col6\" >0.2048</td>\n",
       "    </tr>\n",
       "    <tr>\n",
       "      <th id=\"T_114e9_level0_row6\" class=\"row_heading level0 row6\" >Std</th>\n",
       "      <td id=\"T_114e9_row6_col0\" class=\"data row6 col0\" >0.0067</td>\n",
       "      <td id=\"T_114e9_row6_col1\" class=\"data row6 col1\" >0.0619</td>\n",
       "      <td id=\"T_114e9_row6_col2\" class=\"data row6 col2\" >0.0000</td>\n",
       "      <td id=\"T_114e9_row6_col3\" class=\"data row6 col3\" >0.0066</td>\n",
       "      <td id=\"T_114e9_row6_col4\" class=\"data row6 col4\" >0.0034</td>\n",
       "      <td id=\"T_114e9_row6_col5\" class=\"data row6 col5\" >0.2238</td>\n",
       "      <td id=\"T_114e9_row6_col6\" class=\"data row6 col6\" >0.2607</td>\n",
       "    </tr>\n",
       "  </tbody>\n",
       "</table>\n"
      ],
      "text/plain": [
       "<pandas.io.formats.style.Styler at 0x7fd418755710>"
      ]
     },
     "metadata": {},
     "output_type": "display_data"
    },
    {
     "data": {
      "text/html": [],
      "text/plain": [
       "<IPython.core.display.HTML object>"
      ]
     },
     "metadata": {},
     "output_type": "display_data"
    },
    {
     "name": "stdout",
     "output_type": "stream",
     "text": [
      "Tuning hyperparameters for model xgboost with custom grid\n"
     ]
    },
    {
     "data": {
      "text/html": [],
      "text/plain": [
       "<IPython.core.display.HTML object>"
      ]
     },
     "metadata": {},
     "output_type": "display_data"
    },
    {
     "data": {
      "text/html": [
       "<style type=\"text/css\">\n",
       "#T_e3da7_row5_col0, #T_e3da7_row5_col1, #T_e3da7_row5_col2, #T_e3da7_row5_col3, #T_e3da7_row5_col4, #T_e3da7_row5_col5, #T_e3da7_row5_col6 {\n",
       "  background: yellow;\n",
       "}\n",
       "</style>\n",
       "<table id=\"T_e3da7\">\n",
       "  <thead>\n",
       "    <tr>\n",
       "      <th class=\"blank level0\" >&nbsp;</th>\n",
       "      <th id=\"T_e3da7_level0_col0\" class=\"col_heading level0 col0\" >Accuracy</th>\n",
       "      <th id=\"T_e3da7_level0_col1\" class=\"col_heading level0 col1\" >AUC</th>\n",
       "      <th id=\"T_e3da7_level0_col2\" class=\"col_heading level0 col2\" >Recall</th>\n",
       "      <th id=\"T_e3da7_level0_col3\" class=\"col_heading level0 col3\" >Prec.</th>\n",
       "      <th id=\"T_e3da7_level0_col4\" class=\"col_heading level0 col4\" >F1</th>\n",
       "      <th id=\"T_e3da7_level0_col5\" class=\"col_heading level0 col5\" >Kappa</th>\n",
       "      <th id=\"T_e3da7_level0_col6\" class=\"col_heading level0 col6\" >MCC</th>\n",
       "    </tr>\n",
       "    <tr>\n",
       "      <th class=\"index_name level0\" >Fold</th>\n",
       "      <th class=\"blank col0\" >&nbsp;</th>\n",
       "      <th class=\"blank col1\" >&nbsp;</th>\n",
       "      <th class=\"blank col2\" >&nbsp;</th>\n",
       "      <th class=\"blank col3\" >&nbsp;</th>\n",
       "      <th class=\"blank col4\" >&nbsp;</th>\n",
       "      <th class=\"blank col5\" >&nbsp;</th>\n",
       "      <th class=\"blank col6\" >&nbsp;</th>\n",
       "    </tr>\n",
       "  </thead>\n",
       "  <tbody>\n",
       "    <tr>\n",
       "      <th id=\"T_e3da7_level0_row0\" class=\"row_heading level0 row0\" >0</th>\n",
       "      <td id=\"T_e3da7_row0_col0\" class=\"data row0 col0\" >0.9748</td>\n",
       "      <td id=\"T_e3da7_row0_col1\" class=\"data row0 col1\" >0.9140</td>\n",
       "      <td id=\"T_e3da7_row0_col2\" class=\"data row0 col2\" >1.0000</td>\n",
       "      <td id=\"T_e3da7_row0_col3\" class=\"data row0 col3\" >0.9744</td>\n",
       "      <td id=\"T_e3da7_row0_col4\" class=\"data row0 col4\" >0.9870</td>\n",
       "      <td id=\"T_e3da7_row0_col5\" class=\"data row0 col5\" >0.5609</td>\n",
       "      <td id=\"T_e3da7_row0_col6\" class=\"data row0 col6\" >0.6243</td>\n",
       "    </tr>\n",
       "    <tr>\n",
       "      <th id=\"T_e3da7_level0_row1\" class=\"row_heading level0 row1\" >1</th>\n",
       "      <td id=\"T_e3da7_row1_col0\" class=\"data row1 col0\" >0.9580</td>\n",
       "      <td id=\"T_e3da7_row1_col1\" class=\"data row1 col1\" >0.8474</td>\n",
       "      <td id=\"T_e3da7_row1_col2\" class=\"data row1 col2\" >1.0000</td>\n",
       "      <td id=\"T_e3da7_row1_col3\" class=\"data row1 col3\" >0.9580</td>\n",
       "      <td id=\"T_e3da7_row1_col4\" class=\"data row1 col4\" >0.9785</td>\n",
       "      <td id=\"T_e3da7_row1_col5\" class=\"data row1 col5\" >0.0000</td>\n",
       "      <td id=\"T_e3da7_row1_col6\" class=\"data row1 col6\" >0.0000</td>\n",
       "    </tr>\n",
       "    <tr>\n",
       "      <th id=\"T_e3da7_level0_row2\" class=\"row_heading level0 row2\" >2</th>\n",
       "      <td id=\"T_e3da7_row2_col0\" class=\"data row2 col0\" >0.9580</td>\n",
       "      <td id=\"T_e3da7_row2_col1\" class=\"data row2 col1\" >0.8614</td>\n",
       "      <td id=\"T_e3da7_row2_col2\" class=\"data row2 col2\" >1.0000</td>\n",
       "      <td id=\"T_e3da7_row2_col3\" class=\"data row2 col3\" >0.9580</td>\n",
       "      <td id=\"T_e3da7_row2_col4\" class=\"data row2 col4\" >0.9785</td>\n",
       "      <td id=\"T_e3da7_row2_col5\" class=\"data row2 col5\" >0.0000</td>\n",
       "      <td id=\"T_e3da7_row2_col6\" class=\"data row2 col6\" >0.0000</td>\n",
       "    </tr>\n",
       "    <tr>\n",
       "      <th id=\"T_e3da7_level0_row3\" class=\"row_heading level0 row3\" >3</th>\n",
       "      <td id=\"T_e3da7_row3_col0\" class=\"data row3 col0\" >0.9580</td>\n",
       "      <td id=\"T_e3da7_row3_col1\" class=\"data row3 col1\" >0.7509</td>\n",
       "      <td id=\"T_e3da7_row3_col2\" class=\"data row3 col2\" >1.0000</td>\n",
       "      <td id=\"T_e3da7_row3_col3\" class=\"data row3 col3\" >0.9580</td>\n",
       "      <td id=\"T_e3da7_row3_col4\" class=\"data row3 col4\" >0.9785</td>\n",
       "      <td id=\"T_e3da7_row3_col5\" class=\"data row3 col5\" >0.0000</td>\n",
       "      <td id=\"T_e3da7_row3_col6\" class=\"data row3 col6\" >0.0000</td>\n",
       "    </tr>\n",
       "    <tr>\n",
       "      <th id=\"T_e3da7_level0_row4\" class=\"row_heading level0 row4\" >4</th>\n",
       "      <td id=\"T_e3da7_row4_col0\" class=\"data row4 col0\" >0.9580</td>\n",
       "      <td id=\"T_e3da7_row4_col1\" class=\"data row4 col1\" >0.9248</td>\n",
       "      <td id=\"T_e3da7_row4_col2\" class=\"data row4 col2\" >1.0000</td>\n",
       "      <td id=\"T_e3da7_row4_col3\" class=\"data row4 col3\" >0.9576</td>\n",
       "      <td id=\"T_e3da7_row4_col4\" class=\"data row4 col4\" >0.9784</td>\n",
       "      <td id=\"T_e3da7_row4_col5\" class=\"data row4 col5\" >0.2753</td>\n",
       "      <td id=\"T_e3da7_row4_col6\" class=\"data row4 col6\" >0.3995</td>\n",
       "    </tr>\n",
       "    <tr>\n",
       "      <th id=\"T_e3da7_level0_row5\" class=\"row_heading level0 row5\" >Mean</th>\n",
       "      <td id=\"T_e3da7_row5_col0\" class=\"data row5 col0\" >0.9613</td>\n",
       "      <td id=\"T_e3da7_row5_col1\" class=\"data row5 col1\" >0.8597</td>\n",
       "      <td id=\"T_e3da7_row5_col2\" class=\"data row5 col2\" >1.0000</td>\n",
       "      <td id=\"T_e3da7_row5_col3\" class=\"data row5 col3\" >0.9612</td>\n",
       "      <td id=\"T_e3da7_row5_col4\" class=\"data row5 col4\" >0.9802</td>\n",
       "      <td id=\"T_e3da7_row5_col5\" class=\"data row5 col5\" >0.1672</td>\n",
       "      <td id=\"T_e3da7_row5_col6\" class=\"data row5 col6\" >0.2048</td>\n",
       "    </tr>\n",
       "    <tr>\n",
       "      <th id=\"T_e3da7_level0_row6\" class=\"row_heading level0 row6\" >Std</th>\n",
       "      <td id=\"T_e3da7_row6_col0\" class=\"data row6 col0\" >0.0067</td>\n",
       "      <td id=\"T_e3da7_row6_col1\" class=\"data row6 col1\" >0.0619</td>\n",
       "      <td id=\"T_e3da7_row6_col2\" class=\"data row6 col2\" >0.0000</td>\n",
       "      <td id=\"T_e3da7_row6_col3\" class=\"data row6 col3\" >0.0066</td>\n",
       "      <td id=\"T_e3da7_row6_col4\" class=\"data row6 col4\" >0.0034</td>\n",
       "      <td id=\"T_e3da7_row6_col5\" class=\"data row6 col5\" >0.2238</td>\n",
       "      <td id=\"T_e3da7_row6_col6\" class=\"data row6 col6\" >0.2607</td>\n",
       "    </tr>\n",
       "  </tbody>\n",
       "</table>\n"
      ],
      "text/plain": [
       "<pandas.io.formats.style.Styler at 0x7fd43476b3d0>"
      ]
     },
     "metadata": {},
     "output_type": "display_data"
    },
    {
     "data": {
      "text/html": [],
      "text/plain": [
       "<IPython.core.display.HTML object>"
      ]
     },
     "metadata": {},
     "output_type": "display_data"
    },
    {
     "name": "stdout",
     "output_type": "stream",
     "text": [
      "Fitting 5 folds for each of 10 candidates, totalling 50 fits\n",
      "Original model was better than the tuned model, hence it will be returned. NOTE: The display metrics are for the tuned model (not the original one).\n",
      "Transformation Pipeline and Model Successfully Saved\n"
     ]
    },
    {
     "data": {
      "text/html": [
       "<style type=\"text/css\">\n",
       "</style>\n",
       "<table id=\"T_af55b\">\n",
       "  <thead>\n",
       "    <tr>\n",
       "      <th class=\"blank level0\" >&nbsp;</th>\n",
       "      <th id=\"T_af55b_level0_col0\" class=\"col_heading level0 col0\" >Model</th>\n",
       "      <th id=\"T_af55b_level0_col1\" class=\"col_heading level0 col1\" >Accuracy</th>\n",
       "      <th id=\"T_af55b_level0_col2\" class=\"col_heading level0 col2\" >AUC</th>\n",
       "      <th id=\"T_af55b_level0_col3\" class=\"col_heading level0 col3\" >Recall</th>\n",
       "      <th id=\"T_af55b_level0_col4\" class=\"col_heading level0 col4\" >Prec.</th>\n",
       "      <th id=\"T_af55b_level0_col5\" class=\"col_heading level0 col5\" >F1</th>\n",
       "      <th id=\"T_af55b_level0_col6\" class=\"col_heading level0 col6\" >Kappa</th>\n",
       "      <th id=\"T_af55b_level0_col7\" class=\"col_heading level0 col7\" >MCC</th>\n",
       "    </tr>\n",
       "  </thead>\n",
       "  <tbody>\n",
       "    <tr>\n",
       "      <th id=\"T_af55b_level0_row0\" class=\"row_heading level0 row0\" >0</th>\n",
       "      <td id=\"T_af55b_row0_col0\" class=\"data row0 col0\" >Extreme Gradient Boosting</td>\n",
       "      <td id=\"T_af55b_row0_col1\" class=\"data row0 col1\" >0.9677</td>\n",
       "      <td id=\"T_af55b_row0_col2\" class=\"data row0 col2\" >0.7893</td>\n",
       "      <td id=\"T_af55b_row0_col3\" class=\"data row0 col3\" >1.0000</td>\n",
       "      <td id=\"T_af55b_row0_col4\" class=\"data row0 col4\" >0.9674</td>\n",
       "      <td id=\"T_af55b_row0_col5\" class=\"data row0 col5\" >0.9834</td>\n",
       "      <td id=\"T_af55b_row0_col6\" class=\"data row0 col6\" >0.3895</td>\n",
       "      <td id=\"T_af55b_row0_col7\" class=\"data row0 col7\" >0.4918</td>\n",
       "    </tr>\n",
       "  </tbody>\n",
       "</table>\n"
      ],
      "text/plain": [
       "<pandas.io.formats.style.Styler at 0x7fd426d29550>"
      ]
     },
     "metadata": {},
     "output_type": "display_data"
    },
    {
     "name": "stdout",
     "output_type": "stream",
     "text": [
      "Outer fold 2/5\n",
      "Configuring PyCaret for outer fold 2\n",
      "Creating model xgboost for outer fold 2\n"
     ]
    },
    {
     "data": {
      "text/html": [],
      "text/plain": [
       "<IPython.core.display.HTML object>"
      ]
     },
     "metadata": {},
     "output_type": "display_data"
    },
    {
     "data": {
      "text/html": [
       "<style type=\"text/css\">\n",
       "#T_8422c_row5_col0, #T_8422c_row5_col1, #T_8422c_row5_col2, #T_8422c_row5_col3, #T_8422c_row5_col4, #T_8422c_row5_col5, #T_8422c_row5_col6 {\n",
       "  background: yellow;\n",
       "}\n",
       "</style>\n",
       "<table id=\"T_8422c\">\n",
       "  <thead>\n",
       "    <tr>\n",
       "      <th class=\"blank level0\" >&nbsp;</th>\n",
       "      <th id=\"T_8422c_level0_col0\" class=\"col_heading level0 col0\" >Accuracy</th>\n",
       "      <th id=\"T_8422c_level0_col1\" class=\"col_heading level0 col1\" >AUC</th>\n",
       "      <th id=\"T_8422c_level0_col2\" class=\"col_heading level0 col2\" >Recall</th>\n",
       "      <th id=\"T_8422c_level0_col3\" class=\"col_heading level0 col3\" >Prec.</th>\n",
       "      <th id=\"T_8422c_level0_col4\" class=\"col_heading level0 col4\" >F1</th>\n",
       "      <th id=\"T_8422c_level0_col5\" class=\"col_heading level0 col5\" >Kappa</th>\n",
       "      <th id=\"T_8422c_level0_col6\" class=\"col_heading level0 col6\" >MCC</th>\n",
       "    </tr>\n",
       "    <tr>\n",
       "      <th class=\"index_name level0\" >Fold</th>\n",
       "      <th class=\"blank col0\" >&nbsp;</th>\n",
       "      <th class=\"blank col1\" >&nbsp;</th>\n",
       "      <th class=\"blank col2\" >&nbsp;</th>\n",
       "      <th class=\"blank col3\" >&nbsp;</th>\n",
       "      <th class=\"blank col4\" >&nbsp;</th>\n",
       "      <th class=\"blank col5\" >&nbsp;</th>\n",
       "      <th class=\"blank col6\" >&nbsp;</th>\n",
       "    </tr>\n",
       "  </thead>\n",
       "  <tbody>\n",
       "    <tr>\n",
       "      <th id=\"T_8422c_level0_row0\" class=\"row_heading level0 row0\" >0</th>\n",
       "      <td id=\"T_8422c_row0_col0\" class=\"data row0 col0\" >0.9664</td>\n",
       "      <td id=\"T_8422c_row0_col1\" class=\"data row0 col1\" >0.8965</td>\n",
       "      <td id=\"T_8422c_row0_col2\" class=\"data row0 col2\" >1.0000</td>\n",
       "      <td id=\"T_8422c_row0_col3\" class=\"data row0 col3\" >0.9661</td>\n",
       "      <td id=\"T_8422c_row0_col4\" class=\"data row0 col4\" >0.9828</td>\n",
       "      <td id=\"T_8422c_row0_col5\" class=\"data row0 col5\" >0.3239</td>\n",
       "      <td id=\"T_8422c_row0_col6\" class=\"data row0 col6\" >0.4396</td>\n",
       "    </tr>\n",
       "    <tr>\n",
       "      <th id=\"T_8422c_level0_row1\" class=\"row_heading level0 row1\" >1</th>\n",
       "      <td id=\"T_8422c_row1_col0\" class=\"data row1 col0\" >0.9580</td>\n",
       "      <td id=\"T_8422c_row1_col1\" class=\"data row1 col1\" >0.7368</td>\n",
       "      <td id=\"T_8422c_row1_col2\" class=\"data row1 col2\" >1.0000</td>\n",
       "      <td id=\"T_8422c_row1_col3\" class=\"data row1 col3\" >0.9580</td>\n",
       "      <td id=\"T_8422c_row1_col4\" class=\"data row1 col4\" >0.9785</td>\n",
       "      <td id=\"T_8422c_row1_col5\" class=\"data row1 col5\" >0.0000</td>\n",
       "      <td id=\"T_8422c_row1_col6\" class=\"data row1 col6\" >0.0000</td>\n",
       "    </tr>\n",
       "    <tr>\n",
       "      <th id=\"T_8422c_level0_row2\" class=\"row_heading level0 row2\" >2</th>\n",
       "      <td id=\"T_8422c_row2_col0\" class=\"data row2 col0\" >0.9664</td>\n",
       "      <td id=\"T_8422c_row2_col1\" class=\"data row2 col1\" >0.7228</td>\n",
       "      <td id=\"T_8422c_row2_col2\" class=\"data row2 col2\" >1.0000</td>\n",
       "      <td id=\"T_8422c_row2_col3\" class=\"data row2 col3\" >0.9661</td>\n",
       "      <td id=\"T_8422c_row2_col4\" class=\"data row2 col4\" >0.9828</td>\n",
       "      <td id=\"T_8422c_row2_col5\" class=\"data row2 col5\" >0.3239</td>\n",
       "      <td id=\"T_8422c_row2_col6\" class=\"data row2 col6\" >0.4396</td>\n",
       "    </tr>\n",
       "    <tr>\n",
       "      <th id=\"T_8422c_level0_row3\" class=\"row_heading level0 row3\" >3</th>\n",
       "      <td id=\"T_8422c_row3_col0\" class=\"data row3 col0\" >0.9580</td>\n",
       "      <td id=\"T_8422c_row3_col1\" class=\"data row3 col1\" >0.7789</td>\n",
       "      <td id=\"T_8422c_row3_col2\" class=\"data row3 col2\" >1.0000</td>\n",
       "      <td id=\"T_8422c_row3_col3\" class=\"data row3 col3\" >0.9580</td>\n",
       "      <td id=\"T_8422c_row3_col4\" class=\"data row3 col4\" >0.9785</td>\n",
       "      <td id=\"T_8422c_row3_col5\" class=\"data row3 col5\" >0.0000</td>\n",
       "      <td id=\"T_8422c_row3_col6\" class=\"data row3 col6\" >0.0000</td>\n",
       "    </tr>\n",
       "    <tr>\n",
       "      <th id=\"T_8422c_level0_row4\" class=\"row_heading level0 row4\" >4</th>\n",
       "      <td id=\"T_8422c_row4_col0\" class=\"data row4 col0\" >0.9664</td>\n",
       "      <td id=\"T_8422c_row4_col1\" class=\"data row4 col1\" >0.8687</td>\n",
       "      <td id=\"T_8422c_row4_col2\" class=\"data row4 col2\" >1.0000</td>\n",
       "      <td id=\"T_8422c_row4_col3\" class=\"data row4 col3\" >0.9658</td>\n",
       "      <td id=\"T_8422c_row4_col4\" class=\"data row4 col4\" >0.9826</td>\n",
       "      <td id=\"T_8422c_row4_col5\" class=\"data row4 col5\" >0.4871</td>\n",
       "      <td id=\"T_8422c_row4_col6\" class=\"data row4 col6\" >0.5674</td>\n",
       "    </tr>\n",
       "    <tr>\n",
       "      <th id=\"T_8422c_level0_row5\" class=\"row_heading level0 row5\" >Mean</th>\n",
       "      <td id=\"T_8422c_row5_col0\" class=\"data row5 col0\" >0.9630</td>\n",
       "      <td id=\"T_8422c_row5_col1\" class=\"data row5 col1\" >0.8008</td>\n",
       "      <td id=\"T_8422c_row5_col2\" class=\"data row5 col2\" >1.0000</td>\n",
       "      <td id=\"T_8422c_row5_col3\" class=\"data row5 col3\" >0.9628</td>\n",
       "      <td id=\"T_8422c_row5_col4\" class=\"data row5 col4\" >0.9810</td>\n",
       "      <td id=\"T_8422c_row5_col5\" class=\"data row5 col5\" >0.2270</td>\n",
       "      <td id=\"T_8422c_row5_col6\" class=\"data row5 col6\" >0.2893</td>\n",
       "    </tr>\n",
       "    <tr>\n",
       "      <th id=\"T_8422c_level0_row6\" class=\"row_heading level0 row6\" >Std</th>\n",
       "      <td id=\"T_8422c_row6_col0\" class=\"data row6 col0\" >0.0041</td>\n",
       "      <td id=\"T_8422c_row6_col1\" class=\"data row6 col1\" >0.0699</td>\n",
       "      <td id=\"T_8422c_row6_col2\" class=\"data row6 col2\" >0.0000</td>\n",
       "      <td id=\"T_8422c_row6_col3\" class=\"data row6 col3\" >0.0039</td>\n",
       "      <td id=\"T_8422c_row6_col4\" class=\"data row6 col4\" >0.0020</td>\n",
       "      <td id=\"T_8422c_row6_col5\" class=\"data row6 col5\" >0.1947</td>\n",
       "      <td id=\"T_8422c_row6_col6\" class=\"data row6 col6\" >0.2408</td>\n",
       "    </tr>\n",
       "  </tbody>\n",
       "</table>\n"
      ],
      "text/plain": [
       "<pandas.io.formats.style.Styler at 0x7fd42f6c1f50>"
      ]
     },
     "metadata": {},
     "output_type": "display_data"
    },
    {
     "data": {
      "text/html": [],
      "text/plain": [
       "<IPython.core.display.HTML object>"
      ]
     },
     "metadata": {},
     "output_type": "display_data"
    },
    {
     "name": "stdout",
     "output_type": "stream",
     "text": [
      "Tuning hyperparameters for model xgboost with custom grid\n"
     ]
    },
    {
     "data": {
      "text/html": [],
      "text/plain": [
       "<IPython.core.display.HTML object>"
      ]
     },
     "metadata": {},
     "output_type": "display_data"
    },
    {
     "data": {
      "text/html": [
       "<style type=\"text/css\">\n",
       "#T_9fc98_row5_col0, #T_9fc98_row5_col1, #T_9fc98_row5_col2, #T_9fc98_row5_col3, #T_9fc98_row5_col4, #T_9fc98_row5_col5, #T_9fc98_row5_col6 {\n",
       "  background: yellow;\n",
       "}\n",
       "</style>\n",
       "<table id=\"T_9fc98\">\n",
       "  <thead>\n",
       "    <tr>\n",
       "      <th class=\"blank level0\" >&nbsp;</th>\n",
       "      <th id=\"T_9fc98_level0_col0\" class=\"col_heading level0 col0\" >Accuracy</th>\n",
       "      <th id=\"T_9fc98_level0_col1\" class=\"col_heading level0 col1\" >AUC</th>\n",
       "      <th id=\"T_9fc98_level0_col2\" class=\"col_heading level0 col2\" >Recall</th>\n",
       "      <th id=\"T_9fc98_level0_col3\" class=\"col_heading level0 col3\" >Prec.</th>\n",
       "      <th id=\"T_9fc98_level0_col4\" class=\"col_heading level0 col4\" >F1</th>\n",
       "      <th id=\"T_9fc98_level0_col5\" class=\"col_heading level0 col5\" >Kappa</th>\n",
       "      <th id=\"T_9fc98_level0_col6\" class=\"col_heading level0 col6\" >MCC</th>\n",
       "    </tr>\n",
       "    <tr>\n",
       "      <th class=\"index_name level0\" >Fold</th>\n",
       "      <th class=\"blank col0\" >&nbsp;</th>\n",
       "      <th class=\"blank col1\" >&nbsp;</th>\n",
       "      <th class=\"blank col2\" >&nbsp;</th>\n",
       "      <th class=\"blank col3\" >&nbsp;</th>\n",
       "      <th class=\"blank col4\" >&nbsp;</th>\n",
       "      <th class=\"blank col5\" >&nbsp;</th>\n",
       "      <th class=\"blank col6\" >&nbsp;</th>\n",
       "    </tr>\n",
       "  </thead>\n",
       "  <tbody>\n",
       "    <tr>\n",
       "      <th id=\"T_9fc98_level0_row0\" class=\"row_heading level0 row0\" >0</th>\n",
       "      <td id=\"T_9fc98_row0_col0\" class=\"data row0 col0\" >0.9664</td>\n",
       "      <td id=\"T_9fc98_row0_col1\" class=\"data row0 col1\" >0.9018</td>\n",
       "      <td id=\"T_9fc98_row0_col2\" class=\"data row0 col2\" >1.0000</td>\n",
       "      <td id=\"T_9fc98_row0_col3\" class=\"data row0 col3\" >0.9661</td>\n",
       "      <td id=\"T_9fc98_row0_col4\" class=\"data row0 col4\" >0.9828</td>\n",
       "      <td id=\"T_9fc98_row0_col5\" class=\"data row0 col5\" >0.3239</td>\n",
       "      <td id=\"T_9fc98_row0_col6\" class=\"data row0 col6\" >0.4396</td>\n",
       "    </tr>\n",
       "    <tr>\n",
       "      <th id=\"T_9fc98_level0_row1\" class=\"row_heading level0 row1\" >1</th>\n",
       "      <td id=\"T_9fc98_row1_col0\" class=\"data row1 col0\" >0.9664</td>\n",
       "      <td id=\"T_9fc98_row1_col1\" class=\"data row1 col1\" >0.7070</td>\n",
       "      <td id=\"T_9fc98_row1_col2\" class=\"data row1 col2\" >1.0000</td>\n",
       "      <td id=\"T_9fc98_row1_col3\" class=\"data row1 col3\" >0.9661</td>\n",
       "      <td id=\"T_9fc98_row1_col4\" class=\"data row1 col4\" >0.9828</td>\n",
       "      <td id=\"T_9fc98_row1_col5\" class=\"data row1 col5\" >0.3239</td>\n",
       "      <td id=\"T_9fc98_row1_col6\" class=\"data row1 col6\" >0.4396</td>\n",
       "    </tr>\n",
       "    <tr>\n",
       "      <th id=\"T_9fc98_level0_row2\" class=\"row_heading level0 row2\" >2</th>\n",
       "      <td id=\"T_9fc98_row2_col0\" class=\"data row2 col0\" >0.9664</td>\n",
       "      <td id=\"T_9fc98_row2_col1\" class=\"data row2 col1\" >0.7579</td>\n",
       "      <td id=\"T_9fc98_row2_col2\" class=\"data row2 col2\" >1.0000</td>\n",
       "      <td id=\"T_9fc98_row2_col3\" class=\"data row2 col3\" >0.9661</td>\n",
       "      <td id=\"T_9fc98_row2_col4\" class=\"data row2 col4\" >0.9828</td>\n",
       "      <td id=\"T_9fc98_row2_col5\" class=\"data row2 col5\" >0.3239</td>\n",
       "      <td id=\"T_9fc98_row2_col6\" class=\"data row2 col6\" >0.4396</td>\n",
       "    </tr>\n",
       "    <tr>\n",
       "      <th id=\"T_9fc98_level0_row3\" class=\"row_heading level0 row3\" >3</th>\n",
       "      <td id=\"T_9fc98_row3_col0\" class=\"data row3 col0\" >0.9580</td>\n",
       "      <td id=\"T_9fc98_row3_col1\" class=\"data row3 col1\" >0.6912</td>\n",
       "      <td id=\"T_9fc98_row3_col2\" class=\"data row3 col2\" >1.0000</td>\n",
       "      <td id=\"T_9fc98_row3_col3\" class=\"data row3 col3\" >0.9580</td>\n",
       "      <td id=\"T_9fc98_row3_col4\" class=\"data row3 col4\" >0.9785</td>\n",
       "      <td id=\"T_9fc98_row3_col5\" class=\"data row3 col5\" >0.0000</td>\n",
       "      <td id=\"T_9fc98_row3_col6\" class=\"data row3 col6\" >0.0000</td>\n",
       "    </tr>\n",
       "    <tr>\n",
       "      <th id=\"T_9fc98_level0_row4\" class=\"row_heading level0 row4\" >4</th>\n",
       "      <td id=\"T_9fc98_row4_col0\" class=\"data row4 col0\" >0.9664</td>\n",
       "      <td id=\"T_9fc98_row4_col1\" class=\"data row4 col1\" >0.8879</td>\n",
       "      <td id=\"T_9fc98_row4_col2\" class=\"data row4 col2\" >1.0000</td>\n",
       "      <td id=\"T_9fc98_row4_col3\" class=\"data row4 col3\" >0.9658</td>\n",
       "      <td id=\"T_9fc98_row4_col4\" class=\"data row4 col4\" >0.9826</td>\n",
       "      <td id=\"T_9fc98_row4_col5\" class=\"data row4 col5\" >0.4871</td>\n",
       "      <td id=\"T_9fc98_row4_col6\" class=\"data row4 col6\" >0.5674</td>\n",
       "    </tr>\n",
       "    <tr>\n",
       "      <th id=\"T_9fc98_level0_row5\" class=\"row_heading level0 row5\" >Mean</th>\n",
       "      <td id=\"T_9fc98_row5_col0\" class=\"data row5 col0\" >0.9647</td>\n",
       "      <td id=\"T_9fc98_row5_col1\" class=\"data row5 col1\" >0.7892</td>\n",
       "      <td id=\"T_9fc98_row5_col2\" class=\"data row5 col2\" >1.0000</td>\n",
       "      <td id=\"T_9fc98_row5_col3\" class=\"data row5 col3\" >0.9644</td>\n",
       "      <td id=\"T_9fc98_row5_col4\" class=\"data row5 col4\" >0.9819</td>\n",
       "      <td id=\"T_9fc98_row5_col5\" class=\"data row5 col5\" >0.2917</td>\n",
       "      <td id=\"T_9fc98_row5_col6\" class=\"data row5 col6\" >0.3772</td>\n",
       "    </tr>\n",
       "    <tr>\n",
       "      <th id=\"T_9fc98_level0_row6\" class=\"row_heading level0 row6\" >Std</th>\n",
       "      <td id=\"T_9fc98_row6_col0\" class=\"data row6 col0\" >0.0034</td>\n",
       "      <td id=\"T_9fc98_row6_col1\" class=\"data row6 col1\" >0.0892</td>\n",
       "      <td id=\"T_9fc98_row6_col2\" class=\"data row6 col2\" >0.0000</td>\n",
       "      <td id=\"T_9fc98_row6_col3\" class=\"data row6 col3\" >0.0032</td>\n",
       "      <td id=\"T_9fc98_row6_col4\" class=\"data row6 col4\" >0.0017</td>\n",
       "      <td id=\"T_9fc98_row6_col5\" class=\"data row6 col5\" >0.1590</td>\n",
       "      <td id=\"T_9fc98_row6_col6\" class=\"data row6 col6\" >0.1950</td>\n",
       "    </tr>\n",
       "  </tbody>\n",
       "</table>\n"
      ],
      "text/plain": [
       "<pandas.io.formats.style.Styler at 0x7fd4346e0b10>"
      ]
     },
     "metadata": {},
     "output_type": "display_data"
    },
    {
     "data": {
      "text/html": [],
      "text/plain": [
       "<IPython.core.display.HTML object>"
      ]
     },
     "metadata": {},
     "output_type": "display_data"
    },
    {
     "name": "stdout",
     "output_type": "stream",
     "text": [
      "Fitting 5 folds for each of 10 candidates, totalling 50 fits\n",
      "Transformation Pipeline and Model Successfully Saved\n"
     ]
    },
    {
     "data": {
      "text/html": [
       "<style type=\"text/css\">\n",
       "</style>\n",
       "<table id=\"T_384da\">\n",
       "  <thead>\n",
       "    <tr>\n",
       "      <th class=\"blank level0\" >&nbsp;</th>\n",
       "      <th id=\"T_384da_level0_col0\" class=\"col_heading level0 col0\" >Model</th>\n",
       "      <th id=\"T_384da_level0_col1\" class=\"col_heading level0 col1\" >Accuracy</th>\n",
       "      <th id=\"T_384da_level0_col2\" class=\"col_heading level0 col2\" >AUC</th>\n",
       "      <th id=\"T_384da_level0_col3\" class=\"col_heading level0 col3\" >Recall</th>\n",
       "      <th id=\"T_384da_level0_col4\" class=\"col_heading level0 col4\" >Prec.</th>\n",
       "      <th id=\"T_384da_level0_col5\" class=\"col_heading level0 col5\" >F1</th>\n",
       "      <th id=\"T_384da_level0_col6\" class=\"col_heading level0 col6\" >Kappa</th>\n",
       "      <th id=\"T_384da_level0_col7\" class=\"col_heading level0 col7\" >MCC</th>\n",
       "    </tr>\n",
       "  </thead>\n",
       "  <tbody>\n",
       "    <tr>\n",
       "      <th id=\"T_384da_level0_row0\" class=\"row_heading level0 row0\" >0</th>\n",
       "      <td id=\"T_384da_row0_col0\" class=\"data row0 col0\" >Extreme Gradient Boosting</td>\n",
       "      <td id=\"T_384da_row0_col1\" class=\"data row0 col1\" >0.9677</td>\n",
       "      <td id=\"T_384da_row0_col2\" class=\"data row0 col2\" >0.9312</td>\n",
       "      <td id=\"T_384da_row0_col3\" class=\"data row0 col3\" >1.0000</td>\n",
       "      <td id=\"T_384da_row0_col4\" class=\"data row0 col4\" >0.9674</td>\n",
       "      <td id=\"T_384da_row0_col5\" class=\"data row0 col5\" >0.9834</td>\n",
       "      <td id=\"T_384da_row0_col6\" class=\"data row0 col6\" >0.3895</td>\n",
       "      <td id=\"T_384da_row0_col7\" class=\"data row0 col7\" >0.4918</td>\n",
       "    </tr>\n",
       "  </tbody>\n",
       "</table>\n"
      ],
      "text/plain": [
       "<pandas.io.formats.style.Styler at 0x7fd40fa97550>"
      ]
     },
     "metadata": {},
     "output_type": "display_data"
    },
    {
     "name": "stdout",
     "output_type": "stream",
     "text": [
      "Outer fold 3/5\n",
      "Configuring PyCaret for outer fold 3\n",
      "Creating model xgboost for outer fold 3\n"
     ]
    },
    {
     "data": {
      "text/html": [],
      "text/plain": [
       "<IPython.core.display.HTML object>"
      ]
     },
     "metadata": {},
     "output_type": "display_data"
    },
    {
     "data": {
      "text/html": [
       "<style type=\"text/css\">\n",
       "#T_eb6d6_row5_col0, #T_eb6d6_row5_col1, #T_eb6d6_row5_col2, #T_eb6d6_row5_col3, #T_eb6d6_row5_col4, #T_eb6d6_row5_col5, #T_eb6d6_row5_col6 {\n",
       "  background: yellow;\n",
       "}\n",
       "</style>\n",
       "<table id=\"T_eb6d6\">\n",
       "  <thead>\n",
       "    <tr>\n",
       "      <th class=\"blank level0\" >&nbsp;</th>\n",
       "      <th id=\"T_eb6d6_level0_col0\" class=\"col_heading level0 col0\" >Accuracy</th>\n",
       "      <th id=\"T_eb6d6_level0_col1\" class=\"col_heading level0 col1\" >AUC</th>\n",
       "      <th id=\"T_eb6d6_level0_col2\" class=\"col_heading level0 col2\" >Recall</th>\n",
       "      <th id=\"T_eb6d6_level0_col3\" class=\"col_heading level0 col3\" >Prec.</th>\n",
       "      <th id=\"T_eb6d6_level0_col4\" class=\"col_heading level0 col4\" >F1</th>\n",
       "      <th id=\"T_eb6d6_level0_col5\" class=\"col_heading level0 col5\" >Kappa</th>\n",
       "      <th id=\"T_eb6d6_level0_col6\" class=\"col_heading level0 col6\" >MCC</th>\n",
       "    </tr>\n",
       "    <tr>\n",
       "      <th class=\"index_name level0\" >Fold</th>\n",
       "      <th class=\"blank col0\" >&nbsp;</th>\n",
       "      <th class=\"blank col1\" >&nbsp;</th>\n",
       "      <th class=\"blank col2\" >&nbsp;</th>\n",
       "      <th class=\"blank col3\" >&nbsp;</th>\n",
       "      <th class=\"blank col4\" >&nbsp;</th>\n",
       "      <th class=\"blank col5\" >&nbsp;</th>\n",
       "      <th class=\"blank col6\" >&nbsp;</th>\n",
       "    </tr>\n",
       "  </thead>\n",
       "  <tbody>\n",
       "    <tr>\n",
       "      <th id=\"T_eb6d6_level0_row0\" class=\"row_heading level0 row0\" >0</th>\n",
       "      <td id=\"T_eb6d6_row0_col0\" class=\"data row0 col0\" >0.9664</td>\n",
       "      <td id=\"T_eb6d6_row0_col1\" class=\"data row0 col1\" >0.7509</td>\n",
       "      <td id=\"T_eb6d6_row0_col2\" class=\"data row0 col2\" >1.0000</td>\n",
       "      <td id=\"T_eb6d6_row0_col3\" class=\"data row0 col3\" >0.9661</td>\n",
       "      <td id=\"T_eb6d6_row0_col4\" class=\"data row0 col4\" >0.9828</td>\n",
       "      <td id=\"T_eb6d6_row0_col5\" class=\"data row0 col5\" >0.3239</td>\n",
       "      <td id=\"T_eb6d6_row0_col6\" class=\"data row0 col6\" >0.4396</td>\n",
       "    </tr>\n",
       "    <tr>\n",
       "      <th id=\"T_eb6d6_level0_row1\" class=\"row_heading level0 row1\" >1</th>\n",
       "      <td id=\"T_eb6d6_row1_col0\" class=\"data row1 col0\" >0.9748</td>\n",
       "      <td id=\"T_eb6d6_row1_col1\" class=\"data row1 col1\" >0.6825</td>\n",
       "      <td id=\"T_eb6d6_row1_col2\" class=\"data row1 col2\" >1.0000</td>\n",
       "      <td id=\"T_eb6d6_row1_col3\" class=\"data row1 col3\" >0.9744</td>\n",
       "      <td id=\"T_eb6d6_row1_col4\" class=\"data row1 col4\" >0.9870</td>\n",
       "      <td id=\"T_eb6d6_row1_col5\" class=\"data row1 col5\" >0.5609</td>\n",
       "      <td id=\"T_eb6d6_row1_col6\" class=\"data row1 col6\" >0.6243</td>\n",
       "    </tr>\n",
       "    <tr>\n",
       "      <th id=\"T_eb6d6_level0_row2\" class=\"row_heading level0 row2\" >2</th>\n",
       "      <td id=\"T_eb6d6_row2_col0\" class=\"data row2 col0\" >0.9664</td>\n",
       "      <td id=\"T_eb6d6_row2_col1\" class=\"data row2 col1\" >0.5632</td>\n",
       "      <td id=\"T_eb6d6_row2_col2\" class=\"data row2 col2\" >1.0000</td>\n",
       "      <td id=\"T_eb6d6_row2_col3\" class=\"data row2 col3\" >0.9661</td>\n",
       "      <td id=\"T_eb6d6_row2_col4\" class=\"data row2 col4\" >0.9828</td>\n",
       "      <td id=\"T_eb6d6_row2_col5\" class=\"data row2 col5\" >0.3239</td>\n",
       "      <td id=\"T_eb6d6_row2_col6\" class=\"data row2 col6\" >0.4396</td>\n",
       "    </tr>\n",
       "    <tr>\n",
       "      <th id=\"T_eb6d6_level0_row3\" class=\"row_heading level0 row3\" >3</th>\n",
       "      <td id=\"T_eb6d6_row3_col0\" class=\"data row3 col0\" >0.9580</td>\n",
       "      <td id=\"T_eb6d6_row3_col1\" class=\"data row3 col1\" >0.7158</td>\n",
       "      <td id=\"T_eb6d6_row3_col2\" class=\"data row3 col2\" >1.0000</td>\n",
       "      <td id=\"T_eb6d6_row3_col3\" class=\"data row3 col3\" >0.9580</td>\n",
       "      <td id=\"T_eb6d6_row3_col4\" class=\"data row3 col4\" >0.9785</td>\n",
       "      <td id=\"T_eb6d6_row3_col5\" class=\"data row3 col5\" >0.0000</td>\n",
       "      <td id=\"T_eb6d6_row3_col6\" class=\"data row3 col6\" >0.0000</td>\n",
       "    </tr>\n",
       "    <tr>\n",
       "      <th id=\"T_eb6d6_level0_row4\" class=\"row_heading level0 row4\" >4</th>\n",
       "      <td id=\"T_eb6d6_row4_col0\" class=\"data row4 col0\" >0.9580</td>\n",
       "      <td id=\"T_eb6d6_row4_col1\" class=\"data row4 col1\" >0.8274</td>\n",
       "      <td id=\"T_eb6d6_row4_col2\" class=\"data row4 col2\" >1.0000</td>\n",
       "      <td id=\"T_eb6d6_row4_col3\" class=\"data row4 col3\" >0.9576</td>\n",
       "      <td id=\"T_eb6d6_row4_col4\" class=\"data row4 col4\" >0.9784</td>\n",
       "      <td id=\"T_eb6d6_row4_col5\" class=\"data row4 col5\" >0.2753</td>\n",
       "      <td id=\"T_eb6d6_row4_col6\" class=\"data row4 col6\" >0.3995</td>\n",
       "    </tr>\n",
       "    <tr>\n",
       "      <th id=\"T_eb6d6_level0_row5\" class=\"row_heading level0 row5\" >Mean</th>\n",
       "      <td id=\"T_eb6d6_row5_col0\" class=\"data row5 col0\" >0.9647</td>\n",
       "      <td id=\"T_eb6d6_row5_col1\" class=\"data row5 col1\" >0.7079</td>\n",
       "      <td id=\"T_eb6d6_row5_col2\" class=\"data row5 col2\" >1.0000</td>\n",
       "      <td id=\"T_eb6d6_row5_col3\" class=\"data row5 col3\" >0.9644</td>\n",
       "      <td id=\"T_eb6d6_row5_col4\" class=\"data row5 col4\" >0.9819</td>\n",
       "      <td id=\"T_eb6d6_row5_col5\" class=\"data row5 col5\" >0.2968</td>\n",
       "      <td id=\"T_eb6d6_row5_col6\" class=\"data row5 col6\" >0.3806</td>\n",
       "    </tr>\n",
       "    <tr>\n",
       "      <th id=\"T_eb6d6_level0_row6\" class=\"row_heading level0 row6\" >Std</th>\n",
       "      <td id=\"T_eb6d6_row6_col0\" class=\"data row6 col0\" >0.0063</td>\n",
       "      <td id=\"T_eb6d6_row6_col1\" class=\"data row6 col1\" >0.0869</td>\n",
       "      <td id=\"T_eb6d6_row6_col2\" class=\"data row6 col2\" >0.0000</td>\n",
       "      <td id=\"T_eb6d6_row6_col3\" class=\"data row6 col3\" >0.0062</td>\n",
       "      <td id=\"T_eb6d6_row6_col4\" class=\"data row6 col4\" >0.0032</td>\n",
       "      <td id=\"T_eb6d6_row6_col5\" class=\"data row6 col5\" >0.1788</td>\n",
       "      <td id=\"T_eb6d6_row6_col6\" class=\"data row6 col6\" >0.2057</td>\n",
       "    </tr>\n",
       "  </tbody>\n",
       "</table>\n"
      ],
      "text/plain": [
       "<pandas.io.formats.style.Styler at 0x7fd419907110>"
      ]
     },
     "metadata": {},
     "output_type": "display_data"
    },
    {
     "data": {
      "text/html": [],
      "text/plain": [
       "<IPython.core.display.HTML object>"
      ]
     },
     "metadata": {},
     "output_type": "display_data"
    },
    {
     "name": "stdout",
     "output_type": "stream",
     "text": [
      "Tuning hyperparameters for model xgboost with custom grid\n"
     ]
    },
    {
     "data": {
      "text/html": [],
      "text/plain": [
       "<IPython.core.display.HTML object>"
      ]
     },
     "metadata": {},
     "output_type": "display_data"
    },
    {
     "data": {
      "text/html": [
       "<style type=\"text/css\">\n",
       "#T_b0c46_row5_col0, #T_b0c46_row5_col1, #T_b0c46_row5_col2, #T_b0c46_row5_col3, #T_b0c46_row5_col4, #T_b0c46_row5_col5, #T_b0c46_row5_col6 {\n",
       "  background: yellow;\n",
       "}\n",
       "</style>\n",
       "<table id=\"T_b0c46\">\n",
       "  <thead>\n",
       "    <tr>\n",
       "      <th class=\"blank level0\" >&nbsp;</th>\n",
       "      <th id=\"T_b0c46_level0_col0\" class=\"col_heading level0 col0\" >Accuracy</th>\n",
       "      <th id=\"T_b0c46_level0_col1\" class=\"col_heading level0 col1\" >AUC</th>\n",
       "      <th id=\"T_b0c46_level0_col2\" class=\"col_heading level0 col2\" >Recall</th>\n",
       "      <th id=\"T_b0c46_level0_col3\" class=\"col_heading level0 col3\" >Prec.</th>\n",
       "      <th id=\"T_b0c46_level0_col4\" class=\"col_heading level0 col4\" >F1</th>\n",
       "      <th id=\"T_b0c46_level0_col5\" class=\"col_heading level0 col5\" >Kappa</th>\n",
       "      <th id=\"T_b0c46_level0_col6\" class=\"col_heading level0 col6\" >MCC</th>\n",
       "    </tr>\n",
       "    <tr>\n",
       "      <th class=\"index_name level0\" >Fold</th>\n",
       "      <th class=\"blank col0\" >&nbsp;</th>\n",
       "      <th class=\"blank col1\" >&nbsp;</th>\n",
       "      <th class=\"blank col2\" >&nbsp;</th>\n",
       "      <th class=\"blank col3\" >&nbsp;</th>\n",
       "      <th class=\"blank col4\" >&nbsp;</th>\n",
       "      <th class=\"blank col5\" >&nbsp;</th>\n",
       "      <th class=\"blank col6\" >&nbsp;</th>\n",
       "    </tr>\n",
       "  </thead>\n",
       "  <tbody>\n",
       "    <tr>\n",
       "      <th id=\"T_b0c46_level0_row0\" class=\"row_heading level0 row0\" >0</th>\n",
       "      <td id=\"T_b0c46_row0_col0\" class=\"data row0 col0\" >0.9664</td>\n",
       "      <td id=\"T_b0c46_row0_col1\" class=\"data row0 col1\" >0.7509</td>\n",
       "      <td id=\"T_b0c46_row0_col2\" class=\"data row0 col2\" >1.0000</td>\n",
       "      <td id=\"T_b0c46_row0_col3\" class=\"data row0 col3\" >0.9661</td>\n",
       "      <td id=\"T_b0c46_row0_col4\" class=\"data row0 col4\" >0.9828</td>\n",
       "      <td id=\"T_b0c46_row0_col5\" class=\"data row0 col5\" >0.3239</td>\n",
       "      <td id=\"T_b0c46_row0_col6\" class=\"data row0 col6\" >0.4396</td>\n",
       "    </tr>\n",
       "    <tr>\n",
       "      <th id=\"T_b0c46_level0_row1\" class=\"row_heading level0 row1\" >1</th>\n",
       "      <td id=\"T_b0c46_row1_col0\" class=\"data row1 col0\" >0.9748</td>\n",
       "      <td id=\"T_b0c46_row1_col1\" class=\"data row1 col1\" >0.6825</td>\n",
       "      <td id=\"T_b0c46_row1_col2\" class=\"data row1 col2\" >1.0000</td>\n",
       "      <td id=\"T_b0c46_row1_col3\" class=\"data row1 col3\" >0.9744</td>\n",
       "      <td id=\"T_b0c46_row1_col4\" class=\"data row1 col4\" >0.9870</td>\n",
       "      <td id=\"T_b0c46_row1_col5\" class=\"data row1 col5\" >0.5609</td>\n",
       "      <td id=\"T_b0c46_row1_col6\" class=\"data row1 col6\" >0.6243</td>\n",
       "    </tr>\n",
       "    <tr>\n",
       "      <th id=\"T_b0c46_level0_row2\" class=\"row_heading level0 row2\" >2</th>\n",
       "      <td id=\"T_b0c46_row2_col0\" class=\"data row2 col0\" >0.9664</td>\n",
       "      <td id=\"T_b0c46_row2_col1\" class=\"data row2 col1\" >0.5632</td>\n",
       "      <td id=\"T_b0c46_row2_col2\" class=\"data row2 col2\" >1.0000</td>\n",
       "      <td id=\"T_b0c46_row2_col3\" class=\"data row2 col3\" >0.9661</td>\n",
       "      <td id=\"T_b0c46_row2_col4\" class=\"data row2 col4\" >0.9828</td>\n",
       "      <td id=\"T_b0c46_row2_col5\" class=\"data row2 col5\" >0.3239</td>\n",
       "      <td id=\"T_b0c46_row2_col6\" class=\"data row2 col6\" >0.4396</td>\n",
       "    </tr>\n",
       "    <tr>\n",
       "      <th id=\"T_b0c46_level0_row3\" class=\"row_heading level0 row3\" >3</th>\n",
       "      <td id=\"T_b0c46_row3_col0\" class=\"data row3 col0\" >0.9580</td>\n",
       "      <td id=\"T_b0c46_row3_col1\" class=\"data row3 col1\" >0.7158</td>\n",
       "      <td id=\"T_b0c46_row3_col2\" class=\"data row3 col2\" >1.0000</td>\n",
       "      <td id=\"T_b0c46_row3_col3\" class=\"data row3 col3\" >0.9580</td>\n",
       "      <td id=\"T_b0c46_row3_col4\" class=\"data row3 col4\" >0.9785</td>\n",
       "      <td id=\"T_b0c46_row3_col5\" class=\"data row3 col5\" >0.0000</td>\n",
       "      <td id=\"T_b0c46_row3_col6\" class=\"data row3 col6\" >0.0000</td>\n",
       "    </tr>\n",
       "    <tr>\n",
       "      <th id=\"T_b0c46_level0_row4\" class=\"row_heading level0 row4\" >4</th>\n",
       "      <td id=\"T_b0c46_row4_col0\" class=\"data row4 col0\" >0.9580</td>\n",
       "      <td id=\"T_b0c46_row4_col1\" class=\"data row4 col1\" >0.8274</td>\n",
       "      <td id=\"T_b0c46_row4_col2\" class=\"data row4 col2\" >1.0000</td>\n",
       "      <td id=\"T_b0c46_row4_col3\" class=\"data row4 col3\" >0.9576</td>\n",
       "      <td id=\"T_b0c46_row4_col4\" class=\"data row4 col4\" >0.9784</td>\n",
       "      <td id=\"T_b0c46_row4_col5\" class=\"data row4 col5\" >0.2753</td>\n",
       "      <td id=\"T_b0c46_row4_col6\" class=\"data row4 col6\" >0.3995</td>\n",
       "    </tr>\n",
       "    <tr>\n",
       "      <th id=\"T_b0c46_level0_row5\" class=\"row_heading level0 row5\" >Mean</th>\n",
       "      <td id=\"T_b0c46_row5_col0\" class=\"data row5 col0\" >0.9647</td>\n",
       "      <td id=\"T_b0c46_row5_col1\" class=\"data row5 col1\" >0.7079</td>\n",
       "      <td id=\"T_b0c46_row5_col2\" class=\"data row5 col2\" >1.0000</td>\n",
       "      <td id=\"T_b0c46_row5_col3\" class=\"data row5 col3\" >0.9644</td>\n",
       "      <td id=\"T_b0c46_row5_col4\" class=\"data row5 col4\" >0.9819</td>\n",
       "      <td id=\"T_b0c46_row5_col5\" class=\"data row5 col5\" >0.2968</td>\n",
       "      <td id=\"T_b0c46_row5_col6\" class=\"data row5 col6\" >0.3806</td>\n",
       "    </tr>\n",
       "    <tr>\n",
       "      <th id=\"T_b0c46_level0_row6\" class=\"row_heading level0 row6\" >Std</th>\n",
       "      <td id=\"T_b0c46_row6_col0\" class=\"data row6 col0\" >0.0063</td>\n",
       "      <td id=\"T_b0c46_row6_col1\" class=\"data row6 col1\" >0.0869</td>\n",
       "      <td id=\"T_b0c46_row6_col2\" class=\"data row6 col2\" >0.0000</td>\n",
       "      <td id=\"T_b0c46_row6_col3\" class=\"data row6 col3\" >0.0062</td>\n",
       "      <td id=\"T_b0c46_row6_col4\" class=\"data row6 col4\" >0.0032</td>\n",
       "      <td id=\"T_b0c46_row6_col5\" class=\"data row6 col5\" >0.1788</td>\n",
       "      <td id=\"T_b0c46_row6_col6\" class=\"data row6 col6\" >0.2057</td>\n",
       "    </tr>\n",
       "  </tbody>\n",
       "</table>\n"
      ],
      "text/plain": [
       "<pandas.io.formats.style.Styler at 0x7fd435cd35d0>"
      ]
     },
     "metadata": {},
     "output_type": "display_data"
    },
    {
     "data": {
      "text/html": [],
      "text/plain": [
       "<IPython.core.display.HTML object>"
      ]
     },
     "metadata": {},
     "output_type": "display_data"
    },
    {
     "name": "stdout",
     "output_type": "stream",
     "text": [
      "Fitting 5 folds for each of 10 candidates, totalling 50 fits\n",
      "Original model was better than the tuned model, hence it will be returned. NOTE: The display metrics are for the tuned model (not the original one).\n",
      "Transformation Pipeline and Model Successfully Saved\n"
     ]
    },
    {
     "data": {
      "text/html": [
       "<style type=\"text/css\">\n",
       "</style>\n",
       "<table id=\"T_c7727\">\n",
       "  <thead>\n",
       "    <tr>\n",
       "      <th class=\"blank level0\" >&nbsp;</th>\n",
       "      <th id=\"T_c7727_level0_col0\" class=\"col_heading level0 col0\" >Model</th>\n",
       "      <th id=\"T_c7727_level0_col1\" class=\"col_heading level0 col1\" >Accuracy</th>\n",
       "      <th id=\"T_c7727_level0_col2\" class=\"col_heading level0 col2\" >AUC</th>\n",
       "      <th id=\"T_c7727_level0_col3\" class=\"col_heading level0 col3\" >Recall</th>\n",
       "      <th id=\"T_c7727_level0_col4\" class=\"col_heading level0 col4\" >Prec.</th>\n",
       "      <th id=\"T_c7727_level0_col5\" class=\"col_heading level0 col5\" >F1</th>\n",
       "      <th id=\"T_c7727_level0_col6\" class=\"col_heading level0 col6\" >Kappa</th>\n",
       "      <th id=\"T_c7727_level0_col7\" class=\"col_heading level0 col7\" >MCC</th>\n",
       "    </tr>\n",
       "  </thead>\n",
       "  <tbody>\n",
       "    <tr>\n",
       "      <th id=\"T_c7727_level0_row0\" class=\"row_heading level0 row0\" >0</th>\n",
       "      <td id=\"T_c7727_row0_col0\" class=\"data row0 col0\" >Extreme Gradient Boosting</td>\n",
       "      <td id=\"T_c7727_row0_col1\" class=\"data row0 col1\" >0.9624</td>\n",
       "      <td id=\"T_c7727_row0_col2\" class=\"data row0 col2\" >0.8511</td>\n",
       "      <td id=\"T_c7727_row0_col3\" class=\"data row0 col3\" >1.0000</td>\n",
       "      <td id=\"T_c7727_row0_col4\" class=\"data row0 col4\" >0.9622</td>\n",
       "      <td id=\"T_c7727_row0_col5\" class=\"data row0 col5\" >0.9807</td>\n",
       "      <td id=\"T_c7727_row0_col6\" class=\"data row0 col6\" >0.2147</td>\n",
       "      <td id=\"T_c7727_row0_col7\" class=\"data row0 col7\" >0.3468</td>\n",
       "    </tr>\n",
       "  </tbody>\n",
       "</table>\n"
      ],
      "text/plain": [
       "<pandas.io.formats.style.Styler at 0x7fd42f6c1f50>"
      ]
     },
     "metadata": {},
     "output_type": "display_data"
    },
    {
     "name": "stdout",
     "output_type": "stream",
     "text": [
      "Outer fold 4/5\n",
      "Configuring PyCaret for outer fold 4\n",
      "Creating model xgboost for outer fold 4\n"
     ]
    },
    {
     "data": {
      "text/html": [],
      "text/plain": [
       "<IPython.core.display.HTML object>"
      ]
     },
     "metadata": {},
     "output_type": "display_data"
    },
    {
     "data": {
      "text/html": [
       "<style type=\"text/css\">\n",
       "#T_4ea77_row5_col0, #T_4ea77_row5_col1, #T_4ea77_row5_col2, #T_4ea77_row5_col3, #T_4ea77_row5_col4, #T_4ea77_row5_col5, #T_4ea77_row5_col6 {\n",
       "  background: yellow;\n",
       "}\n",
       "</style>\n",
       "<table id=\"T_4ea77\">\n",
       "  <thead>\n",
       "    <tr>\n",
       "      <th class=\"blank level0\" >&nbsp;</th>\n",
       "      <th id=\"T_4ea77_level0_col0\" class=\"col_heading level0 col0\" >Accuracy</th>\n",
       "      <th id=\"T_4ea77_level0_col1\" class=\"col_heading level0 col1\" >AUC</th>\n",
       "      <th id=\"T_4ea77_level0_col2\" class=\"col_heading level0 col2\" >Recall</th>\n",
       "      <th id=\"T_4ea77_level0_col3\" class=\"col_heading level0 col3\" >Prec.</th>\n",
       "      <th id=\"T_4ea77_level0_col4\" class=\"col_heading level0 col4\" >F1</th>\n",
       "      <th id=\"T_4ea77_level0_col5\" class=\"col_heading level0 col5\" >Kappa</th>\n",
       "      <th id=\"T_4ea77_level0_col6\" class=\"col_heading level0 col6\" >MCC</th>\n",
       "    </tr>\n",
       "    <tr>\n",
       "      <th class=\"index_name level0\" >Fold</th>\n",
       "      <th class=\"blank col0\" >&nbsp;</th>\n",
       "      <th class=\"blank col1\" >&nbsp;</th>\n",
       "      <th class=\"blank col2\" >&nbsp;</th>\n",
       "      <th class=\"blank col3\" >&nbsp;</th>\n",
       "      <th class=\"blank col4\" >&nbsp;</th>\n",
       "      <th class=\"blank col5\" >&nbsp;</th>\n",
       "      <th class=\"blank col6\" >&nbsp;</th>\n",
       "    </tr>\n",
       "  </thead>\n",
       "  <tbody>\n",
       "    <tr>\n",
       "      <th id=\"T_4ea77_level0_row0\" class=\"row_heading level0 row0\" >0</th>\n",
       "      <td id=\"T_4ea77_row0_col0\" class=\"data row0 col0\" >0.9748</td>\n",
       "      <td id=\"T_4ea77_row0_col1\" class=\"data row0 col1\" >0.9912</td>\n",
       "      <td id=\"T_4ea77_row0_col2\" class=\"data row0 col2\" >1.0000</td>\n",
       "      <td id=\"T_4ea77_row0_col3\" class=\"data row0 col3\" >0.9744</td>\n",
       "      <td id=\"T_4ea77_row0_col4\" class=\"data row0 col4\" >0.9870</td>\n",
       "      <td id=\"T_4ea77_row0_col5\" class=\"data row0 col5\" >0.5609</td>\n",
       "      <td id=\"T_4ea77_row0_col6\" class=\"data row0 col6\" >0.6243</td>\n",
       "    </tr>\n",
       "    <tr>\n",
       "      <th id=\"T_4ea77_level0_row1\" class=\"row_heading level0 row1\" >1</th>\n",
       "      <td id=\"T_4ea77_row1_col0\" class=\"data row1 col0\" >0.9664</td>\n",
       "      <td id=\"T_4ea77_row1_col1\" class=\"data row1 col1\" >0.5982</td>\n",
       "      <td id=\"T_4ea77_row1_col2\" class=\"data row1 col2\" >1.0000</td>\n",
       "      <td id=\"T_4ea77_row1_col3\" class=\"data row1 col3\" >0.9661</td>\n",
       "      <td id=\"T_4ea77_row1_col4\" class=\"data row1 col4\" >0.9828</td>\n",
       "      <td id=\"T_4ea77_row1_col5\" class=\"data row1 col5\" >0.3239</td>\n",
       "      <td id=\"T_4ea77_row1_col6\" class=\"data row1 col6\" >0.4396</td>\n",
       "    </tr>\n",
       "    <tr>\n",
       "      <th id=\"T_4ea77_level0_row2\" class=\"row_heading level0 row2\" >2</th>\n",
       "      <td id=\"T_4ea77_row2_col0\" class=\"data row2 col0\" >0.9664</td>\n",
       "      <td id=\"T_4ea77_row2_col1\" class=\"data row2 col1\" >0.8491</td>\n",
       "      <td id=\"T_4ea77_row2_col2\" class=\"data row2 col2\" >1.0000</td>\n",
       "      <td id=\"T_4ea77_row2_col3\" class=\"data row2 col3\" >0.9661</td>\n",
       "      <td id=\"T_4ea77_row2_col4\" class=\"data row2 col4\" >0.9828</td>\n",
       "      <td id=\"T_4ea77_row2_col5\" class=\"data row2 col5\" >0.3239</td>\n",
       "      <td id=\"T_4ea77_row2_col6\" class=\"data row2 col6\" >0.4396</td>\n",
       "    </tr>\n",
       "    <tr>\n",
       "      <th id=\"T_4ea77_level0_row3\" class=\"row_heading level0 row3\" >3</th>\n",
       "      <td id=\"T_4ea77_row3_col0\" class=\"data row3 col0\" >0.9664</td>\n",
       "      <td id=\"T_4ea77_row3_col1\" class=\"data row3 col1\" >0.6754</td>\n",
       "      <td id=\"T_4ea77_row3_col2\" class=\"data row3 col2\" >1.0000</td>\n",
       "      <td id=\"T_4ea77_row3_col3\" class=\"data row3 col3\" >0.9661</td>\n",
       "      <td id=\"T_4ea77_row3_col4\" class=\"data row3 col4\" >0.9828</td>\n",
       "      <td id=\"T_4ea77_row3_col5\" class=\"data row3 col5\" >0.3239</td>\n",
       "      <td id=\"T_4ea77_row3_col6\" class=\"data row3 col6\" >0.4396</td>\n",
       "    </tr>\n",
       "    <tr>\n",
       "      <th id=\"T_4ea77_level0_row4\" class=\"row_heading level0 row4\" >4</th>\n",
       "      <td id=\"T_4ea77_row4_col0\" class=\"data row4 col0\" >0.9664</td>\n",
       "      <td id=\"T_4ea77_row4_col1\" class=\"data row4 col1\" >0.8230</td>\n",
       "      <td id=\"T_4ea77_row4_col2\" class=\"data row4 col2\" >1.0000</td>\n",
       "      <td id=\"T_4ea77_row4_col3\" class=\"data row4 col3\" >0.9658</td>\n",
       "      <td id=\"T_4ea77_row4_col4\" class=\"data row4 col4\" >0.9826</td>\n",
       "      <td id=\"T_4ea77_row4_col5\" class=\"data row4 col5\" >0.4871</td>\n",
       "      <td id=\"T_4ea77_row4_col6\" class=\"data row4 col6\" >0.5674</td>\n",
       "    </tr>\n",
       "    <tr>\n",
       "      <th id=\"T_4ea77_level0_row5\" class=\"row_heading level0 row5\" >Mean</th>\n",
       "      <td id=\"T_4ea77_row5_col0\" class=\"data row5 col0\" >0.9681</td>\n",
       "      <td id=\"T_4ea77_row5_col1\" class=\"data row5 col1\" >0.7874</td>\n",
       "      <td id=\"T_4ea77_row5_col2\" class=\"data row5 col2\" >1.0000</td>\n",
       "      <td id=\"T_4ea77_row5_col3\" class=\"data row5 col3\" >0.9677</td>\n",
       "      <td id=\"T_4ea77_row5_col4\" class=\"data row5 col4\" >0.9836</td>\n",
       "      <td id=\"T_4ea77_row5_col5\" class=\"data row5 col5\" >0.4039</td>\n",
       "      <td id=\"T_4ea77_row5_col6\" class=\"data row5 col6\" >0.5021</td>\n",
       "    </tr>\n",
       "    <tr>\n",
       "      <th id=\"T_4ea77_level0_row6\" class=\"row_heading level0 row6\" >Std</th>\n",
       "      <td id=\"T_4ea77_row6_col0\" class=\"data row6 col0\" >0.0034</td>\n",
       "      <td id=\"T_4ea77_row6_col1\" class=\"data row6 col1\" >0.1378</td>\n",
       "      <td id=\"T_4ea77_row6_col2\" class=\"data row6 col2\" >0.0000</td>\n",
       "      <td id=\"T_4ea77_row6_col3\" class=\"data row6 col3\" >0.0033</td>\n",
       "      <td id=\"T_4ea77_row6_col4\" class=\"data row6 col4\" >0.0017</td>\n",
       "      <td id=\"T_4ea77_row6_col5\" class=\"data row6 col5\" >0.1008</td>\n",
       "      <td id=\"T_4ea77_row6_col6\" class=\"data row6 col6\" >0.0786</td>\n",
       "    </tr>\n",
       "  </tbody>\n",
       "</table>\n"
      ],
      "text/plain": [
       "<pandas.io.formats.style.Styler at 0x7fd41a0fb290>"
      ]
     },
     "metadata": {},
     "output_type": "display_data"
    },
    {
     "data": {
      "text/html": [],
      "text/plain": [
       "<IPython.core.display.HTML object>"
      ]
     },
     "metadata": {},
     "output_type": "display_data"
    },
    {
     "name": "stdout",
     "output_type": "stream",
     "text": [
      "Tuning hyperparameters for model xgboost with custom grid\n"
     ]
    },
    {
     "data": {
      "text/html": [],
      "text/plain": [
       "<IPython.core.display.HTML object>"
      ]
     },
     "metadata": {},
     "output_type": "display_data"
    },
    {
     "data": {
      "text/html": [
       "<style type=\"text/css\">\n",
       "#T_abb9e_row5_col0, #T_abb9e_row5_col1, #T_abb9e_row5_col2, #T_abb9e_row5_col3, #T_abb9e_row5_col4, #T_abb9e_row5_col5, #T_abb9e_row5_col6 {\n",
       "  background: yellow;\n",
       "}\n",
       "</style>\n",
       "<table id=\"T_abb9e\">\n",
       "  <thead>\n",
       "    <tr>\n",
       "      <th class=\"blank level0\" >&nbsp;</th>\n",
       "      <th id=\"T_abb9e_level0_col0\" class=\"col_heading level0 col0\" >Accuracy</th>\n",
       "      <th id=\"T_abb9e_level0_col1\" class=\"col_heading level0 col1\" >AUC</th>\n",
       "      <th id=\"T_abb9e_level0_col2\" class=\"col_heading level0 col2\" >Recall</th>\n",
       "      <th id=\"T_abb9e_level0_col3\" class=\"col_heading level0 col3\" >Prec.</th>\n",
       "      <th id=\"T_abb9e_level0_col4\" class=\"col_heading level0 col4\" >F1</th>\n",
       "      <th id=\"T_abb9e_level0_col5\" class=\"col_heading level0 col5\" >Kappa</th>\n",
       "      <th id=\"T_abb9e_level0_col6\" class=\"col_heading level0 col6\" >MCC</th>\n",
       "    </tr>\n",
       "    <tr>\n",
       "      <th class=\"index_name level0\" >Fold</th>\n",
       "      <th class=\"blank col0\" >&nbsp;</th>\n",
       "      <th class=\"blank col1\" >&nbsp;</th>\n",
       "      <th class=\"blank col2\" >&nbsp;</th>\n",
       "      <th class=\"blank col3\" >&nbsp;</th>\n",
       "      <th class=\"blank col4\" >&nbsp;</th>\n",
       "      <th class=\"blank col5\" >&nbsp;</th>\n",
       "      <th class=\"blank col6\" >&nbsp;</th>\n",
       "    </tr>\n",
       "  </thead>\n",
       "  <tbody>\n",
       "    <tr>\n",
       "      <th id=\"T_abb9e_level0_row0\" class=\"row_heading level0 row0\" >0</th>\n",
       "      <td id=\"T_abb9e_row0_col0\" class=\"data row0 col0\" >0.9748</td>\n",
       "      <td id=\"T_abb9e_row0_col1\" class=\"data row0 col1\" >0.9912</td>\n",
       "      <td id=\"T_abb9e_row0_col2\" class=\"data row0 col2\" >1.0000</td>\n",
       "      <td id=\"T_abb9e_row0_col3\" class=\"data row0 col3\" >0.9744</td>\n",
       "      <td id=\"T_abb9e_row0_col4\" class=\"data row0 col4\" >0.9870</td>\n",
       "      <td id=\"T_abb9e_row0_col5\" class=\"data row0 col5\" >0.5609</td>\n",
       "      <td id=\"T_abb9e_row0_col6\" class=\"data row0 col6\" >0.6243</td>\n",
       "    </tr>\n",
       "    <tr>\n",
       "      <th id=\"T_abb9e_level0_row1\" class=\"row_heading level0 row1\" >1</th>\n",
       "      <td id=\"T_abb9e_row1_col0\" class=\"data row1 col0\" >0.9664</td>\n",
       "      <td id=\"T_abb9e_row1_col1\" class=\"data row1 col1\" >0.5982</td>\n",
       "      <td id=\"T_abb9e_row1_col2\" class=\"data row1 col2\" >1.0000</td>\n",
       "      <td id=\"T_abb9e_row1_col3\" class=\"data row1 col3\" >0.9661</td>\n",
       "      <td id=\"T_abb9e_row1_col4\" class=\"data row1 col4\" >0.9828</td>\n",
       "      <td id=\"T_abb9e_row1_col5\" class=\"data row1 col5\" >0.3239</td>\n",
       "      <td id=\"T_abb9e_row1_col6\" class=\"data row1 col6\" >0.4396</td>\n",
       "    </tr>\n",
       "    <tr>\n",
       "      <th id=\"T_abb9e_level0_row2\" class=\"row_heading level0 row2\" >2</th>\n",
       "      <td id=\"T_abb9e_row2_col0\" class=\"data row2 col0\" >0.9664</td>\n",
       "      <td id=\"T_abb9e_row2_col1\" class=\"data row2 col1\" >0.8491</td>\n",
       "      <td id=\"T_abb9e_row2_col2\" class=\"data row2 col2\" >1.0000</td>\n",
       "      <td id=\"T_abb9e_row2_col3\" class=\"data row2 col3\" >0.9661</td>\n",
       "      <td id=\"T_abb9e_row2_col4\" class=\"data row2 col4\" >0.9828</td>\n",
       "      <td id=\"T_abb9e_row2_col5\" class=\"data row2 col5\" >0.3239</td>\n",
       "      <td id=\"T_abb9e_row2_col6\" class=\"data row2 col6\" >0.4396</td>\n",
       "    </tr>\n",
       "    <tr>\n",
       "      <th id=\"T_abb9e_level0_row3\" class=\"row_heading level0 row3\" >3</th>\n",
       "      <td id=\"T_abb9e_row3_col0\" class=\"data row3 col0\" >0.9664</td>\n",
       "      <td id=\"T_abb9e_row3_col1\" class=\"data row3 col1\" >0.6754</td>\n",
       "      <td id=\"T_abb9e_row3_col2\" class=\"data row3 col2\" >1.0000</td>\n",
       "      <td id=\"T_abb9e_row3_col3\" class=\"data row3 col3\" >0.9661</td>\n",
       "      <td id=\"T_abb9e_row3_col4\" class=\"data row3 col4\" >0.9828</td>\n",
       "      <td id=\"T_abb9e_row3_col5\" class=\"data row3 col5\" >0.3239</td>\n",
       "      <td id=\"T_abb9e_row3_col6\" class=\"data row3 col6\" >0.4396</td>\n",
       "    </tr>\n",
       "    <tr>\n",
       "      <th id=\"T_abb9e_level0_row4\" class=\"row_heading level0 row4\" >4</th>\n",
       "      <td id=\"T_abb9e_row4_col0\" class=\"data row4 col0\" >0.9664</td>\n",
       "      <td id=\"T_abb9e_row4_col1\" class=\"data row4 col1\" >0.8230</td>\n",
       "      <td id=\"T_abb9e_row4_col2\" class=\"data row4 col2\" >1.0000</td>\n",
       "      <td id=\"T_abb9e_row4_col3\" class=\"data row4 col3\" >0.9658</td>\n",
       "      <td id=\"T_abb9e_row4_col4\" class=\"data row4 col4\" >0.9826</td>\n",
       "      <td id=\"T_abb9e_row4_col5\" class=\"data row4 col5\" >0.4871</td>\n",
       "      <td id=\"T_abb9e_row4_col6\" class=\"data row4 col6\" >0.5674</td>\n",
       "    </tr>\n",
       "    <tr>\n",
       "      <th id=\"T_abb9e_level0_row5\" class=\"row_heading level0 row5\" >Mean</th>\n",
       "      <td id=\"T_abb9e_row5_col0\" class=\"data row5 col0\" >0.9681</td>\n",
       "      <td id=\"T_abb9e_row5_col1\" class=\"data row5 col1\" >0.7874</td>\n",
       "      <td id=\"T_abb9e_row5_col2\" class=\"data row5 col2\" >1.0000</td>\n",
       "      <td id=\"T_abb9e_row5_col3\" class=\"data row5 col3\" >0.9677</td>\n",
       "      <td id=\"T_abb9e_row5_col4\" class=\"data row5 col4\" >0.9836</td>\n",
       "      <td id=\"T_abb9e_row5_col5\" class=\"data row5 col5\" >0.4039</td>\n",
       "      <td id=\"T_abb9e_row5_col6\" class=\"data row5 col6\" >0.5021</td>\n",
       "    </tr>\n",
       "    <tr>\n",
       "      <th id=\"T_abb9e_level0_row6\" class=\"row_heading level0 row6\" >Std</th>\n",
       "      <td id=\"T_abb9e_row6_col0\" class=\"data row6 col0\" >0.0034</td>\n",
       "      <td id=\"T_abb9e_row6_col1\" class=\"data row6 col1\" >0.1378</td>\n",
       "      <td id=\"T_abb9e_row6_col2\" class=\"data row6 col2\" >0.0000</td>\n",
       "      <td id=\"T_abb9e_row6_col3\" class=\"data row6 col3\" >0.0033</td>\n",
       "      <td id=\"T_abb9e_row6_col4\" class=\"data row6 col4\" >0.0017</td>\n",
       "      <td id=\"T_abb9e_row6_col5\" class=\"data row6 col5\" >0.1008</td>\n",
       "      <td id=\"T_abb9e_row6_col6\" class=\"data row6 col6\" >0.0786</td>\n",
       "    </tr>\n",
       "  </tbody>\n",
       "</table>\n"
      ],
      "text/plain": [
       "<pandas.io.formats.style.Styler at 0x7fd4346c0410>"
      ]
     },
     "metadata": {},
     "output_type": "display_data"
    },
    {
     "data": {
      "text/html": [],
      "text/plain": [
       "<IPython.core.display.HTML object>"
      ]
     },
     "metadata": {},
     "output_type": "display_data"
    },
    {
     "name": "stdout",
     "output_type": "stream",
     "text": [
      "Fitting 5 folds for each of 10 candidates, totalling 50 fits\n",
      "Original model was better than the tuned model, hence it will be returned. NOTE: The display metrics are for the tuned model (not the original one).\n",
      "Transformation Pipeline and Model Successfully Saved\n"
     ]
    },
    {
     "data": {
      "text/html": [
       "<style type=\"text/css\">\n",
       "</style>\n",
       "<table id=\"T_6ef49\">\n",
       "  <thead>\n",
       "    <tr>\n",
       "      <th class=\"blank level0\" >&nbsp;</th>\n",
       "      <th id=\"T_6ef49_level0_col0\" class=\"col_heading level0 col0\" >Model</th>\n",
       "      <th id=\"T_6ef49_level0_col1\" class=\"col_heading level0 col1\" >Accuracy</th>\n",
       "      <th id=\"T_6ef49_level0_col2\" class=\"col_heading level0 col2\" >AUC</th>\n",
       "      <th id=\"T_6ef49_level0_col3\" class=\"col_heading level0 col3\" >Recall</th>\n",
       "      <th id=\"T_6ef49_level0_col4\" class=\"col_heading level0 col4\" >Prec.</th>\n",
       "      <th id=\"T_6ef49_level0_col5\" class=\"col_heading level0 col5\" >F1</th>\n",
       "      <th id=\"T_6ef49_level0_col6\" class=\"col_heading level0 col6\" >Kappa</th>\n",
       "      <th id=\"T_6ef49_level0_col7\" class=\"col_heading level0 col7\" >MCC</th>\n",
       "    </tr>\n",
       "  </thead>\n",
       "  <tbody>\n",
       "    <tr>\n",
       "      <th id=\"T_6ef49_level0_row0\" class=\"row_heading level0 row0\" >0</th>\n",
       "      <td id=\"T_6ef49_row0_col0\" class=\"data row0 col0\" >Extreme Gradient Boosting</td>\n",
       "      <td id=\"T_6ef49_row0_col1\" class=\"data row0 col1\" >0.9570</td>\n",
       "      <td id=\"T_6ef49_row0_col2\" class=\"data row0 col2\" >0.8062</td>\n",
       "      <td id=\"T_6ef49_row0_col3\" class=\"data row0 col3\" >1.0000</td>\n",
       "      <td id=\"T_6ef49_row0_col4\" class=\"data row0 col4\" >0.9570</td>\n",
       "      <td id=\"T_6ef49_row0_col5\" class=\"data row0 col5\" >0.9780</td>\n",
       "      <td id=\"T_6ef49_row0_col6\" class=\"data row0 col6\" >0.0000</td>\n",
       "      <td id=\"T_6ef49_row0_col7\" class=\"data row0 col7\" >0.0000</td>\n",
       "    </tr>\n",
       "  </tbody>\n",
       "</table>\n"
      ],
      "text/plain": [
       "<pandas.io.formats.style.Styler at 0x7fd4233fa010>"
      ]
     },
     "metadata": {},
     "output_type": "display_data"
    },
    {
     "name": "stdout",
     "output_type": "stream",
     "text": [
      "Outer fold 5/5\n",
      "Configuring PyCaret for outer fold 5\n",
      "Creating model xgboost for outer fold 5\n"
     ]
    },
    {
     "data": {
      "text/html": [],
      "text/plain": [
       "<IPython.core.display.HTML object>"
      ]
     },
     "metadata": {},
     "output_type": "display_data"
    },
    {
     "data": {
      "text/html": [
       "<style type=\"text/css\">\n",
       "#T_3a5ef_row5_col0, #T_3a5ef_row5_col1, #T_3a5ef_row5_col2, #T_3a5ef_row5_col3, #T_3a5ef_row5_col4, #T_3a5ef_row5_col5, #T_3a5ef_row5_col6 {\n",
       "  background: yellow;\n",
       "}\n",
       "</style>\n",
       "<table id=\"T_3a5ef\">\n",
       "  <thead>\n",
       "    <tr>\n",
       "      <th class=\"blank level0\" >&nbsp;</th>\n",
       "      <th id=\"T_3a5ef_level0_col0\" class=\"col_heading level0 col0\" >Accuracy</th>\n",
       "      <th id=\"T_3a5ef_level0_col1\" class=\"col_heading level0 col1\" >AUC</th>\n",
       "      <th id=\"T_3a5ef_level0_col2\" class=\"col_heading level0 col2\" >Recall</th>\n",
       "      <th id=\"T_3a5ef_level0_col3\" class=\"col_heading level0 col3\" >Prec.</th>\n",
       "      <th id=\"T_3a5ef_level0_col4\" class=\"col_heading level0 col4\" >F1</th>\n",
       "      <th id=\"T_3a5ef_level0_col5\" class=\"col_heading level0 col5\" >Kappa</th>\n",
       "      <th id=\"T_3a5ef_level0_col6\" class=\"col_heading level0 col6\" >MCC</th>\n",
       "    </tr>\n",
       "    <tr>\n",
       "      <th class=\"index_name level0\" >Fold</th>\n",
       "      <th class=\"blank col0\" >&nbsp;</th>\n",
       "      <th class=\"blank col1\" >&nbsp;</th>\n",
       "      <th class=\"blank col2\" >&nbsp;</th>\n",
       "      <th class=\"blank col3\" >&nbsp;</th>\n",
       "      <th class=\"blank col4\" >&nbsp;</th>\n",
       "      <th class=\"blank col5\" >&nbsp;</th>\n",
       "      <th class=\"blank col6\" >&nbsp;</th>\n",
       "    </tr>\n",
       "  </thead>\n",
       "  <tbody>\n",
       "    <tr>\n",
       "      <th id=\"T_3a5ef_level0_row0\" class=\"row_heading level0 row0\" >0</th>\n",
       "      <td id=\"T_3a5ef_row0_col0\" class=\"data row0 col0\" >0.9664</td>\n",
       "      <td id=\"T_3a5ef_row0_col1\" class=\"data row0 col1\" >0.8263</td>\n",
       "      <td id=\"T_3a5ef_row0_col2\" class=\"data row0 col2\" >1.0000</td>\n",
       "      <td id=\"T_3a5ef_row0_col3\" class=\"data row0 col3\" >0.9661</td>\n",
       "      <td id=\"T_3a5ef_row0_col4\" class=\"data row0 col4\" >0.9828</td>\n",
       "      <td id=\"T_3a5ef_row0_col5\" class=\"data row0 col5\" >0.3239</td>\n",
       "      <td id=\"T_3a5ef_row0_col6\" class=\"data row0 col6\" >0.4396</td>\n",
       "    </tr>\n",
       "    <tr>\n",
       "      <th id=\"T_3a5ef_level0_row1\" class=\"row_heading level0 row1\" >1</th>\n",
       "      <td id=\"T_3a5ef_row1_col0\" class=\"data row1 col0\" >0.9664</td>\n",
       "      <td id=\"T_3a5ef_row1_col1\" class=\"data row1 col1\" >0.7684</td>\n",
       "      <td id=\"T_3a5ef_row1_col2\" class=\"data row1 col2\" >1.0000</td>\n",
       "      <td id=\"T_3a5ef_row1_col3\" class=\"data row1 col3\" >0.9661</td>\n",
       "      <td id=\"T_3a5ef_row1_col4\" class=\"data row1 col4\" >0.9828</td>\n",
       "      <td id=\"T_3a5ef_row1_col5\" class=\"data row1 col5\" >0.3239</td>\n",
       "      <td id=\"T_3a5ef_row1_col6\" class=\"data row1 col6\" >0.4396</td>\n",
       "    </tr>\n",
       "    <tr>\n",
       "      <th id=\"T_3a5ef_level0_row2\" class=\"row_heading level0 row2\" >2</th>\n",
       "      <td id=\"T_3a5ef_row2_col0\" class=\"data row2 col0\" >0.9664</td>\n",
       "      <td id=\"T_3a5ef_row2_col1\" class=\"data row2 col1\" >0.8368</td>\n",
       "      <td id=\"T_3a5ef_row2_col2\" class=\"data row2 col2\" >1.0000</td>\n",
       "      <td id=\"T_3a5ef_row2_col3\" class=\"data row2 col3\" >0.9661</td>\n",
       "      <td id=\"T_3a5ef_row2_col4\" class=\"data row2 col4\" >0.9828</td>\n",
       "      <td id=\"T_3a5ef_row2_col5\" class=\"data row2 col5\" >0.3239</td>\n",
       "      <td id=\"T_3a5ef_row2_col6\" class=\"data row2 col6\" >0.4396</td>\n",
       "    </tr>\n",
       "    <tr>\n",
       "      <th id=\"T_3a5ef_level0_row3\" class=\"row_heading level0 row3\" >3</th>\n",
       "      <td id=\"T_3a5ef_row3_col0\" class=\"data row3 col0\" >0.9580</td>\n",
       "      <td id=\"T_3a5ef_row3_col1\" class=\"data row3 col1\" >0.9070</td>\n",
       "      <td id=\"T_3a5ef_row3_col2\" class=\"data row3 col2\" >1.0000</td>\n",
       "      <td id=\"T_3a5ef_row3_col3\" class=\"data row3 col3\" >0.9580</td>\n",
       "      <td id=\"T_3a5ef_row3_col4\" class=\"data row3 col4\" >0.9785</td>\n",
       "      <td id=\"T_3a5ef_row3_col5\" class=\"data row3 col5\" >0.0000</td>\n",
       "      <td id=\"T_3a5ef_row3_col6\" class=\"data row3 col6\" >0.0000</td>\n",
       "    </tr>\n",
       "    <tr>\n",
       "      <th id=\"T_3a5ef_level0_row4\" class=\"row_heading level0 row4\" >4</th>\n",
       "      <td id=\"T_3a5ef_row4_col0\" class=\"data row4 col0\" >0.9580</td>\n",
       "      <td id=\"T_3a5ef_row4_col1\" class=\"data row4 col1\" >0.9307</td>\n",
       "      <td id=\"T_3a5ef_row4_col2\" class=\"data row4 col2\" >1.0000</td>\n",
       "      <td id=\"T_3a5ef_row4_col3\" class=\"data row4 col3\" >0.9576</td>\n",
       "      <td id=\"T_3a5ef_row4_col4\" class=\"data row4 col4\" >0.9784</td>\n",
       "      <td id=\"T_3a5ef_row4_col5\" class=\"data row4 col5\" >0.2753</td>\n",
       "      <td id=\"T_3a5ef_row4_col6\" class=\"data row4 col6\" >0.3995</td>\n",
       "    </tr>\n",
       "    <tr>\n",
       "      <th id=\"T_3a5ef_level0_row5\" class=\"row_heading level0 row5\" >Mean</th>\n",
       "      <td id=\"T_3a5ef_row5_col0\" class=\"data row5 col0\" >0.9630</td>\n",
       "      <td id=\"T_3a5ef_row5_col1\" class=\"data row5 col1\" >0.8539</td>\n",
       "      <td id=\"T_3a5ef_row5_col2\" class=\"data row5 col2\" >1.0000</td>\n",
       "      <td id=\"T_3a5ef_row5_col3\" class=\"data row5 col3\" >0.9628</td>\n",
       "      <td id=\"T_3a5ef_row5_col4\" class=\"data row5 col4\" >0.9810</td>\n",
       "      <td id=\"T_3a5ef_row5_col5\" class=\"data row5 col5\" >0.2494</td>\n",
       "      <td id=\"T_3a5ef_row5_col6\" class=\"data row5 col6\" >0.3436</td>\n",
       "    </tr>\n",
       "    <tr>\n",
       "      <th id=\"T_3a5ef_level0_row6\" class=\"row_heading level0 row6\" >Std</th>\n",
       "      <td id=\"T_3a5ef_row6_col0\" class=\"data row6 col0\" >0.0041</td>\n",
       "      <td id=\"T_3a5ef_row6_col1\" class=\"data row6 col1\" >0.0584</td>\n",
       "      <td id=\"T_3a5ef_row6_col2\" class=\"data row6 col2\" >0.0000</td>\n",
       "      <td id=\"T_3a5ef_row6_col3\" class=\"data row6 col3\" >0.0041</td>\n",
       "      <td id=\"T_3a5ef_row6_col4\" class=\"data row6 col4\" >0.0021</td>\n",
       "      <td id=\"T_3a5ef_row6_col5\" class=\"data row6 col5\" >0.1261</td>\n",
       "      <td id=\"T_3a5ef_row6_col6\" class=\"data row6 col6\" >0.1725</td>\n",
       "    </tr>\n",
       "  </tbody>\n",
       "</table>\n"
      ],
      "text/plain": [
       "<pandas.io.formats.style.Styler at 0x7fd412e158d0>"
      ]
     },
     "metadata": {},
     "output_type": "display_data"
    },
    {
     "data": {
      "text/html": [],
      "text/plain": [
       "<IPython.core.display.HTML object>"
      ]
     },
     "metadata": {},
     "output_type": "display_data"
    },
    {
     "name": "stdout",
     "output_type": "stream",
     "text": [
      "Tuning hyperparameters for model xgboost with custom grid\n"
     ]
    },
    {
     "data": {
      "text/html": [],
      "text/plain": [
       "<IPython.core.display.HTML object>"
      ]
     },
     "metadata": {},
     "output_type": "display_data"
    },
    {
     "data": {
      "text/html": [
       "<style type=\"text/css\">\n",
       "#T_8d1dd_row5_col0, #T_8d1dd_row5_col1, #T_8d1dd_row5_col2, #T_8d1dd_row5_col3, #T_8d1dd_row5_col4, #T_8d1dd_row5_col5, #T_8d1dd_row5_col6 {\n",
       "  background: yellow;\n",
       "}\n",
       "</style>\n",
       "<table id=\"T_8d1dd\">\n",
       "  <thead>\n",
       "    <tr>\n",
       "      <th class=\"blank level0\" >&nbsp;</th>\n",
       "      <th id=\"T_8d1dd_level0_col0\" class=\"col_heading level0 col0\" >Accuracy</th>\n",
       "      <th id=\"T_8d1dd_level0_col1\" class=\"col_heading level0 col1\" >AUC</th>\n",
       "      <th id=\"T_8d1dd_level0_col2\" class=\"col_heading level0 col2\" >Recall</th>\n",
       "      <th id=\"T_8d1dd_level0_col3\" class=\"col_heading level0 col3\" >Prec.</th>\n",
       "      <th id=\"T_8d1dd_level0_col4\" class=\"col_heading level0 col4\" >F1</th>\n",
       "      <th id=\"T_8d1dd_level0_col5\" class=\"col_heading level0 col5\" >Kappa</th>\n",
       "      <th id=\"T_8d1dd_level0_col6\" class=\"col_heading level0 col6\" >MCC</th>\n",
       "    </tr>\n",
       "    <tr>\n",
       "      <th class=\"index_name level0\" >Fold</th>\n",
       "      <th class=\"blank col0\" >&nbsp;</th>\n",
       "      <th class=\"blank col1\" >&nbsp;</th>\n",
       "      <th class=\"blank col2\" >&nbsp;</th>\n",
       "      <th class=\"blank col3\" >&nbsp;</th>\n",
       "      <th class=\"blank col4\" >&nbsp;</th>\n",
       "      <th class=\"blank col5\" >&nbsp;</th>\n",
       "      <th class=\"blank col6\" >&nbsp;</th>\n",
       "    </tr>\n",
       "  </thead>\n",
       "  <tbody>\n",
       "    <tr>\n",
       "      <th id=\"T_8d1dd_level0_row0\" class=\"row_heading level0 row0\" >0</th>\n",
       "      <td id=\"T_8d1dd_row0_col0\" class=\"data row0 col0\" >0.9664</td>\n",
       "      <td id=\"T_8d1dd_row0_col1\" class=\"data row0 col1\" >0.8070</td>\n",
       "      <td id=\"T_8d1dd_row0_col2\" class=\"data row0 col2\" >1.0000</td>\n",
       "      <td id=\"T_8d1dd_row0_col3\" class=\"data row0 col3\" >0.9661</td>\n",
       "      <td id=\"T_8d1dd_row0_col4\" class=\"data row0 col4\" >0.9828</td>\n",
       "      <td id=\"T_8d1dd_row0_col5\" class=\"data row0 col5\" >0.3239</td>\n",
       "      <td id=\"T_8d1dd_row0_col6\" class=\"data row0 col6\" >0.4396</td>\n",
       "    </tr>\n",
       "    <tr>\n",
       "      <th id=\"T_8d1dd_level0_row1\" class=\"row_heading level0 row1\" >1</th>\n",
       "      <td id=\"T_8d1dd_row1_col0\" class=\"data row1 col0\" >0.9664</td>\n",
       "      <td id=\"T_8d1dd_row1_col1\" class=\"data row1 col1\" >0.7404</td>\n",
       "      <td id=\"T_8d1dd_row1_col2\" class=\"data row1 col2\" >1.0000</td>\n",
       "      <td id=\"T_8d1dd_row1_col3\" class=\"data row1 col3\" >0.9661</td>\n",
       "      <td id=\"T_8d1dd_row1_col4\" class=\"data row1 col4\" >0.9828</td>\n",
       "      <td id=\"T_8d1dd_row1_col5\" class=\"data row1 col5\" >0.3239</td>\n",
       "      <td id=\"T_8d1dd_row1_col6\" class=\"data row1 col6\" >0.4396</td>\n",
       "    </tr>\n",
       "    <tr>\n",
       "      <th id=\"T_8d1dd_level0_row2\" class=\"row_heading level0 row2\" >2</th>\n",
       "      <td id=\"T_8d1dd_row2_col0\" class=\"data row2 col0\" >0.9664</td>\n",
       "      <td id=\"T_8d1dd_row2_col1\" class=\"data row2 col1\" >0.7947</td>\n",
       "      <td id=\"T_8d1dd_row2_col2\" class=\"data row2 col2\" >1.0000</td>\n",
       "      <td id=\"T_8d1dd_row2_col3\" class=\"data row2 col3\" >0.9661</td>\n",
       "      <td id=\"T_8d1dd_row2_col4\" class=\"data row2 col4\" >0.9828</td>\n",
       "      <td id=\"T_8d1dd_row2_col5\" class=\"data row2 col5\" >0.3239</td>\n",
       "      <td id=\"T_8d1dd_row2_col6\" class=\"data row2 col6\" >0.4396</td>\n",
       "    </tr>\n",
       "    <tr>\n",
       "      <th id=\"T_8d1dd_level0_row3\" class=\"row_heading level0 row3\" >3</th>\n",
       "      <td id=\"T_8d1dd_row3_col0\" class=\"data row3 col0\" >0.9664</td>\n",
       "      <td id=\"T_8d1dd_row3_col1\" class=\"data row3 col1\" >0.9351</td>\n",
       "      <td id=\"T_8d1dd_row3_col2\" class=\"data row3 col2\" >1.0000</td>\n",
       "      <td id=\"T_8d1dd_row3_col3\" class=\"data row3 col3\" >0.9661</td>\n",
       "      <td id=\"T_8d1dd_row3_col4\" class=\"data row3 col4\" >0.9828</td>\n",
       "      <td id=\"T_8d1dd_row3_col5\" class=\"data row3 col5\" >0.3239</td>\n",
       "      <td id=\"T_8d1dd_row3_col6\" class=\"data row3 col6\" >0.4396</td>\n",
       "    </tr>\n",
       "    <tr>\n",
       "      <th id=\"T_8d1dd_level0_row4\" class=\"row_heading level0 row4\" >4</th>\n",
       "      <td id=\"T_8d1dd_row4_col0\" class=\"data row4 col0\" >0.9664</td>\n",
       "      <td id=\"T_8d1dd_row4_col1\" class=\"data row4 col1\" >0.8909</td>\n",
       "      <td id=\"T_8d1dd_row4_col2\" class=\"data row4 col2\" >1.0000</td>\n",
       "      <td id=\"T_8d1dd_row4_col3\" class=\"data row4 col3\" >0.9658</td>\n",
       "      <td id=\"T_8d1dd_row4_col4\" class=\"data row4 col4\" >0.9826</td>\n",
       "      <td id=\"T_8d1dd_row4_col5\" class=\"data row4 col5\" >0.4871</td>\n",
       "      <td id=\"T_8d1dd_row4_col6\" class=\"data row4 col6\" >0.5674</td>\n",
       "    </tr>\n",
       "    <tr>\n",
       "      <th id=\"T_8d1dd_level0_row5\" class=\"row_heading level0 row5\" >Mean</th>\n",
       "      <td id=\"T_8d1dd_row5_col0\" class=\"data row5 col0\" >0.9664</td>\n",
       "      <td id=\"T_8d1dd_row5_col1\" class=\"data row5 col1\" >0.8336</td>\n",
       "      <td id=\"T_8d1dd_row5_col2\" class=\"data row5 col2\" >1.0000</td>\n",
       "      <td id=\"T_8d1dd_row5_col3\" class=\"data row5 col3\" >0.9660</td>\n",
       "      <td id=\"T_8d1dd_row5_col4\" class=\"data row5 col4\" >0.9827</td>\n",
       "      <td id=\"T_8d1dd_row5_col5\" class=\"data row5 col5\" >0.3565</td>\n",
       "      <td id=\"T_8d1dd_row5_col6\" class=\"data row5 col6\" >0.4651</td>\n",
       "    </tr>\n",
       "    <tr>\n",
       "      <th id=\"T_8d1dd_level0_row6\" class=\"row_heading level0 row6\" >Std</th>\n",
       "      <td id=\"T_8d1dd_row6_col0\" class=\"data row6 col0\" >0.0000</td>\n",
       "      <td id=\"T_8d1dd_row6_col1\" class=\"data row6 col1\" >0.0700</td>\n",
       "      <td id=\"T_8d1dd_row6_col2\" class=\"data row6 col2\" >0.0000</td>\n",
       "      <td id=\"T_8d1dd_row6_col3\" class=\"data row6 col3\" >0.0001</td>\n",
       "      <td id=\"T_8d1dd_row6_col4\" class=\"data row6 col4\" >0.0001</td>\n",
       "      <td id=\"T_8d1dd_row6_col5\" class=\"data row6 col5\" >0.0653</td>\n",
       "      <td id=\"T_8d1dd_row6_col6\" class=\"data row6 col6\" >0.0511</td>\n",
       "    </tr>\n",
       "  </tbody>\n",
       "</table>\n"
      ],
      "text/plain": [
       "<pandas.io.formats.style.Styler at 0x7fd4117d0b50>"
      ]
     },
     "metadata": {},
     "output_type": "display_data"
    },
    {
     "data": {
      "text/html": [],
      "text/plain": [
       "<IPython.core.display.HTML object>"
      ]
     },
     "metadata": {},
     "output_type": "display_data"
    },
    {
     "name": "stdout",
     "output_type": "stream",
     "text": [
      "Fitting 5 folds for each of 10 candidates, totalling 50 fits\n",
      "Transformation Pipeline and Model Successfully Saved\n"
     ]
    },
    {
     "data": {
      "text/html": [
       "<style type=\"text/css\">\n",
       "</style>\n",
       "<table id=\"T_0c7f6\">\n",
       "  <thead>\n",
       "    <tr>\n",
       "      <th class=\"blank level0\" >&nbsp;</th>\n",
       "      <th id=\"T_0c7f6_level0_col0\" class=\"col_heading level0 col0\" >Model</th>\n",
       "      <th id=\"T_0c7f6_level0_col1\" class=\"col_heading level0 col1\" >Accuracy</th>\n",
       "      <th id=\"T_0c7f6_level0_col2\" class=\"col_heading level0 col2\" >AUC</th>\n",
       "      <th id=\"T_0c7f6_level0_col3\" class=\"col_heading level0 col3\" >Recall</th>\n",
       "      <th id=\"T_0c7f6_level0_col4\" class=\"col_heading level0 col4\" >Prec.</th>\n",
       "      <th id=\"T_0c7f6_level0_col5\" class=\"col_heading level0 col5\" >F1</th>\n",
       "      <th id=\"T_0c7f6_level0_col6\" class=\"col_heading level0 col6\" >Kappa</th>\n",
       "      <th id=\"T_0c7f6_level0_col7\" class=\"col_heading level0 col7\" >MCC</th>\n",
       "    </tr>\n",
       "  </thead>\n",
       "  <tbody>\n",
       "    <tr>\n",
       "      <th id=\"T_0c7f6_level0_row0\" class=\"row_heading level0 row0\" >0</th>\n",
       "      <td id=\"T_0c7f6_row0_col0\" class=\"data row0 col0\" >Extreme Gradient Boosting</td>\n",
       "      <td id=\"T_0c7f6_row0_col1\" class=\"data row0 col1\" >0.9624</td>\n",
       "      <td id=\"T_0c7f6_row0_col2\" class=\"data row0 col2\" >0.8035</td>\n",
       "      <td id=\"T_0c7f6_row0_col3\" class=\"data row0 col3\" >1.0000</td>\n",
       "      <td id=\"T_0c7f6_row0_col4\" class=\"data row0 col4\" >0.9620</td>\n",
       "      <td id=\"T_0c7f6_row0_col5\" class=\"data row0 col5\" >0.9806</td>\n",
       "      <td id=\"T_0c7f6_row0_col6\" class=\"data row0 col6\" >0.3522</td>\n",
       "      <td id=\"T_0c7f6_row0_col7\" class=\"data row0 col7\" >0.4624</td>\n",
       "    </tr>\n",
       "  </tbody>\n",
       "</table>\n"
      ],
      "text/plain": [
       "<pandas.io.formats.style.Styler at 0x7fd421408890>"
      ]
     },
     "metadata": {},
     "output_type": "display_data"
    },
    {
     "name": "stdout",
     "output_type": "stream",
     "text": [
      "Final metrics table:\n",
      "     Metric     Mean   Std Dev\n",
      "0  Accuracy  0.96976  0.004601\n",
      "1       AUC  0.87298  0.094533\n",
      "2    Recall  1.00000  0.000000\n",
      "3     Prec.  0.96942  0.004546\n",
      "4        F1  0.98448  0.002300\n",
      "5     Kappa  0.41870  0.129810\n",
      "6       MCC  0.51348  0.101164\n"
     ]
    }
   ],
   "source": [
    "# Initialize the PyCaret Evaluator\n",
    "evaluator = PyCaretEvaluator(dataset=dataset, target=\"LungLesion\", experiment_name=\"CP_LungLesion\", filepath=\"./results/lunglesion\")\n",
    "\n",
    "# Model training and results evaluation\n",
    "evaluator.run_experiment(\n",
    "    train_size=0.8,\n",
    "    fold=5,\n",
    "    fold_strategy='stratifiedkfold',\n",
    "    outer_fold=5,\n",
    "    outer_strategy='stratifiedkfold',\n",
    "    session_id=42,\n",
    "    model='xgboost',\n",
    "    optimize='AUC',\n",
    "    custom_grid=grid_hps\n",
    ")"
   ]
  }
 ],
 "metadata": {
  "kernelspec": {
   "display_name": "Python (pycaret_env)",
   "language": "python",
   "name": "pycaret_env"
  },
  "language_info": {
   "codemirror_mode": {
    "name": "ipython",
    "version": 3
   },
   "file_extension": ".py",
   "mimetype": "text/x-python",
   "name": "python",
   "nbconvert_exporter": "python",
   "pygments_lexer": "ipython3",
   "version": "3.11.9"
  }
 },
 "nbformat": 4,
 "nbformat_minor": 5
}
