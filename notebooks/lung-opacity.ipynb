{
 "cells": [
  {
   "cell_type": "markdown",
   "id": "c4139f23",
   "metadata": {},
   "source": [
    "# Pathology prediction (Lung opacity)\n",
    "\n",
    "\n",
    "@References : Soenksen, L.R., Ma, Y., Zeng, C. et al. Integrated multimodal artificial intelligence framework for healthcare applications. npj Digit. Med. 5, 149 (2022). https://doi.org/10.1038/s41746-022-00689-4\n",
    "\n",
    "In this notebook, the task is to predict the lung opacity pathology using the CSV embeddings file"
   ]
  },
  {
   "cell_type": "markdown",
   "id": "8e9e247e",
   "metadata": {},
   "source": [
    "## Introduction\n"
   ]
  },
  {
   "attachments": {},
   "cell_type": "markdown",
   "id": "321d5924",
   "metadata": {},
   "source": [
    "Radiology notes were processed to determine if each of the pathologies was explicitly confirmed as present (value = 1), explicitly confirmed as absent (value = 0), inconclusive in the study (value = −1), or not explored (no value).\n",
    "\n",
    "Selected samples :  0 or 1 values (removing the rest from the training and testing data).\n",
    "\n",
    "Excluded variables : the unstructured radiology notes component (E_rad ) from the allowable input to avoid potential overfitting or misrepresentations of real predictive value. \n",
    "\n",
    "The model is based on binary classification for each target chest pathology.\n",
    "\n",
    "Final sample size for the Lung opacity pathology is : (N = 14,136)\n",
    "\n"
   ]
  },
  {
   "cell_type": "markdown",
   "id": "59600fd4",
   "metadata": {},
   "source": [
    "#### Imports"
   ]
  },
  {
   "cell_type": "code",
   "execution_count": 1,
   "id": "2d0990d5",
   "metadata": {},
   "outputs": [],
   "source": [
    "import os\n",
    "os.chdir('../')\n",
    "\n",
    "from pandas import read_csv\n",
    "\n",
    "from src.data import constants\n",
    "from src.data.dataset import HAIMDataset\n",
    "from src.evaluation.pycaret_evaluator import PyCaretEvaluator\n",
    "from src.utils.metric_scores import *"
   ]
  },
  {
   "cell_type": "markdown",
   "id": "645a1fe8",
   "metadata": {},
   "source": [
    "#### Read data from local source\n",
    "\n"
   ]
  },
  {
   "cell_type": "code",
   "execution_count": 2,
   "id": "a948c18c",
   "metadata": {},
   "outputs": [],
   "source": [
    "df = read_csv(constants.FILE_DF, nrows=constants.N_DATA)"
   ]
  },
  {
   "cell_type": "markdown",
   "id": "90a95053",
   "metadata": {},
   "source": [
    "#### Create a custom dataset for the HAIM experiment\n"
   ]
  },
  {
   "cell_type": "markdown",
   "id": "a47ba159",
   "metadata": {},
   "source": [
    "Build the target column for the task at hand, set the dataset specificities:  the ``haim_id`` as a ``global_id``, use all sources except ``radiology notes`` "
   ]
  },
  {
   "cell_type": "code",
   "execution_count": 3,
   "id": "239db8a3",
   "metadata": {},
   "outputs": [],
   "source": [
    "dataset = HAIMDataset(df,  \n",
    "                      constants.CHEST_PREDICTORS, \n",
    "                      constants.ALL_MODALITIES, \n",
    "                      constants.LUNG_OPACITY, \n",
    "                      constants.IMG_ID, \n",
    "                      constants.GLOBAL_ID)"
   ]
  },
  {
   "cell_type": "markdown",
   "id": "e280f91d",
   "metadata": {},
   "source": [
    "#### Set hyper-parameters"
   ]
  },
  {
   "cell_type": "code",
   "execution_count": 4,
   "id": "8d254fef",
   "metadata": {},
   "outputs": [],
   "source": [
    "# Define the grid oh hyper-parameters for the tuning\n",
    "grid_hps = {'max_depth': [5, 6, 7, 8],\n",
    "            'n_estimators': [200, 300],\n",
    "            'learning_rate': [0.3, 0.1, 0.05],\n",
    "            }"
   ]
  },
  {
   "cell_type": "markdown",
   "id": "75fd10ab",
   "metadata": {},
   "source": [
    "### Model training and predictions using an XGBClassifier model with GridSearchCV and Hyperparameters optimization\n"
   ]
  },
  {
   "cell_type": "markdown",
   "id": "d04a4c63",
   "metadata": {},
   "source": [
    "The goal of this section of the notebook is to compute the following metrics:\n",
    "\n",
    "``ACCURACY_SCORE, BALANCED_ACCURACY_SCORE, SENSITIVITY, SPECIFICITY, AUC, BRIER SCORE, BINARY CROSS-ENTROPY``\n",
    "\n",
    "\n",
    "The\n",
    "hyperparameter combinations of individual XGBoost models were\n",
    "selected within each training loop using a ``fivefold cross-validated\n",
    "grid search`` on the training set (80%). This XGBoost ``tuning process``\n",
    "selected the ``maximum depth of the trees (5–8)``, the number of\n",
    "``estimators (200 or 300)``, and the ``learning rate (0.05, 0.1, 0.3)``\n",
    "according to the parameter value combination leading to the\n",
    "highest observed AUROC within the training loop \n",
    "\n",
    "\n",
    "As mentioned previously, all XGBoost models were trained ``five times with five different data splits`` to repeat the\n",
    "experiments and compute average metrics \n",
    "\n",
    "\n",
    "```Refer to page 8 of study``` : https://doi.org/10.1038/s41746-022-00689-4"
   ]
  },
  {
   "cell_type": "code",
   "execution_count": 5,
   "id": "726c2332",
   "metadata": {},
   "outputs": [
    {
     "name": "stderr",
     "output_type": "stream",
     "text": [
      "2024-10-02 10:30:37,949\tINFO worker.py:1777 -- Started a local Ray instance. View the dashboard at \u001b[1m\u001b[32mhttp://127.0.0.1:8265 \u001b[39m\u001b[22m\n"
     ]
    },
    {
     "name": "stdout",
     "output_type": "stream",
     "text": [
      "\u001b[36m(run_fold pid=289341)\u001b[0m Outer fold 1\n",
      "\u001b[36m(run_fold pid=289351)\u001b[0m Configuring PyCaret for outer fold 3\n",
      "\u001b[36m(run_fold pid=289351)\u001b[0m Outer fold 3\u001b[32m [repeated 2x across cluster] (Ray deduplicates logs by default. Set RAY_DEDUP_LOGS=0 to disable log deduplication, or see https://docs.ray.io/en/master/ray-observability/user-guides/configure-logging.html#log-deduplication for more options.)\u001b[0m\n"
     ]
    },
    {
     "name": "stderr",
     "output_type": "stream",
     "text": [
      "Processing:   0%|          | 0/4 [00:00<?, ?it/s]\n",
      "Processing:  25%|██▌       | 1/4 [00:01<00:03,  1.16s/it]\n",
      "Processing:   0%|          | 0/4 [00:00<?, ?it/s]\u001b[32m [repeated 2x across cluster]\u001b[0m\n",
      "Processing:  75%|███████▌  | 3/4 [04:22<01:37, 97.12s/it]\u001b[32m [repeated 3x across cluster]\u001b[0m\n"
     ]
    },
    {
     "name": "stdout",
     "output_type": "stream",
     "text": [
      "\u001b[36m(run_fold pid=289351)\u001b[0m       Accuracy     AUC  Recall   Prec.      F1   Kappa     MCC\n",
      "\u001b[36m(run_fold pid=289351)\u001b[0m Fold                                                          \n",
      "\u001b[36m(run_fold pid=289351)\u001b[0m 0       0.9718  0.8716  0.9994  0.9721  0.9855  0.4294  0.5134\n",
      "\u001b[36m(run_fold pid=289351)\u001b[0m 1       0.9685  0.8389  0.9988  0.9693  0.9838  0.3763  0.4619\n",
      "\u001b[36m(run_fold pid=289351)\u001b[0m 2       0.9701  0.7959  0.9988  0.9709  0.9847  0.4023  0.4830\n",
      "\u001b[36m(run_fold pid=289351)\u001b[0m 3       0.9807  0.8101  1.0000  0.9805  0.9901  0.4996  0.5770\n",
      "\u001b[36m(run_fold pid=289351)\u001b[0m 4       0.9751  0.8785  0.9994  0.9754  0.9873  0.4215  0.5058\n",
      "\u001b[36m(run_fold pid=289351)\u001b[0m Mean    0.9733  0.8390  0.9993  0.9736  0.9863  0.4258  0.5082\n",
      "\u001b[36m(run_fold pid=289351)\u001b[0m Std     0.0043  0.0326  0.0004  0.0040  0.0022  0.0412  0.0389\n",
      "\u001b[36m(run_fold pid=289332)\u001b[0m Configuring PyCaret for outer fold 2\u001b[32m [repeated 2x across cluster]\u001b[0m\n",
      "\u001b[36m(run_fold pid=289351)\u001b[0m Tuning hyperparameters for model xgboost with custom grid using grid search\n"
     ]
    },
    {
     "name": "stderr",
     "output_type": "stream",
     "text": [
      "                                                         \n",
      "Processing:  75%|███████▌  | 3/4 [04:24<01:37, 97.68s/it]\u001b[32m [repeated 2x across cluster]\u001b[0m\n"
     ]
    },
    {
     "name": "stdout",
     "output_type": "stream",
     "text": [
      "\u001b[36m(run_fold pid=289341)\u001b[0m 0       0.9740  0.8263  0.9983  0.9753  0.9867  0.4945  0.5509\n",
      "\u001b[36m(run_fold pid=289341)\u001b[0m 1       0.9701  0.8035  1.0000  0.9698  0.9847  0.4031  0.5024\n",
      "\u001b[36m(run_fold pid=289341)\u001b[0m 2       0.9707  0.7984  1.0000  0.9704  0.9850  0.3949  0.4960\n",
      "\u001b[36m(run_fold pid=289341)\u001b[0m 3       0.9807  0.7942  1.0000  0.9805  0.9901  0.4996  0.5770\n",
      "\u001b[36m(run_fold pid=289341)\u001b[0m 4       0.9768  0.8552  1.0000  0.9765  0.9881  0.4665  0.5515\n",
      "\u001b[36m(run_fold pid=289332)\u001b[0m 0       0.9729  0.8507  1.0000  0.9726  0.9861  0.4274  0.5213\n",
      "\u001b[36m(run_fold pid=289332)\u001b[0m 1       0.9663  0.8095  1.0000  0.9661  0.9827  0.2741  0.3985\n",
      "\u001b[36m(run_fold pid=289332)\u001b[0m 2       0.9679  0.7880  1.0000  0.9677  0.9836  0.3010  0.4209\n",
      "\u001b[36m(run_fold pid=289332)\u001b[0m 3       0.9779  0.8334  0.9994  0.9783  0.9887  0.4041  0.4902\n",
      "\u001b[36m(run_fold pid=289332)\u001b[0m 4       0.9751  0.7801  1.0000  0.9749  0.9873  0.3919  0.4937\n",
      "\u001b[36m(run_fold pid=289351)\u001b[0m Transformation Pipeline and Model Successfully Saved\n",
      "\u001b[36m(run_fold pid=289332)\u001b[0m       Accuracy     AUC  Recall   Prec.      F1   Kappa     MCC\u001b[32m [repeated 2x across cluster]\u001b[0m\n",
      "\u001b[36m(run_fold pid=289332)\u001b[0m Fold                                                          \u001b[32m [repeated 2x across cluster]\u001b[0m\n",
      "\u001b[36m(run_fold pid=289332)\u001b[0m Mean    0.9720  0.8123  0.9999  0.9719  0.9857  0.3597  0.4649\u001b[32m [repeated 2x across cluster]\u001b[0m\n",
      "\u001b[36m(run_fold pid=289332)\u001b[0m Std     0.0043  0.0267  0.0002  0.0045  0.0022  0.0606  0.0469\u001b[32m [repeated 2x across cluster]\u001b[0m\n",
      "\u001b[36m(run_fold pid=289332)\u001b[0m Tuning hyperparameters for model xgboost with custom grid using grid search\u001b[32m [repeated 2x across cluster]\u001b[0m\n",
      "\u001b[36m(run_fold pid=289351)\u001b[0m                        Model  Accuracy     AUC  ...      F1   Kappa     MCC\n",
      "\u001b[36m(run_fold pid=289351)\u001b[0m 0  Extreme Gradient Boosting    0.9749  0.8544  ...  0.9872  0.3851  0.4883\n",
      "\u001b[36m(run_fold pid=289351)\u001b[0m \n",
      "\u001b[36m(run_fold pid=289351)\u001b[0m [1 rows x 8 columns]\n",
      "\u001b[36m(run_fold pid=289351)\u001b[0m Outer fold 4\n",
      "\u001b[36m(run_fold pid=289351)\u001b[0m Configuring PyCaret for outer fold 4\n"
     ]
    },
    {
     "name": "stderr",
     "output_type": "stream",
     "text": [
      "Processing:   0%|          | 0/4 [00:00<?, ?it/s]\n",
      "                                                         \u001b[32m [repeated 2x across cluster]\u001b[0m\n",
      "Processing:  25%|██▌       | 1/4 [00:01<00:03,  1.09s/it]\n",
      "Processing:  75%|███████▌  | 3/4 [04:29<01:39, 99.72s/it]\n"
     ]
    },
    {
     "name": "stdout",
     "output_type": "stream",
     "text": [
      "\u001b[36m(run_fold pid=289351)\u001b[0m       Accuracy     AUC  Recall   Prec.      F1   Kappa     MCC\n",
      "\u001b[36m(run_fold pid=289351)\u001b[0m Fold                                                          \n",
      "\u001b[36m(run_fold pid=289351)\u001b[0m 0       0.9751  0.8365  1.0000  0.9748  0.9873  0.4850  0.5658\n",
      "\u001b[36m(run_fold pid=289351)\u001b[0m 1       0.9751  0.8507  1.0000  0.9748  0.9872  0.5354  0.6046\n",
      "\u001b[36m(run_fold pid=289351)\u001b[0m 2       0.9713  0.8627  0.9988  0.9720  0.9853  0.4241  0.5007\n",
      "\u001b[36m(run_fold pid=289351)\u001b[0m 3       0.9790  0.8569  1.0000  0.9788  0.9893  0.4339  0.5263\n",
      "\u001b[36m(run_fold pid=289351)\u001b[0m 4       0.9746  0.8181  0.9983  0.9760  0.9870  0.3854  0.4560\n",
      "\u001b[36m(run_fold pid=289351)\u001b[0m Mean    0.9750  0.8450  0.9994  0.9753  0.9872  0.4527  0.5307\n",
      "\u001b[36m(run_fold pid=289351)\u001b[0m Std     0.0025  0.0160  0.0007  0.0022  0.0013  0.0521  0.0514\n",
      "\u001b[36m(run_fold pid=289351)\u001b[0m Tuning hyperparameters for model xgboost with custom grid using grid search\n"
     ]
    },
    {
     "name": "stderr",
     "output_type": "stream",
     "text": [
      "                                                         \n"
     ]
    },
    {
     "name": "stdout",
     "output_type": "stream",
     "text": [
      "\u001b[36m(run_fold pid=289332)\u001b[0m Transformation Pipeline and Model Successfully Saved\n",
      "\u001b[36m(run_fold pid=289332)\u001b[0m                        Model  Accuracy     AUC  ...      F1   Kappa     MCC\n",
      "\u001b[36m(run_fold pid=289332)\u001b[0m 0  Extreme Gradient Boosting    0.9784  0.8641  ...  0.9889  0.5458  0.6076\n",
      "\u001b[36m(run_fold pid=289332)\u001b[0m \n",
      "\u001b[36m(run_fold pid=289332)\u001b[0m [1 rows x 8 columns]\n",
      "\u001b[36m(run_fold pid=289332)\u001b[0m Outer fold 5\n"
     ]
    },
    {
     "name": "stderr",
     "output_type": "stream",
     "text": [
      "Processing:   0%|          | 0/4 [00:00<?, ?it/s]\n"
     ]
    },
    {
     "name": "stdout",
     "output_type": "stream",
     "text": [
      "\u001b[36m(run_fold pid=289332)\u001b[0m Configuring PyCaret for outer fold 5\n"
     ]
    },
    {
     "name": "stderr",
     "output_type": "stream",
     "text": [
      "Processing:  25%|██▌       | 1/4 [00:01<00:03,  1.06s/it]\n",
      "Processing:  75%|███████▌  | 3/4 [04:15<01:34, 94.49s/it]\n",
      "                                                         \n"
     ]
    },
    {
     "name": "stdout",
     "output_type": "stream",
     "text": [
      "\u001b[36m(run_fold pid=289332)\u001b[0m       Accuracy     AUC  Recall   Prec.      F1   Kappa     MCC\n",
      "\u001b[36m(run_fold pid=289332)\u001b[0m Fold                                                          \n",
      "\u001b[36m(run_fold pid=289332)\u001b[0m 0       0.9724  0.8050  1.0000  0.9721  0.9859  0.3957  0.4966\n",
      "\u001b[36m(run_fold pid=289332)\u001b[0m 1       0.9724  0.8414  1.0000  0.9721  0.9858  0.4466  0.5362\n",
      "\u001b[36m(run_fold pid=289332)\u001b[0m 2       0.9701  0.8477  1.0000  0.9699  0.9847  0.3483  0.4592\n",
      "\u001b[36m(run_fold pid=289332)\u001b[0m 3       0.9779  0.8070  0.9994  0.9783  0.9887  0.3865  0.4756\n",
      "\u001b[36m(run_fold pid=289332)\u001b[0m 4       0.9751  0.8065  0.9994  0.9755  0.9873  0.3210  0.4218\n",
      "\u001b[36m(run_fold pid=289332)\u001b[0m Mean    0.9736  0.8215  0.9998  0.9736  0.9865  0.3796  0.4779\n",
      "\u001b[36m(run_fold pid=289332)\u001b[0m Std     0.0027  0.0189  0.0003  0.0030  0.0014  0.0429  0.0381\n",
      "\u001b[36m(run_fold pid=289332)\u001b[0m Tuning hyperparameters for model xgboost with custom grid using grid search\n",
      "\u001b[36m(run_fold pid=289341)\u001b[0m Transformation Pipeline and Model Successfully Saved\n",
      "\u001b[36m(run_fold pid=289341)\u001b[0m                        Model  Accuracy     AUC  ...     F1   Kappa     MCC\n",
      "\u001b[36m(run_fold pid=289341)\u001b[0m 0  Extreme Gradient Boosting    0.9745  0.8832  ...  0.987  0.3917  0.4935\n",
      "\u001b[36m(run_fold pid=289341)\u001b[0m \n",
      "\u001b[36m(run_fold pid=289341)\u001b[0m [1 rows x 8 columns]\n",
      "\u001b[36m(run_fold pid=289332)\u001b[0m Transformation Pipeline and Model Successfully Saved\n",
      "\u001b[36m(run_fold pid=289332)\u001b[0m                        Model  Accuracy     AUC  ...      F1   Kappa     MCC\n",
      "\u001b[36m(run_fold pid=289332)\u001b[0m 0  Extreme Gradient Boosting    0.9724  0.8321  ...  0.9858  0.4557  0.5432\n",
      "\u001b[36m(run_fold pid=289332)\u001b[0m \n",
      "\u001b[36m(run_fold pid=289332)\u001b[0m [1 rows x 8 columns]\n",
      "\u001b[36m(run_fold pid=289351)\u001b[0m Transformation Pipeline and Model Successfully Saved\n",
      "\u001b[36m(run_fold pid=289351)\u001b[0m                        Model  Accuracy     AUC  ...      F1  Kappa    MCC\n",
      "\u001b[36m(run_fold pid=289351)\u001b[0m 0  Extreme Gradient Boosting    0.9724  0.8465  ...  0.9859  0.391  0.493\n",
      "\u001b[36m(run_fold pid=289351)\u001b[0m \n",
      "\u001b[36m(run_fold pid=289351)\u001b[0m [1 rows x 8 columns]\n",
      "Final metrics table:\n",
      "     Metric     Mean   Std Dev\n",
      "0  Accuracy  0.97282  0.001687\n",
      "1       AUC  0.85898  0.021586\n",
      "2    Recall  0.99966  0.000498\n",
      "3     Prec.  0.97284  0.001358\n",
      "4        F1  0.98608  0.000850\n",
      "5     Kappa  0.43024  0.046487\n",
      "6       MCC  0.51752  0.040894\n"
     ]
    }
   ],
   "source": [
    "# Initialize the PyCaret Evaluator\n",
    "evaluator = PyCaretEvaluator(dataset=dataset, target=\"LungOpacity\", experiment_name=\"CP_LungOpacity\", filepath=\"./results/lungopacity\")\n",
    "\n",
    "# Model training and results evaluation\n",
    "evaluator.run_experiment(\n",
    "    train_size=0.8,\n",
    "    fold=5,\n",
    "    fold_strategy='kfold',\n",
    "    outer_fold=5,\n",
    "    outer_strategy='kfold',\n",
    "    session_id=42,\n",
    "    model='xgboost',\n",
    "    optimize='AUC',\n",
    "    custom_grid=grid_hps\n",
    ")"
   ]
  }
 ],
 "metadata": {
  "kernelspec": {
   "display_name": "Python (pycaret_env)",
   "language": "python",
   "name": "pycaret_env"
  },
  "language_info": {
   "codemirror_mode": {
    "name": "ipython",
    "version": 3
   },
   "file_extension": ".py",
   "mimetype": "text/x-python",
   "name": "python",
   "nbconvert_exporter": "python",
   "pygments_lexer": "ipython3",
   "version": "3.11.9"
  }
 },
 "nbformat": 4,
 "nbformat_minor": 5
}
