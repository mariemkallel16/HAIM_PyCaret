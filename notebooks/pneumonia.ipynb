{
 "cells": [
  {
   "cell_type": "markdown",
   "id": "c4139f23",
   "metadata": {},
   "source": [
    "# Pathology prediction (PNEUMONIA)\n",
    "\n",
    "\n",
    "@References : Soenksen, L.R., Ma, Y., Zeng, C. et al. Integrated multimodal artificial intelligence framework for healthcare applications. npj Digit. Med. 5, 149 (2022). https://doi.org/10.1038/s41746-022-00689-4\n",
    "\n",
    "In this notebook, the task is to predict the pneumonia pathology using the CSV embeddings file"
   ]
  },
  {
   "cell_type": "markdown",
   "id": "8e9e247e",
   "metadata": {},
   "source": [
    "## Introduction\n"
   ]
  },
  {
   "cell_type": "markdown",
   "id": "321d5924",
   "metadata": {},
   "source": [
    "Radiology notes were processed to determine if each of the pathologies was explicitly confirmed as present (value = 1), explicitly confirmed as absent (value = 0), inconclusive in the study (value = −1), or not explored (no value).\n",
    "\n",
    "Selected samples :  0 or 1 values (removing the rest from the training and testing data).\n",
    "\n",
    "Excluded variables : the unstructured radiology notes component (E_rad ) from the allowable input to avoid potential overfitting or misrepresentations of real predictive value. \n",
    "\n",
    "The model is based on binary classification for each target chest pathology.\n",
    "\n",
    "Final sample size for the Pneumonia pathology is : (N =  7225)"
   ]
  },
  {
   "cell_type": "markdown",
   "id": "59600fd4",
   "metadata": {},
   "source": [
    "#### Imports"
   ]
  },
  {
   "cell_type": "code",
   "execution_count": 1,
   "id": "2d0990d5",
   "metadata": {},
   "outputs": [],
   "source": [
    "import os\n",
    "os.chdir('../')\n",
    "\n",
    "from pandas import read_csv\n",
    "\n",
    "from src.data import constants\n",
    "from src.data.dataset import HAIMDataset\n",
    "from src.evaluation.pycaret_evaluator import PyCaretEvaluator\n",
    "from src.utils.metric_scores import *"
   ]
  },
  {
   "cell_type": "markdown",
   "id": "645a1fe8",
   "metadata": {},
   "source": [
    "#### Read data from local source\n",
    "\n"
   ]
  },
  {
   "cell_type": "code",
   "execution_count": 2,
   "id": "a948c18c",
   "metadata": {},
   "outputs": [],
   "source": [
    "df = read_csv(constants.FILE_DF, nrows=constants.N_DATA)\n"
   ]
  },
  {
   "cell_type": "markdown",
   "id": "90a95053",
   "metadata": {},
   "source": [
    "#### Create a custom dataset for the HAIM experiment\n"
   ]
  },
  {
   "cell_type": "markdown",
   "id": "a47ba159",
   "metadata": {},
   "source": [
    "Build the target column for the task at hand, set the dataset specificities:  the ``haim_id`` as a ``global_id``, use all sources except ``radiology notes`` "
   ]
  },
  {
   "cell_type": "code",
   "execution_count": 3,
   "id": "239db8a3",
   "metadata": {},
   "outputs": [],
   "source": [
    "dataset = HAIMDataset(df,  \n",
    "                      constants.CHEST_PREDICTORS, \n",
    "                      constants.ALL_MODALITIES, \n",
    "                      constants.PNEUMONIA,\n",
    "                      constants.IMG_ID, \n",
    "                      constants.GLOBAL_ID)"
   ]
  },
  {
   "cell_type": "markdown",
   "id": "e280f91d",
   "metadata": {},
   "source": [
    "#### Set hyper-parameters"
   ]
  },
  {
   "cell_type": "code",
   "execution_count": 4,
   "id": "8d254fef",
   "metadata": {},
   "outputs": [],
   "source": [
    "# Define the grid oh hyper-parameters for the tuning\n",
    "grid_hps = {'max_depth': [5, 6, 7, 8],\n",
    "            'n_estimators': [200, 300],\n",
    "            'learning_rate': [0.3, 0.1, 0.05],\n",
    "            }"
   ]
  },
  {
   "cell_type": "markdown",
   "id": "75fd10ab",
   "metadata": {},
   "source": [
    "### Model training and predictions using an XGBClassifier model with GridSearchCV and Hyperparameters optimization\n"
   ]
  },
  {
   "cell_type": "markdown",
   "id": "d04a4c63",
   "metadata": {},
   "source": [
    "The goal of this section of the notebook is to compute the following metrics:\n",
    "\n",
    "``ACCURACY_SCORE, BALANCED_ACCURACY_SCORE, SENSITIVITY, SPECIFICITY, AUC, BRIER SCORE, BINARY CROSS-ENTROPY``\n",
    "\n",
    "\n",
    "The\n",
    "hyperparameter combinations of individual XGBoost models were\n",
    "selected within each training loop using a ``fivefold cross-validated\n",
    "grid search`` on the training set (80%). This XGBoost ``tuning process``\n",
    "selected the ``maximum depth of the trees (5–8)``, the number of\n",
    "``estimators (200 or 300)``, and the ``learning rate (0.05, 0.1, 0.3)``\n",
    "according to the parameter value combination leading to the\n",
    "highest observed AUROC within the training loop \n",
    "\n",
    "\n",
    "As mentioned previously, all XGBoost models were trained ``five times with five different data splits`` to repeat the\n",
    "experiments and compute average metrics \n",
    "\n",
    "\n",
    "```Refer to page 8 of study``` : https://doi.org/10.1038/s41746-022-00689-4"
   ]
  },
  {
   "cell_type": "code",
   "execution_count": 5,
   "id": "726c2332",
   "metadata": {},
   "outputs": [
    {
     "name": "stderr",
     "output_type": "stream",
     "text": [
      "2024-09-27 17:42:40,522\tINFO worker.py:1777 -- Started a local Ray instance. View the dashboard at \u001b[1m\u001b[32mhttp://127.0.0.1:8265 \u001b[39m\u001b[22m\n"
     ]
    },
    {
     "name": "stdout",
     "output_type": "stream",
     "text": [
      "\u001b[36m(run_fold pid=678263)\u001b[0m Outer fold 1\n",
      "\u001b[36m(run_fold pid=678263)\u001b[0m Configuring PyCaret for outer fold 1\n",
      "\u001b[36m(run_fold pid=678258)\u001b[0m Outer fold 2\n"
     ]
    },
    {
     "name": "stderr",
     "output_type": "stream",
     "text": [
      "Processing:   0%|          | 0/4 [00:00<?, ?it/s]\n",
      "Processing:  25%|██▌       | 1/4 [00:00<00:02,  1.18it/s]\n",
      "Processing:   0%|          | 0/4 [00:00<?, ?it/s]\n",
      "Processing:  75%|███████▌  | 3/4 [04:58<01:50, 110.38s/it]\u001b[32m [repeated 2x across cluster] (Ray deduplicates logs by default. Set RAY_DEDUP_LOGS=0 to disable log deduplication, or see https://docs.ray.io/en/master/ray-observability/user-guides/configure-logging.html#log-deduplication for more options.)\u001b[0m\n"
     ]
    },
    {
     "name": "stdout",
     "output_type": "stream",
     "text": [
      "\u001b[36m(run_fold pid=678258)\u001b[0m       Accuracy     AUC  Recall   Prec.      F1   Kappa     MCC\n",
      "\u001b[36m(run_fold pid=678258)\u001b[0m Fold                                                          \n",
      "\u001b[36m(run_fold pid=678258)\u001b[0m 0       0.7535  0.8412  0.7789  0.7634  0.7711  0.5042  0.5043\n",
      "\u001b[36m(run_fold pid=678258)\u001b[0m 1       0.7968  0.8702  0.8357  0.7938  0.8142  0.5902  0.5912\n",
      "\u001b[36m(run_fold pid=678258)\u001b[0m 2       0.8076  0.8898  0.8215  0.8182  0.8198  0.6133  0.6133\n",
      "\u001b[36m(run_fold pid=678258)\u001b[0m 3       0.8065  0.8876  0.8089  0.8240  0.8164  0.6119  0.6120\n",
      "\u001b[36m(run_fold pid=678258)\u001b[0m 4       0.7987  0.8789  0.8435  0.7920  0.8169  0.5939  0.5953\n",
      "\u001b[36m(run_fold pid=678258)\u001b[0m Mean    0.7926  0.8735  0.8177  0.7983  0.8077  0.5827  0.5832\n",
      "\u001b[36m(run_fold pid=678258)\u001b[0m Std     0.0200  0.0176  0.0227  0.0216  0.0184  0.0403  0.0404\n",
      "\u001b[36m(run_fold pid=678258)\u001b[0m Configuring PyCaret for outer fold 2\n",
      "\u001b[36m(run_fold pid=678258)\u001b[0m Tuning hyperparameters for model xgboost with custom grid using grid search\n"
     ]
    },
    {
     "name": "stderr",
     "output_type": "stream",
     "text": [
      "                                                          \n",
      "Processing:  75%|███████▌  | 3/4 [05:02<01:51, 111.85s/it]\n"
     ]
    },
    {
     "name": "stdout",
     "output_type": "stream",
     "text": [
      "\u001b[36m(run_fold pid=678263)\u001b[0m 0       0.7892  0.8759  0.7931  0.8079  0.8004  0.5771  0.5772\n",
      "\u001b[36m(run_fold pid=678263)\u001b[0m 1       0.7741  0.8655  0.7830  0.7910  0.7870  0.5465  0.5465\n",
      "\u001b[36m(run_fold pid=678263)\u001b[0m 2       0.7676  0.8514  0.7992  0.7725  0.7856  0.5320  0.5323\n",
      "\u001b[36m(run_fold pid=678263)\u001b[0m 3       0.7762  0.8740  0.8089  0.7789  0.7936  0.5494  0.5499\n",
      "\u001b[36m(run_fold pid=678263)\u001b[0m 4       0.7630  0.8413  0.8008  0.7650  0.7825  0.5224  0.5231\n",
      "\u001b[36m(run_fold pid=678258)\u001b[0m Transformation Pipeline and Model Successfully Saved\n",
      "\u001b[36m(run_fold pid=678263)\u001b[0m       Accuracy     AUC  Recall   Prec.      F1   Kappa     MCC\n",
      "\u001b[36m(run_fold pid=678263)\u001b[0m Fold                                                          \n",
      "\u001b[36m(run_fold pid=678263)\u001b[0m Mean    0.7740  0.8616  0.7970  0.7831  0.7898  0.5455  0.5458\n",
      "\u001b[36m(run_fold pid=678263)\u001b[0m Std     0.0089  0.0134  0.0087  0.0150  0.0064  0.0186  0.0184\n",
      "\u001b[36m(run_fold pid=678263)\u001b[0m Tuning hyperparameters for model xgboost with custom grid using grid search\n",
      "\u001b[36m(run_fold pid=678258)\u001b[0m                        Model  Accuracy     AUC  ...      F1   Kappa     MCC\n",
      "\u001b[36m(run_fold pid=678258)\u001b[0m 0  Extreme Gradient Boosting    0.7972  0.8831  ...  0.8113  0.5922  0.5924\n",
      "\u001b[36m(run_fold pid=678258)\u001b[0m \n",
      "\u001b[36m(run_fold pid=678258)\u001b[0m [1 rows x 8 columns]\n",
      "\u001b[36m(run_fold pid=678258)\u001b[0m Outer fold 3\n",
      "\u001b[36m(run_fold pid=678258)\u001b[0m Configuring PyCaret for outer fold 3\n"
     ]
    },
    {
     "name": "stderr",
     "output_type": "stream",
     "text": [
      "Processing:   0%|          | 0/4 [00:00<?, ?it/s]\n",
      "                                                          \n",
      "Processing:  25%|██▌       | 1/4 [00:00<00:02,  1.18it/s]\n",
      "Processing:  75%|███████▌  | 3/4 [04:55<01:49, 109.48s/it]\n"
     ]
    },
    {
     "name": "stdout",
     "output_type": "stream",
     "text": [
      "\u001b[36m(run_fold pid=678258)\u001b[0m       Accuracy     AUC  Recall   Prec.      F1   Kappa     MCC\n",
      "\u001b[36m(run_fold pid=678258)\u001b[0m Fold                                                          \n",
      "\u001b[36m(run_fold pid=678258)\u001b[0m 0       0.8097  0.8857  0.8398  0.8102  0.8247  0.6168  0.6173\n",
      "\u001b[36m(run_fold pid=678258)\u001b[0m 1       0.7827  0.8684  0.8053  0.7908  0.7980  0.5629  0.5631\n",
      "\u001b[36m(run_fold pid=678258)\u001b[0m 2       0.7903  0.8739  0.8354  0.7844  0.8091  0.5770  0.5784\n",
      "\u001b[36m(run_fold pid=678258)\u001b[0m 3       0.7946  0.8708  0.8232  0.7972  0.8100  0.5866  0.5870\n",
      "\u001b[36m(run_fold pid=678258)\u001b[0m 4       0.7706  0.8686  0.7785  0.7881  0.7832  0.5396  0.5396\n",
      "\u001b[36m(run_fold pid=678258)\u001b[0m Mean    0.7896  0.8735  0.8164  0.7941  0.8050  0.5766  0.5771\n",
      "\u001b[36m(run_fold pid=678258)\u001b[0m Std     0.0130  0.0064  0.0224  0.0091  0.0138  0.0256  0.0258\n",
      "\u001b[36m(run_fold pid=678258)\u001b[0m Tuning hyperparameters for model xgboost with custom grid using grid search\n"
     ]
    },
    {
     "name": "stderr",
     "output_type": "stream",
     "text": [
      "                                                          \n"
     ]
    },
    {
     "name": "stdout",
     "output_type": "stream",
     "text": [
      "\u001b[36m(run_fold pid=678263)\u001b[0m Transformation Pipeline and Model Successfully Saved\n",
      "\u001b[36m(run_fold pid=678263)\u001b[0m                        Model  Accuracy     AUC  ...      F1   Kappa     MCC\n",
      "\u001b[36m(run_fold pid=678263)\u001b[0m 0  Extreme Gradient Boosting    0.8166  0.9027  ...  0.8278  0.6317  0.6317\n",
      "\u001b[36m(run_fold pid=678263)\u001b[0m \n",
      "\u001b[36m(run_fold pid=678263)\u001b[0m [1 rows x 8 columns]\n",
      "\u001b[36m(run_fold pid=678263)\u001b[0m Outer fold 4\n",
      "\u001b[36m(run_fold pid=678263)\u001b[0m Configuring PyCaret for outer fold 4\n"
     ]
    },
    {
     "name": "stderr",
     "output_type": "stream",
     "text": [
      "Processing:   0%|          | 0/4 [00:00<?, ?it/s]\n",
      "Processing:  25%|██▌       | 1/4 [00:00<00:02,  1.19it/s]\n",
      "Processing:  75%|███████▌  | 3/4 [04:57<01:50, 110.12s/it]\n"
     ]
    },
    {
     "name": "stdout",
     "output_type": "stream",
     "text": [
      "\u001b[36m(run_fold pid=678263)\u001b[0m       Accuracy     AUC  Recall   Prec.      F1   Kappa     MCC\n",
      "\u001b[36m(run_fold pid=678263)\u001b[0m Fold                                                          \n",
      "\u001b[36m(run_fold pid=678263)\u001b[0m 0       0.8000  0.8672  0.8337  0.7996  0.8163  0.5970  0.5977\n",
      "\u001b[36m(run_fold pid=678263)\u001b[0m 1       0.7795  0.8587  0.7911  0.7943  0.7927  0.5571  0.5571\n",
      "\u001b[36m(run_fold pid=678263)\u001b[0m 2       0.7892  0.8676  0.8211  0.7906  0.8056  0.5755  0.5760\n",
      "\u001b[36m(run_fold pid=678263)\u001b[0m 3       0.7870  0.8728  0.8069  0.7956  0.8012  0.5719  0.5720\n",
      "\u001b[36m(run_fold pid=678263)\u001b[0m 4       0.7933  0.8766  0.8232  0.7957  0.8092  0.5838  0.5842\n",
      "\u001b[36m(run_fold pid=678263)\u001b[0m Mean    0.7898  0.8686  0.8152  0.7952  0.8050  0.5771  0.5774\n",
      "\u001b[36m(run_fold pid=678263)\u001b[0m Std     0.0068  0.0060  0.0148  0.0029  0.0079  0.0132  0.0134\n",
      "\u001b[36m(run_fold pid=678263)\u001b[0m Tuning hyperparameters for model xgboost with custom grid using grid search\n"
     ]
    },
    {
     "name": "stderr",
     "output_type": "stream",
     "text": [
      "                                                          \n"
     ]
    },
    {
     "name": "stdout",
     "output_type": "stream",
     "text": [
      "\u001b[36m(run_fold pid=678258)\u001b[0m Transformation Pipeline and Model Successfully Saved\n",
      "\u001b[36m(run_fold pid=678258)\u001b[0m                        Model  Accuracy     AUC  ...      F1   Kappa     MCC\n",
      "\u001b[36m(run_fold pid=678258)\u001b[0m 0  Extreme Gradient Boosting    0.8194  0.8958  ...  0.8326  0.6366  0.6368\n",
      "\u001b[36m(run_fold pid=678258)\u001b[0m \n",
      "\u001b[36m(run_fold pid=678258)\u001b[0m [1 rows x 8 columns]\n",
      "\u001b[36m(run_fold pid=678258)\u001b[0m Outer fold 5\n",
      "\u001b[36m(run_fold pid=678258)\u001b[0m Configuring PyCaret for outer fold 5\n"
     ]
    },
    {
     "name": "stderr",
     "output_type": "stream",
     "text": [
      "Processing:   0%|          | 0/4 [00:00<?, ?it/s]\n",
      "Processing:  25%|██▌       | 1/4 [00:00<00:02,  1.18it/s]\n",
      "Processing:  75%|███████▌  | 3/4 [04:54<01:49, 109.16s/it]\n"
     ]
    },
    {
     "name": "stdout",
     "output_type": "stream",
     "text": [
      "\u001b[36m(run_fold pid=678258)\u001b[0m       Accuracy     AUC  Recall   Prec.      F1   Kappa     MCC\n",
      "\u001b[36m(run_fold pid=678258)\u001b[0m Fold                                                          \n",
      "\u001b[36m(run_fold pid=678258)\u001b[0m 0       0.7643  0.8667  0.7972  0.7691  0.7829  0.5254  0.5258\n",
      "\u001b[36m(run_fold pid=678258)\u001b[0m 1       0.7849  0.8718  0.8114  0.7905  0.8008  0.5670  0.5673\n",
      "\u001b[36m(run_fold pid=678258)\u001b[0m 2       0.8076  0.8769  0.8333  0.8103  0.8216  0.6128  0.6131\n",
      "\u001b[36m(run_fold pid=678258)\u001b[0m 3       0.7827  0.8697  0.8008  0.7928  0.7968  0.5633  0.5634\n",
      "\u001b[36m(run_fold pid=678258)\u001b[0m 4       0.7684  0.8509  0.7886  0.7791  0.7838  0.5344  0.5345\n",
      "\u001b[36m(run_fold pid=678258)\u001b[0m Mean    0.7816  0.8672  0.8063  0.7883  0.7972  0.5606  0.5608\n",
      "\u001b[36m(run_fold pid=678258)\u001b[0m Std     0.0152  0.0088  0.0154  0.0139  0.0141  0.0307  0.0307\n",
      "\u001b[36m(run_fold pid=678258)\u001b[0m Tuning hyperparameters for model xgboost with custom grid using grid search\n"
     ]
    },
    {
     "name": "stderr",
     "output_type": "stream",
     "text": [
      "                                                          \n"
     ]
    },
    {
     "name": "stdout",
     "output_type": "stream",
     "text": [
      "\u001b[36m(run_fold pid=678263)\u001b[0m Transformation Pipeline and Model Successfully Saved\n",
      "\u001b[36m(run_fold pid=678263)\u001b[0m                        Model  Accuracy     AUC  ...      F1   Kappa     MCC\n",
      "\u001b[36m(run_fold pid=678263)\u001b[0m 0  Extreme Gradient Boosting    0.8048  0.8925  ...  0.8224  0.6063  0.6076\n",
      "\u001b[36m(run_fold pid=678263)\u001b[0m \n",
      "\u001b[36m(run_fold pid=678263)\u001b[0m [1 rows x 8 columns]\n",
      "\u001b[36m(run_fold pid=678258)\u001b[0m Transformation Pipeline and Model Successfully Saved\n",
      "\u001b[36m(run_fold pid=678258)\u001b[0m                        Model  Accuracy     AUC  ...      F1   Kappa     MCC\n",
      "\u001b[36m(run_fold pid=678258)\u001b[0m 0  Extreme Gradient Boosting    0.7979  0.8916  ...  0.8119  0.5936  0.5937\n",
      "\u001b[36m(run_fold pid=678258)\u001b[0m \n",
      "\u001b[36m(run_fold pid=678258)\u001b[0m [1 rows x 8 columns]\n",
      "Final metrics table:\n",
      "     Metric     Mean   Std Dev\n",
      "0  Accuracy  0.79220  0.014893\n",
      "1       AUC  0.87688  0.012199\n",
      "2    Recall  0.81380  0.016299\n",
      "3     Prec.  0.79992  0.014935\n",
      "4        F1  0.80676  0.013924\n",
      "5     Kappa  0.58210  0.029971\n",
      "6       MCC  0.58230  0.029977\n"
     ]
    }
   ],
   "source": [
    "# Initialize the PyCaret Evaluator\n",
    "evaluator = PyCaretEvaluator(dataset=dataset, target=\"Pneumonia\", experiment_name=\"CP_Pneumonia\", filepath=\"./results\")\n",
    "\n",
    "# Model training and results evaluation\n",
    "evaluator.run_experiment(\n",
    "    train_size=0.8,\n",
    "    fold=5,\n",
    "    fold_strategy='stratifiedkfold',\n",
    "    outer_fold=5,\n",
    "    outer_strategy='stratifiedkfold',\n",
    "    session_id=42,\n",
    "    model='xgboost',\n",
    "    optimize='AUC',\n",
    "    custom_grid=grid_hps\n",
    ")"
   ]
  }
 ],
 "metadata": {
  "kernelspec": {
   "display_name": "Python (pycaret_env)",
   "language": "python",
   "name": "pycaret_env"
  },
  "language_info": {
   "codemirror_mode": {
    "name": "ipython",
    "version": 3
   },
   "file_extension": ".py",
   "mimetype": "text/x-python",
   "name": "python",
   "nbconvert_exporter": "python",
   "pygments_lexer": "ipython3",
   "version": "3.11.9"
  }
 },
 "nbformat": 4,
 "nbformat_minor": 5
}
