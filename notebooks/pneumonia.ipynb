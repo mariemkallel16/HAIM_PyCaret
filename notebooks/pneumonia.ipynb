{
 "cells": [
  {
   "cell_type": "markdown",
   "id": "c4139f23",
   "metadata": {},
   "source": [
    "# Pathology prediction (PNEUMONIA)\n",
    "\n",
    "\n",
    "@References : Soenksen, L.R., Ma, Y., Zeng, C. et al. Integrated multimodal artificial intelligence framework for healthcare applications. npj Digit. Med. 5, 149 (2022). https://doi.org/10.1038/s41746-022-00689-4\n",
    "\n",
    "In this notebook, the task is to predict the pneumonia pathology using the CSV embeddings file"
   ]
  },
  {
   "cell_type": "markdown",
   "id": "8e9e247e",
   "metadata": {},
   "source": [
    "## Introduction\n"
   ]
  },
  {
   "cell_type": "markdown",
   "id": "321d5924",
   "metadata": {},
   "source": [
    "Radiology notes were processed to determine if each of the pathologies was explicitly confirmed as present (value = 1), explicitly confirmed as absent (value = 0), inconclusive in the study (value = −1), or not explored (no value).\n",
    "\n",
    "Selected samples :  0 or 1 values (removing the rest from the training and testing data).\n",
    "\n",
    "Excluded variables : the unstructured radiology notes component (E_rad ) from the allowable input to avoid potential overfitting or misrepresentations of real predictive value. \n",
    "\n",
    "The model is based on binary classification for each target chest pathology.\n",
    "\n",
    "Final sample size for the Pneumonia pathology is : (N =  7225)"
   ]
  },
  {
   "cell_type": "markdown",
   "id": "59600fd4",
   "metadata": {},
   "source": [
    "#### Imports"
   ]
  },
  {
   "cell_type": "code",
   "execution_count": 1,
   "id": "2d0990d5",
   "metadata": {},
   "outputs": [],
   "source": [
    "import os\n",
    "os.chdir('../')\n",
    "\n",
    "from pandas import read_csv\n",
    "\n",
    "from src.data import constants\n",
    "from src.data.dataset import HAIMDataset\n",
    "from src.evaluation.pycaret_evaluator import PyCaretEvaluator\n",
    "from src.utils.metric_scores import *"
   ]
  },
  {
   "cell_type": "markdown",
   "id": "645a1fe8",
   "metadata": {},
   "source": [
    "#### Read data from local source\n",
    "\n"
   ]
  },
  {
   "cell_type": "code",
   "execution_count": 2,
   "id": "a948c18c",
   "metadata": {},
   "outputs": [],
   "source": [
    "df = read_csv(constants.FILE_DF, nrows=constants.N_DATA)\n"
   ]
  },
  {
   "cell_type": "markdown",
   "id": "90a95053",
   "metadata": {},
   "source": [
    "#### Create a custom dataset for the HAIM experiment\n"
   ]
  },
  {
   "cell_type": "markdown",
   "id": "a47ba159",
   "metadata": {},
   "source": [
    "Build the target column for the task at hand, set the dataset specificities:  the ``haim_id`` as a ``global_id``, use all sources except ``radiology notes`` "
   ]
  },
  {
   "cell_type": "code",
   "execution_count": 3,
   "id": "239db8a3",
   "metadata": {},
   "outputs": [],
   "source": [
    "dataset = HAIMDataset(df,  \n",
    "                      constants.CHEST_PREDICTORS, \n",
    "                      constants.ALL_MODALITIES, \n",
    "                      constants.PNEUMONIA,\n",
    "                      constants.IMG_ID, \n",
    "                      constants.GLOBAL_ID)"
   ]
  },
  {
   "cell_type": "markdown",
   "id": "e280f91d",
   "metadata": {},
   "source": [
    "#### Set hyper-parameters"
   ]
  },
  {
   "cell_type": "code",
   "execution_count": 4,
   "id": "8d254fef",
   "metadata": {},
   "outputs": [],
   "source": [
    "# Define the grid oh hyper-parameters for the tuning\n",
    "grid_hps = {'max_depth': [5, 6, 7, 8],\n",
    "            'n_estimators': [200, 300],\n",
    "            'learning_rate': [0.3, 0.1, 0.05],\n",
    "            }"
   ]
  },
  {
   "cell_type": "markdown",
   "id": "75fd10ab",
   "metadata": {},
   "source": [
    "### Model training and predictions using an XGBClassifier model with GridSearchCV and Hyperparameters optimization\n"
   ]
  },
  {
   "cell_type": "markdown",
   "id": "d04a4c63",
   "metadata": {},
   "source": [
    "The goal of this section of the notebook is to compute the following metrics:\n",
    "\n",
    "``ACCURACY_SCORE, BALANCED_ACCURACY_SCORE, SENSITIVITY, SPECIFICITY, AUC, BRIER SCORE, BINARY CROSS-ENTROPY``\n",
    "\n",
    "\n",
    "The\n",
    "hyperparameter combinations of individual XGBoost models were\n",
    "selected within each training loop using a ``fivefold cross-validated\n",
    "grid search`` on the training set (80%). This XGBoost ``tuning process``\n",
    "selected the ``maximum depth of the trees (5–8)``, the number of\n",
    "``estimators (200 or 300)``, and the ``learning rate (0.05, 0.1, 0.3)``\n",
    "according to the parameter value combination leading to the\n",
    "highest observed AUROC within the training loop \n",
    "\n",
    "\n",
    "As mentioned previously, all XGBoost models were trained ``five times with five different data splits`` to repeat the\n",
    "experiments and compute average metrics \n",
    "\n",
    "\n",
    "```Refer to page 8 of study``` : https://doi.org/10.1038/s41746-022-00689-4"
   ]
  },
  {
   "cell_type": "code",
   "execution_count": 5,
   "id": "726c2332",
   "metadata": {},
   "outputs": [
    {
     "name": "stdout",
     "output_type": "stream",
     "text": [
      "Outer fold 1/5\n",
      "Configuring PyCaret for outer fold 1\n"
     ]
    },
    {
     "data": {
      "text/html": [],
      "text/plain": [
       "<IPython.core.display.HTML object>"
      ]
     },
     "metadata": {},
     "output_type": "display_data"
    },
    {
     "data": {
      "text/html": [
       "<style type=\"text/css\">\n",
       "#T_c7d21_row5_col0, #T_c7d21_row5_col1, #T_c7d21_row5_col2, #T_c7d21_row5_col3, #T_c7d21_row5_col4, #T_c7d21_row5_col5, #T_c7d21_row5_col6 {\n",
       "  background: yellow;\n",
       "}\n",
       "</style>\n",
       "<table id=\"T_c7d21\">\n",
       "  <thead>\n",
       "    <tr>\n",
       "      <th class=\"blank level0\" >&nbsp;</th>\n",
       "      <th id=\"T_c7d21_level0_col0\" class=\"col_heading level0 col0\" >Accuracy</th>\n",
       "      <th id=\"T_c7d21_level0_col1\" class=\"col_heading level0 col1\" >AUC</th>\n",
       "      <th id=\"T_c7d21_level0_col2\" class=\"col_heading level0 col2\" >Recall</th>\n",
       "      <th id=\"T_c7d21_level0_col3\" class=\"col_heading level0 col3\" >Prec.</th>\n",
       "      <th id=\"T_c7d21_level0_col4\" class=\"col_heading level0 col4\" >F1</th>\n",
       "      <th id=\"T_c7d21_level0_col5\" class=\"col_heading level0 col5\" >Kappa</th>\n",
       "      <th id=\"T_c7d21_level0_col6\" class=\"col_heading level0 col6\" >MCC</th>\n",
       "    </tr>\n",
       "    <tr>\n",
       "      <th class=\"index_name level0\" >Fold</th>\n",
       "      <th class=\"blank col0\" >&nbsp;</th>\n",
       "      <th class=\"blank col1\" >&nbsp;</th>\n",
       "      <th class=\"blank col2\" >&nbsp;</th>\n",
       "      <th class=\"blank col3\" >&nbsp;</th>\n",
       "      <th class=\"blank col4\" >&nbsp;</th>\n",
       "      <th class=\"blank col5\" >&nbsp;</th>\n",
       "      <th class=\"blank col6\" >&nbsp;</th>\n",
       "    </tr>\n",
       "  </thead>\n",
       "  <tbody>\n",
       "    <tr>\n",
       "      <th id=\"T_c7d21_level0_row0\" class=\"row_heading level0 row0\" >0</th>\n",
       "      <td id=\"T_c7d21_row0_col0\" class=\"data row0 col0\" >0.7870</td>\n",
       "      <td id=\"T_c7d21_row0_col1\" class=\"data row0 col1\" >0.8635</td>\n",
       "      <td id=\"T_c7d21_row0_col2\" class=\"data row0 col2\" >0.8141</td>\n",
       "      <td id=\"T_c7d21_row0_col3\" class=\"data row0 col3\" >0.8031</td>\n",
       "      <td id=\"T_c7d21_row0_col4\" class=\"data row0 col4\" >0.8086</td>\n",
       "      <td id=\"T_c7d21_row0_col5\" class=\"data row0 col5\" >0.5686</td>\n",
       "      <td id=\"T_c7d21_row0_col6\" class=\"data row0 col6\" >0.5687</td>\n",
       "    </tr>\n",
       "    <tr>\n",
       "      <th id=\"T_c7d21_level0_row1\" class=\"row_heading level0 row1\" >1</th>\n",
       "      <td id=\"T_c7d21_row1_col0\" class=\"data row1 col0\" >0.7849</td>\n",
       "      <td id=\"T_c7d21_row1_col1\" class=\"data row1 col1\" >0.8750</td>\n",
       "      <td id=\"T_c7d21_row1_col2\" class=\"data row1 col2\" >0.7923</td>\n",
       "      <td id=\"T_c7d21_row1_col3\" class=\"data row1 col3\" >0.8004</td>\n",
       "      <td id=\"T_c7d21_row1_col4\" class=\"data row1 col4\" >0.7963</td>\n",
       "      <td id=\"T_c7d21_row1_col5\" class=\"data row1 col5\" >0.5684</td>\n",
       "      <td id=\"T_c7d21_row1_col6\" class=\"data row1 col6\" >0.5684</td>\n",
       "    </tr>\n",
       "    <tr>\n",
       "      <th id=\"T_c7d21_level0_row2\" class=\"row_heading level0 row2\" >2</th>\n",
       "      <td id=\"T_c7d21_row2_col0\" class=\"data row2 col0\" >0.7795</td>\n",
       "      <td id=\"T_c7d21_row2_col1\" class=\"data row2 col1\" >0.8578</td>\n",
       "      <td id=\"T_c7d21_row2_col2\" class=\"data row2 col2\" >0.8233</td>\n",
       "      <td id=\"T_c7d21_row2_col3\" class=\"data row2 col3\" >0.7579</td>\n",
       "      <td id=\"T_c7d21_row2_col4\" class=\"data row2 col4\" >0.7893</td>\n",
       "      <td id=\"T_c7d21_row2_col5\" class=\"data row2 col5\" >0.5588</td>\n",
       "      <td id=\"T_c7d21_row2_col6\" class=\"data row2 col6\" >0.5609</td>\n",
       "    </tr>\n",
       "    <tr>\n",
       "      <th id=\"T_c7d21_level0_row3\" class=\"row_heading level0 row3\" >3</th>\n",
       "      <td id=\"T_c7d21_row3_col0\" class=\"data row3 col0\" >0.7697</td>\n",
       "      <td id=\"T_c7d21_row3_col1\" class=\"data row3 col1\" >0.8676</td>\n",
       "      <td id=\"T_c7d21_row3_col2\" class=\"data row3 col2\" >0.8061</td>\n",
       "      <td id=\"T_c7d21_row3_col3\" class=\"data row3 col3\" >0.7733</td>\n",
       "      <td id=\"T_c7d21_row3_col4\" class=\"data row3 col4\" >0.7893</td>\n",
       "      <td id=\"T_c7d21_row3_col5\" class=\"data row3 col5\" >0.5357</td>\n",
       "      <td id=\"T_c7d21_row3_col6\" class=\"data row3 col6\" >0.5362</td>\n",
       "    </tr>\n",
       "    <tr>\n",
       "      <th id=\"T_c7d21_level0_row4\" class=\"row_heading level0 row4\" >4</th>\n",
       "      <td id=\"T_c7d21_row4_col0\" class=\"data row4 col0\" >0.7576</td>\n",
       "      <td id=\"T_c7d21_row4_col1\" class=\"data row4 col1\" >0.8498</td>\n",
       "      <td id=\"T_c7d21_row4_col2\" class=\"data row4 col2\" >0.7872</td>\n",
       "      <td id=\"T_c7d21_row4_col3\" class=\"data row4 col3\" >0.7812</td>\n",
       "      <td id=\"T_c7d21_row4_col4\" class=\"data row4 col4\" >0.7842</td>\n",
       "      <td id=\"T_c7d21_row4_col5\" class=\"data row4 col5\" >0.5077</td>\n",
       "      <td id=\"T_c7d21_row4_col6\" class=\"data row4 col6\" >0.5077</td>\n",
       "    </tr>\n",
       "    <tr>\n",
       "      <th id=\"T_c7d21_level0_row5\" class=\"row_heading level0 row5\" >Mean</th>\n",
       "      <td id=\"T_c7d21_row5_col0\" class=\"data row5 col0\" >0.7757</td>\n",
       "      <td id=\"T_c7d21_row5_col1\" class=\"data row5 col1\" >0.8627</td>\n",
       "      <td id=\"T_c7d21_row5_col2\" class=\"data row5 col2\" >0.8046</td>\n",
       "      <td id=\"T_c7d21_row5_col3\" class=\"data row5 col3\" >0.7832</td>\n",
       "      <td id=\"T_c7d21_row5_col4\" class=\"data row5 col4\" >0.7935</td>\n",
       "      <td id=\"T_c7d21_row5_col5\" class=\"data row5 col5\" >0.5478</td>\n",
       "      <td id=\"T_c7d21_row5_col6\" class=\"data row5 col6\" >0.5484</td>\n",
       "    </tr>\n",
       "    <tr>\n",
       "      <th id=\"T_c7d21_level0_row6\" class=\"row_heading level0 row6\" >Std</th>\n",
       "      <td id=\"T_c7d21_row6_col0\" class=\"data row6 col0\" >0.0109</td>\n",
       "      <td id=\"T_c7d21_row6_col1\" class=\"data row6 col1\" >0.0086</td>\n",
       "      <td id=\"T_c7d21_row6_col2\" class=\"data row6 col2\" >0.0134</td>\n",
       "      <td id=\"T_c7d21_row6_col3\" class=\"data row6 col3\" >0.0169</td>\n",
       "      <td id=\"T_c7d21_row6_col4\" class=\"data row6 col4\" >0.0084</td>\n",
       "      <td id=\"T_c7d21_row6_col5\" class=\"data row6 col5\" >0.0234</td>\n",
       "      <td id=\"T_c7d21_row6_col6\" class=\"data row6 col6\" >0.0236</td>\n",
       "    </tr>\n",
       "  </tbody>\n",
       "</table>\n"
      ],
      "text/plain": [
       "<pandas.io.formats.style.Styler at 0x1bff8047160>"
      ]
     },
     "metadata": {},
     "output_type": "display_data"
    },
    {
     "data": {
      "text/html": [],
      "text/plain": [
       "<IPython.core.display.HTML object>"
      ]
     },
     "metadata": {},
     "output_type": "display_data"
    },
    {
     "name": "stdout",
     "output_type": "stream",
     "text": [
      "Tuning hyperparameters for model xgboost with custom grid\n"
     ]
    },
    {
     "data": {
      "text/html": [],
      "text/plain": [
       "<IPython.core.display.HTML object>"
      ]
     },
     "metadata": {},
     "output_type": "display_data"
    },
    {
     "data": {
      "text/html": [
       "<style type=\"text/css\">\n",
       "#T_cc2e7_row5_col0, #T_cc2e7_row5_col1, #T_cc2e7_row5_col2, #T_cc2e7_row5_col3, #T_cc2e7_row5_col4, #T_cc2e7_row5_col5, #T_cc2e7_row5_col6 {\n",
       "  background: yellow;\n",
       "}\n",
       "</style>\n",
       "<table id=\"T_cc2e7\">\n",
       "  <thead>\n",
       "    <tr>\n",
       "      <th class=\"blank level0\" >&nbsp;</th>\n",
       "      <th id=\"T_cc2e7_level0_col0\" class=\"col_heading level0 col0\" >Accuracy</th>\n",
       "      <th id=\"T_cc2e7_level0_col1\" class=\"col_heading level0 col1\" >AUC</th>\n",
       "      <th id=\"T_cc2e7_level0_col2\" class=\"col_heading level0 col2\" >Recall</th>\n",
       "      <th id=\"T_cc2e7_level0_col3\" class=\"col_heading level0 col3\" >Prec.</th>\n",
       "      <th id=\"T_cc2e7_level0_col4\" class=\"col_heading level0 col4\" >F1</th>\n",
       "      <th id=\"T_cc2e7_level0_col5\" class=\"col_heading level0 col5\" >Kappa</th>\n",
       "      <th id=\"T_cc2e7_level0_col6\" class=\"col_heading level0 col6\" >MCC</th>\n",
       "    </tr>\n",
       "    <tr>\n",
       "      <th class=\"index_name level0\" >Fold</th>\n",
       "      <th class=\"blank col0\" >&nbsp;</th>\n",
       "      <th class=\"blank col1\" >&nbsp;</th>\n",
       "      <th class=\"blank col2\" >&nbsp;</th>\n",
       "      <th class=\"blank col3\" >&nbsp;</th>\n",
       "      <th class=\"blank col4\" >&nbsp;</th>\n",
       "      <th class=\"blank col5\" >&nbsp;</th>\n",
       "      <th class=\"blank col6\" >&nbsp;</th>\n",
       "    </tr>\n",
       "  </thead>\n",
       "  <tbody>\n",
       "    <tr>\n",
       "      <th id=\"T_cc2e7_level0_row0\" class=\"row_heading level0 row0\" >0</th>\n",
       "      <td id=\"T_cc2e7_row0_col0\" class=\"data row0 col0\" >0.7989</td>\n",
       "      <td id=\"T_cc2e7_row0_col1\" class=\"data row0 col1\" >0.8714</td>\n",
       "      <td id=\"T_cc2e7_row0_col2\" class=\"data row0 col2\" >0.8258</td>\n",
       "      <td id=\"T_cc2e7_row0_col3\" class=\"data row0 col3\" >0.8131</td>\n",
       "      <td id=\"T_cc2e7_row0_col4\" class=\"data row0 col4\" >0.8194</td>\n",
       "      <td id=\"T_cc2e7_row0_col5\" class=\"data row0 col5\" >0.5926</td>\n",
       "      <td id=\"T_cc2e7_row0_col6\" class=\"data row0 col6\" >0.5927</td>\n",
       "    </tr>\n",
       "    <tr>\n",
       "      <th id=\"T_cc2e7_level0_row1\" class=\"row_heading level0 row1\" >1</th>\n",
       "      <td id=\"T_cc2e7_row1_col0\" class=\"data row1 col0\" >0.8184</td>\n",
       "      <td id=\"T_cc2e7_row1_col1\" class=\"data row1 col1\" >0.8907</td>\n",
       "      <td id=\"T_cc2e7_row1_col2\" class=\"data row1 col2\" >0.8167</td>\n",
       "      <td id=\"T_cc2e7_row1_col3\" class=\"data row1 col3\" >0.8372</td>\n",
       "      <td id=\"T_cc2e7_row1_col4\" class=\"data row1 col4\" >0.8268</td>\n",
       "      <td id=\"T_cc2e7_row1_col5\" class=\"data row1 col5\" >0.6360</td>\n",
       "      <td id=\"T_cc2e7_row1_col6\" class=\"data row1 col6\" >0.6362</td>\n",
       "    </tr>\n",
       "    <tr>\n",
       "      <th id=\"T_cc2e7_level0_row2\" class=\"row_heading level0 row2\" >2</th>\n",
       "      <td id=\"T_cc2e7_row2_col0\" class=\"data row2 col0\" >0.7827</td>\n",
       "      <td id=\"T_cc2e7_row2_col1\" class=\"data row2 col1\" >0.8763</td>\n",
       "      <td id=\"T_cc2e7_row2_col2\" class=\"data row2 col2\" >0.8276</td>\n",
       "      <td id=\"T_cc2e7_row2_col3\" class=\"data row2 col3\" >0.7604</td>\n",
       "      <td id=\"T_cc2e7_row2_col4\" class=\"data row2 col4\" >0.7926</td>\n",
       "      <td id=\"T_cc2e7_row2_col5\" class=\"data row2 col5\" >0.5653</td>\n",
       "      <td id=\"T_cc2e7_row2_col6\" class=\"data row2 col6\" >0.5675</td>\n",
       "    </tr>\n",
       "    <tr>\n",
       "      <th id=\"T_cc2e7_level0_row3\" class=\"row_heading level0 row3\" >3</th>\n",
       "      <td id=\"T_cc2e7_row3_col0\" class=\"data row3 col0\" >0.7914</td>\n",
       "      <td id=\"T_cc2e7_row3_col1\" class=\"data row3 col1\" >0.8783</td>\n",
       "      <td id=\"T_cc2e7_row3_col2\" class=\"data row3 col2\" >0.8101</td>\n",
       "      <td id=\"T_cc2e7_row3_col3\" class=\"data row3 col3\" >0.8020</td>\n",
       "      <td id=\"T_cc2e7_row3_col4\" class=\"data row3 col4\" >0.8060</td>\n",
       "      <td id=\"T_cc2e7_row3_col5\" class=\"data row3 col5\" >0.5803</td>\n",
       "      <td id=\"T_cc2e7_row3_col6\" class=\"data row3 col6\" >0.5803</td>\n",
       "    </tr>\n",
       "    <tr>\n",
       "      <th id=\"T_cc2e7_level0_row4\" class=\"row_heading level0 row4\" >4</th>\n",
       "      <td id=\"T_cc2e7_row4_col0\" class=\"data row4 col0\" >0.7695</td>\n",
       "      <td id=\"T_cc2e7_row4_col1\" class=\"data row4 col1\" >0.8621</td>\n",
       "      <td id=\"T_cc2e7_row4_col2\" class=\"data row4 col2\" >0.8143</td>\n",
       "      <td id=\"T_cc2e7_row4_col3\" class=\"data row4 col3\" >0.7825</td>\n",
       "      <td id=\"T_cc2e7_row4_col4\" class=\"data row4 col4\" >0.7981</td>\n",
       "      <td id=\"T_cc2e7_row4_col5\" class=\"data row4 col5\" >0.5298</td>\n",
       "      <td id=\"T_cc2e7_row4_col6\" class=\"data row4 col6\" >0.5303</td>\n",
       "    </tr>\n",
       "    <tr>\n",
       "      <th id=\"T_cc2e7_level0_row5\" class=\"row_heading level0 row5\" >Mean</th>\n",
       "      <td id=\"T_cc2e7_row5_col0\" class=\"data row5 col0\" >0.7922</td>\n",
       "      <td id=\"T_cc2e7_row5_col1\" class=\"data row5 col1\" >0.8757</td>\n",
       "      <td id=\"T_cc2e7_row5_col2\" class=\"data row5 col2\" >0.8189</td>\n",
       "      <td id=\"T_cc2e7_row5_col3\" class=\"data row5 col3\" >0.7990</td>\n",
       "      <td id=\"T_cc2e7_row5_col4\" class=\"data row5 col4\" >0.8086</td>\n",
       "      <td id=\"T_cc2e7_row5_col5\" class=\"data row5 col5\" >0.5808</td>\n",
       "      <td id=\"T_cc2e7_row5_col6\" class=\"data row5 col6\" >0.5814</td>\n",
       "    </tr>\n",
       "    <tr>\n",
       "      <th id=\"T_cc2e7_level0_row6\" class=\"row_heading level0 row6\" >Std</th>\n",
       "      <td id=\"T_cc2e7_row6_col0\" class=\"data row6 col0\" >0.0164</td>\n",
       "      <td id=\"T_cc2e7_row6_col1\" class=\"data row6 col1\" >0.0093</td>\n",
       "      <td id=\"T_cc2e7_row6_col2\" class=\"data row6 col2\" >0.0067</td>\n",
       "      <td id=\"T_cc2e7_row6_col3\" class=\"data row6 col3\" >0.0262</td>\n",
       "      <td id=\"T_cc2e7_row6_col4\" class=\"data row6 col4\" >0.0128</td>\n",
       "      <td id=\"T_cc2e7_row6_col5\" class=\"data row6 col5\" >0.0347</td>\n",
       "      <td id=\"T_cc2e7_row6_col6\" class=\"data row6 col6\" >0.0344</td>\n",
       "    </tr>\n",
       "  </tbody>\n",
       "</table>\n"
      ],
      "text/plain": [
       "<pandas.io.formats.style.Styler at 0x1bfeae5cb20>"
      ]
     },
     "metadata": {},
     "output_type": "display_data"
    },
    {
     "data": {
      "text/html": [],
      "text/plain": [
       "<IPython.core.display.HTML object>"
      ]
     },
     "metadata": {},
     "output_type": "display_data"
    },
    {
     "name": "stdout",
     "output_type": "stream",
     "text": [
      "Fitting 5 folds for each of 10 candidates, totalling 50 fits\n",
      "Transformation Pipeline and Model Successfully Saved\n"
     ]
    },
    {
     "data": {
      "text/html": [
       "<style type=\"text/css\">\n",
       "</style>\n",
       "<table id=\"T_88a3a\">\n",
       "  <thead>\n",
       "    <tr>\n",
       "      <th class=\"blank level0\" >&nbsp;</th>\n",
       "      <th id=\"T_88a3a_level0_col0\" class=\"col_heading level0 col0\" >Model</th>\n",
       "      <th id=\"T_88a3a_level0_col1\" class=\"col_heading level0 col1\" >Accuracy</th>\n",
       "      <th id=\"T_88a3a_level0_col2\" class=\"col_heading level0 col2\" >AUC</th>\n",
       "      <th id=\"T_88a3a_level0_col3\" class=\"col_heading level0 col3\" >Recall</th>\n",
       "      <th id=\"T_88a3a_level0_col4\" class=\"col_heading level0 col4\" >Prec.</th>\n",
       "      <th id=\"T_88a3a_level0_col5\" class=\"col_heading level0 col5\" >F1</th>\n",
       "      <th id=\"T_88a3a_level0_col6\" class=\"col_heading level0 col6\" >Kappa</th>\n",
       "      <th id=\"T_88a3a_level0_col7\" class=\"col_heading level0 col7\" >MCC</th>\n",
       "    </tr>\n",
       "  </thead>\n",
       "  <tbody>\n",
       "    <tr>\n",
       "      <th id=\"T_88a3a_level0_row0\" class=\"row_heading level0 row0\" >0</th>\n",
       "      <td id=\"T_88a3a_row0_col0\" class=\"data row0 col0\" >Extreme Gradient Boosting</td>\n",
       "      <td id=\"T_88a3a_row0_col1\" class=\"data row0 col1\" >0.8000</td>\n",
       "      <td id=\"T_88a3a_row0_col2\" class=\"data row0 col2\" >0.8904</td>\n",
       "      <td id=\"T_88a3a_row0_col3\" class=\"data row0 col3\" >0.8229</td>\n",
       "      <td id=\"T_88a3a_row0_col4\" class=\"data row0 col4\" >0.7984</td>\n",
       "      <td id=\"T_88a3a_row0_col5\" class=\"data row0 col5\" >0.8105</td>\n",
       "      <td id=\"T_88a3a_row0_col6\" class=\"data row0 col6\" >0.5989</td>\n",
       "      <td id=\"T_88a3a_row0_col7\" class=\"data row0 col7\" >0.5992</td>\n",
       "    </tr>\n",
       "  </tbody>\n",
       "</table>\n"
      ],
      "text/plain": [
       "<pandas.io.formats.style.Styler at 0x1bffa49aa10>"
      ]
     },
     "metadata": {},
     "output_type": "display_data"
    },
    {
     "name": "stdout",
     "output_type": "stream",
     "text": [
      "Outer fold 2/5\n",
      "Configuring PyCaret for outer fold 2\n"
     ]
    },
    {
     "data": {
      "text/html": [],
      "text/plain": [
       "<IPython.core.display.HTML object>"
      ]
     },
     "metadata": {},
     "output_type": "display_data"
    },
    {
     "data": {
      "text/html": [
       "<style type=\"text/css\">\n",
       "#T_57037_row5_col0, #T_57037_row5_col1, #T_57037_row5_col2, #T_57037_row5_col3, #T_57037_row5_col4, #T_57037_row5_col5, #T_57037_row5_col6 {\n",
       "  background: yellow;\n",
       "}\n",
       "</style>\n",
       "<table id=\"T_57037\">\n",
       "  <thead>\n",
       "    <tr>\n",
       "      <th class=\"blank level0\" >&nbsp;</th>\n",
       "      <th id=\"T_57037_level0_col0\" class=\"col_heading level0 col0\" >Accuracy</th>\n",
       "      <th id=\"T_57037_level0_col1\" class=\"col_heading level0 col1\" >AUC</th>\n",
       "      <th id=\"T_57037_level0_col2\" class=\"col_heading level0 col2\" >Recall</th>\n",
       "      <th id=\"T_57037_level0_col3\" class=\"col_heading level0 col3\" >Prec.</th>\n",
       "      <th id=\"T_57037_level0_col4\" class=\"col_heading level0 col4\" >F1</th>\n",
       "      <th id=\"T_57037_level0_col5\" class=\"col_heading level0 col5\" >Kappa</th>\n",
       "      <th id=\"T_57037_level0_col6\" class=\"col_heading level0 col6\" >MCC</th>\n",
       "    </tr>\n",
       "    <tr>\n",
       "      <th class=\"index_name level0\" >Fold</th>\n",
       "      <th class=\"blank col0\" >&nbsp;</th>\n",
       "      <th class=\"blank col1\" >&nbsp;</th>\n",
       "      <th class=\"blank col2\" >&nbsp;</th>\n",
       "      <th class=\"blank col3\" >&nbsp;</th>\n",
       "      <th class=\"blank col4\" >&nbsp;</th>\n",
       "      <th class=\"blank col5\" >&nbsp;</th>\n",
       "      <th class=\"blank col6\" >&nbsp;</th>\n",
       "    </tr>\n",
       "  </thead>\n",
       "  <tbody>\n",
       "    <tr>\n",
       "      <th id=\"T_57037_level0_row0\" class=\"row_heading level0 row0\" >0</th>\n",
       "      <td id=\"T_57037_row0_col0\" class=\"data row0 col0\" >0.7730</td>\n",
       "      <td id=\"T_57037_row0_col1\" class=\"data row0 col1\" >0.8544</td>\n",
       "      <td id=\"T_57037_row0_col2\" class=\"data row0 col2\" >0.8221</td>\n",
       "      <td id=\"T_57037_row0_col3\" class=\"data row0 col3\" >0.7761</td>\n",
       "      <td id=\"T_57037_row0_col4\" class=\"data row0 col4\" >0.7985</td>\n",
       "      <td id=\"T_57037_row0_col5\" class=\"data row0 col5\" >0.5391</td>\n",
       "      <td id=\"T_57037_row0_col6\" class=\"data row0 col6\" >0.5402</td>\n",
       "    </tr>\n",
       "    <tr>\n",
       "      <th id=\"T_57037_level0_row1\" class=\"row_heading level0 row1\" >1</th>\n",
       "      <td id=\"T_57037_row1_col0\" class=\"data row1 col0\" >0.7773</td>\n",
       "      <td id=\"T_57037_row1_col1\" class=\"data row1 col1\" >0.8676</td>\n",
       "      <td id=\"T_57037_row1_col2\" class=\"data row1 col2\" >0.7955</td>\n",
       "      <td id=\"T_57037_row1_col3\" class=\"data row1 col3\" >0.7825</td>\n",
       "      <td id=\"T_57037_row1_col4\" class=\"data row1 col4\" >0.7889</td>\n",
       "      <td id=\"T_57037_row1_col5\" class=\"data row1 col5\" >0.5533</td>\n",
       "      <td id=\"T_57037_row1_col6\" class=\"data row1 col6\" >0.5534</td>\n",
       "    </tr>\n",
       "    <tr>\n",
       "      <th id=\"T_57037_level0_row2\" class=\"row_heading level0 row2\" >2</th>\n",
       "      <td id=\"T_57037_row2_col0\" class=\"data row2 col0\" >0.7827</td>\n",
       "      <td id=\"T_57037_row2_col1\" class=\"data row2 col1\" >0.8768</td>\n",
       "      <td id=\"T_57037_row2_col2\" class=\"data row2 col2\" >0.8196</td>\n",
       "      <td id=\"T_57037_row2_col3\" class=\"data row2 col3\" >0.7616</td>\n",
       "      <td id=\"T_57037_row2_col4\" class=\"data row2 col4\" >0.7895</td>\n",
       "      <td id=\"T_57037_row2_col5\" class=\"data row2 col5\" >0.5656</td>\n",
       "      <td id=\"T_57037_row2_col6\" class=\"data row2 col6\" >0.5672</td>\n",
       "    </tr>\n",
       "    <tr>\n",
       "      <th id=\"T_57037_level0_row3\" class=\"row_heading level0 row3\" >3</th>\n",
       "      <td id=\"T_57037_row3_col0\" class=\"data row3 col0\" >0.7632</td>\n",
       "      <td id=\"T_57037_row3_col1\" class=\"data row3 col1\" >0.8588</td>\n",
       "      <td id=\"T_57037_row3_col2\" class=\"data row3 col2\" >0.7663</td>\n",
       "      <td id=\"T_57037_row3_col3\" class=\"data row3 col3\" >0.7838</td>\n",
       "      <td id=\"T_57037_row3_col4\" class=\"data row3 col4\" >0.7749</td>\n",
       "      <td id=\"T_57037_row3_col5\" class=\"data row3 col5\" >0.5253</td>\n",
       "      <td id=\"T_57037_row3_col6\" class=\"data row3 col6\" >0.5254</td>\n",
       "    </tr>\n",
       "    <tr>\n",
       "      <th id=\"T_57037_level0_row4\" class=\"row_heading level0 row4\" >4</th>\n",
       "      <td id=\"T_57037_row4_col0\" class=\"data row4 col0\" >0.7673</td>\n",
       "      <td id=\"T_57037_row4_col1\" class=\"data row4 col1\" >0.8522</td>\n",
       "      <td id=\"T_57037_row4_col2\" class=\"data row4 col2\" >0.7826</td>\n",
       "      <td id=\"T_57037_row4_col3\" class=\"data row4 col3\" >0.7904</td>\n",
       "      <td id=\"T_57037_row4_col4\" class=\"data row4 col4\" >0.7865</td>\n",
       "      <td id=\"T_57037_row4_col5\" class=\"data row4 col5\" >0.5309</td>\n",
       "      <td id=\"T_57037_row4_col6\" class=\"data row4 col6\" >0.5309</td>\n",
       "    </tr>\n",
       "    <tr>\n",
       "      <th id=\"T_57037_level0_row5\" class=\"row_heading level0 row5\" >Mean</th>\n",
       "      <td id=\"T_57037_row5_col0\" class=\"data row5 col0\" >0.7727</td>\n",
       "      <td id=\"T_57037_row5_col1\" class=\"data row5 col1\" >0.8620</td>\n",
       "      <td id=\"T_57037_row5_col2\" class=\"data row5 col2\" >0.7972</td>\n",
       "      <td id=\"T_57037_row5_col3\" class=\"data row5 col3\" >0.7789</td>\n",
       "      <td id=\"T_57037_row5_col4\" class=\"data row5 col4\" >0.7877</td>\n",
       "      <td id=\"T_57037_row5_col5\" class=\"data row5 col5\" >0.5428</td>\n",
       "      <td id=\"T_57037_row5_col6\" class=\"data row5 col6\" >0.5434</td>\n",
       "    </tr>\n",
       "    <tr>\n",
       "      <th id=\"T_57037_level0_row6\" class=\"row_heading level0 row6\" >Std</th>\n",
       "      <td id=\"T_57037_row6_col0\" class=\"data row6 col0\" >0.0069</td>\n",
       "      <td id=\"T_57037_row6_col1\" class=\"data row6 col1\" >0.0091</td>\n",
       "      <td id=\"T_57037_row6_col2\" class=\"data row6 col2\" >0.0214</td>\n",
       "      <td id=\"T_57037_row6_col3\" class=\"data row6 col3\" >0.0098</td>\n",
       "      <td id=\"T_57037_row6_col4\" class=\"data row6 col4\" >0.0076</td>\n",
       "      <td id=\"T_57037_row6_col5\" class=\"data row6 col5\" >0.0148</td>\n",
       "      <td id=\"T_57037_row6_col6\" class=\"data row6 col6\" >0.0152</td>\n",
       "    </tr>\n",
       "  </tbody>\n",
       "</table>\n"
      ],
      "text/plain": [
       "<pandas.io.formats.style.Styler at 0x1bff93b59f0>"
      ]
     },
     "metadata": {},
     "output_type": "display_data"
    },
    {
     "data": {
      "text/html": [],
      "text/plain": [
       "<IPython.core.display.HTML object>"
      ]
     },
     "metadata": {},
     "output_type": "display_data"
    },
    {
     "name": "stdout",
     "output_type": "stream",
     "text": [
      "Tuning hyperparameters for model xgboost with custom grid\n"
     ]
    },
    {
     "data": {
      "text/html": [],
      "text/plain": [
       "<IPython.core.display.HTML object>"
      ]
     },
     "metadata": {},
     "output_type": "display_data"
    },
    {
     "data": {
      "text/html": [
       "<style type=\"text/css\">\n",
       "#T_bab96_row5_col0, #T_bab96_row5_col1, #T_bab96_row5_col2, #T_bab96_row5_col3, #T_bab96_row5_col4, #T_bab96_row5_col5, #T_bab96_row5_col6 {\n",
       "  background: yellow;\n",
       "}\n",
       "</style>\n",
       "<table id=\"T_bab96\">\n",
       "  <thead>\n",
       "    <tr>\n",
       "      <th class=\"blank level0\" >&nbsp;</th>\n",
       "      <th id=\"T_bab96_level0_col0\" class=\"col_heading level0 col0\" >Accuracy</th>\n",
       "      <th id=\"T_bab96_level0_col1\" class=\"col_heading level0 col1\" >AUC</th>\n",
       "      <th id=\"T_bab96_level0_col2\" class=\"col_heading level0 col2\" >Recall</th>\n",
       "      <th id=\"T_bab96_level0_col3\" class=\"col_heading level0 col3\" >Prec.</th>\n",
       "      <th id=\"T_bab96_level0_col4\" class=\"col_heading level0 col4\" >F1</th>\n",
       "      <th id=\"T_bab96_level0_col5\" class=\"col_heading level0 col5\" >Kappa</th>\n",
       "      <th id=\"T_bab96_level0_col6\" class=\"col_heading level0 col6\" >MCC</th>\n",
       "    </tr>\n",
       "    <tr>\n",
       "      <th class=\"index_name level0\" >Fold</th>\n",
       "      <th class=\"blank col0\" >&nbsp;</th>\n",
       "      <th class=\"blank col1\" >&nbsp;</th>\n",
       "      <th class=\"blank col2\" >&nbsp;</th>\n",
       "      <th class=\"blank col3\" >&nbsp;</th>\n",
       "      <th class=\"blank col4\" >&nbsp;</th>\n",
       "      <th class=\"blank col5\" >&nbsp;</th>\n",
       "      <th class=\"blank col6\" >&nbsp;</th>\n",
       "    </tr>\n",
       "  </thead>\n",
       "  <tbody>\n",
       "    <tr>\n",
       "      <th id=\"T_bab96_level0_row0\" class=\"row_heading level0 row0\" >0</th>\n",
       "      <td id=\"T_bab96_row0_col0\" class=\"data row0 col0\" >0.7849</td>\n",
       "      <td id=\"T_bab96_row0_col1\" class=\"data row0 col1\" >0.8656</td>\n",
       "      <td id=\"T_bab96_row0_col2\" class=\"data row0 col2\" >0.8202</td>\n",
       "      <td id=\"T_bab96_row0_col3\" class=\"data row0 col3\" >0.7935</td>\n",
       "      <td id=\"T_bab96_row0_col4\" class=\"data row0 col4\" >0.8066</td>\n",
       "      <td id=\"T_bab96_row0_col5\" class=\"data row0 col5\" >0.5644</td>\n",
       "      <td id=\"T_bab96_row0_col6\" class=\"data row0 col6\" >0.5648</td>\n",
       "    </tr>\n",
       "    <tr>\n",
       "      <th id=\"T_bab96_level0_row1\" class=\"row_heading level0 row1\" >1</th>\n",
       "      <td id=\"T_bab96_row1_col0\" class=\"data row1 col0\" >0.7784</td>\n",
       "      <td id=\"T_bab96_row1_col1\" class=\"data row1 col1\" >0.8757</td>\n",
       "      <td id=\"T_bab96_row1_col2\" class=\"data row1 col2\" >0.7955</td>\n",
       "      <td id=\"T_bab96_row1_col3\" class=\"data row1 col3\" >0.7841</td>\n",
       "      <td id=\"T_bab96_row1_col4\" class=\"data row1 col4\" >0.7897</td>\n",
       "      <td id=\"T_bab96_row1_col5\" class=\"data row1 col5\" >0.5555</td>\n",
       "      <td id=\"T_bab96_row1_col6\" class=\"data row1 col6\" >0.5555</td>\n",
       "    </tr>\n",
       "    <tr>\n",
       "      <th id=\"T_bab96_level0_row2\" class=\"row_heading level0 row2\" >2</th>\n",
       "      <td id=\"T_bab96_row2_col0\" class=\"data row2 col0\" >0.8162</td>\n",
       "      <td id=\"T_bab96_row2_col1\" class=\"data row2 col1\" >0.8858</td>\n",
       "      <td id=\"T_bab96_row2_col2\" class=\"data row2 col2\" >0.8652</td>\n",
       "      <td id=\"T_bab96_row2_col3\" class=\"data row2 col3\" >0.7866</td>\n",
       "      <td id=\"T_bab96_row2_col4\" class=\"data row2 col4\" >0.8240</td>\n",
       "      <td id=\"T_bab96_row2_col5\" class=\"data row2 col5\" >0.6326</td>\n",
       "      <td id=\"T_bab96_row2_col6\" class=\"data row2 col6\" >0.6358</td>\n",
       "    </tr>\n",
       "    <tr>\n",
       "      <th id=\"T_bab96_level0_row3\" class=\"row_heading level0 row3\" >3</th>\n",
       "      <td id=\"T_bab96_row3_col0\" class=\"data row3 col0\" >0.7859</td>\n",
       "      <td id=\"T_bab96_row3_col1\" class=\"data row3 col1\" >0.8703</td>\n",
       "      <td id=\"T_bab96_row3_col2\" class=\"data row3 col2\" >0.7764</td>\n",
       "      <td id=\"T_bab96_row3_col3\" class=\"data row3 col3\" >0.8128</td>\n",
       "      <td id=\"T_bab96_row3_col4\" class=\"data row3 col4\" >0.7942</td>\n",
       "      <td id=\"T_bab96_row3_col5\" class=\"data row3 col5\" >0.5714</td>\n",
       "      <td id=\"T_bab96_row3_col6\" class=\"data row3 col6\" >0.5721</td>\n",
       "    </tr>\n",
       "    <tr>\n",
       "      <th id=\"T_bab96_level0_row4\" class=\"row_heading level0 row4\" >4</th>\n",
       "      <td id=\"T_bab96_row4_col0\" class=\"data row4 col0\" >0.7771</td>\n",
       "      <td id=\"T_bab96_row4_col1\" class=\"data row4 col1\" >0.8645</td>\n",
       "      <td id=\"T_bab96_row4_col2\" class=\"data row4 col2\" >0.7866</td>\n",
       "      <td id=\"T_bab96_row4_col3\" class=\"data row4 col3\" >0.8024</td>\n",
       "      <td id=\"T_bab96_row4_col4\" class=\"data row4 col4\" >0.7944</td>\n",
       "      <td id=\"T_bab96_row4_col5\" class=\"data row4 col5\" >0.5510</td>\n",
       "      <td id=\"T_bab96_row4_col6\" class=\"data row4 col6\" >0.5511</td>\n",
       "    </tr>\n",
       "    <tr>\n",
       "      <th id=\"T_bab96_level0_row5\" class=\"row_heading level0 row5\" >Mean</th>\n",
       "      <td id=\"T_bab96_row5_col0\" class=\"data row5 col0\" >0.7885</td>\n",
       "      <td id=\"T_bab96_row5_col1\" class=\"data row5 col1\" >0.8724</td>\n",
       "      <td id=\"T_bab96_row5_col2\" class=\"data row5 col2\" >0.8088</td>\n",
       "      <td id=\"T_bab96_row5_col3\" class=\"data row5 col3\" >0.7959</td>\n",
       "      <td id=\"T_bab96_row5_col4\" class=\"data row5 col4\" >0.8018</td>\n",
       "      <td id=\"T_bab96_row5_col5\" class=\"data row5 col5\" >0.5750</td>\n",
       "      <td id=\"T_bab96_row5_col6\" class=\"data row5 col6\" >0.5759</td>\n",
       "    </tr>\n",
       "    <tr>\n",
       "      <th id=\"T_bab96_level0_row6\" class=\"row_heading level0 row6\" >Std</th>\n",
       "      <td id=\"T_bab96_row6_col0\" class=\"data row6 col0\" >0.0143</td>\n",
       "      <td id=\"T_bab96_row6_col1\" class=\"data row6 col1\" >0.0078</td>\n",
       "      <td id=\"T_bab96_row6_col2\" class=\"data row6 col2\" >0.0317</td>\n",
       "      <td id=\"T_bab96_row6_col3\" class=\"data row6 col3\" >0.0106</td>\n",
       "      <td id=\"T_bab96_row6_col4\" class=\"data row6 col4\" >0.0124</td>\n",
       "      <td id=\"T_bab96_row6_col5\" class=\"data row6 col5\" >0.0297</td>\n",
       "      <td id=\"T_bab96_row6_col6\" class=\"data row6 col6\" >0.0308</td>\n",
       "    </tr>\n",
       "  </tbody>\n",
       "</table>\n"
      ],
      "text/plain": [
       "<pandas.io.formats.style.Styler at 0x1c0784c5ab0>"
      ]
     },
     "metadata": {},
     "output_type": "display_data"
    },
    {
     "data": {
      "text/html": [],
      "text/plain": [
       "<IPython.core.display.HTML object>"
      ]
     },
     "metadata": {},
     "output_type": "display_data"
    },
    {
     "name": "stdout",
     "output_type": "stream",
     "text": [
      "Fitting 5 folds for each of 10 candidates, totalling 50 fits\n",
      "Transformation Pipeline and Model Successfully Saved\n"
     ]
    },
    {
     "data": {
      "text/html": [
       "<style type=\"text/css\">\n",
       "</style>\n",
       "<table id=\"T_fe843\">\n",
       "  <thead>\n",
       "    <tr>\n",
       "      <th class=\"blank level0\" >&nbsp;</th>\n",
       "      <th id=\"T_fe843_level0_col0\" class=\"col_heading level0 col0\" >Model</th>\n",
       "      <th id=\"T_fe843_level0_col1\" class=\"col_heading level0 col1\" >Accuracy</th>\n",
       "      <th id=\"T_fe843_level0_col2\" class=\"col_heading level0 col2\" >AUC</th>\n",
       "      <th id=\"T_fe843_level0_col3\" class=\"col_heading level0 col3\" >Recall</th>\n",
       "      <th id=\"T_fe843_level0_col4\" class=\"col_heading level0 col4\" >Prec.</th>\n",
       "      <th id=\"T_fe843_level0_col5\" class=\"col_heading level0 col5\" >F1</th>\n",
       "      <th id=\"T_fe843_level0_col6\" class=\"col_heading level0 col6\" >Kappa</th>\n",
       "      <th id=\"T_fe843_level0_col7\" class=\"col_heading level0 col7\" >MCC</th>\n",
       "    </tr>\n",
       "  </thead>\n",
       "  <tbody>\n",
       "    <tr>\n",
       "      <th id=\"T_fe843_level0_row0\" class=\"row_heading level0 row0\" >0</th>\n",
       "      <td id=\"T_fe843_row0_col0\" class=\"data row0 col0\" >Extreme Gradient Boosting</td>\n",
       "      <td id=\"T_fe843_row0_col1\" class=\"data row0 col1\" >0.8360</td>\n",
       "      <td id=\"T_fe843_row0_col2\" class=\"data row0 col2\" >0.9173</td>\n",
       "      <td id=\"T_fe843_row0_col3\" class=\"data row0 col3\" >0.8401</td>\n",
       "      <td id=\"T_fe843_row0_col4\" class=\"data row0 col4\" >0.8564</td>\n",
       "      <td id=\"T_fe843_row0_col5\" class=\"data row0 col5\" >0.8482</td>\n",
       "      <td id=\"T_fe843_row0_col6\" class=\"data row0 col6\" >0.6699</td>\n",
       "      <td id=\"T_fe843_row0_col7\" class=\"data row0 col7\" >0.6700</td>\n",
       "    </tr>\n",
       "  </tbody>\n",
       "</table>\n"
      ],
      "text/plain": [
       "<pandas.io.formats.style.Styler at 0x1bfee48b880>"
      ]
     },
     "metadata": {},
     "output_type": "display_data"
    },
    {
     "name": "stdout",
     "output_type": "stream",
     "text": [
      "Outer fold 3/5\n",
      "Configuring PyCaret for outer fold 3\n"
     ]
    },
    {
     "data": {
      "text/html": [],
      "text/plain": [
       "<IPython.core.display.HTML object>"
      ]
     },
     "metadata": {},
     "output_type": "display_data"
    },
    {
     "data": {
      "text/html": [
       "<style type=\"text/css\">\n",
       "#T_bbe7d_row5_col0, #T_bbe7d_row5_col1, #T_bbe7d_row5_col2, #T_bbe7d_row5_col3, #T_bbe7d_row5_col4, #T_bbe7d_row5_col5, #T_bbe7d_row5_col6 {\n",
       "  background: yellow;\n",
       "}\n",
       "</style>\n",
       "<table id=\"T_bbe7d\">\n",
       "  <thead>\n",
       "    <tr>\n",
       "      <th class=\"blank level0\" >&nbsp;</th>\n",
       "      <th id=\"T_bbe7d_level0_col0\" class=\"col_heading level0 col0\" >Accuracy</th>\n",
       "      <th id=\"T_bbe7d_level0_col1\" class=\"col_heading level0 col1\" >AUC</th>\n",
       "      <th id=\"T_bbe7d_level0_col2\" class=\"col_heading level0 col2\" >Recall</th>\n",
       "      <th id=\"T_bbe7d_level0_col3\" class=\"col_heading level0 col3\" >Prec.</th>\n",
       "      <th id=\"T_bbe7d_level0_col4\" class=\"col_heading level0 col4\" >F1</th>\n",
       "      <th id=\"T_bbe7d_level0_col5\" class=\"col_heading level0 col5\" >Kappa</th>\n",
       "      <th id=\"T_bbe7d_level0_col6\" class=\"col_heading level0 col6\" >MCC</th>\n",
       "    </tr>\n",
       "    <tr>\n",
       "      <th class=\"index_name level0\" >Fold</th>\n",
       "      <th class=\"blank col0\" >&nbsp;</th>\n",
       "      <th class=\"blank col1\" >&nbsp;</th>\n",
       "      <th class=\"blank col2\" >&nbsp;</th>\n",
       "      <th class=\"blank col3\" >&nbsp;</th>\n",
       "      <th class=\"blank col4\" >&nbsp;</th>\n",
       "      <th class=\"blank col5\" >&nbsp;</th>\n",
       "      <th class=\"blank col6\" >&nbsp;</th>\n",
       "    </tr>\n",
       "  </thead>\n",
       "  <tbody>\n",
       "    <tr>\n",
       "      <th id=\"T_bbe7d_level0_row0\" class=\"row_heading level0 row0\" >0</th>\n",
       "      <td id=\"T_bbe7d_row0_col0\" class=\"data row0 col0\" >0.7870</td>\n",
       "      <td id=\"T_bbe7d_row0_col1\" class=\"data row0 col1\" >0.8738</td>\n",
       "      <td id=\"T_bbe7d_row0_col2\" class=\"data row0 col2\" >0.8000</td>\n",
       "      <td id=\"T_bbe7d_row0_col3\" class=\"data row0 col3\" >0.8080</td>\n",
       "      <td id=\"T_bbe7d_row0_col4\" class=\"data row0 col4\" >0.8040</td>\n",
       "      <td id=\"T_bbe7d_row0_col5\" class=\"data row0 col5\" >0.5709</td>\n",
       "      <td id=\"T_bbe7d_row0_col6\" class=\"data row0 col6\" >0.5709</td>\n",
       "    </tr>\n",
       "    <tr>\n",
       "      <th id=\"T_bbe7d_level0_row1\" class=\"row_heading level0 row1\" >1</th>\n",
       "      <td id=\"T_bbe7d_row1_col0\" class=\"data row1 col0\" >0.7654</td>\n",
       "      <td id=\"T_bbe7d_row1_col1\" class=\"data row1 col1\" >0.8671</td>\n",
       "      <td id=\"T_bbe7d_row1_col2\" class=\"data row1 col2\" >0.8154</td>\n",
       "      <td id=\"T_bbe7d_row1_col3\" class=\"data row1 col3\" >0.7614</td>\n",
       "      <td id=\"T_bbe7d_row1_col4\" class=\"data row1 col4\" >0.7875</td>\n",
       "      <td id=\"T_bbe7d_row1_col5\" class=\"data row1 col5\" >0.5264</td>\n",
       "      <td id=\"T_bbe7d_row1_col6\" class=\"data row1 col6\" >0.5279</td>\n",
       "    </tr>\n",
       "    <tr>\n",
       "      <th id=\"T_bbe7d_level0_row2\" class=\"row_heading level0 row2\" >2</th>\n",
       "      <td id=\"T_bbe7d_row2_col0\" class=\"data row2 col0\" >0.7665</td>\n",
       "      <td id=\"T_bbe7d_row2_col1\" class=\"data row2 col1\" >0.8577</td>\n",
       "      <td id=\"T_bbe7d_row2_col2\" class=\"data row2 col2\" >0.7851</td>\n",
       "      <td id=\"T_bbe7d_row2_col3\" class=\"data row2 col3\" >0.7521</td>\n",
       "      <td id=\"T_bbe7d_row2_col4\" class=\"data row2 col4\" >0.7682</td>\n",
       "      <td id=\"T_bbe7d_row2_col5\" class=\"data row2 col5\" >0.5332</td>\n",
       "      <td id=\"T_bbe7d_row2_col6\" class=\"data row2 col6\" >0.5337</td>\n",
       "    </tr>\n",
       "    <tr>\n",
       "      <th id=\"T_bbe7d_level0_row3\" class=\"row_heading level0 row3\" >3</th>\n",
       "      <td id=\"T_bbe7d_row3_col0\" class=\"data row3 col0\" >0.7708</td>\n",
       "      <td id=\"T_bbe7d_row3_col1\" class=\"data row3 col1\" >0.8643</td>\n",
       "      <td id=\"T_bbe7d_row3_col2\" class=\"data row3 col2\" >0.7706</td>\n",
       "      <td id=\"T_bbe7d_row3_col3\" class=\"data row3 col3\" >0.7963</td>\n",
       "      <td id=\"T_bbe7d_row3_col4\" class=\"data row3 col4\" >0.7832</td>\n",
       "      <td id=\"T_bbe7d_row3_col5\" class=\"data row3 col5\" >0.5402</td>\n",
       "      <td id=\"T_bbe7d_row3_col6\" class=\"data row3 col6\" >0.5406</td>\n",
       "    </tr>\n",
       "    <tr>\n",
       "      <th id=\"T_bbe7d_level0_row4\" class=\"row_heading level0 row4\" >4</th>\n",
       "      <td id=\"T_bbe7d_row4_col0\" class=\"data row4 col0\" >0.7532</td>\n",
       "      <td id=\"T_bbe7d_row4_col1\" class=\"data row4 col1\" >0.8468</td>\n",
       "      <td id=\"T_bbe7d_row4_col2\" class=\"data row4 col2\" >0.7564</td>\n",
       "      <td id=\"T_bbe7d_row4_col3\" class=\"data row4 col3\" >0.7873</td>\n",
       "      <td id=\"T_bbe7d_row4_col4\" class=\"data row4 col4\" >0.7715</td>\n",
       "      <td id=\"T_bbe7d_row4_col5\" class=\"data row4 col5\" >0.5035</td>\n",
       "      <td id=\"T_bbe7d_row4_col6\" class=\"data row4 col6\" >0.5040</td>\n",
       "    </tr>\n",
       "    <tr>\n",
       "      <th id=\"T_bbe7d_level0_row5\" class=\"row_heading level0 row5\" >Mean</th>\n",
       "      <td id=\"T_bbe7d_row5_col0\" class=\"data row5 col0\" >0.7686</td>\n",
       "      <td id=\"T_bbe7d_row5_col1\" class=\"data row5 col1\" >0.8619</td>\n",
       "      <td id=\"T_bbe7d_row5_col2\" class=\"data row5 col2\" >0.7855</td>\n",
       "      <td id=\"T_bbe7d_row5_col3\" class=\"data row5 col3\" >0.7810</td>\n",
       "      <td id=\"T_bbe7d_row5_col4\" class=\"data row5 col4\" >0.7829</td>\n",
       "      <td id=\"T_bbe7d_row5_col5\" class=\"data row5 col5\" >0.5348</td>\n",
       "      <td id=\"T_bbe7d_row5_col6\" class=\"data row5 col6\" >0.5354</td>\n",
       "    </tr>\n",
       "    <tr>\n",
       "      <th id=\"T_bbe7d_level0_row6\" class=\"row_heading level0 row6\" >Std</th>\n",
       "      <td id=\"T_bbe7d_row6_col0\" class=\"data row6 col0\" >0.0109</td>\n",
       "      <td id=\"T_bbe7d_row6_col1\" class=\"data row6 col1\" >0.0092</td>\n",
       "      <td id=\"T_bbe7d_row6_col2\" class=\"data row6 col2\" >0.0209</td>\n",
       "      <td id=\"T_bbe7d_row6_col3\" class=\"data row6 col3\" >0.0211</td>\n",
       "      <td id=\"T_bbe7d_row6_col4\" class=\"data row6 col4\" >0.0127</td>\n",
       "      <td id=\"T_bbe7d_row6_col5\" class=\"data row6 col5\" >0.0218</td>\n",
       "      <td id=\"T_bbe7d_row6_col6\" class=\"data row6 col6\" >0.0216</td>\n",
       "    </tr>\n",
       "  </tbody>\n",
       "</table>\n"
      ],
      "text/plain": [
       "<pandas.io.formats.style.Styler at 0x1bfedbb5cc0>"
      ]
     },
     "metadata": {},
     "output_type": "display_data"
    },
    {
     "data": {
      "text/html": [],
      "text/plain": [
       "<IPython.core.display.HTML object>"
      ]
     },
     "metadata": {},
     "output_type": "display_data"
    },
    {
     "name": "stdout",
     "output_type": "stream",
     "text": [
      "Tuning hyperparameters for model xgboost with custom grid\n"
     ]
    },
    {
     "data": {
      "text/html": [],
      "text/plain": [
       "<IPython.core.display.HTML object>"
      ]
     },
     "metadata": {},
     "output_type": "display_data"
    },
    {
     "data": {
      "text/html": [
       "<style type=\"text/css\">\n",
       "#T_91f02_row5_col0, #T_91f02_row5_col1, #T_91f02_row5_col2, #T_91f02_row5_col3, #T_91f02_row5_col4, #T_91f02_row5_col5, #T_91f02_row5_col6 {\n",
       "  background: yellow;\n",
       "}\n",
       "</style>\n",
       "<table id=\"T_91f02\">\n",
       "  <thead>\n",
       "    <tr>\n",
       "      <th class=\"blank level0\" >&nbsp;</th>\n",
       "      <th id=\"T_91f02_level0_col0\" class=\"col_heading level0 col0\" >Accuracy</th>\n",
       "      <th id=\"T_91f02_level0_col1\" class=\"col_heading level0 col1\" >AUC</th>\n",
       "      <th id=\"T_91f02_level0_col2\" class=\"col_heading level0 col2\" >Recall</th>\n",
       "      <th id=\"T_91f02_level0_col3\" class=\"col_heading level0 col3\" >Prec.</th>\n",
       "      <th id=\"T_91f02_level0_col4\" class=\"col_heading level0 col4\" >F1</th>\n",
       "      <th id=\"T_91f02_level0_col5\" class=\"col_heading level0 col5\" >Kappa</th>\n",
       "      <th id=\"T_91f02_level0_col6\" class=\"col_heading level0 col6\" >MCC</th>\n",
       "    </tr>\n",
       "    <tr>\n",
       "      <th class=\"index_name level0\" >Fold</th>\n",
       "      <th class=\"blank col0\" >&nbsp;</th>\n",
       "      <th class=\"blank col1\" >&nbsp;</th>\n",
       "      <th class=\"blank col2\" >&nbsp;</th>\n",
       "      <th class=\"blank col3\" >&nbsp;</th>\n",
       "      <th class=\"blank col4\" >&nbsp;</th>\n",
       "      <th class=\"blank col5\" >&nbsp;</th>\n",
       "      <th class=\"blank col6\" >&nbsp;</th>\n",
       "    </tr>\n",
       "  </thead>\n",
       "  <tbody>\n",
       "    <tr>\n",
       "      <th id=\"T_91f02_level0_row0\" class=\"row_heading level0 row0\" >0</th>\n",
       "      <td id=\"T_91f02_row0_col0\" class=\"data row0 col0\" >0.7989</td>\n",
       "      <td id=\"T_91f02_row0_col1\" class=\"data row0 col1\" >0.8868</td>\n",
       "      <td id=\"T_91f02_row0_col2\" class=\"data row0 col2\" >0.8079</td>\n",
       "      <td id=\"T_91f02_row0_col3\" class=\"data row0 col3\" >0.8209</td>\n",
       "      <td id=\"T_91f02_row0_col4\" class=\"data row0 col4\" >0.8144</td>\n",
       "      <td id=\"T_91f02_row0_col5\" class=\"data row0 col5\" >0.5951</td>\n",
       "      <td id=\"T_91f02_row0_col6\" class=\"data row0 col6\" >0.5952</td>\n",
       "    </tr>\n",
       "    <tr>\n",
       "      <th id=\"T_91f02_level0_row1\" class=\"row_heading level0 row1\" >1</th>\n",
       "      <td id=\"T_91f02_row1_col0\" class=\"data row1 col0\" >0.7870</td>\n",
       "      <td id=\"T_91f02_row1_col1\" class=\"data row1 col1\" >0.8724</td>\n",
       "      <td id=\"T_91f02_row1_col2\" class=\"data row1 col2\" >0.8316</td>\n",
       "      <td id=\"T_91f02_row1_col3\" class=\"data row1 col3\" >0.7824</td>\n",
       "      <td id=\"T_91f02_row1_col4\" class=\"data row1 col4\" >0.8063</td>\n",
       "      <td id=\"T_91f02_row1_col5\" class=\"data row1 col5\" >0.5703</td>\n",
       "      <td id=\"T_91f02_row1_col6\" class=\"data row1 col6\" >0.5716</td>\n",
       "    </tr>\n",
       "    <tr>\n",
       "      <th id=\"T_91f02_level0_row2\" class=\"row_heading level0 row2\" >2</th>\n",
       "      <td id=\"T_91f02_row2_col0\" class=\"data row2 col0\" >0.8022</td>\n",
       "      <td id=\"T_91f02_row2_col1\" class=\"data row2 col1\" >0.8766</td>\n",
       "      <td id=\"T_91f02_row2_col2\" class=\"data row2 col2\" >0.8202</td>\n",
       "      <td id=\"T_91f02_row2_col3\" class=\"data row2 col3\" >0.7874</td>\n",
       "      <td id=\"T_91f02_row2_col4\" class=\"data row2 col4\" >0.8034</td>\n",
       "      <td id=\"T_91f02_row2_col5\" class=\"data row2 col5\" >0.6045</td>\n",
       "      <td id=\"T_91f02_row2_col6\" class=\"data row2 col6\" >0.6050</td>\n",
       "    </tr>\n",
       "    <tr>\n",
       "      <th id=\"T_91f02_level0_row3\" class=\"row_heading level0 row3\" >3</th>\n",
       "      <td id=\"T_91f02_row3_col0\" class=\"data row3 col0\" >0.7805</td>\n",
       "      <td id=\"T_91f02_row3_col1\" class=\"data row3 col1\" >0.8739</td>\n",
       "      <td id=\"T_91f02_row3_col2\" class=\"data row3 col2\" >0.7907</td>\n",
       "      <td id=\"T_91f02_row3_col3\" class=\"data row3 col3\" >0.7988</td>\n",
       "      <td id=\"T_91f02_row3_col4\" class=\"data row3 col4\" >0.7947</td>\n",
       "      <td id=\"T_91f02_row3_col5\" class=\"data row3 col5\" >0.5590</td>\n",
       "      <td id=\"T_91f02_row3_col6\" class=\"data row3 col6\" >0.5590</td>\n",
       "    </tr>\n",
       "    <tr>\n",
       "      <th id=\"T_91f02_level0_row4\" class=\"row_heading level0 row4\" >4</th>\n",
       "      <td id=\"T_91f02_row4_col0\" class=\"data row4 col0\" >0.7641</td>\n",
       "      <td id=\"T_91f02_row4_col1\" class=\"data row4 col1\" >0.8669</td>\n",
       "      <td id=\"T_91f02_row4_col2\" class=\"data row4 col2\" >0.7800</td>\n",
       "      <td id=\"T_91f02_row4_col3\" class=\"data row4 col3\" >0.7893</td>\n",
       "      <td id=\"T_91f02_row4_col4\" class=\"data row4 col4\" >0.7846</td>\n",
       "      <td id=\"T_91f02_row4_col5\" class=\"data row4 col5\" >0.5238</td>\n",
       "      <td id=\"T_91f02_row4_col6\" class=\"data row4 col6\" >0.5239</td>\n",
       "    </tr>\n",
       "    <tr>\n",
       "      <th id=\"T_91f02_level0_row5\" class=\"row_heading level0 row5\" >Mean</th>\n",
       "      <td id=\"T_91f02_row5_col0\" class=\"data row5 col0\" >0.7865</td>\n",
       "      <td id=\"T_91f02_row5_col1\" class=\"data row5 col1\" >0.8753</td>\n",
       "      <td id=\"T_91f02_row5_col2\" class=\"data row5 col2\" >0.8061</td>\n",
       "      <td id=\"T_91f02_row5_col3\" class=\"data row5 col3\" >0.7958</td>\n",
       "      <td id=\"T_91f02_row5_col4\" class=\"data row5 col4\" >0.8007</td>\n",
       "      <td id=\"T_91f02_row5_col5\" class=\"data row5 col5\" >0.5705</td>\n",
       "      <td id=\"T_91f02_row5_col6\" class=\"data row5 col6\" >0.5709</td>\n",
       "    </tr>\n",
       "    <tr>\n",
       "      <th id=\"T_91f02_level0_row6\" class=\"row_heading level0 row6\" >Std</th>\n",
       "      <td id=\"T_91f02_row6_col0\" class=\"data row6 col0\" >0.0137</td>\n",
       "      <td id=\"T_91f02_row6_col1\" class=\"data row6 col1\" >0.0066</td>\n",
       "      <td id=\"T_91f02_row6_col2\" class=\"data row6 col2\" >0.0188</td>\n",
       "      <td id=\"T_91f02_row6_col3\" class=\"data row6 col3\" >0.0137</td>\n",
       "      <td id=\"T_91f02_row6_col4\" class=\"data row6 col4\" >0.0102</td>\n",
       "      <td id=\"T_91f02_row6_col5\" class=\"data row6 col5\" >0.0285</td>\n",
       "      <td id=\"T_91f02_row6_col6\" class=\"data row6 col6\" >0.0286</td>\n",
       "    </tr>\n",
       "  </tbody>\n",
       "</table>\n"
      ],
      "text/plain": [
       "<pandas.io.formats.style.Styler at 0x1bff80a5180>"
      ]
     },
     "metadata": {},
     "output_type": "display_data"
    },
    {
     "data": {
      "text/html": [],
      "text/plain": [
       "<IPython.core.display.HTML object>"
      ]
     },
     "metadata": {},
     "output_type": "display_data"
    },
    {
     "name": "stdout",
     "output_type": "stream",
     "text": [
      "Fitting 5 folds for each of 10 candidates, totalling 50 fits\n",
      "Transformation Pipeline and Model Successfully Saved\n"
     ]
    },
    {
     "data": {
      "text/html": [
       "<style type=\"text/css\">\n",
       "</style>\n",
       "<table id=\"T_52d2f\">\n",
       "  <thead>\n",
       "    <tr>\n",
       "      <th class=\"blank level0\" >&nbsp;</th>\n",
       "      <th id=\"T_52d2f_level0_col0\" class=\"col_heading level0 col0\" >Model</th>\n",
       "      <th id=\"T_52d2f_level0_col1\" class=\"col_heading level0 col1\" >Accuracy</th>\n",
       "      <th id=\"T_52d2f_level0_col2\" class=\"col_heading level0 col2\" >AUC</th>\n",
       "      <th id=\"T_52d2f_level0_col3\" class=\"col_heading level0 col3\" >Recall</th>\n",
       "      <th id=\"T_52d2f_level0_col4\" class=\"col_heading level0 col4\" >Prec.</th>\n",
       "      <th id=\"T_52d2f_level0_col5\" class=\"col_heading level0 col5\" >F1</th>\n",
       "      <th id=\"T_52d2f_level0_col6\" class=\"col_heading level0 col6\" >Kappa</th>\n",
       "      <th id=\"T_52d2f_level0_col7\" class=\"col_heading level0 col7\" >MCC</th>\n",
       "    </tr>\n",
       "  </thead>\n",
       "  <tbody>\n",
       "    <tr>\n",
       "      <th id=\"T_52d2f_level0_row0\" class=\"row_heading level0 row0\" >0</th>\n",
       "      <td id=\"T_52d2f_row0_col0\" class=\"data row0 col0\" >Extreme Gradient Boosting</td>\n",
       "      <td id=\"T_52d2f_row0_col1\" class=\"data row0 col1\" >0.7924</td>\n",
       "      <td id=\"T_52d2f_row0_col2\" class=\"data row0 col2\" >0.8852</td>\n",
       "      <td id=\"T_52d2f_row0_col3\" class=\"data row0 col3\" >0.8370</td>\n",
       "      <td id=\"T_52d2f_row0_col4\" class=\"data row0 col4\" >0.7881</td>\n",
       "      <td id=\"T_52d2f_row0_col5\" class=\"data row0 col5\" >0.8118</td>\n",
       "      <td id=\"T_52d2f_row0_col6\" class=\"data row0 col6\" >0.5808</td>\n",
       "      <td id=\"T_52d2f_row0_col7\" class=\"data row0 col7\" >0.5821</td>\n",
       "    </tr>\n",
       "  </tbody>\n",
       "</table>\n"
      ],
      "text/plain": [
       "<pandas.io.formats.style.Styler at 0x1c096ce77c0>"
      ]
     },
     "metadata": {},
     "output_type": "display_data"
    },
    {
     "name": "stdout",
     "output_type": "stream",
     "text": [
      "Outer fold 4/5\n",
      "Configuring PyCaret for outer fold 4\n"
     ]
    },
    {
     "data": {
      "text/html": [],
      "text/plain": [
       "<IPython.core.display.HTML object>"
      ]
     },
     "metadata": {},
     "output_type": "display_data"
    },
    {
     "data": {
      "text/html": [
       "<style type=\"text/css\">\n",
       "#T_2502a_row5_col0, #T_2502a_row5_col1, #T_2502a_row5_col2, #T_2502a_row5_col3, #T_2502a_row5_col4, #T_2502a_row5_col5, #T_2502a_row5_col6 {\n",
       "  background: yellow;\n",
       "}\n",
       "</style>\n",
       "<table id=\"T_2502a\">\n",
       "  <thead>\n",
       "    <tr>\n",
       "      <th class=\"blank level0\" >&nbsp;</th>\n",
       "      <th id=\"T_2502a_level0_col0\" class=\"col_heading level0 col0\" >Accuracy</th>\n",
       "      <th id=\"T_2502a_level0_col1\" class=\"col_heading level0 col1\" >AUC</th>\n",
       "      <th id=\"T_2502a_level0_col2\" class=\"col_heading level0 col2\" >Recall</th>\n",
       "      <th id=\"T_2502a_level0_col3\" class=\"col_heading level0 col3\" >Prec.</th>\n",
       "      <th id=\"T_2502a_level0_col4\" class=\"col_heading level0 col4\" >F1</th>\n",
       "      <th id=\"T_2502a_level0_col5\" class=\"col_heading level0 col5\" >Kappa</th>\n",
       "      <th id=\"T_2502a_level0_col6\" class=\"col_heading level0 col6\" >MCC</th>\n",
       "    </tr>\n",
       "    <tr>\n",
       "      <th class=\"index_name level0\" >Fold</th>\n",
       "      <th class=\"blank col0\" >&nbsp;</th>\n",
       "      <th class=\"blank col1\" >&nbsp;</th>\n",
       "      <th class=\"blank col2\" >&nbsp;</th>\n",
       "      <th class=\"blank col3\" >&nbsp;</th>\n",
       "      <th class=\"blank col4\" >&nbsp;</th>\n",
       "      <th class=\"blank col5\" >&nbsp;</th>\n",
       "      <th class=\"blank col6\" >&nbsp;</th>\n",
       "    </tr>\n",
       "  </thead>\n",
       "  <tbody>\n",
       "    <tr>\n",
       "      <th id=\"T_2502a_level0_row0\" class=\"row_heading level0 row0\" >0</th>\n",
       "      <td id=\"T_2502a_row0_col0\" class=\"data row0 col0\" >0.7903</td>\n",
       "      <td id=\"T_2502a_row0_col1\" class=\"data row0 col1\" >0.8653</td>\n",
       "      <td id=\"T_2502a_row0_col2\" class=\"data row0 col2\" >0.7756</td>\n",
       "      <td id=\"T_2502a_row0_col3\" class=\"data row0 col3\" >0.8252</td>\n",
       "      <td id=\"T_2502a_row0_col4\" class=\"data row0 col4\" >0.7996</td>\n",
       "      <td id=\"T_2502a_row0_col5\" class=\"data row0 col5\" >0.5801</td>\n",
       "      <td id=\"T_2502a_row0_col6\" class=\"data row0 col6\" >0.5813</td>\n",
       "    </tr>\n",
       "    <tr>\n",
       "      <th id=\"T_2502a_level0_row1\" class=\"row_heading level0 row1\" >1</th>\n",
       "      <td id=\"T_2502a_row1_col0\" class=\"data row1 col0\" >0.7924</td>\n",
       "      <td id=\"T_2502a_row1_col1\" class=\"data row1 col1\" >0.8728</td>\n",
       "      <td id=\"T_2502a_row1_col2\" class=\"data row1 col2\" >0.8276</td>\n",
       "      <td id=\"T_2502a_row1_col3\" class=\"data row1 col3\" >0.7922</td>\n",
       "      <td id=\"T_2502a_row1_col4\" class=\"data row1 col4\" >0.8095</td>\n",
       "      <td id=\"T_2502a_row1_col5\" class=\"data row1 col5\" >0.5817</td>\n",
       "      <td id=\"T_2502a_row1_col6\" class=\"data row1 col6\" >0.5824</td>\n",
       "    </tr>\n",
       "    <tr>\n",
       "      <th id=\"T_2502a_level0_row2\" class=\"row_heading level0 row2\" >2</th>\n",
       "      <td id=\"T_2502a_row2_col0\" class=\"data row2 col0\" >0.7578</td>\n",
       "      <td id=\"T_2502a_row2_col1\" class=\"data row2 col1\" >0.8572</td>\n",
       "      <td id=\"T_2502a_row2_col2\" class=\"data row2 col2\" >0.8124</td>\n",
       "      <td id=\"T_2502a_row2_col3\" class=\"data row2 col3\" >0.7369</td>\n",
       "      <td id=\"T_2502a_row2_col4\" class=\"data row2 col4\" >0.7728</td>\n",
       "      <td id=\"T_2502a_row2_col5\" class=\"data row2 col5\" >0.5149</td>\n",
       "      <td id=\"T_2502a_row2_col6\" class=\"data row2 col6\" >0.5177</td>\n",
       "    </tr>\n",
       "    <tr>\n",
       "      <th id=\"T_2502a_level0_row3\" class=\"row_heading level0 row3\" >3</th>\n",
       "      <td id=\"T_2502a_row3_col0\" class=\"data row3 col0\" >0.7795</td>\n",
       "      <td id=\"T_2502a_row3_col1\" class=\"data row3 col1\" >0.8638</td>\n",
       "      <td id=\"T_2502a_row3_col2\" class=\"data row3 col2\" >0.7912</td>\n",
       "      <td id=\"T_2502a_row3_col3\" class=\"data row3 col3\" >0.7976</td>\n",
       "      <td id=\"T_2502a_row3_col4\" class=\"data row3 col4\" >0.7944</td>\n",
       "      <td id=\"T_2502a_row3_col5\" class=\"data row3 col5\" >0.5566</td>\n",
       "      <td id=\"T_2502a_row3_col6\" class=\"data row3 col6\" >0.5566</td>\n",
       "    </tr>\n",
       "    <tr>\n",
       "      <th id=\"T_2502a_level0_row4\" class=\"row_heading level0 row4\" >4</th>\n",
       "      <td id=\"T_2502a_row4_col0\" class=\"data row4 col0\" >0.7835</td>\n",
       "      <td id=\"T_2502a_row4_col1\" class=\"data row4 col1\" >0.8678</td>\n",
       "      <td id=\"T_2502a_row4_col2\" class=\"data row4 col2\" >0.7906</td>\n",
       "      <td id=\"T_2502a_row4_col3\" class=\"data row4 col3\" >0.8129</td>\n",
       "      <td id=\"T_2502a_row4_col4\" class=\"data row4 col4\" >0.8016</td>\n",
       "      <td id=\"T_2502a_row4_col5\" class=\"data row4 col5\" >0.5636</td>\n",
       "      <td id=\"T_2502a_row4_col6\" class=\"data row4 col6\" >0.5639</td>\n",
       "    </tr>\n",
       "    <tr>\n",
       "      <th id=\"T_2502a_level0_row5\" class=\"row_heading level0 row5\" >Mean</th>\n",
       "      <td id=\"T_2502a_row5_col0\" class=\"data row5 col0\" >0.7807</td>\n",
       "      <td id=\"T_2502a_row5_col1\" class=\"data row5 col1\" >0.8653</td>\n",
       "      <td id=\"T_2502a_row5_col2\" class=\"data row5 col2\" >0.7995</td>\n",
       "      <td id=\"T_2502a_row5_col3\" class=\"data row5 col3\" >0.7930</td>\n",
       "      <td id=\"T_2502a_row5_col4\" class=\"data row5 col4\" >0.7956</td>\n",
       "      <td id=\"T_2502a_row5_col5\" class=\"data row5 col5\" >0.5594</td>\n",
       "      <td id=\"T_2502a_row5_col6\" class=\"data row5 col6\" >0.5604</td>\n",
       "    </tr>\n",
       "    <tr>\n",
       "      <th id=\"T_2502a_level0_row6\" class=\"row_heading level0 row6\" >Std</th>\n",
       "      <td id=\"T_2502a_row6_col0\" class=\"data row6 col0\" >0.0123</td>\n",
       "      <td id=\"T_2502a_row6_col1\" class=\"data row6 col1\" >0.0051</td>\n",
       "      <td id=\"T_2502a_row6_col2\" class=\"data row6 col2\" >0.0183</td>\n",
       "      <td id=\"T_2502a_row6_col3\" class=\"data row6 col3\" >0.0303</td>\n",
       "      <td id=\"T_2502a_row6_col4\" class=\"data row6 col4\" >0.0124</td>\n",
       "      <td id=\"T_2502a_row6_col5\" class=\"data row6 col5\" >0.0242</td>\n",
       "      <td id=\"T_2502a_row6_col6\" class=\"data row6 col6\" >0.0235</td>\n",
       "    </tr>\n",
       "  </tbody>\n",
       "</table>\n"
      ],
      "text/plain": [
       "<pandas.io.formats.style.Styler at 0x1bff8055f30>"
      ]
     },
     "metadata": {},
     "output_type": "display_data"
    },
    {
     "data": {
      "text/html": [],
      "text/plain": [
       "<IPython.core.display.HTML object>"
      ]
     },
     "metadata": {},
     "output_type": "display_data"
    },
    {
     "name": "stdout",
     "output_type": "stream",
     "text": [
      "Tuning hyperparameters for model xgboost with custom grid\n"
     ]
    },
    {
     "data": {
      "text/html": [],
      "text/plain": [
       "<IPython.core.display.HTML object>"
      ]
     },
     "metadata": {},
     "output_type": "display_data"
    },
    {
     "data": {
      "text/html": [
       "<style type=\"text/css\">\n",
       "#T_a5790_row5_col0, #T_a5790_row5_col1, #T_a5790_row5_col2, #T_a5790_row5_col3, #T_a5790_row5_col4, #T_a5790_row5_col5, #T_a5790_row5_col6 {\n",
       "  background: yellow;\n",
       "}\n",
       "</style>\n",
       "<table id=\"T_a5790\">\n",
       "  <thead>\n",
       "    <tr>\n",
       "      <th class=\"blank level0\" >&nbsp;</th>\n",
       "      <th id=\"T_a5790_level0_col0\" class=\"col_heading level0 col0\" >Accuracy</th>\n",
       "      <th id=\"T_a5790_level0_col1\" class=\"col_heading level0 col1\" >AUC</th>\n",
       "      <th id=\"T_a5790_level0_col2\" class=\"col_heading level0 col2\" >Recall</th>\n",
       "      <th id=\"T_a5790_level0_col3\" class=\"col_heading level0 col3\" >Prec.</th>\n",
       "      <th id=\"T_a5790_level0_col4\" class=\"col_heading level0 col4\" >F1</th>\n",
       "      <th id=\"T_a5790_level0_col5\" class=\"col_heading level0 col5\" >Kappa</th>\n",
       "      <th id=\"T_a5790_level0_col6\" class=\"col_heading level0 col6\" >MCC</th>\n",
       "    </tr>\n",
       "    <tr>\n",
       "      <th class=\"index_name level0\" >Fold</th>\n",
       "      <th class=\"blank col0\" >&nbsp;</th>\n",
       "      <th class=\"blank col1\" >&nbsp;</th>\n",
       "      <th class=\"blank col2\" >&nbsp;</th>\n",
       "      <th class=\"blank col3\" >&nbsp;</th>\n",
       "      <th class=\"blank col4\" >&nbsp;</th>\n",
       "      <th class=\"blank col5\" >&nbsp;</th>\n",
       "      <th class=\"blank col6\" >&nbsp;</th>\n",
       "    </tr>\n",
       "  </thead>\n",
       "  <tbody>\n",
       "    <tr>\n",
       "      <th id=\"T_a5790_level0_row0\" class=\"row_heading level0 row0\" >0</th>\n",
       "      <td id=\"T_a5790_row0_col0\" class=\"data row0 col0\" >0.7968</td>\n",
       "      <td id=\"T_a5790_row0_col1\" class=\"data row0 col1\" >0.8832</td>\n",
       "      <td id=\"T_a5790_row0_col2\" class=\"data row0 col2\" >0.8116</td>\n",
       "      <td id=\"T_a5790_row0_col3\" class=\"data row0 col3\" >0.8116</td>\n",
       "      <td id=\"T_a5790_row0_col4\" class=\"data row0 col4\" >0.8116</td>\n",
       "      <td id=\"T_a5790_row0_col5\" class=\"data row0 col5\" >0.5910</td>\n",
       "      <td id=\"T_a5790_row0_col6\" class=\"data row0 col6\" >0.5910</td>\n",
       "    </tr>\n",
       "    <tr>\n",
       "      <th id=\"T_a5790_level0_row1\" class=\"row_heading level0 row1\" >1</th>\n",
       "      <td id=\"T_a5790_row1_col0\" class=\"data row1 col0\" >0.7957</td>\n",
       "      <td id=\"T_a5790_row1_col1\" class=\"data row1 col1\" >0.8839</td>\n",
       "      <td id=\"T_a5790_row1_col2\" class=\"data row1 col2\" >0.8276</td>\n",
       "      <td id=\"T_a5790_row1_col3\" class=\"data row1 col3\" >0.7969</td>\n",
       "      <td id=\"T_a5790_row1_col4\" class=\"data row1 col4\" >0.8119</td>\n",
       "      <td id=\"T_a5790_row1_col5\" class=\"data row1 col5\" >0.5884</td>\n",
       "      <td id=\"T_a5790_row1_col6\" class=\"data row1 col6\" >0.5890</td>\n",
       "    </tr>\n",
       "    <tr>\n",
       "      <th id=\"T_a5790_level0_row2\" class=\"row_heading level0 row2\" >2</th>\n",
       "      <td id=\"T_a5790_row2_col0\" class=\"data row2 col0\" >0.7676</td>\n",
       "      <td id=\"T_a5790_row2_col1\" class=\"data row2 col1\" >0.8575</td>\n",
       "      <td id=\"T_a5790_row2_col2\" class=\"data row2 col2\" >0.8316</td>\n",
       "      <td id=\"T_a5790_row2_col3\" class=\"data row2 col3\" >0.7414</td>\n",
       "      <td id=\"T_a5790_row2_col4\" class=\"data row2 col4\" >0.7839</td>\n",
       "      <td id=\"T_a5790_row2_col5\" class=\"data row2 col5\" >0.5342</td>\n",
       "      <td id=\"T_a5790_row2_col6\" class=\"data row2 col6\" >0.5384</td>\n",
       "    </tr>\n",
       "    <tr>\n",
       "      <th id=\"T_a5790_level0_row3\" class=\"row_heading level0 row3\" >3</th>\n",
       "      <td id=\"T_a5790_row3_col0\" class=\"data row3 col0\" >0.7827</td>\n",
       "      <td id=\"T_a5790_row3_col1\" class=\"data row3 col1\" >0.8712</td>\n",
       "      <td id=\"T_a5790_row3_col2\" class=\"data row3 col2\" >0.7952</td>\n",
       "      <td id=\"T_a5790_row3_col3\" class=\"data row3 col3\" >0.8000</td>\n",
       "      <td id=\"T_a5790_row3_col4\" class=\"data row3 col4\" >0.7976</td>\n",
       "      <td id=\"T_a5790_row3_col5\" class=\"data row3 col5\" >0.5630</td>\n",
       "      <td id=\"T_a5790_row3_col6\" class=\"data row3 col6\" >0.5631</td>\n",
       "    </tr>\n",
       "    <tr>\n",
       "      <th id=\"T_a5790_level0_row4\" class=\"row_heading level0 row4\" >4</th>\n",
       "      <td id=\"T_a5790_row4_col0\" class=\"data row4 col0\" >0.8030</td>\n",
       "      <td id=\"T_a5790_row4_col1\" class=\"data row4 col1\" >0.8830</td>\n",
       "      <td id=\"T_a5790_row4_col2\" class=\"data row4 col2\" >0.8219</td>\n",
       "      <td id=\"T_a5790_row4_col3\" class=\"data row4 col3\" >0.8219</td>\n",
       "      <td id=\"T_a5790_row4_col4\" class=\"data row4 col4\" >0.8219</td>\n",
       "      <td id=\"T_a5790_row4_col5\" class=\"data row4 col5\" >0.6016</td>\n",
       "      <td id=\"T_a5790_row4_col6\" class=\"data row4 col6\" >0.6016</td>\n",
       "    </tr>\n",
       "    <tr>\n",
       "      <th id=\"T_a5790_level0_row5\" class=\"row_heading level0 row5\" >Mean</th>\n",
       "      <td id=\"T_a5790_row5_col0\" class=\"data row5 col0\" >0.7891</td>\n",
       "      <td id=\"T_a5790_row5_col1\" class=\"data row5 col1\" >0.8758</td>\n",
       "      <td id=\"T_a5790_row5_col2\" class=\"data row5 col2\" >0.8176</td>\n",
       "      <td id=\"T_a5790_row5_col3\" class=\"data row5 col3\" >0.7944</td>\n",
       "      <td id=\"T_a5790_row5_col4\" class=\"data row5 col4\" >0.8054</td>\n",
       "      <td id=\"T_a5790_row5_col5\" class=\"data row5 col5\" >0.5757</td>\n",
       "      <td id=\"T_a5790_row5_col6\" class=\"data row5 col6\" >0.5766</td>\n",
       "    </tr>\n",
       "    <tr>\n",
       "      <th id=\"T_a5790_level0_row6\" class=\"row_heading level0 row6\" >Std</th>\n",
       "      <td id=\"T_a5790_row6_col0\" class=\"data row6 col0\" >0.0127</td>\n",
       "      <td id=\"T_a5790_row6_col1\" class=\"data row6 col1\" >0.0103</td>\n",
       "      <td id=\"T_a5790_row6_col2\" class=\"data row6 col2\" >0.0130</td>\n",
       "      <td id=\"T_a5790_row6_col3\" class=\"data row6 col3\" >0.0279</td>\n",
       "      <td id=\"T_a5790_row6_col4\" class=\"data row6 col4\" >0.0132</td>\n",
       "      <td id=\"T_a5790_row6_col5\" class=\"data row6 col5\" >0.0243</td>\n",
       "      <td id=\"T_a5790_row6_col6\" class=\"data row6 col6\" >0.0229</td>\n",
       "    </tr>\n",
       "  </tbody>\n",
       "</table>\n"
      ],
      "text/plain": [
       "<pandas.io.formats.style.Styler at 0x1c0784c5330>"
      ]
     },
     "metadata": {},
     "output_type": "display_data"
    },
    {
     "data": {
      "text/html": [],
      "text/plain": [
       "<IPython.core.display.HTML object>"
      ]
     },
     "metadata": {},
     "output_type": "display_data"
    },
    {
     "name": "stdout",
     "output_type": "stream",
     "text": [
      "Fitting 5 folds for each of 10 candidates, totalling 50 fits\n",
      "Transformation Pipeline and Model Successfully Saved\n"
     ]
    },
    {
     "data": {
      "text/html": [
       "<style type=\"text/css\">\n",
       "</style>\n",
       "<table id=\"T_87430\">\n",
       "  <thead>\n",
       "    <tr>\n",
       "      <th class=\"blank level0\" >&nbsp;</th>\n",
       "      <th id=\"T_87430_level0_col0\" class=\"col_heading level0 col0\" >Model</th>\n",
       "      <th id=\"T_87430_level0_col1\" class=\"col_heading level0 col1\" >Accuracy</th>\n",
       "      <th id=\"T_87430_level0_col2\" class=\"col_heading level0 col2\" >AUC</th>\n",
       "      <th id=\"T_87430_level0_col3\" class=\"col_heading level0 col3\" >Recall</th>\n",
       "      <th id=\"T_87430_level0_col4\" class=\"col_heading level0 col4\" >Prec.</th>\n",
       "      <th id=\"T_87430_level0_col5\" class=\"col_heading level0 col5\" >F1</th>\n",
       "      <th id=\"T_87430_level0_col6\" class=\"col_heading level0 col6\" >Kappa</th>\n",
       "      <th id=\"T_87430_level0_col7\" class=\"col_heading level0 col7\" >MCC</th>\n",
       "    </tr>\n",
       "  </thead>\n",
       "  <tbody>\n",
       "    <tr>\n",
       "      <th id=\"T_87430_level0_row0\" class=\"row_heading level0 row0\" >0</th>\n",
       "      <td id=\"T_87430_row0_col0\" class=\"data row0 col0\" >Extreme Gradient Boosting</td>\n",
       "      <td id=\"T_87430_row0_col1\" class=\"data row0 col1\" >0.8048</td>\n",
       "      <td id=\"T_87430_row0_col2\" class=\"data row0 col2\" >0.8937</td>\n",
       "      <td id=\"T_87430_row0_col3\" class=\"data row0 col3\" >0.8408</td>\n",
       "      <td id=\"T_87430_row0_col4\" class=\"data row0 col4\" >0.7988</td>\n",
       "      <td id=\"T_87430_row0_col5\" class=\"data row0 col5\" >0.8192</td>\n",
       "      <td id=\"T_87430_row0_col6\" class=\"data row0 col6\" >0.6075</td>\n",
       "      <td id=\"T_87430_row0_col7\" class=\"data row0 col7\" >0.6084</td>\n",
       "    </tr>\n",
       "  </tbody>\n",
       "</table>\n"
      ],
      "text/plain": [
       "<pandas.io.formats.style.Styler at 0x1c0a74737f0>"
      ]
     },
     "metadata": {},
     "output_type": "display_data"
    },
    {
     "name": "stdout",
     "output_type": "stream",
     "text": [
      "Outer fold 5/5\n",
      "Configuring PyCaret for outer fold 5\n"
     ]
    },
    {
     "data": {
      "text/html": [],
      "text/plain": [
       "<IPython.core.display.HTML object>"
      ]
     },
     "metadata": {},
     "output_type": "display_data"
    },
    {
     "data": {
      "text/html": [
       "<style type=\"text/css\">\n",
       "#T_5b0c6_row5_col0, #T_5b0c6_row5_col1, #T_5b0c6_row5_col2, #T_5b0c6_row5_col3, #T_5b0c6_row5_col4, #T_5b0c6_row5_col5, #T_5b0c6_row5_col6 {\n",
       "  background: yellow;\n",
       "}\n",
       "</style>\n",
       "<table id=\"T_5b0c6\">\n",
       "  <thead>\n",
       "    <tr>\n",
       "      <th class=\"blank level0\" >&nbsp;</th>\n",
       "      <th id=\"T_5b0c6_level0_col0\" class=\"col_heading level0 col0\" >Accuracy</th>\n",
       "      <th id=\"T_5b0c6_level0_col1\" class=\"col_heading level0 col1\" >AUC</th>\n",
       "      <th id=\"T_5b0c6_level0_col2\" class=\"col_heading level0 col2\" >Recall</th>\n",
       "      <th id=\"T_5b0c6_level0_col3\" class=\"col_heading level0 col3\" >Prec.</th>\n",
       "      <th id=\"T_5b0c6_level0_col4\" class=\"col_heading level0 col4\" >F1</th>\n",
       "      <th id=\"T_5b0c6_level0_col5\" class=\"col_heading level0 col5\" >Kappa</th>\n",
       "      <th id=\"T_5b0c6_level0_col6\" class=\"col_heading level0 col6\" >MCC</th>\n",
       "    </tr>\n",
       "    <tr>\n",
       "      <th class=\"index_name level0\" >Fold</th>\n",
       "      <th class=\"blank col0\" >&nbsp;</th>\n",
       "      <th class=\"blank col1\" >&nbsp;</th>\n",
       "      <th class=\"blank col2\" >&nbsp;</th>\n",
       "      <th class=\"blank col3\" >&nbsp;</th>\n",
       "      <th class=\"blank col4\" >&nbsp;</th>\n",
       "      <th class=\"blank col5\" >&nbsp;</th>\n",
       "      <th class=\"blank col6\" >&nbsp;</th>\n",
       "    </tr>\n",
       "  </thead>\n",
       "  <tbody>\n",
       "    <tr>\n",
       "      <th id=\"T_5b0c6_level0_row0\" class=\"row_heading level0 row0\" >0</th>\n",
       "      <td id=\"T_5b0c6_row0_col0\" class=\"data row0 col0\" >0.7751</td>\n",
       "      <td id=\"T_5b0c6_row0_col1\" class=\"data row0 col1\" >0.8653</td>\n",
       "      <td id=\"T_5b0c6_row0_col2\" class=\"data row0 col2\" >0.7914</td>\n",
       "      <td id=\"T_5b0c6_row0_col3\" class=\"data row0 col3\" >0.7850</td>\n",
       "      <td id=\"T_5b0c6_row0_col4\" class=\"data row0 col4\" >0.7882</td>\n",
       "      <td id=\"T_5b0c6_row0_col5\" class=\"data row0 col5\" >0.5486</td>\n",
       "      <td id=\"T_5b0c6_row0_col6\" class=\"data row0 col6\" >0.5486</td>\n",
       "    </tr>\n",
       "    <tr>\n",
       "      <th id=\"T_5b0c6_level0_row1\" class=\"row_heading level0 row1\" >1</th>\n",
       "      <td id=\"T_5b0c6_row1_col0\" class=\"data row1 col0\" >0.7892</td>\n",
       "      <td id=\"T_5b0c6_row1_col1\" class=\"data row1 col1\" >0.8612</td>\n",
       "      <td id=\"T_5b0c6_row1_col2\" class=\"data row1 col2\" >0.8167</td>\n",
       "      <td id=\"T_5b0c6_row1_col3\" class=\"data row1 col3\" >0.7992</td>\n",
       "      <td id=\"T_5b0c6_row1_col4\" class=\"data row1 col4\" >0.8079</td>\n",
       "      <td id=\"T_5b0c6_row1_col5\" class=\"data row1 col5\" >0.5744</td>\n",
       "      <td id=\"T_5b0c6_row1_col6\" class=\"data row1 col6\" >0.5746</td>\n",
       "    </tr>\n",
       "    <tr>\n",
       "      <th id=\"T_5b0c6_level0_row2\" class=\"row_heading level0 row2\" >2</th>\n",
       "      <td id=\"T_5b0c6_row2_col0\" class=\"data row2 col0\" >0.7665</td>\n",
       "      <td id=\"T_5b0c6_row2_col1\" class=\"data row2 col1\" >0.8685</td>\n",
       "      <td id=\"T_5b0c6_row2_col2\" class=\"data row2 col2\" >0.8160</td>\n",
       "      <td id=\"T_5b0c6_row2_col3\" class=\"data row2 col3\" >0.7421</td>\n",
       "      <td id=\"T_5b0c6_row2_col4\" class=\"data row2 col4\" >0.7773</td>\n",
       "      <td id=\"T_5b0c6_row2_col5\" class=\"data row2 col5\" >0.5330</td>\n",
       "      <td id=\"T_5b0c6_row2_col6\" class=\"data row2 col6\" >0.5357</td>\n",
       "    </tr>\n",
       "    <tr>\n",
       "      <th id=\"T_5b0c6_level0_row3\" class=\"row_heading level0 row3\" >3</th>\n",
       "      <td id=\"T_5b0c6_row3_col0\" class=\"data row3 col0\" >0.7697</td>\n",
       "      <td id=\"T_5b0c6_row3_col1\" class=\"data row3 col1\" >0.8581</td>\n",
       "      <td id=\"T_5b0c6_row3_col2\" class=\"data row3 col2\" >0.8158</td>\n",
       "      <td id=\"T_5b0c6_row3_col3\" class=\"data row3 col3\" >0.7676</td>\n",
       "      <td id=\"T_5b0c6_row3_col4\" class=\"data row3 col4\" >0.7910</td>\n",
       "      <td id=\"T_5b0c6_row3_col5\" class=\"data row3 col5\" >0.5352</td>\n",
       "      <td id=\"T_5b0c6_row3_col6\" class=\"data row3 col6\" >0.5364</td>\n",
       "    </tr>\n",
       "    <tr>\n",
       "      <th id=\"T_5b0c6_level0_row4\" class=\"row_heading level0 row4\" >4</th>\n",
       "      <td id=\"T_5b0c6_row4_col0\" class=\"data row4 col0\" >0.7933</td>\n",
       "      <td id=\"T_5b0c6_row4_col1\" class=\"data row4 col1\" >0.8791</td>\n",
       "      <td id=\"T_5b0c6_row4_col2\" class=\"data row4 col2\" >0.8023</td>\n",
       "      <td id=\"T_5b0c6_row4_col3\" class=\"data row4 col3\" >0.8200</td>\n",
       "      <td id=\"T_5b0c6_row4_col4\" class=\"data row4 col4\" >0.8111</td>\n",
       "      <td id=\"T_5b0c6_row4_col5\" class=\"data row4 col5\" >0.5829</td>\n",
       "      <td id=\"T_5b0c6_row4_col6\" class=\"data row4 col6\" >0.5831</td>\n",
       "    </tr>\n",
       "    <tr>\n",
       "      <th id=\"T_5b0c6_level0_row5\" class=\"row_heading level0 row5\" >Mean</th>\n",
       "      <td id=\"T_5b0c6_row5_col0\" class=\"data row5 col0\" >0.7788</td>\n",
       "      <td id=\"T_5b0c6_row5_col1\" class=\"data row5 col1\" >0.8664</td>\n",
       "      <td id=\"T_5b0c6_row5_col2\" class=\"data row5 col2\" >0.8085</td>\n",
       "      <td id=\"T_5b0c6_row5_col3\" class=\"data row5 col3\" >0.7828</td>\n",
       "      <td id=\"T_5b0c6_row5_col4\" class=\"data row5 col4\" >0.7951</td>\n",
       "      <td id=\"T_5b0c6_row5_col5\" class=\"data row5 col5\" >0.5548</td>\n",
       "      <td id=\"T_5b0c6_row5_col6\" class=\"data row5 col6\" >0.5557</td>\n",
       "    </tr>\n",
       "    <tr>\n",
       "      <th id=\"T_5b0c6_level0_row6\" class=\"row_heading level0 row6\" >Std</th>\n",
       "      <td id=\"T_5b0c6_row6_col0\" class=\"data row6 col0\" >0.0106</td>\n",
       "      <td id=\"T_5b0c6_row6_col1\" class=\"data row6 col1\" >0.0072</td>\n",
       "      <td id=\"T_5b0c6_row6_col2\" class=\"data row6 col2\" >0.0101</td>\n",
       "      <td id=\"T_5b0c6_row6_col3\" class=\"data row6 col3\" >0.0266</td>\n",
       "      <td id=\"T_5b0c6_row6_col4\" class=\"data row6 col4\" >0.0126</td>\n",
       "      <td id=\"T_5b0c6_row6_col5\" class=\"data row6 col5\" >0.0204</td>\n",
       "      <td id=\"T_5b0c6_row6_col6\" class=\"data row6 col6\" >0.0197</td>\n",
       "    </tr>\n",
       "  </tbody>\n",
       "</table>\n"
      ],
      "text/plain": [
       "<pandas.io.formats.style.Styler at 0x1bfedd1edd0>"
      ]
     },
     "metadata": {},
     "output_type": "display_data"
    },
    {
     "data": {
      "text/html": [],
      "text/plain": [
       "<IPython.core.display.HTML object>"
      ]
     },
     "metadata": {},
     "output_type": "display_data"
    },
    {
     "name": "stdout",
     "output_type": "stream",
     "text": [
      "Tuning hyperparameters for model xgboost with custom grid\n"
     ]
    },
    {
     "data": {
      "text/html": [],
      "text/plain": [
       "<IPython.core.display.HTML object>"
      ]
     },
     "metadata": {},
     "output_type": "display_data"
    },
    {
     "data": {
      "text/html": [
       "<style type=\"text/css\">\n",
       "#T_f45a6_row5_col0, #T_f45a6_row5_col1, #T_f45a6_row5_col2, #T_f45a6_row5_col3, #T_f45a6_row5_col4, #T_f45a6_row5_col5, #T_f45a6_row5_col6 {\n",
       "  background: yellow;\n",
       "}\n",
       "</style>\n",
       "<table id=\"T_f45a6\">\n",
       "  <thead>\n",
       "    <tr>\n",
       "      <th class=\"blank level0\" >&nbsp;</th>\n",
       "      <th id=\"T_f45a6_level0_col0\" class=\"col_heading level0 col0\" >Accuracy</th>\n",
       "      <th id=\"T_f45a6_level0_col1\" class=\"col_heading level0 col1\" >AUC</th>\n",
       "      <th id=\"T_f45a6_level0_col2\" class=\"col_heading level0 col2\" >Recall</th>\n",
       "      <th id=\"T_f45a6_level0_col3\" class=\"col_heading level0 col3\" >Prec.</th>\n",
       "      <th id=\"T_f45a6_level0_col4\" class=\"col_heading level0 col4\" >F1</th>\n",
       "      <th id=\"T_f45a6_level0_col5\" class=\"col_heading level0 col5\" >Kappa</th>\n",
       "      <th id=\"T_f45a6_level0_col6\" class=\"col_heading level0 col6\" >MCC</th>\n",
       "    </tr>\n",
       "    <tr>\n",
       "      <th class=\"index_name level0\" >Fold</th>\n",
       "      <th class=\"blank col0\" >&nbsp;</th>\n",
       "      <th class=\"blank col1\" >&nbsp;</th>\n",
       "      <th class=\"blank col2\" >&nbsp;</th>\n",
       "      <th class=\"blank col3\" >&nbsp;</th>\n",
       "      <th class=\"blank col4\" >&nbsp;</th>\n",
       "      <th class=\"blank col5\" >&nbsp;</th>\n",
       "      <th class=\"blank col6\" >&nbsp;</th>\n",
       "    </tr>\n",
       "  </thead>\n",
       "  <tbody>\n",
       "    <tr>\n",
       "      <th id=\"T_f45a6_level0_row0\" class=\"row_heading level0 row0\" >0</th>\n",
       "      <td id=\"T_f45a6_row0_col0\" class=\"data row0 col0\" >0.7859</td>\n",
       "      <td id=\"T_f45a6_row0_col1\" class=\"data row0 col1\" >0.8789</td>\n",
       "      <td id=\"T_f45a6_row0_col2\" class=\"data row0 col2\" >0.7975</td>\n",
       "      <td id=\"T_f45a6_row0_col3\" class=\"data row0 col3\" >0.7975</td>\n",
       "      <td id=\"T_f45a6_row0_col4\" class=\"data row0 col4\" >0.7975</td>\n",
       "      <td id=\"T_f45a6_row0_col5\" class=\"data row0 col5\" >0.5705</td>\n",
       "      <td id=\"T_f45a6_row0_col6\" class=\"data row0 col6\" >0.5705</td>\n",
       "    </tr>\n",
       "    <tr>\n",
       "      <th id=\"T_f45a6_level0_row1\" class=\"row_heading level0 row1\" >1</th>\n",
       "      <td id=\"T_f45a6_row1_col0\" class=\"data row1 col0\" >0.7914</td>\n",
       "      <td id=\"T_f45a6_row1_col1\" class=\"data row1 col1\" >0.8719</td>\n",
       "      <td id=\"T_f45a6_row1_col2\" class=\"data row1 col2\" >0.8167</td>\n",
       "      <td id=\"T_f45a6_row1_col3\" class=\"data row1 col3\" >0.8023</td>\n",
       "      <td id=\"T_f45a6_row1_col4\" class=\"data row1 col4\" >0.8095</td>\n",
       "      <td id=\"T_f45a6_row1_col5\" class=\"data row1 col5\" >0.5789</td>\n",
       "      <td id=\"T_f45a6_row1_col6\" class=\"data row1 col6\" >0.5790</td>\n",
       "    </tr>\n",
       "    <tr>\n",
       "      <th id=\"T_f45a6_level0_row2\" class=\"row_heading level0 row2\" >2</th>\n",
       "      <td id=\"T_f45a6_row2_col0\" class=\"data row2 col0\" >0.7892</td>\n",
       "      <td id=\"T_f45a6_row2_col1\" class=\"data row2 col1\" >0.8758</td>\n",
       "      <td id=\"T_f45a6_row2_col2\" class=\"data row2 col2\" >0.8290</td>\n",
       "      <td id=\"T_f45a6_row2_col3\" class=\"data row2 col3\" >0.7675</td>\n",
       "      <td id=\"T_f45a6_row2_col4\" class=\"data row2 col4\" >0.7971</td>\n",
       "      <td id=\"T_f45a6_row2_col5\" class=\"data row2 col5\" >0.5784</td>\n",
       "      <td id=\"T_f45a6_row2_col6\" class=\"data row2 col6\" >0.5803</td>\n",
       "    </tr>\n",
       "    <tr>\n",
       "      <th id=\"T_f45a6_level0_row3\" class=\"row_heading level0 row3\" >3</th>\n",
       "      <td id=\"T_f45a6_row3_col0\" class=\"data row3 col0\" >0.8076</td>\n",
       "      <td id=\"T_f45a6_row3_col1\" class=\"data row3 col1\" >0.8836</td>\n",
       "      <td id=\"T_f45a6_row3_col2\" class=\"data row3 col2\" >0.8543</td>\n",
       "      <td id=\"T_f45a6_row3_col3\" class=\"data row3 col3\" >0.7992</td>\n",
       "      <td id=\"T_f45a6_row3_col4\" class=\"data row3 col4\" >0.8258</td>\n",
       "      <td id=\"T_f45a6_row3_col5\" class=\"data row3 col5\" >0.6114</td>\n",
       "      <td id=\"T_f45a6_row3_col6\" class=\"data row3 col6\" >0.6131</td>\n",
       "    </tr>\n",
       "    <tr>\n",
       "      <th id=\"T_f45a6_level0_row4\" class=\"row_heading level0 row4\" >4</th>\n",
       "      <td id=\"T_f45a6_row4_col0\" class=\"data row4 col0\" >0.8225</td>\n",
       "      <td id=\"T_f45a6_row4_col1\" class=\"data row4 col1\" >0.8912</td>\n",
       "      <td id=\"T_f45a6_row4_col2\" class=\"data row4 col2\" >0.8395</td>\n",
       "      <td id=\"T_f45a6_row4_col3\" class=\"data row4 col3\" >0.8395</td>\n",
       "      <td id=\"T_f45a6_row4_col4\" class=\"data row4 col4\" >0.8395</td>\n",
       "      <td id=\"T_f45a6_row4_col5\" class=\"data row4 col5\" >0.6410</td>\n",
       "      <td id=\"T_f45a6_row4_col6\" class=\"data row4 col6\" >0.6410</td>\n",
       "    </tr>\n",
       "    <tr>\n",
       "      <th id=\"T_f45a6_level0_row5\" class=\"row_heading level0 row5\" >Mean</th>\n",
       "      <td id=\"T_f45a6_row5_col0\" class=\"data row5 col0\" >0.7993</td>\n",
       "      <td id=\"T_f45a6_row5_col1\" class=\"data row5 col1\" >0.8803</td>\n",
       "      <td id=\"T_f45a6_row5_col2\" class=\"data row5 col2\" >0.8274</td>\n",
       "      <td id=\"T_f45a6_row5_col3\" class=\"data row5 col3\" >0.8012</td>\n",
       "      <td id=\"T_f45a6_row5_col4\" class=\"data row5 col4\" >0.8139</td>\n",
       "      <td id=\"T_f45a6_row5_col5\" class=\"data row5 col5\" >0.5960</td>\n",
       "      <td id=\"T_f45a6_row5_col6\" class=\"data row5 col6\" >0.5968</td>\n",
       "    </tr>\n",
       "    <tr>\n",
       "      <th id=\"T_f45a6_level0_row6\" class=\"row_heading level0 row6\" >Std</th>\n",
       "      <td id=\"T_f45a6_row6_col0\" class=\"data row6 col0\" >0.0138</td>\n",
       "      <td id=\"T_f45a6_row6_col1\" class=\"data row6 col1\" >0.0067</td>\n",
       "      <td id=\"T_f45a6_row6_col2\" class=\"data row6 col2\" >0.0194</td>\n",
       "      <td id=\"T_f45a6_row6_col3\" class=\"data row6 col3\" >0.0229</td>\n",
       "      <td id=\"T_f45a6_row6_col4\" class=\"data row6 col4\" >0.0165</td>\n",
       "      <td id=\"T_f45a6_row6_col5\" class=\"data row6 col5\" >0.0265</td>\n",
       "      <td id=\"T_f45a6_row6_col6\" class=\"data row6 col6\" >0.0265</td>\n",
       "    </tr>\n",
       "  </tbody>\n",
       "</table>\n"
      ],
      "text/plain": [
       "<pandas.io.formats.style.Styler at 0x1bff93b2a70>"
      ]
     },
     "metadata": {},
     "output_type": "display_data"
    },
    {
     "data": {
      "text/html": [],
      "text/plain": [
       "<IPython.core.display.HTML object>"
      ]
     },
     "metadata": {},
     "output_type": "display_data"
    },
    {
     "name": "stdout",
     "output_type": "stream",
     "text": [
      "Fitting 5 folds for each of 10 candidates, totalling 50 fits\n",
      "Transformation Pipeline and Model Successfully Saved\n"
     ]
    },
    {
     "data": {
      "text/html": [
       "<style type=\"text/css\">\n",
       "</style>\n",
       "<table id=\"T_97e7b\">\n",
       "  <thead>\n",
       "    <tr>\n",
       "      <th class=\"blank level0\" >&nbsp;</th>\n",
       "      <th id=\"T_97e7b_level0_col0\" class=\"col_heading level0 col0\" >Model</th>\n",
       "      <th id=\"T_97e7b_level0_col1\" class=\"col_heading level0 col1\" >Accuracy</th>\n",
       "      <th id=\"T_97e7b_level0_col2\" class=\"col_heading level0 col2\" >AUC</th>\n",
       "      <th id=\"T_97e7b_level0_col3\" class=\"col_heading level0 col3\" >Recall</th>\n",
       "      <th id=\"T_97e7b_level0_col4\" class=\"col_heading level0 col4\" >Prec.</th>\n",
       "      <th id=\"T_97e7b_level0_col5\" class=\"col_heading level0 col5\" >F1</th>\n",
       "      <th id=\"T_97e7b_level0_col6\" class=\"col_heading level0 col6\" >Kappa</th>\n",
       "      <th id=\"T_97e7b_level0_col7\" class=\"col_heading level0 col7\" >MCC</th>\n",
       "    </tr>\n",
       "  </thead>\n",
       "  <tbody>\n",
       "    <tr>\n",
       "      <th id=\"T_97e7b_level0_row0\" class=\"row_heading level0 row0\" >0</th>\n",
       "      <td id=\"T_97e7b_row0_col0\" class=\"data row0 col0\" >Extreme Gradient Boosting</td>\n",
       "      <td id=\"T_97e7b_row0_col1\" class=\"data row0 col1\" >0.8125</td>\n",
       "      <td id=\"T_97e7b_row0_col2\" class=\"data row0 col2\" >0.8953</td>\n",
       "      <td id=\"T_97e7b_row0_col3\" class=\"data row0 col3\" >0.8402</td>\n",
       "      <td id=\"T_97e7b_row0_col4\" class=\"data row0 col4\" >0.8160</td>\n",
       "      <td id=\"T_97e7b_row0_col5\" class=\"data row0 col5\" >0.8279</td>\n",
       "      <td id=\"T_97e7b_row0_col6\" class=\"data row0 col6\" >0.6219</td>\n",
       "      <td id=\"T_97e7b_row0_col7\" class=\"data row0 col7\" >0.6223</td>\n",
       "    </tr>\n",
       "  </tbody>\n",
       "</table>\n"
      ],
      "text/plain": [
       "<pandas.io.formats.style.Styler at 0x1bff805ac20>"
      ]
     },
     "metadata": {},
     "output_type": "display_data"
    },
    {
     "name": "stdout",
     "output_type": "stream",
     "text": [
      "Final metrics table:\n",
      "     Metric     Mean   Std Dev\n",
      "0  Accuracy  0.79308  0.007072\n",
      "1       AUC  0.87718  0.008649\n",
      "2    Recall  0.81260  0.010990\n",
      "3     Prec.  0.80732  0.011441\n",
      "4        F1  0.80990  0.008337\n",
      "5     Kappa  0.58272  0.014181\n",
      "6       MCC  0.58284  0.014092\n"
     ]
    }
   ],
   "source": [
    "# Initialize the PyCaret Evaluator\n",
    "evaluator = PyCaretEvaluator(dataset=dataset, target=\"Pneumonia\", experiment_name=\"CP_Pneumonia\", filepath=\"./results\")\n",
    "\n",
    "# Model training and results evaluation\n",
    "evaluator.run_experiment(\n",
    "    train_size=0.8,\n",
    "    fold=5,\n",
    "    fold_strategy='stratifiedkfold',\n",
    "    outer_fold=5,\n",
    "    outer_strategy='stratifiedkfold',\n",
    "    session_id=42,\n",
    "    model='xgboost',\n",
    "    optimize='AUC',\n",
    "    custom_grid=grid_hps\n",
    ")"
   ]
  }
 ],
 "metadata": {
  "kernelspec": {
   "display_name": "Python (pycaret_env)",
   "language": "python",
   "name": "pycaret_env"
  },
  "language_info": {
   "codemirror_mode": {
    "name": "ipython",
    "version": 3
   },
   "file_extension": ".py",
   "mimetype": "text/x-python",
   "name": "python",
   "nbconvert_exporter": "python",
   "pygments_lexer": "ipython3",
   "version": "3.11.9"
  }
 },
 "nbformat": 4,
 "nbformat_minor": 5
}
