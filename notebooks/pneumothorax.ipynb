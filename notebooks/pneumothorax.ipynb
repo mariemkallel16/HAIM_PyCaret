{
 "cells": [
  {
   "cell_type": "markdown",
   "id": "c4139f23",
   "metadata": {},
   "source": [
    "# Pathology prediction (pneumothorax)\n",
    "\n",
    "@References : Soenksen, L.R., Ma, Y., Zeng, C. et al. Integrated multimodal artificial intelligence framework for healthcare applications. npj Digit. Med. 5, 149 (2022). https://doi.org/10.1038/s41746-022-00689-4\n",
    "\n",
    "In this notebook, the task is to predict the pneumothorax pathology using the CSV embeddings file"
   ]
  },
  {
   "cell_type": "markdown",
   "id": "8e9e247e",
   "metadata": {},
   "source": [
    "## Introduction\n"
   ]
  },
  {
   "attachments": {},
   "cell_type": "markdown",
   "id": "321d5924",
   "metadata": {},
   "source": [
    "Radiology notes were processed to determine if each of the pathologies was explicitly confirmed as present (value = 1), explicitly confirmed as absent (value = 0), inconclusive in the study (value = −1), or not explored (no value).\n",
    "\n",
    "Selected samples :  0 or 1 values (removing the rest from the training and testing data).\n",
    "\n",
    "Excluded variables : the unstructured radiology notes component (E_rad ) from the allowable input to avoid potential overfitting or misrepresentations of real predictive value. \n",
    "\n",
    "The model is based on binary classification for each target chest pathology.\n",
    "\n",
    "Final sample size for the Pneumothorax pathology is : (N = 17,159)\n"
   ]
  },
  {
   "cell_type": "markdown",
   "id": "59600fd4",
   "metadata": {},
   "source": [
    "#### Imports"
   ]
  },
  {
   "cell_type": "code",
   "execution_count": 1,
   "id": "2d0990d5",
   "metadata": {},
   "outputs": [],
   "source": [
    "import os\n",
    "os.chdir('../')\n",
    "\n",
    "from pandas import read_csv\n",
    "\n",
    "from src.data import constants\n",
    "from src.data.dataset import HAIMDataset\n",
    "from src.evaluation.pycaret_evaluator import PyCaretEvaluator\n",
    "from src.utils.metric_scores import *"
   ]
  },
  {
   "cell_type": "markdown",
   "id": "645a1fe8",
   "metadata": {},
   "source": [
    "#### Read data from local source\n",
    "\n"
   ]
  },
  {
   "cell_type": "code",
   "execution_count": 2,
   "id": "a948c18c",
   "metadata": {},
   "outputs": [],
   "source": [
    "df = read_csv(constants.FILE_DF, nrows=constants.N_DATA)"
   ]
  },
  {
   "cell_type": "markdown",
   "id": "90a95053",
   "metadata": {},
   "source": [
    "#### Create a custom dataset for the HAIM experiment\n"
   ]
  },
  {
   "cell_type": "markdown",
   "id": "a47ba159",
   "metadata": {},
   "source": [
    "Build the target column for the task at hand, set the dataset specificities:  the ``haim_id`` as a ``global_id``, use all sources except ``radiology notes`` "
   ]
  },
  {
   "cell_type": "code",
   "execution_count": 3,
   "id": "239db8a3",
   "metadata": {},
   "outputs": [],
   "source": [
    "dataset = HAIMDataset(df,  \n",
    "                      constants.CHEST_PREDICTORS, \n",
    "                      constants.ALL_MODALITIES, \n",
    "                      constants.PNEUMOTHORAX, \n",
    "                      constants.IMG_ID, \n",
    "                      constants.GLOBAL_ID)"
   ]
  },
  {
   "cell_type": "markdown",
   "id": "e280f91d",
   "metadata": {},
   "source": [
    "#### Set hyper-parameters"
   ]
  },
  {
   "cell_type": "code",
   "execution_count": 4,
   "id": "8d254fef",
   "metadata": {},
   "outputs": [],
   "source": [
    "# Define the grid oh hyper-parameters for the tuning\n",
    "grid_hps = {'max_depth': [5, 6, 7, 8],\n",
    "            'n_estimators': [200, 300],\n",
    "            'learning_rate': [0.3, 0.1, 0.05],\n",
    "            }"
   ]
  },
  {
   "cell_type": "markdown",
   "id": "75fd10ab",
   "metadata": {},
   "source": [
    "### Model training and predictions using an XGBClassifier model with GridSearchCV and Hyperparameters optimization\n"
   ]
  },
  {
   "cell_type": "markdown",
   "id": "d04a4c63",
   "metadata": {},
   "source": [
    "The goal of this section of the notebook is to compute the following metrics:\n",
    "\n",
    "``ACCURACY_SCORE, BALANCED_ACCURACY_SCORE, SENSITIVITY, SPECIFICITY, AUC, BRIER SCORE, BINARY CROSS-ENTROPY``\n",
    "\n",
    "\n",
    "The\n",
    "hyperparameter combinations of individual XGBoost models were\n",
    "selected within each training loop using a ``fivefold cross-validated\n",
    "grid search`` on the training set (80%). This XGBoost ``tuning process``\n",
    "selected the ``maximum depth of the trees (5–8)``, the number of\n",
    "``estimators (200 or 300)``, and the ``learning rate (0.05, 0.1, 0.3)``\n",
    "according to the parameter value combination leading to the\n",
    "highest observed AUROC within the training loop \n",
    "\n",
    "\n",
    "As mentioned previously, all XGBoost models were trained ``five times with five different data splits`` to repeat the\n",
    "experiments and compute average metrics \n",
    "\n",
    "\n",
    "```Refer to page 8 of study``` : https://doi.org/10.1038/s41746-022-00689-4"
   ]
  },
  {
   "cell_type": "code",
   "execution_count": 5,
   "id": "726c2332",
   "metadata": {},
   "outputs": [
    {
     "name": "stderr",
     "output_type": "stream",
     "text": [
      "2024-09-28 17:23:43,866\tINFO worker.py:1777 -- Started a local Ray instance. View the dashboard at \u001b[1m\u001b[32mhttp://127.0.0.1:8265 \u001b[39m\u001b[22m\n"
     ]
    },
    {
     "name": "stdout",
     "output_type": "stream",
     "text": [
      "\u001b[36m(run_fold pid=831922)\u001b[0m Outer fold 1\n",
      "\u001b[36m(run_fold pid=831922)\u001b[0m Configuring PyCaret for outer fold 1\n",
      "\u001b[36m(run_fold pid=831930)\u001b[0m Outer fold 2\n"
     ]
    },
    {
     "name": "stderr",
     "output_type": "stream",
     "text": [
      "Processing:   0%|          | 0/4 [00:00<?, ?it/s]\n",
      "Processing:  25%|██▌       | 1/4 [00:01<00:03,  1.29s/it]\n",
      "Processing:   0%|          | 0/4 [00:00<?, ?it/s]\n",
      "Processing:  75%|███████▌  | 3/4 [07:07<02:38, 158.29s/it]\u001b[32m [repeated 2x across cluster] (Ray deduplicates logs by default. Set RAY_DEDUP_LOGS=0 to disable log deduplication, or see https://docs.ray.io/en/master/ray-observability/user-guides/configure-logging.html#log-deduplication for more options.)\u001b[0m\n"
     ]
    },
    {
     "name": "stdout",
     "output_type": "stream",
     "text": [
      "\u001b[36m(run_fold pid=831922)\u001b[0m       Accuracy     AUC  Recall   Prec.      F1   Kappa     MCC\n",
      "\u001b[36m(run_fold pid=831922)\u001b[0m Fold                                                          \n",
      "\u001b[36m(run_fold pid=831922)\u001b[0m 0       0.9117  0.8778  0.5508  0.9274  0.6911  0.6434  0.6732\n",
      "\u001b[36m(run_fold pid=831922)\u001b[0m 1       0.9121  0.8681  0.5319  0.8889  0.6655  0.6186  0.6456\n",
      "\u001b[36m(run_fold pid=831922)\u001b[0m 2       0.9021  0.8506  0.4796  0.8800  0.6208  0.5701  0.6048\n",
      "\u001b[36m(run_fold pid=831922)\u001b[0m 3       0.9053  0.8689  0.5357  0.8898  0.6688  0.6175  0.6446\n",
      "\u001b[36m(run_fold pid=831922)\u001b[0m 4       0.9080  0.8939  0.5270  0.9193  0.6699  0.6210  0.6535\n",
      "\u001b[36m(run_fold pid=831922)\u001b[0m Mean    0.9078  0.8719  0.5250  0.9011  0.6632  0.6141  0.6444\n",
      "\u001b[36m(run_fold pid=831922)\u001b[0m Std     0.0038  0.0141  0.0241  0.0187  0.0230  0.0240  0.0223\n",
      "\u001b[36m(run_fold pid=831930)\u001b[0m Configuring PyCaret for outer fold 2\n",
      "\u001b[36m(run_fold pid=831922)\u001b[0m Tuning hyperparameters for model xgboost with custom grid using grid search\n"
     ]
    },
    {
     "name": "stderr",
     "output_type": "stream",
     "text": [
      "                                                          \n",
      "Processing:  75%|███████▌  | 3/4 [07:08<02:38, 158.67s/it]\n",
      "                                                          \n"
     ]
    },
    {
     "name": "stdout",
     "output_type": "stream",
     "text": [
      "\u001b[36m(run_fold pid=831930)\u001b[0m 0       0.9044  0.8909  0.5327  0.8983  0.6688  0.6171  0.6460\n",
      "\u001b[36m(run_fold pid=831930)\u001b[0m 1       0.9112  0.8986  0.5559  0.8644  0.6766  0.6279  0.6485\n",
      "\u001b[36m(run_fold pid=831930)\u001b[0m 2       0.9144  0.8985  0.5559  0.8728  0.6792  0.6326  0.6540\n",
      "\u001b[36m(run_fold pid=831930)\u001b[0m 3       0.8975  0.8635  0.4915  0.9312  0.6434  0.5902  0.6313\n",
      "\u001b[36m(run_fold pid=831930)\u001b[0m 4       0.9057  0.8690  0.5270  0.8991  0.6645  0.6140  0.6437\n",
      "\u001b[36m(run_fold pid=831930)\u001b[0m       Accuracy     AUC  Recall   Prec.      F1   Kappa     MCC\n",
      "\u001b[36m(run_fold pid=831930)\u001b[0m Fold                                                          \n",
      "\u001b[36m(run_fold pid=831930)\u001b[0m Mean    0.9067  0.8841  0.5326  0.8932  0.6665  0.6164  0.6447\n",
      "\u001b[36m(run_fold pid=831930)\u001b[0m Std     0.0058  0.0150  0.0237  0.0234  0.0127  0.0148  0.0075\n",
      "\u001b[36m(run_fold pid=831930)\u001b[0m Tuning hyperparameters for model xgboost with custom grid using grid search\n",
      "\u001b[36m(run_fold pid=831922)\u001b[0m Transformation Pipeline and Model Successfully Saved\n",
      "\u001b[36m(run_fold pid=831922)\u001b[0m                        Model  Accuracy     AUC  ...      F1   Kappa     MCC\n",
      "\u001b[36m(run_fold pid=831922)\u001b[0m 0  Extreme Gradient Boosting    0.9146  0.9137  ...  0.6932  0.6474  0.6781\n",
      "\u001b[36m(run_fold pid=831922)\u001b[0m \n",
      "\u001b[36m(run_fold pid=831922)\u001b[0m [1 rows x 8 columns]\n",
      "\u001b[36m(run_fold pid=831922)\u001b[0m Outer fold 3\n",
      "\u001b[36m(run_fold pid=831922)\u001b[0m Configuring PyCaret for outer fold 3\n"
     ]
    },
    {
     "name": "stderr",
     "output_type": "stream",
     "text": [
      "Processing:   0%|          | 0/4 [00:00<?, ?it/s]\n",
      "Processing:  25%|██▌       | 1/4 [00:01<00:03,  1.16s/it]\n"
     ]
    },
    {
     "name": "stdout",
     "output_type": "stream",
     "text": [
      "\u001b[36m(run_fold pid=831930)\u001b[0m Transformation Pipeline and Model Successfully Saved\n",
      "\u001b[36m(run_fold pid=831930)\u001b[0m                        Model  Accuracy     AUC  ...      F1   Kappa     MCC\n",
      "\u001b[36m(run_fold pid=831930)\u001b[0m 0  Extreme Gradient Boosting    0.9309  0.9187  ...  0.7539  0.7154  0.7333\n",
      "\u001b[36m(run_fold pid=831930)\u001b[0m \n",
      "\u001b[36m(run_fold pid=831930)\u001b[0m [1 rows x 8 columns]\n",
      "\u001b[36m(run_fold pid=831930)\u001b[0m Outer fold 4\n"
     ]
    },
    {
     "name": "stderr",
     "output_type": "stream",
     "text": [
      "Processing:   0%|          | 0/4 [00:00<?, ?it/s]\n"
     ]
    },
    {
     "name": "stdout",
     "output_type": "stream",
     "text": [
      "\u001b[36m(run_fold pid=831930)\u001b[0m Configuring PyCaret for outer fold 4\n"
     ]
    },
    {
     "name": "stderr",
     "output_type": "stream",
     "text": [
      "Processing:  25%|██▌       | 1/4 [00:01<00:03,  1.20s/it]\n",
      "Processing:  75%|███████▌  | 3/4 [06:56<02:34, 154.17s/it]\n"
     ]
    },
    {
     "name": "stdout",
     "output_type": "stream",
     "text": [
      "\u001b[36m(run_fold pid=831922)\u001b[0m       Accuracy     AUC  Recall   Prec.      F1   Kappa     MCC\n",
      "\u001b[36m(run_fold pid=831922)\u001b[0m Fold                                                          \n",
      "\u001b[36m(run_fold pid=831922)\u001b[0m 0       0.9090  0.8880  0.5561  0.9102  0.6904  0.6407  0.6674\n",
      "\u001b[36m(run_fold pid=831922)\u001b[0m 1       0.9085  0.8887  0.5070  0.8835  0.6442  0.5961  0.6264\n",
      "\u001b[36m(run_fold pid=831922)\u001b[0m 2       0.9103  0.8942  0.5515  0.8462  0.6678  0.6186  0.6375\n",
      "\u001b[36m(run_fold pid=831922)\u001b[0m 3       0.9112  0.9018  0.5496  0.9231  0.6890  0.6410  0.6704\n",
      "\u001b[36m(run_fold pid=831922)\u001b[0m 4       0.9071  0.8838  0.5398  0.8936  0.6731  0.6227  0.6496\n",
      "\u001b[36m(run_fold pid=831922)\u001b[0m Mean    0.9092  0.8913  0.5408  0.8913  0.6729  0.6238  0.6503\n",
      "\u001b[36m(run_fold pid=831922)\u001b[0m Std     0.0014  0.0062  0.0177  0.0263  0.0168  0.0166  0.0169\n",
      "\u001b[36m(run_fold pid=831922)\u001b[0m Tuning hyperparameters for model xgboost with custom grid using grid search\n"
     ]
    },
    {
     "name": "stderr",
     "output_type": "stream",
     "text": [
      "                                                          \n",
      "Processing:  75%|███████▌  | 3/4 [06:59<02:35, 155.42s/it]\n",
      "                                                          \n"
     ]
    },
    {
     "name": "stdout",
     "output_type": "stream",
     "text": [
      "\u001b[36m(run_fold pid=831930)\u001b[0m 0       0.9076  0.8793  0.5316  0.9211  0.6742  0.6248  0.6569\n",
      "\u001b[36m(run_fold pid=831930)\u001b[0m 1       0.9112  0.8926  0.5209  0.8905  0.6573  0.6103  0.6393\n",
      "\u001b[36m(run_fold pid=831930)\u001b[0m 2       0.9135  0.8676  0.5227  0.8932  0.6595  0.6138  0.6427\n",
      "\u001b[36m(run_fold pid=831930)\u001b[0m 3       0.9044  0.8886  0.5432  0.8980  0.6769  0.6248  0.6520\n",
      "\u001b[36m(run_fold pid=831930)\u001b[0m 4       0.9039  0.8619  0.5352  0.8613  0.6602  0.6078  0.6312\n",
      "\u001b[36m(run_fold pid=831930)\u001b[0m       Accuracy     AUC  Recall   Prec.      F1   Kappa     MCC\n",
      "\u001b[36m(run_fold pid=831930)\u001b[0m Fold                                                          \n",
      "\u001b[36m(run_fold pid=831930)\u001b[0m Mean    0.9081  0.8780  0.5307  0.8928  0.6656  0.6163  0.6444\n",
      "\u001b[36m(run_fold pid=831930)\u001b[0m Std     0.0037  0.0118  0.0082  0.0191  0.0082  0.0072  0.0091\n",
      "\u001b[36m(run_fold pid=831930)\u001b[0m Tuning hyperparameters for model xgboost with custom grid using grid search\n",
      "\u001b[36m(run_fold pid=831922)\u001b[0m Transformation Pipeline and Model Successfully Saved\n",
      "\u001b[36m(run_fold pid=831922)\u001b[0m                        Model  Accuracy    AUC  ...      F1   Kappa     MCC\n",
      "\u001b[36m(run_fold pid=831922)\u001b[0m 0  Extreme Gradient Boosting    0.9254  0.915  ...  0.7419  0.7007  0.7237\n",
      "\u001b[36m(run_fold pid=831922)\u001b[0m \n",
      "\u001b[36m(run_fold pid=831922)\u001b[0m [1 rows x 8 columns]\n",
      "\u001b[36m(run_fold pid=831922)\u001b[0m Outer fold 5\n",
      "\u001b[36m(run_fold pid=831922)\u001b[0m Configuring PyCaret for outer fold 5\n"
     ]
    },
    {
     "name": "stderr",
     "output_type": "stream",
     "text": [
      "Processing:   0%|          | 0/4 [00:00<?, ?it/s]\n",
      "Processing:  25%|██▌       | 1/4 [00:01<00:03,  1.26s/it]\n",
      "Processing:  75%|███████▌  | 3/4 [06:59<02:35, 155.28s/it]\n"
     ]
    },
    {
     "name": "stdout",
     "output_type": "stream",
     "text": [
      "\u001b[36m(run_fold pid=831922)\u001b[0m       Accuracy     AUC  Recall   Prec.      F1   Kappa     MCC\n",
      "\u001b[36m(run_fold pid=831922)\u001b[0m Fold                                                          \n",
      "\u001b[36m(run_fold pid=831922)\u001b[0m 0       0.9131  0.8854  0.5521  0.9177  0.6894  0.6425  0.6706\n",
      "\u001b[36m(run_fold pid=831922)\u001b[0m 1       0.9071  0.8876  0.5515  0.8770  0.6772  0.6262  0.6493\n",
      "\u001b[36m(run_fold pid=831922)\u001b[0m 2       0.9180  0.8816  0.5320  0.9059  0.6703  0.6271  0.6561\n",
      "\u001b[36m(run_fold pid=831922)\u001b[0m 3       0.8994  0.8727  0.5224  0.8787  0.6552  0.6007  0.6286\n",
      "\u001b[36m(run_fold pid=831922)\u001b[0m 4       0.9053  0.8914  0.5242  0.9075  0.6645  0.6139  0.6453\n",
      "\u001b[36m(run_fold pid=831922)\u001b[0m Mean    0.9086  0.8838  0.5364  0.8974  0.6713  0.6221  0.6500\n",
      "\u001b[36m(run_fold pid=831922)\u001b[0m Std     0.0064  0.0063  0.0130  0.0165  0.0116  0.0140  0.0137\n",
      "\u001b[36m(run_fold pid=831922)\u001b[0m Tuning hyperparameters for model xgboost with custom grid using grid search\n"
     ]
    },
    {
     "name": "stderr",
     "output_type": "stream",
     "text": [
      "                                                          \n"
     ]
    },
    {
     "name": "stdout",
     "output_type": "stream",
     "text": [
      "\u001b[36m(run_fold pid=831930)\u001b[0m Transformation Pipeline and Model Successfully Saved\n",
      "\u001b[36m(run_fold pid=831930)\u001b[0m                        Model  Accuracy     AUC  ...      F1   Kappa    MCC\n",
      "\u001b[36m(run_fold pid=831930)\u001b[0m 0  Extreme Gradient Boosting    0.9237  0.9278  ...  0.7364  0.6946  0.721\n",
      "\u001b[36m(run_fold pid=831930)\u001b[0m \n",
      "\u001b[36m(run_fold pid=831930)\u001b[0m [1 rows x 8 columns]\n",
      "\u001b[36m(run_fold pid=831922)\u001b[0m Transformation Pipeline and Model Successfully Saved\n",
      "\u001b[36m(run_fold pid=831922)\u001b[0m                        Model  Accuracy     AUC  ...      F1   Kappa     MCC\n",
      "\u001b[36m(run_fold pid=831922)\u001b[0m 0  Extreme Gradient Boosting    0.9166  0.9093  ...  0.7058  0.6598  0.6814\n",
      "\u001b[36m(run_fold pid=831922)\u001b[0m \n",
      "\u001b[36m(run_fold pid=831922)\u001b[0m [1 rows x 8 columns]\n",
      "Final metrics table:\n",
      "     Metric     Mean   Std Dev\n",
      "0  Accuracy  0.91096  0.004770\n",
      "1       AUC  0.89616  0.006729\n",
      "2    Recall  0.54564  0.020857\n",
      "3     Prec.  0.92914  0.009705\n",
      "4        F1  0.68742  0.018629\n",
      "5     Kappa  0.63956  0.020556\n",
      "6       MCC  0.67046  0.018303\n"
     ]
    }
   ],
   "source": [
    "# Initialize the PyCaret Evaluator\n",
    "evaluator = PyCaretEvaluator(dataset=dataset, target=\"Pneumothorax\", experiment_name=\"CP_Pneumothorax\", filepath=\"./results/pneumothorax\")\n",
    "\n",
    "# Model training and results evaluation\n",
    "evaluator.run_experiment(\n",
    "    train_size=0.8,\n",
    "    fold=5,\n",
    "    fold_strategy='kfold',\n",
    "    outer_fold=5,\n",
    "    outer_strategy='kfold',\n",
    "    session_id=42,\n",
    "    model='xgboost',\n",
    "    optimize='AUC',\n",
    "    custom_grid=grid_hps\n",
    ")"
   ]
  }
 ],
 "metadata": {
  "kernelspec": {
   "display_name": "Python (pycaret_env)",
   "language": "python",
   "name": "pycaret_env"
  },
  "language_info": {
   "codemirror_mode": {
    "name": "ipython",
    "version": 3
   },
   "file_extension": ".py",
   "mimetype": "text/x-python",
   "name": "python",
   "nbconvert_exporter": "python",
   "pygments_lexer": "ipython3",
   "version": "3.11.9"
  }
 },
 "nbformat": 4,
 "nbformat_minor": 5
}
