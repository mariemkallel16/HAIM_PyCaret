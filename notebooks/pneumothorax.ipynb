{
 "cells": [
  {
   "cell_type": "markdown",
   "id": "c4139f23",
   "metadata": {},
   "source": [
    "# Pathology prediction (pneumothorax)\n",
    "\n",
    "@References : Soenksen, L.R., Ma, Y., Zeng, C. et al. Integrated multimodal artificial intelligence framework for healthcare applications. npj Digit. Med. 5, 149 (2022). https://doi.org/10.1038/s41746-022-00689-4\n",
    "\n",
    "In this notebook, the task is to predict the pneumothorax pathology using the CSV embeddings file"
   ]
  },
  {
   "cell_type": "markdown",
   "id": "8e9e247e",
   "metadata": {},
   "source": [
    "## Introduction\n"
   ]
  },
  {
   "attachments": {},
   "cell_type": "markdown",
   "id": "321d5924",
   "metadata": {},
   "source": [
    "Radiology notes were processed to determine if each of the pathologies was explicitly confirmed as present (value = 1), explicitly confirmed as absent (value = 0), inconclusive in the study (value = −1), or not explored (no value).\n",
    "\n",
    "Selected samples :  0 or 1 values (removing the rest from the training and testing data).\n",
    "\n",
    "Excluded variables : the unstructured radiology notes component (E_rad ) from the allowable input to avoid potential overfitting or misrepresentations of real predictive value. \n",
    "\n",
    "The model is based on binary classification for each target chest pathology.\n",
    "\n",
    "Final sample size for the Pneumothorax pathology is : (N = 17,159)\n"
   ]
  },
  {
   "cell_type": "markdown",
   "id": "59600fd4",
   "metadata": {},
   "source": [
    "#### Imports"
   ]
  },
  {
   "cell_type": "code",
   "execution_count": 1,
   "id": "2d0990d5",
   "metadata": {},
   "outputs": [],
   "source": [
    "import os\n",
    "os.chdir('../')\n",
    "\n",
    "from pandas import read_csv\n",
    "\n",
    "from src.data import constants\n",
    "from src.data.dataset import HAIMDataset\n",
    "from src.evaluation.pycaret_evaluator import PyCaretEvaluator\n",
    "from src.utils.metric_scores import *"
   ]
  },
  {
   "cell_type": "markdown",
   "id": "645a1fe8",
   "metadata": {},
   "source": [
    "#### Read data from local source\n",
    "\n"
   ]
  },
  {
   "cell_type": "code",
   "execution_count": 2,
   "id": "a948c18c",
   "metadata": {},
   "outputs": [],
   "source": [
    "df = read_csv(constants.FILE_DF, nrows=constants.N_DATA)"
   ]
  },
  {
   "cell_type": "markdown",
   "id": "90a95053",
   "metadata": {},
   "source": [
    "#### Create a custom dataset for the HAIM experiment\n"
   ]
  },
  {
   "cell_type": "markdown",
   "id": "a47ba159",
   "metadata": {},
   "source": [
    "Build the target column for the task at hand, set the dataset specificities:  the ``haim_id`` as a ``global_id``, use all sources except ``radiology notes`` "
   ]
  },
  {
   "cell_type": "code",
   "execution_count": 3,
   "id": "239db8a3",
   "metadata": {},
   "outputs": [],
   "source": [
    "dataset = HAIMDataset(df,  \n",
    "                      constants.CHEST_PREDICTORS, \n",
    "                      constants.ALL_MODALITIES, \n",
    "                      constants.PNEUMOTHORAX, \n",
    "                      constants.IMG_ID, \n",
    "                      constants.GLOBAL_ID)"
   ]
  },
  {
   "cell_type": "markdown",
   "id": "e280f91d",
   "metadata": {},
   "source": [
    "#### Set hyper-parameters"
   ]
  },
  {
   "cell_type": "code",
   "execution_count": 4,
   "id": "8d254fef",
   "metadata": {},
   "outputs": [],
   "source": [
    "# Define the grid oh hyper-parameters for the tuning\n",
    "grid_hps = {'max_depth': [5, 6, 7, 8],\n",
    "            'n_estimators': [200, 300],\n",
    "            'learning_rate': [0.3, 0.1, 0.05],\n",
    "            }"
   ]
  },
  {
   "cell_type": "markdown",
   "id": "75fd10ab",
   "metadata": {},
   "source": [
    "### Model training and predictions using an XGBClassifier model with GridSearchCV and Hyperparameters optimization\n"
   ]
  },
  {
   "cell_type": "markdown",
   "id": "d04a4c63",
   "metadata": {},
   "source": [
    "The goal of this section of the notebook is to compute the following metrics:\n",
    "\n",
    "``ACCURACY_SCORE, BALANCED_ACCURACY_SCORE, SENSITIVITY, SPECIFICITY, AUC, BRIER SCORE, BINARY CROSS-ENTROPY``\n",
    "\n",
    "\n",
    "The\n",
    "hyperparameter combinations of individual XGBoost models were\n",
    "selected within each training loop using a ``fivefold cross-validated\n",
    "grid search`` on the training set (80%). This XGBoost ``tuning process``\n",
    "selected the ``maximum depth of the trees (5–8)``, the number of\n",
    "``estimators (200 or 300)``, and the ``learning rate (0.05, 0.1, 0.3)``\n",
    "according to the parameter value combination leading to the\n",
    "highest observed AUROC within the training loop \n",
    "\n",
    "\n",
    "As mentioned previously, all XGBoost models were trained ``five times with five different data splits`` to repeat the\n",
    "experiments and compute average metrics \n",
    "\n",
    "\n",
    "```Refer to page 8 of study``` : https://doi.org/10.1038/s41746-022-00689-4"
   ]
  },
  {
   "cell_type": "code",
   "execution_count": 5,
   "id": "726c2332",
   "metadata": {},
   "outputs": [
    {
     "name": "stderr",
     "output_type": "stream",
     "text": [
      "2024-10-21 16:37:00,227\tINFO worker.py:1777 -- Started a local Ray instance. View the dashboard at \u001b[1m\u001b[32mhttp://127.0.0.1:8265 \u001b[39m\u001b[22m\n"
     ]
    },
    {
     "name": "stdout",
     "output_type": "stream",
     "text": [
      "\u001b[36m(run_fold pid=352119)\u001b[0m Outer fold 1\n",
      "\u001b[36m(run_fold pid=352119)\u001b[0m Train indices: [    0     1     2 ... 17156 17157 17158]\n",
      "\u001b[36m(run_fold pid=352119)\u001b[0m Test indices: [   13    14    15 ... 17135 17147 17155]\n",
      "\u001b[36m(run_fold pid=352119)\u001b[0m Configuring PyCaret for outer fold 1\n",
      "\u001b[36m(run_fold pid=352122)\u001b[0m Outer fold 2\n",
      "\u001b[36m(run_fold pid=352122)\u001b[0m Train indices: [    0     1     2 ... 17155 17157 17158]\n",
      "\u001b[36m(run_fold pid=352122)\u001b[0m Test indices: [    3     6     8 ... 17152 17154 17156]\n"
     ]
    },
    {
     "name": "stderr",
     "output_type": "stream",
     "text": [
      "Processing:   0%|          | 0/4 [00:00<?, ?it/s]\n",
      "Processing:  25%|██▌       | 1/4 [00:01<00:03,  1.27s/it]\n",
      "Processing:   0%|          | 0/4 [00:00<?, ?it/s]\n",
      "Processing:  75%|███████▌  | 3/4 [07:00<02:35, 155.51s/it]\u001b[32m [repeated 2x across cluster] (Ray deduplicates logs by default. Set RAY_DEDUP_LOGS=0 to disable log deduplication, or see https://docs.ray.io/en/master/ray-observability/user-guides/configure-logging.html#log-deduplication for more options.)\u001b[0m\n"
     ]
    },
    {
     "name": "stdout",
     "output_type": "stream",
     "text": [
      "\u001b[36m(run_fold pid=352122)\u001b[0m       Accuracy     AUC  Recall   Prec.      F1   Kappa     MCC\n",
      "\u001b[36m(run_fold pid=352122)\u001b[0m Fold                                                          \n",
      "\u001b[36m(run_fold pid=352122)\u001b[0m 0       0.9126  0.8939  0.5759  0.8800  0.6962  0.6477  0.6676\n",
      "\u001b[36m(run_fold pid=352122)\u001b[0m 1       0.9144  0.9043  0.5733  0.8975  0.6997  0.6526  0.6749\n",
      "\u001b[36m(run_fold pid=352122)\u001b[0m 2       0.9030  0.8527  0.5249  0.8621  0.6525  0.6000  0.6250\n",
      "\u001b[36m(run_fold pid=352122)\u001b[0m 3       0.9144  0.8781  0.5591  0.9142  0.6938  0.6474  0.6739\n",
      "\u001b[36m(run_fold pid=352122)\u001b[0m 4       0.9071  0.8892  0.4961  0.9403  0.6495  0.6018  0.6427\n",
      "\u001b[36m(run_fold pid=352122)\u001b[0m Mean    0.9103  0.8836  0.5459  0.8988  0.6783  0.6299  0.6568\n",
      "\u001b[36m(run_fold pid=352122)\u001b[0m Std     0.0045  0.0176  0.0308  0.0271  0.0224  0.0238  0.0197\n",
      "\u001b[36m(run_fold pid=352122)\u001b[0m Configuring PyCaret for outer fold 2\n",
      "\u001b[36m(run_fold pid=352122)\u001b[0m Tuning hyperparameters for model xgboost with custom grid using grid search\n"
     ]
    },
    {
     "name": "stderr",
     "output_type": "stream",
     "text": [
      "                                                          \n",
      "Processing:  75%|███████▌  | 3/4 [07:03<02:36, 156.57s/it]\n"
     ]
    },
    {
     "name": "stdout",
     "output_type": "stream",
     "text": [
      "\u001b[36m(run_fold pid=352119)\u001b[0m 0       0.9103  0.8928  0.5497  0.8936  0.6807  0.6320  0.6572\n",
      "\u001b[36m(run_fold pid=352119)\u001b[0m 1       0.9098  0.8933  0.5550  0.8833  0.6817  0.6323  0.6555\n",
      "\u001b[36m(run_fold pid=352119)\u001b[0m 2       0.9057  0.8889  0.5302  0.8783  0.6612  0.6103  0.6366\n",
      "\u001b[36m(run_fold pid=352119)\u001b[0m 3       0.8998  0.8724  0.4961  0.8710  0.6321  0.5791  0.6099\n",
      "\u001b[36m(run_fold pid=352119)\u001b[0m 4       0.9048  0.8937  0.5328  0.8675  0.6602  0.6085  0.6329\n",
      "\u001b[36m(run_fold pid=352119)\u001b[0m Transformation Pipeline and Model Successfully Saved\n",
      "\u001b[36m(run_fold pid=352119)\u001b[0m       Accuracy     AUC  Recall   Prec.      F1   Kappa     MCC\n",
      "\u001b[36m(run_fold pid=352119)\u001b[0m Fold                                                          \n",
      "\u001b[36m(run_fold pid=352119)\u001b[0m Mean    0.9061  0.8882  0.5328  0.8787  0.6632  0.6124  0.6384\n",
      "\u001b[36m(run_fold pid=352119)\u001b[0m Std     0.0038  0.0081  0.0207  0.0093  0.0180  0.0195  0.0173\n",
      "\u001b[36m(run_fold pid=352119)\u001b[0m Tuning hyperparameters for model xgboost with custom grid using grid search\n",
      "\u001b[36m(run_fold pid=352119)\u001b[0m                        Model  Accuracy     AUC  ...      F1   Kappa    MCC\n",
      "\u001b[36m(run_fold pid=352119)\u001b[0m 0  Extreme Gradient Boosting    0.9219  0.9006  ...  0.7304  0.6868  0.706\n",
      "\u001b[36m(run_fold pid=352119)\u001b[0m \n",
      "\u001b[36m(run_fold pid=352119)\u001b[0m [1 rows x 8 columns]\n",
      "\u001b[36m(run_fold pid=352119)\u001b[0m Outer fold 3\n",
      "\u001b[36m(run_fold pid=352119)\u001b[0m Train indices: [    2     3     4 ... 17154 17155 17156]\n",
      "\u001b[36m(run_fold pid=352119)\u001b[0m Test indices: [    0     1    10 ... 17149 17157 17158]\n"
     ]
    },
    {
     "name": "stderr",
     "output_type": "stream",
     "text": [
      "Processing:   0%|          | 0/4 [00:00<?, ?it/s]\n",
      "                                                          \n"
     ]
    },
    {
     "name": "stdout",
     "output_type": "stream",
     "text": [
      "\u001b[36m(run_fold pid=352119)\u001b[0m Configuring PyCaret for outer fold 3\n"
     ]
    },
    {
     "name": "stderr",
     "output_type": "stream",
     "text": [
      "Processing:  25%|██▌       | 1/4 [00:01<00:03,  1.25s/it]\n",
      "Processing:  75%|███████▌  | 3/4 [06:48<02:31, 151.02s/it]\n"
     ]
    },
    {
     "name": "stdout",
     "output_type": "stream",
     "text": [
      "\u001b[36m(run_fold pid=352122)\u001b[0m Transformation Pipeline and Model Successfully Saved\n",
      "\u001b[36m(run_fold pid=352122)\u001b[0m                        Model  Accuracy     AUC  ...      F1   Kappa     MCC\n",
      "\u001b[36m(run_fold pid=352122)\u001b[0m 0  Extreme Gradient Boosting    0.9181  0.9126  ...  0.7082  0.6637  0.6901\n",
      "\u001b[36m(run_fold pid=352122)\u001b[0m \n",
      "\u001b[36m(run_fold pid=352122)\u001b[0m [1 rows x 8 columns]\n",
      "\u001b[36m(run_fold pid=352122)\u001b[0m Outer fold 4\n",
      "\u001b[36m(run_fold pid=352122)\u001b[0m Train indices: [    0     1     2 ... 17156 17157 17158]\n",
      "\u001b[36m(run_fold pid=352122)\u001b[0m Test indices: [    4     5     9 ... 17139 17141 17150]\n",
      "\u001b[36m(run_fold pid=352122)\u001b[0m Configuring PyCaret for outer fold 4\n"
     ]
    },
    {
     "name": "stderr",
     "output_type": "stream",
     "text": [
      "Processing:   0%|          | 0/4 [00:00<?, ?it/s]\n",
      "Processing:  25%|██▌       | 1/4 [00:01<00:03,  1.23s/it]\n",
      "                                                          \n"
     ]
    },
    {
     "name": "stdout",
     "output_type": "stream",
     "text": [
      "\u001b[36m(run_fold pid=352119)\u001b[0m       Accuracy     AUC  Recall   Prec.      F1   Kappa     MCC\n",
      "\u001b[36m(run_fold pid=352119)\u001b[0m Fold                                                          \n",
      "\u001b[36m(run_fold pid=352119)\u001b[0m 0       0.9030  0.8693  0.5157  0.8756  0.6491  0.5972  0.6254\n",
      "\u001b[36m(run_fold pid=352119)\u001b[0m 1       0.8966  0.8647  0.4843  0.8605  0.6198  0.5653  0.5966\n",
      "\u001b[36m(run_fold pid=352119)\u001b[0m 2       0.9030  0.8771  0.5144  0.8750  0.6479  0.5960  0.6244\n",
      "\u001b[36m(run_fold pid=352119)\u001b[0m 3       0.9167  0.8959  0.5906  0.8929  0.7109  0.6646  0.6840\n",
      "\u001b[36m(run_fold pid=352119)\u001b[0m 4       0.9062  0.8833  0.5118  0.9070  0.6544  0.6049  0.6381\n",
      "\u001b[36m(run_fold pid=352119)\u001b[0m Mean    0.9051  0.8781  0.5234  0.8822  0.6564  0.6056  0.6337\n",
      "\u001b[36m(run_fold pid=352119)\u001b[0m Std     0.0066  0.0110  0.0355  0.0161  0.0298  0.0324  0.0286\n",
      "\u001b[36m(run_fold pid=352119)\u001b[0m Tuning hyperparameters for model xgboost with custom grid using grid search\n"
     ]
    },
    {
     "name": "stderr",
     "output_type": "stream",
     "text": [
      "Processing:  75%|███████▌  | 3/4 [06:47<02:30, 150.81s/it]\n"
     ]
    },
    {
     "name": "stdout",
     "output_type": "stream",
     "text": [
      "\u001b[36m(run_fold pid=352122)\u001b[0m 0       0.8999  0.8737  0.5079  0.8584  0.6382  0.5844  0.6116\n",
      "\u001b[36m(run_fold pid=352122)\u001b[0m 1       0.9021  0.8722  0.4974  0.8920  0.6387  0.5872  0.6208\n",
      "\u001b[36m(run_fold pid=352122)\u001b[0m 2       0.9030  0.8825  0.5171  0.8717  0.6491  0.5970  0.6245\n",
      "\u001b[36m(run_fold pid=352122)\u001b[0m 3       0.9103  0.8773  0.5643  0.8740  0.6858  0.6363  0.6570\n",
      "\u001b[36m(run_fold pid=352122)\u001b[0m 4       0.9199  0.8796  0.5696  0.9476  0.7115  0.6683  0.6975\n",
      "\u001b[36m(run_fold pid=352122)\u001b[0m       Accuracy     AUC  Recall   Prec.      F1   Kappa     MCC\n",
      "\u001b[36m(run_fold pid=352122)\u001b[0m Fold                                                          \n",
      "\u001b[36m(run_fold pid=352122)\u001b[0m Mean    0.9070  0.8771  0.5312  0.8887  0.6646  0.6147  0.6423\n",
      "\u001b[36m(run_fold pid=352122)\u001b[0m Std     0.0073  0.0038  0.0299  0.0313  0.0292  0.0326  0.0316\n",
      "\u001b[36m(run_fold pid=352122)\u001b[0m Tuning hyperparameters for model xgboost with custom grid using grid search\n"
     ]
    },
    {
     "name": "stderr",
     "output_type": "stream",
     "text": [
      "                                                          \n"
     ]
    },
    {
     "name": "stdout",
     "output_type": "stream",
     "text": [
      "\u001b[36m(run_fold pid=352119)\u001b[0m Transformation Pipeline and Model Successfully Saved\n",
      "\u001b[36m(run_fold pid=352119)\u001b[0m                        Model  Accuracy     AUC  ...      F1   Kappa     MCC\n",
      "\u001b[36m(run_fold pid=352119)\u001b[0m 0  Extreme Gradient Boosting    0.9222  0.9172  ...  0.7216  0.6794  0.7077\n",
      "\u001b[36m(run_fold pid=352119)\u001b[0m \n",
      "\u001b[36m(run_fold pid=352119)\u001b[0m [1 rows x 8 columns]\n",
      "\u001b[36m(run_fold pid=352119)\u001b[0m Outer fold 5\n",
      "\u001b[36m(run_fold pid=352122)\u001b[0m Transformation Pipeline and Model Successfully Saved\n",
      "\u001b[36m(run_fold pid=352119)\u001b[0m Train indices: [    0     1     3 ... 17156 17157 17158]\n",
      "\u001b[36m(run_fold pid=352119)\u001b[0m Test indices: [    2     7    12 ... 17146 17151 17153]\n",
      "\u001b[36m(run_fold pid=352122)\u001b[0m \n"
     ]
    },
    {
     "name": "stderr",
     "output_type": "stream",
     "text": [
      "Processing:   0%|          | 0/4 [00:00<?, ?it/s]\n"
     ]
    },
    {
     "name": "stdout",
     "output_type": "stream",
     "text": [
      "\u001b[36m(run_fold pid=352119)\u001b[0m Configuring PyCaret for outer fold 5\n",
      "\u001b[36m(run_fold pid=352122)\u001b[0m                        Model  Accuracy     AUC  ...      F1   Kappa     MCC\n",
      "\u001b[36m(run_fold pid=352122)\u001b[0m 0  Extreme Gradient Boosting    0.9301  0.9202  ...  0.7595  0.7204  0.7395\n",
      "\u001b[36m(run_fold pid=352122)\u001b[0m [1 rows x 8 columns]\n"
     ]
    },
    {
     "name": "stderr",
     "output_type": "stream",
     "text": [
      "Processing:  25%|██▌       | 1/4 [00:01<00:03,  1.21s/it]\n",
      "Processing:  75%|███████▌  | 3/4 [06:26<02:23, 143.10s/it]\n",
      "                                                          \n"
     ]
    },
    {
     "name": "stdout",
     "output_type": "stream",
     "text": [
      "\u001b[36m(run_fold pid=352119)\u001b[0m       Accuracy     AUC  Recall   Prec.      F1   Kappa     MCC\n",
      "\u001b[36m(run_fold pid=352119)\u001b[0m Fold                                                          \n",
      "\u001b[36m(run_fold pid=352119)\u001b[0m 0       0.9085  0.8677  0.5419  0.8884  0.6732  0.6236  0.6494\n",
      "\u001b[36m(run_fold pid=352119)\u001b[0m 1       0.9053  0.8679  0.5288  0.8783  0.6601  0.6090  0.6355\n",
      "\u001b[36m(run_fold pid=352119)\u001b[0m 2       0.8966  0.8590  0.4672  0.8812  0.6106  0.5574  0.5948\n",
      "\u001b[36m(run_fold pid=352119)\u001b[0m 3       0.9048  0.8603  0.5092  0.8981  0.6499  0.5997  0.6321\n",
      "\u001b[36m(run_fold pid=352119)\u001b[0m 4       0.9121  0.8828  0.5591  0.8950  0.6882  0.6402  0.6642\n",
      "\u001b[36m(run_fold pid=352119)\u001b[0m Mean    0.9055  0.8675  0.5212  0.8882  0.6564  0.6060  0.6352\n",
      "\u001b[36m(run_fold pid=352119)\u001b[0m Std     0.0051  0.0085  0.0316  0.0077  0.0262  0.0279  0.0232\n",
      "\u001b[36m(run_fold pid=352119)\u001b[0m Tuning hyperparameters for model xgboost with custom grid using grid search\n",
      "\u001b[36m(run_fold pid=352119)\u001b[0m Transformation Pipeline and Model Successfully Saved\n",
      "\u001b[36m(run_fold pid=352119)\u001b[0m                        Model  Accuracy     AUC  ...      F1  Kappa     MCC\n",
      "\u001b[36m(run_fold pid=352119)\u001b[0m 0  Extreme Gradient Boosting    0.9196  0.9191  ...  0.7172  0.673  0.6962\n",
      "\u001b[36m(run_fold pid=352119)\u001b[0m \n",
      "\u001b[36m(run_fold pid=352119)\u001b[0m [1 rows x 8 columns]\n"
     ]
    },
    {
     "name": "stderr",
     "output_type": "stream",
     "text": [
      "\u001b[36m(raylet)\u001b[0m Spilled 7659 MiB, 15 objects, write throughput 1327 MiB/s. Set RAY_verbose_spill_logs=0 to disable this message.\n",
      "\u001b[33m(raylet)\u001b[0m [2024-10-22 15:55:01,994 E 352020 352020] (raylet) node_manager.cc:3065: 1 Workers (tasks / actors) killed due to memory pressure (OOM), 0 Workers crashed due to other reasons at node (ID: 852018e6044b47b3741b52a8d7dd68d1f083fb92e9c7b6b292aa1541, IP: 10.44.86.85) over the last time period. To see more information about the Workers killed on this node, use `ray logs raylet.out -ip 10.44.86.85`\n",
      "\u001b[33m(raylet)\u001b[0m \n",
      "\u001b[33m(raylet)\u001b[0m Refer to the documentation on how to address the out of memory issue: https://docs.ray.io/en/latest/ray-core/scheduling/ray-oom-prevention.html. Consider provisioning more memory on this node or reducing task parallelism by requesting more CPUs per task. To adjust the kill threshold, set the environment variable `RAY_memory_usage_threshold` when starting Ray. To disable worker killing, set the environment variable `RAY_memory_monitor_refresh_ms` to zero.\n"
     ]
    },
    {
     "name": "stdout",
     "output_type": "stream",
     "text": [
      "Final metrics table:\n",
      "     Metric     Mean   Std Dev\n",
      "0  Accuracy  0.91280  0.003134\n",
      "1       AUC  0.89782  0.012412\n",
      "2    Recall  0.55234  0.022815\n",
      "3     Prec.  0.91136  0.011377\n",
      "4        F1  0.68752  0.016419\n",
      "5     Kappa  0.64042  0.017331\n",
      "6       MCC  0.66772  0.013369\n",
      "Best hyperparameters across all folds: objective                  binary:logistic\n",
      "base_score                             NaN\n",
      "booster                             gbtree\n",
      "callbacks                              NaN\n",
      "colsample_bylevel                      NaN\n",
      "colsample_bynode                       NaN\n",
      "colsample_bytree                       NaN\n",
      "device                                 cpu\n",
      "early_stopping_rounds                  NaN\n",
      "enable_categorical                   False\n",
      "eval_metric                            NaN\n",
      "feature_types                          NaN\n",
      "gamma                                  NaN\n",
      "grow_policy                            NaN\n",
      "importance_type                        NaN\n",
      "interaction_constraints                NaN\n",
      "learning_rate                          0.1\n",
      "max_bin                                NaN\n",
      "max_cat_threshold                      NaN\n",
      "max_cat_to_onehot                      NaN\n",
      "max_delta_step                         NaN\n",
      "max_depth                                8\n",
      "max_leaves                             NaN\n",
      "min_child_weight                       NaN\n",
      "missing                                NaN\n",
      "monotone_constraints                   NaN\n",
      "multi_strategy                         NaN\n",
      "n_estimators                           300\n",
      "n_jobs                                   1\n",
      "num_parallel_tree                      NaN\n",
      "random_state                            42\n",
      "reg_alpha                              NaN\n",
      "reg_lambda                             NaN\n",
      "sampling_method                        NaN\n",
      "scale_pos_weight                       NaN\n",
      "subsample                              NaN\n",
      "tree_method                           auto\n",
      "validate_parameters                    NaN\n",
      "verbosity                                0\n",
      "Name: 0, dtype: object\n"
     ]
    }
   ],
   "source": [
    "# Initialize the PyCaret Evaluator\n",
    "evaluator = PyCaretEvaluator(dataset=dataset, target=\"Pneumothorax\", experiment_name=\"CP_Pneumothorax\", filepath=\"./results/pneumothorax\")\n",
    "\n",
    "# Model training and results evaluation\n",
    "evaluator.run_experiment(\n",
    "    train_size=0.8,\n",
    "    fold=5,\n",
    "    fold_strategy='stratifiedkfold',\n",
    "    outer_fold=5,\n",
    "    outer_strategy='stratifiedkfold',\n",
    "    session_id=42,\n",
    "    model='xgboost',\n",
    "    optimize='AUC',\n",
    "    custom_grid=grid_hps\n",
    ")"
   ]
  }
 ],
 "metadata": {
  "kernelspec": {
   "display_name": "Python (pycaret_env)",
   "language": "python",
   "name": "pycaret_env"
  },
  "language_info": {
   "codemirror_mode": {
    "name": "ipython",
    "version": 3
   },
   "file_extension": ".py",
   "mimetype": "text/x-python",
   "name": "python",
   "nbconvert_exporter": "python",
   "pygments_lexer": "ipython3",
   "version": "3.11.9"
  }
 },
 "nbformat": 4,
 "nbformat_minor": 5
}
